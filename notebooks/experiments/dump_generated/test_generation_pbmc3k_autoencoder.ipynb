{
 "cells": [
  {
   "cell_type": "code",
   "execution_count": 33,
   "id": "0e922d7a-94d3-4835-b329-a92f7a0cedea",
   "metadata": {},
   "outputs": [],
   "source": [
    "import numpy as np\n",
    "import pandas as pd\n",
    "import yaml\n",
    "import torch\n",
    "from copy import deepcopy\n",
    "from tqdm import tqdm\n",
    "import matplotlib.pyplot as plt\n",
    "from celldreamer.eval.eval_utils import normalize_and_compute_metrics\n",
    "import scipy.sparse as sp\n",
    "\n",
    "from torch import nn\n",
    "import scanpy as sc    \n",
    "\n",
    "from celldreamer.data.scrnaseq_loader import RNAseqLoader\n",
    "from celldreamer.models.featurizers.category_featurizer import CategoricalFeaturizer\n",
    "from celldreamer.models.fm.fm import FM\n",
    "from celldreamer.eval.optimal_transport import wasserstein\n",
    "import random\n",
    "from celldreamer.models.base.encoder_model import EncoderModel\n",
    "from celldreamer.models.base.utils import unsqueeze_right\n",
    "\n",
    "import time\n",
    "from celldreamer.paths import DATA_DIR\n",
    "\n",
    "device  = \"cuda\" if torch.cuda.is_available() else \"cpu\"\n",
    "\n",
    "sc.settings.figdir = 'figures'  # Directory to save figures\n",
    "sc.settings.set_figure_params(dpi=80, frameon=False, figsize=(6, 6)) "
   ]
  },
  {
   "cell_type": "markdown",
   "id": "2337906d-bdfa-47b1-a00b-a56ead7770bf",
   "metadata": {},
   "source": [
    "## Step 1: Initialize data"
   ]
  },
  {
   "cell_type": "code",
   "execution_count": 34,
   "id": "9d122123-ecb5-407c-a31f-4be515dbc482",
   "metadata": {},
   "outputs": [
    {
     "name": "stderr",
     "output_type": "stream",
     "text": [
      "/home/icb/alessandro.palma/miniconda3/envs/celldreamer/lib/python3.10/site-packages/anndata/__init__.py:51: FutureWarning: `anndata.read` is deprecated, use `anndata.read_h5ad` instead. `ad.read` will be removed in mid 2024.\n",
      "  warnings.warn(\n"
     ]
    }
   ],
   "source": [
    "dataset_config = {'dataset_path': DATA_DIR / 'processed_full_genome' / 'pbmc3k' / 'pbmc3k_train.h5ad',\n",
    "                    'layer_key': 'X_counts',\n",
    "                    'covariate_keys': ['cell_type'],\n",
    "                    'conditioning_covariate': 'cell_type',\n",
    "                    'subsample_frac': 1,\n",
    "                    'encoder_type': 'learnt_autoencoder',\n",
    "                    'target_max': 1,\n",
    "                    'target_min': -1,\n",
    "                    'one_hot_encode_features': False,\n",
    "                    'split_rates': [0.90, 0.10],\n",
    "                    'cov_embedding_dimensions': 256}\n",
    "\n",
    "data_path = dataset_config[\"dataset_path\"]\n",
    "\n",
    "dataset = RNAseqLoader(data_path=data_path,\n",
    "                                layer_key=dataset_config[\"layer_key\"],\n",
    "                                covariate_keys=dataset_config[\"covariate_keys\"],\n",
    "                                subsample_frac=dataset_config[\"subsample_frac\"], \n",
    "                                encoder_type=dataset_config[\"encoder_type\"])\n",
    "\n",
    "in_dim = dataset.X.shape[1]\n",
    "size_factor_statistics = {\"mean\": dataset.log_size_factor_mu, \n",
    "                                  \"sd\": dataset.log_size_factor_sd}\n",
    "n_cat = len(dataset.id2cov[\"cell_type\"])"
   ]
  },
  {
   "cell_type": "markdown",
   "id": "01e52db6-ea20-4c88-ad5e-8744267372b5",
   "metadata": {},
   "source": [
    "## Step 2: Initialize encoder"
   ]
  },
  {
   "cell_type": "code",
   "execution_count": 35,
   "id": "05c31d1f-75d4-41ab-a58e-ff894e8a5cc0",
   "metadata": {},
   "outputs": [],
   "source": [
    "encoder_config = {\n",
    "    \"x0_from_x_kwargs\": {\n",
    "        \"dims\": [512, 256, 50],\n",
    "        \"batch_norm\": True,\n",
    "        \"dropout\": False,\n",
    "        \"dropout_p\": 0.0\n",
    "    },\n",
    "    \"learning_rate\": 0.001,\n",
    "    \"weight_decay\": 0.00001,\n",
    "    \"covariate_specific_theta\": False\n",
    "}\n",
    "\n",
    "state_dict_path = \"/home/icb/alessandro.palma/environment/cfgen/project_folder/experiments/off_train_autoencoder_pbmc3k_whole_genome/3d875b67-d126-496c-9860-38ff7f25d7c4/checkpoints/epoch_39.ckpt\""
   ]
  },
  {
   "cell_type": "code",
   "execution_count": 36,
   "id": "5037fb6f-d5d9-4d51-bfb4-c42e73ff043a",
   "metadata": {},
   "outputs": [
    {
     "data": {
      "text/plain": [
       "<All keys matched successfully>"
      ]
     },
     "execution_count": 36,
     "metadata": {},
     "output_type": "execute_result"
    }
   ],
   "source": [
    "encoder_model = EncoderModel(in_dim=in_dim,\n",
    "                              n_cat=n_cat,\n",
    "                              conditioning_covariate=dataset_config[\"conditioning_covariate\"], \n",
    "                              encoder_type=dataset_config[\"encoder_type\"],\n",
    "                              **encoder_config)\n",
    "encoder_model.eval()\n",
    "\n",
    "encoder_model.load_state_dict(torch.load(state_dict_path)[\"state_dict\"])"
   ]
  },
  {
   "cell_type": "markdown",
   "id": "fedbd845-234d-437e-80f5-6b1c0a59695c",
   "metadata": {},
   "source": [
    "## Step 3: Initialize FM model"
   ]
  },
  {
   "cell_type": "code",
   "execution_count": 37,
   "id": "39190b2e-831f-4aca-a25c-4651e4b4cdc6",
   "metadata": {},
   "outputs": [],
   "source": [
    "generative_model_config = {'learning_rate': 0.0001,\n",
    "                            'weight_decay': 0.00001,\n",
    "                            'antithetic_time_sampling': True,\n",
    "                            'sigma': 0.0001}"
   ]
  },
  {
   "cell_type": "code",
   "execution_count": 38,
   "id": "98f49071-05c8-41a8-8a4b-83600981491e",
   "metadata": {
    "scrolled": true
   },
   "outputs": [],
   "source": [
    "ckpt = torch.load(\"/home/icb/alessandro.palma/environment/cfgen/project_folder/experiments/off_fm_resnet_autoencoder_pbmc3k_whole_genome/b6b1fb30-1b8d-4d9b-8c00-f58f23367b19/checkpoints/last.ckpt\")\n",
    "\n",
    "denoising_model = ckpt[\"hyper_parameters\"][\"denoising_model\"]\n",
    "denoising_model.multimodal = False"
   ]
  },
  {
   "cell_type": "code",
   "execution_count": 39,
   "id": "0fd5db02-e71b-4115-9348-5e52d10da9cb",
   "metadata": {
    "scrolled": true
   },
   "outputs": [
    {
     "name": "stdout",
     "output_type": "stream",
     "text": [
      "Parameter containing:\n",
      "tensor([[ 1.3343e+00,  1.1401e+00, -1.1326e-02,  1.1757e-01,  8.1635e-01,\n",
      "          1.5170e+00,  8.3499e-01, -3.6726e-01,  8.8410e-02,  1.1158e+00,\n",
      "          8.5832e-01,  1.8144e-01, -1.1622e+00, -1.3392e-01, -1.7155e+00,\n",
      "          8.4412e-01, -6.7365e-01,  5.4310e-01,  5.7271e-01, -9.0850e-01,\n",
      "          7.1607e-01, -1.7781e-02, -1.4798e+00,  1.5720e+00, -9.1002e-01,\n",
      "          8.3512e-01,  1.0769e-01,  5.2147e-01, -8.5458e-01, -1.6249e+00,\n",
      "          4.9104e-01, -1.1604e+00, -1.4665e+00, -4.6937e-01,  1.3544e+00,\n",
      "         -1.7433e-02, -5.2431e-02,  1.1375e-01, -1.5334e+00, -9.6479e-01,\n",
      "         -1.6626e+00, -9.1476e-01, -6.6374e-01, -9.9476e-01, -1.9212e-01,\n",
      "         -3.2458e-01, -1.2784e+00, -5.1118e-01, -8.5467e-01, -4.1385e-01,\n",
      "         -2.6076e-01,  5.0352e-01, -6.2221e-01, -1.0868e-02, -1.5696e+00,\n",
      "          1.1239e+00,  5.1975e-01,  3.8708e-01, -1.2964e+00,  3.2698e-02,\n",
      "          9.1091e-01, -1.5019e+00, -3.9384e-01,  2.5085e+00, -3.0349e-01,\n",
      "          2.0367e-01, -1.1198e+00,  2.8134e-01,  1.8940e+00, -6.5816e-01,\n",
      "          4.6017e-01,  1.1479e-01,  1.3022e+00, -3.2388e-01,  8.1837e-01,\n",
      "         -5.7103e-01, -2.3966e-01,  1.2533e+00,  6.3775e-01,  1.2598e+00,\n",
      "          9.2090e-01,  1.1347e-01, -3.1348e-01, -2.1450e+00,  1.0714e-01,\n",
      "          3.6988e-01, -2.8377e+00,  6.1441e-01, -1.4949e-01,  1.5021e+00,\n",
      "          6.8499e-02, -1.5666e-01, -1.6934e+00, -1.1390e+00,  1.4921e-01,\n",
      "         -1.8083e-02, -1.4538e-02, -2.0562e-01,  1.2193e+00,  1.3070e+00],\n",
      "        [-2.6104e-01, -1.3465e+00,  1.1880e-01, -4.5855e-01,  7.1272e-01,\n",
      "          4.7073e-01, -6.6350e-01,  5.9187e-01, -7.6169e-01, -2.4190e-01,\n",
      "          4.6246e-01, -4.1783e-01, -4.1383e-01,  5.8220e-01, -1.4439e+00,\n",
      "          1.3299e+00, -6.8660e-01, -4.3535e-02,  2.1884e+00, -5.2323e-01,\n",
      "         -2.4684e+00, -7.5543e-01, -1.9728e+00,  1.4428e+00,  2.1082e-02,\n",
      "          1.4258e-01, -7.7193e-01, -7.5798e-01,  1.3639e+00, -8.5929e-01,\n",
      "          5.7256e-01,  1.1245e+00, -5.4062e-01, -8.6382e-01,  5.5288e-01,\n",
      "         -7.3006e-01,  1.1433e+00,  1.0044e+00,  6.4042e-04, -2.2204e-01,\n",
      "         -1.4297e-01, -1.5816e+00, -2.1642e-01, -5.1837e-01,  6.6869e-01,\n",
      "         -8.7701e-02, -2.0893e+00,  1.4632e+00,  9.3328e-01, -1.8890e+00,\n",
      "          2.0002e+00,  1.1518e+00,  6.0780e-01, -3.4932e-01, -4.4971e-01,\n",
      "          2.6128e-01,  5.3872e-01,  1.0884e+00,  2.8420e-01, -1.2879e+00,\n",
      "          1.1465e+00, -1.7784e+00, -7.6373e-01,  1.2360e-01,  9.9004e-01,\n",
      "          5.2197e-03,  9.0869e-02,  1.4604e+00, -4.5070e-01, -1.1072e+00,\n",
      "          6.0257e-01, -4.9511e-01,  3.3288e-01, -4.6355e-01, -5.6924e-01,\n",
      "          1.8800e-01,  5.9541e-01, -6.9035e-02,  6.1587e-01, -3.7524e-01,\n",
      "          3.7674e-01,  9.7099e-01, -3.5449e-01,  3.5037e-01,  5.7747e-01,\n",
      "          4.4493e-01, -6.6667e-01,  3.4979e-01, -9.4926e-01, -8.1367e-01,\n",
      "          1.2024e+00,  2.6464e-01,  1.0910e+00, -2.3924e-01, -1.5143e-01,\n",
      "          4.4680e-01, -4.5662e-01, -2.0491e+00,  8.7639e-01,  1.2549e-01],\n",
      "        [-1.7452e+00,  1.0818e+00, -1.9881e+00,  6.4344e-01, -1.2914e-01,\n",
      "          2.5620e-01,  9.2733e-01, -7.3028e-01, -1.7107e+00, -1.0578e+00,\n",
      "          1.1792e+00,  3.0776e+00, -8.2992e-01, -2.2148e-02,  6.8602e-01,\n",
      "          1.5412e+00, -7.5683e-02,  1.0031e+00, -5.3789e-02,  3.7321e-01,\n",
      "         -8.4336e-01, -1.3033e+00, -4.2417e-01,  4.7995e-01, -6.2898e-01,\n",
      "          1.6163e+00,  1.0585e+00, -1.9915e+00, -2.6908e-01,  5.2894e-01,\n",
      "         -1.2319e-02, -7.1846e-01, -1.0023e+00, -1.4202e+00, -8.0338e-02,\n",
      "          7.3430e-01, -8.3247e-01,  7.2775e-01,  1.2457e+00,  7.0534e-01,\n",
      "         -4.9058e-01,  1.8907e-01,  4.5227e-01, -2.5820e-01,  6.7444e-01,\n",
      "          7.4221e-01, -1.0079e+00, -1.0432e+00, -1.4674e+00,  4.8904e-01,\n",
      "          8.5771e-02, -1.2100e+00, -2.2747e-01,  4.4080e-01,  1.1190e-01,\n",
      "          5.1787e-01, -1.6604e+00, -4.3764e-01, -7.4019e-02,  2.6987e-01,\n",
      "          1.5118e+00, -1.7996e-01,  6.5439e-01,  2.9337e-01, -3.3668e-01,\n",
      "         -1.6097e+00, -2.4510e-02,  1.1520e+00,  5.1312e-01, -5.9321e-01,\n",
      "          1.6704e-01,  5.6501e-01, -2.4004e+00, -9.8741e-01,  1.0553e+00,\n",
      "         -5.0032e-01, -5.6993e-01, -5.9990e-01, -1.4118e+00,  1.3624e-01,\n",
      "          1.8730e-01,  8.5896e-01,  1.5652e+00, -1.4464e-01,  5.4955e-01,\n",
      "         -3.5869e-01, -1.6042e+00,  1.6113e+00, -1.0491e+00, -7.5370e-01,\n",
      "         -8.4469e-01, -2.1531e+00, -9.3770e-02, -4.1482e-01,  3.4347e-01,\n",
      "         -1.1079e+00,  1.2757e+00, -4.7898e-01, -8.4036e-02,  9.6955e-02],\n",
      "        [-7.2939e-01, -1.3976e+00,  1.9511e+00,  1.5450e+00, -2.1893e-01,\n",
      "         -6.2640e-01, -7.4797e-01, -1.8934e-01, -5.2388e-01,  6.4396e-01,\n",
      "          3.4059e-01, -3.0599e-02,  3.4138e-01, -3.6963e-01, -3.5545e-01,\n",
      "         -1.4129e+00, -9.9866e-02, -1.4984e+00,  4.0676e-01, -8.4155e-01,\n",
      "         -1.1012e+00,  2.2627e+00, -5.2674e-01, -1.7121e+00,  3.0450e-01,\n",
      "          4.8447e-01, -6.4280e-01, -1.8678e+00, -8.8253e-01,  5.1210e-01,\n",
      "          5.5802e-01,  7.8674e-01,  2.9647e-01, -2.3569e+00,  4.2385e-01,\n",
      "          5.4513e-01, -4.2910e-01,  1.3378e+00, -2.1065e+00,  3.2066e-01,\n",
      "         -1.3621e+00,  1.1934e+00,  4.5376e-01,  3.0641e-01, -1.6541e+00,\n",
      "         -5.2940e-01,  1.0720e-01, -1.8969e+00,  9.5217e-01,  1.1389e+00,\n",
      "         -2.1606e+00,  1.0987e+00,  9.7124e-01, -1.4006e+00, -2.7128e-01,\n",
      "         -6.5636e-01, -1.0600e+00,  1.4956e+00, -4.7770e-01, -9.0713e-01,\n",
      "          5.7785e-01, -4.3667e-01, -8.4349e-01,  9.0135e-02,  1.6825e+00,\n",
      "         -1.3607e+00, -8.1867e-01, -4.3775e-01, -6.7590e-01,  8.3930e-01,\n",
      "         -1.3145e+00, -6.1376e-01,  5.2298e-01, -1.3978e+00, -9.2170e-01,\n",
      "         -5.0811e-01, -3.3593e-01,  2.4250e-02,  1.4141e+00, -1.2882e+00,\n",
      "          1.0064e+00, -1.3170e+00,  1.4317e+00,  1.4334e+00,  5.5599e-01,\n",
      "          1.0586e+00,  1.0640e+00,  4.9147e-01, -7.1232e-01,  1.4584e+00,\n",
      "          1.5323e+00,  6.5015e-01,  1.6071e+00,  7.6599e-01, -4.6179e-01,\n",
      "         -2.4997e-01, -3.3903e-01,  8.8955e-01,  5.4608e-01,  4.0355e-01],\n",
      "        [ 6.3020e-01,  3.7844e-01, -2.0031e-01,  1.3655e-01, -6.7407e-01,\n",
      "         -2.9155e-01, -2.6128e-01,  5.7357e-01,  1.0505e+00, -6.7540e-01,\n",
      "          1.4586e+00,  7.3039e-01, -1.2585e+00, -9.5623e-01,  1.5063e+00,\n",
      "          5.2630e-01, -5.1012e-01,  1.6089e+00, -4.6488e-01,  6.9732e-01,\n",
      "         -8.5065e-01, -2.1088e+00, -6.4056e-01, -2.2150e-01, -2.1644e+00,\n",
      "         -7.5383e-01, -8.8271e-01, -2.0173e+00,  1.7236e+00,  1.6648e+00,\n",
      "          1.5589e-01,  5.5835e-01,  3.0020e-01,  7.5259e-01,  1.8805e+00,\n",
      "         -6.4364e-01, -2.9895e-01,  1.3908e+00, -4.9989e-01, -9.2848e-01,\n",
      "         -3.9448e-01, -5.0286e-01,  1.9421e-01, -5.1033e-01, -1.2372e+00,\n",
      "          9.1877e-01, -3.9024e-01,  6.0806e-02,  1.0325e+00, -5.1733e-01,\n",
      "         -3.7689e-01, -1.1761e+00,  1.8883e+00, -1.3329e+00, -1.7395e+00,\n",
      "         -1.2031e-01, -2.0609e-01, -1.6947e+00,  9.9692e-01,  3.4722e-01,\n",
      "         -8.7355e-02,  1.4438e+00,  1.7077e+00, -1.0563e+00,  1.0639e-01,\n",
      "         -1.8768e+00,  1.5541e-01, -1.1752e+00,  1.0248e+00, -5.3174e-01,\n",
      "         -7.1253e-01,  5.8725e-01,  9.1612e-01,  1.1638e+00,  1.5792e+00,\n",
      "         -2.0071e-01,  1.6586e+00, -4.4887e-01, -4.5070e-01,  2.4644e-01,\n",
      "         -3.4185e-01, -6.7929e-01,  1.6943e+00, -7.3684e-01, -2.8169e-01,\n",
      "          6.5601e-01, -1.0688e+00, -3.9858e-02, -9.5613e-02,  4.7191e-01,\n",
      "          4.2115e-02, -3.0639e-01,  4.2727e-01, -1.9258e+00, -5.7872e-01,\n",
      "          2.7535e+00,  1.1223e+00, -3.8545e-01,  1.2315e+00,  9.0639e-02],\n",
      "        [ 6.4423e-02, -8.9036e-01,  7.3656e-01,  6.7851e-01, -1.0886e+00,\n",
      "          6.1150e-01, -1.1687e+00, -1.1610e+00,  4.3833e-01, -1.8119e+00,\n",
      "          1.2869e+00,  8.4941e-01,  6.5601e-01,  2.9121e-01, -3.0016e-01,\n",
      "          2.0816e+00, -8.7174e-01,  9.1306e-01, -1.1520e+00, -1.2920e+00,\n",
      "          1.5991e-01, -1.4013e+00,  1.4182e+00,  2.8414e+00, -1.4984e+00,\n",
      "         -9.3299e-01,  7.7216e-01,  5.9526e-01, -1.6468e-02,  1.9631e-01,\n",
      "         -5.4755e-01, -1.3891e+00, -2.6514e-01, -1.0337e-01, -5.3919e-01,\n",
      "          1.6644e+00, -9.6347e-01, -4.9817e-01,  3.8729e-01,  6.1384e-01,\n",
      "         -7.3043e-02,  9.9010e-02, -2.3055e+00,  1.0014e+00, -6.5194e-01,\n",
      "          1.2563e-01, -4.4661e-01,  9.2852e-01,  1.5726e-01,  4.9188e-01,\n",
      "         -1.3421e+00, -6.9663e-01, -1.1003e+00, -8.4705e-01, -1.9825e+00,\n",
      "         -1.9254e+00,  1.4307e+00, -1.3675e+00, -2.6878e+00, -3.0057e-01,\n",
      "          1.5626e+00, -7.9860e-01,  2.4252e-01,  9.3612e-01,  1.6005e+00,\n",
      "         -5.2377e-02,  3.1757e-01, -6.6456e-01, -4.4854e-01, -1.3642e+00,\n",
      "          1.0444e+00, -1.6578e+00, -4.7796e-01,  5.0229e-01, -3.6327e-01,\n",
      "          3.4486e-01,  1.7197e+00, -1.8859e-01, -5.5786e-01,  3.0918e+00,\n",
      "         -9.9338e-01, -8.3010e-01,  1.4625e+00, -2.1676e-01,  1.2804e+00,\n",
      "          2.3759e-01,  1.8460e+00, -6.9369e-01,  9.5967e-01,  1.0766e+00,\n",
      "          9.4533e-01, -1.7112e+00, -3.9885e-01, -5.4318e-01,  1.7315e+00,\n",
      "         -7.5164e-01, -7.1474e-02, -3.2726e-01, -2.4180e-01, -7.8202e-01],\n",
      "        [ 4.1845e-01, -1.7626e+00, -1.1990e+00, -1.4517e+00, -5.4629e-01,\n",
      "         -7.8516e-01, -2.4418e-01,  1.7921e+00, -5.5259e-01, -1.8616e+00,\n",
      "          8.3757e-01,  8.0146e-02,  9.8136e-01,  9.4570e-01,  1.3546e+00,\n",
      "          1.1817e+00, -2.6123e-01, -2.2615e+00, -4.6276e-01,  2.0931e+00,\n",
      "         -1.1330e+00,  2.5107e-01,  7.4177e-01, -7.8541e-01, -6.2050e-01,\n",
      "         -1.2799e+00, -1.2851e+00,  1.4524e+00,  4.1700e-01, -5.4184e-01,\n",
      "          8.3781e-01, -1.5358e+00, -1.0451e+00, -6.8132e-02,  2.5369e+00,\n",
      "          2.1420e+00,  2.0552e-01,  1.3542e-01,  9.3685e-01, -2.4638e-01,\n",
      "         -1.3984e+00,  2.1393e-01, -4.6737e-01,  6.3642e-01,  1.5705e+00,\n",
      "         -6.1664e-01, -8.0147e-01, -1.5890e-01, -1.2782e+00,  5.6809e-02,\n",
      "         -6.6209e-01, -7.3319e-01,  1.4413e+00,  1.6220e+00,  2.9333e-01,\n",
      "         -9.9657e-01, -1.2544e+00,  3.2361e-01, -3.9844e-01,  2.6492e-01,\n",
      "         -4.6452e-01, -1.7052e+00,  9.9536e-01, -6.9187e-01, -6.1785e-02,\n",
      "         -1.0170e+00,  2.6621e+00, -3.6273e-01,  4.2678e-01,  5.7973e-01,\n",
      "         -9.1764e-02,  5.6085e-01, -1.5594e+00,  1.1812e+00, -1.9029e+00,\n",
      "         -5.0809e-01,  1.6434e-01,  1.5586e-01,  5.2374e-01,  2.4351e+00,\n",
      "          1.3616e+00, -1.4545e+00, -9.9090e-01,  9.6834e-01, -5.0299e-01,\n",
      "          3.7901e-01, -1.4766e-01,  1.8800e-01,  8.1429e-01,  2.0328e+00,\n",
      "          3.7983e-01,  1.7313e+00,  5.1241e-01,  2.8222e+00,  4.1132e-01,\n",
      "         -1.1148e+00, -1.3509e+00, -1.0127e+00,  1.3796e+00,  1.1551e+00],\n",
      "        [-1.6225e+00, -2.6012e-01, -5.9746e-01, -2.3292e+00,  1.8116e+00,\n",
      "         -2.0950e+00, -1.3046e+00, -2.0222e+00,  5.5564e-01,  2.1431e+00,\n",
      "          7.5442e-01, -9.1730e-02, -1.3682e-01,  7.6645e-01, -1.3354e+00,\n",
      "         -2.1924e+00, -1.6844e-01, -4.0831e-02, -3.9057e-01, -1.2635e+00,\n",
      "          1.2002e-01, -9.6310e-01,  1.4544e+00, -5.6975e-01, -2.8113e-01,\n",
      "         -1.0812e+00, -2.1428e+00,  1.2988e+00, -1.4606e-02,  1.4512e+00,\n",
      "         -1.8465e+00,  1.1331e-01, -1.4801e-02, -3.2267e-01, -5.4481e-01,\n",
      "          1.0413e+00, -5.3222e-01,  9.4352e-01,  9.8704e-01,  1.3300e+00,\n",
      "          1.0634e+00,  7.7483e-02,  4.4608e-01,  5.9182e-01, -1.6857e+00,\n",
      "         -3.3206e-01,  5.7349e-01, -1.2880e-01, -8.0463e-01,  9.9454e-01,\n",
      "         -1.0484e+00, -6.1912e-01,  1.2571e+00, -1.0180e-02, -3.8553e-01,\n",
      "         -1.1520e+00,  1.5834e+00,  1.4688e+00, -2.7225e-01, -4.1080e-01,\n",
      "          3.6080e-01,  1.4188e-01, -9.7903e-01,  2.0486e+00,  3.0452e-01,\n",
      "          1.1662e+00,  2.3358e-01, -6.9549e-02, -8.3498e-01,  3.4077e-01,\n",
      "         -1.7269e-01,  1.3813e-01, -2.4721e-01, -1.7394e-01,  2.2135e-01,\n",
      "          7.8087e-01,  1.2492e-01,  9.3614e-01,  1.3726e-01,  1.1021e+00,\n",
      "         -6.3524e-01, -1.7586e-01, -8.3073e-01, -1.9218e+00,  6.6313e-01,\n",
      "          7.1528e-02, -5.8799e-01,  9.2640e-02,  3.5490e-01, -1.3572e+00,\n",
      "         -2.0270e-01, -2.1587e-01,  3.8967e-01,  7.3304e-01, -1.3052e+00,\n",
      "         -6.2034e-01, -1.8353e-01,  1.9805e+00, -1.1990e-01, -2.4677e+00]],\n",
      "       device='cuda:0', requires_grad=True)\n"
     ]
    }
   ],
   "source": [
    "print(ckpt[\"hyper_parameters\"][\"feature_embeddings\"][\"cell_type\"].embeddings.weight)\n",
    "feature_embeddings = ckpt[\"hyper_parameters\"][\"feature_embeddings\"]"
   ]
  },
  {
   "cell_type": "markdown",
   "id": "64548d77-2e55-4a4b-8d20-49ee96096e3a",
   "metadata": {},
   "source": [
    "Initializations"
   ]
  },
  {
   "cell_type": "code",
   "execution_count": 40,
   "id": "07002cca-2d73-4dad-baa9-6a64cac5e281",
   "metadata": {
    "scrolled": true
   },
   "outputs": [
    {
     "name": "stderr",
     "output_type": "stream",
     "text": [
      "/home/icb/alessandro.palma/miniconda3/envs/celldreamer/lib/python3.10/site-packages/pytorch_lightning/utilities/parsing.py:208: Attribute 'encoder_model' is an instance of `nn.Module` and is already saved during checkpointing. It is recommended to ignore them using `self.save_hyperparameters(ignore=['encoder_model'])`.\n",
      "/home/icb/alessandro.palma/miniconda3/envs/celldreamer/lib/python3.10/site-packages/pytorch_lightning/utilities/parsing.py:208: Attribute 'denoising_model' is an instance of `nn.Module` and is already saved during checkpointing. It is recommended to ignore them using `self.save_hyperparameters(ignore=['denoising_model'])`.\n"
     ]
    },
    {
     "data": {
      "text/plain": [
       "FM(\n",
       "  (encoder_model): EncoderModel(\n",
       "    (x0_from_x): MLP(\n",
       "      (net): Sequential(\n",
       "        (0): Sequential(\n",
       "          (0): Linear(in_features=8573, out_features=512, bias=True)\n",
       "          (1): BatchNorm1d(512, eps=1e-05, momentum=0.1, affine=True, track_running_stats=True)\n",
       "          (2): ELU(alpha=1.0)\n",
       "        )\n",
       "        (1): Sequential(\n",
       "          (0): Linear(in_features=512, out_features=256, bias=True)\n",
       "          (1): BatchNorm1d(256, eps=1e-05, momentum=0.1, affine=True, track_running_stats=True)\n",
       "          (2): ELU(alpha=1.0)\n",
       "        )\n",
       "        (2): Linear(in_features=256, out_features=50, bias=True)\n",
       "      )\n",
       "    )\n",
       "    (x_from_x0): MLP(\n",
       "      (net): Sequential(\n",
       "        (0): Sequential(\n",
       "          (0): Linear(in_features=50, out_features=256, bias=True)\n",
       "          (1): BatchNorm1d(256, eps=1e-05, momentum=0.1, affine=True, track_running_stats=True)\n",
       "          (2): ELU(alpha=1.0)\n",
       "        )\n",
       "        (1): Sequential(\n",
       "          (0): Linear(in_features=256, out_features=512, bias=True)\n",
       "          (1): BatchNorm1d(512, eps=1e-05, momentum=0.1, affine=True, track_running_stats=True)\n",
       "          (2): ELU(alpha=1.0)\n",
       "        )\n",
       "        (2): Linear(in_features=512, out_features=8573, bias=True)\n",
       "      )\n",
       "    )\n",
       "  )\n",
       "  (denoising_model): MLPTimeStep(\n",
       "    (time_embedder): Sequential(\n",
       "      (0): Linear(in_features=100, out_features=100, bias=True)\n",
       "      (1): SiLU()\n",
       "      (2): Linear(in_features=100, out_features=100, bias=True)\n",
       "    )\n",
       "    (net_in): Linear(in_features=50, out_features=64, bias=True)\n",
       "    (blocks): ModuleList(\n",
       "      (0-2): 3 x ResnetBlock(\n",
       "        (net1): Sequential(\n",
       "          (0): SiLU()\n",
       "          (1): Linear(in_features=64, out_features=64, bias=True)\n",
       "        )\n",
       "        (cond_proj): Sequential(\n",
       "          (0): SiLU()\n",
       "          (1): Linear(in_features=100, out_features=64, bias=True)\n",
       "        )\n",
       "        (net2): Sequential(\n",
       "          (0): SiLU()\n",
       "          (1): Linear(in_features=64, out_features=64, bias=True)\n",
       "        )\n",
       "      )\n",
       "    )\n",
       "    (net_out): Sequential(\n",
       "      (0): SiLU()\n",
       "      (1): Linear(in_features=64, out_features=50, bias=True)\n",
       "    )\n",
       "  )\n",
       "  (criterion): MSELoss()\n",
       ")"
      ]
     },
     "execution_count": 40,
     "metadata": {},
     "output_type": "execute_result"
    }
   ],
   "source": [
    "generative_model = FM(\n",
    "            encoder_model=encoder_model,\n",
    "            denoising_model=denoising_model,\n",
    "            feature_embeddings=feature_embeddings,\n",
    "            plotting_folder=None,\n",
    "            in_dim=512,\n",
    "            size_factor_statistics=size_factor_statistics,\n",
    "            encoder_type=dataset_config[\"encoder_type\"],\n",
    "            conditioning_covariate=dataset_config[\"conditioning_covariate\"],\n",
    "            model_type=denoising_model.model_type, \n",
    "            **generative_model_config  # model_kwargs should contain the rest of the arguments\n",
    "            )\n",
    "\n",
    "generative_model.load_state_dict(ckpt[\"state_dict\"])\n",
    "generative_model.to(\"cuda\")"
   ]
  },
  {
   "cell_type": "markdown",
   "id": "c9b3d1e1-3458-4df1-81f2-3ca45820879e",
   "metadata": {},
   "source": [
    "# Save three copies of generated datasest "
   ]
  },
  {
   "cell_type": "code",
   "execution_count": 41,
   "id": "86e7b000-32fd-4c0f-b466-71912b30b104",
   "metadata": {},
   "outputs": [],
   "source": [
    "adata_original = sc.read_h5ad(DATA_DIR / 'processed_full_genome' / 'pbmc3k' / 'pbmc3k_test.h5ad')\n",
    "adata_original.X = adata_original.layers[\"X_counts\"].copy()\n",
    "adata_original.obs[\"size_factor\"]=adata_original.X.A.sum(1)\n",
    "saving_dir = DATA_DIR / \"generated\" / \"pbmc3k\""
   ]
  },
  {
   "cell_type": "code",
   "execution_count": 46,
   "id": "0a6c6d1c-a701-4f12-a312-a4afc1321d9b",
   "metadata": {},
   "outputs": [
    {
     "name": "stderr",
     "output_type": "stream",
     "text": [
      "100%|██████████| 3/3 [00:01<00:00,  2.89it/s]\n"
     ]
    }
   ],
   "source": [
    "index_range = len(adata_original)\n",
    "num_indices = 528\n",
    "times = []\n",
    "\n",
    "for it in tqdm(range(3)):    \n",
    "    classes_str =  list(adata_original.obs[\"cell_type\"])\n",
    "    classes = torch.tensor([dataset.id2cov[\"cell_type\"][c] for  c in classes_str])\n",
    "\n",
    "    t0 = time.time()\n",
    "    X_generated = generative_model.sample(batch_size=num_indices,\n",
    "                                            n_sample_steps=2, \n",
    "                                            covariate=\"cell_type\", \n",
    "                                            covariate_indices=classes, \n",
    "                                            log_size_factor=None)\n",
    "    t1 = time.time()\n",
    "    times.append(t1-t0)\n",
    "\n",
    "    X_generated = X_generated.to(\"cpu\")\n",
    "    \n",
    "    # adata_generated = sc.AnnData(X=sp.csr_matrix(deepcopy(X_generated).cpu().numpy()))\n",
    "    # adata_generated.obs[\"size_factor\"] = adata_generated.X.sum(1)\n",
    "    # adata_generated.obs[\"cell_type\"] = classes_str\n",
    "    # adata_generated.obs[\"cell_type\"] = adata_generated.obs[\"cell_type\"].astype(\"category\")\n",
    "    # adata_generated.layers[\"X_counts\"] = adata_generated.X.copy()\n",
    "    # sc.pp.normalize_total(adata_generated, target_sum=10000)\n",
    "    # sc.pp.log1p(adata_generated)\n",
    "    # sc.tl.pca(adata_generated)\n",
    "    # adata_generated.write_h5ad(f\"/home/icb/alessandro.palma/environment/celldreamer/project_folder/datasets/generated/pbmc3k/generated_cells_{it}.h5ad\")"
   ]
  },
  {
   "cell_type": "code",
   "execution_count": 47,
   "id": "cbcf71c9-9fed-4ebc-90f1-f9dc498a9248",
   "metadata": {},
   "outputs": [
    {
     "name": "stdout",
     "output_type": "stream",
     "text": [
      "0.34034911791483563\n"
     ]
    }
   ],
   "source": [
    "print(np.mean(times))"
   ]
  },
  {
   "cell_type": "code",
   "execution_count": 48,
   "id": "3855f4c5-dd71-4d3d-91b9-f2398452f61f",
   "metadata": {},
   "outputs": [
    {
     "name": "stdout",
     "output_type": "stream",
     "text": [
      "0.00411775230853495\n"
     ]
    }
   ],
   "source": [
    "print(np.std(times)/np.sqrt(3))"
   ]
  },
  {
   "cell_type": "code",
   "execution_count": null,
   "id": "cd37451e-fc40-4b23-b3c0-997be12750a6",
   "metadata": {},
   "outputs": [],
   "source": [
    "print(np.std(times)/np.sqrt(3))"
   ]
  },
  {
   "cell_type": "markdown",
   "id": "ab7366f0-902e-4bea-ae88-86a72a59db60",
   "metadata": {},
   "source": [
    "# Check if the results make sense "
   ]
  },
  {
   "cell_type": "code",
   "execution_count": 49,
   "id": "08aa0985-ee83-4676-9fbf-30c85f8b0ce7",
   "metadata": {},
   "outputs": [],
   "source": [
    "joint_adata = sc.AnnData(X=np.concatenate([adata_original.layers[\"X_counts\"].A, X_generated], axis=0), \n",
    "                        obs={\"dataset_type\": [\"real\" for _ in range(adata_original.shape[0])] + [\"generated\" for _ in range(X_generated.shape[0])]})"
   ]
  },
  {
   "cell_type": "code",
   "execution_count": 50,
   "id": "18fb5583-ea01-49dd-999e-488d855ebf5b",
   "metadata": {},
   "outputs": [],
   "source": [
    "sc.pp.normalize_total(joint_adata, target_sum=1e4)"
   ]
  },
  {
   "cell_type": "code",
   "execution_count": 51,
   "id": "d241bb17-6f06-463f-945d-f621de08813c",
   "metadata": {},
   "outputs": [],
   "source": [
    "sc.pp.log1p(joint_adata)"
   ]
  },
  {
   "cell_type": "code",
   "execution_count": 52,
   "id": "ac7863ea-1c43-4827-a6f3-0ce233165f9f",
   "metadata": {},
   "outputs": [],
   "source": [
    "sc.tl.pca(joint_adata)\n",
    "sc.pp.neighbors(joint_adata)\n",
    "sc.tl.umap(joint_adata)"
   ]
  },
  {
   "cell_type": "code",
   "execution_count": 53,
   "id": "43cbfc9f-66f7-41a2-bd21-241b97d0db8a",
   "metadata": {},
   "outputs": [
    {
     "name": "stderr",
     "output_type": "stream",
     "text": [
      "/home/icb/alessandro.palma/miniconda3/envs/celldreamer/lib/python3.10/site-packages/scanpy/plotting/_tools/scatterplots.py:394: UserWarning: No data for colormapping provided via 'c'. Parameters 'cmap' will be ignored\n",
      "  cax = scatter(\n"
     ]
    },
    {
     "data": {
      "image/png": "[encoded data removed]",
      "text/plain": [
       "<Figure size 480x480 with 1 Axes>"
      ]
     },
     "metadata": {
      "image/png": {
       "height": 398,
       "width": 495
      }
     },
     "output_type": "display_data"
    }
   ],
   "source": [
    "sc.pl.umap(joint_adata, color=\"dataset_type\")"
   ]
  },
  {
   "cell_type": "code",
   "execution_count": null,
   "id": "b7f08949-a51f-435e-b9be-06254235c0dc",
   "metadata": {},
   "outputs": [],
   "source": []
  }
 ],
 "metadata": {
  "kernelspec": {
   "display_name": "Python 3 (ipykernel)",
   "language": "python",
   "name": "python3"
  },
  "language_info": {
   "codemirror_mode": {
    "name": "ipython",
    "version": 3
   },
   "file_extension": ".py",
   "mimetype": "text/x-python",
   "name": "python",
   "nbconvert_exporter": "python",
   "pygments_lexer": "ipython3",
   "version": "3.10.13"
  }
 },
 "nbformat": 4,
 "nbformat_minor": 5
}
