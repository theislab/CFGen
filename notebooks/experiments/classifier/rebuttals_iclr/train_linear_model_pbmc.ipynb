{
 "cells": [
  {
   "cell_type": "code",
   "execution_count": 1,
   "id": "2e3b3c9e-7379-49fb-b502-63dca11df6da",
   "metadata": {},
   "outputs": [],
   "source": [
    "from linear_model import *\n",
    "import scanpy as sc\n",
    "import pandas as pd\n",
    "import numpy as np\n",
    "from sklearn.preprocessing import OneHotEncoder"
   ]
  },
  {
   "cell_type": "code",
   "execution_count": 2,
   "id": "23c93510-3a27-49ac-ac15-89345a273c48",
   "metadata": {},
   "outputs": [],
   "source": [
    "non_augmented_train_set = sc.read_h5ad(\"/home/icb/alessandro.palma/environment/cfgen/project_folder/datasets/processed/classifier_experiment_pbmc/pbmc_covid_train.h5ad\")"
   ]
  },
  {
   "cell_type": "code",
   "execution_count": 3,
   "id": "bb511685-c533-422e-b3d7-bcf2c460a9c4",
   "metadata": {},
   "outputs": [],
   "source": [
    "augmented_train_set = sc.read_h5ad(\"/home/icb/alessandro.palma/environment/cfgen/project_folder/datasets/processed/classifier_experiment_pbmc/augmented/pbmc_covid_augmented_prop.h5ad\")"
   ]
  },
  {
   "cell_type": "code",
   "execution_count": 4,
   "id": "10bb4bfc-c089-4788-850c-eaf8ca640ff3",
   "metadata": {},
   "outputs": [],
   "source": [
    "test = sc.read_h5ad(\"/home/icb/alessandro.palma/environment/cfgen/project_folder/datasets/processed/classifier_experiment_pbmc/pbmc_covid_test.h5ad\")"
   ]
  },
  {
   "cell_type": "markdown",
   "id": "aed94fe0-0814-4a4f-818a-fa403be9fb40",
   "metadata": {},
   "source": [
    "Train model on the standard "
   ]
  },
  {
   "cell_type": "code",
   "execution_count": 5,
   "id": "11489b85-027c-4106-80bf-224ed98a243d",
   "metadata": {},
   "outputs": [],
   "source": [
    "X_non_augmented = non_augmented_train_set.X.A\n",
    "X_augmented = augmented_train_set.X\n",
    "X_test = test.X.A\n",
    "\n",
    "y_non_augmented = non_augmented_train_set.obs[\"cell_type\"].values[:, np.newaxis]\n",
    "y_augmented = augmented_train_set.obs[\"cell_type\"].values[:, np.newaxis]\n",
    "y_test = test.obs[\"cell_type\"].values[:, np.newaxis]"
   ]
  },
  {
   "cell_type": "markdown",
   "id": "7a3be657-371f-4cc1-89e5-9f0a7ba20060",
   "metadata": {},
   "source": [
    "Train one hot encoder "
   ]
  },
  {
   "cell_type": "code",
   "execution_count": 6,
   "id": "0dd441ed-8461-487c-bcd2-0e2c5c985e71",
   "metadata": {},
   "outputs": [],
   "source": [
    "oh_encoder = OneHotEncoder(sparse=False) "
   ]
  },
  {
   "cell_type": "code",
   "execution_count": 7,
   "id": "85d9b34a-43a1-4b9f-b2ef-bdbdbd36f336",
   "metadata": {},
   "outputs": [],
   "source": [
    "y_non_augmented = oh_encoder.fit_transform(y_non_augmented).argmax(1)\n",
    "y_augmented =  oh_encoder.transform(y_augmented).argmax(1)\n",
    "y_test = oh_encoder.transform(y_test).argmax(1)"
   ]
  },
  {
   "cell_type": "markdown",
   "id": "b9ce9824-b1cd-47a6-a18c-68076195dd63",
   "metadata": {},
   "source": [
    "## Non-augmented"
   ]
  },
  {
   "cell_type": "code",
   "execution_count": 8,
   "id": "0fc1adb9-bec8-4c1a-88b7-4a83edd16f89",
   "metadata": {
    "scrolled": true
   },
   "outputs": [
    {
     "name": "stderr",
     "output_type": "stream",
     "text": [
      "  1%|          | 1/100 [00:06<10:27,  6.33s/it]"
     ]
    },
    {
     "name": "stdout",
     "output_type": "stream",
     "text": [
      "Epoch [1/100], Loss: 0.4034\n"
     ]
    },
    {
     "name": "stderr",
     "output_type": "stream",
     "text": [
      "  2%|▏         | 2/100 [00:12<09:54,  6.06s/it]"
     ]
    },
    {
     "name": "stdout",
     "output_type": "stream",
     "text": [
      "Epoch [2/100], Loss: 0.2831\n"
     ]
    },
    {
     "name": "stderr",
     "output_type": "stream",
     "text": [
      "  3%|▎         | 3/100 [00:18<09:41,  6.00s/it]"
     ]
    },
    {
     "name": "stdout",
     "output_type": "stream",
     "text": [
      "Epoch [3/100], Loss: 0.2679\n"
     ]
    },
    {
     "name": "stderr",
     "output_type": "stream",
     "text": [
      "  4%|▍         | 4/100 [00:23<09:27,  5.91s/it]"
     ]
    },
    {
     "name": "stdout",
     "output_type": "stream",
     "text": [
      "Epoch [4/100], Loss: 0.2604\n"
     ]
    },
    {
     "name": "stderr",
     "output_type": "stream",
     "text": [
      "  5%|▌         | 5/100 [00:29<09:18,  5.88s/it]"
     ]
    },
    {
     "name": "stdout",
     "output_type": "stream",
     "text": [
      "Epoch [5/100], Loss: 0.2553\n"
     ]
    },
    {
     "name": "stderr",
     "output_type": "stream",
     "text": [
      "  6%|▌         | 6/100 [00:35<09:12,  5.88s/it]"
     ]
    },
    {
     "name": "stdout",
     "output_type": "stream",
     "text": [
      "Epoch [6/100], Loss: 0.2520\n"
     ]
    },
    {
     "name": "stderr",
     "output_type": "stream",
     "text": [
      "  7%|▋         | 7/100 [00:41<09:06,  5.88s/it]"
     ]
    },
    {
     "name": "stdout",
     "output_type": "stream",
     "text": [
      "Epoch [7/100], Loss: 0.2493\n"
     ]
    },
    {
     "name": "stderr",
     "output_type": "stream",
     "text": [
      "  8%|▊         | 8/100 [00:47<09:00,  5.88s/it]"
     ]
    },
    {
     "name": "stdout",
     "output_type": "stream",
     "text": [
      "Epoch [8/100], Loss: 0.2477\n"
     ]
    },
    {
     "name": "stderr",
     "output_type": "stream",
     "text": [
      "  9%|▉         | 9/100 [00:53<08:56,  5.90s/it]"
     ]
    },
    {
     "name": "stdout",
     "output_type": "stream",
     "text": [
      "Epoch [9/100], Loss: 0.2456\n"
     ]
    },
    {
     "name": "stderr",
     "output_type": "stream",
     "text": [
      " 10%|█         | 10/100 [00:59<08:51,  5.91s/it]"
     ]
    },
    {
     "name": "stdout",
     "output_type": "stream",
     "text": [
      "Epoch [10/100], Loss: 0.2445\n"
     ]
    },
    {
     "name": "stderr",
     "output_type": "stream",
     "text": [
      " 11%|█         | 11/100 [01:05<08:47,  5.93s/it]"
     ]
    },
    {
     "name": "stdout",
     "output_type": "stream",
     "text": [
      "Epoch [11/100], Loss: 0.2431\n"
     ]
    },
    {
     "name": "stderr",
     "output_type": "stream",
     "text": [
      " 12%|█▏        | 12/100 [01:11<08:44,  5.96s/it]"
     ]
    },
    {
     "name": "stdout",
     "output_type": "stream",
     "text": [
      "Epoch [12/100], Loss: 0.2423\n"
     ]
    },
    {
     "name": "stderr",
     "output_type": "stream",
     "text": [
      " 13%|█▎        | 13/100 [01:17<08:43,  6.01s/it]"
     ]
    },
    {
     "name": "stdout",
     "output_type": "stream",
     "text": [
      "Epoch [13/100], Loss: 0.2412\n"
     ]
    },
    {
     "name": "stderr",
     "output_type": "stream",
     "text": [
      " 14%|█▍        | 14/100 [01:23<08:41,  6.06s/it]"
     ]
    },
    {
     "name": "stdout",
     "output_type": "stream",
     "text": [
      "Epoch [14/100], Loss: 0.2407\n"
     ]
    },
    {
     "name": "stderr",
     "output_type": "stream",
     "text": [
      " 15%|█▌        | 15/100 [01:29<08:37,  6.08s/it]"
     ]
    },
    {
     "name": "stdout",
     "output_type": "stream",
     "text": [
      "Epoch [15/100], Loss: 0.2398\n"
     ]
    },
    {
     "name": "stderr",
     "output_type": "stream",
     "text": [
      " 16%|█▌        | 16/100 [01:35<08:32,  6.11s/it]"
     ]
    },
    {
     "name": "stdout",
     "output_type": "stream",
     "text": [
      "Epoch [16/100], Loss: 0.2393\n"
     ]
    },
    {
     "name": "stderr",
     "output_type": "stream",
     "text": [
      " 17%|█▋        | 17/100 [01:42<08:28,  6.12s/it]"
     ]
    },
    {
     "name": "stdout",
     "output_type": "stream",
     "text": [
      "Epoch [17/100], Loss: 0.2385\n"
     ]
    },
    {
     "name": "stderr",
     "output_type": "stream",
     "text": [
      " 18%|█▊        | 18/100 [01:48<08:24,  6.16s/it]"
     ]
    },
    {
     "name": "stdout",
     "output_type": "stream",
     "text": [
      "Epoch [18/100], Loss: 0.2380\n"
     ]
    },
    {
     "name": "stderr",
     "output_type": "stream",
     "text": [
      " 19%|█▉        | 19/100 [01:54<08:19,  6.17s/it]"
     ]
    },
    {
     "name": "stdout",
     "output_type": "stream",
     "text": [
      "Epoch [19/100], Loss: 0.2374\n"
     ]
    },
    {
     "name": "stderr",
     "output_type": "stream",
     "text": [
      " 20%|██        | 20/100 [02:00<08:14,  6.18s/it]"
     ]
    },
    {
     "name": "stdout",
     "output_type": "stream",
     "text": [
      "Epoch [20/100], Loss: 0.2373\n"
     ]
    },
    {
     "name": "stderr",
     "output_type": "stream",
     "text": [
      " 21%|██        | 21/100 [02:06<08:09,  6.19s/it]"
     ]
    },
    {
     "name": "stdout",
     "output_type": "stream",
     "text": [
      "Epoch [21/100], Loss: 0.2364\n"
     ]
    },
    {
     "name": "stderr",
     "output_type": "stream",
     "text": [
      " 22%|██▏       | 22/100 [02:13<08:05,  6.23s/it]"
     ]
    },
    {
     "name": "stdout",
     "output_type": "stream",
     "text": [
      "Epoch [22/100], Loss: 0.2363\n"
     ]
    },
    {
     "name": "stderr",
     "output_type": "stream",
     "text": [
      " 23%|██▎       | 23/100 [02:20<08:32,  6.66s/it]"
     ]
    },
    {
     "name": "stdout",
     "output_type": "stream",
     "text": [
      "Epoch [23/100], Loss: 0.2360\n"
     ]
    },
    {
     "name": "stderr",
     "output_type": "stream",
     "text": [
      " 24%|██▍       | 24/100 [02:27<08:20,  6.59s/it]"
     ]
    },
    {
     "name": "stdout",
     "output_type": "stream",
     "text": [
      "Epoch [24/100], Loss: 0.2355\n"
     ]
    },
    {
     "name": "stderr",
     "output_type": "stream",
     "text": [
      " 25%|██▌       | 25/100 [02:33<08:04,  6.46s/it]"
     ]
    },
    {
     "name": "stdout",
     "output_type": "stream",
     "text": [
      "Epoch [25/100], Loss: 0.2350\n"
     ]
    },
    {
     "name": "stderr",
     "output_type": "stream",
     "text": [
      " 26%|██▌       | 26/100 [02:39<07:51,  6.38s/it]"
     ]
    },
    {
     "name": "stdout",
     "output_type": "stream",
     "text": [
      "Epoch [26/100], Loss: 0.2353\n"
     ]
    },
    {
     "name": "stderr",
     "output_type": "stream",
     "text": [
      " 27%|██▋       | 27/100 [02:45<07:42,  6.33s/it]"
     ]
    },
    {
     "name": "stdout",
     "output_type": "stream",
     "text": [
      "Epoch [27/100], Loss: 0.2346\n"
     ]
    },
    {
     "name": "stderr",
     "output_type": "stream",
     "text": [
      " 28%|██▊       | 28/100 [02:52<07:33,  6.30s/it]"
     ]
    },
    {
     "name": "stdout",
     "output_type": "stream",
     "text": [
      "Epoch [28/100], Loss: 0.2345\n"
     ]
    },
    {
     "name": "stderr",
     "output_type": "stream",
     "text": [
      " 29%|██▉       | 29/100 [02:58<07:24,  6.26s/it]"
     ]
    },
    {
     "name": "stdout",
     "output_type": "stream",
     "text": [
      "Epoch [29/100], Loss: 0.2342\n"
     ]
    },
    {
     "name": "stderr",
     "output_type": "stream",
     "text": [
      " 30%|███       | 30/100 [03:04<07:16,  6.23s/it]"
     ]
    },
    {
     "name": "stdout",
     "output_type": "stream",
     "text": [
      "Epoch [30/100], Loss: 0.2342\n"
     ]
    },
    {
     "name": "stderr",
     "output_type": "stream",
     "text": [
      " 31%|███       | 31/100 [03:10<07:08,  6.21s/it]"
     ]
    },
    {
     "name": "stdout",
     "output_type": "stream",
     "text": [
      "Epoch [31/100], Loss: 0.2340\n"
     ]
    },
    {
     "name": "stderr",
     "output_type": "stream",
     "text": [
      " 32%|███▏      | 32/100 [03:16<07:01,  6.20s/it]"
     ]
    },
    {
     "name": "stdout",
     "output_type": "stream",
     "text": [
      "Epoch [32/100], Loss: 0.2337\n"
     ]
    },
    {
     "name": "stderr",
     "output_type": "stream",
     "text": [
      " 33%|███▎      | 33/100 [03:23<06:57,  6.23s/it]"
     ]
    },
    {
     "name": "stdout",
     "output_type": "stream",
     "text": [
      "Epoch [33/100], Loss: 0.2334\n"
     ]
    },
    {
     "name": "stderr",
     "output_type": "stream",
     "text": [
      " 34%|███▍      | 34/100 [03:29<06:50,  6.22s/it]"
     ]
    },
    {
     "name": "stdout",
     "output_type": "stream",
     "text": [
      "Epoch [34/100], Loss: 0.2330\n"
     ]
    },
    {
     "name": "stderr",
     "output_type": "stream",
     "text": [
      " 35%|███▌      | 35/100 [03:35<06:44,  6.22s/it]"
     ]
    },
    {
     "name": "stdout",
     "output_type": "stream",
     "text": [
      "Epoch [35/100], Loss: 0.2331\n"
     ]
    },
    {
     "name": "stderr",
     "output_type": "stream",
     "text": [
      " 36%|███▌      | 36/100 [03:41<06:38,  6.22s/it]"
     ]
    },
    {
     "name": "stdout",
     "output_type": "stream",
     "text": [
      "Epoch [36/100], Loss: 0.2329\n"
     ]
    },
    {
     "name": "stderr",
     "output_type": "stream",
     "text": [
      " 37%|███▋      | 37/100 [03:47<06:33,  6.24s/it]"
     ]
    },
    {
     "name": "stdout",
     "output_type": "stream",
     "text": [
      "Epoch [37/100], Loss: 0.2324\n"
     ]
    },
    {
     "name": "stderr",
     "output_type": "stream",
     "text": [
      " 38%|███▊      | 38/100 [03:54<06:26,  6.24s/it]"
     ]
    },
    {
     "name": "stdout",
     "output_type": "stream",
     "text": [
      "Epoch [38/100], Loss: 0.2324\n"
     ]
    },
    {
     "name": "stderr",
     "output_type": "stream",
     "text": [
      " 39%|███▉      | 39/100 [04:00<06:21,  6.26s/it]"
     ]
    },
    {
     "name": "stdout",
     "output_type": "stream",
     "text": [
      "Epoch [39/100], Loss: 0.2323\n"
     ]
    },
    {
     "name": "stderr",
     "output_type": "stream",
     "text": [
      " 40%|████      | 40/100 [04:06<06:15,  6.25s/it]"
     ]
    },
    {
     "name": "stdout",
     "output_type": "stream",
     "text": [
      "Epoch [40/100], Loss: 0.2324\n"
     ]
    },
    {
     "name": "stderr",
     "output_type": "stream",
     "text": [
      " 41%|████      | 41/100 [04:13<06:11,  6.29s/it]"
     ]
    },
    {
     "name": "stdout",
     "output_type": "stream",
     "text": [
      "Epoch [41/100], Loss: 0.2322\n"
     ]
    },
    {
     "name": "stderr",
     "output_type": "stream",
     "text": [
      " 42%|████▏     | 42/100 [04:19<06:05,  6.31s/it]"
     ]
    },
    {
     "name": "stdout",
     "output_type": "stream",
     "text": [
      "Epoch [42/100], Loss: 0.2319\n"
     ]
    },
    {
     "name": "stderr",
     "output_type": "stream",
     "text": [
      " 43%|████▎     | 43/100 [04:25<05:57,  6.28s/it]"
     ]
    },
    {
     "name": "stdout",
     "output_type": "stream",
     "text": [
      "Epoch [43/100], Loss: 0.2320\n"
     ]
    },
    {
     "name": "stderr",
     "output_type": "stream",
     "text": [
      " 44%|████▍     | 44/100 [04:31<05:49,  6.24s/it]"
     ]
    },
    {
     "name": "stdout",
     "output_type": "stream",
     "text": [
      "Epoch [44/100], Loss: 0.2316\n"
     ]
    },
    {
     "name": "stderr",
     "output_type": "stream",
     "text": [
      " 45%|████▌     | 45/100 [04:38<05:42,  6.23s/it]"
     ]
    },
    {
     "name": "stdout",
     "output_type": "stream",
     "text": [
      "Epoch [45/100], Loss: 0.2319\n"
     ]
    },
    {
     "name": "stderr",
     "output_type": "stream",
     "text": [
      " 46%|████▌     | 46/100 [04:44<05:36,  6.22s/it]"
     ]
    },
    {
     "name": "stdout",
     "output_type": "stream",
     "text": [
      "Epoch [46/100], Loss: 0.2314\n"
     ]
    },
    {
     "name": "stderr",
     "output_type": "stream",
     "text": [
      " 47%|████▋     | 47/100 [04:50<05:31,  6.25s/it]"
     ]
    },
    {
     "name": "stdout",
     "output_type": "stream",
     "text": [
      "Epoch [47/100], Loss: 0.2313\n"
     ]
    },
    {
     "name": "stderr",
     "output_type": "stream",
     "text": [
      " 48%|████▊     | 48/100 [04:56<05:24,  6.24s/it]"
     ]
    },
    {
     "name": "stdout",
     "output_type": "stream",
     "text": [
      "Epoch [48/100], Loss: 0.2313\n"
     ]
    },
    {
     "name": "stderr",
     "output_type": "stream",
     "text": [
      " 49%|████▉     | 49/100 [05:03<05:26,  6.39s/it]"
     ]
    },
    {
     "name": "stdout",
     "output_type": "stream",
     "text": [
      "Epoch [49/100], Loss: 0.2312\n"
     ]
    },
    {
     "name": "stderr",
     "output_type": "stream",
     "text": [
      " 50%|█████     | 50/100 [05:09<05:19,  6.40s/it]"
     ]
    },
    {
     "name": "stdout",
     "output_type": "stream",
     "text": [
      "Epoch [50/100], Loss: 0.2309\n"
     ]
    },
    {
     "name": "stderr",
     "output_type": "stream",
     "text": [
      " 51%|█████     | 51/100 [05:16<05:12,  6.37s/it]"
     ]
    },
    {
     "name": "stdout",
     "output_type": "stream",
     "text": [
      "Epoch [51/100], Loss: 0.2309\n"
     ]
    },
    {
     "name": "stderr",
     "output_type": "stream",
     "text": [
      " 52%|█████▏    | 52/100 [05:22<05:04,  6.35s/it]"
     ]
    },
    {
     "name": "stdout",
     "output_type": "stream",
     "text": [
      "Epoch [52/100], Loss: 0.2308\n"
     ]
    },
    {
     "name": "stderr",
     "output_type": "stream",
     "text": [
      " 53%|█████▎    | 53/100 [05:28<04:56,  6.31s/it]"
     ]
    },
    {
     "name": "stdout",
     "output_type": "stream",
     "text": [
      "Epoch [53/100], Loss: 0.2310\n"
     ]
    },
    {
     "name": "stderr",
     "output_type": "stream",
     "text": [
      " 54%|█████▍    | 54/100 [05:35<04:49,  6.30s/it]"
     ]
    },
    {
     "name": "stdout",
     "output_type": "stream",
     "text": [
      "Epoch [54/100], Loss: 0.2307\n"
     ]
    },
    {
     "name": "stderr",
     "output_type": "stream",
     "text": [
      " 55%|█████▌    | 55/100 [05:41<04:42,  6.29s/it]"
     ]
    },
    {
     "name": "stdout",
     "output_type": "stream",
     "text": [
      "Epoch [55/100], Loss: 0.2308\n"
     ]
    },
    {
     "name": "stderr",
     "output_type": "stream",
     "text": [
      " 56%|█████▌    | 56/100 [05:47<04:35,  6.27s/it]"
     ]
    },
    {
     "name": "stdout",
     "output_type": "stream",
     "text": [
      "Epoch [56/100], Loss: 0.2307\n"
     ]
    },
    {
     "name": "stderr",
     "output_type": "stream",
     "text": [
      " 57%|█████▋    | 57/100 [05:53<04:29,  6.26s/it]"
     ]
    },
    {
     "name": "stdout",
     "output_type": "stream",
     "text": [
      "Epoch [57/100], Loss: 0.2304\n"
     ]
    },
    {
     "name": "stderr",
     "output_type": "stream",
     "text": [
      " 58%|█████▊    | 58/100 [05:59<04:21,  6.23s/it]"
     ]
    },
    {
     "name": "stdout",
     "output_type": "stream",
     "text": [
      "Epoch [58/100], Loss: 0.2305\n"
     ]
    },
    {
     "name": "stderr",
     "output_type": "stream",
     "text": [
      " 59%|█████▉    | 59/100 [06:06<04:14,  6.22s/it]"
     ]
    },
    {
     "name": "stdout",
     "output_type": "stream",
     "text": [
      "Epoch [59/100], Loss: 0.2304\n"
     ]
    },
    {
     "name": "stderr",
     "output_type": "stream",
     "text": [
      " 60%|██████    | 60/100 [06:12<04:09,  6.24s/it]"
     ]
    },
    {
     "name": "stdout",
     "output_type": "stream",
     "text": [
      "Epoch [60/100], Loss: 0.2303\n"
     ]
    },
    {
     "name": "stderr",
     "output_type": "stream",
     "text": [
      " 61%|██████    | 61/100 [06:18<04:03,  6.25s/it]"
     ]
    },
    {
     "name": "stdout",
     "output_type": "stream",
     "text": [
      "Epoch [61/100], Loss: 0.2301\n"
     ]
    },
    {
     "name": "stderr",
     "output_type": "stream",
     "text": [
      " 62%|██████▏   | 62/100 [06:25<03:58,  6.27s/it]"
     ]
    },
    {
     "name": "stdout",
     "output_type": "stream",
     "text": [
      "Epoch [62/100], Loss: 0.2302\n"
     ]
    },
    {
     "name": "stderr",
     "output_type": "stream",
     "text": [
      " 63%|██████▎   | 63/100 [06:31<03:53,  6.30s/it]"
     ]
    },
    {
     "name": "stdout",
     "output_type": "stream",
     "text": [
      "Epoch [63/100], Loss: 0.2301\n"
     ]
    },
    {
     "name": "stderr",
     "output_type": "stream",
     "text": [
      " 64%|██████▍   | 64/100 [06:37<03:47,  6.32s/it]"
     ]
    },
    {
     "name": "stdout",
     "output_type": "stream",
     "text": [
      "Epoch [64/100], Loss: 0.2297\n"
     ]
    },
    {
     "name": "stderr",
     "output_type": "stream",
     "text": [
      " 65%|██████▌   | 65/100 [06:44<03:41,  6.33s/it]"
     ]
    },
    {
     "name": "stdout",
     "output_type": "stream",
     "text": [
      "Epoch [65/100], Loss: 0.2299\n"
     ]
    },
    {
     "name": "stderr",
     "output_type": "stream",
     "text": [
      " 66%|██████▌   | 66/100 [06:50<03:35,  6.35s/it]"
     ]
    },
    {
     "name": "stdout",
     "output_type": "stream",
     "text": [
      "Epoch [66/100], Loss: 0.2298\n"
     ]
    },
    {
     "name": "stderr",
     "output_type": "stream",
     "text": [
      " 67%|██████▋   | 67/100 [06:56<03:28,  6.33s/it]"
     ]
    },
    {
     "name": "stdout",
     "output_type": "stream",
     "text": [
      "Epoch [67/100], Loss: 0.2296\n"
     ]
    },
    {
     "name": "stderr",
     "output_type": "stream",
     "text": [
      " 68%|██████▊   | 68/100 [07:03<03:22,  6.32s/it]"
     ]
    },
    {
     "name": "stdout",
     "output_type": "stream",
     "text": [
      "Epoch [68/100], Loss: 0.2296\n"
     ]
    },
    {
     "name": "stderr",
     "output_type": "stream",
     "text": [
      " 69%|██████▉   | 69/100 [07:09<03:15,  6.31s/it]"
     ]
    },
    {
     "name": "stdout",
     "output_type": "stream",
     "text": [
      "Epoch [69/100], Loss: 0.2295\n"
     ]
    },
    {
     "name": "stderr",
     "output_type": "stream",
     "text": [
      " 70%|███████   | 70/100 [07:15<03:09,  6.31s/it]"
     ]
    },
    {
     "name": "stdout",
     "output_type": "stream",
     "text": [
      "Epoch [70/100], Loss: 0.2295\n"
     ]
    },
    {
     "name": "stderr",
     "output_type": "stream",
     "text": [
      " 71%|███████   | 71/100 [07:22<03:03,  6.33s/it]"
     ]
    },
    {
     "name": "stdout",
     "output_type": "stream",
     "text": [
      "Epoch [71/100], Loss: 0.2295\n"
     ]
    },
    {
     "name": "stderr",
     "output_type": "stream",
     "text": [
      " 72%|███████▏  | 72/100 [07:28<02:57,  6.35s/it]"
     ]
    },
    {
     "name": "stdout",
     "output_type": "stream",
     "text": [
      "Epoch [72/100], Loss: 0.2296\n"
     ]
    },
    {
     "name": "stderr",
     "output_type": "stream",
     "text": [
      " 73%|███████▎  | 73/100 [07:34<02:51,  6.36s/it]"
     ]
    },
    {
     "name": "stdout",
     "output_type": "stream",
     "text": [
      "Epoch [73/100], Loss: 0.2293\n"
     ]
    },
    {
     "name": "stderr",
     "output_type": "stream",
     "text": [
      " 74%|███████▍  | 74/100 [07:41<02:45,  6.37s/it]"
     ]
    },
    {
     "name": "stdout",
     "output_type": "stream",
     "text": [
      "Epoch [74/100], Loss: 0.2295\n"
     ]
    },
    {
     "name": "stderr",
     "output_type": "stream",
     "text": [
      " 75%|███████▌  | 75/100 [07:47<02:39,  6.38s/it]"
     ]
    },
    {
     "name": "stdout",
     "output_type": "stream",
     "text": [
      "Epoch [75/100], Loss: 0.2291\n"
     ]
    },
    {
     "name": "stderr",
     "output_type": "stream",
     "text": [
      " 76%|███████▌  | 76/100 [07:53<02:33,  6.38s/it]"
     ]
    },
    {
     "name": "stdout",
     "output_type": "stream",
     "text": [
      "Epoch [76/100], Loss: 0.2291\n"
     ]
    },
    {
     "name": "stderr",
     "output_type": "stream",
     "text": [
      " 77%|███████▋  | 77/100 [08:00<02:26,  6.37s/it]"
     ]
    },
    {
     "name": "stdout",
     "output_type": "stream",
     "text": [
      "Epoch [77/100], Loss: 0.2293\n"
     ]
    },
    {
     "name": "stderr",
     "output_type": "stream",
     "text": [
      " 78%|███████▊  | 78/100 [08:06<02:19,  6.36s/it]"
     ]
    },
    {
     "name": "stdout",
     "output_type": "stream",
     "text": [
      "Epoch [78/100], Loss: 0.2290\n"
     ]
    },
    {
     "name": "stderr",
     "output_type": "stream",
     "text": [
      " 79%|███████▉  | 79/100 [08:13<02:13,  6.36s/it]"
     ]
    },
    {
     "name": "stdout",
     "output_type": "stream",
     "text": [
      "Epoch [79/100], Loss: 0.2293\n"
     ]
    },
    {
     "name": "stderr",
     "output_type": "stream",
     "text": [
      " 80%|████████  | 80/100 [08:19<02:08,  6.42s/it]"
     ]
    },
    {
     "name": "stdout",
     "output_type": "stream",
     "text": [
      "Epoch [80/100], Loss: 0.2289\n"
     ]
    },
    {
     "name": "stderr",
     "output_type": "stream",
     "text": [
      " 81%|████████  | 81/100 [08:25<02:01,  6.41s/it]"
     ]
    },
    {
     "name": "stdout",
     "output_type": "stream",
     "text": [
      "Epoch [81/100], Loss: 0.2289\n"
     ]
    },
    {
     "name": "stderr",
     "output_type": "stream",
     "text": [
      " 82%|████████▏ | 82/100 [08:32<01:54,  6.39s/it]"
     ]
    },
    {
     "name": "stdout",
     "output_type": "stream",
     "text": [
      "Epoch [82/100], Loss: 0.2291\n"
     ]
    },
    {
     "name": "stderr",
     "output_type": "stream",
     "text": [
      " 83%|████████▎ | 83/100 [08:38<01:48,  6.38s/it]"
     ]
    },
    {
     "name": "stdout",
     "output_type": "stream",
     "text": [
      "Epoch [83/100], Loss: 0.2288\n"
     ]
    },
    {
     "name": "stderr",
     "output_type": "stream",
     "text": [
      " 84%|████████▍ | 84/100 [08:45<01:42,  6.38s/it]"
     ]
    },
    {
     "name": "stdout",
     "output_type": "stream",
     "text": [
      "Epoch [84/100], Loss: 0.2289\n"
     ]
    },
    {
     "name": "stderr",
     "output_type": "stream",
     "text": [
      " 85%|████████▌ | 85/100 [08:51<01:35,  6.38s/it]"
     ]
    },
    {
     "name": "stdout",
     "output_type": "stream",
     "text": [
      "Epoch [85/100], Loss: 0.2289\n"
     ]
    },
    {
     "name": "stderr",
     "output_type": "stream",
     "text": [
      " 86%|████████▌ | 86/100 [08:57<01:29,  6.38s/it]"
     ]
    },
    {
     "name": "stdout",
     "output_type": "stream",
     "text": [
      "Epoch [86/100], Loss: 0.2289\n"
     ]
    },
    {
     "name": "stderr",
     "output_type": "stream",
     "text": [
      " 87%|████████▋ | 87/100 [09:04<01:22,  6.34s/it]"
     ]
    },
    {
     "name": "stdout",
     "output_type": "stream",
     "text": [
      "Epoch [87/100], Loss: 0.2288\n"
     ]
    },
    {
     "name": "stderr",
     "output_type": "stream",
     "text": [
      " 88%|████████▊ | 88/100 [09:10<01:15,  6.30s/it]"
     ]
    },
    {
     "name": "stdout",
     "output_type": "stream",
     "text": [
      "Epoch [88/100], Loss: 0.2287\n"
     ]
    },
    {
     "name": "stderr",
     "output_type": "stream",
     "text": [
      " 89%|████████▉ | 89/100 [09:16<01:09,  6.28s/it]"
     ]
    },
    {
     "name": "stdout",
     "output_type": "stream",
     "text": [
      "Epoch [89/100], Loss: 0.2285\n"
     ]
    },
    {
     "name": "stderr",
     "output_type": "stream",
     "text": [
      " 90%|█████████ | 90/100 [09:22<01:03,  6.32s/it]"
     ]
    },
    {
     "name": "stdout",
     "output_type": "stream",
     "text": [
      "Epoch [90/100], Loss: 0.2286\n"
     ]
    },
    {
     "name": "stderr",
     "output_type": "stream",
     "text": [
      " 91%|█████████ | 91/100 [09:29<00:57,  6.34s/it]"
     ]
    },
    {
     "name": "stdout",
     "output_type": "stream",
     "text": [
      "Epoch [91/100], Loss: 0.2285\n"
     ]
    },
    {
     "name": "stderr",
     "output_type": "stream",
     "text": [
      " 92%|█████████▏| 92/100 [09:35<00:50,  6.36s/it]"
     ]
    },
    {
     "name": "stdout",
     "output_type": "stream",
     "text": [
      "Epoch [92/100], Loss: 0.2287\n"
     ]
    },
    {
     "name": "stderr",
     "output_type": "stream",
     "text": [
      " 93%|█████████▎| 93/100 [09:42<00:44,  6.37s/it]"
     ]
    },
    {
     "name": "stdout",
     "output_type": "stream",
     "text": [
      "Epoch [93/100], Loss: 0.2285\n"
     ]
    },
    {
     "name": "stderr",
     "output_type": "stream",
     "text": [
      " 94%|█████████▍| 94/100 [09:48<00:38,  6.40s/it]"
     ]
    },
    {
     "name": "stdout",
     "output_type": "stream",
     "text": [
      "Epoch [94/100], Loss: 0.2284\n"
     ]
    },
    {
     "name": "stderr",
     "output_type": "stream",
     "text": [
      " 95%|█████████▌| 95/100 [09:54<00:31,  6.39s/it]"
     ]
    },
    {
     "name": "stdout",
     "output_type": "stream",
     "text": [
      "Epoch [95/100], Loss: 0.2284\n"
     ]
    },
    {
     "name": "stderr",
     "output_type": "stream",
     "text": [
      " 96%|█████████▌| 96/100 [10:01<00:25,  6.39s/it]"
     ]
    },
    {
     "name": "stdout",
     "output_type": "stream",
     "text": [
      "Epoch [96/100], Loss: 0.2284\n"
     ]
    },
    {
     "name": "stderr",
     "output_type": "stream",
     "text": [
      " 97%|█████████▋| 97/100 [10:09<00:20,  6.94s/it]"
     ]
    },
    {
     "name": "stdout",
     "output_type": "stream",
     "text": [
      "Epoch [97/100], Loss: 0.2284\n"
     ]
    },
    {
     "name": "stderr",
     "output_type": "stream",
     "text": [
      " 98%|█████████▊| 98/100 [10:15<00:13,  6.78s/it]"
     ]
    },
    {
     "name": "stdout",
     "output_type": "stream",
     "text": [
      "Epoch [98/100], Loss: 0.2285\n"
     ]
    },
    {
     "name": "stderr",
     "output_type": "stream",
     "text": [
      " 99%|█████████▉| 99/100 [10:22<00:06,  6.80s/it]"
     ]
    },
    {
     "name": "stdout",
     "output_type": "stream",
     "text": [
      "Epoch [99/100], Loss: 0.2285\n"
     ]
    },
    {
     "name": "stderr",
     "output_type": "stream",
     "text": [
      "100%|██████████| 100/100 [10:29<00:00,  6.29s/it]"
     ]
    },
    {
     "name": "stdout",
     "output_type": "stream",
     "text": [
      "Epoch [100/100], Loss: 0.2283\n"
     ]
    },
    {
     "name": "stderr",
     "output_type": "stream",
     "text": [
      "\n",
      "/home/icb/alessandro.palma/miniconda3/envs/celldreamer/lib/python3.10/site-packages/sklearn/metrics/_classification.py:1334: UndefinedMetricWarning: Precision and F-score are ill-defined and being set to 0.0 in labels with no predicted samples. Use `zero_division` parameter to control this behavior.\n",
      "  _warn_prf(average, modifier, msg_start, len(result))\n",
      "/home/icb/alessandro.palma/miniconda3/envs/celldreamer/lib/python3.10/site-packages/sklearn/metrics/_classification.py:1334: UndefinedMetricWarning: Precision and F-score are ill-defined and being set to 0.0 in labels with no predicted samples. Use `zero_division` parameter to control this behavior.\n",
      "  _warn_prf(average, modifier, msg_start, len(result))\n",
      "/home/icb/alessandro.palma/miniconda3/envs/celldreamer/lib/python3.10/site-packages/sklearn/metrics/_classification.py:1334: UndefinedMetricWarning: Precision and F-score are ill-defined and being set to 0.0 in labels with no predicted samples. Use `zero_division` parameter to control this behavior.\n",
      "  _warn_prf(average, modifier, msg_start, len(result))\n"
     ]
    }
   ],
   "source": [
    "results_non_augmented = train_and_predict_multiclass_logistic_regression_torch(X_non_augmented, \n",
    "                                                       X_test,\n",
    "                                                       y_non_augmented,\n",
    "                                                       y_test, \n",
    "                                                       batch_size=64,\n",
    "                                                       epochs=100, \n",
    "                                                       learning_rate=0.001)"
   ]
  },
  {
   "cell_type": "code",
   "execution_count": 9,
   "id": "6df491e6-5311-43d8-a8cd-7e2e44ee9a7e",
   "metadata": {
    "scrolled": true
   },
   "outputs": [],
   "source": [
    "results_non_aug = pd.DataFrame(results_non_augmented[2]).T"
   ]
  },
  {
   "cell_type": "code",
   "execution_count": 10,
   "id": "79963715-d6d5-4f12-ad14-f14570bd6692",
   "metadata": {},
   "outputs": [],
   "source": [
    "results_non_aug.index = list(oh_encoder.categories_[0])+list(results_non_aug.index)[29:]"
   ]
  },
  {
   "cell_type": "code",
   "execution_count": 11,
   "id": "fd7c7f1b-5242-432a-a1d1-c76efc757cca",
   "metadata": {
    "scrolled": true
   },
   "outputs": [
    {
     "data": {
      "text/html": [
       "<div>\n",
       "<style scoped>\n",
       "    .dataframe tbody tr th:only-of-type {\n",
       "        vertical-align: middle;\n",
       "    }\n",
       "\n",
       "    .dataframe tbody tr th {\n",
       "        vertical-align: top;\n",
       "    }\n",
       "\n",
       "    .dataframe thead th {\n",
       "        text-align: right;\n",
       "    }\n",
       "</style>\n",
       "<table border=\"1\" class=\"dataframe\">\n",
       "  <thead>\n",
       "    <tr style=\"text-align: right;\">\n",
       "      <th></th>\n",
       "      <th>precision</th>\n",
       "      <th>recall</th>\n",
       "      <th>f1-score</th>\n",
       "      <th>support</th>\n",
       "    </tr>\n",
       "  </thead>\n",
       "  <tbody>\n",
       "    <tr>\n",
       "      <th>accuracy</th>\n",
       "      <td>0.738507</td>\n",
       "      <td>0.738507</td>\n",
       "      <td>0.738507</td>\n",
       "      <td>0.738507</td>\n",
       "    </tr>\n",
       "    <tr>\n",
       "      <th>granulocyte</th>\n",
       "      <td>1.000000</td>\n",
       "      <td>1.000000</td>\n",
       "      <td>1.000000</td>\n",
       "      <td>1.000000</td>\n",
       "    </tr>\n",
       "    <tr>\n",
       "      <th>plasmablast</th>\n",
       "      <td>0.250000</td>\n",
       "      <td>0.071429</td>\n",
       "      <td>0.111111</td>\n",
       "      <td>14.000000</td>\n",
       "    </tr>\n",
       "    <tr>\n",
       "      <th>dendritic cell</th>\n",
       "      <td>0.000000</td>\n",
       "      <td>0.000000</td>\n",
       "      <td>0.000000</td>\n",
       "      <td>15.000000</td>\n",
       "    </tr>\n",
       "    <tr>\n",
       "      <th>erythrocyte</th>\n",
       "      <td>0.857143</td>\n",
       "      <td>0.947368</td>\n",
       "      <td>0.900000</td>\n",
       "      <td>57.000000</td>\n",
       "    </tr>\n",
       "    <tr>\n",
       "      <th>innate lymphoid cell</th>\n",
       "      <td>0.169014</td>\n",
       "      <td>0.580645</td>\n",
       "      <td>0.261818</td>\n",
       "      <td>62.000000</td>\n",
       "    </tr>\n",
       "    <tr>\n",
       "      <th>mature NK T cell</th>\n",
       "      <td>0.031056</td>\n",
       "      <td>0.070423</td>\n",
       "      <td>0.043103</td>\n",
       "      <td>71.000000</td>\n",
       "    </tr>\n",
       "    <tr>\n",
       "      <th>hematopoietic precursor cell</th>\n",
       "      <td>1.000000</td>\n",
       "      <td>0.868056</td>\n",
       "      <td>0.929368</td>\n",
       "      <td>144.000000</td>\n",
       "    </tr>\n",
       "    <tr>\n",
       "      <th>plasma cell</th>\n",
       "      <td>0.868263</td>\n",
       "      <td>0.843023</td>\n",
       "      <td>0.855457</td>\n",
       "      <td>172.000000</td>\n",
       "    </tr>\n",
       "    <tr>\n",
       "      <th>platelet</th>\n",
       "      <td>0.996552</td>\n",
       "      <td>0.982993</td>\n",
       "      <td>0.989726</td>\n",
       "      <td>294.000000</td>\n",
       "    </tr>\n",
       "    <tr>\n",
       "      <th>plasmacytoid dendritic cell</th>\n",
       "      <td>0.942492</td>\n",
       "      <td>1.000000</td>\n",
       "      <td>0.970395</td>\n",
       "      <td>295.000000</td>\n",
       "    </tr>\n",
       "    <tr>\n",
       "      <th>effector memory CD8-positive, alpha-beta T cell</th>\n",
       "      <td>0.243697</td>\n",
       "      <td>0.163380</td>\n",
       "      <td>0.195616</td>\n",
       "      <td>355.000000</td>\n",
       "    </tr>\n",
       "    <tr>\n",
       "      <th>CD4-positive, alpha-beta cytotoxic T cell</th>\n",
       "      <td>0.167059</td>\n",
       "      <td>0.731959</td>\n",
       "      <td>0.272031</td>\n",
       "      <td>388.000000</td>\n",
       "    </tr>\n",
       "    <tr>\n",
       "      <th>mucosal invariant T cell</th>\n",
       "      <td>0.518742</td>\n",
       "      <td>0.794444</td>\n",
       "      <td>0.627652</td>\n",
       "      <td>540.000000</td>\n",
       "    </tr>\n",
       "    <tr>\n",
       "      <th>B cell</th>\n",
       "      <td>0.784247</td>\n",
       "      <td>0.413357</td>\n",
       "      <td>0.541371</td>\n",
       "      <td>554.000000</td>\n",
       "    </tr>\n",
       "    <tr>\n",
       "      <th>class switched memory B cell</th>\n",
       "      <td>0.744000</td>\n",
       "      <td>0.241245</td>\n",
       "      <td>0.364349</td>\n",
       "      <td>771.000000</td>\n",
       "    </tr>\n",
       "    <tr>\n",
       "      <th>effector memory CD8-positive, alpha-beta T cell, terminally differentiated</th>\n",
       "      <td>0.388982</td>\n",
       "      <td>0.809965</td>\n",
       "      <td>0.525564</td>\n",
       "      <td>863.000000</td>\n",
       "    </tr>\n",
       "    <tr>\n",
       "      <th>gamma-delta T cell</th>\n",
       "      <td>0.617384</td>\n",
       "      <td>0.787429</td>\n",
       "      <td>0.692115</td>\n",
       "      <td>875.000000</td>\n",
       "    </tr>\n",
       "    <tr>\n",
       "      <th>CD16-negative, CD56-bright natural killer cell, human</th>\n",
       "      <td>0.841010</td>\n",
       "      <td>0.635241</td>\n",
       "      <td>0.723785</td>\n",
       "      <td>891.000000</td>\n",
       "    </tr>\n",
       "    <tr>\n",
       "      <th>conventional dendritic cell</th>\n",
       "      <td>0.742412</td>\n",
       "      <td>0.864374</td>\n",
       "      <td>0.798764</td>\n",
       "      <td>1047.000000</td>\n",
       "    </tr>\n",
       "    <tr>\n",
       "      <th>regulatory T cell</th>\n",
       "      <td>0.243663</td>\n",
       "      <td>0.948565</td>\n",
       "      <td>0.387728</td>\n",
       "      <td>1672.000000</td>\n",
       "    </tr>\n",
       "    <tr>\n",
       "      <th>central memory CD8-positive, alpha-beta T cell</th>\n",
       "      <td>0.651754</td>\n",
       "      <td>0.638446</td>\n",
       "      <td>0.645031</td>\n",
       "      <td>2008.000000</td>\n",
       "    </tr>\n",
       "    <tr>\n",
       "      <th>non-classical monocyte</th>\n",
       "      <td>0.435828</td>\n",
       "      <td>0.993827</td>\n",
       "      <td>0.605933</td>\n",
       "      <td>2754.000000</td>\n",
       "    </tr>\n",
       "    <tr>\n",
       "      <th>CD8-positive, alpha-beta cytotoxic T cell</th>\n",
       "      <td>0.762557</td>\n",
       "      <td>0.317749</td>\n",
       "      <td>0.448580</td>\n",
       "      <td>3679.000000</td>\n",
       "    </tr>\n",
       "    <tr>\n",
       "      <th>naive B cell</th>\n",
       "      <td>0.728547</td>\n",
       "      <td>0.987408</td>\n",
       "      <td>0.838453</td>\n",
       "      <td>4368.000000</td>\n",
       "    </tr>\n",
       "    <tr>\n",
       "      <th>naive thymus-derived CD8-positive, alpha-beta T cell</th>\n",
       "      <td>0.888291</td>\n",
       "      <td>0.924658</td>\n",
       "      <td>0.906109</td>\n",
       "      <td>6424.000000</td>\n",
       "    </tr>\n",
       "    <tr>\n",
       "      <th>CD4-positive helper T cell</th>\n",
       "      <td>0.747575</td>\n",
       "      <td>0.780701</td>\n",
       "      <td>0.763779</td>\n",
       "      <td>7109.000000</td>\n",
       "    </tr>\n",
       "    <tr>\n",
       "      <th>natural killer cell</th>\n",
       "      <td>0.909935</td>\n",
       "      <td>0.818592</td>\n",
       "      <td>0.861850</td>\n",
       "      <td>7541.000000</td>\n",
       "    </tr>\n",
       "    <tr>\n",
       "      <th>classical monocyte</th>\n",
       "      <td>0.988569</td>\n",
       "      <td>0.691385</td>\n",
       "      <td>0.813691</td>\n",
       "      <td>12258.000000</td>\n",
       "    </tr>\n",
       "    <tr>\n",
       "      <th>naive thymus-derived CD4-positive, alpha-beta T cell</th>\n",
       "      <td>0.968851</td>\n",
       "      <td>0.661071</td>\n",
       "      <td>0.785902</td>\n",
       "      <td>18585.000000</td>\n",
       "    </tr>\n",
       "    <tr>\n",
       "      <th>macro avg</th>\n",
       "      <td>0.637504</td>\n",
       "      <td>0.674749</td>\n",
       "      <td>0.615837</td>\n",
       "      <td>73807.000000</td>\n",
       "    </tr>\n",
       "    <tr>\n",
       "      <th>weighted avg</th>\n",
       "      <td>0.835738</td>\n",
       "      <td>0.738507</td>\n",
       "      <td>0.756316</td>\n",
       "      <td>73807.000000</td>\n",
       "    </tr>\n",
       "  </tbody>\n",
       "</table>\n",
       "</div>"
      ],
      "text/plain": [
       "                                                    precision    recall  \\\n",
       "accuracy                                             0.738507  0.738507   \n",
       "granulocyte                                          1.000000  1.000000   \n",
       "plasmablast                                          0.250000  0.071429   \n",
       "dendritic cell                                       0.000000  0.000000   \n",
       "erythrocyte                                          0.857143  0.947368   \n",
       "innate lymphoid cell                                 0.169014  0.580645   \n",
       "mature NK T cell                                     0.031056  0.070423   \n",
       "hematopoietic precursor cell                         1.000000  0.868056   \n",
       "plasma cell                                          0.868263  0.843023   \n",
       "platelet                                             0.996552  0.982993   \n",
       "plasmacytoid dendritic cell                          0.942492  1.000000   \n",
       "effector memory CD8-positive, alpha-beta T cell      0.243697  0.163380   \n",
       "CD4-positive, alpha-beta cytotoxic T cell            0.167059  0.731959   \n",
       "mucosal invariant T cell                             0.518742  0.794444   \n",
       "B cell                                               0.784247  0.413357   \n",
       "class switched memory B cell                         0.744000  0.241245   \n",
       "effector memory CD8-positive, alpha-beta T cell...   0.388982  0.809965   \n",
       "gamma-delta T cell                                   0.617384  0.787429   \n",
       "CD16-negative, CD56-bright natural killer cell,...   0.841010  0.635241   \n",
       "conventional dendritic cell                          0.742412  0.864374   \n",
       "regulatory T cell                                    0.243663  0.948565   \n",
       "central memory CD8-positive, alpha-beta T cell       0.651754  0.638446   \n",
       "non-classical monocyte                               0.435828  0.993827   \n",
       "CD8-positive, alpha-beta cytotoxic T cell            0.762557  0.317749   \n",
       "naive B cell                                         0.728547  0.987408   \n",
       "naive thymus-derived CD8-positive, alpha-beta T...   0.888291  0.924658   \n",
       "CD4-positive helper T cell                           0.747575  0.780701   \n",
       "natural killer cell                                  0.909935  0.818592   \n",
       "classical monocyte                                   0.988569  0.691385   \n",
       "naive thymus-derived CD4-positive, alpha-beta T...   0.968851  0.661071   \n",
       "macro avg                                            0.637504  0.674749   \n",
       "weighted avg                                         0.835738  0.738507   \n",
       "\n",
       "                                                    f1-score       support  \n",
       "accuracy                                            0.738507      0.738507  \n",
       "granulocyte                                         1.000000      1.000000  \n",
       "plasmablast                                         0.111111     14.000000  \n",
       "dendritic cell                                      0.000000     15.000000  \n",
       "erythrocyte                                         0.900000     57.000000  \n",
       "innate lymphoid cell                                0.261818     62.000000  \n",
       "mature NK T cell                                    0.043103     71.000000  \n",
       "hematopoietic precursor cell                        0.929368    144.000000  \n",
       "plasma cell                                         0.855457    172.000000  \n",
       "platelet                                            0.989726    294.000000  \n",
       "plasmacytoid dendritic cell                         0.970395    295.000000  \n",
       "effector memory CD8-positive, alpha-beta T cell     0.195616    355.000000  \n",
       "CD4-positive, alpha-beta cytotoxic T cell           0.272031    388.000000  \n",
       "mucosal invariant T cell                            0.627652    540.000000  \n",
       "B cell                                              0.541371    554.000000  \n",
       "class switched memory B cell                        0.364349    771.000000  \n",
       "effector memory CD8-positive, alpha-beta T cell...  0.525564    863.000000  \n",
       "gamma-delta T cell                                  0.692115    875.000000  \n",
       "CD16-negative, CD56-bright natural killer cell,...  0.723785    891.000000  \n",
       "conventional dendritic cell                         0.798764   1047.000000  \n",
       "regulatory T cell                                   0.387728   1672.000000  \n",
       "central memory CD8-positive, alpha-beta T cell      0.645031   2008.000000  \n",
       "non-classical monocyte                              0.605933   2754.000000  \n",
       "CD8-positive, alpha-beta cytotoxic T cell           0.448580   3679.000000  \n",
       "naive B cell                                        0.838453   4368.000000  \n",
       "naive thymus-derived CD8-positive, alpha-beta T...  0.906109   6424.000000  \n",
       "CD4-positive helper T cell                          0.763779   7109.000000  \n",
       "natural killer cell                                 0.861850   7541.000000  \n",
       "classical monocyte                                  0.813691  12258.000000  \n",
       "naive thymus-derived CD4-positive, alpha-beta T...  0.785902  18585.000000  \n",
       "macro avg                                           0.615837  73807.000000  \n",
       "weighted avg                                        0.756316  73807.000000  "
      ]
     },
     "execution_count": 11,
     "metadata": {},
     "output_type": "execute_result"
    }
   ],
   "source": [
    "results_non_aug.sort_values(by='support')"
   ]
  },
  {
   "cell_type": "markdown",
   "id": "cd09e1c1-6c3d-41d8-b9e3-1d53f81958a5",
   "metadata": {},
   "source": [
    "## Augmented"
   ]
  },
  {
   "cell_type": "code",
   "execution_count": 12,
   "id": "8566008c-175a-46b3-afaf-7db27534c139",
   "metadata": {
    "scrolled": true
   },
   "outputs": [
    {
     "name": "stderr",
     "output_type": "stream",
     "text": [
      "  1%|          | 1/100 [00:13<22:21, 13.55s/it]"
     ]
    },
    {
     "name": "stdout",
     "output_type": "stream",
     "text": [
      "Epoch [1/100], Loss: 0.4273\n"
     ]
    },
    {
     "name": "stderr",
     "output_type": "stream",
     "text": [
      "  2%|▏         | 2/100 [00:26<21:57, 13.44s/it]"
     ]
    },
    {
     "name": "stdout",
     "output_type": "stream",
     "text": [
      "Epoch [2/100], Loss: 0.3599\n"
     ]
    },
    {
     "name": "stderr",
     "output_type": "stream",
     "text": [
      "  3%|▎         | 3/100 [00:40<21:40, 13.41s/it]"
     ]
    },
    {
     "name": "stdout",
     "output_type": "stream",
     "text": [
      "Epoch [3/100], Loss: 0.3536\n"
     ]
    },
    {
     "name": "stderr",
     "output_type": "stream",
     "text": [
      "  4%|▍         | 4/100 [00:53<21:33, 13.47s/it]"
     ]
    },
    {
     "name": "stdout",
     "output_type": "stream",
     "text": [
      "Epoch [4/100], Loss: 0.3503\n"
     ]
    },
    {
     "name": "stderr",
     "output_type": "stream",
     "text": [
      "  5%|▌         | 5/100 [01:07<21:24, 13.52s/it]"
     ]
    },
    {
     "name": "stdout",
     "output_type": "stream",
     "text": [
      "Epoch [5/100], Loss: 0.3483\n"
     ]
    },
    {
     "name": "stderr",
     "output_type": "stream",
     "text": [
      "  6%|▌         | 6/100 [01:20<21:10, 13.52s/it]"
     ]
    },
    {
     "name": "stdout",
     "output_type": "stream",
     "text": [
      "Epoch [6/100], Loss: 0.3469\n"
     ]
    },
    {
     "name": "stderr",
     "output_type": "stream",
     "text": [
      "  7%|▋         | 7/100 [01:34<20:49, 13.44s/it]"
     ]
    },
    {
     "name": "stdout",
     "output_type": "stream",
     "text": [
      "Epoch [7/100], Loss: 0.3463\n"
     ]
    },
    {
     "name": "stderr",
     "output_type": "stream",
     "text": [
      "  8%|▊         | 8/100 [01:47<20:35, 13.42s/it]"
     ]
    },
    {
     "name": "stdout",
     "output_type": "stream",
     "text": [
      "Epoch [8/100], Loss: 0.3453\n"
     ]
    },
    {
     "name": "stderr",
     "output_type": "stream",
     "text": [
      "  9%|▉         | 9/100 [02:01<20:27, 13.49s/it]"
     ]
    },
    {
     "name": "stdout",
     "output_type": "stream",
     "text": [
      "Epoch [9/100], Loss: 0.3449\n"
     ]
    },
    {
     "name": "stderr",
     "output_type": "stream",
     "text": [
      " 10%|█         | 10/100 [02:14<20:16, 13.52s/it]"
     ]
    },
    {
     "name": "stdout",
     "output_type": "stream",
     "text": [
      "Epoch [10/100], Loss: 0.3444\n"
     ]
    },
    {
     "name": "stderr",
     "output_type": "stream",
     "text": [
      " 11%|█         | 11/100 [02:28<20:05, 13.55s/it]"
     ]
    },
    {
     "name": "stdout",
     "output_type": "stream",
     "text": [
      "Epoch [11/100], Loss: 0.3439\n"
     ]
    },
    {
     "name": "stderr",
     "output_type": "stream",
     "text": [
      " 12%|█▏        | 12/100 [02:42<19:55, 13.58s/it]"
     ]
    },
    {
     "name": "stdout",
     "output_type": "stream",
     "text": [
      "Epoch [12/100], Loss: 0.3434\n"
     ]
    },
    {
     "name": "stderr",
     "output_type": "stream",
     "text": [
      " 13%|█▎        | 13/100 [02:55<19:49, 13.67s/it]"
     ]
    },
    {
     "name": "stdout",
     "output_type": "stream",
     "text": [
      "Epoch [13/100], Loss: 0.3435\n"
     ]
    },
    {
     "name": "stderr",
     "output_type": "stream",
     "text": [
      " 14%|█▍        | 14/100 [03:09<19:41, 13.73s/it]"
     ]
    },
    {
     "name": "stdout",
     "output_type": "stream",
     "text": [
      "Epoch [14/100], Loss: 0.3431\n"
     ]
    },
    {
     "name": "stderr",
     "output_type": "stream",
     "text": [
      " 15%|█▌        | 15/100 [03:23<19:32, 13.79s/it]"
     ]
    },
    {
     "name": "stdout",
     "output_type": "stream",
     "text": [
      "Epoch [15/100], Loss: 0.3427\n"
     ]
    },
    {
     "name": "stderr",
     "output_type": "stream",
     "text": [
      " 16%|█▌        | 16/100 [03:37<19:22, 13.84s/it]"
     ]
    },
    {
     "name": "stdout",
     "output_type": "stream",
     "text": [
      "Epoch [16/100], Loss: 0.3429\n"
     ]
    },
    {
     "name": "stderr",
     "output_type": "stream",
     "text": [
      " 17%|█▋        | 17/100 [03:51<19:15, 13.92s/it]"
     ]
    },
    {
     "name": "stdout",
     "output_type": "stream",
     "text": [
      "Epoch [17/100], Loss: 0.3424\n"
     ]
    },
    {
     "name": "stderr",
     "output_type": "stream",
     "text": [
      " 18%|█▊        | 18/100 [04:05<19:02, 13.93s/it]"
     ]
    },
    {
     "name": "stdout",
     "output_type": "stream",
     "text": [
      "Epoch [18/100], Loss: 0.3424\n"
     ]
    },
    {
     "name": "stderr",
     "output_type": "stream",
     "text": [
      " 19%|█▉        | 19/100 [04:19<18:50, 13.96s/it]"
     ]
    },
    {
     "name": "stdout",
     "output_type": "stream",
     "text": [
      "Epoch [19/100], Loss: 0.3423\n"
     ]
    },
    {
     "name": "stderr",
     "output_type": "stream",
     "text": [
      " 20%|██        | 20/100 [04:33<18:36, 13.96s/it]"
     ]
    },
    {
     "name": "stdout",
     "output_type": "stream",
     "text": [
      "Epoch [20/100], Loss: 0.3420\n"
     ]
    },
    {
     "name": "stderr",
     "output_type": "stream",
     "text": [
      " 21%|██        | 21/100 [04:47<18:23, 13.96s/it]"
     ]
    },
    {
     "name": "stdout",
     "output_type": "stream",
     "text": [
      "Epoch [21/100], Loss: 0.3421\n"
     ]
    },
    {
     "name": "stderr",
     "output_type": "stream",
     "text": [
      " 22%|██▏       | 22/100 [05:02<18:15, 14.05s/it]"
     ]
    },
    {
     "name": "stdout",
     "output_type": "stream",
     "text": [
      "Epoch [22/100], Loss: 0.3419\n"
     ]
    },
    {
     "name": "stderr",
     "output_type": "stream",
     "text": [
      " 23%|██▎       | 23/100 [05:15<17:56, 13.98s/it]"
     ]
    },
    {
     "name": "stdout",
     "output_type": "stream",
     "text": [
      "Epoch [23/100], Loss: 0.3419\n"
     ]
    },
    {
     "name": "stderr",
     "output_type": "stream",
     "text": [
      " 24%|██▍       | 24/100 [05:29<17:36, 13.91s/it]"
     ]
    },
    {
     "name": "stdout",
     "output_type": "stream",
     "text": [
      "Epoch [24/100], Loss: 0.3418\n"
     ]
    },
    {
     "name": "stderr",
     "output_type": "stream",
     "text": [
      " 25%|██▌       | 25/100 [05:43<17:19, 13.86s/it]"
     ]
    },
    {
     "name": "stdout",
     "output_type": "stream",
     "text": [
      "Epoch [25/100], Loss: 0.3416\n"
     ]
    },
    {
     "name": "stderr",
     "output_type": "stream",
     "text": [
      " 26%|██▌       | 26/100 [05:57<17:08, 13.90s/it]"
     ]
    },
    {
     "name": "stdout",
     "output_type": "stream",
     "text": [
      "Epoch [26/100], Loss: 0.3417\n"
     ]
    },
    {
     "name": "stderr",
     "output_type": "stream",
     "text": [
      " 27%|██▋       | 27/100 [06:11<16:55, 13.91s/it]"
     ]
    },
    {
     "name": "stdout",
     "output_type": "stream",
     "text": [
      "Epoch [27/100], Loss: 0.3416\n"
     ]
    },
    {
     "name": "stderr",
     "output_type": "stream",
     "text": [
      " 28%|██▊       | 28/100 [06:25<16:38, 13.87s/it]"
     ]
    },
    {
     "name": "stdout",
     "output_type": "stream",
     "text": [
      "Epoch [28/100], Loss: 0.3414\n"
     ]
    },
    {
     "name": "stderr",
     "output_type": "stream",
     "text": [
      " 29%|██▉       | 29/100 [06:39<16:27, 13.91s/it]"
     ]
    },
    {
     "name": "stdout",
     "output_type": "stream",
     "text": [
      "Epoch [29/100], Loss: 0.3415\n"
     ]
    },
    {
     "name": "stderr",
     "output_type": "stream",
     "text": [
      " 30%|███       | 30/100 [06:53<16:16, 13.95s/it]"
     ]
    },
    {
     "name": "stdout",
     "output_type": "stream",
     "text": [
      "Epoch [30/100], Loss: 0.3414\n"
     ]
    },
    {
     "name": "stderr",
     "output_type": "stream",
     "text": [
      " 31%|███       | 31/100 [07:07<16:03, 13.97s/it]"
     ]
    },
    {
     "name": "stdout",
     "output_type": "stream",
     "text": [
      "Epoch [31/100], Loss: 0.3413\n"
     ]
    },
    {
     "name": "stderr",
     "output_type": "stream",
     "text": [
      " 32%|███▏      | 32/100 [07:21<15:51, 13.99s/it]"
     ]
    },
    {
     "name": "stdout",
     "output_type": "stream",
     "text": [
      "Epoch [32/100], Loss: 0.3413\n"
     ]
    },
    {
     "name": "stderr",
     "output_type": "stream",
     "text": [
      " 33%|███▎      | 33/100 [07:35<15:37, 14.00s/it]"
     ]
    },
    {
     "name": "stdout",
     "output_type": "stream",
     "text": [
      "Epoch [33/100], Loss: 0.3411\n"
     ]
    },
    {
     "name": "stderr",
     "output_type": "stream",
     "text": [
      " 34%|███▍      | 34/100 [07:49<15:22, 13.97s/it]"
     ]
    },
    {
     "name": "stdout",
     "output_type": "stream",
     "text": [
      "Epoch [34/100], Loss: 0.3412\n"
     ]
    },
    {
     "name": "stderr",
     "output_type": "stream",
     "text": [
      " 35%|███▌      | 35/100 [08:03<15:09, 13.99s/it]"
     ]
    },
    {
     "name": "stdout",
     "output_type": "stream",
     "text": [
      "Epoch [35/100], Loss: 0.3411\n"
     ]
    },
    {
     "name": "stderr",
     "output_type": "stream",
     "text": [
      " 36%|███▌      | 36/100 [08:17<14:56, 14.01s/it]"
     ]
    },
    {
     "name": "stdout",
     "output_type": "stream",
     "text": [
      "Epoch [36/100], Loss: 0.3411\n"
     ]
    },
    {
     "name": "stderr",
     "output_type": "stream",
     "text": [
      " 37%|███▋      | 37/100 [08:30<14:39, 13.96s/it]"
     ]
    },
    {
     "name": "stdout",
     "output_type": "stream",
     "text": [
      "Epoch [37/100], Loss: 0.3412\n"
     ]
    },
    {
     "name": "stderr",
     "output_type": "stream",
     "text": [
      " 38%|███▊      | 38/100 [08:44<14:24, 13.94s/it]"
     ]
    },
    {
     "name": "stdout",
     "output_type": "stream",
     "text": [
      "Epoch [38/100], Loss: 0.3412\n"
     ]
    },
    {
     "name": "stderr",
     "output_type": "stream",
     "text": [
      " 39%|███▉      | 39/100 [08:58<14:06, 13.87s/it]"
     ]
    },
    {
     "name": "stdout",
     "output_type": "stream",
     "text": [
      "Epoch [39/100], Loss: 0.3412\n"
     ]
    },
    {
     "name": "stderr",
     "output_type": "stream",
     "text": [
      " 40%|████      | 40/100 [09:12<13:48, 13.82s/it]"
     ]
    },
    {
     "name": "stdout",
     "output_type": "stream",
     "text": [
      "Epoch [40/100], Loss: 0.3412\n"
     ]
    },
    {
     "name": "stderr",
     "output_type": "stream",
     "text": [
      " 41%|████      | 41/100 [09:26<13:38, 13.87s/it]"
     ]
    },
    {
     "name": "stdout",
     "output_type": "stream",
     "text": [
      "Epoch [41/100], Loss: 0.3410\n"
     ]
    },
    {
     "name": "stderr",
     "output_type": "stream",
     "text": [
      " 42%|████▏     | 42/100 [09:40<13:23, 13.85s/it]"
     ]
    },
    {
     "name": "stdout",
     "output_type": "stream",
     "text": [
      "Epoch [42/100], Loss: 0.3410\n"
     ]
    },
    {
     "name": "stderr",
     "output_type": "stream",
     "text": [
      " 43%|████▎     | 43/100 [09:53<13:10, 13.86s/it]"
     ]
    },
    {
     "name": "stdout",
     "output_type": "stream",
     "text": [
      "Epoch [43/100], Loss: 0.3409\n"
     ]
    },
    {
     "name": "stderr",
     "output_type": "stream",
     "text": [
      " 44%|████▍     | 44/100 [10:07<12:56, 13.87s/it]"
     ]
    },
    {
     "name": "stdout",
     "output_type": "stream",
     "text": [
      "Epoch [44/100], Loss: 0.3408\n"
     ]
    },
    {
     "name": "stderr",
     "output_type": "stream",
     "text": [
      " 45%|████▌     | 45/100 [10:21<12:46, 13.94s/it]"
     ]
    },
    {
     "name": "stdout",
     "output_type": "stream",
     "text": [
      "Epoch [45/100], Loss: 0.3408\n"
     ]
    },
    {
     "name": "stderr",
     "output_type": "stream",
     "text": [
      " 46%|████▌     | 46/100 [10:36<12:35, 13.98s/it]"
     ]
    },
    {
     "name": "stdout",
     "output_type": "stream",
     "text": [
      "Epoch [46/100], Loss: 0.3409\n"
     ]
    },
    {
     "name": "stderr",
     "output_type": "stream",
     "text": [
      " 47%|████▋     | 47/100 [10:50<12:23, 14.02s/it]"
     ]
    },
    {
     "name": "stdout",
     "output_type": "stream",
     "text": [
      "Epoch [47/100], Loss: 0.3409\n"
     ]
    },
    {
     "name": "stderr",
     "output_type": "stream",
     "text": [
      " 48%|████▊     | 48/100 [11:04<12:10, 14.05s/it]"
     ]
    },
    {
     "name": "stdout",
     "output_type": "stream",
     "text": [
      "Epoch [48/100], Loss: 0.3410\n"
     ]
    },
    {
     "name": "stderr",
     "output_type": "stream",
     "text": [
      " 49%|████▉     | 49/100 [11:18<11:57, 14.07s/it]"
     ]
    },
    {
     "name": "stdout",
     "output_type": "stream",
     "text": [
      "Epoch [49/100], Loss: 0.3409\n"
     ]
    },
    {
     "name": "stderr",
     "output_type": "stream",
     "text": [
      " 50%|█████     | 50/100 [11:32<11:43, 14.07s/it]"
     ]
    },
    {
     "name": "stdout",
     "output_type": "stream",
     "text": [
      "Epoch [50/100], Loss: 0.3411\n"
     ]
    },
    {
     "name": "stderr",
     "output_type": "stream",
     "text": [
      " 51%|█████     | 51/100 [11:46<11:29, 14.08s/it]"
     ]
    },
    {
     "name": "stdout",
     "output_type": "stream",
     "text": [
      "Epoch [51/100], Loss: 0.3410\n"
     ]
    },
    {
     "name": "stderr",
     "output_type": "stream",
     "text": [
      " 52%|█████▏    | 52/100 [12:00<11:14, 14.05s/it]"
     ]
    },
    {
     "name": "stdout",
     "output_type": "stream",
     "text": [
      "Epoch [52/100], Loss: 0.3408\n"
     ]
    },
    {
     "name": "stderr",
     "output_type": "stream",
     "text": [
      " 53%|█████▎    | 53/100 [12:14<10:59, 14.04s/it]"
     ]
    },
    {
     "name": "stdout",
     "output_type": "stream",
     "text": [
      "Epoch [53/100], Loss: 0.3408\n"
     ]
    },
    {
     "name": "stderr",
     "output_type": "stream",
     "text": [
      " 54%|█████▍    | 54/100 [12:28<10:44, 14.01s/it]"
     ]
    },
    {
     "name": "stdout",
     "output_type": "stream",
     "text": [
      "Epoch [54/100], Loss: 0.3410\n"
     ]
    },
    {
     "name": "stderr",
     "output_type": "stream",
     "text": [
      " 55%|█████▌    | 55/100 [12:42<10:28, 13.96s/it]"
     ]
    },
    {
     "name": "stdout",
     "output_type": "stream",
     "text": [
      "Epoch [55/100], Loss: 0.3409\n"
     ]
    },
    {
     "name": "stderr",
     "output_type": "stream",
     "text": [
      " 56%|█████▌    | 56/100 [12:56<10:13, 13.95s/it]"
     ]
    },
    {
     "name": "stdout",
     "output_type": "stream",
     "text": [
      "Epoch [56/100], Loss: 0.3409\n"
     ]
    },
    {
     "name": "stderr",
     "output_type": "stream",
     "text": [
      " 57%|█████▋    | 57/100 [13:10<09:59, 13.94s/it]"
     ]
    },
    {
     "name": "stdout",
     "output_type": "stream",
     "text": [
      "Epoch [57/100], Loss: 0.3409\n"
     ]
    },
    {
     "name": "stderr",
     "output_type": "stream",
     "text": [
      " 58%|█████▊    | 58/100 [13:24<09:47, 13.99s/it]"
     ]
    },
    {
     "name": "stdout",
     "output_type": "stream",
     "text": [
      "Epoch [58/100], Loss: 0.3408\n"
     ]
    },
    {
     "name": "stderr",
     "output_type": "stream",
     "text": [
      " 59%|█████▉    | 59/100 [13:38<09:35, 14.04s/it]"
     ]
    },
    {
     "name": "stdout",
     "output_type": "stream",
     "text": [
      "Epoch [59/100], Loss: 0.3410\n"
     ]
    },
    {
     "name": "stderr",
     "output_type": "stream",
     "text": [
      " 60%|██████    | 60/100 [13:52<09:22, 14.06s/it]"
     ]
    },
    {
     "name": "stdout",
     "output_type": "stream",
     "text": [
      "Epoch [60/100], Loss: 0.3408\n"
     ]
    },
    {
     "name": "stderr",
     "output_type": "stream",
     "text": [
      " 61%|██████    | 61/100 [14:06<09:07, 14.04s/it]"
     ]
    },
    {
     "name": "stdout",
     "output_type": "stream",
     "text": [
      "Epoch [61/100], Loss: 0.3409\n"
     ]
    },
    {
     "name": "stderr",
     "output_type": "stream",
     "text": [
      " 62%|██████▏   | 62/100 [14:20<08:53, 14.03s/it]"
     ]
    },
    {
     "name": "stdout",
     "output_type": "stream",
     "text": [
      "Epoch [62/100], Loss: 0.3410\n"
     ]
    },
    {
     "name": "stderr",
     "output_type": "stream",
     "text": [
      " 63%|██████▎   | 63/100 [14:34<08:37, 13.98s/it]"
     ]
    },
    {
     "name": "stdout",
     "output_type": "stream",
     "text": [
      "Epoch [63/100], Loss: 0.3408\n"
     ]
    },
    {
     "name": "stderr",
     "output_type": "stream",
     "text": [
      " 64%|██████▍   | 64/100 [14:48<08:23, 13.99s/it]"
     ]
    },
    {
     "name": "stdout",
     "output_type": "stream",
     "text": [
      "Epoch [64/100], Loss: 0.3409\n"
     ]
    },
    {
     "name": "stderr",
     "output_type": "stream",
     "text": [
      " 65%|██████▌   | 65/100 [15:02<08:11, 14.04s/it]"
     ]
    },
    {
     "name": "stdout",
     "output_type": "stream",
     "text": [
      "Epoch [65/100], Loss: 0.3409\n"
     ]
    },
    {
     "name": "stderr",
     "output_type": "stream",
     "text": [
      " 66%|██████▌   | 66/100 [15:16<07:58, 14.07s/it]"
     ]
    },
    {
     "name": "stdout",
     "output_type": "stream",
     "text": [
      "Epoch [66/100], Loss: 0.3408\n"
     ]
    },
    {
     "name": "stderr",
     "output_type": "stream",
     "text": [
      " 67%|██████▋   | 67/100 [15:35<08:31, 15.50s/it]"
     ]
    },
    {
     "name": "stdout",
     "output_type": "stream",
     "text": [
      "Epoch [67/100], Loss: 0.3407\n"
     ]
    },
    {
     "name": "stderr",
     "output_type": "stream",
     "text": [
      " 68%|██████▊   | 68/100 [15:49<08:02, 15.07s/it]"
     ]
    },
    {
     "name": "stdout",
     "output_type": "stream",
     "text": [
      "Epoch [68/100], Loss: 0.3409\n"
     ]
    },
    {
     "name": "stderr",
     "output_type": "stream",
     "text": [
      " 69%|██████▉   | 69/100 [16:03<07:37, 14.75s/it]"
     ]
    },
    {
     "name": "stdout",
     "output_type": "stream",
     "text": [
      "Epoch [69/100], Loss: 0.3407\n"
     ]
    },
    {
     "name": "stderr",
     "output_type": "stream",
     "text": [
      " 70%|███████   | 70/100 [16:17<07:16, 14.55s/it]"
     ]
    },
    {
     "name": "stdout",
     "output_type": "stream",
     "text": [
      "Epoch [70/100], Loss: 0.3408\n"
     ]
    },
    {
     "name": "stderr",
     "output_type": "stream",
     "text": [
      " 71%|███████   | 71/100 [16:31<06:58, 14.44s/it]"
     ]
    },
    {
     "name": "stdout",
     "output_type": "stream",
     "text": [
      "Epoch [71/100], Loss: 0.3411\n"
     ]
    },
    {
     "name": "stderr",
     "output_type": "stream",
     "text": [
      " 72%|███████▏  | 72/100 [16:46<06:42, 14.39s/it]"
     ]
    },
    {
     "name": "stdout",
     "output_type": "stream",
     "text": [
      "Epoch [72/100], Loss: 0.3408\n"
     ]
    },
    {
     "name": "stderr",
     "output_type": "stream",
     "text": [
      " 73%|███████▎  | 73/100 [17:00<06:26, 14.30s/it]"
     ]
    },
    {
     "name": "stdout",
     "output_type": "stream",
     "text": [
      "Epoch [73/100], Loss: 0.3408\n"
     ]
    },
    {
     "name": "stderr",
     "output_type": "stream",
     "text": [
      " 74%|███████▍  | 74/100 [17:14<06:08, 14.19s/it]"
     ]
    },
    {
     "name": "stdout",
     "output_type": "stream",
     "text": [
      "Epoch [74/100], Loss: 0.3411\n"
     ]
    },
    {
     "name": "stderr",
     "output_type": "stream",
     "text": [
      " 75%|███████▌  | 75/100 [17:28<05:53, 14.13s/it]"
     ]
    },
    {
     "name": "stdout",
     "output_type": "stream",
     "text": [
      "Epoch [75/100], Loss: 0.3409\n"
     ]
    },
    {
     "name": "stderr",
     "output_type": "stream",
     "text": [
      " 76%|███████▌  | 76/100 [17:42<05:38, 14.09s/it]"
     ]
    },
    {
     "name": "stdout",
     "output_type": "stream",
     "text": [
      "Epoch [76/100], Loss: 0.3408\n"
     ]
    },
    {
     "name": "stderr",
     "output_type": "stream",
     "text": [
      " 77%|███████▋  | 77/100 [17:56<05:24, 14.13s/it]"
     ]
    },
    {
     "name": "stdout",
     "output_type": "stream",
     "text": [
      "Epoch [77/100], Loss: 0.3409\n"
     ]
    },
    {
     "name": "stderr",
     "output_type": "stream",
     "text": [
      " 78%|███████▊  | 78/100 [18:10<05:10, 14.09s/it]"
     ]
    },
    {
     "name": "stdout",
     "output_type": "stream",
     "text": [
      "Epoch [78/100], Loss: 0.3408\n"
     ]
    },
    {
     "name": "stderr",
     "output_type": "stream",
     "text": [
      " 79%|███████▉  | 79/100 [18:24<04:56, 14.12s/it]"
     ]
    },
    {
     "name": "stdout",
     "output_type": "stream",
     "text": [
      "Epoch [79/100], Loss: 0.3409\n"
     ]
    },
    {
     "name": "stderr",
     "output_type": "stream",
     "text": [
      " 80%|████████  | 80/100 [18:38<04:43, 14.16s/it]"
     ]
    },
    {
     "name": "stdout",
     "output_type": "stream",
     "text": [
      "Epoch [80/100], Loss: 0.3411\n"
     ]
    },
    {
     "name": "stderr",
     "output_type": "stream",
     "text": [
      " 81%|████████  | 81/100 [18:53<04:29, 14.18s/it]"
     ]
    },
    {
     "name": "stdout",
     "output_type": "stream",
     "text": [
      "Epoch [81/100], Loss: 0.3406\n"
     ]
    },
    {
     "name": "stderr",
     "output_type": "stream",
     "text": [
      " 82%|████████▏ | 82/100 [19:07<04:15, 14.22s/it]"
     ]
    },
    {
     "name": "stdout",
     "output_type": "stream",
     "text": [
      "Epoch [82/100], Loss: 0.3408\n"
     ]
    },
    {
     "name": "stderr",
     "output_type": "stream",
     "text": [
      " 83%|████████▎ | 83/100 [19:21<04:01, 14.23s/it]"
     ]
    },
    {
     "name": "stdout",
     "output_type": "stream",
     "text": [
      "Epoch [83/100], Loss: 0.3410\n"
     ]
    },
    {
     "name": "stderr",
     "output_type": "stream",
     "text": [
      " 84%|████████▍ | 84/100 [19:35<03:47, 14.19s/it]"
     ]
    },
    {
     "name": "stdout",
     "output_type": "stream",
     "text": [
      "Epoch [84/100], Loss: 0.3410\n"
     ]
    },
    {
     "name": "stderr",
     "output_type": "stream",
     "text": [
      " 85%|████████▌ | 85/100 [19:49<03:32, 14.16s/it]"
     ]
    },
    {
     "name": "stdout",
     "output_type": "stream",
     "text": [
      "Epoch [85/100], Loss: 0.3409\n"
     ]
    },
    {
     "name": "stderr",
     "output_type": "stream",
     "text": [
      " 86%|████████▌ | 86/100 [20:03<03:17, 14.12s/it]"
     ]
    },
    {
     "name": "stdout",
     "output_type": "stream",
     "text": [
      "Epoch [86/100], Loss: 0.3410\n"
     ]
    },
    {
     "name": "stderr",
     "output_type": "stream",
     "text": [
      " 87%|████████▋ | 87/100 [20:18<03:04, 14.16s/it]"
     ]
    },
    {
     "name": "stdout",
     "output_type": "stream",
     "text": [
      "Epoch [87/100], Loss: 0.3408\n"
     ]
    },
    {
     "name": "stderr",
     "output_type": "stream",
     "text": [
      " 88%|████████▊ | 88/100 [20:32<02:49, 14.11s/it]"
     ]
    },
    {
     "name": "stdout",
     "output_type": "stream",
     "text": [
      "Epoch [88/100], Loss: 0.3408\n"
     ]
    },
    {
     "name": "stderr",
     "output_type": "stream",
     "text": [
      " 89%|████████▉ | 89/100 [20:46<02:34, 14.07s/it]"
     ]
    },
    {
     "name": "stdout",
     "output_type": "stream",
     "text": [
      "Epoch [89/100], Loss: 0.3407\n"
     ]
    },
    {
     "name": "stderr",
     "output_type": "stream",
     "text": [
      " 90%|█████████ | 90/100 [21:00<02:21, 14.16s/it]"
     ]
    },
    {
     "name": "stdout",
     "output_type": "stream",
     "text": [
      "Epoch [90/100], Loss: 0.3409\n"
     ]
    },
    {
     "name": "stderr",
     "output_type": "stream",
     "text": [
      " 91%|█████████ | 91/100 [21:14<02:07, 14.18s/it]"
     ]
    },
    {
     "name": "stdout",
     "output_type": "stream",
     "text": [
      "Epoch [91/100], Loss: 0.3409\n"
     ]
    },
    {
     "name": "stderr",
     "output_type": "stream",
     "text": [
      " 92%|█████████▏| 92/100 [21:28<01:52, 14.10s/it]"
     ]
    },
    {
     "name": "stdout",
     "output_type": "stream",
     "text": [
      "Epoch [92/100], Loss: 0.3411\n"
     ]
    },
    {
     "name": "stderr",
     "output_type": "stream",
     "text": [
      " 93%|█████████▎| 93/100 [21:42<01:38, 14.04s/it]"
     ]
    },
    {
     "name": "stdout",
     "output_type": "stream",
     "text": [
      "Epoch [93/100], Loss: 0.3410\n"
     ]
    },
    {
     "name": "stderr",
     "output_type": "stream",
     "text": [
      " 94%|█████████▍| 94/100 [21:56<01:24, 14.08s/it]"
     ]
    },
    {
     "name": "stdout",
     "output_type": "stream",
     "text": [
      "Epoch [94/100], Loss: 0.3409\n"
     ]
    },
    {
     "name": "stderr",
     "output_type": "stream",
     "text": [
      " 95%|█████████▌| 95/100 [22:10<01:10, 14.12s/it]"
     ]
    },
    {
     "name": "stdout",
     "output_type": "stream",
     "text": [
      "Epoch [95/100], Loss: 0.3409\n"
     ]
    },
    {
     "name": "stderr",
     "output_type": "stream",
     "text": [
      " 96%|█████████▌| 96/100 [22:25<00:56, 14.13s/it]"
     ]
    },
    {
     "name": "stdout",
     "output_type": "stream",
     "text": [
      "Epoch [96/100], Loss: 0.3408\n"
     ]
    },
    {
     "name": "stderr",
     "output_type": "stream",
     "text": [
      " 97%|█████████▋| 97/100 [22:39<00:42, 14.17s/it]"
     ]
    },
    {
     "name": "stdout",
     "output_type": "stream",
     "text": [
      "Epoch [97/100], Loss: 0.3410\n"
     ]
    },
    {
     "name": "stderr",
     "output_type": "stream",
     "text": [
      " 98%|█████████▊| 98/100 [22:53<00:28, 14.21s/it]"
     ]
    },
    {
     "name": "stdout",
     "output_type": "stream",
     "text": [
      "Epoch [98/100], Loss: 0.3408\n"
     ]
    },
    {
     "name": "stderr",
     "output_type": "stream",
     "text": [
      " 99%|█████████▉| 99/100 [23:07<00:14, 14.16s/it]"
     ]
    },
    {
     "name": "stdout",
     "output_type": "stream",
     "text": [
      "Epoch [99/100], Loss: 0.3409\n"
     ]
    },
    {
     "name": "stderr",
     "output_type": "stream",
     "text": [
      "100%|██████████| 100/100 [23:21<00:00, 14.02s/it]"
     ]
    },
    {
     "name": "stdout",
     "output_type": "stream",
     "text": [
      "Epoch [100/100], Loss: 0.3410\n"
     ]
    },
    {
     "name": "stderr",
     "output_type": "stream",
     "text": [
      "\n"
     ]
    }
   ],
   "source": [
    "results_augmented = train_and_predict_multiclass_logistic_regression_torch(X_augmented, \n",
    "                                                       X_test,\n",
    "                                                       y_augmented,\n",
    "                                                       y_test, \n",
    "                                                       batch_size=64,\n",
    "                                                       epochs=100, \n",
    "                                                       learning_rate=0.001)"
   ]
  },
  {
   "cell_type": "code",
   "execution_count": 17,
   "id": "f17f7598-25e7-4f5f-a654-3f85cd8a0cfc",
   "metadata": {},
   "outputs": [],
   "source": [
    "results_aug = pd.DataFrame(results_augmented[2]).T"
   ]
  },
  {
   "cell_type": "code",
   "execution_count": 18,
   "id": "7ee6cb03-a23f-4dcc-8367-fddbe150bdeb",
   "metadata": {},
   "outputs": [],
   "source": [
    "results_aug.index = list(oh_encoder.categories_[0])+list(results_aug.index)[29:]"
   ]
  },
  {
   "cell_type": "code",
   "execution_count": 19,
   "id": "6e2e1fef-8dc1-4cf9-874e-172fdfd22eb6",
   "metadata": {
    "scrolled": true
   },
   "outputs": [
    {
     "data": {
      "text/html": [
       "<div>\n",
       "<style scoped>\n",
       "    .dataframe tbody tr th:only-of-type {\n",
       "        vertical-align: middle;\n",
       "    }\n",
       "\n",
       "    .dataframe tbody tr th {\n",
       "        vertical-align: top;\n",
       "    }\n",
       "\n",
       "    .dataframe thead th {\n",
       "        text-align: right;\n",
       "    }\n",
       "</style>\n",
       "<table border=\"1\" class=\"dataframe\">\n",
       "  <thead>\n",
       "    <tr style=\"text-align: right;\">\n",
       "      <th></th>\n",
       "      <th>precision</th>\n",
       "      <th>recall</th>\n",
       "      <th>f1-score</th>\n",
       "      <th>support</th>\n",
       "    </tr>\n",
       "  </thead>\n",
       "  <tbody>\n",
       "    <tr>\n",
       "      <th>accuracy</th>\n",
       "      <td>0.670953</td>\n",
       "      <td>0.670953</td>\n",
       "      <td>0.670953</td>\n",
       "      <td>0.670953</td>\n",
       "    </tr>\n",
       "    <tr>\n",
       "      <th>granulocyte</th>\n",
       "      <td>0.025641</td>\n",
       "      <td>1.000000</td>\n",
       "      <td>0.050000</td>\n",
       "      <td>1.000000</td>\n",
       "    </tr>\n",
       "    <tr>\n",
       "      <th>plasmablast</th>\n",
       "      <td>0.100000</td>\n",
       "      <td>0.500000</td>\n",
       "      <td>0.166667</td>\n",
       "      <td>14.000000</td>\n",
       "    </tr>\n",
       "    <tr>\n",
       "      <th>dendritic cell</th>\n",
       "      <td>0.058091</td>\n",
       "      <td>0.933333</td>\n",
       "      <td>0.109375</td>\n",
       "      <td>15.000000</td>\n",
       "    </tr>\n",
       "    <tr>\n",
       "      <th>erythrocyte</th>\n",
       "      <td>0.760000</td>\n",
       "      <td>1.000000</td>\n",
       "      <td>0.863636</td>\n",
       "      <td>57.000000</td>\n",
       "    </tr>\n",
       "    <tr>\n",
       "      <th>innate lymphoid cell</th>\n",
       "      <td>0.530303</td>\n",
       "      <td>0.564516</td>\n",
       "      <td>0.546875</td>\n",
       "      <td>62.000000</td>\n",
       "    </tr>\n",
       "    <tr>\n",
       "      <th>mature NK T cell</th>\n",
       "      <td>0.012990</td>\n",
       "      <td>0.704225</td>\n",
       "      <td>0.025510</td>\n",
       "      <td>71.000000</td>\n",
       "    </tr>\n",
       "    <tr>\n",
       "      <th>hematopoietic precursor cell</th>\n",
       "      <td>0.936937</td>\n",
       "      <td>0.722222</td>\n",
       "      <td>0.815686</td>\n",
       "      <td>144.000000</td>\n",
       "    </tr>\n",
       "    <tr>\n",
       "      <th>plasma cell</th>\n",
       "      <td>0.920354</td>\n",
       "      <td>0.604651</td>\n",
       "      <td>0.729825</td>\n",
       "      <td>172.000000</td>\n",
       "    </tr>\n",
       "    <tr>\n",
       "      <th>platelet</th>\n",
       "      <td>0.983051</td>\n",
       "      <td>0.986395</td>\n",
       "      <td>0.984720</td>\n",
       "      <td>294.000000</td>\n",
       "    </tr>\n",
       "    <tr>\n",
       "      <th>plasmacytoid dendritic cell</th>\n",
       "      <td>0.970588</td>\n",
       "      <td>0.671186</td>\n",
       "      <td>0.793587</td>\n",
       "      <td>295.000000</td>\n",
       "    </tr>\n",
       "    <tr>\n",
       "      <th>effector memory CD8-positive, alpha-beta T cell</th>\n",
       "      <td>0.297753</td>\n",
       "      <td>0.149296</td>\n",
       "      <td>0.198874</td>\n",
       "      <td>355.000000</td>\n",
       "    </tr>\n",
       "    <tr>\n",
       "      <th>CD4-positive, alpha-beta cytotoxic T cell</th>\n",
       "      <td>0.194875</td>\n",
       "      <td>0.744845</td>\n",
       "      <td>0.308926</td>\n",
       "      <td>388.000000</td>\n",
       "    </tr>\n",
       "    <tr>\n",
       "      <th>mucosal invariant T cell</th>\n",
       "      <td>0.608379</td>\n",
       "      <td>0.618519</td>\n",
       "      <td>0.613407</td>\n",
       "      <td>540.000000</td>\n",
       "    </tr>\n",
       "    <tr>\n",
       "      <th>B cell</th>\n",
       "      <td>0.117297</td>\n",
       "      <td>0.996390</td>\n",
       "      <td>0.209886</td>\n",
       "      <td>554.000000</td>\n",
       "    </tr>\n",
       "    <tr>\n",
       "      <th>class switched memory B cell</th>\n",
       "      <td>0.617788</td>\n",
       "      <td>0.333333</td>\n",
       "      <td>0.433024</td>\n",
       "      <td>771.000000</td>\n",
       "    </tr>\n",
       "    <tr>\n",
       "      <th>effector memory CD8-positive, alpha-beta T cell, terminally differentiated</th>\n",
       "      <td>0.281701</td>\n",
       "      <td>0.836616</td>\n",
       "      <td>0.421483</td>\n",
       "      <td>863.000000</td>\n",
       "    </tr>\n",
       "    <tr>\n",
       "      <th>gamma-delta T cell</th>\n",
       "      <td>0.578062</td>\n",
       "      <td>0.825143</td>\n",
       "      <td>0.679849</td>\n",
       "      <td>875.000000</td>\n",
       "    </tr>\n",
       "    <tr>\n",
       "      <th>CD16-negative, CD56-bright natural killer cell, human</th>\n",
       "      <td>0.411317</td>\n",
       "      <td>0.848485</td>\n",
       "      <td>0.554049</td>\n",
       "      <td>891.000000</td>\n",
       "    </tr>\n",
       "    <tr>\n",
       "      <th>conventional dendritic cell</th>\n",
       "      <td>0.396429</td>\n",
       "      <td>0.848138</td>\n",
       "      <td>0.540310</td>\n",
       "      <td>1047.000000</td>\n",
       "    </tr>\n",
       "    <tr>\n",
       "      <th>regulatory T cell</th>\n",
       "      <td>0.385780</td>\n",
       "      <td>0.853469</td>\n",
       "      <td>0.531372</td>\n",
       "      <td>1672.000000</td>\n",
       "    </tr>\n",
       "    <tr>\n",
       "      <th>central memory CD8-positive, alpha-beta T cell</th>\n",
       "      <td>0.667760</td>\n",
       "      <td>0.608566</td>\n",
       "      <td>0.636790</td>\n",
       "      <td>2008.000000</td>\n",
       "    </tr>\n",
       "    <tr>\n",
       "      <th>non-classical monocyte</th>\n",
       "      <td>0.571002</td>\n",
       "      <td>0.972404</td>\n",
       "      <td>0.719506</td>\n",
       "      <td>2754.000000</td>\n",
       "    </tr>\n",
       "    <tr>\n",
       "      <th>CD8-positive, alpha-beta cytotoxic T cell</th>\n",
       "      <td>0.771365</td>\n",
       "      <td>0.188910</td>\n",
       "      <td>0.303493</td>\n",
       "      <td>3679.000000</td>\n",
       "    </tr>\n",
       "    <tr>\n",
       "      <th>naive B cell</th>\n",
       "      <td>0.954410</td>\n",
       "      <td>0.292353</td>\n",
       "      <td>0.447599</td>\n",
       "      <td>4368.000000</td>\n",
       "    </tr>\n",
       "    <tr>\n",
       "      <th>naive thymus-derived CD8-positive, alpha-beta T cell</th>\n",
       "      <td>0.760005</td>\n",
       "      <td>0.943026</td>\n",
       "      <td>0.841681</td>\n",
       "      <td>6424.000000</td>\n",
       "    </tr>\n",
       "    <tr>\n",
       "      <th>CD4-positive helper T cell</th>\n",
       "      <td>0.791440</td>\n",
       "      <td>0.777747</td>\n",
       "      <td>0.784534</td>\n",
       "      <td>7109.000000</td>\n",
       "    </tr>\n",
       "    <tr>\n",
       "      <th>natural killer cell</th>\n",
       "      <td>0.934692</td>\n",
       "      <td>0.267604</td>\n",
       "      <td>0.416082</td>\n",
       "      <td>7541.000000</td>\n",
       "    </tr>\n",
       "    <tr>\n",
       "      <th>classical monocyte</th>\n",
       "      <td>0.991801</td>\n",
       "      <td>0.730299</td>\n",
       "      <td>0.841195</td>\n",
       "      <td>12258.000000</td>\n",
       "    </tr>\n",
       "    <tr>\n",
       "      <th>naive thymus-derived CD4-positive, alpha-beta T cell</th>\n",
       "      <td>0.953760</td>\n",
       "      <td>0.765779</td>\n",
       "      <td>0.849494</td>\n",
       "      <td>18585.000000</td>\n",
       "    </tr>\n",
       "    <tr>\n",
       "      <th>macro avg</th>\n",
       "      <td>0.571847</td>\n",
       "      <td>0.699567</td>\n",
       "      <td>0.531636</td>\n",
       "      <td>73807.000000</td>\n",
       "    </tr>\n",
       "    <tr>\n",
       "      <th>weighted avg</th>\n",
       "      <td>0.833728</td>\n",
       "      <td>0.670953</td>\n",
       "      <td>0.694877</td>\n",
       "      <td>73807.000000</td>\n",
       "    </tr>\n",
       "  </tbody>\n",
       "</table>\n",
       "</div>"
      ],
      "text/plain": [
       "                                                    precision    recall  \\\n",
       "accuracy                                             0.670953  0.670953   \n",
       "granulocyte                                          0.025641  1.000000   \n",
       "plasmablast                                          0.100000  0.500000   \n",
       "dendritic cell                                       0.058091  0.933333   \n",
       "erythrocyte                                          0.760000  1.000000   \n",
       "innate lymphoid cell                                 0.530303  0.564516   \n",
       "mature NK T cell                                     0.012990  0.704225   \n",
       "hematopoietic precursor cell                         0.936937  0.722222   \n",
       "plasma cell                                          0.920354  0.604651   \n",
       "platelet                                             0.983051  0.986395   \n",
       "plasmacytoid dendritic cell                          0.970588  0.671186   \n",
       "effector memory CD8-positive, alpha-beta T cell      0.297753  0.149296   \n",
       "CD4-positive, alpha-beta cytotoxic T cell            0.194875  0.744845   \n",
       "mucosal invariant T cell                             0.608379  0.618519   \n",
       "B cell                                               0.117297  0.996390   \n",
       "class switched memory B cell                         0.617788  0.333333   \n",
       "effector memory CD8-positive, alpha-beta T cell...   0.281701  0.836616   \n",
       "gamma-delta T cell                                   0.578062  0.825143   \n",
       "CD16-negative, CD56-bright natural killer cell,...   0.411317  0.848485   \n",
       "conventional dendritic cell                          0.396429  0.848138   \n",
       "regulatory T cell                                    0.385780  0.853469   \n",
       "central memory CD8-positive, alpha-beta T cell       0.667760  0.608566   \n",
       "non-classical monocyte                               0.571002  0.972404   \n",
       "CD8-positive, alpha-beta cytotoxic T cell            0.771365  0.188910   \n",
       "naive B cell                                         0.954410  0.292353   \n",
       "naive thymus-derived CD8-positive, alpha-beta T...   0.760005  0.943026   \n",
       "CD4-positive helper T cell                           0.791440  0.777747   \n",
       "natural killer cell                                  0.934692  0.267604   \n",
       "classical monocyte                                   0.991801  0.730299   \n",
       "naive thymus-derived CD4-positive, alpha-beta T...   0.953760  0.765779   \n",
       "macro avg                                            0.571847  0.699567   \n",
       "weighted avg                                         0.833728  0.670953   \n",
       "\n",
       "                                                    f1-score       support  \n",
       "accuracy                                            0.670953      0.670953  \n",
       "granulocyte                                         0.050000      1.000000  \n",
       "plasmablast                                         0.166667     14.000000  \n",
       "dendritic cell                                      0.109375     15.000000  \n",
       "erythrocyte                                         0.863636     57.000000  \n",
       "innate lymphoid cell                                0.546875     62.000000  \n",
       "mature NK T cell                                    0.025510     71.000000  \n",
       "hematopoietic precursor cell                        0.815686    144.000000  \n",
       "plasma cell                                         0.729825    172.000000  \n",
       "platelet                                            0.984720    294.000000  \n",
       "plasmacytoid dendritic cell                         0.793587    295.000000  \n",
       "effector memory CD8-positive, alpha-beta T cell     0.198874    355.000000  \n",
       "CD4-positive, alpha-beta cytotoxic T cell           0.308926    388.000000  \n",
       "mucosal invariant T cell                            0.613407    540.000000  \n",
       "B cell                                              0.209886    554.000000  \n",
       "class switched memory B cell                        0.433024    771.000000  \n",
       "effector memory CD8-positive, alpha-beta T cell...  0.421483    863.000000  \n",
       "gamma-delta T cell                                  0.679849    875.000000  \n",
       "CD16-negative, CD56-bright natural killer cell,...  0.554049    891.000000  \n",
       "conventional dendritic cell                         0.540310   1047.000000  \n",
       "regulatory T cell                                   0.531372   1672.000000  \n",
       "central memory CD8-positive, alpha-beta T cell      0.636790   2008.000000  \n",
       "non-classical monocyte                              0.719506   2754.000000  \n",
       "CD8-positive, alpha-beta cytotoxic T cell           0.303493   3679.000000  \n",
       "naive B cell                                        0.447599   4368.000000  \n",
       "naive thymus-derived CD8-positive, alpha-beta T...  0.841681   6424.000000  \n",
       "CD4-positive helper T cell                          0.784534   7109.000000  \n",
       "natural killer cell                                 0.416082   7541.000000  \n",
       "classical monocyte                                  0.841195  12258.000000  \n",
       "naive thymus-derived CD4-positive, alpha-beta T...  0.849494  18585.000000  \n",
       "macro avg                                           0.531636  73807.000000  \n",
       "weighted avg                                        0.694877  73807.000000  "
      ]
     },
     "execution_count": 19,
     "metadata": {},
     "output_type": "execute_result"
    }
   ],
   "source": [
    "results_aug.sort_values(by='support')"
   ]
  },
  {
   "cell_type": "markdown",
   "id": "809186b3-8aab-4c77-8dbd-9ffd8068f8f7",
   "metadata": {},
   "source": [
    "## Difference "
   ]
  },
  {
   "cell_type": "code",
   "execution_count": 23,
   "id": "aa8968fc-8756-4504-a120-4c4047e07746",
   "metadata": {
    "scrolled": true
   },
   "outputs": [
    {
     "data": {
      "text/html": [
       "<div>\n",
       "<style scoped>\n",
       "    .dataframe tbody tr th:only-of-type {\n",
       "        vertical-align: middle;\n",
       "    }\n",
       "\n",
       "    .dataframe tbody tr th {\n",
       "        vertical-align: top;\n",
       "    }\n",
       "\n",
       "    .dataframe thead th {\n",
       "        text-align: right;\n",
       "    }\n",
       "</style>\n",
       "<table border=\"1\" class=\"dataframe\">\n",
       "  <thead>\n",
       "    <tr style=\"text-align: right;\">\n",
       "      <th></th>\n",
       "      <th>precision</th>\n",
       "      <th>recall</th>\n",
       "      <th>f1-score</th>\n",
       "      <th>support</th>\n",
       "    </tr>\n",
       "  </thead>\n",
       "  <tbody>\n",
       "    <tr>\n",
       "      <th>B cell</th>\n",
       "      <td>-0.666950</td>\n",
       "      <td>0.583032</td>\n",
       "      <td>-0.331485</td>\n",
       "      <td>0.000000</td>\n",
       "    </tr>\n",
       "    <tr>\n",
       "      <th>CD16-negative, CD56-bright natural killer cell, human</th>\n",
       "      <td>-0.429694</td>\n",
       "      <td>0.213244</td>\n",
       "      <td>-0.169736</td>\n",
       "      <td>0.000000</td>\n",
       "    </tr>\n",
       "    <tr>\n",
       "      <th>CD4-positive helper T cell</th>\n",
       "      <td>0.043865</td>\n",
       "      <td>-0.002954</td>\n",
       "      <td>0.020755</td>\n",
       "      <td>0.000000</td>\n",
       "    </tr>\n",
       "    <tr>\n",
       "      <th>CD4-positive, alpha-beta cytotoxic T cell</th>\n",
       "      <td>0.027816</td>\n",
       "      <td>0.012887</td>\n",
       "      <td>0.036895</td>\n",
       "      <td>0.000000</td>\n",
       "    </tr>\n",
       "    <tr>\n",
       "      <th>CD8-positive, alpha-beta cytotoxic T cell</th>\n",
       "      <td>0.008808</td>\n",
       "      <td>-0.128839</td>\n",
       "      <td>-0.145087</td>\n",
       "      <td>0.000000</td>\n",
       "    </tr>\n",
       "    <tr>\n",
       "      <th>central memory CD8-positive, alpha-beta T cell</th>\n",
       "      <td>0.016006</td>\n",
       "      <td>-0.029880</td>\n",
       "      <td>-0.008241</td>\n",
       "      <td>0.000000</td>\n",
       "    </tr>\n",
       "    <tr>\n",
       "      <th>class switched memory B cell</th>\n",
       "      <td>-0.126212</td>\n",
       "      <td>0.092088</td>\n",
       "      <td>0.068676</td>\n",
       "      <td>0.000000</td>\n",
       "    </tr>\n",
       "    <tr>\n",
       "      <th>classical monocyte</th>\n",
       "      <td>0.003233</td>\n",
       "      <td>0.038913</td>\n",
       "      <td>0.027504</td>\n",
       "      <td>0.000000</td>\n",
       "    </tr>\n",
       "    <tr>\n",
       "      <th>conventional dendritic cell</th>\n",
       "      <td>-0.345983</td>\n",
       "      <td>-0.016237</td>\n",
       "      <td>-0.258454</td>\n",
       "      <td>0.000000</td>\n",
       "    </tr>\n",
       "    <tr>\n",
       "      <th>dendritic cell</th>\n",
       "      <td>0.058091</td>\n",
       "      <td>0.933333</td>\n",
       "      <td>0.109375</td>\n",
       "      <td>0.000000</td>\n",
       "    </tr>\n",
       "    <tr>\n",
       "      <th>effector memory CD8-positive, alpha-beta T cell</th>\n",
       "      <td>0.054055</td>\n",
       "      <td>-0.014085</td>\n",
       "      <td>0.003259</td>\n",
       "      <td>0.000000</td>\n",
       "    </tr>\n",
       "    <tr>\n",
       "      <th>effector memory CD8-positive, alpha-beta T cell, terminally differentiated</th>\n",
       "      <td>-0.107281</td>\n",
       "      <td>0.026651</td>\n",
       "      <td>-0.104081</td>\n",
       "      <td>0.000000</td>\n",
       "    </tr>\n",
       "    <tr>\n",
       "      <th>erythrocyte</th>\n",
       "      <td>-0.097143</td>\n",
       "      <td>0.052632</td>\n",
       "      <td>-0.036364</td>\n",
       "      <td>0.000000</td>\n",
       "    </tr>\n",
       "    <tr>\n",
       "      <th>gamma-delta T cell</th>\n",
       "      <td>-0.039321</td>\n",
       "      <td>0.037714</td>\n",
       "      <td>-0.012265</td>\n",
       "      <td>0.000000</td>\n",
       "    </tr>\n",
       "    <tr>\n",
       "      <th>granulocyte</th>\n",
       "      <td>-0.974359</td>\n",
       "      <td>0.000000</td>\n",
       "      <td>-0.950000</td>\n",
       "      <td>0.000000</td>\n",
       "    </tr>\n",
       "    <tr>\n",
       "      <th>hematopoietic precursor cell</th>\n",
       "      <td>-0.063063</td>\n",
       "      <td>-0.145833</td>\n",
       "      <td>-0.113682</td>\n",
       "      <td>0.000000</td>\n",
       "    </tr>\n",
       "    <tr>\n",
       "      <th>innate lymphoid cell</th>\n",
       "      <td>0.361289</td>\n",
       "      <td>-0.016129</td>\n",
       "      <td>0.285057</td>\n",
       "      <td>0.000000</td>\n",
       "    </tr>\n",
       "    <tr>\n",
       "      <th>mature NK T cell</th>\n",
       "      <td>-0.018066</td>\n",
       "      <td>0.633803</td>\n",
       "      <td>-0.017593</td>\n",
       "      <td>0.000000</td>\n",
       "    </tr>\n",
       "    <tr>\n",
       "      <th>mucosal invariant T cell</th>\n",
       "      <td>0.089636</td>\n",
       "      <td>-0.175926</td>\n",
       "      <td>-0.014245</td>\n",
       "      <td>0.000000</td>\n",
       "    </tr>\n",
       "    <tr>\n",
       "      <th>naive B cell</th>\n",
       "      <td>0.225862</td>\n",
       "      <td>-0.695055</td>\n",
       "      <td>-0.390854</td>\n",
       "      <td>0.000000</td>\n",
       "    </tr>\n",
       "    <tr>\n",
       "      <th>naive thymus-derived CD4-positive, alpha-beta T cell</th>\n",
       "      <td>-0.015091</td>\n",
       "      <td>0.104708</td>\n",
       "      <td>0.063593</td>\n",
       "      <td>0.000000</td>\n",
       "    </tr>\n",
       "    <tr>\n",
       "      <th>naive thymus-derived CD8-positive, alpha-beta T cell</th>\n",
       "      <td>-0.128286</td>\n",
       "      <td>0.018369</td>\n",
       "      <td>-0.064428</td>\n",
       "      <td>0.000000</td>\n",
       "    </tr>\n",
       "    <tr>\n",
       "      <th>natural killer cell</th>\n",
       "      <td>0.024757</td>\n",
       "      <td>-0.550988</td>\n",
       "      <td>-0.445767</td>\n",
       "      <td>0.000000</td>\n",
       "    </tr>\n",
       "    <tr>\n",
       "      <th>non-classical monocyte</th>\n",
       "      <td>0.135174</td>\n",
       "      <td>-0.021423</td>\n",
       "      <td>0.113573</td>\n",
       "      <td>0.000000</td>\n",
       "    </tr>\n",
       "    <tr>\n",
       "      <th>plasma cell</th>\n",
       "      <td>0.052091</td>\n",
       "      <td>-0.238372</td>\n",
       "      <td>-0.125633</td>\n",
       "      <td>0.000000</td>\n",
       "    </tr>\n",
       "    <tr>\n",
       "      <th>plasmablast</th>\n",
       "      <td>-0.150000</td>\n",
       "      <td>0.428571</td>\n",
       "      <td>0.055556</td>\n",
       "      <td>0.000000</td>\n",
       "    </tr>\n",
       "    <tr>\n",
       "      <th>plasmacytoid dendritic cell</th>\n",
       "      <td>0.028096</td>\n",
       "      <td>-0.328814</td>\n",
       "      <td>-0.176808</td>\n",
       "      <td>0.000000</td>\n",
       "    </tr>\n",
       "    <tr>\n",
       "      <th>platelet</th>\n",
       "      <td>-0.013501</td>\n",
       "      <td>0.003401</td>\n",
       "      <td>-0.005006</td>\n",
       "      <td>0.000000</td>\n",
       "    </tr>\n",
       "    <tr>\n",
       "      <th>regulatory T cell</th>\n",
       "      <td>0.142117</td>\n",
       "      <td>-0.095096</td>\n",
       "      <td>0.143645</td>\n",
       "      <td>0.000000</td>\n",
       "    </tr>\n",
       "    <tr>\n",
       "      <th>accuracy</th>\n",
       "      <td>-0.067555</td>\n",
       "      <td>-0.067555</td>\n",
       "      <td>-0.067555</td>\n",
       "      <td>-0.067555</td>\n",
       "    </tr>\n",
       "    <tr>\n",
       "      <th>macro avg</th>\n",
       "      <td>-0.065657</td>\n",
       "      <td>0.024818</td>\n",
       "      <td>-0.084202</td>\n",
       "      <td>0.000000</td>\n",
       "    </tr>\n",
       "    <tr>\n",
       "      <th>weighted avg</th>\n",
       "      <td>-0.002010</td>\n",
       "      <td>-0.067555</td>\n",
       "      <td>-0.061438</td>\n",
       "      <td>0.000000</td>\n",
       "    </tr>\n",
       "  </tbody>\n",
       "</table>\n",
       "</div>"
      ],
      "text/plain": [
       "                                                    precision    recall  \\\n",
       "B cell                                              -0.666950  0.583032   \n",
       "CD16-negative, CD56-bright natural killer cell,...  -0.429694  0.213244   \n",
       "CD4-positive helper T cell                           0.043865 -0.002954   \n",
       "CD4-positive, alpha-beta cytotoxic T cell            0.027816  0.012887   \n",
       "CD8-positive, alpha-beta cytotoxic T cell            0.008808 -0.128839   \n",
       "central memory CD8-positive, alpha-beta T cell       0.016006 -0.029880   \n",
       "class switched memory B cell                        -0.126212  0.092088   \n",
       "classical monocyte                                   0.003233  0.038913   \n",
       "conventional dendritic cell                         -0.345983 -0.016237   \n",
       "dendritic cell                                       0.058091  0.933333   \n",
       "effector memory CD8-positive, alpha-beta T cell      0.054055 -0.014085   \n",
       "effector memory CD8-positive, alpha-beta T cell...  -0.107281  0.026651   \n",
       "erythrocyte                                         -0.097143  0.052632   \n",
       "gamma-delta T cell                                  -0.039321  0.037714   \n",
       "granulocyte                                         -0.974359  0.000000   \n",
       "hematopoietic precursor cell                        -0.063063 -0.145833   \n",
       "innate lymphoid cell                                 0.361289 -0.016129   \n",
       "mature NK T cell                                    -0.018066  0.633803   \n",
       "mucosal invariant T cell                             0.089636 -0.175926   \n",
       "naive B cell                                         0.225862 -0.695055   \n",
       "naive thymus-derived CD4-positive, alpha-beta T...  -0.015091  0.104708   \n",
       "naive thymus-derived CD8-positive, alpha-beta T...  -0.128286  0.018369   \n",
       "natural killer cell                                  0.024757 -0.550988   \n",
       "non-classical monocyte                               0.135174 -0.021423   \n",
       "plasma cell                                          0.052091 -0.238372   \n",
       "plasmablast                                         -0.150000  0.428571   \n",
       "plasmacytoid dendritic cell                          0.028096 -0.328814   \n",
       "platelet                                            -0.013501  0.003401   \n",
       "regulatory T cell                                    0.142117 -0.095096   \n",
       "accuracy                                            -0.067555 -0.067555   \n",
       "macro avg                                           -0.065657  0.024818   \n",
       "weighted avg                                        -0.002010 -0.067555   \n",
       "\n",
       "                                                    f1-score   support  \n",
       "B cell                                             -0.331485  0.000000  \n",
       "CD16-negative, CD56-bright natural killer cell,... -0.169736  0.000000  \n",
       "CD4-positive helper T cell                          0.020755  0.000000  \n",
       "CD4-positive, alpha-beta cytotoxic T cell           0.036895  0.000000  \n",
       "CD8-positive, alpha-beta cytotoxic T cell          -0.145087  0.000000  \n",
       "central memory CD8-positive, alpha-beta T cell     -0.008241  0.000000  \n",
       "class switched memory B cell                        0.068676  0.000000  \n",
       "classical monocyte                                  0.027504  0.000000  \n",
       "conventional dendritic cell                        -0.258454  0.000000  \n",
       "dendritic cell                                      0.109375  0.000000  \n",
       "effector memory CD8-positive, alpha-beta T cell     0.003259  0.000000  \n",
       "effector memory CD8-positive, alpha-beta T cell... -0.104081  0.000000  \n",
       "erythrocyte                                        -0.036364  0.000000  \n",
       "gamma-delta T cell                                 -0.012265  0.000000  \n",
       "granulocyte                                        -0.950000  0.000000  \n",
       "hematopoietic precursor cell                       -0.113682  0.000000  \n",
       "innate lymphoid cell                                0.285057  0.000000  \n",
       "mature NK T cell                                   -0.017593  0.000000  \n",
       "mucosal invariant T cell                           -0.014245  0.000000  \n",
       "naive B cell                                       -0.390854  0.000000  \n",
       "naive thymus-derived CD4-positive, alpha-beta T...  0.063593  0.000000  \n",
       "naive thymus-derived CD8-positive, alpha-beta T... -0.064428  0.000000  \n",
       "natural killer cell                                -0.445767  0.000000  \n",
       "non-classical monocyte                              0.113573  0.000000  \n",
       "plasma cell                                        -0.125633  0.000000  \n",
       "plasmablast                                         0.055556  0.000000  \n",
       "plasmacytoid dendritic cell                        -0.176808  0.000000  \n",
       "platelet                                           -0.005006  0.000000  \n",
       "regulatory T cell                                   0.143645  0.000000  \n",
       "accuracy                                           -0.067555 -0.067555  \n",
       "macro avg                                          -0.084202  0.000000  \n",
       "weighted avg                                       -0.061438  0.000000  "
      ]
     },
     "execution_count": 23,
     "metadata": {},
     "output_type": "execute_result"
    }
   ],
   "source": [
    "(results_aug - results_non_aug)"
   ]
  },
  {
   "cell_type": "code",
   "execution_count": 24,
   "id": "cf6774f8-fc28-4f58-8062-942da3bb79de",
   "metadata": {},
   "outputs": [],
   "source": [
    "results_aug.to_csv(\"/home/icb/alessandro.palma/environment/cfgen/notebooks/experiments/classifier/rebuttals_iclr/results/pbmc_aug_ct.csv\")"
   ]
  },
  {
   "cell_type": "code",
   "execution_count": 25,
   "id": "dc3824ca-36a0-4838-bd62-e65478af2a12",
   "metadata": {},
   "outputs": [],
   "source": [
    "results_non_aug.to_csv(\"/home/icb/alessandro.palma/environment/cfgen/notebooks/experiments/classifier/rebuttals_iclr/results/results_non_aug_ct.csv\")"
   ]
  },
  {
   "cell_type": "code",
   "execution_count": null,
   "id": "e14aa4c4-ba91-4cf3-9f20-4015c0bdb8d0",
   "metadata": {},
   "outputs": [],
   "source": []
  }
 ],
 "metadata": {
  "kernelspec": {
   "display_name": "Python 3 (ipykernel)",
   "language": "python",
   "name": "python3"
  },
  "language_info": {
   "codemirror_mode": {
    "name": "ipython",
    "version": 3
   },
   "file_extension": ".py",
   "mimetype": "text/x-python",
   "name": "python",
   "nbconvert_exporter": "python",
   "pygments_lexer": "ipython3",
   "version": "3.10.13"
  }
 },
 "nbformat": 4,
 "nbformat_minor": 5
}
