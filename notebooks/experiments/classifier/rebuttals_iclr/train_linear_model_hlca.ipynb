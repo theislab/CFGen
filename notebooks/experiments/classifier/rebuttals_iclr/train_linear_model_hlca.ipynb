{
 "cells": [
  {
   "cell_type": "code",
   "execution_count": 1,
   "id": "2e3b3c9e-7379-49fb-b502-63dca11df6da",
   "metadata": {},
   "outputs": [],
   "source": [
    "from linear_model import *\n",
    "import scanpy as sc\n",
    "import pandas as pd\n",
    "import numpy as np\n",
    "from sklearn.preprocessing import OneHotEncoder"
   ]
  },
  {
   "cell_type": "code",
   "execution_count": 2,
   "id": "23c93510-3a27-49ac-ac15-89345a273c48",
   "metadata": {},
   "outputs": [],
   "source": [
    "non_augmented_train_set = sc.read_h5ad(\"/home/icb/alessandro.palma/environment/cfgen/project_folder/datasets/processed/classifier_experiment_hlca/hlca_train.h5ad\")"
   ]
  },
  {
   "cell_type": "code",
   "execution_count": 3,
   "id": "bb511685-c533-422e-b3d7-bcf2c460a9c4",
   "metadata": {},
   "outputs": [],
   "source": [
    "augmented_train_set = sc.read_h5ad(\"/home/icb/alessandro.palma/environment/cfgen/project_folder/datasets/processed/classifier_experiment_hlca/augmented/hlca_train_augmented_prop.h5ad\")"
   ]
  },
  {
   "cell_type": "code",
   "execution_count": 4,
   "id": "10bb4bfc-c089-4788-850c-eaf8ca640ff3",
   "metadata": {},
   "outputs": [],
   "source": [
    "test = sc.read_h5ad(\"/home/icb/alessandro.palma/environment/cfgen/project_folder/datasets/processed/classifier_experiment_hlca/hlca_test.h5ad\")"
   ]
  },
  {
   "cell_type": "markdown",
   "id": "aed94fe0-0814-4a4f-818a-fa403be9fb40",
   "metadata": {},
   "source": [
    "Train model on the standard "
   ]
  },
  {
   "cell_type": "code",
   "execution_count": 5,
   "id": "11489b85-027c-4106-80bf-224ed98a243d",
   "metadata": {},
   "outputs": [],
   "source": [
    "X_non_augmented = non_augmented_train_set.X.A\n",
    "X_augmented = augmented_train_set.X\n",
    "X_test = test.X.A\n",
    "\n",
    "y_non_augmented = non_augmented_train_set.obs[\"cell_type\"].values[:, np.newaxis]\n",
    "y_augmented = augmented_train_set.obs[\"cell_type\"].values[:, np.newaxis]\n",
    "y_test = test.obs[\"cell_type\"].values[:, np.newaxis]"
   ]
  },
  {
   "cell_type": "markdown",
   "id": "7a3be657-371f-4cc1-89e5-9f0a7ba20060",
   "metadata": {},
   "source": [
    "Train one hot encoder "
   ]
  },
  {
   "cell_type": "code",
   "execution_count": 6,
   "id": "0dd441ed-8461-487c-bcd2-0e2c5c985e71",
   "metadata": {},
   "outputs": [
    {
     "ename": "TypeError",
     "evalue": "OneHotEncoder.__init__() got an unexpected keyword argument 'sparse'",
     "output_type": "error",
     "traceback": [
      "\u001b[0;31m---------------------------------------------------------------------------\u001b[0m",
      "\u001b[0;31mTypeError\u001b[0m                                 Traceback (most recent call last)",
      "Cell \u001b[0;32mIn[6], line 1\u001b[0m\n\u001b[0;32m----> 1\u001b[0m oh_encoder \u001b[38;5;241m=\u001b[39m \u001b[43mOneHotEncoder\u001b[49m\u001b[43m(\u001b[49m\u001b[43msparse\u001b[49m\u001b[38;5;241;43m=\u001b[39;49m\u001b[38;5;28;43;01mFalse\u001b[39;49;00m\u001b[43m)\u001b[49m \n",
      "\u001b[0;31mTypeError\u001b[0m: OneHotEncoder.__init__() got an unexpected keyword argument 'sparse'"
     ]
    }
   ],
   "source": [
    "oh_encoder = OneHotEncoder(sparse=False) "
   ]
  },
  {
   "cell_type": "code",
   "execution_count": null,
   "id": "85d9b34a-43a1-4b9f-b2ef-bdbdbd36f336",
   "metadata": {},
   "outputs": [],
   "source": [
    "y_non_augmented = oh_encoder.fit_transform(y_non_augmented).argmax(1)\n",
    "y_augmented =  oh_encoder.transform(y_augmented).argmax(1)\n",
    "y_test = oh_encoder.transform(y_test).argmax(1)"
   ]
  },
  {
   "cell_type": "markdown",
   "id": "b9ce9824-b1cd-47a6-a18c-68076195dd63",
   "metadata": {},
   "source": [
    "## Non-augmented"
   ]
  },
  {
   "cell_type": "code",
   "execution_count": null,
   "id": "0fc1adb9-bec8-4c1a-88b7-4a83edd16f89",
   "metadata": {
    "scrolled": true
   },
   "outputs": [],
   "source": [
    "results_non_augmented = train_and_predict_multiclass_logistic_regression_torch(X_non_augmented, \n",
    "                                                       X_test,\n",
    "                                                       y_non_augmented,\n",
    "                                                       y_test, \n",
    "                                                       batch_size=64,\n",
    "                                                       epochs=100, \n",
    "                                                       learning_rate=0.001)"
   ]
  },
  {
   "cell_type": "code",
   "execution_count": null,
   "id": "6df491e6-5311-43d8-a8cd-7e2e44ee9a7e",
   "metadata": {
    "scrolled": true
   },
   "outputs": [],
   "source": [
    "results_non_aug = pd.DataFrame(results_non_augmented[2]).T"
   ]
  },
  {
   "cell_type": "code",
   "execution_count": null,
   "id": "79963715-d6d5-4f12-ad14-f14570bd6692",
   "metadata": {},
   "outputs": [],
   "source": [
    "results_non_aug.index = list(oh_encoder.categories_[0])+list(results_non_aug.index)[50:]"
   ]
  },
  {
   "cell_type": "code",
   "execution_count": null,
   "id": "fd7c7f1b-5242-432a-a1d1-c76efc757cca",
   "metadata": {
    "scrolled": true
   },
   "outputs": [],
   "source": [
    "results_non_aug.sort_values(by='support')"
   ]
  },
  {
   "cell_type": "markdown",
   "id": "cd09e1c1-6c3d-41d8-b9e3-1d53f81958a5",
   "metadata": {},
   "source": [
    "## Augmented"
   ]
  },
  {
   "cell_type": "code",
   "execution_count": null,
   "id": "8566008c-175a-46b3-afaf-7db27534c139",
   "metadata": {
    "scrolled": true
   },
   "outputs": [],
   "source": [
    "results_augmented = train_and_predict_multiclass_logistic_regression_torch(X_augmented, \n",
    "                                                       X_test,\n",
    "                                                       y_augmented,\n",
    "                                                       y_test, \n",
    "                                                       batch_size=64,\n",
    "                                                       epochs=100, \n",
    "                                                       learning_rate=0.001)"
   ]
  },
  {
   "cell_type": "code",
   "execution_count": null,
   "id": "f17f7598-25e7-4f5f-a654-3f85cd8a0cfc",
   "metadata": {},
   "outputs": [],
   "source": [
    "results_aug = pd.DataFrame(results_augmented[2]).T"
   ]
  },
  {
   "cell_type": "code",
   "execution_count": null,
   "id": "7ee6cb03-a23f-4dcc-8367-fddbe150bdeb",
   "metadata": {},
   "outputs": [],
   "source": [
    "results_aug.index = list(oh_encoder.categories_[0])+list(results_aug.index)[50:]"
   ]
  },
  {
   "cell_type": "code",
   "execution_count": null,
   "id": "6e2e1fef-8dc1-4cf9-874e-172fdfd22eb6",
   "metadata": {
    "scrolled": true
   },
   "outputs": [],
   "source": [
    "results_aug.sort_values(by='support')"
   ]
  },
  {
   "cell_type": "code",
   "execution_count": null,
   "id": "aa8968fc-8756-4504-a120-4c4047e07746",
   "metadata": {
    "scrolled": true
   },
   "outputs": [],
   "source": [
    "(results_aug - results_non_aug).loc[results_aug.sort_values(by='support').index]"
   ]
  },
  {
   "cell_type": "code",
   "execution_count": null,
   "id": "a669851b-942d-4811-93bb-44c14a67e86b",
   "metadata": {},
   "outputs": [],
   "source": []
  },
  {
   "cell_type": "code",
   "execution_count": null,
   "id": "55fd5267-2872-4206-9ccb-9e22f577c378",
   "metadata": {},
   "outputs": [],
   "source": []
  }
 ],
 "metadata": {
  "kernelspec": {
   "display_name": "Python 3 (ipykernel)",
   "language": "python",
   "name": "python3"
  },
  "language_info": {
   "codemirror_mode": {
    "name": "ipython",
    "version": 3
   },
   "file_extension": ".py",
   "mimetype": "text/x-python",
   "name": "python",
   "nbconvert_exporter": "python",
   "pygments_lexer": "ipython3",
   "version": "3.10.13"
  }
 },
 "nbformat": 4,
 "nbformat_minor": 5
}
