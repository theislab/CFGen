{
 "cells": [
  {
   "cell_type": "code",
   "execution_count": 21,
   "id": "2e3b3c9e-7379-49fb-b502-63dca11df6da",
   "metadata": {},
   "outputs": [],
   "source": [
    "from linear_model import *\n",
    "import scanpy as sc\n",
    "import pandas as pd\n",
    "import numpy as np\n",
    "from sklearn.preprocessing import OneHotEncoder"
   ]
  },
  {
   "cell_type": "code",
   "execution_count": 22,
   "id": "23c93510-3a27-49ac-ac15-89345a273c48",
   "metadata": {},
   "outputs": [],
   "source": [
    "non_augmented_train_set = sc.read_h5ad(\"/home/icb/alessandro.palma/environment/cfgen/project_folder/datasets/processed/classifier_experiment_hlca/hlca_train.h5ad\")"
   ]
  },
  {
   "cell_type": "code",
   "execution_count": 23,
   "id": "bb511685-c533-422e-b3d7-bcf2c460a9c4",
   "metadata": {},
   "outputs": [],
   "source": [
    "augmented_train_set = sc.read_h5ad(\"/home/icb/alessandro.palma/environment/cfgen/project_folder/datasets/processed/classifier_experiment_hlca/augmented/hlca_train_augmented_prop.h5ad\")"
   ]
  },
  {
   "cell_type": "code",
   "execution_count": 24,
   "id": "10bb4bfc-c089-4788-850c-eaf8ca640ff3",
   "metadata": {},
   "outputs": [],
   "source": [
    "test = sc.read_h5ad(\"/home/icb/alessandro.palma/environment/cfgen/project_folder/datasets/processed/classifier_experiment_hlca/hlca_test.h5ad\")"
   ]
  },
  {
   "cell_type": "markdown",
   "id": "aed94fe0-0814-4a4f-818a-fa403be9fb40",
   "metadata": {},
   "source": [
    "Train model on the standard "
   ]
  },
  {
   "cell_type": "code",
   "execution_count": 25,
   "id": "11489b85-027c-4106-80bf-224ed98a243d",
   "metadata": {},
   "outputs": [],
   "source": [
    "X_non_augmented = non_augmented_train_set.X.A\n",
    "X_augmented = augmented_train_set.X\n",
    "X_test = test.X.A\n",
    "\n",
    "y_non_augmented = non_augmented_train_set.obs[\"cell_type\"].values[:, np.newaxis]\n",
    "y_augmented = augmented_train_set.obs[\"cell_type\"].values[:, np.newaxis]\n",
    "y_test = test.obs[\"cell_type\"].values[:, np.newaxis]"
   ]
  },
  {
   "cell_type": "markdown",
   "id": "7a3be657-371f-4cc1-89e5-9f0a7ba20060",
   "metadata": {},
   "source": [
    "Train one hot encoder "
   ]
  },
  {
   "cell_type": "code",
   "execution_count": 26,
   "id": "0dd441ed-8461-487c-bcd2-0e2c5c985e71",
   "metadata": {},
   "outputs": [],
   "source": [
    "oh_encoder = OneHotEncoder(sparse=False) "
   ]
  },
  {
   "cell_type": "code",
   "execution_count": 27,
   "id": "85d9b34a-43a1-4b9f-b2ef-bdbdbd36f336",
   "metadata": {},
   "outputs": [],
   "source": [
    "y_non_augmented = oh_encoder.fit_transform(y_non_augmented).argmax(1)\n",
    "y_augmented =  oh_encoder.transform(y_augmented).argmax(1)\n",
    "y_test = oh_encoder.transform(y_test).argmax(1)"
   ]
  },
  {
   "cell_type": "markdown",
   "id": "b9ce9824-b1cd-47a6-a18c-68076195dd63",
   "metadata": {},
   "source": [
    "## Non-augmented"
   ]
  },
  {
   "cell_type": "code",
   "execution_count": 28,
   "id": "0fc1adb9-bec8-4c1a-88b7-4a83edd16f89",
   "metadata": {
    "scrolled": true
   },
   "outputs": [
    {
     "name": "stderr",
     "output_type": "stream",
     "text": [
      "  1%|          | 1/100 [00:11<18:50, 11.42s/it]"
     ]
    },
    {
     "name": "stdout",
     "output_type": "stream",
     "text": [
      "Epoch [1/100], Loss: 0.2002\n"
     ]
    },
    {
     "name": "stderr",
     "output_type": "stream",
     "text": [
      "  2%|▏         | 2/100 [00:19<15:00,  9.18s/it]"
     ]
    },
    {
     "name": "stdout",
     "output_type": "stream",
     "text": [
      "Epoch [2/100], Loss: 0.1463\n"
     ]
    },
    {
     "name": "stderr",
     "output_type": "stream",
     "text": [
      "  3%|▎         | 3/100 [00:26<13:34,  8.40s/it]"
     ]
    },
    {
     "name": "stdout",
     "output_type": "stream",
     "text": [
      "Epoch [3/100], Loss: 0.1366\n"
     ]
    },
    {
     "name": "stderr",
     "output_type": "stream",
     "text": [
      "  4%|▍         | 4/100 [00:34<12:55,  8.08s/it]"
     ]
    },
    {
     "name": "stdout",
     "output_type": "stream",
     "text": [
      "Epoch [4/100], Loss: 0.1309\n"
     ]
    },
    {
     "name": "stderr",
     "output_type": "stream",
     "text": [
      "  5%|▌         | 5/100 [00:41<12:28,  7.88s/it]"
     ]
    },
    {
     "name": "stdout",
     "output_type": "stream",
     "text": [
      "Epoch [5/100], Loss: 0.1276\n"
     ]
    },
    {
     "name": "stderr",
     "output_type": "stream",
     "text": [
      "  6%|▌         | 6/100 [00:49<12:10,  7.77s/it]"
     ]
    },
    {
     "name": "stdout",
     "output_type": "stream",
     "text": [
      "Epoch [6/100], Loss: 0.1246\n"
     ]
    },
    {
     "name": "stderr",
     "output_type": "stream",
     "text": [
      "  7%|▋         | 7/100 [00:56<11:53,  7.68s/it]"
     ]
    },
    {
     "name": "stdout",
     "output_type": "stream",
     "text": [
      "Epoch [7/100], Loss: 0.1224\n"
     ]
    },
    {
     "name": "stderr",
     "output_type": "stream",
     "text": [
      "  8%|▊         | 8/100 [01:04<11:45,  7.67s/it]"
     ]
    },
    {
     "name": "stdout",
     "output_type": "stream",
     "text": [
      "Epoch [8/100], Loss: 0.1204\n"
     ]
    },
    {
     "name": "stderr",
     "output_type": "stream",
     "text": [
      "  9%|▉         | 9/100 [01:11<11:37,  7.67s/it]"
     ]
    },
    {
     "name": "stdout",
     "output_type": "stream",
     "text": [
      "Epoch [9/100], Loss: 0.1190\n"
     ]
    },
    {
     "name": "stderr",
     "output_type": "stream",
     "text": [
      " 10%|█         | 10/100 [01:20<11:43,  7.81s/it]"
     ]
    },
    {
     "name": "stdout",
     "output_type": "stream",
     "text": [
      "Epoch [10/100], Loss: 0.1178\n"
     ]
    },
    {
     "name": "stderr",
     "output_type": "stream",
     "text": [
      " 11%|█         | 11/100 [01:27<11:33,  7.80s/it]"
     ]
    },
    {
     "name": "stdout",
     "output_type": "stream",
     "text": [
      "Epoch [11/100], Loss: 0.1167\n"
     ]
    },
    {
     "name": "stderr",
     "output_type": "stream",
     "text": [
      " 12%|█▏        | 12/100 [01:35<11:29,  7.83s/it]"
     ]
    },
    {
     "name": "stdout",
     "output_type": "stream",
     "text": [
      "Epoch [12/100], Loss: 0.1159\n"
     ]
    },
    {
     "name": "stderr",
     "output_type": "stream",
     "text": [
      " 13%|█▎        | 13/100 [01:43<11:20,  7.82s/it]"
     ]
    },
    {
     "name": "stdout",
     "output_type": "stream",
     "text": [
      "Epoch [13/100], Loss: 0.1149\n"
     ]
    },
    {
     "name": "stderr",
     "output_type": "stream",
     "text": [
      " 14%|█▍        | 14/100 [01:51<11:13,  7.83s/it]"
     ]
    },
    {
     "name": "stdout",
     "output_type": "stream",
     "text": [
      "Epoch [14/100], Loss: 0.1140\n"
     ]
    },
    {
     "name": "stderr",
     "output_type": "stream",
     "text": [
      " 15%|█▌        | 15/100 [01:59<11:07,  7.85s/it]"
     ]
    },
    {
     "name": "stdout",
     "output_type": "stream",
     "text": [
      "Epoch [15/100], Loss: 0.1133\n"
     ]
    },
    {
     "name": "stderr",
     "output_type": "stream",
     "text": [
      " 16%|█▌        | 16/100 [02:07<11:00,  7.86s/it]"
     ]
    },
    {
     "name": "stdout",
     "output_type": "stream",
     "text": [
      "Epoch [16/100], Loss: 0.1130\n"
     ]
    },
    {
     "name": "stderr",
     "output_type": "stream",
     "text": [
      " 17%|█▋        | 17/100 [02:15<10:51,  7.85s/it]"
     ]
    },
    {
     "name": "stdout",
     "output_type": "stream",
     "text": [
      "Epoch [17/100], Loss: 0.1124\n"
     ]
    },
    {
     "name": "stderr",
     "output_type": "stream",
     "text": [
      " 18%|█▊        | 18/100 [02:22<10:45,  7.87s/it]"
     ]
    },
    {
     "name": "stdout",
     "output_type": "stream",
     "text": [
      "Epoch [18/100], Loss: 0.1118\n"
     ]
    },
    {
     "name": "stderr",
     "output_type": "stream",
     "text": [
      " 19%|█▉        | 19/100 [02:30<10:39,  7.90s/it]"
     ]
    },
    {
     "name": "stdout",
     "output_type": "stream",
     "text": [
      "Epoch [19/100], Loss: 0.1116\n"
     ]
    },
    {
     "name": "stderr",
     "output_type": "stream",
     "text": [
      " 20%|██        | 20/100 [02:38<10:33,  7.92s/it]"
     ]
    },
    {
     "name": "stdout",
     "output_type": "stream",
     "text": [
      "Epoch [20/100], Loss: 0.1109\n"
     ]
    },
    {
     "name": "stderr",
     "output_type": "stream",
     "text": [
      " 21%|██        | 21/100 [02:46<10:25,  7.91s/it]"
     ]
    },
    {
     "name": "stdout",
     "output_type": "stream",
     "text": [
      "Epoch [21/100], Loss: 0.1106\n"
     ]
    },
    {
     "name": "stderr",
     "output_type": "stream",
     "text": [
      " 22%|██▏       | 22/100 [02:54<10:14,  7.88s/it]"
     ]
    },
    {
     "name": "stdout",
     "output_type": "stream",
     "text": [
      "Epoch [22/100], Loss: 0.1100\n"
     ]
    },
    {
     "name": "stderr",
     "output_type": "stream",
     "text": [
      " 23%|██▎       | 23/100 [03:02<10:07,  7.90s/it]"
     ]
    },
    {
     "name": "stdout",
     "output_type": "stream",
     "text": [
      "Epoch [23/100], Loss: 0.1100\n"
     ]
    },
    {
     "name": "stderr",
     "output_type": "stream",
     "text": [
      " 24%|██▍       | 24/100 [03:10<10:01,  7.92s/it]"
     ]
    },
    {
     "name": "stdout",
     "output_type": "stream",
     "text": [
      "Epoch [24/100], Loss: 0.1095\n"
     ]
    },
    {
     "name": "stderr",
     "output_type": "stream",
     "text": [
      " 25%|██▌       | 25/100 [03:18<09:55,  7.94s/it]"
     ]
    },
    {
     "name": "stdout",
     "output_type": "stream",
     "text": [
      "Epoch [25/100], Loss: 0.1093\n"
     ]
    },
    {
     "name": "stderr",
     "output_type": "stream",
     "text": [
      " 26%|██▌       | 26/100 [03:26<09:48,  7.96s/it]"
     ]
    },
    {
     "name": "stdout",
     "output_type": "stream",
     "text": [
      "Epoch [26/100], Loss: 0.1087\n"
     ]
    },
    {
     "name": "stderr",
     "output_type": "stream",
     "text": [
      " 27%|██▋       | 27/100 [03:34<09:41,  7.97s/it]"
     ]
    },
    {
     "name": "stdout",
     "output_type": "stream",
     "text": [
      "Epoch [27/100], Loss: 0.1086\n"
     ]
    },
    {
     "name": "stderr",
     "output_type": "stream",
     "text": [
      " 28%|██▊       | 28/100 [03:42<09:32,  7.95s/it]"
     ]
    },
    {
     "name": "stdout",
     "output_type": "stream",
     "text": [
      "Epoch [28/100], Loss: 0.1083\n"
     ]
    },
    {
     "name": "stderr",
     "output_type": "stream",
     "text": [
      " 29%|██▉       | 29/100 [03:50<09:24,  7.95s/it]"
     ]
    },
    {
     "name": "stdout",
     "output_type": "stream",
     "text": [
      "Epoch [29/100], Loss: 0.1081\n"
     ]
    },
    {
     "name": "stderr",
     "output_type": "stream",
     "text": [
      " 30%|███       | 30/100 [03:58<09:16,  7.94s/it]"
     ]
    },
    {
     "name": "stdout",
     "output_type": "stream",
     "text": [
      "Epoch [30/100], Loss: 0.1078\n"
     ]
    },
    {
     "name": "stderr",
     "output_type": "stream",
     "text": [
      " 31%|███       | 31/100 [04:06<09:11,  8.00s/it]"
     ]
    },
    {
     "name": "stdout",
     "output_type": "stream",
     "text": [
      "Epoch [31/100], Loss: 0.1077\n"
     ]
    },
    {
     "name": "stderr",
     "output_type": "stream",
     "text": [
      " 32%|███▏      | 32/100 [04:14<09:07,  8.06s/it]"
     ]
    },
    {
     "name": "stdout",
     "output_type": "stream",
     "text": [
      "Epoch [32/100], Loss: 0.1073\n"
     ]
    },
    {
     "name": "stderr",
     "output_type": "stream",
     "text": [
      " 33%|███▎      | 33/100 [04:22<09:03,  8.11s/it]"
     ]
    },
    {
     "name": "stdout",
     "output_type": "stream",
     "text": [
      "Epoch [33/100], Loss: 0.1071\n"
     ]
    },
    {
     "name": "stderr",
     "output_type": "stream",
     "text": [
      " 34%|███▍      | 34/100 [04:30<08:56,  8.13s/it]"
     ]
    },
    {
     "name": "stdout",
     "output_type": "stream",
     "text": [
      "Epoch [34/100], Loss: 0.1072\n"
     ]
    },
    {
     "name": "stderr",
     "output_type": "stream",
     "text": [
      " 35%|███▌      | 35/100 [04:39<08:48,  8.14s/it]"
     ]
    },
    {
     "name": "stdout",
     "output_type": "stream",
     "text": [
      "Epoch [35/100], Loss: 0.1069\n"
     ]
    },
    {
     "name": "stderr",
     "output_type": "stream",
     "text": [
      " 36%|███▌      | 36/100 [04:47<08:41,  8.14s/it]"
     ]
    },
    {
     "name": "stdout",
     "output_type": "stream",
     "text": [
      "Epoch [36/100], Loss: 0.1065\n"
     ]
    },
    {
     "name": "stderr",
     "output_type": "stream",
     "text": [
      " 37%|███▋      | 37/100 [04:55<08:32,  8.14s/it]"
     ]
    },
    {
     "name": "stdout",
     "output_type": "stream",
     "text": [
      "Epoch [37/100], Loss: 0.1067\n"
     ]
    },
    {
     "name": "stderr",
     "output_type": "stream",
     "text": [
      " 38%|███▊      | 38/100 [05:03<08:25,  8.15s/it]"
     ]
    },
    {
     "name": "stdout",
     "output_type": "stream",
     "text": [
      "Epoch [38/100], Loss: 0.1061\n"
     ]
    },
    {
     "name": "stderr",
     "output_type": "stream",
     "text": [
      " 39%|███▉      | 39/100 [05:11<08:16,  8.14s/it]"
     ]
    },
    {
     "name": "stdout",
     "output_type": "stream",
     "text": [
      "Epoch [39/100], Loss: 0.1062\n"
     ]
    },
    {
     "name": "stderr",
     "output_type": "stream",
     "text": [
      " 40%|████      | 40/100 [05:19<08:08,  8.14s/it]"
     ]
    },
    {
     "name": "stdout",
     "output_type": "stream",
     "text": [
      "Epoch [40/100], Loss: 0.1061\n"
     ]
    },
    {
     "name": "stderr",
     "output_type": "stream",
     "text": [
      " 41%|████      | 41/100 [05:28<08:00,  8.15s/it]"
     ]
    },
    {
     "name": "stdout",
     "output_type": "stream",
     "text": [
      "Epoch [41/100], Loss: 0.1058\n"
     ]
    },
    {
     "name": "stderr",
     "output_type": "stream",
     "text": [
      " 42%|████▏     | 42/100 [05:36<07:54,  8.19s/it]"
     ]
    },
    {
     "name": "stdout",
     "output_type": "stream",
     "text": [
      "Epoch [42/100], Loss: 0.1057\n"
     ]
    },
    {
     "name": "stderr",
     "output_type": "stream",
     "text": [
      " 43%|████▎     | 43/100 [05:44<07:46,  8.19s/it]"
     ]
    },
    {
     "name": "stdout",
     "output_type": "stream",
     "text": [
      "Epoch [43/100], Loss: 0.1056\n"
     ]
    },
    {
     "name": "stderr",
     "output_type": "stream",
     "text": [
      " 44%|████▍     | 44/100 [05:52<07:39,  8.20s/it]"
     ]
    },
    {
     "name": "stdout",
     "output_type": "stream",
     "text": [
      "Epoch [44/100], Loss: 0.1055\n"
     ]
    },
    {
     "name": "stderr",
     "output_type": "stream",
     "text": [
      " 45%|████▌     | 45/100 [06:01<07:32,  8.22s/it]"
     ]
    },
    {
     "name": "stdout",
     "output_type": "stream",
     "text": [
      "Epoch [45/100], Loss: 0.1053\n"
     ]
    },
    {
     "name": "stderr",
     "output_type": "stream",
     "text": [
      " 46%|████▌     | 46/100 [06:09<07:24,  8.23s/it]"
     ]
    },
    {
     "name": "stdout",
     "output_type": "stream",
     "text": [
      "Epoch [46/100], Loss: 0.1053\n"
     ]
    },
    {
     "name": "stderr",
     "output_type": "stream",
     "text": [
      " 47%|████▋     | 47/100 [06:17<07:16,  8.24s/it]"
     ]
    },
    {
     "name": "stdout",
     "output_type": "stream",
     "text": [
      "Epoch [47/100], Loss: 0.1052\n"
     ]
    },
    {
     "name": "stderr",
     "output_type": "stream",
     "text": [
      " 48%|████▊     | 48/100 [06:26<07:13,  8.34s/it]"
     ]
    },
    {
     "name": "stdout",
     "output_type": "stream",
     "text": [
      "Epoch [48/100], Loss: 0.1050\n"
     ]
    },
    {
     "name": "stderr",
     "output_type": "stream",
     "text": [
      " 49%|████▉     | 49/100 [06:34<07:05,  8.35s/it]"
     ]
    },
    {
     "name": "stdout",
     "output_type": "stream",
     "text": [
      "Epoch [49/100], Loss: 0.1049\n"
     ]
    },
    {
     "name": "stderr",
     "output_type": "stream",
     "text": [
      " 50%|█████     | 50/100 [06:42<06:57,  8.34s/it]"
     ]
    },
    {
     "name": "stdout",
     "output_type": "stream",
     "text": [
      "Epoch [50/100], Loss: 0.1048\n"
     ]
    },
    {
     "name": "stderr",
     "output_type": "stream",
     "text": [
      " 51%|█████     | 51/100 [06:51<06:48,  8.35s/it]"
     ]
    },
    {
     "name": "stdout",
     "output_type": "stream",
     "text": [
      "Epoch [51/100], Loss: 0.1049\n"
     ]
    },
    {
     "name": "stderr",
     "output_type": "stream",
     "text": [
      " 52%|█████▏    | 52/100 [06:59<06:41,  8.36s/it]"
     ]
    },
    {
     "name": "stdout",
     "output_type": "stream",
     "text": [
      "Epoch [52/100], Loss: 0.1043\n"
     ]
    },
    {
     "name": "stderr",
     "output_type": "stream",
     "text": [
      " 53%|█████▎    | 53/100 [07:07<06:33,  8.38s/it]"
     ]
    },
    {
     "name": "stdout",
     "output_type": "stream",
     "text": [
      "Epoch [53/100], Loss: 0.1044\n"
     ]
    },
    {
     "name": "stderr",
     "output_type": "stream",
     "text": [
      " 54%|█████▍    | 54/100 [07:16<06:26,  8.39s/it]"
     ]
    },
    {
     "name": "stdout",
     "output_type": "stream",
     "text": [
      "Epoch [54/100], Loss: 0.1042\n"
     ]
    },
    {
     "name": "stderr",
     "output_type": "stream",
     "text": [
      " 55%|█████▌    | 55/100 [07:24<06:18,  8.40s/it]"
     ]
    },
    {
     "name": "stdout",
     "output_type": "stream",
     "text": [
      "Epoch [55/100], Loss: 0.1042\n"
     ]
    },
    {
     "name": "stderr",
     "output_type": "stream",
     "text": [
      " 56%|█████▌    | 56/100 [07:33<06:10,  8.42s/it]"
     ]
    },
    {
     "name": "stdout",
     "output_type": "stream",
     "text": [
      "Epoch [56/100], Loss: 0.1042\n"
     ]
    },
    {
     "name": "stderr",
     "output_type": "stream",
     "text": [
      " 57%|█████▋    | 57/100 [07:41<06:01,  8.41s/it]"
     ]
    },
    {
     "name": "stdout",
     "output_type": "stream",
     "text": [
      "Epoch [57/100], Loss: 0.1041\n"
     ]
    },
    {
     "name": "stderr",
     "output_type": "stream",
     "text": [
      " 58%|█████▊    | 58/100 [07:50<05:52,  8.40s/it]"
     ]
    },
    {
     "name": "stdout",
     "output_type": "stream",
     "text": [
      "Epoch [58/100], Loss: 0.1041\n"
     ]
    },
    {
     "name": "stderr",
     "output_type": "stream",
     "text": [
      " 59%|█████▉    | 59/100 [07:58<05:44,  8.40s/it]"
     ]
    },
    {
     "name": "stdout",
     "output_type": "stream",
     "text": [
      "Epoch [59/100], Loss: 0.1041\n"
     ]
    },
    {
     "name": "stderr",
     "output_type": "stream",
     "text": [
      " 60%|██████    | 60/100 [08:06<05:36,  8.42s/it]"
     ]
    },
    {
     "name": "stdout",
     "output_type": "stream",
     "text": [
      "Epoch [60/100], Loss: 0.1039\n"
     ]
    },
    {
     "name": "stderr",
     "output_type": "stream",
     "text": [
      " 61%|██████    | 61/100 [08:15<05:28,  8.42s/it]"
     ]
    },
    {
     "name": "stdout",
     "output_type": "stream",
     "text": [
      "Epoch [61/100], Loss: 0.1037\n"
     ]
    },
    {
     "name": "stderr",
     "output_type": "stream",
     "text": [
      " 62%|██████▏   | 62/100 [08:23<05:19,  8.42s/it]"
     ]
    },
    {
     "name": "stdout",
     "output_type": "stream",
     "text": [
      "Epoch [62/100], Loss: 0.1038\n"
     ]
    },
    {
     "name": "stderr",
     "output_type": "stream",
     "text": [
      " 63%|██████▎   | 63/100 [08:32<05:12,  8.44s/it]"
     ]
    },
    {
     "name": "stdout",
     "output_type": "stream",
     "text": [
      "Epoch [63/100], Loss: 0.1036\n"
     ]
    },
    {
     "name": "stderr",
     "output_type": "stream",
     "text": [
      " 64%|██████▍   | 64/100 [08:40<05:04,  8.47s/it]"
     ]
    },
    {
     "name": "stdout",
     "output_type": "stream",
     "text": [
      "Epoch [64/100], Loss: 0.1035\n"
     ]
    },
    {
     "name": "stderr",
     "output_type": "stream",
     "text": [
      " 65%|██████▌   | 65/100 [08:49<04:55,  8.45s/it]"
     ]
    },
    {
     "name": "stdout",
     "output_type": "stream",
     "text": [
      "Epoch [65/100], Loss: 0.1036\n"
     ]
    },
    {
     "name": "stderr",
     "output_type": "stream",
     "text": [
      " 66%|██████▌   | 66/100 [08:57<04:47,  8.47s/it]"
     ]
    },
    {
     "name": "stdout",
     "output_type": "stream",
     "text": [
      "Epoch [66/100], Loss: 0.1034\n"
     ]
    },
    {
     "name": "stderr",
     "output_type": "stream",
     "text": [
      " 67%|██████▋   | 67/100 [09:06<04:39,  8.47s/it]"
     ]
    },
    {
     "name": "stdout",
     "output_type": "stream",
     "text": [
      "Epoch [67/100], Loss: 0.1033\n"
     ]
    },
    {
     "name": "stderr",
     "output_type": "stream",
     "text": [
      " 68%|██████▊   | 68/100 [09:14<04:32,  8.50s/it]"
     ]
    },
    {
     "name": "stdout",
     "output_type": "stream",
     "text": [
      "Epoch [68/100], Loss: 0.1031\n"
     ]
    },
    {
     "name": "stderr",
     "output_type": "stream",
     "text": [
      " 69%|██████▉   | 69/100 [09:23<04:24,  8.52s/it]"
     ]
    },
    {
     "name": "stdout",
     "output_type": "stream",
     "text": [
      "Epoch [69/100], Loss: 0.1032\n"
     ]
    },
    {
     "name": "stderr",
     "output_type": "stream",
     "text": [
      " 70%|███████   | 70/100 [09:31<04:15,  8.53s/it]"
     ]
    },
    {
     "name": "stdout",
     "output_type": "stream",
     "text": [
      "Epoch [70/100], Loss: 0.1033\n"
     ]
    },
    {
     "name": "stderr",
     "output_type": "stream",
     "text": [
      " 71%|███████   | 71/100 [09:40<04:07,  8.53s/it]"
     ]
    },
    {
     "name": "stdout",
     "output_type": "stream",
     "text": [
      "Epoch [71/100], Loss: 0.1032\n"
     ]
    },
    {
     "name": "stderr",
     "output_type": "stream",
     "text": [
      " 72%|███████▏  | 72/100 [09:48<03:58,  8.53s/it]"
     ]
    },
    {
     "name": "stdout",
     "output_type": "stream",
     "text": [
      "Epoch [72/100], Loss: 0.1032\n"
     ]
    },
    {
     "name": "stderr",
     "output_type": "stream",
     "text": [
      " 73%|███████▎  | 73/100 [09:57<03:49,  8.51s/it]"
     ]
    },
    {
     "name": "stdout",
     "output_type": "stream",
     "text": [
      "Epoch [73/100], Loss: 0.1031\n"
     ]
    },
    {
     "name": "stderr",
     "output_type": "stream",
     "text": [
      " 74%|███████▍  | 74/100 [10:05<03:41,  8.50s/it]"
     ]
    },
    {
     "name": "stdout",
     "output_type": "stream",
     "text": [
      "Epoch [74/100], Loss: 0.1030\n"
     ]
    },
    {
     "name": "stderr",
     "output_type": "stream",
     "text": [
      " 75%|███████▌  | 75/100 [10:14<03:31,  8.47s/it]"
     ]
    },
    {
     "name": "stdout",
     "output_type": "stream",
     "text": [
      "Epoch [75/100], Loss: 0.1029\n"
     ]
    },
    {
     "name": "stderr",
     "output_type": "stream",
     "text": [
      " 76%|███████▌  | 76/100 [10:22<03:23,  8.46s/it]"
     ]
    },
    {
     "name": "stdout",
     "output_type": "stream",
     "text": [
      "Epoch [76/100], Loss: 0.1030\n"
     ]
    },
    {
     "name": "stderr",
     "output_type": "stream",
     "text": [
      " 77%|███████▋  | 77/100 [10:31<03:14,  8.48s/it]"
     ]
    },
    {
     "name": "stdout",
     "output_type": "stream",
     "text": [
      "Epoch [77/100], Loss: 0.1028\n"
     ]
    },
    {
     "name": "stderr",
     "output_type": "stream",
     "text": [
      " 78%|███████▊  | 78/100 [10:39<03:07,  8.52s/it]"
     ]
    },
    {
     "name": "stdout",
     "output_type": "stream",
     "text": [
      "Epoch [78/100], Loss: 0.1029\n"
     ]
    },
    {
     "name": "stderr",
     "output_type": "stream",
     "text": [
      " 79%|███████▉  | 79/100 [10:48<02:58,  8.49s/it]"
     ]
    },
    {
     "name": "stdout",
     "output_type": "stream",
     "text": [
      "Epoch [79/100], Loss: 0.1026\n"
     ]
    },
    {
     "name": "stderr",
     "output_type": "stream",
     "text": [
      " 80%|████████  | 80/100 [10:56<02:49,  8.47s/it]"
     ]
    },
    {
     "name": "stdout",
     "output_type": "stream",
     "text": [
      "Epoch [80/100], Loss: 0.1030\n"
     ]
    },
    {
     "name": "stderr",
     "output_type": "stream",
     "text": [
      " 81%|████████  | 81/100 [11:05<02:41,  8.49s/it]"
     ]
    },
    {
     "name": "stdout",
     "output_type": "stream",
     "text": [
      "Epoch [81/100], Loss: 0.1028\n"
     ]
    },
    {
     "name": "stderr",
     "output_type": "stream",
     "text": [
      " 82%|████████▏ | 82/100 [11:13<02:33,  8.51s/it]"
     ]
    },
    {
     "name": "stdout",
     "output_type": "stream",
     "text": [
      "Epoch [82/100], Loss: 0.1026\n"
     ]
    },
    {
     "name": "stderr",
     "output_type": "stream",
     "text": [
      " 83%|████████▎ | 83/100 [11:22<02:24,  8.51s/it]"
     ]
    },
    {
     "name": "stdout",
     "output_type": "stream",
     "text": [
      "Epoch [83/100], Loss: 0.1026\n"
     ]
    },
    {
     "name": "stderr",
     "output_type": "stream",
     "text": [
      " 84%|████████▍ | 84/100 [11:30<02:16,  8.54s/it]"
     ]
    },
    {
     "name": "stdout",
     "output_type": "stream",
     "text": [
      "Epoch [84/100], Loss: 0.1026\n"
     ]
    },
    {
     "name": "stderr",
     "output_type": "stream",
     "text": [
      " 85%|████████▌ | 85/100 [11:39<02:08,  8.58s/it]"
     ]
    },
    {
     "name": "stdout",
     "output_type": "stream",
     "text": [
      "Epoch [85/100], Loss: 0.1026\n"
     ]
    },
    {
     "name": "stderr",
     "output_type": "stream",
     "text": [
      " 86%|████████▌ | 86/100 [11:48<02:00,  8.59s/it]"
     ]
    },
    {
     "name": "stdout",
     "output_type": "stream",
     "text": [
      "Epoch [86/100], Loss: 0.1024\n"
     ]
    },
    {
     "name": "stderr",
     "output_type": "stream",
     "text": [
      " 87%|████████▋ | 87/100 [11:56<01:51,  8.60s/it]"
     ]
    },
    {
     "name": "stdout",
     "output_type": "stream",
     "text": [
      "Epoch [87/100], Loss: 0.1026\n"
     ]
    },
    {
     "name": "stderr",
     "output_type": "stream",
     "text": [
      " 88%|████████▊ | 88/100 [12:05<01:43,  8.60s/it]"
     ]
    },
    {
     "name": "stdout",
     "output_type": "stream",
     "text": [
      "Epoch [88/100], Loss: 0.1025\n"
     ]
    },
    {
     "name": "stderr",
     "output_type": "stream",
     "text": [
      " 89%|████████▉ | 89/100 [12:13<01:34,  8.58s/it]"
     ]
    },
    {
     "name": "stdout",
     "output_type": "stream",
     "text": [
      "Epoch [89/100], Loss: 0.1023\n"
     ]
    },
    {
     "name": "stderr",
     "output_type": "stream",
     "text": [
      " 90%|█████████ | 90/100 [12:22<01:25,  8.57s/it]"
     ]
    },
    {
     "name": "stdout",
     "output_type": "stream",
     "text": [
      "Epoch [90/100], Loss: 0.1022\n"
     ]
    },
    {
     "name": "stderr",
     "output_type": "stream",
     "text": [
      " 91%|█████████ | 91/100 [12:31<01:17,  8.56s/it]"
     ]
    },
    {
     "name": "stdout",
     "output_type": "stream",
     "text": [
      "Epoch [91/100], Loss: 0.1024\n"
     ]
    },
    {
     "name": "stderr",
     "output_type": "stream",
     "text": [
      " 92%|█████████▏| 92/100 [12:39<01:08,  8.54s/it]"
     ]
    },
    {
     "name": "stdout",
     "output_type": "stream",
     "text": [
      "Epoch [92/100], Loss: 0.1023\n"
     ]
    },
    {
     "name": "stderr",
     "output_type": "stream",
     "text": [
      " 93%|█████████▎| 93/100 [12:47<00:59,  8.52s/it]"
     ]
    },
    {
     "name": "stdout",
     "output_type": "stream",
     "text": [
      "Epoch [93/100], Loss: 0.1021\n"
     ]
    },
    {
     "name": "stderr",
     "output_type": "stream",
     "text": [
      " 94%|█████████▍| 94/100 [12:56<00:51,  8.52s/it]"
     ]
    },
    {
     "name": "stdout",
     "output_type": "stream",
     "text": [
      "Epoch [94/100], Loss: 0.1025\n"
     ]
    },
    {
     "name": "stderr",
     "output_type": "stream",
     "text": [
      " 95%|█████████▌| 95/100 [13:05<00:42,  8.54s/it]"
     ]
    },
    {
     "name": "stdout",
     "output_type": "stream",
     "text": [
      "Epoch [95/100], Loss: 0.1024\n"
     ]
    },
    {
     "name": "stderr",
     "output_type": "stream",
     "text": [
      " 96%|█████████▌| 96/100 [13:13<00:34,  8.57s/it]"
     ]
    },
    {
     "name": "stdout",
     "output_type": "stream",
     "text": [
      "Epoch [96/100], Loss: 0.1022\n"
     ]
    },
    {
     "name": "stderr",
     "output_type": "stream",
     "text": [
      " 97%|█████████▋| 97/100 [13:22<00:25,  8.58s/it]"
     ]
    },
    {
     "name": "stdout",
     "output_type": "stream",
     "text": [
      "Epoch [97/100], Loss: 0.1020\n"
     ]
    },
    {
     "name": "stderr",
     "output_type": "stream",
     "text": [
      " 98%|█████████▊| 98/100 [13:30<00:17,  8.60s/it]"
     ]
    },
    {
     "name": "stdout",
     "output_type": "stream",
     "text": [
      "Epoch [98/100], Loss: 0.1022\n"
     ]
    },
    {
     "name": "stderr",
     "output_type": "stream",
     "text": [
      " 99%|█████████▉| 99/100 [13:39<00:08,  8.61s/it]"
     ]
    },
    {
     "name": "stdout",
     "output_type": "stream",
     "text": [
      "Epoch [99/100], Loss: 0.1022\n"
     ]
    },
    {
     "name": "stderr",
     "output_type": "stream",
     "text": [
      "100%|██████████| 100/100 [13:48<00:00,  8.28s/it]"
     ]
    },
    {
     "name": "stdout",
     "output_type": "stream",
     "text": [
      "Epoch [100/100], Loss: 0.1021\n"
     ]
    },
    {
     "name": "stderr",
     "output_type": "stream",
     "text": [
      "\n"
     ]
    }
   ],
   "source": [
    "results_non_augmented = train_and_predict_multiclass_logistic_regression_torch(X_non_augmented, \n",
    "                                                       X_test,\n",
    "                                                       y_non_augmented,\n",
    "                                                       y_test, \n",
    "                                                       batch_size=64,\n",
    "                                                       epochs=100, \n",
    "                                                       learning_rate=0.001)"
   ]
  },
  {
   "cell_type": "code",
   "execution_count": 29,
   "id": "6df491e6-5311-43d8-a8cd-7e2e44ee9a7e",
   "metadata": {
    "scrolled": true
   },
   "outputs": [],
   "source": [
    "results_non_aug = pd.DataFrame(results_non_augmented[2]).T"
   ]
  },
  {
   "cell_type": "code",
   "execution_count": 30,
   "id": "79963715-d6d5-4f12-ad14-f14570bd6692",
   "metadata": {},
   "outputs": [],
   "source": [
    "results_non_aug.index = list(oh_encoder.categories_[0])+list(results_non_aug.index)[50:]"
   ]
  },
  {
   "cell_type": "code",
   "execution_count": 31,
   "id": "fd7c7f1b-5242-432a-a1d1-c76efc757cca",
   "metadata": {
    "scrolled": true
   },
   "outputs": [
    {
     "data": {
      "text/html": [
       "<div>\n",
       "<style scoped>\n",
       "    .dataframe tbody tr th:only-of-type {\n",
       "        vertical-align: middle;\n",
       "    }\n",
       "\n",
       "    .dataframe tbody tr th {\n",
       "        vertical-align: top;\n",
       "    }\n",
       "\n",
       "    .dataframe thead th {\n",
       "        text-align: right;\n",
       "    }\n",
       "</style>\n",
       "<table border=\"1\" class=\"dataframe\">\n",
       "  <thead>\n",
       "    <tr style=\"text-align: right;\">\n",
       "      <th></th>\n",
       "      <th>precision</th>\n",
       "      <th>recall</th>\n",
       "      <th>f1-score</th>\n",
       "      <th>support</th>\n",
       "    </tr>\n",
       "  </thead>\n",
       "  <tbody>\n",
       "    <tr>\n",
       "      <th>accuracy</th>\n",
       "      <td>0.884781</td>\n",
       "      <td>0.884781</td>\n",
       "      <td>0.884781</td>\n",
       "      <td>0.884781</td>\n",
       "    </tr>\n",
       "    <tr>\n",
       "      <th>serous secreting cell</th>\n",
       "      <td>0.000000</td>\n",
       "      <td>0.000000</td>\n",
       "      <td>0.000000</td>\n",
       "      <td>4.000000</td>\n",
       "    </tr>\n",
       "    <tr>\n",
       "      <th>tracheobronchial goblet cell</th>\n",
       "      <td>0.017241</td>\n",
       "      <td>0.125000</td>\n",
       "      <td>0.030303</td>\n",
       "      <td>8.000000</td>\n",
       "    </tr>\n",
       "    <tr>\n",
       "      <th>hematopoietic stem cell</th>\n",
       "      <td>0.888889</td>\n",
       "      <td>0.888889</td>\n",
       "      <td>0.888889</td>\n",
       "      <td>9.000000</td>\n",
       "    </tr>\n",
       "    <tr>\n",
       "      <th>fibroblast</th>\n",
       "      <td>0.500000</td>\n",
       "      <td>0.500000</td>\n",
       "      <td>0.500000</td>\n",
       "      <td>10.000000</td>\n",
       "    </tr>\n",
       "    <tr>\n",
       "      <th>stromal cell</th>\n",
       "      <td>0.428571</td>\n",
       "      <td>0.529412</td>\n",
       "      <td>0.473684</td>\n",
       "      <td>17.000000</td>\n",
       "    </tr>\n",
       "    <tr>\n",
       "      <th>brush cell of trachebronchial tree</th>\n",
       "      <td>0.866667</td>\n",
       "      <td>0.684211</td>\n",
       "      <td>0.764706</td>\n",
       "      <td>19.000000</td>\n",
       "    </tr>\n",
       "    <tr>\n",
       "      <th>lung neuroendocrine cell</th>\n",
       "      <td>1.000000</td>\n",
       "      <td>0.968750</td>\n",
       "      <td>0.984127</td>\n",
       "      <td>32.000000</td>\n",
       "    </tr>\n",
       "    <tr>\n",
       "      <th>smooth muscle cell</th>\n",
       "      <td>0.294118</td>\n",
       "      <td>0.294118</td>\n",
       "      <td>0.294118</td>\n",
       "      <td>34.000000</td>\n",
       "    </tr>\n",
       "    <tr>\n",
       "      <th>mesothelial cell</th>\n",
       "      <td>0.970588</td>\n",
       "      <td>0.942857</td>\n",
       "      <td>0.956522</td>\n",
       "      <td>35.000000</td>\n",
       "    </tr>\n",
       "    <tr>\n",
       "      <th>dendritic cell</th>\n",
       "      <td>0.750000</td>\n",
       "      <td>0.810811</td>\n",
       "      <td>0.779221</td>\n",
       "      <td>37.000000</td>\n",
       "    </tr>\n",
       "    <tr>\n",
       "      <th>mucus secreting cell</th>\n",
       "      <td>0.861111</td>\n",
       "      <td>0.756098</td>\n",
       "      <td>0.805195</td>\n",
       "      <td>41.000000</td>\n",
       "    </tr>\n",
       "    <tr>\n",
       "      <th>conventional dendritic cell</th>\n",
       "      <td>0.691176</td>\n",
       "      <td>0.723077</td>\n",
       "      <td>0.706767</td>\n",
       "      <td>65.000000</td>\n",
       "    </tr>\n",
       "    <tr>\n",
       "      <th>myofibroblast cell</th>\n",
       "      <td>0.746269</td>\n",
       "      <td>0.746269</td>\n",
       "      <td>0.746269</td>\n",
       "      <td>67.000000</td>\n",
       "    </tr>\n",
       "    <tr>\n",
       "      <th>tracheobronchial serous cell</th>\n",
       "      <td>0.826667</td>\n",
       "      <td>0.805195</td>\n",
       "      <td>0.815789</td>\n",
       "      <td>77.000000</td>\n",
       "    </tr>\n",
       "    <tr>\n",
       "      <th>T cell</th>\n",
       "      <td>0.534091</td>\n",
       "      <td>0.350746</td>\n",
       "      <td>0.423423</td>\n",
       "      <td>134.000000</td>\n",
       "    </tr>\n",
       "    <tr>\n",
       "      <th>ionocyte</th>\n",
       "      <td>0.955882</td>\n",
       "      <td>0.928571</td>\n",
       "      <td>0.942029</td>\n",
       "      <td>140.000000</td>\n",
       "    </tr>\n",
       "    <tr>\n",
       "      <th>lung pericyte</th>\n",
       "      <td>0.857143</td>\n",
       "      <td>0.947368</td>\n",
       "      <td>0.900000</td>\n",
       "      <td>152.000000</td>\n",
       "    </tr>\n",
       "    <tr>\n",
       "      <th>acinar cell</th>\n",
       "      <td>0.729730</td>\n",
       "      <td>0.794118</td>\n",
       "      <td>0.760563</td>\n",
       "      <td>238.000000</td>\n",
       "    </tr>\n",
       "    <tr>\n",
       "      <th>plasmacytoid dendritic cell</th>\n",
       "      <td>0.939286</td>\n",
       "      <td>0.946043</td>\n",
       "      <td>0.942652</td>\n",
       "      <td>278.000000</td>\n",
       "    </tr>\n",
       "    <tr>\n",
       "      <th>bronchial goblet cell</th>\n",
       "      <td>0.118081</td>\n",
       "      <td>0.089136</td>\n",
       "      <td>0.101587</td>\n",
       "      <td>359.000000</td>\n",
       "    </tr>\n",
       "    <tr>\n",
       "      <th>epithelial cell of alveolus of lung</th>\n",
       "      <td>0.517647</td>\n",
       "      <td>0.488889</td>\n",
       "      <td>0.502857</td>\n",
       "      <td>450.000000</td>\n",
       "    </tr>\n",
       "    <tr>\n",
       "      <th>tracheobronchial smooth muscle cell</th>\n",
       "      <td>0.867886</td>\n",
       "      <td>0.827519</td>\n",
       "      <td>0.847222</td>\n",
       "      <td>516.000000</td>\n",
       "    </tr>\n",
       "    <tr>\n",
       "      <th>respiratory hillock cell</th>\n",
       "      <td>0.453790</td>\n",
       "      <td>0.728333</td>\n",
       "      <td>0.559181</td>\n",
       "      <td>600.000000</td>\n",
       "    </tr>\n",
       "    <tr>\n",
       "      <th>bronchus fibroblast of lung</th>\n",
       "      <td>0.686992</td>\n",
       "      <td>0.831148</td>\n",
       "      <td>0.752226</td>\n",
       "      <td>610.000000</td>\n",
       "    </tr>\n",
       "    <tr>\n",
       "      <th>alveolar type 1 fibroblast cell</th>\n",
       "      <td>0.652707</td>\n",
       "      <td>0.847480</td>\n",
       "      <td>0.737450</td>\n",
       "      <td>754.000000</td>\n",
       "    </tr>\n",
       "    <tr>\n",
       "      <th>plasma cell</th>\n",
       "      <td>0.955043</td>\n",
       "      <td>0.952727</td>\n",
       "      <td>0.953883</td>\n",
       "      <td>825.000000</td>\n",
       "    </tr>\n",
       "    <tr>\n",
       "      <th>B cell</th>\n",
       "      <td>0.950265</td>\n",
       "      <td>0.891758</td>\n",
       "      <td>0.920082</td>\n",
       "      <td>1007.000000</td>\n",
       "    </tr>\n",
       "    <tr>\n",
       "      <th>mast cell</th>\n",
       "      <td>0.981964</td>\n",
       "      <td>0.966469</td>\n",
       "      <td>0.974155</td>\n",
       "      <td>1014.000000</td>\n",
       "    </tr>\n",
       "    <tr>\n",
       "      <th>epithelial cell of lower respiratory tract</th>\n",
       "      <td>0.752020</td>\n",
       "      <td>0.834483</td>\n",
       "      <td>0.791108</td>\n",
       "      <td>1450.000000</td>\n",
       "    </tr>\n",
       "    <tr>\n",
       "      <th>endothelial cell of lymphatic vessel</th>\n",
       "      <td>0.975904</td>\n",
       "      <td>0.970060</td>\n",
       "      <td>0.972973</td>\n",
       "      <td>1503.000000</td>\n",
       "    </tr>\n",
       "    <tr>\n",
       "      <th>multi-ciliated epithelial cell</th>\n",
       "      <td>0.873129</td>\n",
       "      <td>0.758192</td>\n",
       "      <td>0.811612</td>\n",
       "      <td>1770.000000</td>\n",
       "    </tr>\n",
       "    <tr>\n",
       "      <th>natural killer cell</th>\n",
       "      <td>0.885268</td>\n",
       "      <td>0.848161</td>\n",
       "      <td>0.866317</td>\n",
       "      <td>2338.000000</td>\n",
       "    </tr>\n",
       "    <tr>\n",
       "      <th>non-classical monocyte</th>\n",
       "      <td>0.802876</td>\n",
       "      <td>0.693232</td>\n",
       "      <td>0.744036</td>\n",
       "      <td>2497.000000</td>\n",
       "    </tr>\n",
       "    <tr>\n",
       "      <th>type I pneumocyte</th>\n",
       "      <td>0.916355</td>\n",
       "      <td>0.938432</td>\n",
       "      <td>0.927262</td>\n",
       "      <td>2615.000000</td>\n",
       "    </tr>\n",
       "    <tr>\n",
       "      <th>lung macrophage</th>\n",
       "      <td>0.786408</td>\n",
       "      <td>0.656354</td>\n",
       "      <td>0.715519</td>\n",
       "      <td>2715.000000</td>\n",
       "    </tr>\n",
       "    <tr>\n",
       "      <th>pulmonary artery endothelial cell</th>\n",
       "      <td>0.884848</td>\n",
       "      <td>0.874868</td>\n",
       "      <td>0.879830</td>\n",
       "      <td>2837.000000</td>\n",
       "    </tr>\n",
       "    <tr>\n",
       "      <th>CD1c-positive myeloid dendritic cell</th>\n",
       "      <td>0.841070</td>\n",
       "      <td>0.708886</td>\n",
       "      <td>0.769341</td>\n",
       "      <td>3016.000000</td>\n",
       "    </tr>\n",
       "    <tr>\n",
       "      <th>classical monocyte</th>\n",
       "      <td>0.723335</td>\n",
       "      <td>0.825186</td>\n",
       "      <td>0.770911</td>\n",
       "      <td>3764.000000</td>\n",
       "    </tr>\n",
       "    <tr>\n",
       "      <th>alveolar type 2 fibroblast cell</th>\n",
       "      <td>0.958551</td>\n",
       "      <td>0.886519</td>\n",
       "      <td>0.921129</td>\n",
       "      <td>3939.000000</td>\n",
       "    </tr>\n",
       "    <tr>\n",
       "      <th>capillary endothelial cell</th>\n",
       "      <td>0.901378</td>\n",
       "      <td>0.868017</td>\n",
       "      <td>0.884383</td>\n",
       "      <td>4296.000000</td>\n",
       "    </tr>\n",
       "    <tr>\n",
       "      <th>vein endothelial cell</th>\n",
       "      <td>0.901696</td>\n",
       "      <td>0.922241</td>\n",
       "      <td>0.911853</td>\n",
       "      <td>4784.000000</td>\n",
       "    </tr>\n",
       "    <tr>\n",
       "      <th>CD4-positive, alpha-beta T cell</th>\n",
       "      <td>0.846502</td>\n",
       "      <td>0.809040</td>\n",
       "      <td>0.827347</td>\n",
       "      <td>5310.000000</td>\n",
       "    </tr>\n",
       "    <tr>\n",
       "      <th>elicited macrophage</th>\n",
       "      <td>0.700180</td>\n",
       "      <td>0.730690</td>\n",
       "      <td>0.715110</td>\n",
       "      <td>5852.000000</td>\n",
       "    </tr>\n",
       "    <tr>\n",
       "      <th>club cell</th>\n",
       "      <td>0.830508</td>\n",
       "      <td>0.643281</td>\n",
       "      <td>0.725002</td>\n",
       "      <td>7084.000000</td>\n",
       "    </tr>\n",
       "    <tr>\n",
       "      <th>CD8-positive, alpha-beta T cell</th>\n",
       "      <td>0.824032</td>\n",
       "      <td>0.871825</td>\n",
       "      <td>0.847255</td>\n",
       "      <td>7638.000000</td>\n",
       "    </tr>\n",
       "    <tr>\n",
       "      <th>nasal mucosa goblet cell</th>\n",
       "      <td>0.763824</td>\n",
       "      <td>0.907352</td>\n",
       "      <td>0.829425</td>\n",
       "      <td>8419.000000</td>\n",
       "    </tr>\n",
       "    <tr>\n",
       "      <th>ciliated columnar cell of tracheobronchial tree</th>\n",
       "      <td>0.939802</td>\n",
       "      <td>0.936987</td>\n",
       "      <td>0.938392</td>\n",
       "      <td>10347.000000</td>\n",
       "    </tr>\n",
       "    <tr>\n",
       "      <th>respiratory basal cell</th>\n",
       "      <td>0.936218</td>\n",
       "      <td>0.931321</td>\n",
       "      <td>0.933763</td>\n",
       "      <td>13381.000000</td>\n",
       "    </tr>\n",
       "    <tr>\n",
       "      <th>type II pneumocyte</th>\n",
       "      <td>0.977147</td>\n",
       "      <td>0.980274</td>\n",
       "      <td>0.978708</td>\n",
       "      <td>20937.000000</td>\n",
       "    </tr>\n",
       "    <tr>\n",
       "      <th>alveolar macrophage</th>\n",
       "      <td>0.949684</td>\n",
       "      <td>0.958261</td>\n",
       "      <td>0.953953</td>\n",
       "      <td>31002.000000</td>\n",
       "    </tr>\n",
       "    <tr>\n",
       "      <th>macro avg</th>\n",
       "      <td>0.760251</td>\n",
       "      <td>0.758373</td>\n",
       "      <td>0.755563</td>\n",
       "      <td>155026.000000</td>\n",
       "    </tr>\n",
       "    <tr>\n",
       "      <th>weighted avg</th>\n",
       "      <td>0.887236</td>\n",
       "      <td>0.884781</td>\n",
       "      <td>0.884332</td>\n",
       "      <td>155026.000000</td>\n",
       "    </tr>\n",
       "  </tbody>\n",
       "</table>\n",
       "</div>"
      ],
      "text/plain": [
       "                                                 precision    recall  \\\n",
       "accuracy                                          0.884781  0.884781   \n",
       "serous secreting cell                             0.000000  0.000000   \n",
       "tracheobronchial goblet cell                      0.017241  0.125000   \n",
       "hematopoietic stem cell                           0.888889  0.888889   \n",
       "fibroblast                                        0.500000  0.500000   \n",
       "stromal cell                                      0.428571  0.529412   \n",
       "brush cell of trachebronchial tree                0.866667  0.684211   \n",
       "lung neuroendocrine cell                          1.000000  0.968750   \n",
       "smooth muscle cell                                0.294118  0.294118   \n",
       "mesothelial cell                                  0.970588  0.942857   \n",
       "dendritic cell                                    0.750000  0.810811   \n",
       "mucus secreting cell                              0.861111  0.756098   \n",
       "conventional dendritic cell                       0.691176  0.723077   \n",
       "myofibroblast cell                                0.746269  0.746269   \n",
       "tracheobronchial serous cell                      0.826667  0.805195   \n",
       "T cell                                            0.534091  0.350746   \n",
       "ionocyte                                          0.955882  0.928571   \n",
       "lung pericyte                                     0.857143  0.947368   \n",
       "acinar cell                                       0.729730  0.794118   \n",
       "plasmacytoid dendritic cell                       0.939286  0.946043   \n",
       "bronchial goblet cell                             0.118081  0.089136   \n",
       "epithelial cell of alveolus of lung               0.517647  0.488889   \n",
       "tracheobronchial smooth muscle cell               0.867886  0.827519   \n",
       "respiratory hillock cell                          0.453790  0.728333   \n",
       "bronchus fibroblast of lung                       0.686992  0.831148   \n",
       "alveolar type 1 fibroblast cell                   0.652707  0.847480   \n",
       "plasma cell                                       0.955043  0.952727   \n",
       "B cell                                            0.950265  0.891758   \n",
       "mast cell                                         0.981964  0.966469   \n",
       "epithelial cell of lower respiratory tract        0.752020  0.834483   \n",
       "endothelial cell of lymphatic vessel              0.975904  0.970060   \n",
       "multi-ciliated epithelial cell                    0.873129  0.758192   \n",
       "natural killer cell                               0.885268  0.848161   \n",
       "non-classical monocyte                            0.802876  0.693232   \n",
       "type I pneumocyte                                 0.916355  0.938432   \n",
       "lung macrophage                                   0.786408  0.656354   \n",
       "pulmonary artery endothelial cell                 0.884848  0.874868   \n",
       "CD1c-positive myeloid dendritic cell              0.841070  0.708886   \n",
       "classical monocyte                                0.723335  0.825186   \n",
       "alveolar type 2 fibroblast cell                   0.958551  0.886519   \n",
       "capillary endothelial cell                        0.901378  0.868017   \n",
       "vein endothelial cell                             0.901696  0.922241   \n",
       "CD4-positive, alpha-beta T cell                   0.846502  0.809040   \n",
       "elicited macrophage                               0.700180  0.730690   \n",
       "club cell                                         0.830508  0.643281   \n",
       "CD8-positive, alpha-beta T cell                   0.824032  0.871825   \n",
       "nasal mucosa goblet cell                          0.763824  0.907352   \n",
       "ciliated columnar cell of tracheobronchial tree   0.939802  0.936987   \n",
       "respiratory basal cell                            0.936218  0.931321   \n",
       "type II pneumocyte                                0.977147  0.980274   \n",
       "alveolar macrophage                               0.949684  0.958261   \n",
       "macro avg                                         0.760251  0.758373   \n",
       "weighted avg                                      0.887236  0.884781   \n",
       "\n",
       "                                                 f1-score        support  \n",
       "accuracy                                         0.884781       0.884781  \n",
       "serous secreting cell                            0.000000       4.000000  \n",
       "tracheobronchial goblet cell                     0.030303       8.000000  \n",
       "hematopoietic stem cell                          0.888889       9.000000  \n",
       "fibroblast                                       0.500000      10.000000  \n",
       "stromal cell                                     0.473684      17.000000  \n",
       "brush cell of trachebronchial tree               0.764706      19.000000  \n",
       "lung neuroendocrine cell                         0.984127      32.000000  \n",
       "smooth muscle cell                               0.294118      34.000000  \n",
       "mesothelial cell                                 0.956522      35.000000  \n",
       "dendritic cell                                   0.779221      37.000000  \n",
       "mucus secreting cell                             0.805195      41.000000  \n",
       "conventional dendritic cell                      0.706767      65.000000  \n",
       "myofibroblast cell                               0.746269      67.000000  \n",
       "tracheobronchial serous cell                     0.815789      77.000000  \n",
       "T cell                                           0.423423     134.000000  \n",
       "ionocyte                                         0.942029     140.000000  \n",
       "lung pericyte                                    0.900000     152.000000  \n",
       "acinar cell                                      0.760563     238.000000  \n",
       "plasmacytoid dendritic cell                      0.942652     278.000000  \n",
       "bronchial goblet cell                            0.101587     359.000000  \n",
       "epithelial cell of alveolus of lung              0.502857     450.000000  \n",
       "tracheobronchial smooth muscle cell              0.847222     516.000000  \n",
       "respiratory hillock cell                         0.559181     600.000000  \n",
       "bronchus fibroblast of lung                      0.752226     610.000000  \n",
       "alveolar type 1 fibroblast cell                  0.737450     754.000000  \n",
       "plasma cell                                      0.953883     825.000000  \n",
       "B cell                                           0.920082    1007.000000  \n",
       "mast cell                                        0.974155    1014.000000  \n",
       "epithelial cell of lower respiratory tract       0.791108    1450.000000  \n",
       "endothelial cell of lymphatic vessel             0.972973    1503.000000  \n",
       "multi-ciliated epithelial cell                   0.811612    1770.000000  \n",
       "natural killer cell                              0.866317    2338.000000  \n",
       "non-classical monocyte                           0.744036    2497.000000  \n",
       "type I pneumocyte                                0.927262    2615.000000  \n",
       "lung macrophage                                  0.715519    2715.000000  \n",
       "pulmonary artery endothelial cell                0.879830    2837.000000  \n",
       "CD1c-positive myeloid dendritic cell             0.769341    3016.000000  \n",
       "classical monocyte                               0.770911    3764.000000  \n",
       "alveolar type 2 fibroblast cell                  0.921129    3939.000000  \n",
       "capillary endothelial cell                       0.884383    4296.000000  \n",
       "vein endothelial cell                            0.911853    4784.000000  \n",
       "CD4-positive, alpha-beta T cell                  0.827347    5310.000000  \n",
       "elicited macrophage                              0.715110    5852.000000  \n",
       "club cell                                        0.725002    7084.000000  \n",
       "CD8-positive, alpha-beta T cell                  0.847255    7638.000000  \n",
       "nasal mucosa goblet cell                         0.829425    8419.000000  \n",
       "ciliated columnar cell of tracheobronchial tree  0.938392   10347.000000  \n",
       "respiratory basal cell                           0.933763   13381.000000  \n",
       "type II pneumocyte                               0.978708   20937.000000  \n",
       "alveolar macrophage                              0.953953   31002.000000  \n",
       "macro avg                                        0.755563  155026.000000  \n",
       "weighted avg                                     0.884332  155026.000000  "
      ]
     },
     "execution_count": 31,
     "metadata": {},
     "output_type": "execute_result"
    }
   ],
   "source": [
    "results_non_aug.sort_values(by='support')"
   ]
  },
  {
   "cell_type": "markdown",
   "id": "cd09e1c1-6c3d-41d8-b9e3-1d53f81958a5",
   "metadata": {},
   "source": [
    "## Augmented"
   ]
  },
  {
   "cell_type": "code",
   "execution_count": 32,
   "id": "8566008c-175a-46b3-afaf-7db27534c139",
   "metadata": {
    "scrolled": true
   },
   "outputs": [
    {
     "name": "stderr",
     "output_type": "stream",
     "text": [
      "  1%|          | 1/100 [00:12<21:26, 12.99s/it]"
     ]
    },
    {
     "name": "stdout",
     "output_type": "stream",
     "text": [
      "Epoch [1/100], Loss: 0.2274\n"
     ]
    },
    {
     "name": "stderr",
     "output_type": "stream",
     "text": [
      "  2%|▏         | 2/100 [00:25<21:07, 12.93s/it]"
     ]
    },
    {
     "name": "stdout",
     "output_type": "stream",
     "text": [
      "Epoch [2/100], Loss: 0.1499\n"
     ]
    },
    {
     "name": "stderr",
     "output_type": "stream",
     "text": [
      "  3%|▎         | 3/100 [00:38<20:57, 12.96s/it]"
     ]
    },
    {
     "name": "stdout",
     "output_type": "stream",
     "text": [
      "Epoch [3/100], Loss: 0.1388\n"
     ]
    },
    {
     "name": "stderr",
     "output_type": "stream",
     "text": [
      "  4%|▍         | 4/100 [00:51<20:47, 12.99s/it]"
     ]
    },
    {
     "name": "stdout",
     "output_type": "stream",
     "text": [
      "Epoch [4/100], Loss: 0.1329\n"
     ]
    },
    {
     "name": "stderr",
     "output_type": "stream",
     "text": [
      "  5%|▌         | 5/100 [01:04<20:33, 12.99s/it]"
     ]
    },
    {
     "name": "stdout",
     "output_type": "stream",
     "text": [
      "Epoch [5/100], Loss: 0.1285\n"
     ]
    },
    {
     "name": "stderr",
     "output_type": "stream",
     "text": [
      "  6%|▌         | 6/100 [01:17<20:21, 13.00s/it]"
     ]
    },
    {
     "name": "stdout",
     "output_type": "stream",
     "text": [
      "Epoch [6/100], Loss: 0.1255\n"
     ]
    },
    {
     "name": "stderr",
     "output_type": "stream",
     "text": [
      "  7%|▋         | 7/100 [01:30<20:07, 12.98s/it]"
     ]
    },
    {
     "name": "stdout",
     "output_type": "stream",
     "text": [
      "Epoch [7/100], Loss: 0.1232\n"
     ]
    },
    {
     "name": "stderr",
     "output_type": "stream",
     "text": [
      "  8%|▊         | 8/100 [01:43<19:53, 12.98s/it]"
     ]
    },
    {
     "name": "stdout",
     "output_type": "stream",
     "text": [
      "Epoch [8/100], Loss: 0.1215\n"
     ]
    },
    {
     "name": "stderr",
     "output_type": "stream",
     "text": [
      "  9%|▉         | 9/100 [01:56<19:42, 13.00s/it]"
     ]
    },
    {
     "name": "stdout",
     "output_type": "stream",
     "text": [
      "Epoch [9/100], Loss: 0.1198\n"
     ]
    },
    {
     "name": "stderr",
     "output_type": "stream",
     "text": [
      " 10%|█         | 10/100 [02:10<19:36, 13.07s/it]"
     ]
    },
    {
     "name": "stdout",
     "output_type": "stream",
     "text": [
      "Epoch [10/100], Loss: 0.1184\n"
     ]
    },
    {
     "name": "stderr",
     "output_type": "stream",
     "text": [
      " 11%|█         | 11/100 [02:23<19:24, 13.08s/it]"
     ]
    },
    {
     "name": "stdout",
     "output_type": "stream",
     "text": [
      "Epoch [11/100], Loss: 0.1172\n"
     ]
    },
    {
     "name": "stderr",
     "output_type": "stream",
     "text": [
      " 12%|█▏        | 12/100 [02:36<19:12, 13.10s/it]"
     ]
    },
    {
     "name": "stdout",
     "output_type": "stream",
     "text": [
      "Epoch [12/100], Loss: 0.1160\n"
     ]
    },
    {
     "name": "stderr",
     "output_type": "stream",
     "text": [
      " 13%|█▎        | 13/100 [02:49<19:06, 13.18s/it]"
     ]
    },
    {
     "name": "stdout",
     "output_type": "stream",
     "text": [
      "Epoch [13/100], Loss: 0.1150\n"
     ]
    },
    {
     "name": "stderr",
     "output_type": "stream",
     "text": [
      " 14%|█▍        | 14/100 [03:02<18:50, 13.15s/it]"
     ]
    },
    {
     "name": "stdout",
     "output_type": "stream",
     "text": [
      "Epoch [14/100], Loss: 0.1141\n"
     ]
    },
    {
     "name": "stderr",
     "output_type": "stream",
     "text": [
      " 15%|█▌        | 15/100 [03:15<18:34, 13.11s/it]"
     ]
    },
    {
     "name": "stdout",
     "output_type": "stream",
     "text": [
      "Epoch [15/100], Loss: 0.1134\n"
     ]
    },
    {
     "name": "stderr",
     "output_type": "stream",
     "text": [
      " 16%|█▌        | 16/100 [03:28<18:14, 13.03s/it]"
     ]
    },
    {
     "name": "stdout",
     "output_type": "stream",
     "text": [
      "Epoch [16/100], Loss: 0.1129\n"
     ]
    },
    {
     "name": "stderr",
     "output_type": "stream",
     "text": [
      " 17%|█▋        | 17/100 [03:41<17:59, 13.00s/it]"
     ]
    },
    {
     "name": "stdout",
     "output_type": "stream",
     "text": [
      "Epoch [17/100], Loss: 0.1122\n"
     ]
    },
    {
     "name": "stderr",
     "output_type": "stream",
     "text": [
      " 18%|█▊        | 18/100 [03:54<17:52, 13.08s/it]"
     ]
    },
    {
     "name": "stdout",
     "output_type": "stream",
     "text": [
      "Epoch [18/100], Loss: 0.1114\n"
     ]
    },
    {
     "name": "stderr",
     "output_type": "stream",
     "text": [
      " 19%|█▉        | 19/100 [04:08<17:45, 13.15s/it]"
     ]
    },
    {
     "name": "stdout",
     "output_type": "stream",
     "text": [
      "Epoch [19/100], Loss: 0.1112\n"
     ]
    },
    {
     "name": "stderr",
     "output_type": "stream",
     "text": [
      " 20%|██        | 20/100 [04:21<17:34, 13.19s/it]"
     ]
    },
    {
     "name": "stdout",
     "output_type": "stream",
     "text": [
      "Epoch [20/100], Loss: 0.1105\n"
     ]
    },
    {
     "name": "stderr",
     "output_type": "stream",
     "text": [
      " 21%|██        | 21/100 [04:34<17:20, 13.17s/it]"
     ]
    },
    {
     "name": "stdout",
     "output_type": "stream",
     "text": [
      "Epoch [21/100], Loss: 0.1102\n"
     ]
    },
    {
     "name": "stderr",
     "output_type": "stream",
     "text": [
      " 22%|██▏       | 22/100 [04:47<17:11, 13.23s/it]"
     ]
    },
    {
     "name": "stdout",
     "output_type": "stream",
     "text": [
      "Epoch [22/100], Loss: 0.1096\n"
     ]
    },
    {
     "name": "stderr",
     "output_type": "stream",
     "text": [
      " 23%|██▎       | 23/100 [05:01<17:02, 13.28s/it]"
     ]
    },
    {
     "name": "stdout",
     "output_type": "stream",
     "text": [
      "Epoch [23/100], Loss: 0.1092\n"
     ]
    },
    {
     "name": "stderr",
     "output_type": "stream",
     "text": [
      " 24%|██▍       | 24/100 [05:14<16:47, 13.25s/it]"
     ]
    },
    {
     "name": "stdout",
     "output_type": "stream",
     "text": [
      "Epoch [24/100], Loss: 0.1088\n"
     ]
    },
    {
     "name": "stderr",
     "output_type": "stream",
     "text": [
      " 25%|██▌       | 25/100 [05:27<16:33, 13.25s/it]"
     ]
    },
    {
     "name": "stdout",
     "output_type": "stream",
     "text": [
      "Epoch [25/100], Loss: 0.1086\n"
     ]
    },
    {
     "name": "stderr",
     "output_type": "stream",
     "text": [
      " 26%|██▌       | 26/100 [05:41<16:22, 13.28s/it]"
     ]
    },
    {
     "name": "stdout",
     "output_type": "stream",
     "text": [
      "Epoch [26/100], Loss: 0.1082\n"
     ]
    },
    {
     "name": "stderr",
     "output_type": "stream",
     "text": [
      " 27%|██▋       | 27/100 [05:54<16:10, 13.29s/it]"
     ]
    },
    {
     "name": "stdout",
     "output_type": "stream",
     "text": [
      "Epoch [27/100], Loss: 0.1081\n"
     ]
    },
    {
     "name": "stderr",
     "output_type": "stream",
     "text": [
      " 28%|██▊       | 28/100 [06:07<15:56, 13.28s/it]"
     ]
    },
    {
     "name": "stdout",
     "output_type": "stream",
     "text": [
      "Epoch [28/100], Loss: 0.1078\n"
     ]
    },
    {
     "name": "stderr",
     "output_type": "stream",
     "text": [
      " 29%|██▉       | 29/100 [06:21<15:44, 13.30s/it]"
     ]
    },
    {
     "name": "stdout",
     "output_type": "stream",
     "text": [
      "Epoch [29/100], Loss: 0.1072\n"
     ]
    },
    {
     "name": "stderr",
     "output_type": "stream",
     "text": [
      " 30%|███       | 30/100 [06:34<15:32, 13.32s/it]"
     ]
    },
    {
     "name": "stdout",
     "output_type": "stream",
     "text": [
      "Epoch [30/100], Loss: 0.1071\n"
     ]
    },
    {
     "name": "stderr",
     "output_type": "stream",
     "text": [
      " 31%|███       | 31/100 [06:48<15:27, 13.44s/it]"
     ]
    },
    {
     "name": "stdout",
     "output_type": "stream",
     "text": [
      "Epoch [31/100], Loss: 0.1069\n"
     ]
    },
    {
     "name": "stderr",
     "output_type": "stream",
     "text": [
      " 32%|███▏      | 32/100 [07:01<15:11, 13.40s/it]"
     ]
    },
    {
     "name": "stdout",
     "output_type": "stream",
     "text": [
      "Epoch [32/100], Loss: 0.1066\n"
     ]
    },
    {
     "name": "stderr",
     "output_type": "stream",
     "text": [
      " 33%|███▎      | 33/100 [07:14<14:58, 13.40s/it]"
     ]
    },
    {
     "name": "stdout",
     "output_type": "stream",
     "text": [
      "Epoch [33/100], Loss: 0.1066\n"
     ]
    },
    {
     "name": "stderr",
     "output_type": "stream",
     "text": [
      " 34%|███▍      | 34/100 [07:28<14:46, 13.43s/it]"
     ]
    },
    {
     "name": "stdout",
     "output_type": "stream",
     "text": [
      "Epoch [34/100], Loss: 0.1061\n"
     ]
    },
    {
     "name": "stderr",
     "output_type": "stream",
     "text": [
      " 35%|███▌      | 35/100 [07:41<14:34, 13.45s/it]"
     ]
    },
    {
     "name": "stdout",
     "output_type": "stream",
     "text": [
      "Epoch [35/100], Loss: 0.1061\n"
     ]
    },
    {
     "name": "stderr",
     "output_type": "stream",
     "text": [
      " 36%|███▌      | 36/100 [07:55<14:20, 13.44s/it]"
     ]
    },
    {
     "name": "stdout",
     "output_type": "stream",
     "text": [
      "Epoch [36/100], Loss: 0.1056\n"
     ]
    },
    {
     "name": "stderr",
     "output_type": "stream",
     "text": [
      " 37%|███▋      | 37/100 [08:08<14:09, 13.48s/it]"
     ]
    },
    {
     "name": "stdout",
     "output_type": "stream",
     "text": [
      "Epoch [37/100], Loss: 0.1056\n"
     ]
    },
    {
     "name": "stderr",
     "output_type": "stream",
     "text": [
      " 38%|███▊      | 38/100 [08:22<13:53, 13.44s/it]"
     ]
    },
    {
     "name": "stdout",
     "output_type": "stream",
     "text": [
      "Epoch [38/100], Loss: 0.1054\n"
     ]
    },
    {
     "name": "stderr",
     "output_type": "stream",
     "text": [
      " 39%|███▉      | 39/100 [08:35<13:41, 13.47s/it]"
     ]
    },
    {
     "name": "stdout",
     "output_type": "stream",
     "text": [
      "Epoch [39/100], Loss: 0.1052\n"
     ]
    },
    {
     "name": "stderr",
     "output_type": "stream",
     "text": [
      " 40%|████      | 40/100 [08:49<13:31, 13.52s/it]"
     ]
    },
    {
     "name": "stdout",
     "output_type": "stream",
     "text": [
      "Epoch [40/100], Loss: 0.1051\n"
     ]
    },
    {
     "name": "stderr",
     "output_type": "stream",
     "text": [
      " 41%|████      | 41/100 [09:02<13:18, 13.53s/it]"
     ]
    },
    {
     "name": "stdout",
     "output_type": "stream",
     "text": [
      "Epoch [41/100], Loss: 0.1047\n"
     ]
    },
    {
     "name": "stderr",
     "output_type": "stream",
     "text": [
      " 42%|████▏     | 42/100 [09:16<13:05, 13.54s/it]"
     ]
    },
    {
     "name": "stdout",
     "output_type": "stream",
     "text": [
      "Epoch [42/100], Loss: 0.1047\n"
     ]
    },
    {
     "name": "stderr",
     "output_type": "stream",
     "text": [
      " 43%|████▎     | 43/100 [09:29<12:51, 13.54s/it]"
     ]
    },
    {
     "name": "stdout",
     "output_type": "stream",
     "text": [
      "Epoch [43/100], Loss: 0.1047\n"
     ]
    },
    {
     "name": "stderr",
     "output_type": "stream",
     "text": [
      " 44%|████▍     | 44/100 [09:45<13:07, 14.06s/it]"
     ]
    },
    {
     "name": "stdout",
     "output_type": "stream",
     "text": [
      "Epoch [44/100], Loss: 0.1043\n"
     ]
    },
    {
     "name": "stderr",
     "output_type": "stream",
     "text": [
      " 45%|████▌     | 45/100 [09:58<12:45, 13.91s/it]"
     ]
    },
    {
     "name": "stdout",
     "output_type": "stream",
     "text": [
      "Epoch [45/100], Loss: 0.1042\n"
     ]
    },
    {
     "name": "stderr",
     "output_type": "stream",
     "text": [
      " 46%|████▌     | 46/100 [10:12<12:24, 13.79s/it]"
     ]
    },
    {
     "name": "stdout",
     "output_type": "stream",
     "text": [
      "Epoch [46/100], Loss: 0.1040\n"
     ]
    },
    {
     "name": "stderr",
     "output_type": "stream",
     "text": [
      " 47%|████▋     | 47/100 [10:25<12:05, 13.70s/it]"
     ]
    },
    {
     "name": "stdout",
     "output_type": "stream",
     "text": [
      "Epoch [47/100], Loss: 0.1039\n"
     ]
    },
    {
     "name": "stderr",
     "output_type": "stream",
     "text": [
      " 48%|████▊     | 48/100 [10:39<11:50, 13.66s/it]"
     ]
    },
    {
     "name": "stdout",
     "output_type": "stream",
     "text": [
      "Epoch [48/100], Loss: 0.1038\n"
     ]
    },
    {
     "name": "stderr",
     "output_type": "stream",
     "text": [
      " 49%|████▉     | 49/100 [10:53<11:37, 13.67s/it]"
     ]
    },
    {
     "name": "stdout",
     "output_type": "stream",
     "text": [
      "Epoch [49/100], Loss: 0.1036\n"
     ]
    },
    {
     "name": "stderr",
     "output_type": "stream",
     "text": [
      " 50%|█████     | 50/100 [11:06<11:23, 13.68s/it]"
     ]
    },
    {
     "name": "stdout",
     "output_type": "stream",
     "text": [
      "Epoch [50/100], Loss: 0.1037\n"
     ]
    },
    {
     "name": "stderr",
     "output_type": "stream",
     "text": [
      " 51%|█████     | 51/100 [11:20<11:10, 13.69s/it]"
     ]
    },
    {
     "name": "stdout",
     "output_type": "stream",
     "text": [
      "Epoch [51/100], Loss: 0.1035\n"
     ]
    },
    {
     "name": "stderr",
     "output_type": "stream",
     "text": [
      " 52%|█████▏    | 52/100 [11:34<10:58, 13.72s/it]"
     ]
    },
    {
     "name": "stdout",
     "output_type": "stream",
     "text": [
      "Epoch [52/100], Loss: 0.1033\n"
     ]
    },
    {
     "name": "stderr",
     "output_type": "stream",
     "text": [
      " 53%|█████▎    | 53/100 [11:47<10:44, 13.71s/it]"
     ]
    },
    {
     "name": "stdout",
     "output_type": "stream",
     "text": [
      "Epoch [53/100], Loss: 0.1031\n"
     ]
    },
    {
     "name": "stderr",
     "output_type": "stream",
     "text": [
      " 54%|█████▍    | 54/100 [12:01<10:25, 13.59s/it]"
     ]
    },
    {
     "name": "stdout",
     "output_type": "stream",
     "text": [
      "Epoch [54/100], Loss: 0.1033\n"
     ]
    },
    {
     "name": "stderr",
     "output_type": "stream",
     "text": [
      " 55%|█████▌    | 55/100 [12:15<10:15, 13.67s/it]"
     ]
    },
    {
     "name": "stdout",
     "output_type": "stream",
     "text": [
      "Epoch [55/100], Loss: 0.1031\n"
     ]
    },
    {
     "name": "stderr",
     "output_type": "stream",
     "text": [
      " 56%|█████▌    | 56/100 [12:28<09:59, 13.62s/it]"
     ]
    },
    {
     "name": "stdout",
     "output_type": "stream",
     "text": [
      "Epoch [56/100], Loss: 0.1029\n"
     ]
    },
    {
     "name": "stderr",
     "output_type": "stream",
     "text": [
      " 57%|█████▋    | 57/100 [12:42<09:44, 13.59s/it]"
     ]
    },
    {
     "name": "stdout",
     "output_type": "stream",
     "text": [
      "Epoch [57/100], Loss: 0.1026\n"
     ]
    },
    {
     "name": "stderr",
     "output_type": "stream",
     "text": [
      " 58%|█████▊    | 58/100 [12:55<09:30, 13.59s/it]"
     ]
    },
    {
     "name": "stdout",
     "output_type": "stream",
     "text": [
      "Epoch [58/100], Loss: 0.1026\n"
     ]
    },
    {
     "name": "stderr",
     "output_type": "stream",
     "text": [
      " 59%|█████▉    | 59/100 [13:09<09:17, 13.61s/it]"
     ]
    },
    {
     "name": "stdout",
     "output_type": "stream",
     "text": [
      "Epoch [59/100], Loss: 0.1025\n"
     ]
    },
    {
     "name": "stderr",
     "output_type": "stream",
     "text": [
      " 60%|██████    | 60/100 [13:23<09:04, 13.62s/it]"
     ]
    },
    {
     "name": "stdout",
     "output_type": "stream",
     "text": [
      "Epoch [60/100], Loss: 0.1024\n"
     ]
    },
    {
     "name": "stderr",
     "output_type": "stream",
     "text": [
      " 61%|██████    | 61/100 [13:36<08:51, 13.63s/it]"
     ]
    },
    {
     "name": "stdout",
     "output_type": "stream",
     "text": [
      "Epoch [61/100], Loss: 0.1024\n"
     ]
    },
    {
     "name": "stderr",
     "output_type": "stream",
     "text": [
      " 62%|██████▏   | 62/100 [13:50<08:36, 13.59s/it]"
     ]
    },
    {
     "name": "stdout",
     "output_type": "stream",
     "text": [
      "Epoch [62/100], Loss: 0.1021\n"
     ]
    },
    {
     "name": "stderr",
     "output_type": "stream",
     "text": [
      " 63%|██████▎   | 63/100 [14:03<08:22, 13.58s/it]"
     ]
    },
    {
     "name": "stdout",
     "output_type": "stream",
     "text": [
      "Epoch [63/100], Loss: 0.1024\n"
     ]
    },
    {
     "name": "stderr",
     "output_type": "stream",
     "text": [
      " 64%|██████▍   | 64/100 [14:17<08:09, 13.58s/it]"
     ]
    },
    {
     "name": "stdout",
     "output_type": "stream",
     "text": [
      "Epoch [64/100], Loss: 0.1020\n"
     ]
    },
    {
     "name": "stderr",
     "output_type": "stream",
     "text": [
      " 65%|██████▌   | 65/100 [14:30<07:54, 13.57s/it]"
     ]
    },
    {
     "name": "stdout",
     "output_type": "stream",
     "text": [
      "Epoch [65/100], Loss: 0.1018\n"
     ]
    },
    {
     "name": "stderr",
     "output_type": "stream",
     "text": [
      " 66%|██████▌   | 66/100 [14:44<07:41, 13.58s/it]"
     ]
    },
    {
     "name": "stdout",
     "output_type": "stream",
     "text": [
      "Epoch [66/100], Loss: 0.1019\n"
     ]
    },
    {
     "name": "stderr",
     "output_type": "stream",
     "text": [
      " 67%|██████▋   | 67/100 [14:58<07:28, 13.60s/it]"
     ]
    },
    {
     "name": "stdout",
     "output_type": "stream",
     "text": [
      "Epoch [67/100], Loss: 0.1019\n"
     ]
    },
    {
     "name": "stderr",
     "output_type": "stream",
     "text": [
      " 68%|██████▊   | 68/100 [15:11<07:14, 13.58s/it]"
     ]
    },
    {
     "name": "stdout",
     "output_type": "stream",
     "text": [
      "Epoch [68/100], Loss: 0.1019\n"
     ]
    },
    {
     "name": "stderr",
     "output_type": "stream",
     "text": [
      " 69%|██████▉   | 69/100 [15:25<07:03, 13.66s/it]"
     ]
    },
    {
     "name": "stdout",
     "output_type": "stream",
     "text": [
      "Epoch [69/100], Loss: 0.1015\n"
     ]
    },
    {
     "name": "stderr",
     "output_type": "stream",
     "text": [
      " 70%|███████   | 70/100 [15:39<06:50, 13.67s/it]"
     ]
    },
    {
     "name": "stdout",
     "output_type": "stream",
     "text": [
      "Epoch [70/100], Loss: 0.1018\n"
     ]
    },
    {
     "name": "stderr",
     "output_type": "stream",
     "text": [
      " 71%|███████   | 71/100 [15:52<06:37, 13.69s/it]"
     ]
    },
    {
     "name": "stdout",
     "output_type": "stream",
     "text": [
      "Epoch [71/100], Loss: 0.1015\n"
     ]
    },
    {
     "name": "stderr",
     "output_type": "stream",
     "text": [
      " 72%|███████▏  | 72/100 [16:06<06:23, 13.69s/it]"
     ]
    },
    {
     "name": "stdout",
     "output_type": "stream",
     "text": [
      "Epoch [72/100], Loss: 0.1015\n"
     ]
    },
    {
     "name": "stderr",
     "output_type": "stream",
     "text": [
      " 73%|███████▎  | 73/100 [16:20<06:09, 13.67s/it]"
     ]
    },
    {
     "name": "stdout",
     "output_type": "stream",
     "text": [
      "Epoch [73/100], Loss: 0.1015\n"
     ]
    },
    {
     "name": "stderr",
     "output_type": "stream",
     "text": [
      " 74%|███████▍  | 74/100 [16:33<05:54, 13.63s/it]"
     ]
    },
    {
     "name": "stdout",
     "output_type": "stream",
     "text": [
      "Epoch [74/100], Loss: 0.1011\n"
     ]
    },
    {
     "name": "stderr",
     "output_type": "stream",
     "text": [
      " 75%|███████▌  | 75/100 [16:47<05:40, 13.63s/it]"
     ]
    },
    {
     "name": "stdout",
     "output_type": "stream",
     "text": [
      "Epoch [75/100], Loss: 0.1011\n"
     ]
    },
    {
     "name": "stderr",
     "output_type": "stream",
     "text": [
      " 76%|███████▌  | 76/100 [17:01<05:27, 13.66s/it]"
     ]
    },
    {
     "name": "stdout",
     "output_type": "stream",
     "text": [
      "Epoch [76/100], Loss: 0.1011\n"
     ]
    },
    {
     "name": "stderr",
     "output_type": "stream",
     "text": [
      " 77%|███████▋  | 77/100 [17:14<05:14, 13.68s/it]"
     ]
    },
    {
     "name": "stdout",
     "output_type": "stream",
     "text": [
      "Epoch [77/100], Loss: 0.1012\n"
     ]
    },
    {
     "name": "stderr",
     "output_type": "stream",
     "text": [
      " 78%|███████▊  | 78/100 [17:30<05:11, 14.15s/it]"
     ]
    },
    {
     "name": "stdout",
     "output_type": "stream",
     "text": [
      "Epoch [78/100], Loss: 0.1011\n"
     ]
    },
    {
     "name": "stderr",
     "output_type": "stream",
     "text": [
      " 79%|███████▉  | 79/100 [17:44<04:55, 14.07s/it]"
     ]
    },
    {
     "name": "stdout",
     "output_type": "stream",
     "text": [
      "Epoch [79/100], Loss: 0.1010\n"
     ]
    },
    {
     "name": "stderr",
     "output_type": "stream",
     "text": [
      " 80%|████████  | 80/100 [17:57<04:38, 13.93s/it]"
     ]
    },
    {
     "name": "stdout",
     "output_type": "stream",
     "text": [
      "Epoch [80/100], Loss: 0.1010\n"
     ]
    },
    {
     "name": "stderr",
     "output_type": "stream",
     "text": [
      " 81%|████████  | 81/100 [18:11<04:23, 13.86s/it]"
     ]
    },
    {
     "name": "stdout",
     "output_type": "stream",
     "text": [
      "Epoch [81/100], Loss: 0.1006\n"
     ]
    },
    {
     "name": "stderr",
     "output_type": "stream",
     "text": [
      " 82%|████████▏ | 82/100 [18:24<04:08, 13.80s/it]"
     ]
    },
    {
     "name": "stdout",
     "output_type": "stream",
     "text": [
      "Epoch [82/100], Loss: 0.1008\n"
     ]
    },
    {
     "name": "stderr",
     "output_type": "stream",
     "text": [
      " 83%|████████▎ | 83/100 [18:38<03:54, 13.78s/it]"
     ]
    },
    {
     "name": "stdout",
     "output_type": "stream",
     "text": [
      "Epoch [83/100], Loss: 0.1007\n"
     ]
    },
    {
     "name": "stderr",
     "output_type": "stream",
     "text": [
      " 84%|████████▍ | 84/100 [18:52<03:40, 13.76s/it]"
     ]
    },
    {
     "name": "stdout",
     "output_type": "stream",
     "text": [
      "Epoch [84/100], Loss: 0.1006\n"
     ]
    },
    {
     "name": "stderr",
     "output_type": "stream",
     "text": [
      " 85%|████████▌ | 85/100 [19:06<03:25, 13.72s/it]"
     ]
    },
    {
     "name": "stdout",
     "output_type": "stream",
     "text": [
      "Epoch [85/100], Loss: 0.1004\n"
     ]
    },
    {
     "name": "stderr",
     "output_type": "stream",
     "text": [
      " 86%|████████▌ | 86/100 [19:19<03:12, 13.74s/it]"
     ]
    },
    {
     "name": "stdout",
     "output_type": "stream",
     "text": [
      "Epoch [86/100], Loss: 0.1006\n"
     ]
    },
    {
     "name": "stderr",
     "output_type": "stream",
     "text": [
      " 87%|████████▋ | 87/100 [19:33<02:57, 13.67s/it]"
     ]
    },
    {
     "name": "stdout",
     "output_type": "stream",
     "text": [
      "Epoch [87/100], Loss: 0.1005\n"
     ]
    },
    {
     "name": "stderr",
     "output_type": "stream",
     "text": [
      " 88%|████████▊ | 88/100 [19:46<02:43, 13.62s/it]"
     ]
    },
    {
     "name": "stdout",
     "output_type": "stream",
     "text": [
      "Epoch [88/100], Loss: 0.1004\n"
     ]
    },
    {
     "name": "stderr",
     "output_type": "stream",
     "text": [
      " 89%|████████▉ | 89/100 [20:00<02:29, 13.58s/it]"
     ]
    },
    {
     "name": "stdout",
     "output_type": "stream",
     "text": [
      "Epoch [89/100], Loss: 0.1004\n"
     ]
    },
    {
     "name": "stderr",
     "output_type": "stream",
     "text": [
      " 90%|█████████ | 90/100 [20:14<02:16, 13.64s/it]"
     ]
    },
    {
     "name": "stdout",
     "output_type": "stream",
     "text": [
      "Epoch [90/100], Loss: 0.1002\n"
     ]
    },
    {
     "name": "stderr",
     "output_type": "stream",
     "text": [
      " 91%|█████████ | 91/100 [20:28<02:03, 13.72s/it]"
     ]
    },
    {
     "name": "stdout",
     "output_type": "stream",
     "text": [
      "Epoch [91/100], Loss: 0.1005\n"
     ]
    },
    {
     "name": "stderr",
     "output_type": "stream",
     "text": [
      " 92%|█████████▏| 92/100 [20:41<01:50, 13.76s/it]"
     ]
    },
    {
     "name": "stdout",
     "output_type": "stream",
     "text": [
      "Epoch [92/100], Loss: 0.1004\n"
     ]
    },
    {
     "name": "stderr",
     "output_type": "stream",
     "text": [
      " 93%|█████████▎| 93/100 [20:55<01:36, 13.72s/it]"
     ]
    },
    {
     "name": "stdout",
     "output_type": "stream",
     "text": [
      "Epoch [93/100], Loss: 0.1000\n"
     ]
    },
    {
     "name": "stderr",
     "output_type": "stream",
     "text": [
      " 94%|█████████▍| 94/100 [21:09<01:22, 13.72s/it]"
     ]
    },
    {
     "name": "stdout",
     "output_type": "stream",
     "text": [
      "Epoch [94/100], Loss: 0.1003\n"
     ]
    },
    {
     "name": "stderr",
     "output_type": "stream",
     "text": [
      " 95%|█████████▌| 95/100 [21:22<01:08, 13.73s/it]"
     ]
    },
    {
     "name": "stdout",
     "output_type": "stream",
     "text": [
      "Epoch [95/100], Loss: 0.1000\n"
     ]
    },
    {
     "name": "stderr",
     "output_type": "stream",
     "text": [
      " 96%|█████████▌| 96/100 [21:36<00:54, 13.75s/it]"
     ]
    },
    {
     "name": "stdout",
     "output_type": "stream",
     "text": [
      "Epoch [96/100], Loss: 0.1002\n"
     ]
    },
    {
     "name": "stderr",
     "output_type": "stream",
     "text": [
      " 97%|█████████▋| 97/100 [21:50<00:41, 13.74s/it]"
     ]
    },
    {
     "name": "stdout",
     "output_type": "stream",
     "text": [
      "Epoch [97/100], Loss: 0.1000\n"
     ]
    },
    {
     "name": "stderr",
     "output_type": "stream",
     "text": [
      " 98%|█████████▊| 98/100 [22:04<00:27, 13.79s/it]"
     ]
    },
    {
     "name": "stdout",
     "output_type": "stream",
     "text": [
      "Epoch [98/100], Loss: 0.0998\n"
     ]
    },
    {
     "name": "stderr",
     "output_type": "stream",
     "text": [
      " 99%|█████████▉| 99/100 [22:18<00:13, 13.82s/it]"
     ]
    },
    {
     "name": "stdout",
     "output_type": "stream",
     "text": [
      "Epoch [99/100], Loss: 0.1000\n"
     ]
    },
    {
     "name": "stderr",
     "output_type": "stream",
     "text": [
      "100%|██████████| 100/100 [22:31<00:00, 13.52s/it]"
     ]
    },
    {
     "name": "stdout",
     "output_type": "stream",
     "text": [
      "Epoch [100/100], Loss: 0.1000\n"
     ]
    },
    {
     "name": "stderr",
     "output_type": "stream",
     "text": [
      "\n"
     ]
    }
   ],
   "source": [
    "results_augmented = train_and_predict_multiclass_logistic_regression_torch(X_augmented, \n",
    "                                                       X_test,\n",
    "                                                       y_augmented,\n",
    "                                                       y_test, \n",
    "                                                       batch_size=64,\n",
    "                                                       epochs=100, \n",
    "                                                       learning_rate=0.001)"
   ]
  },
  {
   "cell_type": "code",
   "execution_count": 33,
   "id": "f17f7598-25e7-4f5f-a654-3f85cd8a0cfc",
   "metadata": {},
   "outputs": [],
   "source": [
    "results_aug = pd.DataFrame(results_augmented[2]).T"
   ]
  },
  {
   "cell_type": "code",
   "execution_count": 34,
   "id": "7ee6cb03-a23f-4dcc-8367-fddbe150bdeb",
   "metadata": {},
   "outputs": [],
   "source": [
    "results_aug.index = list(oh_encoder.categories_[0])+list(results_aug.index)[50:]"
   ]
  },
  {
   "cell_type": "code",
   "execution_count": 35,
   "id": "6e2e1fef-8dc1-4cf9-874e-172fdfd22eb6",
   "metadata": {
    "scrolled": true
   },
   "outputs": [
    {
     "data": {
      "text/html": [
       "<div>\n",
       "<style scoped>\n",
       "    .dataframe tbody tr th:only-of-type {\n",
       "        vertical-align: middle;\n",
       "    }\n",
       "\n",
       "    .dataframe tbody tr th {\n",
       "        vertical-align: top;\n",
       "    }\n",
       "\n",
       "    .dataframe thead th {\n",
       "        text-align: right;\n",
       "    }\n",
       "</style>\n",
       "<table border=\"1\" class=\"dataframe\">\n",
       "  <thead>\n",
       "    <tr style=\"text-align: right;\">\n",
       "      <th></th>\n",
       "      <th>precision</th>\n",
       "      <th>recall</th>\n",
       "      <th>f1-score</th>\n",
       "      <th>support</th>\n",
       "    </tr>\n",
       "  </thead>\n",
       "  <tbody>\n",
       "    <tr>\n",
       "      <th>accuracy</th>\n",
       "      <td>0.842910</td>\n",
       "      <td>0.842910</td>\n",
       "      <td>0.842910</td>\n",
       "      <td>0.84291</td>\n",
       "    </tr>\n",
       "    <tr>\n",
       "      <th>serous secreting cell</th>\n",
       "      <td>0.000000</td>\n",
       "      <td>0.000000</td>\n",
       "      <td>0.000000</td>\n",
       "      <td>4.00000</td>\n",
       "    </tr>\n",
       "    <tr>\n",
       "      <th>tracheobronchial goblet cell</th>\n",
       "      <td>0.006061</td>\n",
       "      <td>0.125000</td>\n",
       "      <td>0.011561</td>\n",
       "      <td>8.00000</td>\n",
       "    </tr>\n",
       "    <tr>\n",
       "      <th>hematopoietic stem cell</th>\n",
       "      <td>0.127273</td>\n",
       "      <td>0.777778</td>\n",
       "      <td>0.218750</td>\n",
       "      <td>9.00000</td>\n",
       "    </tr>\n",
       "    <tr>\n",
       "      <th>fibroblast</th>\n",
       "      <td>0.062500</td>\n",
       "      <td>0.300000</td>\n",
       "      <td>0.103448</td>\n",
       "      <td>10.00000</td>\n",
       "    </tr>\n",
       "    <tr>\n",
       "      <th>stromal cell</th>\n",
       "      <td>0.333333</td>\n",
       "      <td>0.529412</td>\n",
       "      <td>0.409091</td>\n",
       "      <td>17.00000</td>\n",
       "    </tr>\n",
       "    <tr>\n",
       "      <th>brush cell of trachebronchial tree</th>\n",
       "      <td>0.237288</td>\n",
       "      <td>0.736842</td>\n",
       "      <td>0.358974</td>\n",
       "      <td>19.00000</td>\n",
       "    </tr>\n",
       "    <tr>\n",
       "      <th>lung neuroendocrine cell</th>\n",
       "      <td>0.727273</td>\n",
       "      <td>1.000000</td>\n",
       "      <td>0.842105</td>\n",
       "      <td>32.00000</td>\n",
       "    </tr>\n",
       "    <tr>\n",
       "      <th>smooth muscle cell</th>\n",
       "      <td>0.108527</td>\n",
       "      <td>0.411765</td>\n",
       "      <td>0.171779</td>\n",
       "      <td>34.00000</td>\n",
       "    </tr>\n",
       "    <tr>\n",
       "      <th>mesothelial cell</th>\n",
       "      <td>0.653846</td>\n",
       "      <td>0.971429</td>\n",
       "      <td>0.781609</td>\n",
       "      <td>35.00000</td>\n",
       "    </tr>\n",
       "    <tr>\n",
       "      <th>dendritic cell</th>\n",
       "      <td>0.155689</td>\n",
       "      <td>0.702703</td>\n",
       "      <td>0.254902</td>\n",
       "      <td>37.00000</td>\n",
       "    </tr>\n",
       "    <tr>\n",
       "      <th>mucus secreting cell</th>\n",
       "      <td>0.800000</td>\n",
       "      <td>0.487805</td>\n",
       "      <td>0.606061</td>\n",
       "      <td>41.00000</td>\n",
       "    </tr>\n",
       "    <tr>\n",
       "      <th>conventional dendritic cell</th>\n",
       "      <td>0.140893</td>\n",
       "      <td>0.630769</td>\n",
       "      <td>0.230337</td>\n",
       "      <td>65.00000</td>\n",
       "    </tr>\n",
       "    <tr>\n",
       "      <th>myofibroblast cell</th>\n",
       "      <td>0.444444</td>\n",
       "      <td>0.716418</td>\n",
       "      <td>0.548571</td>\n",
       "      <td>67.00000</td>\n",
       "    </tr>\n",
       "    <tr>\n",
       "      <th>tracheobronchial serous cell</th>\n",
       "      <td>0.622222</td>\n",
       "      <td>0.363636</td>\n",
       "      <td>0.459016</td>\n",
       "      <td>77.00000</td>\n",
       "    </tr>\n",
       "    <tr>\n",
       "      <th>T cell</th>\n",
       "      <td>0.100829</td>\n",
       "      <td>0.544776</td>\n",
       "      <td>0.170163</td>\n",
       "      <td>134.00000</td>\n",
       "    </tr>\n",
       "    <tr>\n",
       "      <th>ionocyte</th>\n",
       "      <td>0.606335</td>\n",
       "      <td>0.957143</td>\n",
       "      <td>0.742382</td>\n",
       "      <td>140.00000</td>\n",
       "    </tr>\n",
       "    <tr>\n",
       "      <th>lung pericyte</th>\n",
       "      <td>0.865031</td>\n",
       "      <td>0.927632</td>\n",
       "      <td>0.895238</td>\n",
       "      <td>152.00000</td>\n",
       "    </tr>\n",
       "    <tr>\n",
       "      <th>acinar cell</th>\n",
       "      <td>0.540351</td>\n",
       "      <td>0.647059</td>\n",
       "      <td>0.588910</td>\n",
       "      <td>238.00000</td>\n",
       "    </tr>\n",
       "    <tr>\n",
       "      <th>plasmacytoid dendritic cell</th>\n",
       "      <td>0.770115</td>\n",
       "      <td>0.964029</td>\n",
       "      <td>0.856230</td>\n",
       "      <td>278.00000</td>\n",
       "    </tr>\n",
       "    <tr>\n",
       "      <th>bronchial goblet cell</th>\n",
       "      <td>0.084507</td>\n",
       "      <td>0.083565</td>\n",
       "      <td>0.084034</td>\n",
       "      <td>359.00000</td>\n",
       "    </tr>\n",
       "    <tr>\n",
       "      <th>epithelial cell of alveolus of lung</th>\n",
       "      <td>0.363501</td>\n",
       "      <td>0.544444</td>\n",
       "      <td>0.435943</td>\n",
       "      <td>450.00000</td>\n",
       "    </tr>\n",
       "    <tr>\n",
       "      <th>tracheobronchial smooth muscle cell</th>\n",
       "      <td>0.831325</td>\n",
       "      <td>0.668605</td>\n",
       "      <td>0.741139</td>\n",
       "      <td>516.00000</td>\n",
       "    </tr>\n",
       "    <tr>\n",
       "      <th>respiratory hillock cell</th>\n",
       "      <td>0.421535</td>\n",
       "      <td>0.613333</td>\n",
       "      <td>0.499661</td>\n",
       "      <td>600.00000</td>\n",
       "    </tr>\n",
       "    <tr>\n",
       "      <th>bronchus fibroblast of lung</th>\n",
       "      <td>0.732782</td>\n",
       "      <td>0.872131</td>\n",
       "      <td>0.796407</td>\n",
       "      <td>610.00000</td>\n",
       "    </tr>\n",
       "    <tr>\n",
       "      <th>alveolar type 1 fibroblast cell</th>\n",
       "      <td>0.642785</td>\n",
       "      <td>0.844828</td>\n",
       "      <td>0.730086</td>\n",
       "      <td>754.00000</td>\n",
       "    </tr>\n",
       "    <tr>\n",
       "      <th>plasma cell</th>\n",
       "      <td>0.933926</td>\n",
       "      <td>0.890909</td>\n",
       "      <td>0.911911</td>\n",
       "      <td>825.00000</td>\n",
       "    </tr>\n",
       "    <tr>\n",
       "      <th>B cell</th>\n",
       "      <td>0.920705</td>\n",
       "      <td>0.830189</td>\n",
       "      <td>0.873107</td>\n",
       "      <td>1007.00000</td>\n",
       "    </tr>\n",
       "    <tr>\n",
       "      <th>mast cell</th>\n",
       "      <td>0.966102</td>\n",
       "      <td>0.955621</td>\n",
       "      <td>0.960833</td>\n",
       "      <td>1014.00000</td>\n",
       "    </tr>\n",
       "    <tr>\n",
       "      <th>epithelial cell of lower respiratory tract</th>\n",
       "      <td>0.686174</td>\n",
       "      <td>0.735862</td>\n",
       "      <td>0.710150</td>\n",
       "      <td>1450.00000</td>\n",
       "    </tr>\n",
       "    <tr>\n",
       "      <th>endothelial cell of lymphatic vessel</th>\n",
       "      <td>0.979812</td>\n",
       "      <td>0.968729</td>\n",
       "      <td>0.974239</td>\n",
       "      <td>1503.00000</td>\n",
       "    </tr>\n",
       "    <tr>\n",
       "      <th>multi-ciliated epithelial cell</th>\n",
       "      <td>0.620567</td>\n",
       "      <td>0.889831</td>\n",
       "      <td>0.731198</td>\n",
       "      <td>1770.00000</td>\n",
       "    </tr>\n",
       "    <tr>\n",
       "      <th>natural killer cell</th>\n",
       "      <td>0.856747</td>\n",
       "      <td>0.792985</td>\n",
       "      <td>0.823634</td>\n",
       "      <td>2338.00000</td>\n",
       "    </tr>\n",
       "    <tr>\n",
       "      <th>non-classical monocyte</th>\n",
       "      <td>0.763472</td>\n",
       "      <td>0.743292</td>\n",
       "      <td>0.753247</td>\n",
       "      <td>2497.00000</td>\n",
       "    </tr>\n",
       "    <tr>\n",
       "      <th>type I pneumocyte</th>\n",
       "      <td>0.920659</td>\n",
       "      <td>0.918547</td>\n",
       "      <td>0.919602</td>\n",
       "      <td>2615.00000</td>\n",
       "    </tr>\n",
       "    <tr>\n",
       "      <th>lung macrophage</th>\n",
       "      <td>0.786035</td>\n",
       "      <td>0.451934</td>\n",
       "      <td>0.573901</td>\n",
       "      <td>2715.00000</td>\n",
       "    </tr>\n",
       "    <tr>\n",
       "      <th>pulmonary artery endothelial cell</th>\n",
       "      <td>0.858279</td>\n",
       "      <td>0.875220</td>\n",
       "      <td>0.866667</td>\n",
       "      <td>2837.00000</td>\n",
       "    </tr>\n",
       "    <tr>\n",
       "      <th>CD1c-positive myeloid dendritic cell</th>\n",
       "      <td>0.725583</td>\n",
       "      <td>0.711870</td>\n",
       "      <td>0.718661</td>\n",
       "      <td>3016.00000</td>\n",
       "    </tr>\n",
       "    <tr>\n",
       "      <th>classical monocyte</th>\n",
       "      <td>0.739017</td>\n",
       "      <td>0.755313</td>\n",
       "      <td>0.747077</td>\n",
       "      <td>3764.00000</td>\n",
       "    </tr>\n",
       "    <tr>\n",
       "      <th>alveolar type 2 fibroblast cell</th>\n",
       "      <td>0.959325</td>\n",
       "      <td>0.880173</td>\n",
       "      <td>0.918046</td>\n",
       "      <td>3939.00000</td>\n",
       "    </tr>\n",
       "    <tr>\n",
       "      <th>capillary endothelial cell</th>\n",
       "      <td>0.916062</td>\n",
       "      <td>0.823091</td>\n",
       "      <td>0.867092</td>\n",
       "      <td>4296.00000</td>\n",
       "    </tr>\n",
       "    <tr>\n",
       "      <th>vein endothelial cell</th>\n",
       "      <td>0.890540</td>\n",
       "      <td>0.926839</td>\n",
       "      <td>0.908327</td>\n",
       "      <td>4784.00000</td>\n",
       "    </tr>\n",
       "    <tr>\n",
       "      <th>CD4-positive, alpha-beta T cell</th>\n",
       "      <td>0.827579</td>\n",
       "      <td>0.744821</td>\n",
       "      <td>0.784022</td>\n",
       "      <td>5310.00000</td>\n",
       "    </tr>\n",
       "    <tr>\n",
       "      <th>elicited macrophage</th>\n",
       "      <td>0.524435</td>\n",
       "      <td>0.845352</td>\n",
       "      <td>0.647301</td>\n",
       "      <td>5852.00000</td>\n",
       "    </tr>\n",
       "    <tr>\n",
       "      <th>club cell</th>\n",
       "      <td>0.756429</td>\n",
       "      <td>0.572981</td>\n",
       "      <td>0.652048</td>\n",
       "      <td>7084.00000</td>\n",
       "    </tr>\n",
       "    <tr>\n",
       "      <th>CD8-positive, alpha-beta T cell</th>\n",
       "      <td>0.797659</td>\n",
       "      <td>0.803090</td>\n",
       "      <td>0.800365</td>\n",
       "      <td>7638.00000</td>\n",
       "    </tr>\n",
       "    <tr>\n",
       "      <th>nasal mucosa goblet cell</th>\n",
       "      <td>0.725230</td>\n",
       "      <td>0.881577</td>\n",
       "      <td>0.795797</td>\n",
       "      <td>8419.00000</td>\n",
       "    </tr>\n",
       "    <tr>\n",
       "      <th>ciliated columnar cell of tracheobronchial tree</th>\n",
       "      <td>0.931522</td>\n",
       "      <td>0.897941</td>\n",
       "      <td>0.914424</td>\n",
       "      <td>10347.00000</td>\n",
       "    </tr>\n",
       "    <tr>\n",
       "      <th>respiratory basal cell</th>\n",
       "      <td>0.939118</td>\n",
       "      <td>0.864584</td>\n",
       "      <td>0.900311</td>\n",
       "      <td>13381.00000</td>\n",
       "    </tr>\n",
       "    <tr>\n",
       "      <th>type II pneumocyte</th>\n",
       "      <td>0.958722</td>\n",
       "      <td>0.956250</td>\n",
       "      <td>0.957484</td>\n",
       "      <td>20937.00000</td>\n",
       "    </tr>\n",
       "    <tr>\n",
       "      <th>alveolar macrophage</th>\n",
       "      <td>0.965307</td>\n",
       "      <td>0.876847</td>\n",
       "      <td>0.918953</td>\n",
       "      <td>31002.00000</td>\n",
       "    </tr>\n",
       "    <tr>\n",
       "      <th>macro avg</th>\n",
       "      <td>0.626549</td>\n",
       "      <td>0.720299</td>\n",
       "      <td>0.643296</td>\n",
       "      <td>155026.00000</td>\n",
       "    </tr>\n",
       "    <tr>\n",
       "      <th>weighted avg</th>\n",
       "      <td>0.863503</td>\n",
       "      <td>0.842910</td>\n",
       "      <td>0.848249</td>\n",
       "      <td>155026.00000</td>\n",
       "    </tr>\n",
       "  </tbody>\n",
       "</table>\n",
       "</div>"
      ],
      "text/plain": [
       "                                                 precision    recall  \\\n",
       "accuracy                                          0.842910  0.842910   \n",
       "serous secreting cell                             0.000000  0.000000   \n",
       "tracheobronchial goblet cell                      0.006061  0.125000   \n",
       "hematopoietic stem cell                           0.127273  0.777778   \n",
       "fibroblast                                        0.062500  0.300000   \n",
       "stromal cell                                      0.333333  0.529412   \n",
       "brush cell of trachebronchial tree                0.237288  0.736842   \n",
       "lung neuroendocrine cell                          0.727273  1.000000   \n",
       "smooth muscle cell                                0.108527  0.411765   \n",
       "mesothelial cell                                  0.653846  0.971429   \n",
       "dendritic cell                                    0.155689  0.702703   \n",
       "mucus secreting cell                              0.800000  0.487805   \n",
       "conventional dendritic cell                       0.140893  0.630769   \n",
       "myofibroblast cell                                0.444444  0.716418   \n",
       "tracheobronchial serous cell                      0.622222  0.363636   \n",
       "T cell                                            0.100829  0.544776   \n",
       "ionocyte                                          0.606335  0.957143   \n",
       "lung pericyte                                     0.865031  0.927632   \n",
       "acinar cell                                       0.540351  0.647059   \n",
       "plasmacytoid dendritic cell                       0.770115  0.964029   \n",
       "bronchial goblet cell                             0.084507  0.083565   \n",
       "epithelial cell of alveolus of lung               0.363501  0.544444   \n",
       "tracheobronchial smooth muscle cell               0.831325  0.668605   \n",
       "respiratory hillock cell                          0.421535  0.613333   \n",
       "bronchus fibroblast of lung                       0.732782  0.872131   \n",
       "alveolar type 1 fibroblast cell                   0.642785  0.844828   \n",
       "plasma cell                                       0.933926  0.890909   \n",
       "B cell                                            0.920705  0.830189   \n",
       "mast cell                                         0.966102  0.955621   \n",
       "epithelial cell of lower respiratory tract        0.686174  0.735862   \n",
       "endothelial cell of lymphatic vessel              0.979812  0.968729   \n",
       "multi-ciliated epithelial cell                    0.620567  0.889831   \n",
       "natural killer cell                               0.856747  0.792985   \n",
       "non-classical monocyte                            0.763472  0.743292   \n",
       "type I pneumocyte                                 0.920659  0.918547   \n",
       "lung macrophage                                   0.786035  0.451934   \n",
       "pulmonary artery endothelial cell                 0.858279  0.875220   \n",
       "CD1c-positive myeloid dendritic cell              0.725583  0.711870   \n",
       "classical monocyte                                0.739017  0.755313   \n",
       "alveolar type 2 fibroblast cell                   0.959325  0.880173   \n",
       "capillary endothelial cell                        0.916062  0.823091   \n",
       "vein endothelial cell                             0.890540  0.926839   \n",
       "CD4-positive, alpha-beta T cell                   0.827579  0.744821   \n",
       "elicited macrophage                               0.524435  0.845352   \n",
       "club cell                                         0.756429  0.572981   \n",
       "CD8-positive, alpha-beta T cell                   0.797659  0.803090   \n",
       "nasal mucosa goblet cell                          0.725230  0.881577   \n",
       "ciliated columnar cell of tracheobronchial tree   0.931522  0.897941   \n",
       "respiratory basal cell                            0.939118  0.864584   \n",
       "type II pneumocyte                                0.958722  0.956250   \n",
       "alveolar macrophage                               0.965307  0.876847   \n",
       "macro avg                                         0.626549  0.720299   \n",
       "weighted avg                                      0.863503  0.842910   \n",
       "\n",
       "                                                 f1-score       support  \n",
       "accuracy                                         0.842910       0.84291  \n",
       "serous secreting cell                            0.000000       4.00000  \n",
       "tracheobronchial goblet cell                     0.011561       8.00000  \n",
       "hematopoietic stem cell                          0.218750       9.00000  \n",
       "fibroblast                                       0.103448      10.00000  \n",
       "stromal cell                                     0.409091      17.00000  \n",
       "brush cell of trachebronchial tree               0.358974      19.00000  \n",
       "lung neuroendocrine cell                         0.842105      32.00000  \n",
       "smooth muscle cell                               0.171779      34.00000  \n",
       "mesothelial cell                                 0.781609      35.00000  \n",
       "dendritic cell                                   0.254902      37.00000  \n",
       "mucus secreting cell                             0.606061      41.00000  \n",
       "conventional dendritic cell                      0.230337      65.00000  \n",
       "myofibroblast cell                               0.548571      67.00000  \n",
       "tracheobronchial serous cell                     0.459016      77.00000  \n",
       "T cell                                           0.170163     134.00000  \n",
       "ionocyte                                         0.742382     140.00000  \n",
       "lung pericyte                                    0.895238     152.00000  \n",
       "acinar cell                                      0.588910     238.00000  \n",
       "plasmacytoid dendritic cell                      0.856230     278.00000  \n",
       "bronchial goblet cell                            0.084034     359.00000  \n",
       "epithelial cell of alveolus of lung              0.435943     450.00000  \n",
       "tracheobronchial smooth muscle cell              0.741139     516.00000  \n",
       "respiratory hillock cell                         0.499661     600.00000  \n",
       "bronchus fibroblast of lung                      0.796407     610.00000  \n",
       "alveolar type 1 fibroblast cell                  0.730086     754.00000  \n",
       "plasma cell                                      0.911911     825.00000  \n",
       "B cell                                           0.873107    1007.00000  \n",
       "mast cell                                        0.960833    1014.00000  \n",
       "epithelial cell of lower respiratory tract       0.710150    1450.00000  \n",
       "endothelial cell of lymphatic vessel             0.974239    1503.00000  \n",
       "multi-ciliated epithelial cell                   0.731198    1770.00000  \n",
       "natural killer cell                              0.823634    2338.00000  \n",
       "non-classical monocyte                           0.753247    2497.00000  \n",
       "type I pneumocyte                                0.919602    2615.00000  \n",
       "lung macrophage                                  0.573901    2715.00000  \n",
       "pulmonary artery endothelial cell                0.866667    2837.00000  \n",
       "CD1c-positive myeloid dendritic cell             0.718661    3016.00000  \n",
       "classical monocyte                               0.747077    3764.00000  \n",
       "alveolar type 2 fibroblast cell                  0.918046    3939.00000  \n",
       "capillary endothelial cell                       0.867092    4296.00000  \n",
       "vein endothelial cell                            0.908327    4784.00000  \n",
       "CD4-positive, alpha-beta T cell                  0.784022    5310.00000  \n",
       "elicited macrophage                              0.647301    5852.00000  \n",
       "club cell                                        0.652048    7084.00000  \n",
       "CD8-positive, alpha-beta T cell                  0.800365    7638.00000  \n",
       "nasal mucosa goblet cell                         0.795797    8419.00000  \n",
       "ciliated columnar cell of tracheobronchial tree  0.914424   10347.00000  \n",
       "respiratory basal cell                           0.900311   13381.00000  \n",
       "type II pneumocyte                               0.957484   20937.00000  \n",
       "alveolar macrophage                              0.918953   31002.00000  \n",
       "macro avg                                        0.643296  155026.00000  \n",
       "weighted avg                                     0.848249  155026.00000  "
      ]
     },
     "execution_count": 35,
     "metadata": {},
     "output_type": "execute_result"
    }
   ],
   "source": [
    "results_aug.sort_values(by='support')"
   ]
  },
  {
   "cell_type": "code",
   "execution_count": 37,
   "id": "aa8968fc-8756-4504-a120-4c4047e07746",
   "metadata": {
    "scrolled": true
   },
   "outputs": [
    {
     "data": {
      "text/html": [
       "<div>\n",
       "<style scoped>\n",
       "    .dataframe tbody tr th:only-of-type {\n",
       "        vertical-align: middle;\n",
       "    }\n",
       "\n",
       "    .dataframe tbody tr th {\n",
       "        vertical-align: top;\n",
       "    }\n",
       "\n",
       "    .dataframe thead th {\n",
       "        text-align: right;\n",
       "    }\n",
       "</style>\n",
       "<table border=\"1\" class=\"dataframe\">\n",
       "  <thead>\n",
       "    <tr style=\"text-align: right;\">\n",
       "      <th></th>\n",
       "      <th>precision</th>\n",
       "      <th>recall</th>\n",
       "      <th>f1-score</th>\n",
       "      <th>support</th>\n",
       "    </tr>\n",
       "  </thead>\n",
       "  <tbody>\n",
       "    <tr>\n",
       "      <th>accuracy</th>\n",
       "      <td>-0.041870</td>\n",
       "      <td>-0.041870</td>\n",
       "      <td>-0.041870</td>\n",
       "      <td>-0.04187</td>\n",
       "    </tr>\n",
       "    <tr>\n",
       "      <th>serous secreting cell</th>\n",
       "      <td>0.000000</td>\n",
       "      <td>0.000000</td>\n",
       "      <td>0.000000</td>\n",
       "      <td>0.00000</td>\n",
       "    </tr>\n",
       "    <tr>\n",
       "      <th>tracheobronchial goblet cell</th>\n",
       "      <td>-0.011181</td>\n",
       "      <td>0.000000</td>\n",
       "      <td>-0.018742</td>\n",
       "      <td>0.00000</td>\n",
       "    </tr>\n",
       "    <tr>\n",
       "      <th>hematopoietic stem cell</th>\n",
       "      <td>-0.761616</td>\n",
       "      <td>-0.111111</td>\n",
       "      <td>-0.670139</td>\n",
       "      <td>0.00000</td>\n",
       "    </tr>\n",
       "    <tr>\n",
       "      <th>fibroblast</th>\n",
       "      <td>-0.437500</td>\n",
       "      <td>-0.200000</td>\n",
       "      <td>-0.396552</td>\n",
       "      <td>0.00000</td>\n",
       "    </tr>\n",
       "    <tr>\n",
       "      <th>stromal cell</th>\n",
       "      <td>-0.095238</td>\n",
       "      <td>0.000000</td>\n",
       "      <td>-0.064593</td>\n",
       "      <td>0.00000</td>\n",
       "    </tr>\n",
       "    <tr>\n",
       "      <th>brush cell of trachebronchial tree</th>\n",
       "      <td>-0.629379</td>\n",
       "      <td>0.052632</td>\n",
       "      <td>-0.405732</td>\n",
       "      <td>0.00000</td>\n",
       "    </tr>\n",
       "    <tr>\n",
       "      <th>lung neuroendocrine cell</th>\n",
       "      <td>-0.272727</td>\n",
       "      <td>0.031250</td>\n",
       "      <td>-0.142022</td>\n",
       "      <td>0.00000</td>\n",
       "    </tr>\n",
       "    <tr>\n",
       "      <th>smooth muscle cell</th>\n",
       "      <td>-0.185591</td>\n",
       "      <td>0.117647</td>\n",
       "      <td>-0.122339</td>\n",
       "      <td>0.00000</td>\n",
       "    </tr>\n",
       "    <tr>\n",
       "      <th>mesothelial cell</th>\n",
       "      <td>-0.316742</td>\n",
       "      <td>0.028571</td>\n",
       "      <td>-0.174913</td>\n",
       "      <td>0.00000</td>\n",
       "    </tr>\n",
       "    <tr>\n",
       "      <th>dendritic cell</th>\n",
       "      <td>-0.594311</td>\n",
       "      <td>-0.108108</td>\n",
       "      <td>-0.524319</td>\n",
       "      <td>0.00000</td>\n",
       "    </tr>\n",
       "    <tr>\n",
       "      <th>mucus secreting cell</th>\n",
       "      <td>-0.061111</td>\n",
       "      <td>-0.268293</td>\n",
       "      <td>-0.199134</td>\n",
       "      <td>0.00000</td>\n",
       "    </tr>\n",
       "    <tr>\n",
       "      <th>conventional dendritic cell</th>\n",
       "      <td>-0.550283</td>\n",
       "      <td>-0.092308</td>\n",
       "      <td>-0.476430</td>\n",
       "      <td>0.00000</td>\n",
       "    </tr>\n",
       "    <tr>\n",
       "      <th>myofibroblast cell</th>\n",
       "      <td>-0.301824</td>\n",
       "      <td>-0.029851</td>\n",
       "      <td>-0.197697</td>\n",
       "      <td>0.00000</td>\n",
       "    </tr>\n",
       "    <tr>\n",
       "      <th>tracheobronchial serous cell</th>\n",
       "      <td>-0.204444</td>\n",
       "      <td>-0.441558</td>\n",
       "      <td>-0.356773</td>\n",
       "      <td>0.00000</td>\n",
       "    </tr>\n",
       "    <tr>\n",
       "      <th>T cell</th>\n",
       "      <td>-0.433262</td>\n",
       "      <td>0.194030</td>\n",
       "      <td>-0.253260</td>\n",
       "      <td>0.00000</td>\n",
       "    </tr>\n",
       "    <tr>\n",
       "      <th>ionocyte</th>\n",
       "      <td>-0.349548</td>\n",
       "      <td>0.028571</td>\n",
       "      <td>-0.199647</td>\n",
       "      <td>0.00000</td>\n",
       "    </tr>\n",
       "    <tr>\n",
       "      <th>lung pericyte</th>\n",
       "      <td>0.007888</td>\n",
       "      <td>-0.019737</td>\n",
       "      <td>-0.004762</td>\n",
       "      <td>0.00000</td>\n",
       "    </tr>\n",
       "    <tr>\n",
       "      <th>acinar cell</th>\n",
       "      <td>-0.189379</td>\n",
       "      <td>-0.147059</td>\n",
       "      <td>-0.171653</td>\n",
       "      <td>0.00000</td>\n",
       "    </tr>\n",
       "    <tr>\n",
       "      <th>plasmacytoid dendritic cell</th>\n",
       "      <td>-0.169171</td>\n",
       "      <td>0.017986</td>\n",
       "      <td>-0.086422</td>\n",
       "      <td>0.00000</td>\n",
       "    </tr>\n",
       "    <tr>\n",
       "      <th>bronchial goblet cell</th>\n",
       "      <td>-0.033574</td>\n",
       "      <td>-0.005571</td>\n",
       "      <td>-0.017554</td>\n",
       "      <td>0.00000</td>\n",
       "    </tr>\n",
       "    <tr>\n",
       "      <th>epithelial cell of alveolus of lung</th>\n",
       "      <td>-0.154146</td>\n",
       "      <td>0.055556</td>\n",
       "      <td>-0.066914</td>\n",
       "      <td>0.00000</td>\n",
       "    </tr>\n",
       "    <tr>\n",
       "      <th>tracheobronchial smooth muscle cell</th>\n",
       "      <td>-0.036561</td>\n",
       "      <td>-0.158915</td>\n",
       "      <td>-0.106084</td>\n",
       "      <td>0.00000</td>\n",
       "    </tr>\n",
       "    <tr>\n",
       "      <th>respiratory hillock cell</th>\n",
       "      <td>-0.032255</td>\n",
       "      <td>-0.115000</td>\n",
       "      <td>-0.059521</td>\n",
       "      <td>0.00000</td>\n",
       "    </tr>\n",
       "    <tr>\n",
       "      <th>bronchus fibroblast of lung</th>\n",
       "      <td>0.045790</td>\n",
       "      <td>0.040984</td>\n",
       "      <td>0.044182</td>\n",
       "      <td>0.00000</td>\n",
       "    </tr>\n",
       "    <tr>\n",
       "      <th>alveolar type 1 fibroblast cell</th>\n",
       "      <td>-0.009922</td>\n",
       "      <td>-0.002653</td>\n",
       "      <td>-0.007364</td>\n",
       "      <td>0.00000</td>\n",
       "    </tr>\n",
       "    <tr>\n",
       "      <th>plasma cell</th>\n",
       "      <td>-0.021116</td>\n",
       "      <td>-0.061818</td>\n",
       "      <td>-0.041973</td>\n",
       "      <td>0.00000</td>\n",
       "    </tr>\n",
       "    <tr>\n",
       "      <th>B cell</th>\n",
       "      <td>-0.029560</td>\n",
       "      <td>-0.061569</td>\n",
       "      <td>-0.046975</td>\n",
       "      <td>0.00000</td>\n",
       "    </tr>\n",
       "    <tr>\n",
       "      <th>mast cell</th>\n",
       "      <td>-0.015862</td>\n",
       "      <td>-0.010848</td>\n",
       "      <td>-0.013322</td>\n",
       "      <td>0.00000</td>\n",
       "    </tr>\n",
       "    <tr>\n",
       "      <th>epithelial cell of lower respiratory tract</th>\n",
       "      <td>-0.065846</td>\n",
       "      <td>-0.098621</td>\n",
       "      <td>-0.080958</td>\n",
       "      <td>0.00000</td>\n",
       "    </tr>\n",
       "    <tr>\n",
       "      <th>endothelial cell of lymphatic vessel</th>\n",
       "      <td>0.003908</td>\n",
       "      <td>-0.001331</td>\n",
       "      <td>0.001266</td>\n",
       "      <td>0.00000</td>\n",
       "    </tr>\n",
       "    <tr>\n",
       "      <th>multi-ciliated epithelial cell</th>\n",
       "      <td>-0.252562</td>\n",
       "      <td>0.131638</td>\n",
       "      <td>-0.080414</td>\n",
       "      <td>0.00000</td>\n",
       "    </tr>\n",
       "    <tr>\n",
       "      <th>natural killer cell</th>\n",
       "      <td>-0.028521</td>\n",
       "      <td>-0.055175</td>\n",
       "      <td>-0.042683</td>\n",
       "      <td>0.00000</td>\n",
       "    </tr>\n",
       "    <tr>\n",
       "      <th>non-classical monocyte</th>\n",
       "      <td>-0.039404</td>\n",
       "      <td>0.050060</td>\n",
       "      <td>0.009211</td>\n",
       "      <td>0.00000</td>\n",
       "    </tr>\n",
       "    <tr>\n",
       "      <th>type I pneumocyte</th>\n",
       "      <td>0.004304</td>\n",
       "      <td>-0.019885</td>\n",
       "      <td>-0.007661</td>\n",
       "      <td>0.00000</td>\n",
       "    </tr>\n",
       "    <tr>\n",
       "      <th>lung macrophage</th>\n",
       "      <td>-0.000373</td>\n",
       "      <td>-0.204420</td>\n",
       "      <td>-0.141618</td>\n",
       "      <td>0.00000</td>\n",
       "    </tr>\n",
       "    <tr>\n",
       "      <th>pulmonary artery endothelial cell</th>\n",
       "      <td>-0.026570</td>\n",
       "      <td>0.000352</td>\n",
       "      <td>-0.013163</td>\n",
       "      <td>0.00000</td>\n",
       "    </tr>\n",
       "    <tr>\n",
       "      <th>CD1c-positive myeloid dendritic cell</th>\n",
       "      <td>-0.115487</td>\n",
       "      <td>0.002984</td>\n",
       "      <td>-0.050680</td>\n",
       "      <td>0.00000</td>\n",
       "    </tr>\n",
       "    <tr>\n",
       "      <th>classical monocyte</th>\n",
       "      <td>0.015683</td>\n",
       "      <td>-0.069872</td>\n",
       "      <td>-0.023834</td>\n",
       "      <td>0.00000</td>\n",
       "    </tr>\n",
       "    <tr>\n",
       "      <th>alveolar type 2 fibroblast cell</th>\n",
       "      <td>0.000774</td>\n",
       "      <td>-0.006347</td>\n",
       "      <td>-0.003083</td>\n",
       "      <td>0.00000</td>\n",
       "    </tr>\n",
       "    <tr>\n",
       "      <th>capillary endothelial cell</th>\n",
       "      <td>0.014684</td>\n",
       "      <td>-0.044926</td>\n",
       "      <td>-0.017291</td>\n",
       "      <td>0.00000</td>\n",
       "    </tr>\n",
       "    <tr>\n",
       "      <th>vein endothelial cell</th>\n",
       "      <td>-0.011156</td>\n",
       "      <td>0.004599</td>\n",
       "      <td>-0.003525</td>\n",
       "      <td>0.00000</td>\n",
       "    </tr>\n",
       "    <tr>\n",
       "      <th>CD4-positive, alpha-beta T cell</th>\n",
       "      <td>-0.018923</td>\n",
       "      <td>-0.064218</td>\n",
       "      <td>-0.043325</td>\n",
       "      <td>0.00000</td>\n",
       "    </tr>\n",
       "    <tr>\n",
       "      <th>elicited macrophage</th>\n",
       "      <td>-0.175745</td>\n",
       "      <td>0.114662</td>\n",
       "      <td>-0.067809</td>\n",
       "      <td>0.00000</td>\n",
       "    </tr>\n",
       "    <tr>\n",
       "      <th>club cell</th>\n",
       "      <td>-0.074079</td>\n",
       "      <td>-0.070299</td>\n",
       "      <td>-0.072954</td>\n",
       "      <td>0.00000</td>\n",
       "    </tr>\n",
       "    <tr>\n",
       "      <th>CD8-positive, alpha-beta T cell</th>\n",
       "      <td>-0.026372</td>\n",
       "      <td>-0.068735</td>\n",
       "      <td>-0.046890</td>\n",
       "      <td>0.00000</td>\n",
       "    </tr>\n",
       "    <tr>\n",
       "      <th>nasal mucosa goblet cell</th>\n",
       "      <td>-0.038594</td>\n",
       "      <td>-0.025775</td>\n",
       "      <td>-0.033628</td>\n",
       "      <td>0.00000</td>\n",
       "    </tr>\n",
       "    <tr>\n",
       "      <th>ciliated columnar cell of tracheobronchial tree</th>\n",
       "      <td>-0.008280</td>\n",
       "      <td>-0.039045</td>\n",
       "      <td>-0.023969</td>\n",
       "      <td>0.00000</td>\n",
       "    </tr>\n",
       "    <tr>\n",
       "      <th>respiratory basal cell</th>\n",
       "      <td>0.002900</td>\n",
       "      <td>-0.066736</td>\n",
       "      <td>-0.033452</td>\n",
       "      <td>0.00000</td>\n",
       "    </tr>\n",
       "    <tr>\n",
       "      <th>type II pneumocyte</th>\n",
       "      <td>-0.018425</td>\n",
       "      <td>-0.024024</td>\n",
       "      <td>-0.021224</td>\n",
       "      <td>0.00000</td>\n",
       "    </tr>\n",
       "    <tr>\n",
       "      <th>alveolar macrophage</th>\n",
       "      <td>0.015623</td>\n",
       "      <td>-0.081414</td>\n",
       "      <td>-0.035000</td>\n",
       "      <td>0.00000</td>\n",
       "    </tr>\n",
       "    <tr>\n",
       "      <th>macro avg</th>\n",
       "      <td>-0.133702</td>\n",
       "      <td>-0.038074</td>\n",
       "      <td>-0.112267</td>\n",
       "      <td>0.00000</td>\n",
       "    </tr>\n",
       "    <tr>\n",
       "      <th>weighted avg</th>\n",
       "      <td>-0.023734</td>\n",
       "      <td>-0.041870</td>\n",
       "      <td>-0.036083</td>\n",
       "      <td>0.00000</td>\n",
       "    </tr>\n",
       "  </tbody>\n",
       "</table>\n",
       "</div>"
      ],
      "text/plain": [
       "                                                 precision    recall  \\\n",
       "accuracy                                         -0.041870 -0.041870   \n",
       "serous secreting cell                             0.000000  0.000000   \n",
       "tracheobronchial goblet cell                     -0.011181  0.000000   \n",
       "hematopoietic stem cell                          -0.761616 -0.111111   \n",
       "fibroblast                                       -0.437500 -0.200000   \n",
       "stromal cell                                     -0.095238  0.000000   \n",
       "brush cell of trachebronchial tree               -0.629379  0.052632   \n",
       "lung neuroendocrine cell                         -0.272727  0.031250   \n",
       "smooth muscle cell                               -0.185591  0.117647   \n",
       "mesothelial cell                                 -0.316742  0.028571   \n",
       "dendritic cell                                   -0.594311 -0.108108   \n",
       "mucus secreting cell                             -0.061111 -0.268293   \n",
       "conventional dendritic cell                      -0.550283 -0.092308   \n",
       "myofibroblast cell                               -0.301824 -0.029851   \n",
       "tracheobronchial serous cell                     -0.204444 -0.441558   \n",
       "T cell                                           -0.433262  0.194030   \n",
       "ionocyte                                         -0.349548  0.028571   \n",
       "lung pericyte                                     0.007888 -0.019737   \n",
       "acinar cell                                      -0.189379 -0.147059   \n",
       "plasmacytoid dendritic cell                      -0.169171  0.017986   \n",
       "bronchial goblet cell                            -0.033574 -0.005571   \n",
       "epithelial cell of alveolus of lung              -0.154146  0.055556   \n",
       "tracheobronchial smooth muscle cell              -0.036561 -0.158915   \n",
       "respiratory hillock cell                         -0.032255 -0.115000   \n",
       "bronchus fibroblast of lung                       0.045790  0.040984   \n",
       "alveolar type 1 fibroblast cell                  -0.009922 -0.002653   \n",
       "plasma cell                                      -0.021116 -0.061818   \n",
       "B cell                                           -0.029560 -0.061569   \n",
       "mast cell                                        -0.015862 -0.010848   \n",
       "epithelial cell of lower respiratory tract       -0.065846 -0.098621   \n",
       "endothelial cell of lymphatic vessel              0.003908 -0.001331   \n",
       "multi-ciliated epithelial cell                   -0.252562  0.131638   \n",
       "natural killer cell                              -0.028521 -0.055175   \n",
       "non-classical monocyte                           -0.039404  0.050060   \n",
       "type I pneumocyte                                 0.004304 -0.019885   \n",
       "lung macrophage                                  -0.000373 -0.204420   \n",
       "pulmonary artery endothelial cell                -0.026570  0.000352   \n",
       "CD1c-positive myeloid dendritic cell             -0.115487  0.002984   \n",
       "classical monocyte                                0.015683 -0.069872   \n",
       "alveolar type 2 fibroblast cell                   0.000774 -0.006347   \n",
       "capillary endothelial cell                        0.014684 -0.044926   \n",
       "vein endothelial cell                            -0.011156  0.004599   \n",
       "CD4-positive, alpha-beta T cell                  -0.018923 -0.064218   \n",
       "elicited macrophage                              -0.175745  0.114662   \n",
       "club cell                                        -0.074079 -0.070299   \n",
       "CD8-positive, alpha-beta T cell                  -0.026372 -0.068735   \n",
       "nasal mucosa goblet cell                         -0.038594 -0.025775   \n",
       "ciliated columnar cell of tracheobronchial tree  -0.008280 -0.039045   \n",
       "respiratory basal cell                            0.002900 -0.066736   \n",
       "type II pneumocyte                               -0.018425 -0.024024   \n",
       "alveolar macrophage                               0.015623 -0.081414   \n",
       "macro avg                                        -0.133702 -0.038074   \n",
       "weighted avg                                     -0.023734 -0.041870   \n",
       "\n",
       "                                                 f1-score  support  \n",
       "accuracy                                        -0.041870 -0.04187  \n",
       "serous secreting cell                            0.000000  0.00000  \n",
       "tracheobronchial goblet cell                    -0.018742  0.00000  \n",
       "hematopoietic stem cell                         -0.670139  0.00000  \n",
       "fibroblast                                      -0.396552  0.00000  \n",
       "stromal cell                                    -0.064593  0.00000  \n",
       "brush cell of trachebronchial tree              -0.405732  0.00000  \n",
       "lung neuroendocrine cell                        -0.142022  0.00000  \n",
       "smooth muscle cell                              -0.122339  0.00000  \n",
       "mesothelial cell                                -0.174913  0.00000  \n",
       "dendritic cell                                  -0.524319  0.00000  \n",
       "mucus secreting cell                            -0.199134  0.00000  \n",
       "conventional dendritic cell                     -0.476430  0.00000  \n",
       "myofibroblast cell                              -0.197697  0.00000  \n",
       "tracheobronchial serous cell                    -0.356773  0.00000  \n",
       "T cell                                          -0.253260  0.00000  \n",
       "ionocyte                                        -0.199647  0.00000  \n",
       "lung pericyte                                   -0.004762  0.00000  \n",
       "acinar cell                                     -0.171653  0.00000  \n",
       "plasmacytoid dendritic cell                     -0.086422  0.00000  \n",
       "bronchial goblet cell                           -0.017554  0.00000  \n",
       "epithelial cell of alveolus of lung             -0.066914  0.00000  \n",
       "tracheobronchial smooth muscle cell             -0.106084  0.00000  \n",
       "respiratory hillock cell                        -0.059521  0.00000  \n",
       "bronchus fibroblast of lung                      0.044182  0.00000  \n",
       "alveolar type 1 fibroblast cell                 -0.007364  0.00000  \n",
       "plasma cell                                     -0.041973  0.00000  \n",
       "B cell                                          -0.046975  0.00000  \n",
       "mast cell                                       -0.013322  0.00000  \n",
       "epithelial cell of lower respiratory tract      -0.080958  0.00000  \n",
       "endothelial cell of lymphatic vessel             0.001266  0.00000  \n",
       "multi-ciliated epithelial cell                  -0.080414  0.00000  \n",
       "natural killer cell                             -0.042683  0.00000  \n",
       "non-classical monocyte                           0.009211  0.00000  \n",
       "type I pneumocyte                               -0.007661  0.00000  \n",
       "lung macrophage                                 -0.141618  0.00000  \n",
       "pulmonary artery endothelial cell               -0.013163  0.00000  \n",
       "CD1c-positive myeloid dendritic cell            -0.050680  0.00000  \n",
       "classical monocyte                              -0.023834  0.00000  \n",
       "alveolar type 2 fibroblast cell                 -0.003083  0.00000  \n",
       "capillary endothelial cell                      -0.017291  0.00000  \n",
       "vein endothelial cell                           -0.003525  0.00000  \n",
       "CD4-positive, alpha-beta T cell                 -0.043325  0.00000  \n",
       "elicited macrophage                             -0.067809  0.00000  \n",
       "club cell                                       -0.072954  0.00000  \n",
       "CD8-positive, alpha-beta T cell                 -0.046890  0.00000  \n",
       "nasal mucosa goblet cell                        -0.033628  0.00000  \n",
       "ciliated columnar cell of tracheobronchial tree -0.023969  0.00000  \n",
       "respiratory basal cell                          -0.033452  0.00000  \n",
       "type II pneumocyte                              -0.021224  0.00000  \n",
       "alveolar macrophage                             -0.035000  0.00000  \n",
       "macro avg                                       -0.112267  0.00000  \n",
       "weighted avg                                    -0.036083  0.00000  "
      ]
     },
     "execution_count": 37,
     "metadata": {},
     "output_type": "execute_result"
    }
   ],
   "source": [
    "(results_aug - results_non_aug).loc[results_aug.sort_values(by='support').index]"
   ]
  },
  {
   "cell_type": "code",
   "execution_count": null,
   "id": "a669851b-942d-4811-93bb-44c14a67e86b",
   "metadata": {},
   "outputs": [],
   "source": []
  },
  {
   "cell_type": "code",
   "execution_count": null,
   "id": "55fd5267-2872-4206-9ccb-9e22f577c378",
   "metadata": {},
   "outputs": [],
   "source": []
  }
 ],
 "metadata": {
  "kernelspec": {
   "display_name": "Python 3 (ipykernel)",
   "language": "python",
   "name": "python3"
  },
  "language_info": {
   "codemirror_mode": {
    "name": "ipython",
    "version": 3
   },
   "file_extension": ".py",
   "mimetype": "text/x-python",
   "name": "python",
   "nbconvert_exporter": "python",
   "pygments_lexer": "ipython3",
   "version": "3.10.13"
  }
 },
 "nbformat": 4,
 "nbformat_minor": 5
}
