{
 "cells": [
  {
   "cell_type": "code",
   "execution_count": 5,
   "id": "9d8d9530-e27b-4240-830e-1be27d093844",
   "metadata": {},
   "outputs": [],
   "source": [
    "import scanpy as sc\n",
    "import seaborn as sns\n",
    "import matplotlib.pyplot as plt\n",
    "import numpy as np\n",
    "import pandas as pd\n",
    "import warnings\n",
    "\n",
    "import matplotlib\n",
    "from matplotlib import rc\n",
    "import matplotlib.pyplot as plt \n",
    "matplotlib.rcdefaults()\n",
    "\n",
    "from pathlib import Path\n",
    "matplotlib_rc = { \n",
    "    # 'text': {'usetex': True}, \n",
    "    'font': {'family': 'serif'} } # Apply changes for k, v in matplotlib_rc.items(): rc(k, **v)\n",
    "for k, v in matplotlib_rc.items():\n",
    "          rc(k, **v)"
   ]
  },
  {
   "cell_type": "code",
   "execution_count": 6,
   "id": "a75b9c7e-829c-4b05-9f39-d8035243f3e6",
   "metadata": {},
   "outputs": [],
   "source": [
    "warnings.filterwarnings('ignore')"
   ]
  },
  {
   "cell_type": "code",
   "execution_count": 7,
   "id": "e24e057f-2a39-4abc-b337-724303a1388c",
   "metadata": {},
   "outputs": [],
   "source": [
    "def remove_outliers(df, column, lower_percentile=0.05, upper_percentile=0.95):\n",
    "    \"\"\"\n",
    "    Remove outliers from a DataFrame based on percentile method for a specific column for each dataset.\n",
    "    \n",
    "    Parameters:\n",
    "    - df: DataFrame from which to remove outliers.\n",
    "    - column: Column name to check for outliers.\n",
    "    - lower_percentile: Lower percentile threshold for outlier removal.\n",
    "    - upper_percentile: Upper percentile threshold for outlier removal.\n",
    "    \n",
    "    Returns:\n",
    "    - DataFrame with outliers removed.\n",
    "    \"\"\"\n",
    "    def remove_outliers_group(group):\n",
    "        lower_bound = group[column].quantile(lower_percentile)\n",
    "        upper_bound = group[column].quantile(upper_percentile)\n",
    "        new_group = group[(group[column] >= lower_bound) & (group[column] <= upper_bound)]\n",
    "        print(f\"Removed {group.shape[0] - new_group.shape[0]} obs from {group['Dataset'].iloc[0]}\")\n",
    "        return new_group\n",
    "\n",
    "    return df.groupby('Dataset').apply(remove_outliers_group).reset_index(drop=True)\n",
    "\n",
    "\n",
    "def plot_log_mean_vs_log_variance(real_adata, generated_adatas_dict, dataset, folder, xlim=(0,100), ylim=(0,100), quantile=(0.0,0.999)):\n",
    "    \"\"\"\n",
    "    Plots the log mean vs log variance for real and generated AnnData objects using seaborn.\n",
    "\n",
    "    Parameters:\n",
    "    - real_adata: AnnData object for the real dataset.\n",
    "    - generated_adatas_dict: Dictionary with model names as keys and AnnData objects as values.\n",
    "    \"\"\"\n",
    "    save_path = Path(folder)\n",
    "    # Calculate and plot for the real dataset\n",
    "    # X_real = (np.exp(real_adata.X.A - 1)X_real = (np.exp(real_adata.X.A - 1)))\n",
    "    X_real = real_adata.X.A\n",
    "    real_means = np.mean(X_real, axis=0)\n",
    "    real_vars = np.var(X_real, axis=0)\n",
    "    # real_means = np.log(np.mean(X_real, axis=0))\n",
    "    # real_vars = np.log(np.var(X_real, axis=0))\n",
    "    \n",
    "    # Create a DataFrame for seaborn\n",
    "    data = {\n",
    "        'Mean': list(real_means),\n",
    "        'Variance': list(real_vars),\n",
    "        'Dataset': ['Real data' for _ in range(len(real_means))]\n",
    "    }\n",
    "    \n",
    "    for model_name, adata in generated_adatas_dict.items():\n",
    "        # X = np.exp(adata.X.A - 1)\n",
    "        X = adata.X.A\n",
    "        means = np.mean(X, axis=0)\n",
    "        vars = np.var(X, axis=0)\n",
    "        # means = np.log(np.mean(X, axis=0))\n",
    "        # vars = np.log(np.var(X, axis=0))\n",
    "\n",
    "\n",
    "        # Append to the data dictionary\n",
    "        data['Mean'] += list(means)\n",
    "        data['Variance'] += list(vars)\n",
    "        data['Dataset'] += [model_name for _ in range(len(means))]\n",
    "    \n",
    "    # Convert the data dictionary to a DataFrame\n",
    "    import pandas as pd\n",
    "    df = pd.DataFrame(data)\n",
    "    df = remove_outliers(df, 'Mean', lower_percentile=quantile[0], upper_percentile=quantile[1])\n",
    "\n",
    "    plt.figure(figsize=(3,3))\n",
    "    # Plot with seaborn\n",
    "    # pl = sns.lmplot(data=df, x='Mean', y='Variance', hue='Dataset', palette='colorblind', order=2, \n",
    "    #                scatter=True, height=2.5, legend=True, line_kws= {\"linewidth\": 3}, scatter_kws={\"s\": 20, \"alpha\": 0.01})\n",
    "    pl = sns.scatterplot(data=df, x='Mean', y='Variance', hue='Dataset', palette='colorblind', s=8, alpha=0.5, legend=True)\n",
    "\n",
    "    if ylim:\n",
    "        plt.ylim(ylim[0], ylim[1])\n",
    "    if xlim:\n",
    "        plt.xlim(xlim[0], xlim[1])\n",
    "        \n",
    "    plt.xlabel('Gene mean (log-GEXP)')\n",
    "    plt.ylabel('Gene variance (log-GEXP)')\n",
    "    plt.title(dataset)\n",
    "    plt.xticks(rotation=45)  \n",
    "    plt.tight_layout()\n",
    "    plt.savefig(save_path / (dataset+\".png\"), format='png', dpi=800)\n",
    "    plt.show()"
   ]
  },
  {
   "cell_type": "code",
   "execution_count": 8,
   "id": "83cef761-b070-482f-8fba-5d81c0e39352",
   "metadata": {},
   "outputs": [],
   "source": [
    "folder =\"/home/icb/alessandro.palma/environment/celldreamer/figs/overdispersion\""
   ]
  },
  {
   "cell_type": "markdown",
   "id": "dab08a7a-bf66-4223-8b63-d1f0324f30af",
   "metadata": {},
   "source": [
    "## Dentategyrus"
   ]
  },
  {
   "cell_type": "code",
   "execution_count": 9,
   "id": "8cb2fd77-92d4-4416-a802-cce4ef90f7cd",
   "metadata": {},
   "outputs": [
    {
     "ename": "FileNotFoundError",
     "evalue": "[Errno 2] Unable to synchronously open file (unable to open file: name = '/home/icb/alessandro.palma/environment/celldreamer/project_folder/datasets/generated/dentategyrus/generated_cells_0.h5ad', errno = 2, error message = 'No such file or directory', flags = 0, o_flags = 0)",
     "output_type": "error",
     "traceback": [
      "\u001b[0;31m---------------------------------------------------------------------------\u001b[0m",
      "\u001b[0;31mFileNotFoundError\u001b[0m                         Traceback (most recent call last)",
      "Cell \u001b[0;32mIn[9], line 1\u001b[0m\n\u001b[0;32m----> 1\u001b[0m adata_celldreamer_dent \u001b[38;5;241m=\u001b[39m \u001b[43msc\u001b[49m\u001b[38;5;241;43m.\u001b[39;49m\u001b[43mread_h5ad\u001b[49m\u001b[43m(\u001b[49m\u001b[38;5;124;43m\"\u001b[39;49m\u001b[38;5;124;43m/home/icb/alessandro.palma/environment/celldreamer/project_folder/datasets/generated/dentategyrus/generated_cells_0.h5ad\u001b[39;49m\u001b[38;5;124;43m\"\u001b[39;49m\u001b[43m)\u001b[49m\n\u001b[1;32m      2\u001b[0m adata_scDiff_dent \u001b[38;5;241m=\u001b[39m sc\u001b[38;5;241m.\u001b[39mread_h5ad(\u001b[38;5;124m\"\u001b[39m\u001b[38;5;124m/home/icb/alessandro.palma/environment/celldreamer/project_folder/baseline_experiments/scDiffusion/generated/dentategyrus/generated_cells_0.h5ad\u001b[39m\u001b[38;5;124m\"\u001b[39m)\n\u001b[1;32m      3\u001b[0m \u001b[38;5;66;03m# adata_ACTIVA_dent = sc.read_h5ad(\"/home/icb/alessandro.palma/environment/celldreamer/project_folder/baseline_experiments/ACTIVA/generated/dentategyrus/generated_cells_0.h5ad\")\u001b[39;00m\n\u001b[1;32m      4\u001b[0m \u001b[38;5;66;03m# adata_scgan_dent = sc.read_h5ad(\"/home/icb/alessandro.palma/environment/celldreamer/project_folder/baseline_experiments/scgan/model_runs/dentategyrus/dentategyrus_generated_0.h5ad\")\u001b[39;00m\n\u001b[1;32m      5\u001b[0m \u001b[38;5;66;03m# adata_scvi_dent = sc.read_h5ad(\"/home/icb/alessandro.palma/environment/celldreamer/project_folder/baseline_experiments/scvi/dentategyrus/generated/dentategyrus_0.h5ad\")\u001b[39;00m\n",
      "File \u001b[0;32m~/miniconda3/envs/celldreamer/lib/python3.10/site-packages/anndata/_io/h5ad.py:230\u001b[0m, in \u001b[0;36mread_h5ad\u001b[0;34m(filename, backed, as_sparse, as_sparse_fmt, chunk_size)\u001b[0m\n\u001b[1;32m    222\u001b[0m         \u001b[38;5;28;01mraise\u001b[39;00m \u001b[38;5;167;01mNotImplementedError\u001b[39;00m(\n\u001b[1;32m    223\u001b[0m             \u001b[38;5;124m\"\u001b[39m\u001b[38;5;124mCurrently only `X` and `raw/X` can be read as sparse.\u001b[39m\u001b[38;5;124m\"\u001b[39m\n\u001b[1;32m    224\u001b[0m         )\n\u001b[1;32m    226\u001b[0m rdasp \u001b[38;5;241m=\u001b[39m partial(\n\u001b[1;32m    227\u001b[0m     read_dense_as_sparse, sparse_format\u001b[38;5;241m=\u001b[39mas_sparse_fmt, axis_chunk\u001b[38;5;241m=\u001b[39mchunk_size\n\u001b[1;32m    228\u001b[0m )\n\u001b[0;32m--> 230\u001b[0m \u001b[38;5;28;01mwith\u001b[39;00m \u001b[43mh5py\u001b[49m\u001b[38;5;241;43m.\u001b[39;49m\u001b[43mFile\u001b[49m\u001b[43m(\u001b[49m\u001b[43mfilename\u001b[49m\u001b[43m,\u001b[49m\u001b[43m \u001b[49m\u001b[38;5;124;43m\"\u001b[39;49m\u001b[38;5;124;43mr\u001b[39;49m\u001b[38;5;124;43m\"\u001b[39;49m\u001b[43m)\u001b[49m \u001b[38;5;28;01mas\u001b[39;00m f:\n\u001b[1;32m    232\u001b[0m     \u001b[38;5;28;01mdef\u001b[39;00m \u001b[38;5;21mcallback\u001b[39m(func, elem_name: \u001b[38;5;28mstr\u001b[39m, elem, iospec):\n\u001b[1;32m    233\u001b[0m         \u001b[38;5;28;01mif\u001b[39;00m iospec\u001b[38;5;241m.\u001b[39mencoding_type \u001b[38;5;241m==\u001b[39m \u001b[38;5;124m\"\u001b[39m\u001b[38;5;124manndata\u001b[39m\u001b[38;5;124m\"\u001b[39m \u001b[38;5;129;01mor\u001b[39;00m elem_name\u001b[38;5;241m.\u001b[39mendswith(\u001b[38;5;124m\"\u001b[39m\u001b[38;5;124m/\u001b[39m\u001b[38;5;124m\"\u001b[39m):\n",
      "File \u001b[0;32m~/miniconda3/envs/celldreamer/lib/python3.10/site-packages/h5py/_hl/files.py:562\u001b[0m, in \u001b[0;36mFile.__init__\u001b[0;34m(self, name, mode, driver, libver, userblock_size, swmr, rdcc_nslots, rdcc_nbytes, rdcc_w0, track_order, fs_strategy, fs_persist, fs_threshold, fs_page_size, page_buf_size, min_meta_keep, min_raw_keep, locking, alignment_threshold, alignment_interval, meta_block_size, **kwds)\u001b[0m\n\u001b[1;32m    553\u001b[0m     fapl \u001b[38;5;241m=\u001b[39m make_fapl(driver, libver, rdcc_nslots, rdcc_nbytes, rdcc_w0,\n\u001b[1;32m    554\u001b[0m                      locking, page_buf_size, min_meta_keep, min_raw_keep,\n\u001b[1;32m    555\u001b[0m                      alignment_threshold\u001b[38;5;241m=\u001b[39malignment_threshold,\n\u001b[1;32m    556\u001b[0m                      alignment_interval\u001b[38;5;241m=\u001b[39malignment_interval,\n\u001b[1;32m    557\u001b[0m                      meta_block_size\u001b[38;5;241m=\u001b[39mmeta_block_size,\n\u001b[1;32m    558\u001b[0m                      \u001b[38;5;241m*\u001b[39m\u001b[38;5;241m*\u001b[39mkwds)\n\u001b[1;32m    559\u001b[0m     fcpl \u001b[38;5;241m=\u001b[39m make_fcpl(track_order\u001b[38;5;241m=\u001b[39mtrack_order, fs_strategy\u001b[38;5;241m=\u001b[39mfs_strategy,\n\u001b[1;32m    560\u001b[0m                      fs_persist\u001b[38;5;241m=\u001b[39mfs_persist, fs_threshold\u001b[38;5;241m=\u001b[39mfs_threshold,\n\u001b[1;32m    561\u001b[0m                      fs_page_size\u001b[38;5;241m=\u001b[39mfs_page_size)\n\u001b[0;32m--> 562\u001b[0m     fid \u001b[38;5;241m=\u001b[39m \u001b[43mmake_fid\u001b[49m\u001b[43m(\u001b[49m\u001b[43mname\u001b[49m\u001b[43m,\u001b[49m\u001b[43m \u001b[49m\u001b[43mmode\u001b[49m\u001b[43m,\u001b[49m\u001b[43m \u001b[49m\u001b[43muserblock_size\u001b[49m\u001b[43m,\u001b[49m\u001b[43m \u001b[49m\u001b[43mfapl\u001b[49m\u001b[43m,\u001b[49m\u001b[43m \u001b[49m\u001b[43mfcpl\u001b[49m\u001b[43m,\u001b[49m\u001b[43m \u001b[49m\u001b[43mswmr\u001b[49m\u001b[38;5;241;43m=\u001b[39;49m\u001b[43mswmr\u001b[49m\u001b[43m)\u001b[49m\n\u001b[1;32m    564\u001b[0m \u001b[38;5;28;01mif\u001b[39;00m \u001b[38;5;28misinstance\u001b[39m(libver, \u001b[38;5;28mtuple\u001b[39m):\n\u001b[1;32m    565\u001b[0m     \u001b[38;5;28mself\u001b[39m\u001b[38;5;241m.\u001b[39m_libver \u001b[38;5;241m=\u001b[39m libver\n",
      "File \u001b[0;32m~/miniconda3/envs/celldreamer/lib/python3.10/site-packages/h5py/_hl/files.py:235\u001b[0m, in \u001b[0;36mmake_fid\u001b[0;34m(name, mode, userblock_size, fapl, fcpl, swmr)\u001b[0m\n\u001b[1;32m    233\u001b[0m     \u001b[38;5;28;01mif\u001b[39;00m swmr \u001b[38;5;129;01mand\u001b[39;00m swmr_support:\n\u001b[1;32m    234\u001b[0m         flags \u001b[38;5;241m|\u001b[39m\u001b[38;5;241m=\u001b[39m h5f\u001b[38;5;241m.\u001b[39mACC_SWMR_READ\n\u001b[0;32m--> 235\u001b[0m     fid \u001b[38;5;241m=\u001b[39m \u001b[43mh5f\u001b[49m\u001b[38;5;241;43m.\u001b[39;49m\u001b[43mopen\u001b[49m\u001b[43m(\u001b[49m\u001b[43mname\u001b[49m\u001b[43m,\u001b[49m\u001b[43m \u001b[49m\u001b[43mflags\u001b[49m\u001b[43m,\u001b[49m\u001b[43m \u001b[49m\u001b[43mfapl\u001b[49m\u001b[38;5;241;43m=\u001b[39;49m\u001b[43mfapl\u001b[49m\u001b[43m)\u001b[49m\n\u001b[1;32m    236\u001b[0m \u001b[38;5;28;01melif\u001b[39;00m mode \u001b[38;5;241m==\u001b[39m \u001b[38;5;124m'\u001b[39m\u001b[38;5;124mr+\u001b[39m\u001b[38;5;124m'\u001b[39m:\n\u001b[1;32m    237\u001b[0m     fid \u001b[38;5;241m=\u001b[39m h5f\u001b[38;5;241m.\u001b[39mopen(name, h5f\u001b[38;5;241m.\u001b[39mACC_RDWR, fapl\u001b[38;5;241m=\u001b[39mfapl)\n",
      "File \u001b[0;32mh5py/_objects.pyx:54\u001b[0m, in \u001b[0;36mh5py._objects.with_phil.wrapper\u001b[0;34m()\u001b[0m\n",
      "File \u001b[0;32mh5py/_objects.pyx:55\u001b[0m, in \u001b[0;36mh5py._objects.with_phil.wrapper\u001b[0;34m()\u001b[0m\n",
      "File \u001b[0;32mh5py/h5f.pyx:102\u001b[0m, in \u001b[0;36mh5py.h5f.open\u001b[0;34m()\u001b[0m\n",
      "\u001b[0;31mFileNotFoundError\u001b[0m: [Errno 2] Unable to synchronously open file (unable to open file: name = '/home/icb/alessandro.palma/environment/celldreamer/project_folder/datasets/generated/dentategyrus/generated_cells_0.h5ad', errno = 2, error message = 'No such file or directory', flags = 0, o_flags = 0)"
     ]
    }
   ],
   "source": [
    "adata_celldreamer_dent = sc.read_h5ad(\"/home/icb/alessandro.palma/environment/celldreamer/project_folder/datasets/generated/dentategyrus/generated_cells_0.h5ad\")\n",
    "adata_scDiff_dent = sc.read_h5ad(\"/home/icb/alessandro.palma/environment/celldreamer/project_folder/baseline_experiments/scDiffusion/generated/dentategyrus/generated_cells_0.h5ad\")\n",
    "# adata_ACTIVA_dent = sc.read_h5ad(\"/home/icb/alessandro.palma/environment/celldreamer/project_folder/baseline_experiments/ACTIVA/generated/dentategyrus/generated_cells_0.h5ad\")\n",
    "# adata_scgan_dent = sc.read_h5ad(\"/home/icb/alessandro.palma/environment/celldreamer/project_folder/baseline_experiments/scgan/model_runs/dentategyrus/dentategyrus_generated_0.h5ad\")\n",
    "# adata_scvi_dent = sc.read_h5ad(\"/home/icb/alessandro.palma/environment/celldreamer/project_folder/baseline_experiments/scvi/dentategyrus/generated/dentategyrus_0.h5ad\")\n",
    "adata_real_dent = sc.read_h5ad(\"/home/icb/alessandro.palma/environment/celldreamer/project_folder/datasets/processed_full_genome/dentategyrus/dentategyrus_test.h5ad\")"
   ]
  },
  {
   "cell_type": "code",
   "execution_count": null,
   "id": "2b168a5e-a301-47f2-8ac3-579ef0f45163",
   "metadata": {},
   "outputs": [],
   "source": [
    "plot_log_mean_vs_log_variance(adata_real_dent, \n",
    "                              {\"CFGgen\": adata_celldreamer_dent, \"scDiffusion\": adata_scDiff_dent}, \"Dentate gyrus\", \n",
    "                              folder=folder,\n",
    "                              xlim=None, ylim=(0,1.3), quantile=(0,0.99)\n",
    "                             )"
   ]
  },
  {
   "cell_type": "markdown",
   "id": "7a367642-a089-4ce5-afc6-be4cf7e98afd",
   "metadata": {},
   "source": [
    "## C. Elegans"
   ]
  },
  {
   "cell_type": "code",
   "execution_count": null,
   "id": "8b9ffee8-3c5f-4481-847e-af94567dc2d3",
   "metadata": {},
   "outputs": [],
   "source": [
    "adata_celldreamer_c_elegans = sc.read_h5ad(\"/home/icb/alessandro.palma/environment/celldreamer/project_folder/datasets/generated/c_elegans/generated_cells_0.h5ad\")\n",
    "adata_scDiff_c_elegans = sc.read_h5ad(\"/home/icb/alessandro.palma/environment/celldreamer/project_folder/baseline_experiments/scDiffusion/generated/c_elegans/generated_cells_0.h5ad\")\n",
    "# adata_ACTIVA_c_elegans = sc.read_h5ad(\"/home/icb/alessandro.palma/environment/celldreamer/project_folder/baseline_experiments/ACTIVA/generated/c_elegans/generated_cells_0.h5ad\")\n",
    "# adata_scgan_c_elegans = sc.read_h5ad(\"/home/icb/alessandro.palma/environment/celldreamer/project_folder/baseline_experiments/scgan/model_runs/c_elegans/c_elegans_generated_0.h5ad\")\n",
    "# adata_scvi_c_elegans = sc.read_h5ad(\"/home/icb/alessandro.palma/environment/celldreamer/project_folder/baseline_experiments/scvi/c_elegans/generated/c_elegans_0.h5ad\")\n",
    "adata_real_c_elegans = sc.read_h5ad(\"/home/icb/alessandro.palma/environment/celldreamer/project_folder/datasets/processed_full_genome/c_elegans/c_elegans_test.h5ad\")"
   ]
  },
  {
   "cell_type": "code",
   "execution_count": null,
   "id": "564f1e68-8209-4a07-be13-e74b487981ae",
   "metadata": {},
   "outputs": [],
   "source": [
    "plot_log_mean_vs_log_variance(adata_real_c_elegans, \n",
    "                              {\"cellFlow\": adata_celldreamer_c_elegans, \"scDiffusion\": adata_scDiff_c_elegans}, \"Tabula Muris\", \n",
    "                              folder=folder,\n",
    "                              xlim=(0,1), ylim=(0,2), quantile=(0,0.99)\n",
    "                             )"
   ]
  },
  {
   "cell_type": "markdown",
   "id": "07cc0326-cd9a-45d2-9839-591b5c1406a9",
   "metadata": {},
   "source": [
    "## PBMC3K"
   ]
  },
  {
   "cell_type": "code",
   "execution_count": null,
   "id": "f418aa64-490b-4e59-8d0b-a6974977fadf",
   "metadata": {},
   "outputs": [],
   "source": [
    "adata_celldreamer_pbmc3k = sc.read_h5ad(\"/home/icb/alessandro.palma/environment/celldreamer/project_folder/datasets/generated/pbmc3k/generated_cells_0.h5ad\")\n",
    "adata_scDiff_pbmc3k = sc.read_h5ad(\"/home/icb/alessandro.palma/environment/celldreamer/project_folder/baseline_experiments/scDiffusion/generated/pbmc3k/generated_cells_0.h5ad\")\n",
    "# adata_ACTIVA_pbmc3k = sc.read_h5ad(\"/home/icb/alessandro.palma/environment/celldreamer/project_folder/baseline_experiments/ACTIVA/generated/pbmc3k/generated_cells_0.h5ad\")\n",
    "# adata_scgan_pbmc3k = sc.read_h5ad(\"/home/icb/alessandro.palma/environment/celldreamer/project_folder/baseline_experiments/scgan/model_runs/pbmc3k/pbmc3k_generated_0.h5ad\")\n",
    "# adata_scvi_pbmc3k = sc.read_h5ad(\"/home/icb/alessandro.palma/environment/celldreamer/project_folder/baseline_experiments/scvi/pbmc3k/generated/pbmc3k_0.h5ad\")\n",
    "adata_real_pbmc3k = sc.read_h5ad(\"/home/icb/alessandro.palma/environment/celldreamer/project_folder/datasets/processed_full_genome/pbmc3k/pbmc3k_test.h5ad\")"
   ]
  },
  {
   "cell_type": "code",
   "execution_count": null,
   "id": "1569247c-422f-45e7-8ce3-9f25c979a303",
   "metadata": {},
   "outputs": [],
   "source": [
    "plot_log_mean_vs_log_variance(adata_real_pbmc3k, \n",
    "                              {\"cellFlow\": adata_celldreamer_pbmc3k, \"scDiffusion\": adata_scDiff_pbmc3k}, \"PBMC3K\", \n",
    "                              folder=folder,\n",
    "                              xlim=(0,0.60), ylim=(0,1.3), quantile=(0,0.95)\n",
    "                             )"
   ]
  },
  {
   "cell_type": "markdown",
   "id": "179a70e3-2535-40a8-95b2-91e95cff4d90",
   "metadata": {},
   "source": [
    "## HLCA CORE"
   ]
  },
  {
   "cell_type": "code",
   "execution_count": null,
   "id": "c0495426-58a3-4133-aae1-ab0c09e9bf08",
   "metadata": {},
   "outputs": [],
   "source": [
    "adata_celldreamer_hlca = sc.read_h5ad(\"/home/icb/alessandro.palma/environment/celldreamer/project_folder/datasets/generated/hlca_core/generated_cells_0.h5ad\")\n",
    "adata_scDiff_hlca = sc.read_h5ad(\"/home/icb/alessandro.palma/environment/celldreamer/project_folder/baseline_experiments/scDiffusion/generated/hlca_core/generated_cells_0.h5ad\")\n",
    "# adata_ACTIVA_pbmc3k = sc.read_h5ad(\"/home/icb/alessandro.palma/environment/celldreamer/project_folder/baseline_experiments/ACTIVA/generated/pbmc3k/generated_cells_0.h5ad\")\n",
    "# adata_scgan_pbmc3k = sc.read_h5ad(\"/home/icb/alessandro.palma/environment/celldreamer/project_folder/baseline_experiments/scgan/model_runs/pbmc3k/pbmc3k_generated_0.h5ad\")\n",
    "# adata_scvi_pbmc3k = sc.read_h5ad(\"/home/icb/alessandro.palma/environment/celldreamer/project_folder/baseline_experiments/scvi/pbmc3k/generated/pbmc3k_0.h5ad\")\n",
    "adata_real_hlca = sc.read_h5ad(\"/home/icb/alessandro.palma/environment/celldreamer/project_folder/datasets/processed_full_genome/hlca_core/hlca_core_test.h5ad\")"
   ]
  },
  {
   "cell_type": "code",
   "execution_count": null,
   "id": "0ec1a245-33bf-4569-a562-47389c773d21",
   "metadata": {},
   "outputs": [],
   "source": [
    "adata_celldreamer_hlca.var = adata_real_hlca.var.copy()\n",
    "adata_scDiff_hlca.var = adata_real_hlca.var.copy()"
   ]
  },
  {
   "cell_type": "code",
   "execution_count": null,
   "id": "25735d5d-a9cd-4bf9-ad80-c6dd43db06c9",
   "metadata": {},
   "outputs": [],
   "source": [
    "sc.pp.highly_variable_genes(adata_real_hlca, n_top_genes=15000, subset=True)"
   ]
  },
  {
   "cell_type": "code",
   "execution_count": null,
   "id": "bfcaca4e-6325-4841-a810-acf58ca2d652",
   "metadata": {},
   "outputs": [],
   "source": [
    "adata_scDiff_hlca = adata_scDiff_hlca[:, adata_real_hlca.var.index]\n",
    "adata_celldreamer_hlca = adata_celldreamer_hlca[:, adata_real_hlca.var.index]"
   ]
  },
  {
   "cell_type": "code",
   "execution_count": null,
   "id": "84493377-1aff-4afe-9980-6ddcee19b82f",
   "metadata": {},
   "outputs": [],
   "source": [
    "plot_log_mean_vs_log_variance(adata_real_hlca, \n",
    "                              {\"cellFlow\": adata_celldreamer_hlca, \"scDiffusion\": adata_scDiff_hlca}, \"HLCA\", \n",
    "                              folder=folder,\n",
    "                              xlim=(0,0.22), ylim=(0,0.50), quantile=(0,0.95)\n",
    "                             )"
   ]
  },
  {
   "cell_type": "code",
   "execution_count": null,
   "id": "f8eb905b-62df-404c-93cf-20fe221491b8",
   "metadata": {},
   "outputs": [],
   "source": []
  },
  {
   "cell_type": "code",
   "execution_count": null,
   "id": "749c1411-dfa7-4cff-8d80-d95cb25e7657",
   "metadata": {},
   "outputs": [],
   "source": []
  },
  {
   "cell_type": "code",
   "execution_count": null,
   "id": "1ae967a7-0bcd-4203-91a0-9c1f8f53c202",
   "metadata": {},
   "outputs": [],
   "source": []
  }
 ],
 "metadata": {
  "kernelspec": {
   "display_name": "Python 3 (ipykernel)",
   "language": "python",
   "name": "python3"
  },
  "language_info": {
   "codemirror_mode": {
    "name": "ipython",
    "version": 3
   },
   "file_extension": ".py",
   "mimetype": "text/x-python",
   "name": "python",
   "nbconvert_exporter": "python",
   "pygments_lexer": "ipython3",
   "version": "3.10.13"
  }
 },
 "nbformat": 4,
 "nbformat_minor": 5
}
