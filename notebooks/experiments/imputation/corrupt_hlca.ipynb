{
 "cells": [
  {
   "cell_type": "code",
   "execution_count": 6,
   "id": "018a40ce-938d-4c3c-ac42-2060392ab8e1",
   "metadata": {},
   "outputs": [],
   "source": [
    "import pandas as pd\n",
    "import numpy as np\n",
    "import scanpy as sc\n",
    "import scvi\n",
    "import torch\n",
    "import scipy.special as sp\n",
    "from tqdm import tqdm\n",
    "import matplotlib.pyplot as plt\n",
    "from scipy.sparse import csr_matrix\n",
    "import scipy.stats\n",
    "import seaborn as sns\n",
    "\n",
    "import matplotlib\n",
    "from matplotlib import rc\n",
    "import matplotlib.pyplot as plt \n",
    "matplotlib.rcdefaults()\n",
    "\n",
    "matplotlib_rc = { \n",
    "    # 'text': {'usetex': True}, \n",
    "    'font': {'family': 'serif'} } # Apply changes for k, v in matplotlib_rc.items(): rc(k, **v)\n",
    "for k, v in matplotlib_rc.items():\n",
    "          rc(k, **v)"
   ]
  },
  {
   "cell_type": "code",
   "execution_count": 7,
   "id": "d4be6c4e-3541-484c-adf7-a2232de2a2ce",
   "metadata": {},
   "outputs": [],
   "source": [
    "def corrupt_dataset(adata):\n",
    "    \"\"\"\n",
    "    Corrupts entries in an AnnData object's matrix with a probability of 0.1%.\n",
    "    \n",
    "    Parameters\n",
    "    ----------\n",
    "    adata : AnnData\n",
    "        The AnnData object whose data matrix (adata.X) will be corrupted.\n",
    "        This works for both dense and sparse matrices.\n",
    "\n",
    "    Returns\n",
    "    -------\n",
    "    None\n",
    "        The function modifies the adata object in place.\n",
    "    \"\"\"\n",
    "    # Only keep highly variable genes\n",
    "    adata = adata[:, adata.var.highly_variable]\n",
    "\n",
    "    # Shape of the dropout Bernoulli matrix \n",
    "    dim = adata.X.shape\n",
    "    \n",
    "    # Generate a mask of the same shape as the data matrix, with 0.1% probability of corruption\n",
    "    np.random.seed(42)\n",
    "    corruption_mask = 1-np.random.binomial(n=1, p=0.1, size=dim).astype(bool)\n",
    "    print(\"Dropped out\", (corruption_mask==0).sum())\n",
    "    print(\"Kept\", (corruption_mask==1).sum())\n",
    "\n",
    "    # Corrupt matrix by multiplying it by the mask \n",
    "    corrupted_mat = adata.layers[\"X_counts\"].A * corruption_mask\n",
    "\n",
    "    adata.layers[\"X_masked\"] = corrupted_mat\n",
    "\n",
    "    adata.uns[\"do_ix\"] = np.where(corruption_mask.ravel()==0)[0]\n",
    "    return adata"
   ]
  },
  {
   "cell_type": "markdown",
   "id": "84d06042-3731-4b11-966c-d1daeb299d67",
   "metadata": {},
   "source": [
    "**HLCA**"
   ]
  },
  {
   "cell_type": "code",
   "execution_count": 8,
   "id": "24db283a-43fb-4df0-9404-2e7c5cde9df2",
   "metadata": {},
   "outputs": [
    {
     "name": "stdout",
     "output_type": "stream",
     "text": [
      "Dropped out 9997476\n",
      "Kept 90002524\n"
     ]
    },
    {
     "name": "stderr",
     "output_type": "stream",
     "text": [
      "/tmp/ipykernel_2807541/42061576.py:31: ImplicitModificationWarning: Setting element `.layers['X_masked']` of view, initializing view as actual.\n",
      "  adata.layers[\"X_masked\"] = corrupted_mat\n"
     ]
    }
   ],
   "source": [
    "hlca_core = sc.read_h5ad(\"/home/icb/alessandro.palma/environment/cfgen/project_folder/datasets/processed_full_genome/hlca_core/hlca_core.h5ad\")\n",
    "sc.pp.subsample(hlca_core, n_obs=50000)\n",
    "hlca_core = corrupt_dataset(hlca_core)\n",
    "hlca_core.layers[\"X_masked\"] = csr_matrix(hlca_core.layers[\"X_masked\"])\n",
    "hlca_core.write_h5ad(\"/home/icb/alessandro.palma/environment/cfgen/project_folder/datasets/dropout/hlca_core.h5ad\")"
   ]
  },
  {
   "cell_type": "markdown",
   "id": "acb48c69-c5e4-4e06-88f1-f3cf0856d5cd",
   "metadata": {},
   "source": [
    "## Train scVI on the masked data "
   ]
  },
  {
   "cell_type": "code",
   "execution_count": 9,
   "id": "2eec1757-a6ac-4d4f-8420-d4a17c5b4db0",
   "metadata": {},
   "outputs": [
    {
     "name": "stderr",
     "output_type": "stream",
     "text": [
      "/home/icb/alessandro.palma/miniconda3/envs/celldreamer/lib/python3.10/site-packages/lightning/fabric/plugins/environments/slurm.py:191: The `srun` command is available on your system but is not used. HINT: If your intention is to run Lightning on SLURM, prepend your python command with `srun` like so: srun python /home/icb/alessandro.palma/miniconda3/envs/celldream ...\n",
      "GPU available: True (cuda), used: True\n",
      "TPU available: False, using: 0 TPU cores\n",
      "IPU available: False, using: 0 IPUs\n",
      "HPU available: False, using: 0 HPUs\n",
      "/home/icb/alessandro.palma/miniconda3/envs/celldreamer/lib/python3.10/site-packages/lightning/fabric/plugins/environments/slurm.py:191: The `srun` command is available on your system but is not used. HINT: If your intention is to run Lightning on SLURM, prepend your python command with `srun` like so: srun python /home/icb/alessandro.palma/miniconda3/envs/celldream ...\n",
      "LOCAL_RANK: 0 - CUDA_VISIBLE_DEVICES: [0]\n",
      "/home/icb/alessandro.palma/miniconda3/envs/celldreamer/lib/python3.10/site-packages/lightning/pytorch/trainer/connectors/data_connector.py:441: The 'train_dataloader' does not have many workers which may be a bottleneck. Consider increasing the value of the `num_workers` argument` to `num_workers=5` in the `DataLoader` to improve performance.\n"
     ]
    },
    {
     "name": "stdout",
     "output_type": "stream",
     "text": [
      "Using device: gpu\n",
      "Epoch 100/100: 100%|██████████| 100/100 [04:53<00:00,  2.93s/it, v_num=1, train_loss_step=412, train_loss_epoch=393]"
     ]
    },
    {
     "name": "stderr",
     "output_type": "stream",
     "text": [
      "`Trainer.fit` stopped: `max_epochs=100` reached.\n"
     ]
    },
    {
     "name": "stdout",
     "output_type": "stream",
     "text": [
      "Epoch 100/100: 100%|██████████| 100/100 [04:53<00:00,  2.93s/it, v_num=1, train_loss_step=412, train_loss_epoch=393]\n"
     ]
    }
   ],
   "source": [
    "# Set up the anndata\n",
    "scvi.model.SCVI.setup_anndata(hlca_core, \n",
    "                              layer=\"X_masked\",\n",
    "                              categorical_covariate_keys=[\"cell_type\"])\n",
    "\n",
    "# SCVI model\n",
    "model = scvi.model.SCVI(hlca_core, n_layers=3, n_latent=100, gene_likelihood=\"nb\")\n",
    "\n",
    "# Check for CUDA availability and specify device\n",
    "use_cuda = torch.cuda.is_available()\n",
    "device = \"gpu\" if use_cuda else \"cpu\"\n",
    "print(f\"Using device: {device}\")\n",
    "\n",
    "# Train model \n",
    "model.train(max_epochs=100, accelerator=device)"
   ]
  },
  {
   "cell_type": "code",
   "execution_count": 10,
   "id": "6a8d742a-3ba3-4ce8-a29f-1e8a9bf6a636",
   "metadata": {},
   "outputs": [],
   "source": [
    "imputed_counts = model.get_normalized_expression(hlca_core,\n",
    "                            indices=None,\n",
    "                            transform_batch=None,\n",
    "                            gene_list = None,\n",
    "                            library_size = 1,\n",
    "                            n_samples = 1,\n",
    "                            n_samples_overall = None,\n",
    "                            weights = None,\n",
    "                            batch_size = None,\n",
    "                            return_mean = True,\n",
    "                            return_numpy = None,\n",
    "                            )\n",
    "imputed_counts = imputed_counts.values*hlca_core.layers[\"X_counts\"].A.sum(1)[:,None]"
   ]
  },
  {
   "cell_type": "markdown",
   "id": "62ea6c03-5a3d-46f8-aeb0-bfa26ec71c35",
   "metadata": {},
   "source": [
    "All expression is normalized to sum to 1"
   ]
  },
  {
   "cell_type": "code",
   "execution_count": 11,
   "id": "a6d3b96b-d4c1-4f75-b663-1b4c74f843e3",
   "metadata": {},
   "outputs": [
    {
     "data": {
      "text/plain": [
       "0.37705633"
      ]
     },
     "execution_count": 11,
     "metadata": {},
     "output_type": "execute_result"
    }
   ],
   "source": [
    "np.mean(np.abs(imputed_counts.ravel()[hlca_core.uns['do_ix']] - hlca_core.layers[\"X_counts\"].A.ravel()[hlca_core.uns['do_ix']]))"
   ]
  },
  {
   "cell_type": "markdown",
   "id": "4bf91d8c-ad01-4616-a1c3-96c3ac440dab",
   "metadata": {},
   "source": [
    "## Train CFGen on the masked data "
   ]
  },
  {
   "cell_type": "code",
   "execution_count": 22,
   "id": "8dd305c2-1e0f-4b11-98a3-484adc1f5bd2",
   "metadata": {},
   "outputs": [],
   "source": [
    "import os\n",
    "from pathlib import Path\n",
    "import uuid\n",
    "import torch\n",
    "from torch.utils.data import random_split\n",
    "from pytorch_lightning import Trainer\n",
    "from pytorch_lightning.callbacks import ModelCheckpoint, EarlyStopping\n",
    "from pytorch_lightning.loggers import WandbLogger\n",
    "from celldreamer.paths import TRAINING_FOLDER\n",
    "from celldreamer.data.scrnaseq_loader import RNAseqLoader\n",
    "from celldreamer.models.featurizers.category_featurizer import CategoricalFeaturizer\n",
    "from celldreamer.models.fm.denoising_model import MLPTimeStep\n",
    "from celldreamer.models.fm.fm import FM\n",
    "from celldreamer.models.base.encoder_model import EncoderModel\n",
    "from celldreamer.models.fm.ode import torch_wrapper\n",
    "from torchdyn.core import NeuralODE"
   ]
  },
  {
   "cell_type": "markdown",
   "id": "4bdff572-b54d-4bbe-9878-c8d0f8f2059f",
   "metadata": {},
   "source": [
    "### Encoder training"
   ]
  },
  {
   "cell_type": "markdown",
   "id": "9861ca8a-37f9-4996-99a4-ca0870030b72",
   "metadata": {},
   "source": [
    "Initialize dataloader "
   ]
  },
  {
   "cell_type": "code",
   "execution_count": 23,
   "id": "8dc5630e-eb16-42b8-8f48-3e5dd608845a",
   "metadata": {},
   "outputs": [],
   "source": [
    "data_path = \"/home/icb/alessandro.palma/environment/cfgen/project_folder/datasets/dropout/hlca_core.h5ad\""
   ]
  },
  {
   "cell_type": "markdown",
   "id": "c418859e-d756-4b34-8e0f-bc22a6451b0a",
   "metadata": {},
   "source": [
    "All masked values are indeed 0"
   ]
  },
  {
   "cell_type": "code",
   "execution_count": 24,
   "id": "588d97d0-4254-4763-be2d-81a5c1b50d43",
   "metadata": {},
   "outputs": [
    {
     "name": "stdout",
     "output_type": "stream",
     "text": [
      "[ 0.  0.  0. ...  0.  0. 31.]\n",
      "[0. 0. 0. ... 0. 0. 0.]\n"
     ]
    }
   ],
   "source": [
    "print(hlca_core.layers[\"X_counts\"].A.ravel()[hlca_core.uns[\"do_ix\"].ravel()])\n",
    "print(hlca_core.layers[\"X_masked\"].A.ravel()[hlca_core.uns[\"do_ix\"].ravel()])"
   ]
  },
  {
   "cell_type": "code",
   "execution_count": 25,
   "id": "515a45ca-6d83-4ace-af10-7bea55a6dfac",
   "metadata": {},
   "outputs": [
    {
     "name": "stderr",
     "output_type": "stream",
     "text": [
      "/home/icb/alessandro.palma/miniconda3/envs/celldreamer/lib/python3.10/site-packages/anndata/__init__.py:51: FutureWarning: `anndata.read` is deprecated, use `anndata.read_h5ad` instead. `ad.read` will be removed in mid 2024.\n",
      "  warnings.warn(\n"
     ]
    }
   ],
   "source": [
    "# Initialize dataloaders for the different tasks \n",
    "dataset = RNAseqLoader(data_path=data_path,\n",
    "                        layer_key=\"X_masked\",               # Corresponding to config 'layer_key'\n",
    "                        covariate_keys=[\"cell_type\"],        # Corresponding to config 'covariate_keys'\n",
    "                        subsample_frac=1,                   # Corresponding to config 'subsample_frac'\n",
    "                        encoder_type=\"learnt_autoencoder\",  # Corresponding to config 'encoder_type'\n",
    "                        multimodal=False,                   # Corresponding to config 'multimodal'\n",
    "                        is_binarized=False                  # Corresponding to config 'is_binarized'\n",
    "                    )"
   ]
  },
  {
   "cell_type": "code",
   "execution_count": 26,
   "id": "dfcbad70-6868-4efe-bbcf-c78b05665b28",
   "metadata": {},
   "outputs": [],
   "source": [
    "dataloader = torch.utils.data.DataLoader(dataset,\n",
    "                                        batch_size=256,\n",
    "                                        shuffle=True,\n",
    "                                        num_workers=4, \n",
    "                                        drop_last=True)\n",
    "gene_dim = dataset.X.shape[1] "
   ]
  },
  {
   "cell_type": "markdown",
   "id": "b9ba539e-04be-4830-8383-50735c8f5635",
   "metadata": {},
   "source": [
    "Initialize encoder"
   ]
  },
  {
   "cell_type": "code",
   "execution_count": 27,
   "id": "a857ffe7-cb7b-4c22-92ac-bf9d63ffb5ca",
   "metadata": {},
   "outputs": [],
   "source": [
    "encoder_model = EncoderModel(\n",
    "    in_dim=gene_dim,\n",
    "    n_cat=None,\n",
    "    conditioning_covariate=\"cell_type\",   # From the first config file\n",
    "    encoder_type=\"learnt_autoencoder\",   # From the first config file\n",
    "    x0_from_x_kwargs = {\n",
    "        \"dims\":[512, 256, 100],                # From x0_from_x_kwargs.dims\n",
    "        \"batch_norm\":True,                     # From x0_from_x_kwargs.batch_norm\n",
    "        \"dropout\":False,                       # From x0_from_x_kwargs.dropout\n",
    "        \"dropout_p\":0.0},                       # From x0_from_x_kwargs.dropout_p\n",
    "    learning_rate=0.001,                 # From yaml learning_rate\n",
    "    weight_decay=0.00001,                # From yaml weight_decay\n",
    "    covariate_specific_theta=False,      # From yaml covariate_specific_theta\n",
    "    multimodal=False,                    # From yaml multimodal\n",
    "    is_binarized=False                   # From yaml is_binarized\n",
    ")"
   ]
  },
  {
   "cell_type": "code",
   "execution_count": 28,
   "id": "4a88b36b-8751-419c-a6d1-a444bed8cdd2",
   "metadata": {},
   "outputs": [
    {
     "name": "stderr",
     "output_type": "stream",
     "text": [
      "/home/icb/alessandro.palma/miniconda3/envs/celldreamer/lib/python3.10/site-packages/lightning_fabric/plugins/environments/slurm.py:204: The `srun` command is available on your system but is not used. HINT: If your intention is to run Lightning on SLURM, prepend your python command with `srun` like so: srun python /home/icb/alessandro.palma/miniconda3/envs/celldream ...\n",
      "GPU available: True (cuda), used: True\n",
      "TPU available: False, using: 0 TPU cores\n",
      "HPU available: False, using: 0 HPUs\n"
     ]
    }
   ],
   "source": [
    "trainer_generative = Trainer(max_epochs=100)"
   ]
  },
  {
   "cell_type": "code",
   "execution_count": 29,
   "id": "36bbefcb-2e0c-41ab-80f4-5abe55c7f5f2",
   "metadata": {},
   "outputs": [
    {
     "name": "stderr",
     "output_type": "stream",
     "text": [
      "LOCAL_RANK: 0 - CUDA_VISIBLE_DEVICES: [0]\n",
      "\n",
      "  | Name         | Type | Params | Mode \n",
      "----------------------------------------------\n",
      "0 | x0_from_x    | MLP  | 1.2 M  | train\n",
      "1 | x_from_x0    | MLP  | 1.2 M  | train\n",
      "  | other params | n/a  | 2.0 K  | n/a  \n",
      "----------------------------------------------\n",
      "2.4 M     Trainable params\n",
      "0         Non-trainable params\n",
      "2.4 M     Total params\n",
      "9.480     Total estimated model params size (MB)\n"
     ]
    },
    {
     "data": {
      "application/vnd.jupyter.widget-view+json": {
       "model_id": "",
       "version_major": 2,
       "version_minor": 0
      },
      "text/plain": [
       "Sanity Checking: |          | 0/? [00:00<?, ?it/s]"
      ]
     },
     "metadata": {},
     "output_type": "display_data"
    },
    {
     "name": "stderr",
     "output_type": "stream",
     "text": [
      "/home/icb/alessandro.palma/miniconda3/envs/celldreamer/lib/python3.10/site-packages/pytorch_lightning/trainer/connectors/data_connector.py:475: Your `val_dataloader`'s sampler has shuffling enabled, it is strongly recommended that you turn shuffling off for val/test dataloaders.\n"
     ]
    },
    {
     "data": {
      "application/vnd.jupyter.widget-view+json": {
       "model_id": "4cb18b9b30864179a34f3b38c8d84791",
       "version_major": 2,
       "version_minor": 0
      },
      "text/plain": [
       "Training: |          | 0/? [00:00<?, ?it/s]"
      ]
     },
     "metadata": {},
     "output_type": "display_data"
    },
    {
     "data": {
      "application/vnd.jupyter.widget-view+json": {
       "model_id": "",
       "version_major": 2,
       "version_minor": 0
      },
      "text/plain": [
       "Validation: |          | 0/? [00:00<?, ?it/s]"
      ]
     },
     "metadata": {},
     "output_type": "display_data"
    },
    {
     "data": {
      "application/vnd.jupyter.widget-view+json": {
       "model_id": "",
       "version_major": 2,
       "version_minor": 0
      },
      "text/plain": [
       "Validation: |          | 0/? [00:00<?, ?it/s]"
      ]
     },
     "metadata": {},
     "output_type": "display_data"
    },
    {
     "data": {
      "application/vnd.jupyter.widget-view+json": {
       "model_id": "",
       "version_major": 2,
       "version_minor": 0
      },
      "text/plain": [
       "Validation: |          | 0/? [00:00<?, ?it/s]"
      ]
     },
     "metadata": {},
     "output_type": "display_data"
    },
    {
     "data": {
      "application/vnd.jupyter.widget-view+json": {
       "model_id": "",
       "version_major": 2,
       "version_minor": 0
      },
      "text/plain": [
       "Validation: |          | 0/? [00:00<?, ?it/s]"
      ]
     },
     "metadata": {},
     "output_type": "display_data"
    },
    {
     "data": {
      "application/vnd.jupyter.widget-view+json": {
       "model_id": "",
       "version_major": 2,
       "version_minor": 0
      },
      "text/plain": [
       "Validation: |          | 0/? [00:00<?, ?it/s]"
      ]
     },
     "metadata": {},
     "output_type": "display_data"
    },
    {
     "data": {
      "application/vnd.jupyter.widget-view+json": {
       "model_id": "",
       "version_major": 2,
       "version_minor": 0
      },
      "text/plain": [
       "Validation: |          | 0/? [00:00<?, ?it/s]"
      ]
     },
     "metadata": {},
     "output_type": "display_data"
    },
    {
     "data": {
      "application/vnd.jupyter.widget-view+json": {
       "model_id": "",
       "version_major": 2,
       "version_minor": 0
      },
      "text/plain": [
       "Validation: |          | 0/? [00:00<?, ?it/s]"
      ]
     },
     "metadata": {},
     "output_type": "display_data"
    },
    {
     "data": {
      "application/vnd.jupyter.widget-view+json": {
       "model_id": "",
       "version_major": 2,
       "version_minor": 0
      },
      "text/plain": [
       "Validation: |          | 0/? [00:00<?, ?it/s]"
      ]
     },
     "metadata": {},
     "output_type": "display_data"
    },
    {
     "data": {
      "application/vnd.jupyter.widget-view+json": {
       "model_id": "",
       "version_major": 2,
       "version_minor": 0
      },
      "text/plain": [
       "Validation: |          | 0/? [00:00<?, ?it/s]"
      ]
     },
     "metadata": {},
     "output_type": "display_data"
    },
    {
     "data": {
      "application/vnd.jupyter.widget-view+json": {
       "model_id": "",
       "version_major": 2,
       "version_minor": 0
      },
      "text/plain": [
       "Validation: |          | 0/? [00:00<?, ?it/s]"
      ]
     },
     "metadata": {},
     "output_type": "display_data"
    },
    {
     "data": {
      "application/vnd.jupyter.widget-view+json": {
       "model_id": "",
       "version_major": 2,
       "version_minor": 0
      },
      "text/plain": [
       "Validation: |          | 0/? [00:00<?, ?it/s]"
      ]
     },
     "metadata": {},
     "output_type": "display_data"
    },
    {
     "data": {
      "application/vnd.jupyter.widget-view+json": {
       "model_id": "",
       "version_major": 2,
       "version_minor": 0
      },
      "text/plain": [
       "Validation: |          | 0/? [00:00<?, ?it/s]"
      ]
     },
     "metadata": {},
     "output_type": "display_data"
    },
    {
     "data": {
      "application/vnd.jupyter.widget-view+json": {
       "model_id": "",
       "version_major": 2,
       "version_minor": 0
      },
      "text/plain": [
       "Validation: |          | 0/? [00:00<?, ?it/s]"
      ]
     },
     "metadata": {},
     "output_type": "display_data"
    },
    {
     "data": {
      "application/vnd.jupyter.widget-view+json": {
       "model_id": "",
       "version_major": 2,
       "version_minor": 0
      },
      "text/plain": [
       "Validation: |          | 0/? [00:00<?, ?it/s]"
      ]
     },
     "metadata": {},
     "output_type": "display_data"
    },
    {
     "data": {
      "application/vnd.jupyter.widget-view+json": {
       "model_id": "",
       "version_major": 2,
       "version_minor": 0
      },
      "text/plain": [
       "Validation: |          | 0/? [00:00<?, ?it/s]"
      ]
     },
     "metadata": {},
     "output_type": "display_data"
    },
    {
     "data": {
      "application/vnd.jupyter.widget-view+json": {
       "model_id": "",
       "version_major": 2,
       "version_minor": 0
      },
      "text/plain": [
       "Validation: |          | 0/? [00:00<?, ?it/s]"
      ]
     },
     "metadata": {},
     "output_type": "display_data"
    },
    {
     "data": {
      "application/vnd.jupyter.widget-view+json": {
       "model_id": "",
       "version_major": 2,
       "version_minor": 0
      },
      "text/plain": [
       "Validation: |          | 0/? [00:00<?, ?it/s]"
      ]
     },
     "metadata": {},
     "output_type": "display_data"
    },
    {
     "data": {
      "application/vnd.jupyter.widget-view+json": {
       "model_id": "",
       "version_major": 2,
       "version_minor": 0
      },
      "text/plain": [
       "Validation: |          | 0/? [00:00<?, ?it/s]"
      ]
     },
     "metadata": {},
     "output_type": "display_data"
    },
    {
     "data": {
      "application/vnd.jupyter.widget-view+json": {
       "model_id": "",
       "version_major": 2,
       "version_minor": 0
      },
      "text/plain": [
       "Validation: |          | 0/? [00:00<?, ?it/s]"
      ]
     },
     "metadata": {},
     "output_type": "display_data"
    },
    {
     "data": {
      "application/vnd.jupyter.widget-view+json": {
       "model_id": "",
       "version_major": 2,
       "version_minor": 0
      },
      "text/plain": [
       "Validation: |          | 0/? [00:00<?, ?it/s]"
      ]
     },
     "metadata": {},
     "output_type": "display_data"
    },
    {
     "data": {
      "application/vnd.jupyter.widget-view+json": {
       "model_id": "",
       "version_major": 2,
       "version_minor": 0
      },
      "text/plain": [
       "Validation: |          | 0/? [00:00<?, ?it/s]"
      ]
     },
     "metadata": {},
     "output_type": "display_data"
    },
    {
     "data": {
      "application/vnd.jupyter.widget-view+json": {
       "model_id": "",
       "version_major": 2,
       "version_minor": 0
      },
      "text/plain": [
       "Validation: |          | 0/? [00:00<?, ?it/s]"
      ]
     },
     "metadata": {},
     "output_type": "display_data"
    },
    {
     "data": {
      "application/vnd.jupyter.widget-view+json": {
       "model_id": "",
       "version_major": 2,
       "version_minor": 0
      },
      "text/plain": [
       "Validation: |          | 0/? [00:00<?, ?it/s]"
      ]
     },
     "metadata": {},
     "output_type": "display_data"
    },
    {
     "data": {
      "application/vnd.jupyter.widget-view+json": {
       "model_id": "",
       "version_major": 2,
       "version_minor": 0
      },
      "text/plain": [
       "Validation: |          | 0/? [00:00<?, ?it/s]"
      ]
     },
     "metadata": {},
     "output_type": "display_data"
    },
    {
     "data": {
      "application/vnd.jupyter.widget-view+json": {
       "model_id": "",
       "version_major": 2,
       "version_minor": 0
      },
      "text/plain": [
       "Validation: |          | 0/? [00:00<?, ?it/s]"
      ]
     },
     "metadata": {},
     "output_type": "display_data"
    },
    {
     "data": {
      "application/vnd.jupyter.widget-view+json": {
       "model_id": "",
       "version_major": 2,
       "version_minor": 0
      },
      "text/plain": [
       "Validation: |          | 0/? [00:00<?, ?it/s]"
      ]
     },
     "metadata": {},
     "output_type": "display_data"
    },
    {
     "data": {
      "application/vnd.jupyter.widget-view+json": {
       "model_id": "",
       "version_major": 2,
       "version_minor": 0
      },
      "text/plain": [
       "Validation: |          | 0/? [00:00<?, ?it/s]"
      ]
     },
     "metadata": {},
     "output_type": "display_data"
    },
    {
     "data": {
      "application/vnd.jupyter.widget-view+json": {
       "model_id": "",
       "version_major": 2,
       "version_minor": 0
      },
      "text/plain": [
       "Validation: |          | 0/? [00:00<?, ?it/s]"
      ]
     },
     "metadata": {},
     "output_type": "display_data"
    },
    {
     "data": {
      "application/vnd.jupyter.widget-view+json": {
       "model_id": "",
       "version_major": 2,
       "version_minor": 0
      },
      "text/plain": [
       "Validation: |          | 0/? [00:00<?, ?it/s]"
      ]
     },
     "metadata": {},
     "output_type": "display_data"
    },
    {
     "data": {
      "application/vnd.jupyter.widget-view+json": {
       "model_id": "",
       "version_major": 2,
       "version_minor": 0
      },
      "text/plain": [
       "Validation: |          | 0/? [00:00<?, ?it/s]"
      ]
     },
     "metadata": {},
     "output_type": "display_data"
    },
    {
     "data": {
      "application/vnd.jupyter.widget-view+json": {
       "model_id": "",
       "version_major": 2,
       "version_minor": 0
      },
      "text/plain": [
       "Validation: |          | 0/? [00:00<?, ?it/s]"
      ]
     },
     "metadata": {},
     "output_type": "display_data"
    },
    {
     "data": {
      "application/vnd.jupyter.widget-view+json": {
       "model_id": "",
       "version_major": 2,
       "version_minor": 0
      },
      "text/plain": [
       "Validation: |          | 0/? [00:00<?, ?it/s]"
      ]
     },
     "metadata": {},
     "output_type": "display_data"
    },
    {
     "data": {
      "application/vnd.jupyter.widget-view+json": {
       "model_id": "",
       "version_major": 2,
       "version_minor": 0
      },
      "text/plain": [
       "Validation: |          | 0/? [00:00<?, ?it/s]"
      ]
     },
     "metadata": {},
     "output_type": "display_data"
    },
    {
     "data": {
      "application/vnd.jupyter.widget-view+json": {
       "model_id": "",
       "version_major": 2,
       "version_minor": 0
      },
      "text/plain": [
       "Validation: |          | 0/? [00:00<?, ?it/s]"
      ]
     },
     "metadata": {},
     "output_type": "display_data"
    },
    {
     "data": {
      "application/vnd.jupyter.widget-view+json": {
       "model_id": "",
       "version_major": 2,
       "version_minor": 0
      },
      "text/plain": [
       "Validation: |          | 0/? [00:00<?, ?it/s]"
      ]
     },
     "metadata": {},
     "output_type": "display_data"
    },
    {
     "data": {
      "application/vnd.jupyter.widget-view+json": {
       "model_id": "",
       "version_major": 2,
       "version_minor": 0
      },
      "text/plain": [
       "Validation: |          | 0/? [00:00<?, ?it/s]"
      ]
     },
     "metadata": {},
     "output_type": "display_data"
    },
    {
     "data": {
      "application/vnd.jupyter.widget-view+json": {
       "model_id": "",
       "version_major": 2,
       "version_minor": 0
      },
      "text/plain": [
       "Validation: |          | 0/? [00:00<?, ?it/s]"
      ]
     },
     "metadata": {},
     "output_type": "display_data"
    },
    {
     "data": {
      "application/vnd.jupyter.widget-view+json": {
       "model_id": "",
       "version_major": 2,
       "version_minor": 0
      },
      "text/plain": [
       "Validation: |          | 0/? [00:00<?, ?it/s]"
      ]
     },
     "metadata": {},
     "output_type": "display_data"
    },
    {
     "data": {
      "application/vnd.jupyter.widget-view+json": {
       "model_id": "",
       "version_major": 2,
       "version_minor": 0
      },
      "text/plain": [
       "Validation: |          | 0/? [00:00<?, ?it/s]"
      ]
     },
     "metadata": {},
     "output_type": "display_data"
    },
    {
     "data": {
      "application/vnd.jupyter.widget-view+json": {
       "model_id": "",
       "version_major": 2,
       "version_minor": 0
      },
      "text/plain": [
       "Validation: |          | 0/? [00:00<?, ?it/s]"
      ]
     },
     "metadata": {},
     "output_type": "display_data"
    },
    {
     "data": {
      "application/vnd.jupyter.widget-view+json": {
       "model_id": "",
       "version_major": 2,
       "version_minor": 0
      },
      "text/plain": [
       "Validation: |          | 0/? [00:00<?, ?it/s]"
      ]
     },
     "metadata": {},
     "output_type": "display_data"
    },
    {
     "data": {
      "application/vnd.jupyter.widget-view+json": {
       "model_id": "",
       "version_major": 2,
       "version_minor": 0
      },
      "text/plain": [
       "Validation: |          | 0/? [00:00<?, ?it/s]"
      ]
     },
     "metadata": {},
     "output_type": "display_data"
    },
    {
     "data": {
      "application/vnd.jupyter.widget-view+json": {
       "model_id": "",
       "version_major": 2,
       "version_minor": 0
      },
      "text/plain": [
       "Validation: |          | 0/? [00:00<?, ?it/s]"
      ]
     },
     "metadata": {},
     "output_type": "display_data"
    },
    {
     "data": {
      "application/vnd.jupyter.widget-view+json": {
       "model_id": "",
       "version_major": 2,
       "version_minor": 0
      },
      "text/plain": [
       "Validation: |          | 0/? [00:00<?, ?it/s]"
      ]
     },
     "metadata": {},
     "output_type": "display_data"
    },
    {
     "data": {
      "application/vnd.jupyter.widget-view+json": {
       "model_id": "",
       "version_major": 2,
       "version_minor": 0
      },
      "text/plain": [
       "Validation: |          | 0/? [00:00<?, ?it/s]"
      ]
     },
     "metadata": {},
     "output_type": "display_data"
    },
    {
     "data": {
      "application/vnd.jupyter.widget-view+json": {
       "model_id": "",
       "version_major": 2,
       "version_minor": 0
      },
      "text/plain": [
       "Validation: |          | 0/? [00:00<?, ?it/s]"
      ]
     },
     "metadata": {},
     "output_type": "display_data"
    },
    {
     "data": {
      "application/vnd.jupyter.widget-view+json": {
       "model_id": "56cb81d1fe56432686f9bbf7920a1e35",
       "version_major": 2,
       "version_minor": 0
      },
      "text/plain": [
       "Validation: |          | 0/? [00:00<?, ?it/s]"
      ]
     },
     "metadata": {},
     "output_type": "display_data"
    },
    {
     "data": {
      "application/vnd.jupyter.widget-view+json": {
       "model_id": "df746ce9dfe7467ab0af9ca90f58a063",
       "version_major": 2,
       "version_minor": 0
      },
      "text/plain": [
       "Validation: |          | 0/? [00:00<?, ?it/s]"
      ]
     },
     "metadata": {},
     "output_type": "display_data"
    },
    {
     "data": {
      "application/vnd.jupyter.widget-view+json": {
       "model_id": "81fb55478b5949b0a834d5400c867695",
       "version_major": 2,
       "version_minor": 0
      },
      "text/plain": [
       "Validation: |          | 0/? [00:00<?, ?it/s]"
      ]
     },
     "metadata": {},
     "output_type": "display_data"
    },
    {
     "data": {
      "application/vnd.jupyter.widget-view+json": {
       "model_id": "c2eb9c65e0044a329b0ab2fda902c2f5",
       "version_major": 2,
       "version_minor": 0
      },
      "text/plain": [
       "Validation: |          | 0/? [00:00<?, ?it/s]"
      ]
     },
     "metadata": {},
     "output_type": "display_data"
    },
    {
     "data": {
      "application/vnd.jupyter.widget-view+json": {
       "model_id": "ddb38db584cd44248f69519da8114796",
       "version_major": 2,
       "version_minor": 0
      },
      "text/plain": [
       "Validation: |          | 0/? [00:00<?, ?it/s]"
      ]
     },
     "metadata": {},
     "output_type": "display_data"
    },
    {
     "data": {
      "application/vnd.jupyter.widget-view+json": {
       "model_id": "20eddf33024d49ea8bbaaaddabec4a5b",
       "version_major": 2,
       "version_minor": 0
      },
      "text/plain": [
       "Validation: |          | 0/? [00:00<?, ?it/s]"
      ]
     },
     "metadata": {},
     "output_type": "display_data"
    },
    {
     "data": {
      "application/vnd.jupyter.widget-view+json": {
       "model_id": "6911e859bfeb406cb3d2d2b798957b9f",
       "version_major": 2,
       "version_minor": 0
      },
      "text/plain": [
       "Validation: |          | 0/? [00:00<?, ?it/s]"
      ]
     },
     "metadata": {},
     "output_type": "display_data"
    },
    {
     "data": {
      "application/vnd.jupyter.widget-view+json": {
       "model_id": "77611b2eb8e8471391cabb3a842386ca",
       "version_major": 2,
       "version_minor": 0
      },
      "text/plain": [
       "Validation: |          | 0/? [00:00<?, ?it/s]"
      ]
     },
     "metadata": {},
     "output_type": "display_data"
    },
    {
     "data": {
      "application/vnd.jupyter.widget-view+json": {
       "model_id": "bcdc4a428e0343919a65677292c79b6c",
       "version_major": 2,
       "version_minor": 0
      },
      "text/plain": [
       "Validation: |          | 0/? [00:00<?, ?it/s]"
      ]
     },
     "metadata": {},
     "output_type": "display_data"
    },
    {
     "data": {
      "application/vnd.jupyter.widget-view+json": {
       "model_id": "98ef6c637f42481894ed5d60bff79565",
       "version_major": 2,
       "version_minor": 0
      },
      "text/plain": [
       "Validation: |          | 0/? [00:00<?, ?it/s]"
      ]
     },
     "metadata": {},
     "output_type": "display_data"
    },
    {
     "data": {
      "application/vnd.jupyter.widget-view+json": {
       "model_id": "ca519f27d8b74834b9de903a1f15e66b",
       "version_major": 2,
       "version_minor": 0
      },
      "text/plain": [
       "Validation: |          | 0/? [00:00<?, ?it/s]"
      ]
     },
     "metadata": {},
     "output_type": "display_data"
    },
    {
     "data": {
      "application/vnd.jupyter.widget-view+json": {
       "model_id": "bad7ab601f6a4a3cb64bbc3abe777df5",
       "version_major": 2,
       "version_minor": 0
      },
      "text/plain": [
       "Validation: |          | 0/? [00:00<?, ?it/s]"
      ]
     },
     "metadata": {},
     "output_type": "display_data"
    },
    {
     "data": {
      "application/vnd.jupyter.widget-view+json": {
       "model_id": "2ffccf5525cf4153845d7ba615d8077c",
       "version_major": 2,
       "version_minor": 0
      },
      "text/plain": [
       "Validation: |          | 0/? [00:00<?, ?it/s]"
      ]
     },
     "metadata": {},
     "output_type": "display_data"
    },
    {
     "data": {
      "application/vnd.jupyter.widget-view+json": {
       "model_id": "35b02f118d774fa68513ff67e9b225a8",
       "version_major": 2,
       "version_minor": 0
      },
      "text/plain": [
       "Validation: |          | 0/? [00:00<?, ?it/s]"
      ]
     },
     "metadata": {},
     "output_type": "display_data"
    },
    {
     "data": {
      "application/vnd.jupyter.widget-view+json": {
       "model_id": "a82d37d9b6f64ff1a0c71d1a0ee16388",
       "version_major": 2,
       "version_minor": 0
      },
      "text/plain": [
       "Validation: |          | 0/? [00:00<?, ?it/s]"
      ]
     },
     "metadata": {},
     "output_type": "display_data"
    },
    {
     "data": {
      "application/vnd.jupyter.widget-view+json": {
       "model_id": "27d2118ff0e249f38a1040a688d253e8",
       "version_major": 2,
       "version_minor": 0
      },
      "text/plain": [
       "Validation: |          | 0/? [00:00<?, ?it/s]"
      ]
     },
     "metadata": {},
     "output_type": "display_data"
    },
    {
     "data": {
      "application/vnd.jupyter.widget-view+json": {
       "model_id": "a366fd6bb10f442a956d015c3bd0776f",
       "version_major": 2,
       "version_minor": 0
      },
      "text/plain": [
       "Validation: |          | 0/? [00:00<?, ?it/s]"
      ]
     },
     "metadata": {},
     "output_type": "display_data"
    },
    {
     "data": {
      "application/vnd.jupyter.widget-view+json": {
       "model_id": "301f604e88b44af9ac8b65ba7417ea45",
       "version_major": 2,
       "version_minor": 0
      },
      "text/plain": [
       "Validation: |          | 0/? [00:00<?, ?it/s]"
      ]
     },
     "metadata": {},
     "output_type": "display_data"
    },
    {
     "data": {
      "application/vnd.jupyter.widget-view+json": {
       "model_id": "c43b2c9819234623be68dc434ac8bd7d",
       "version_major": 2,
       "version_minor": 0
      },
      "text/plain": [
       "Validation: |          | 0/? [00:00<?, ?it/s]"
      ]
     },
     "metadata": {},
     "output_type": "display_data"
    },
    {
     "data": {
      "application/vnd.jupyter.widget-view+json": {
       "model_id": "427239443dd24411a07b0b88c86fdd02",
       "version_major": 2,
       "version_minor": 0
      },
      "text/plain": [
       "Validation: |          | 0/? [00:00<?, ?it/s]"
      ]
     },
     "metadata": {},
     "output_type": "display_data"
    },
    {
     "data": {
      "application/vnd.jupyter.widget-view+json": {
       "model_id": "d67392a3438c4eb89af419ab384ab1ed",
       "version_major": 2,
       "version_minor": 0
      },
      "text/plain": [
       "Validation: |          | 0/? [00:00<?, ?it/s]"
      ]
     },
     "metadata": {},
     "output_type": "display_data"
    },
    {
     "data": {
      "application/vnd.jupyter.widget-view+json": {
       "model_id": "2b86a87cc3c341c4aa5037bb2bca2c04",
       "version_major": 2,
       "version_minor": 0
      },
      "text/plain": [
       "Validation: |          | 0/? [00:00<?, ?it/s]"
      ]
     },
     "metadata": {},
     "output_type": "display_data"
    },
    {
     "data": {
      "application/vnd.jupyter.widget-view+json": {
       "model_id": "414eae09ce7d4b099037773d66c5effb",
       "version_major": 2,
       "version_minor": 0
      },
      "text/plain": [
       "Validation: |          | 0/? [00:00<?, ?it/s]"
      ]
     },
     "metadata": {},
     "output_type": "display_data"
    },
    {
     "data": {
      "application/vnd.jupyter.widget-view+json": {
       "model_id": "b0631780203242e484809700ffef8c63",
       "version_major": 2,
       "version_minor": 0
      },
      "text/plain": [
       "Validation: |          | 0/? [00:00<?, ?it/s]"
      ]
     },
     "metadata": {},
     "output_type": "display_data"
    },
    {
     "data": {
      "application/vnd.jupyter.widget-view+json": {
       "model_id": "cbb2dd82dde5450e97114238b47ce8b9",
       "version_major": 2,
       "version_minor": 0
      },
      "text/plain": [
       "Validation: |          | 0/? [00:00<?, ?it/s]"
      ]
     },
     "metadata": {},
     "output_type": "display_data"
    },
    {
     "data": {
      "application/vnd.jupyter.widget-view+json": {
       "model_id": "bcf864c86087470abd1c156f6b5ec434",
       "version_major": 2,
       "version_minor": 0
      },
      "text/plain": [
       "Validation: |          | 0/? [00:00<?, ?it/s]"
      ]
     },
     "metadata": {},
     "output_type": "display_data"
    },
    {
     "data": {
      "application/vnd.jupyter.widget-view+json": {
       "model_id": "21c1f821608945dd8c3029f1be7d3491",
       "version_major": 2,
       "version_minor": 0
      },
      "text/plain": [
       "Validation: |          | 0/? [00:00<?, ?it/s]"
      ]
     },
     "metadata": {},
     "output_type": "display_data"
    },
    {
     "data": {
      "application/vnd.jupyter.widget-view+json": {
       "model_id": "3e167a893dc945839b48a0eb8943d6fa",
       "version_major": 2,
       "version_minor": 0
      },
      "text/plain": [
       "Validation: |          | 0/? [00:00<?, ?it/s]"
      ]
     },
     "metadata": {},
     "output_type": "display_data"
    },
    {
     "data": {
      "application/vnd.jupyter.widget-view+json": {
       "model_id": "421bca4fb2f14ec1976f38a57769e541",
       "version_major": 2,
       "version_minor": 0
      },
      "text/plain": [
       "Validation: |          | 0/? [00:00<?, ?it/s]"
      ]
     },
     "metadata": {},
     "output_type": "display_data"
    },
    {
     "data": {
      "application/vnd.jupyter.widget-view+json": {
       "model_id": "71406783247f4f008dfa48960a966dc3",
       "version_major": 2,
       "version_minor": 0
      },
      "text/plain": [
       "Validation: |          | 0/? [00:00<?, ?it/s]"
      ]
     },
     "metadata": {},
     "output_type": "display_data"
    },
    {
     "data": {
      "application/vnd.jupyter.widget-view+json": {
       "model_id": "8a275a17ed3449aab308421c3b67c59d",
       "version_major": 2,
       "version_minor": 0
      },
      "text/plain": [
       "Validation: |          | 0/? [00:00<?, ?it/s]"
      ]
     },
     "metadata": {},
     "output_type": "display_data"
    },
    {
     "data": {
      "application/vnd.jupyter.widget-view+json": {
       "model_id": "0c2c9475fcc64972b21dae4aa2323502",
       "version_major": 2,
       "version_minor": 0
      },
      "text/plain": [
       "Validation: |          | 0/? [00:00<?, ?it/s]"
      ]
     },
     "metadata": {},
     "output_type": "display_data"
    },
    {
     "data": {
      "application/vnd.jupyter.widget-view+json": {
       "model_id": "ede1c8948da649ddaa7aca623ac74669",
       "version_major": 2,
       "version_minor": 0
      },
      "text/plain": [
       "Validation: |          | 0/? [00:00<?, ?it/s]"
      ]
     },
     "metadata": {},
     "output_type": "display_data"
    },
    {
     "data": {
      "application/vnd.jupyter.widget-view+json": {
       "model_id": "3827a503f3704e1f8e9cce73a9f465f1",
       "version_major": 2,
       "version_minor": 0
      },
      "text/plain": [
       "Validation: |          | 0/? [00:00<?, ?it/s]"
      ]
     },
     "metadata": {},
     "output_type": "display_data"
    },
    {
     "data": {
      "application/vnd.jupyter.widget-view+json": {
       "model_id": "0fe3ffb1b1794d2faa5e17f362ad78e7",
       "version_major": 2,
       "version_minor": 0
      },
      "text/plain": [
       "Validation: |          | 0/? [00:00<?, ?it/s]"
      ]
     },
     "metadata": {},
     "output_type": "display_data"
    },
    {
     "data": {
      "application/vnd.jupyter.widget-view+json": {
       "model_id": "05b959312a4d4cabbeb82d9b35eae77b",
       "version_major": 2,
       "version_minor": 0
      },
      "text/plain": [
       "Validation: |          | 0/? [00:00<?, ?it/s]"
      ]
     },
     "metadata": {},
     "output_type": "display_data"
    },
    {
     "data": {
      "application/vnd.jupyter.widget-view+json": {
       "model_id": "3c1e3a2e4ec54748bf8665c98408b6f6",
       "version_major": 2,
       "version_minor": 0
      },
      "text/plain": [
       "Validation: |          | 0/? [00:00<?, ?it/s]"
      ]
     },
     "metadata": {},
     "output_type": "display_data"
    },
    {
     "data": {
      "application/vnd.jupyter.widget-view+json": {
       "model_id": "5b9fd8b936fa405f93f691e22e7900f2",
       "version_major": 2,
       "version_minor": 0
      },
      "text/plain": [
       "Validation: |          | 0/? [00:00<?, ?it/s]"
      ]
     },
     "metadata": {},
     "output_type": "display_data"
    },
    {
     "data": {
      "application/vnd.jupyter.widget-view+json": {
       "model_id": "c9aa1cb9183942c4a0056faa5cef74f4",
       "version_major": 2,
       "version_minor": 0
      },
      "text/plain": [
       "Validation: |          | 0/? [00:00<?, ?it/s]"
      ]
     },
     "metadata": {},
     "output_type": "display_data"
    },
    {
     "data": {
      "application/vnd.jupyter.widget-view+json": {
       "model_id": "f1db861828a04208810abda4c165ca8d",
       "version_major": 2,
       "version_minor": 0
      },
      "text/plain": [
       "Validation: |          | 0/? [00:00<?, ?it/s]"
      ]
     },
     "metadata": {},
     "output_type": "display_data"
    },
    {
     "data": {
      "application/vnd.jupyter.widget-view+json": {
       "model_id": "6e72e1293cf6426aa0ed6a2ac8bae2d2",
       "version_major": 2,
       "version_minor": 0
      },
      "text/plain": [
       "Validation: |          | 0/? [00:00<?, ?it/s]"
      ]
     },
     "metadata": {},
     "output_type": "display_data"
    },
    {
     "data": {
      "application/vnd.jupyter.widget-view+json": {
       "model_id": "7f049124be394d31a0d403142b053769",
       "version_major": 2,
       "version_minor": 0
      },
      "text/plain": [
       "Validation: |          | 0/? [00:00<?, ?it/s]"
      ]
     },
     "metadata": {},
     "output_type": "display_data"
    },
    {
     "data": {
      "application/vnd.jupyter.widget-view+json": {
       "model_id": "2bf70cebcf5b4abe83e51276037b05bc",
       "version_major": 2,
       "version_minor": 0
      },
      "text/plain": [
       "Validation: |          | 0/? [00:00<?, ?it/s]"
      ]
     },
     "metadata": {},
     "output_type": "display_data"
    },
    {
     "data": {
      "application/vnd.jupyter.widget-view+json": {
       "model_id": "aced43b5967d471684b78706284b7e3a",
       "version_major": 2,
       "version_minor": 0
      },
      "text/plain": [
       "Validation: |          | 0/? [00:00<?, ?it/s]"
      ]
     },
     "metadata": {},
     "output_type": "display_data"
    },
    {
     "data": {
      "application/vnd.jupyter.widget-view+json": {
       "model_id": "d5cbdc910cbf4fc0af5025682d53a003",
       "version_major": 2,
       "version_minor": 0
      },
      "text/plain": [
       "Validation: |          | 0/? [00:00<?, ?it/s]"
      ]
     },
     "metadata": {},
     "output_type": "display_data"
    },
    {
     "data": {
      "application/vnd.jupyter.widget-view+json": {
       "model_id": "c4a30d7d70e34dd4bd5d71a2b29ca8ac",
       "version_major": 2,
       "version_minor": 0
      },
      "text/plain": [
       "Validation: |          | 0/? [00:00<?, ?it/s]"
      ]
     },
     "metadata": {},
     "output_type": "display_data"
    },
    {
     "data": {
      "application/vnd.jupyter.widget-view+json": {
       "model_id": "195fe1b5328444e09e1a3c38ef11ce0f",
       "version_major": 2,
       "version_minor": 0
      },
      "text/plain": [
       "Validation: |          | 0/? [00:00<?, ?it/s]"
      ]
     },
     "metadata": {},
     "output_type": "display_data"
    },
    {
     "data": {
      "application/vnd.jupyter.widget-view+json": {
       "model_id": "42c9147eb0ab46df8f91547ddc953bcb",
       "version_major": 2,
       "version_minor": 0
      },
      "text/plain": [
       "Validation: |          | 0/? [00:00<?, ?it/s]"
      ]
     },
     "metadata": {},
     "output_type": "display_data"
    },
    {
     "data": {
      "application/vnd.jupyter.widget-view+json": {
       "model_id": "441df47bebad43edb0a521dcc58afd07",
       "version_major": 2,
       "version_minor": 0
      },
      "text/plain": [
       "Validation: |          | 0/? [00:00<?, ?it/s]"
      ]
     },
     "metadata": {},
     "output_type": "display_data"
    },
    {
     "data": {
      "application/vnd.jupyter.widget-view+json": {
       "model_id": "44f8dc3ac83c4584a4e336c652539661",
       "version_major": 2,
       "version_minor": 0
      },
      "text/plain": [
       "Validation: |          | 0/? [00:00<?, ?it/s]"
      ]
     },
     "metadata": {},
     "output_type": "display_data"
    },
    {
     "data": {
      "application/vnd.jupyter.widget-view+json": {
       "model_id": "a970834a317a4c45baa5ed10ca2ed131",
       "version_major": 2,
       "version_minor": 0
      },
      "text/plain": [
       "Validation: |          | 0/? [00:00<?, ?it/s]"
      ]
     },
     "metadata": {},
     "output_type": "display_data"
    },
    {
     "data": {
      "application/vnd.jupyter.widget-view+json": {
       "model_id": "93ad6e0486b1427497d9a3176416a3e0",
       "version_major": 2,
       "version_minor": 0
      },
      "text/plain": [
       "Validation: |          | 0/? [00:00<?, ?it/s]"
      ]
     },
     "metadata": {},
     "output_type": "display_data"
    },
    {
     "data": {
      "application/vnd.jupyter.widget-view+json": {
       "model_id": "902a6b03cb76454c9762d5538c84c7cd",
       "version_major": 2,
       "version_minor": 0
      },
      "text/plain": [
       "Validation: |          | 0/? [00:00<?, ?it/s]"
      ]
     },
     "metadata": {},
     "output_type": "display_data"
    },
    {
     "data": {
      "application/vnd.jupyter.widget-view+json": {
       "model_id": "40a9b0a134c946c1947406cdb9490dcd",
       "version_major": 2,
       "version_minor": 0
      },
      "text/plain": [
       "Validation: |          | 0/? [00:00<?, ?it/s]"
      ]
     },
     "metadata": {},
     "output_type": "display_data"
    },
    {
     "name": "stderr",
     "output_type": "stream",
     "text": [
      "`Trainer.fit` stopped: `max_epochs=100` reached.\n"
     ]
    }
   ],
   "source": [
    "trainer_generative.fit(\n",
    "            encoder_model,\n",
    "            train_dataloaders=dataloader,\n",
    "            val_dataloaders=dataloader)"
   ]
  },
  {
   "cell_type": "markdown",
   "id": "aa201fff-4eda-4ece-8560-f40bab649ace",
   "metadata": {},
   "source": [
    "### Flow training"
   ]
  },
  {
   "cell_type": "markdown",
   "id": "7fd3c42e-0662-4eae-b7eb-5c60d87b88f5",
   "metadata": {},
   "source": [
    "Initialize the flow"
   ]
  },
  {
   "cell_type": "code",
   "execution_count": 30,
   "id": "c7408b47-c4ea-4a23-ad8c-75d468f116f9",
   "metadata": {},
   "outputs": [],
   "source": [
    "# Latent dimension\n",
    "in_dim = 100  \n",
    "# No modality list \n",
    "modality_list = None "
   ]
  },
  {
   "cell_type": "markdown",
   "id": "45a15854-6699-49bd-a9af-7ff52334a478",
   "metadata": {},
   "source": [
    "Initialize the feature embeddings"
   ]
  },
  {
   "cell_type": "code",
   "execution_count": 31,
   "id": "ec2d6471-36b0-42dc-a1bf-a1a5b127c21d",
   "metadata": {},
   "outputs": [],
   "source": [
    "feature_embeddings = {}  \n",
    "num_classes = {}\n",
    "        \n",
    "for cov, cov_names in dataset.id2cov.items():\n",
    "    feature_embeddings[cov] = CategoricalFeaturizer(len(cov_names), \n",
    "                                                            False, \n",
    "                                                            \"cuda\", \n",
    "                                                            embedding_dimensions=100)\n",
    "\n",
    "    num_classes[cov] = 100"
   ]
  },
  {
   "cell_type": "markdown",
   "id": "0d071f56-d01a-4b29-abf0-4d6cb5739c18",
   "metadata": {},
   "source": [
    "Initialize the denoising model "
   ]
  },
  {
   "cell_type": "code",
   "execution_count": 32,
   "id": "627d4e5c-b0c4-4476-add2-ab65e4230cb1",
   "metadata": {},
   "outputs": [],
   "source": [
    "# Initialize the denoising model\n",
    "denoising_model = MLPTimeStep(in_dim=in_dim,                            # Presumably pre-defined\n",
    "                                hidden_dim=32,                            # From config hidden_dim\n",
    "                                dropout_prob=0,                           # From config dropout_prob\n",
    "                                n_blocks=3,                               # From config n_blocks\n",
    "                                model_type=\"conditional_latent\",          # From config model_type\n",
    "                                size_factor_min=dataset.min_size_factor,  # From dataset properties\n",
    "                                size_factor_max=dataset.max_size_factor,  # From dataset properties\n",
    "                                embedding_dim=100,                         # From config embedding_dim\n",
    "                                normalization=\"none\",                     # From config normalization\n",
    "                                conditional=True,                         # From config conditional\n",
    "                                multimodal=False,                         # From config multimodal\n",
    "                                is_binarized=False,                       # From config is_binarized\n",
    "                                modality_list=None,                       # Assuming no specific modality list\n",
    "                                embed_size_factor=False                   # From config embed_size_factor\n",
    "                                ).to(\"cuda\")"
   ]
  },
  {
   "cell_type": "code",
   "execution_count": 33,
   "id": "333030a6-f874-4617-a154-6883754ffd19",
   "metadata": {},
   "outputs": [],
   "source": [
    "for param in encoder_model.parameters():\n",
    "    param.requires_grad = False"
   ]
  },
  {
   "cell_type": "code",
   "execution_count": 34,
   "id": "9e83ed07-64f8-46e9-b950-1a0140428ab5",
   "metadata": {},
   "outputs": [
    {
     "name": "stderr",
     "output_type": "stream",
     "text": [
      "/home/icb/alessandro.palma/miniconda3/envs/celldreamer/lib/python3.10/site-packages/pytorch_lightning/utilities/parsing.py:208: Attribute 'encoder_model' is an instance of `nn.Module` and is already saved during checkpointing. It is recommended to ignore them using `self.save_hyperparameters(ignore=['encoder_model'])`.\n",
      "/home/icb/alessandro.palma/miniconda3/envs/celldreamer/lib/python3.10/site-packages/pytorch_lightning/utilities/parsing.py:208: Attribute 'denoising_model' is an instance of `nn.Module` and is already saved during checkpointing. It is recommended to ignore them using `self.save_hyperparameters(ignore=['denoising_model'])`.\n"
     ]
    }
   ],
   "source": [
    "size_factor_statistics = {\"mean\": dataset.log_size_factor_mu, \n",
    "                                        \"sd\": dataset.log_size_factor_sd}\n",
    "\n",
    "generative_model = FM(\n",
    "    encoder_model=encoder_model,\n",
    "    denoising_model=denoising_model,\n",
    "    feature_embeddings=feature_embeddings,\n",
    "    plotting_folder=\"/home/icb/alessandro.palma/environment/cfgen/notebooks/experiments/imputation/plots/try1\",\n",
    "    in_dim=in_dim,\n",
    "    size_factor_statistics=size_factor_statistics,\n",
    "    encoder_type=\"learnt_autoencoder\",\n",
    "    conditioning_covariate=\"cell_type\",\n",
    "    model_type=denoising_model.model_type,\n",
    "    multimodal=dataset.multimodal,\n",
    "    is_binarized=False,\n",
    "    modality_list=None,\n",
    "    learning_rate=0.0001,\n",
    "    weight_decay=0.000001,\n",
    "    antithetic_time_sampling=True,\n",
    "    sigma=0.01,\n",
    "    use_ot=False\n",
    ")"
   ]
  },
  {
   "cell_type": "code",
   "execution_count": 35,
   "id": "b94e2b89-62c5-46f5-a138-e2b789232696",
   "metadata": {},
   "outputs": [
    {
     "name": "stderr",
     "output_type": "stream",
     "text": [
      "GPU available: True (cuda), used: True\n",
      "TPU available: False, using: 0 TPU cores\n",
      "HPU available: False, using: 0 HPUs\n"
     ]
    }
   ],
   "source": [
    "trainer_generative = Trainer(max_epochs=100)"
   ]
  },
  {
   "cell_type": "code",
   "execution_count": 36,
   "id": "e433d5b3-900c-4a6d-ae6b-3700df6a91b4",
   "metadata": {
    "scrolled": true
   },
   "outputs": [
    {
     "name": "stderr",
     "output_type": "stream",
     "text": [
      "LOCAL_RANK: 0 - CUDA_VISIBLE_DEVICES: [0]\n",
      "\n",
      "  | Name            | Type         | Params | Mode \n",
      "---------------------------------------------------------\n",
      "0 | encoder_model   | EncoderModel | 2.4 M  | train\n",
      "1 | denoising_model | MLPTimeStep  | 42.8 K | train\n",
      "2 | criterion       | MSELoss      | 0      | train\n",
      "---------------------------------------------------------\n",
      "42.8 K    Trainable params\n",
      "2.4 M     Non-trainable params\n",
      "2.4 M     Total params\n",
      "9.651     Total estimated model params size (MB)\n",
      "/home/icb/alessandro.palma/miniconda3/envs/celldreamer/lib/python3.10/site-packages/pytorch_lightning/core/saving.py:363: Skipping 'encoder_model' parameter because it is not possible to safely dump to YAML.\n",
      "/home/icb/alessandro.palma/miniconda3/envs/celldreamer/lib/python3.10/site-packages/pytorch_lightning/core/saving.py:363: Skipping 'denoising_model' parameter because it is not possible to safely dump to YAML.\n"
     ]
    },
    {
     "data": {
      "application/vnd.jupyter.widget-view+json": {
       "model_id": "",
       "version_major": 2,
       "version_minor": 0
      },
      "text/plain": [
       "Sanity Checking: |          | 0/? [00:00<?, ?it/s]"
      ]
     },
     "metadata": {},
     "output_type": "display_data"
    },
    {
     "data": {
      "application/vnd.jupyter.widget-view+json": {
       "model_id": "0912e54748024966ba41491f4055d444",
       "version_major": 2,
       "version_minor": 0
      },
      "text/plain": [
       "Training: |          | 0/? [00:00<?, ?it/s]"
      ]
     },
     "metadata": {},
     "output_type": "display_data"
    },
    {
     "data": {
      "application/vnd.jupyter.widget-view+json": {
       "model_id": "",
       "version_major": 2,
       "version_minor": 0
      },
      "text/plain": [
       "Validation: |          | 0/? [00:00<?, ?it/s]"
      ]
     },
     "metadata": {},
     "output_type": "display_data"
    },
    {
     "data": {
      "application/vnd.jupyter.widget-view+json": {
       "model_id": "",
       "version_major": 2,
       "version_minor": 0
      },
      "text/plain": [
       "Validation: |          | 0/? [00:00<?, ?it/s]"
      ]
     },
     "metadata": {},
     "output_type": "display_data"
    },
    {
     "data": {
      "application/vnd.jupyter.widget-view+json": {
       "model_id": "",
       "version_major": 2,
       "version_minor": 0
      },
      "text/plain": [
       "Validation: |          | 0/? [00:00<?, ?it/s]"
      ]
     },
     "metadata": {},
     "output_type": "display_data"
    },
    {
     "data": {
      "application/vnd.jupyter.widget-view+json": {
       "model_id": "",
       "version_major": 2,
       "version_minor": 0
      },
      "text/plain": [
       "Validation: |          | 0/? [00:00<?, ?it/s]"
      ]
     },
     "metadata": {},
     "output_type": "display_data"
    },
    {
     "data": {
      "application/vnd.jupyter.widget-view+json": {
       "model_id": "",
       "version_major": 2,
       "version_minor": 0
      },
      "text/plain": [
       "Validation: |          | 0/? [00:00<?, ?it/s]"
      ]
     },
     "metadata": {},
     "output_type": "display_data"
    },
    {
     "data": {
      "application/vnd.jupyter.widget-view+json": {
       "model_id": "",
       "version_major": 2,
       "version_minor": 0
      },
      "text/plain": [
       "Validation: |          | 0/? [00:00<?, ?it/s]"
      ]
     },
     "metadata": {},
     "output_type": "display_data"
    },
    {
     "data": {
      "application/vnd.jupyter.widget-view+json": {
       "model_id": "",
       "version_major": 2,
       "version_minor": 0
      },
      "text/plain": [
       "Validation: |          | 0/? [00:00<?, ?it/s]"
      ]
     },
     "metadata": {},
     "output_type": "display_data"
    },
    {
     "data": {
      "application/vnd.jupyter.widget-view+json": {
       "model_id": "",
       "version_major": 2,
       "version_minor": 0
      },
      "text/plain": [
       "Validation: |          | 0/? [00:00<?, ?it/s]"
      ]
     },
     "metadata": {},
     "output_type": "display_data"
    },
    {
     "data": {
      "application/vnd.jupyter.widget-view+json": {
       "model_id": "",
       "version_major": 2,
       "version_minor": 0
      },
      "text/plain": [
       "Validation: |          | 0/? [00:00<?, ?it/s]"
      ]
     },
     "metadata": {},
     "output_type": "display_data"
    },
    {
     "data": {
      "application/vnd.jupyter.widget-view+json": {
       "model_id": "",
       "version_major": 2,
       "version_minor": 0
      },
      "text/plain": [
       "Validation: |          | 0/? [00:00<?, ?it/s]"
      ]
     },
     "metadata": {},
     "output_type": "display_data"
    },
    {
     "data": {
      "application/vnd.jupyter.widget-view+json": {
       "model_id": "",
       "version_major": 2,
       "version_minor": 0
      },
      "text/plain": [
       "Validation: |          | 0/? [00:00<?, ?it/s]"
      ]
     },
     "metadata": {},
     "output_type": "display_data"
    },
    {
     "data": {
      "application/vnd.jupyter.widget-view+json": {
       "model_id": "",
       "version_major": 2,
       "version_minor": 0
      },
      "text/plain": [
       "Validation: |          | 0/? [00:00<?, ?it/s]"
      ]
     },
     "metadata": {},
     "output_type": "display_data"
    },
    {
     "data": {
      "application/vnd.jupyter.widget-view+json": {
       "model_id": "",
       "version_major": 2,
       "version_minor": 0
      },
      "text/plain": [
       "Validation: |          | 0/? [00:00<?, ?it/s]"
      ]
     },
     "metadata": {},
     "output_type": "display_data"
    },
    {
     "data": {
      "application/vnd.jupyter.widget-view+json": {
       "model_id": "",
       "version_major": 2,
       "version_minor": 0
      },
      "text/plain": [
       "Validation: |          | 0/? [00:00<?, ?it/s]"
      ]
     },
     "metadata": {},
     "output_type": "display_data"
    },
    {
     "data": {
      "application/vnd.jupyter.widget-view+json": {
       "model_id": "",
       "version_major": 2,
       "version_minor": 0
      },
      "text/plain": [
       "Validation: |          | 0/? [00:00<?, ?it/s]"
      ]
     },
     "metadata": {},
     "output_type": "display_data"
    },
    {
     "data": {
      "application/vnd.jupyter.widget-view+json": {
       "model_id": "",
       "version_major": 2,
       "version_minor": 0
      },
      "text/plain": [
       "Validation: |          | 0/? [00:00<?, ?it/s]"
      ]
     },
     "metadata": {},
     "output_type": "display_data"
    },
    {
     "data": {
      "application/vnd.jupyter.widget-view+json": {
       "model_id": "",
       "version_major": 2,
       "version_minor": 0
      },
      "text/plain": [
       "Validation: |          | 0/? [00:00<?, ?it/s]"
      ]
     },
     "metadata": {},
     "output_type": "display_data"
    },
    {
     "data": {
      "application/vnd.jupyter.widget-view+json": {
       "model_id": "",
       "version_major": 2,
       "version_minor": 0
      },
      "text/plain": [
       "Validation: |          | 0/? [00:00<?, ?it/s]"
      ]
     },
     "metadata": {},
     "output_type": "display_data"
    },
    {
     "data": {
      "application/vnd.jupyter.widget-view+json": {
       "model_id": "",
       "version_major": 2,
       "version_minor": 0
      },
      "text/plain": [
       "Validation: |          | 0/? [00:00<?, ?it/s]"
      ]
     },
     "metadata": {},
     "output_type": "display_data"
    },
    {
     "data": {
      "application/vnd.jupyter.widget-view+json": {
       "model_id": "",
       "version_major": 2,
       "version_minor": 0
      },
      "text/plain": [
       "Validation: |          | 0/? [00:00<?, ?it/s]"
      ]
     },
     "metadata": {},
     "output_type": "display_data"
    },
    {
     "data": {
      "application/vnd.jupyter.widget-view+json": {
       "model_id": "",
       "version_major": 2,
       "version_minor": 0
      },
      "text/plain": [
       "Validation: |          | 0/? [00:00<?, ?it/s]"
      ]
     },
     "metadata": {},
     "output_type": "display_data"
    },
    {
     "data": {
      "application/vnd.jupyter.widget-view+json": {
       "model_id": "",
       "version_major": 2,
       "version_minor": 0
      },
      "text/plain": [
       "Validation: |          | 0/? [00:00<?, ?it/s]"
      ]
     },
     "metadata": {},
     "output_type": "display_data"
    },
    {
     "data": {
      "application/vnd.jupyter.widget-view+json": {
       "model_id": "",
       "version_major": 2,
       "version_minor": 0
      },
      "text/plain": [
       "Validation: |          | 0/? [00:00<?, ?it/s]"
      ]
     },
     "metadata": {},
     "output_type": "display_data"
    },
    {
     "data": {
      "application/vnd.jupyter.widget-view+json": {
       "model_id": "",
       "version_major": 2,
       "version_minor": 0
      },
      "text/plain": [
       "Validation: |          | 0/? [00:00<?, ?it/s]"
      ]
     },
     "metadata": {},
     "output_type": "display_data"
    },
    {
     "data": {
      "application/vnd.jupyter.widget-view+json": {
       "model_id": "",
       "version_major": 2,
       "version_minor": 0
      },
      "text/plain": [
       "Validation: |          | 0/? [00:00<?, ?it/s]"
      ]
     },
     "metadata": {},
     "output_type": "display_data"
    },
    {
     "data": {
      "application/vnd.jupyter.widget-view+json": {
       "model_id": "",
       "version_major": 2,
       "version_minor": 0
      },
      "text/plain": [
       "Validation: |          | 0/? [00:00<?, ?it/s]"
      ]
     },
     "metadata": {},
     "output_type": "display_data"
    },
    {
     "data": {
      "application/vnd.jupyter.widget-view+json": {
       "model_id": "",
       "version_major": 2,
       "version_minor": 0
      },
      "text/plain": [
       "Validation: |          | 0/? [00:00<?, ?it/s]"
      ]
     },
     "metadata": {},
     "output_type": "display_data"
    },
    {
     "data": {
      "application/vnd.jupyter.widget-view+json": {
       "model_id": "",
       "version_major": 2,
       "version_minor": 0
      },
      "text/plain": [
       "Validation: |          | 0/? [00:00<?, ?it/s]"
      ]
     },
     "metadata": {},
     "output_type": "display_data"
    },
    {
     "data": {
      "application/vnd.jupyter.widget-view+json": {
       "model_id": "",
       "version_major": 2,
       "version_minor": 0
      },
      "text/plain": [
       "Validation: |          | 0/? [00:00<?, ?it/s]"
      ]
     },
     "metadata": {},
     "output_type": "display_data"
    },
    {
     "data": {
      "application/vnd.jupyter.widget-view+json": {
       "model_id": "",
       "version_major": 2,
       "version_minor": 0
      },
      "text/plain": [
       "Validation: |          | 0/? [00:00<?, ?it/s]"
      ]
     },
     "metadata": {},
     "output_type": "display_data"
    },
    {
     "data": {
      "application/vnd.jupyter.widget-view+json": {
       "model_id": "",
       "version_major": 2,
       "version_minor": 0
      },
      "text/plain": [
       "Validation: |          | 0/? [00:00<?, ?it/s]"
      ]
     },
     "metadata": {},
     "output_type": "display_data"
    },
    {
     "data": {
      "application/vnd.jupyter.widget-view+json": {
       "model_id": "",
       "version_major": 2,
       "version_minor": 0
      },
      "text/plain": [
       "Validation: |          | 0/? [00:00<?, ?it/s]"
      ]
     },
     "metadata": {},
     "output_type": "display_data"
    },
    {
     "data": {
      "application/vnd.jupyter.widget-view+json": {
       "model_id": "",
       "version_major": 2,
       "version_minor": 0
      },
      "text/plain": [
       "Validation: |          | 0/? [00:00<?, ?it/s]"
      ]
     },
     "metadata": {},
     "output_type": "display_data"
    },
    {
     "data": {
      "application/vnd.jupyter.widget-view+json": {
       "model_id": "",
       "version_major": 2,
       "version_minor": 0
      },
      "text/plain": [
       "Validation: |          | 0/? [00:00<?, ?it/s]"
      ]
     },
     "metadata": {},
     "output_type": "display_data"
    },
    {
     "data": {
      "application/vnd.jupyter.widget-view+json": {
       "model_id": "",
       "version_major": 2,
       "version_minor": 0
      },
      "text/plain": [
       "Validation: |          | 0/? [00:00<?, ?it/s]"
      ]
     },
     "metadata": {},
     "output_type": "display_data"
    },
    {
     "data": {
      "application/vnd.jupyter.widget-view+json": {
       "model_id": "",
       "version_major": 2,
       "version_minor": 0
      },
      "text/plain": [
       "Validation: |          | 0/? [00:00<?, ?it/s]"
      ]
     },
     "metadata": {},
     "output_type": "display_data"
    },
    {
     "data": {
      "application/vnd.jupyter.widget-view+json": {
       "model_id": "",
       "version_major": 2,
       "version_minor": 0
      },
      "text/plain": [
       "Validation: |          | 0/? [00:00<?, ?it/s]"
      ]
     },
     "metadata": {},
     "output_type": "display_data"
    },
    {
     "data": {
      "application/vnd.jupyter.widget-view+json": {
       "model_id": "",
       "version_major": 2,
       "version_minor": 0
      },
      "text/plain": [
       "Validation: |          | 0/? [00:00<?, ?it/s]"
      ]
     },
     "metadata": {},
     "output_type": "display_data"
    },
    {
     "data": {
      "application/vnd.jupyter.widget-view+json": {
       "model_id": "",
       "version_major": 2,
       "version_minor": 0
      },
      "text/plain": [
       "Validation: |          | 0/? [00:00<?, ?it/s]"
      ]
     },
     "metadata": {},
     "output_type": "display_data"
    },
    {
     "data": {
      "application/vnd.jupyter.widget-view+json": {
       "model_id": "",
       "version_major": 2,
       "version_minor": 0
      },
      "text/plain": [
       "Validation: |          | 0/? [00:00<?, ?it/s]"
      ]
     },
     "metadata": {},
     "output_type": "display_data"
    },
    {
     "data": {
      "application/vnd.jupyter.widget-view+json": {
       "model_id": "",
       "version_major": 2,
       "version_minor": 0
      },
      "text/plain": [
       "Validation: |          | 0/? [00:00<?, ?it/s]"
      ]
     },
     "metadata": {},
     "output_type": "display_data"
    },
    {
     "data": {
      "application/vnd.jupyter.widget-view+json": {
       "model_id": "",
       "version_major": 2,
       "version_minor": 0
      },
      "text/plain": [
       "Validation: |          | 0/? [00:00<?, ?it/s]"
      ]
     },
     "metadata": {},
     "output_type": "display_data"
    },
    {
     "data": {
      "application/vnd.jupyter.widget-view+json": {
       "model_id": "",
       "version_major": 2,
       "version_minor": 0
      },
      "text/plain": [
       "Validation: |          | 0/? [00:00<?, ?it/s]"
      ]
     },
     "metadata": {},
     "output_type": "display_data"
    },
    {
     "data": {
      "application/vnd.jupyter.widget-view+json": {
       "model_id": "",
       "version_major": 2,
       "version_minor": 0
      },
      "text/plain": [
       "Validation: |          | 0/? [00:00<?, ?it/s]"
      ]
     },
     "metadata": {},
     "output_type": "display_data"
    },
    {
     "data": {
      "application/vnd.jupyter.widget-view+json": {
       "model_id": "",
       "version_major": 2,
       "version_minor": 0
      },
      "text/plain": [
       "Validation: |          | 0/? [00:00<?, ?it/s]"
      ]
     },
     "metadata": {},
     "output_type": "display_data"
    },
    {
     "data": {
      "application/vnd.jupyter.widget-view+json": {
       "model_id": "",
       "version_major": 2,
       "version_minor": 0
      },
      "text/plain": [
       "Validation: |          | 0/? [00:00<?, ?it/s]"
      ]
     },
     "metadata": {},
     "output_type": "display_data"
    },
    {
     "data": {
      "application/vnd.jupyter.widget-view+json": {
       "model_id": "",
       "version_major": 2,
       "version_minor": 0
      },
      "text/plain": [
       "Validation: |          | 0/? [00:00<?, ?it/s]"
      ]
     },
     "metadata": {},
     "output_type": "display_data"
    },
    {
     "data": {
      "application/vnd.jupyter.widget-view+json": {
       "model_id": "96ad5df83d8a4e62a86775836e802f69",
       "version_major": 2,
       "version_minor": 0
      },
      "text/plain": [
       "Validation: |          | 0/? [00:00<?, ?it/s]"
      ]
     },
     "metadata": {},
     "output_type": "display_data"
    },
    {
     "data": {
      "application/vnd.jupyter.widget-view+json": {
       "model_id": "63472e42f6744f7e82ed6d8b21c260db",
       "version_major": 2,
       "version_minor": 0
      },
      "text/plain": [
       "Validation: |          | 0/? [00:00<?, ?it/s]"
      ]
     },
     "metadata": {},
     "output_type": "display_data"
    },
    {
     "data": {
      "application/vnd.jupyter.widget-view+json": {
       "model_id": "1069490ed036418abedf3d119767f6ef",
       "version_major": 2,
       "version_minor": 0
      },
      "text/plain": [
       "Validation: |          | 0/? [00:00<?, ?it/s]"
      ]
     },
     "metadata": {},
     "output_type": "display_data"
    },
    {
     "data": {
      "application/vnd.jupyter.widget-view+json": {
       "model_id": "487b80aa7d79437a9e10689dbe85c9ff",
       "version_major": 2,
       "version_minor": 0
      },
      "text/plain": [
       "Validation: |          | 0/? [00:00<?, ?it/s]"
      ]
     },
     "metadata": {},
     "output_type": "display_data"
    },
    {
     "data": {
      "application/vnd.jupyter.widget-view+json": {
       "model_id": "6447827f3bf9416194bb20e00629642a",
       "version_major": 2,
       "version_minor": 0
      },
      "text/plain": [
       "Validation: |          | 0/? [00:00<?, ?it/s]"
      ]
     },
     "metadata": {},
     "output_type": "display_data"
    },
    {
     "data": {
      "application/vnd.jupyter.widget-view+json": {
       "model_id": "93479479ed42442cb86634b551ba5f20",
       "version_major": 2,
       "version_minor": 0
      },
      "text/plain": [
       "Validation: |          | 0/? [00:00<?, ?it/s]"
      ]
     },
     "metadata": {},
     "output_type": "display_data"
    },
    {
     "data": {
      "application/vnd.jupyter.widget-view+json": {
       "model_id": "6ecc6c03769e4e09a4c1d6d9b1226483",
       "version_major": 2,
       "version_minor": 0
      },
      "text/plain": [
       "Validation: |          | 0/? [00:00<?, ?it/s]"
      ]
     },
     "metadata": {},
     "output_type": "display_data"
    },
    {
     "data": {
      "application/vnd.jupyter.widget-view+json": {
       "model_id": "663174122d9c4616a71fc63ed743edba",
       "version_major": 2,
       "version_minor": 0
      },
      "text/plain": [
       "Validation: |          | 0/? [00:00<?, ?it/s]"
      ]
     },
     "metadata": {},
     "output_type": "display_data"
    },
    {
     "data": {
      "application/vnd.jupyter.widget-view+json": {
       "model_id": "b4cf2283f4e94670bb02585d52399951",
       "version_major": 2,
       "version_minor": 0
      },
      "text/plain": [
       "Validation: |          | 0/? [00:00<?, ?it/s]"
      ]
     },
     "metadata": {},
     "output_type": "display_data"
    },
    {
     "data": {
      "application/vnd.jupyter.widget-view+json": {
       "model_id": "74018c84e56145619c9508171309111c",
       "version_major": 2,
       "version_minor": 0
      },
      "text/plain": [
       "Validation: |          | 0/? [00:00<?, ?it/s]"
      ]
     },
     "metadata": {},
     "output_type": "display_data"
    },
    {
     "data": {
      "application/vnd.jupyter.widget-view+json": {
       "model_id": "73c1745857c144c2b65ac0b46008a446",
       "version_major": 2,
       "version_minor": 0
      },
      "text/plain": [
       "Validation: |          | 0/? [00:00<?, ?it/s]"
      ]
     },
     "metadata": {},
     "output_type": "display_data"
    },
    {
     "data": {
      "application/vnd.jupyter.widget-view+json": {
       "model_id": "a4da86e251454f778f1003f8dd36f5c3",
       "version_major": 2,
       "version_minor": 0
      },
      "text/plain": [
       "Validation: |          | 0/? [00:00<?, ?it/s]"
      ]
     },
     "metadata": {},
     "output_type": "display_data"
    },
    {
     "data": {
      "application/vnd.jupyter.widget-view+json": {
       "model_id": "a7f37ee2b29549fe810528f5aac19fe6",
       "version_major": 2,
       "version_minor": 0
      },
      "text/plain": [
       "Validation: |          | 0/? [00:00<?, ?it/s]"
      ]
     },
     "metadata": {},
     "output_type": "display_data"
    },
    {
     "data": {
      "application/vnd.jupyter.widget-view+json": {
       "model_id": "6fb716b11e074ab2a4dfac4751df564d",
       "version_major": 2,
       "version_minor": 0
      },
      "text/plain": [
       "Validation: |          | 0/? [00:00<?, ?it/s]"
      ]
     },
     "metadata": {},
     "output_type": "display_data"
    },
    {
     "data": {
      "application/vnd.jupyter.widget-view+json": {
       "model_id": "e9e72f2c68fc4411a9c440ef6654aa7c",
       "version_major": 2,
       "version_minor": 0
      },
      "text/plain": [
       "Validation: |          | 0/? [00:00<?, ?it/s]"
      ]
     },
     "metadata": {},
     "output_type": "display_data"
    },
    {
     "data": {
      "application/vnd.jupyter.widget-view+json": {
       "model_id": "14c274cf64294eb098f67575b795312a",
       "version_major": 2,
       "version_minor": 0
      },
      "text/plain": [
       "Validation: |          | 0/? [00:00<?, ?it/s]"
      ]
     },
     "metadata": {},
     "output_type": "display_data"
    },
    {
     "data": {
      "application/vnd.jupyter.widget-view+json": {
       "model_id": "aad23a9ff0e945c18b12a6b880dc2819",
       "version_major": 2,
       "version_minor": 0
      },
      "text/plain": [
       "Validation: |          | 0/? [00:00<?, ?it/s]"
      ]
     },
     "metadata": {},
     "output_type": "display_data"
    },
    {
     "data": {
      "application/vnd.jupyter.widget-view+json": {
       "model_id": "b3db1bcb6f7344c38b20d682b82e0688",
       "version_major": 2,
       "version_minor": 0
      },
      "text/plain": [
       "Validation: |          | 0/? [00:00<?, ?it/s]"
      ]
     },
     "metadata": {},
     "output_type": "display_data"
    },
    {
     "data": {
      "application/vnd.jupyter.widget-view+json": {
       "model_id": "c105dc6717614cceb86e3a3a422750bf",
       "version_major": 2,
       "version_minor": 0
      },
      "text/plain": [
       "Validation: |          | 0/? [00:00<?, ?it/s]"
      ]
     },
     "metadata": {},
     "output_type": "display_data"
    },
    {
     "data": {
      "application/vnd.jupyter.widget-view+json": {
       "model_id": "8339288e040742509795bb5d972c8a14",
       "version_major": 2,
       "version_minor": 0
      },
      "text/plain": [
       "Validation: |          | 0/? [00:00<?, ?it/s]"
      ]
     },
     "metadata": {},
     "output_type": "display_data"
    },
    {
     "data": {
      "application/vnd.jupyter.widget-view+json": {
       "model_id": "bd5aadba93ec4169848fd25c62f9382a",
       "version_major": 2,
       "version_minor": 0
      },
      "text/plain": [
       "Validation: |          | 0/? [00:00<?, ?it/s]"
      ]
     },
     "metadata": {},
     "output_type": "display_data"
    },
    {
     "data": {
      "application/vnd.jupyter.widget-view+json": {
       "model_id": "04c7a8a94af640299a5b8c8693e2701b",
       "version_major": 2,
       "version_minor": 0
      },
      "text/plain": [
       "Validation: |          | 0/? [00:00<?, ?it/s]"
      ]
     },
     "metadata": {},
     "output_type": "display_data"
    },
    {
     "data": {
      "application/vnd.jupyter.widget-view+json": {
       "model_id": "bc62d401b566413a9425909e8a2a57c0",
       "version_major": 2,
       "version_minor": 0
      },
      "text/plain": [
       "Validation: |          | 0/? [00:00<?, ?it/s]"
      ]
     },
     "metadata": {},
     "output_type": "display_data"
    },
    {
     "data": {
      "application/vnd.jupyter.widget-view+json": {
       "model_id": "dccefe61dc1f48b1a69cbc899f1afe19",
       "version_major": 2,
       "version_minor": 0
      },
      "text/plain": [
       "Validation: |          | 0/? [00:00<?, ?it/s]"
      ]
     },
     "metadata": {},
     "output_type": "display_data"
    },
    {
     "data": {
      "application/vnd.jupyter.widget-view+json": {
       "model_id": "ee18ee0a7b034de18952b28789b7000e",
       "version_major": 2,
       "version_minor": 0
      },
      "text/plain": [
       "Validation: |          | 0/? [00:00<?, ?it/s]"
      ]
     },
     "metadata": {},
     "output_type": "display_data"
    },
    {
     "data": {
      "application/vnd.jupyter.widget-view+json": {
       "model_id": "cdead009e28043139f4e555e49b4b933",
       "version_major": 2,
       "version_minor": 0
      },
      "text/plain": [
       "Validation: |          | 0/? [00:00<?, ?it/s]"
      ]
     },
     "metadata": {},
     "output_type": "display_data"
    },
    {
     "data": {
      "application/vnd.jupyter.widget-view+json": {
       "model_id": "6c3453f87998487fb8e72e73d68c9ba0",
       "version_major": 2,
       "version_minor": 0
      },
      "text/plain": [
       "Validation: |          | 0/? [00:00<?, ?it/s]"
      ]
     },
     "metadata": {},
     "output_type": "display_data"
    },
    {
     "data": {
      "application/vnd.jupyter.widget-view+json": {
       "model_id": "2003d532c80e4785acdafa7bee89a5b0",
       "version_major": 2,
       "version_minor": 0
      },
      "text/plain": [
       "Validation: |          | 0/? [00:00<?, ?it/s]"
      ]
     },
     "metadata": {},
     "output_type": "display_data"
    },
    {
     "data": {
      "application/vnd.jupyter.widget-view+json": {
       "model_id": "63ad94ca99654145b368dde8014c7075",
       "version_major": 2,
       "version_minor": 0
      },
      "text/plain": [
       "Validation: |          | 0/? [00:00<?, ?it/s]"
      ]
     },
     "metadata": {},
     "output_type": "display_data"
    },
    {
     "data": {
      "application/vnd.jupyter.widget-view+json": {
       "model_id": "924b7ff205c94525b4bea3559755ed14",
       "version_major": 2,
       "version_minor": 0
      },
      "text/plain": [
       "Validation: |          | 0/? [00:00<?, ?it/s]"
      ]
     },
     "metadata": {},
     "output_type": "display_data"
    },
    {
     "data": {
      "application/vnd.jupyter.widget-view+json": {
       "model_id": "1787b2c8d9cf428fae76633958521961",
       "version_major": 2,
       "version_minor": 0
      },
      "text/plain": [
       "Validation: |          | 0/? [00:00<?, ?it/s]"
      ]
     },
     "metadata": {},
     "output_type": "display_data"
    },
    {
     "data": {
      "application/vnd.jupyter.widget-view+json": {
       "model_id": "2db11659013d469db38fdc3d84cdeebe",
       "version_major": 2,
       "version_minor": 0
      },
      "text/plain": [
       "Validation: |          | 0/? [00:00<?, ?it/s]"
      ]
     },
     "metadata": {},
     "output_type": "display_data"
    },
    {
     "data": {
      "application/vnd.jupyter.widget-view+json": {
       "model_id": "cef38c8e99db4dc38d34f3499d8e2698",
       "version_major": 2,
       "version_minor": 0
      },
      "text/plain": [
       "Validation: |          | 0/? [00:00<?, ?it/s]"
      ]
     },
     "metadata": {},
     "output_type": "display_data"
    },
    {
     "data": {
      "application/vnd.jupyter.widget-view+json": {
       "model_id": "8ccf5c4c9ed04a899de0727308f60c72",
       "version_major": 2,
       "version_minor": 0
      },
      "text/plain": [
       "Validation: |          | 0/? [00:00<?, ?it/s]"
      ]
     },
     "metadata": {},
     "output_type": "display_data"
    },
    {
     "data": {
      "application/vnd.jupyter.widget-view+json": {
       "model_id": "316f81d8d3c64414b35254530c4ede64",
       "version_major": 2,
       "version_minor": 0
      },
      "text/plain": [
       "Validation: |          | 0/? [00:00<?, ?it/s]"
      ]
     },
     "metadata": {},
     "output_type": "display_data"
    },
    {
     "data": {
      "application/vnd.jupyter.widget-view+json": {
       "model_id": "af238b30e09e43cdaee49deb5d12dc0f",
       "version_major": 2,
       "version_minor": 0
      },
      "text/plain": [
       "Validation: |          | 0/? [00:00<?, ?it/s]"
      ]
     },
     "metadata": {},
     "output_type": "display_data"
    },
    {
     "data": {
      "application/vnd.jupyter.widget-view+json": {
       "model_id": "17734361564a41049acc50e33e292e78",
       "version_major": 2,
       "version_minor": 0
      },
      "text/plain": [
       "Validation: |          | 0/? [00:00<?, ?it/s]"
      ]
     },
     "metadata": {},
     "output_type": "display_data"
    },
    {
     "data": {
      "application/vnd.jupyter.widget-view+json": {
       "model_id": "8d032287637943d79e112e2d149603c7",
       "version_major": 2,
       "version_minor": 0
      },
      "text/plain": [
       "Validation: |          | 0/? [00:00<?, ?it/s]"
      ]
     },
     "metadata": {},
     "output_type": "display_data"
    },
    {
     "data": {
      "application/vnd.jupyter.widget-view+json": {
       "model_id": "2a0ead0ef0f447898df8a1981b518188",
       "version_major": 2,
       "version_minor": 0
      },
      "text/plain": [
       "Validation: |          | 0/? [00:00<?, ?it/s]"
      ]
     },
     "metadata": {},
     "output_type": "display_data"
    },
    {
     "data": {
      "application/vnd.jupyter.widget-view+json": {
       "model_id": "1f1aa368fdf74fc19fe24d012b04dac7",
       "version_major": 2,
       "version_minor": 0
      },
      "text/plain": [
       "Validation: |          | 0/? [00:00<?, ?it/s]"
      ]
     },
     "metadata": {},
     "output_type": "display_data"
    },
    {
     "data": {
      "application/vnd.jupyter.widget-view+json": {
       "model_id": "0459c92cdd3e449ab8aa6fe3ae2add4a",
       "version_major": 2,
       "version_minor": 0
      },
      "text/plain": [
       "Validation: |          | 0/? [00:00<?, ?it/s]"
      ]
     },
     "metadata": {},
     "output_type": "display_data"
    },
    {
     "data": {
      "application/vnd.jupyter.widget-view+json": {
       "model_id": "ea55a7219356481488de52ff99953eeb",
       "version_major": 2,
       "version_minor": 0
      },
      "text/plain": [
       "Validation: |          | 0/? [00:00<?, ?it/s]"
      ]
     },
     "metadata": {},
     "output_type": "display_data"
    },
    {
     "data": {
      "application/vnd.jupyter.widget-view+json": {
       "model_id": "308cb161158943a38e9664cd7a9f1a99",
       "version_major": 2,
       "version_minor": 0
      },
      "text/plain": [
       "Validation: |          | 0/? [00:00<?, ?it/s]"
      ]
     },
     "metadata": {},
     "output_type": "display_data"
    },
    {
     "data": {
      "application/vnd.jupyter.widget-view+json": {
       "model_id": "a829cecb60e649039dac59dc8dbf5b32",
       "version_major": 2,
       "version_minor": 0
      },
      "text/plain": [
       "Validation: |          | 0/? [00:00<?, ?it/s]"
      ]
     },
     "metadata": {},
     "output_type": "display_data"
    },
    {
     "data": {
      "application/vnd.jupyter.widget-view+json": {
       "model_id": "aad1cbf7c79d490aa605fdea980fbfc9",
       "version_major": 2,
       "version_minor": 0
      },
      "text/plain": [
       "Validation: |          | 0/? [00:00<?, ?it/s]"
      ]
     },
     "metadata": {},
     "output_type": "display_data"
    },
    {
     "data": {
      "application/vnd.jupyter.widget-view+json": {
       "model_id": "30ead6c4637e45408126f48756897932",
       "version_major": 2,
       "version_minor": 0
      },
      "text/plain": [
       "Validation: |          | 0/? [00:00<?, ?it/s]"
      ]
     },
     "metadata": {},
     "output_type": "display_data"
    },
    {
     "data": {
      "application/vnd.jupyter.widget-view+json": {
       "model_id": "c704801ce0ce4ba5bd201fff795daaf6",
       "version_major": 2,
       "version_minor": 0
      },
      "text/plain": [
       "Validation: |          | 0/? [00:00<?, ?it/s]"
      ]
     },
     "metadata": {},
     "output_type": "display_data"
    },
    {
     "data": {
      "application/vnd.jupyter.widget-view+json": {
       "model_id": "9ff45ad4c873408dacecd7266a694005",
       "version_major": 2,
       "version_minor": 0
      },
      "text/plain": [
       "Validation: |          | 0/? [00:00<?, ?it/s]"
      ]
     },
     "metadata": {},
     "output_type": "display_data"
    },
    {
     "data": {
      "application/vnd.jupyter.widget-view+json": {
       "model_id": "54708b32e0364d6ca91b11c57662d6fd",
       "version_major": 2,
       "version_minor": 0
      },
      "text/plain": [
       "Validation: |          | 0/? [00:00<?, ?it/s]"
      ]
     },
     "metadata": {},
     "output_type": "display_data"
    },
    {
     "data": {
      "application/vnd.jupyter.widget-view+json": {
       "model_id": "cab47caea39a4a7d9f5cf55caaa85bed",
       "version_major": 2,
       "version_minor": 0
      },
      "text/plain": [
       "Validation: |          | 0/? [00:00<?, ?it/s]"
      ]
     },
     "metadata": {},
     "output_type": "display_data"
    },
    {
     "data": {
      "application/vnd.jupyter.widget-view+json": {
       "model_id": "d0b54e5ef58140d3acdc6dbcbc8db7cf",
       "version_major": 2,
       "version_minor": 0
      },
      "text/plain": [
       "Validation: |          | 0/? [00:00<?, ?it/s]"
      ]
     },
     "metadata": {},
     "output_type": "display_data"
    },
    {
     "data": {
      "application/vnd.jupyter.widget-view+json": {
       "model_id": "a8cb38ec26364fd8a9446d5366f2cbf9",
       "version_major": 2,
       "version_minor": 0
      },
      "text/plain": [
       "Validation: |          | 0/? [00:00<?, ?it/s]"
      ]
     },
     "metadata": {},
     "output_type": "display_data"
    },
    {
     "data": {
      "application/vnd.jupyter.widget-view+json": {
       "model_id": "7c8474992fd44d519cf2dc55cc26942a",
       "version_major": 2,
       "version_minor": 0
      },
      "text/plain": [
       "Validation: |          | 0/? [00:00<?, ?it/s]"
      ]
     },
     "metadata": {},
     "output_type": "display_data"
    },
    {
     "name": "stderr",
     "output_type": "stream",
     "text": [
      "`Trainer.fit` stopped: `max_epochs=100` reached.\n"
     ]
    }
   ],
   "source": [
    "trainer_generative.fit(generative_model,\n",
    "                        train_dataloaders=dataloader,\n",
    "                        val_dataloaders=dataloader)"
   ]
  },
  {
   "cell_type": "code",
   "execution_count": 37,
   "id": "3e708c13-a964-4bbf-85dc-4937790524b4",
   "metadata": {},
   "outputs": [],
   "source": [
    "generative_model = generative_model.cuda()"
   ]
  },
  {
   "cell_type": "markdown",
   "id": "ab64b573-f9b7-427b-8301-59629685a23f",
   "metadata": {},
   "source": [
    "# Implementation of augmentation appraches "
   ]
  },
  {
   "cell_type": "code",
   "execution_count": 38,
   "id": "a04f4ce9-01cb-478c-91d9-d6674b58762a",
   "metadata": {},
   "outputs": [
    {
     "name": "stderr",
     "output_type": "stream",
     "text": [
      "/home/icb/alessandro.palma/miniconda3/envs/celldreamer/lib/python3.10/site-packages/anndata/__init__.py:51: FutureWarning: `anndata.read` is deprecated, use `anndata.read_h5ad` instead. `ad.read` will be removed in mid 2024.\n",
      "  warnings.warn(\n"
     ]
    }
   ],
   "source": [
    "dataset = RNAseqLoader(data_path=data_path,\n",
    "                        layer_key=\"X_masked\",               # Corresponding to config 'layer_key'\n",
    "                        covariate_keys=[\"cell_type\"],        # Corresponding to config 'covariate_keys'\n",
    "                        subsample_frac=1,                   # Corresponding to config 'subsample_frac'\n",
    "                        encoder_type=\"learnt_autoencoder\",  # Corresponding to config 'encoder_type'\n",
    "                        multimodal=False,                   # Corresponding to config 'multimodal'\n",
    "                        is_binarized=False                  # Corresponding to config 'is_binarized'\n",
    "                    )"
   ]
  },
  {
   "cell_type": "markdown",
   "id": "8039335c-10e4-4a61-8aae-69fb8d40733e",
   "metadata": {},
   "source": [
    "#### Invert and sample"
   ]
  },
  {
   "cell_type": "code",
   "execution_count": 39,
   "id": "23b5aa40-40eb-4576-8176-289481ef535a",
   "metadata": {},
   "outputs": [],
   "source": [
    "dataloader = torch.utils.data.DataLoader(dataset,\n",
    "                                            batch_size=256,\n",
    "                                            shuffle=False,\n",
    "                                            num_workers=4, \n",
    "                                            drop_last=False)\n",
    "gene_dim = dataset.X.shape[1] "
   ]
  },
  {
   "cell_type": "code",
   "execution_count": 40,
   "id": "166cc55c-5687-457f-9daa-abb4939a5321",
   "metadata": {},
   "outputs": [],
   "source": [
    "def invert_and_sample(dataloader, encoder_model, generative_model, sample_std=0.1):\n",
    "    # Sampled results \n",
    "    Z_imputed = [] \n",
    "    X_imputed = []\n",
    "    \n",
    "    # Times to apply correction\n",
    "    t = torch.linspace(0, 1, 100, device=generative_model.device)\n",
    "    reverse_t = torch.linspace(1, 0, 100, device=generative_model.device)\n",
    "\n",
    "    for i, batch in tqdm(enumerate(dataloader)):\n",
    "        with torch.no_grad():\n",
    "            # Encode latent space \n",
    "            z = encoder_model.encode(batch)\n",
    "    \n",
    "            # Get size factor\n",
    "            size_factor = torch.tensor(hlca_core.layers[\"X_counts\"][(i*256):((i+1)*256)].sum(1)).squeeze()\n",
    "            log_size_factor = torch.log(torch.tensor(hlca_core.layers[\"X_counts\"][(i*256):((i+1)*256)].sum(1))).squeeze()\n",
    "            \n",
    "    \n",
    "            # Get condition embeddings\n",
    "            y = generative_model.feature_embeddings[\"cell_type\"](batch[\"y\"][\"cell_type\"].cuda())\n",
    "    \n",
    "            # Go back to noise\n",
    "            denoising_model_ode = torch_wrapper(generative_model.denoising_model, \n",
    "                                                log_size_factor, \n",
    "                                                y)    \n",
    "            \n",
    "            node = NeuralODE(denoising_model_ode,\n",
    "                                    solver=\"dopri5\", \n",
    "                                    sensitivity=\"adjoint\", \n",
    "                                    atol=1e-5, \n",
    "                                    rtol=1e-5)        \n",
    "    \n",
    "            z0 = node.trajectory(z, t_span=reverse_t)[-1]\n",
    "\n",
    "            # Now sample around noise\n",
    "            noise = torch.randn_like(z0) * sample_std  # Gaussian noise\n",
    "            z0 = z0 + noise\n",
    "    \n",
    "            z1 = node.trajectory(z0, t_span=t)[-1]\n",
    "            Z_imputed.append(z1.cpu().numpy())\n",
    "    \n",
    "            # Now decode\n",
    "            mu_hat = generative_model._decode(z1, size_factor.cuda().unsqueeze(1))\n",
    "            X_imputed.append(mu_hat.cpu().numpy())\n",
    "\n",
    "    Z_imputed = np.concatenate(Z_imputed, axis=0)\n",
    "    X_imputed = np.concatenate(X_imputed, axis=0)\n",
    "    return Z_imputed, X_imputed"
   ]
  },
  {
   "cell_type": "code",
   "execution_count": 41,
   "id": "0b9e9a06-50a3-4477-b0bb-4cba5c05529d",
   "metadata": {
    "scrolled": true
   },
   "outputs": [
    {
     "name": "stderr",
     "output_type": "stream",
     "text": [
      "\n",
      "0it [00:00, ?it/s]\u001b[A\n",
      "1it [00:04,  4.26s/it]\u001b[A\n",
      "2it [00:05,  2.52s/it]\u001b[A\n",
      "3it [00:06,  1.95s/it]\u001b[A\n",
      "4it [00:08,  1.69s/it]\u001b[A\n",
      "5it [00:09,  1.54s/it]\u001b[A\n",
      "6it [00:10,  1.45s/it]\u001b[A\n",
      "7it [00:11,  1.39s/it]\u001b[A\n",
      "8it [00:13,  1.36s/it]\u001b[A\n",
      "9it [00:14,  1.33s/it]\u001b[A\n",
      "10it [00:15,  1.31s/it]\u001b[A\n",
      "11it [00:17,  1.31s/it]\u001b[A\n",
      "12it [00:18,  1.30s/it]\u001b[A\n",
      "13it [00:19,  1.29s/it]\u001b[A\n",
      "14it [00:20,  1.29s/it]\u001b[A\n",
      "15it [00:22,  1.28s/it]\u001b[A\n",
      "16it [00:23,  1.28s/it]\u001b[A\n",
      "17it [00:24,  1.28s/it]\u001b[A\n",
      "18it [00:26,  1.28s/it]\u001b[A\n",
      "19it [00:27,  1.28s/it]\u001b[A\n",
      "20it [00:28,  1.28s/it]\u001b[A\n",
      "21it [00:29,  1.28s/it]\u001b[A\n",
      "22it [00:31,  1.28s/it]\u001b[A\n",
      "23it [00:32,  1.28s/it]\u001b[A\n",
      "24it [00:33,  1.28s/it]\u001b[A\n",
      "25it [00:34,  1.28s/it]\u001b[A\n",
      "26it [00:36,  1.28s/it]\u001b[A\n",
      "27it [00:37,  1.28s/it]\u001b[A\n",
      "28it [00:38,  1.28s/it]\u001b[A\n",
      "29it [00:40,  1.28s/it]\u001b[A\n",
      "30it [00:41,  1.28s/it]\u001b[A\n",
      "31it [00:42,  1.28s/it]\u001b[A\n",
      "32it [00:43,  1.28s/it]\u001b[A\n",
      "33it [00:45,  1.28s/it]\u001b[A\n",
      "34it [00:46,  1.28s/it]\u001b[A\n",
      "35it [00:47,  1.28s/it]\u001b[A\n",
      "36it [00:49,  1.30s/it]\u001b[A\n",
      "37it [00:50,  1.29s/it]\u001b[A\n",
      "38it [00:51,  1.29s/it]\u001b[A\n",
      "39it [00:52,  1.28s/it]\u001b[A\n",
      "40it [00:54,  1.28s/it]\u001b[A\n",
      "41it [00:55,  1.28s/it]\u001b[A\n",
      "42it [00:56,  1.28s/it]\u001b[A\n",
      "43it [00:58,  1.28s/it]\u001b[A\n",
      "44it [00:59,  1.28s/it]\u001b[A\n",
      "45it [01:00,  1.28s/it]\u001b[A\n",
      "46it [01:01,  1.28s/it]\u001b[A\n",
      "47it [01:03,  1.28s/it]\u001b[A\n",
      "48it [01:04,  1.29s/it]\u001b[A\n",
      "49it [01:05,  1.29s/it]\u001b[A\n",
      "50it [01:07,  1.29s/it]\u001b[A\n",
      "51it [01:08,  1.28s/it]\u001b[A\n",
      "52it [01:09,  1.28s/it]\u001b[A\n",
      "53it [01:10,  1.28s/it]\u001b[A\n",
      "54it [01:12,  1.28s/it]\u001b[A\n",
      "55it [01:13,  1.28s/it]\u001b[A\n",
      "56it [01:14,  1.28s/it]\u001b[A\n",
      "57it [01:15,  1.28s/it]\u001b[A\n",
      "58it [01:17,  1.28s/it]\u001b[A\n",
      "59it [01:18,  1.28s/it]\u001b[A\n",
      "60it [01:19,  1.28s/it]\u001b[A\n",
      "61it [01:21,  1.28s/it]\u001b[A\n",
      "62it [01:22,  1.28s/it]\u001b[A\n",
      "63it [01:23,  1.28s/it]\u001b[A\n",
      "64it [01:24,  1.28s/it]\u001b[A\n",
      "65it [01:26,  1.28s/it]\u001b[A\n",
      "66it [01:27,  1.28s/it]\u001b[A\n",
      "67it [01:28,  1.28s/it]\u001b[A\n",
      "68it [01:30,  1.28s/it]\u001b[A\n",
      "69it [01:31,  1.28s/it]\u001b[A\n",
      "70it [01:32,  1.28s/it]\u001b[A\n",
      "71it [01:33,  1.28s/it]\u001b[A\n",
      "72it [01:35,  1.28s/it]\u001b[A\n",
      "73it [01:36,  1.28s/it]\u001b[A\n",
      "74it [01:37,  1.28s/it]\u001b[A\n",
      "75it [01:39,  1.28s/it]\u001b[A\n",
      "76it [01:40,  1.29s/it]\u001b[A\n",
      "77it [01:41,  1.29s/it]\u001b[A\n",
      "78it [01:42,  1.29s/it]\u001b[A\n",
      "79it [01:44,  1.29s/it]\u001b[A\n",
      "80it [01:45,  1.29s/it]\u001b[A\n",
      "81it [01:46,  1.29s/it]\u001b[A\n",
      "82it [01:48,  1.29s/it]\u001b[A\n",
      "83it [01:49,  1.29s/it]\u001b[A\n",
      "84it [01:50,  1.29s/it]\u001b[A\n",
      "85it [01:51,  1.29s/it]\u001b[A\n",
      "86it [01:53,  1.30s/it]\u001b[A\n",
      "87it [01:54,  1.29s/it]\u001b[A\n",
      "88it [01:55,  1.29s/it]\u001b[A\n",
      "89it [01:57,  1.29s/it]\u001b[A\n",
      "90it [01:58,  1.29s/it]\u001b[A\n",
      "91it [01:59,  1.28s/it]\u001b[A\n",
      "92it [02:00,  1.28s/it]\u001b[A\n",
      "93it [02:02,  1.28s/it]\u001b[A\n",
      "94it [02:03,  1.29s/it]\u001b[A\n",
      "95it [02:04,  1.29s/it]\u001b[A\n",
      "96it [02:06,  1.29s/it]\u001b[A\n",
      "97it [02:07,  1.29s/it]\u001b[A\n",
      "98it [02:08,  1.29s/it]\u001b[A\n",
      "99it [02:09,  1.29s/it]\u001b[A\n",
      "100it [02:11,  1.29s/it]\u001b[A\n",
      "101it [02:12,  1.29s/it]\u001b[A\n",
      "102it [02:13,  1.29s/it]\u001b[A\n",
      "103it [02:15,  1.29s/it]\u001b[A\n",
      "104it [02:16,  1.29s/it]\u001b[A\n",
      "105it [02:17,  1.29s/it]\u001b[A\n",
      "106it [02:18,  1.29s/it]\u001b[A\n",
      "107it [02:20,  1.29s/it]\u001b[A\n",
      "108it [02:21,  1.29s/it]\u001b[A\n",
      "109it [02:22,  1.29s/it]\u001b[A\n",
      "110it [02:24,  1.30s/it]\u001b[A\n",
      "111it [02:25,  1.30s/it]\u001b[A\n",
      "112it [02:26,  1.30s/it]\u001b[A\n",
      "113it [02:28,  1.30s/it]\u001b[A\n",
      "114it [02:29,  1.29s/it]\u001b[A\n",
      "115it [02:30,  1.29s/it]\u001b[A\n",
      "116it [02:31,  1.28s/it]\u001b[A\n",
      "117it [02:33,  1.28s/it]\u001b[A\n",
      "118it [02:34,  1.28s/it]\u001b[A\n",
      "119it [02:35,  1.28s/it]\u001b[A\n",
      "120it [02:37,  1.28s/it]\u001b[A\n",
      "121it [02:38,  1.28s/it]\u001b[A\n",
      "122it [02:39,  1.28s/it]\u001b[A\n",
      "123it [02:40,  1.28s/it]\u001b[A\n",
      "124it [02:42,  1.28s/it]\u001b[A\n",
      "125it [02:43,  1.28s/it]\u001b[A\n",
      "126it [02:44,  1.28s/it]\u001b[A\n",
      "127it [02:45,  1.28s/it]\u001b[A\n",
      "128it [02:47,  1.28s/it]\u001b[A\n",
      "129it [02:48,  1.29s/it]\u001b[A\n",
      "130it [02:49,  1.29s/it]\u001b[A\n",
      "131it [02:51,  1.29s/it]\u001b[A\n",
      "132it [02:52,  1.29s/it]\u001b[A\n",
      "133it [02:53,  1.29s/it]\u001b[A\n",
      "134it [02:55,  1.29s/it]\u001b[A\n",
      "135it [02:56,  1.30s/it]\u001b[A\n",
      "136it [02:57,  1.31s/it]\u001b[A\n",
      "137it [02:58,  1.31s/it]\u001b[A\n",
      "138it [03:00,  1.30s/it]\u001b[A\n",
      "139it [03:01,  1.30s/it]\u001b[A\n",
      "140it [03:02,  1.30s/it]\u001b[A\n",
      "141it [03:04,  1.30s/it]\u001b[A\n",
      "142it [03:05,  1.30s/it]\u001b[A\n",
      "143it [03:06,  1.30s/it]\u001b[A\n",
      "144it [03:08,  1.30s/it]\u001b[A\n",
      "145it [03:09,  1.30s/it]\u001b[A\n",
      "146it [03:10,  1.30s/it]\u001b[A\n",
      "147it [03:11,  1.30s/it]\u001b[A\n",
      "148it [03:13,  1.30s/it]\u001b[A\n",
      "149it [03:14,  1.30s/it]\u001b[A\n",
      "150it [03:15,  1.30s/it]\u001b[A\n",
      "151it [03:17,  1.30s/it]\u001b[A\n",
      "152it [03:18,  1.30s/it]\u001b[A\n",
      "153it [03:19,  1.31s/it]\u001b[A\n",
      "154it [03:21,  1.31s/it]\u001b[A\n",
      "155it [03:22,  1.31s/it]\u001b[A\n",
      "156it [03:23,  1.31s/it]\u001b[A\n",
      "157it [03:25,  1.31s/it]\u001b[A\n",
      "158it [03:26,  1.31s/it]\u001b[A\n",
      "159it [03:27,  1.31s/it]\u001b[A\n",
      "160it [03:28,  1.31s/it]\u001b[A\n",
      "161it [03:30,  1.31s/it]\u001b[A\n",
      "162it [03:31,  1.31s/it]\u001b[A\n",
      "163it [03:32,  1.32s/it]\u001b[A\n",
      "164it [03:34,  1.31s/it]\u001b[A\n",
      "165it [03:35,  1.31s/it]\u001b[A\n",
      "166it [03:36,  1.31s/it]\u001b[A\n",
      "167it [03:38,  1.33s/it]\u001b[A\n",
      "168it [03:39,  1.32s/it]\u001b[A\n",
      "169it [03:40,  1.32s/it]\u001b[A\n",
      "170it [03:42,  1.31s/it]\u001b[A\n",
      "171it [03:43,  1.31s/it]\u001b[A\n",
      "172it [03:44,  1.31s/it]\u001b[A\n",
      "173it [03:46,  1.31s/it]\u001b[A\n",
      "174it [03:47,  1.31s/it]\u001b[A\n",
      "175it [03:48,  1.31s/it]\u001b[A\n",
      "176it [03:50,  1.31s/it]\u001b[A\n",
      "177it [03:51,  1.31s/it]\u001b[A\n",
      "178it [03:52,  1.31s/it]\u001b[A\n",
      "179it [03:53,  1.31s/it]\u001b[A\n",
      "180it [03:55,  1.31s/it]\u001b[A\n",
      "181it [03:56,  1.31s/it]\u001b[A\n",
      "182it [03:57,  1.31s/it]\u001b[A\n",
      "183it [03:59,  1.31s/it]\u001b[A\n",
      "184it [04:00,  1.31s/it]\u001b[A\n",
      "185it [04:01,  1.31s/it]\u001b[A\n",
      "186it [04:03,  1.32s/it]\u001b[A\n",
      "187it [04:04,  1.31s/it]\u001b[A\n",
      "188it [04:05,  1.31s/it]\u001b[A\n",
      "189it [04:07,  1.31s/it]\u001b[A\n",
      "190it [04:08,  1.32s/it]\u001b[A\n",
      "191it [04:09,  1.31s/it]\u001b[A\n",
      "192it [04:11,  1.32s/it]\u001b[A\n",
      "193it [04:12,  1.32s/it]\u001b[A\n",
      "194it [04:13,  1.31s/it]\u001b[A\n",
      "195it [04:14,  1.31s/it]\u001b[A\n",
      "196it [04:16,  1.31s/it]\u001b[A\n"
     ]
    }
   ],
   "source": [
    "Z_imputed, X_imputed = invert_and_sample(dataloader, encoder_model, generative_model, sample_std=0.0001)"
   ]
  },
  {
   "cell_type": "code",
   "execution_count": 42,
   "id": "a00f1248-0946-499c-b88f-638e0510d054",
   "metadata": {},
   "outputs": [
    {
     "name": "stdout",
     "output_type": "stream",
     "text": [
      "(50000, 100)\n",
      "(50000, 2000)\n"
     ]
    }
   ],
   "source": [
    "print(Z_imputed.shape)\n",
    "print(X_imputed.shape)"
   ]
  },
  {
   "cell_type": "code",
   "execution_count": 43,
   "id": "cf50e586-a0fe-4595-89d5-f8447dacdc16",
   "metadata": {},
   "outputs": [
    {
     "data": {
      "text/plain": [
       "0.5481777"
      ]
     },
     "execution_count": 43,
     "metadata": {},
     "output_type": "execute_result"
    }
   ],
   "source": [
    "np.mean(np.abs(X_imputed.ravel()[hlca_core.uns['do_ix']] - hlca_core.layers[\"X_counts\"].A.ravel()[hlca_core.uns['do_ix']]))"
   ]
  },
  {
   "cell_type": "code",
   "execution_count": 45,
   "id": "2e5eca46-01b9-48ce-a683-f289669eb5cc",
   "metadata": {},
   "outputs": [
    {
     "data": {
      "text/plain": [
       "SignificanceResult(statistic=0.38489543061104675, pvalue=0.0)"
      ]
     },
     "execution_count": 45,
     "metadata": {},
     "output_type": "execute_result"
    }
   ],
   "source": [
    "scipy.stats.spearmanr(X_imputed.ravel()[hlca_core.uns['do_ix']], hlca_core.layers[\"X_counts\"].A.ravel()[hlca_core.uns['do_ix']])"
   ]
  },
  {
   "cell_type": "code",
   "execution_count": 46,
   "id": "e6206529-2cc8-4b71-942f-62e844e0784b",
   "metadata": {},
   "outputs": [
    {
     "data": {
      "text/plain": [
       "SignificanceResult(statistic=0.39270005675502107, pvalue=0.0)"
      ]
     },
     "execution_count": 46,
     "metadata": {},
     "output_type": "execute_result"
    }
   ],
   "source": [
    "scipy.stats.spearmanr(imputed_counts.ravel()[hlca_core.uns['do_ix']], hlca_core.layers[\"X_counts\"].A.ravel()[hlca_core.uns['do_ix']])"
   ]
  },
  {
   "cell_type": "code",
   "execution_count": 47,
   "id": "04c338df-f89d-4326-bf6c-b134cdebcb9e",
   "metadata": {},
   "outputs": [
    {
     "data": {
      "text/plain": [
       "Text(0, 0.5, 'Real')"
      ]
     },
     "execution_count": 47,
     "metadata": {},
     "output_type": "execute_result"
    },
    {
     "data": {
      "image/png": "[encoded data removed]",
      "text/plain": [
       "<Figure size 640x480 with 1 Axes>"
      ]
     },
     "metadata": {},
     "output_type": "display_data"
    }
   ],
   "source": [
    "plt.scatter(X_imputed.ravel()[:20000], hlca_core.layers[\"X_counts\"].A.ravel()[:20000])\n",
    "plt.title(\"Imputation CFGen\")\n",
    "plt.xlabel(\"Predicted\")\n",
    "plt.ylabel(\"Real\")"
   ]
  },
  {
   "cell_type": "code",
   "execution_count": 48,
   "id": "99f31cd7-25ab-4fb6-b610-89fc54af4b73",
   "metadata": {},
   "outputs": [
    {
     "data": {
      "text/plain": [
       "Text(0, 0.5, 'Real')"
      ]
     },
     "execution_count": 48,
     "metadata": {},
     "output_type": "execute_result"
    },
    {
     "data": {
      "image/png": "[encoded data removed]",
      "text/plain": [
       "<Figure size 640x480 with 1 Axes>"
      ]
     },
     "metadata": {},
     "output_type": "display_data"
    }
   ],
   "source": [
    "plt.scatter(imputed_counts.ravel()[:200000], hlca_core.layers[\"X_counts\"].A.ravel()[:200000])\n",
    "plt.title(\"Imputation scVI\")\n",
    "plt.xlabel(\"Predicted\")\n",
    "plt.ylabel(\"Real\")"
   ]
  },
  {
   "cell_type": "markdown",
   "id": "e90b64b5-a012-46a4-afe2-e00a06544b2d",
   "metadata": {},
   "source": [
    "## Correlation non zero genes"
   ]
  },
  {
   "cell_type": "code",
   "execution_count": 49,
   "id": "4198f9d0-d175-42a1-b29c-32eade435404",
   "metadata": {},
   "outputs": [],
   "source": [
    "non_zero_idx = np.where(hlca_core.layers[\"X_masked\"].A.ravel()!=0)"
   ]
  },
  {
   "cell_type": "code",
   "execution_count": 50,
   "id": "f542c9aa-2399-4238-b220-4f1c4f6188d0",
   "metadata": {},
   "outputs": [
    {
     "data": {
      "text/plain": [
       "SignificanceResult(statistic=0.8299538564409373, pvalue=0.0)"
      ]
     },
     "execution_count": 50,
     "metadata": {},
     "output_type": "execute_result"
    }
   ],
   "source": [
    "scipy.stats.spearmanr(X_imputed.ravel()[non_zero_idx], hlca_core.layers[\"X_counts\"].A.ravel()[non_zero_idx])"
   ]
  },
  {
   "cell_type": "code",
   "execution_count": 51,
   "id": "2f6c274d-1d80-4dd7-9d76-0217c6de83bb",
   "metadata": {},
   "outputs": [
    {
     "data": {
      "text/plain": [
       "SignificanceResult(statistic=0.7525682274807441, pvalue=0.0)"
      ]
     },
     "execution_count": 51,
     "metadata": {},
     "output_type": "execute_result"
    }
   ],
   "source": [
    "scipy.stats.spearmanr(imputed_counts.ravel()[non_zero_idx], hlca_core.layers[\"X_counts\"].A.ravel()[non_zero_idx])"
   ]
  },
  {
   "cell_type": "code",
   "execution_count": 52,
   "id": "2f25ea9b-c800-4e46-9699-ee5f68c350d0",
   "metadata": {},
   "outputs": [
    {
     "data": {
      "text/plain": [
       "3.3693464"
      ]
     },
     "execution_count": 52,
     "metadata": {},
     "output_type": "execute_result"
    }
   ],
   "source": [
    "np.mean(np.abs(X_imputed.ravel()[non_zero_idx] - hlca_core.layers[\"X_counts\"].A.ravel()[[non_zero_idx]]))"
   ]
  },
  {
   "cell_type": "code",
   "execution_count": 53,
   "id": "9df9b0ee-caef-4457-b80c-4e3b048adae0",
   "metadata": {},
   "outputs": [
    {
     "data": {
      "text/plain": [
       "4.4821153"
      ]
     },
     "execution_count": 53,
     "metadata": {},
     "output_type": "execute_result"
    }
   ],
   "source": [
    "np.mean(np.abs(imputed_counts.ravel()[non_zero_idx] - hlca_core.layers[\"X_counts\"].A.ravel()[[non_zero_idx]]))"
   ]
  },
  {
   "cell_type": "markdown",
   "id": "7c83e323-163f-4ffe-897f-efd1ee395013",
   "metadata": {},
   "source": [
    "Check if generated are decent"
   ]
  },
  {
   "cell_type": "code",
   "execution_count": 54,
   "id": "8117f586-7301-4898-9683-ed2bec1d8748",
   "metadata": {},
   "outputs": [],
   "source": [
    "adata_joint = sc.AnnData(X=np.concatenate([hlca_core.layers[\"X_counts\"].A,\n",
    "                             X_imputed]),\n",
    "                         obs={\"dataset_type\":[\"true\" for _ in range(hlca_core.layers[\"X_counts\"].A.shape[0])]+[\"gen\" for _ in range(len(X_imputed))]})"
   ]
  },
  {
   "cell_type": "code",
   "execution_count": 55,
   "id": "d53672b8-dfc0-40a4-89d8-1c7f572506c1",
   "metadata": {},
   "outputs": [
    {
     "name": "stderr",
     "output_type": "stream",
     "text": [
      "/home/icb/alessandro.palma/miniconda3/envs/celldreamer/lib/python3.10/site-packages/scanpy/plotting/_tools/scatterplots.py:394: UserWarning: No data for colormapping provided via 'c'. Parameters 'cmap' will be ignored\n",
      "  cax = scatter(\n"
     ]
    },
    {
     "data": {
      "image/png": "[encoded data removed]",
      "text/plain": [
       "<Figure size 640x480 with 1 Axes>"
      ]
     },
     "metadata": {},
     "output_type": "display_data"
    }
   ],
   "source": [
    "sc.pp.log1p(adata_joint)\n",
    "sc.tl.pca(adata_joint)\n",
    "sc.pl.pca(adata_joint,color=\"dataset_type\")"
   ]
  },
  {
   "cell_type": "markdown",
   "id": "29dca902-3cac-45ed-9c6e-ed0149fbe3e9",
   "metadata": {},
   "source": [
    "#### Interpolate and sample"
   ]
  },
  {
   "cell_type": "code",
   "execution_count": 56,
   "id": "4e821e07-db55-49e5-961d-c0b5ed2f967a",
   "metadata": {},
   "outputs": [],
   "source": [
    "# def interpolate_and_sample(dataloader, encoder_model, generative_model, tmax):\n",
    "#     # Sampled results \n",
    "#     Z_imputed = [] \n",
    "#     X_imputed = []\n",
    "    \n",
    "#     # Times to apply correction\n",
    "#     t = torch.linspace(tmax, 1.0, 100, device=generative_model.device)\n",
    "\n",
    "#     for i, batch in tqdm(enumerate(dataloader)):\n",
    "#         with torch.no_grad():\n",
    "#             # Encode latent space \n",
    "#             z = encoder_model.encode(batch)\n",
    "#             eps = torch.randn_like(z)\n",
    "    \n",
    "#             # Get size factor\n",
    "#             log_size_factor = torch.log(torch.tensor(hlca_core.layers[\"X_counts\"][(i*256):((i+1)*256)].sum(1))).squeeze()\n",
    "    \n",
    "#             # Get condition embeddings\n",
    "#             y = generative_model.feature_embeddings[\"clusters\"](batch[\"y\"][\"clusters\"].cuda())\n",
    "\n",
    "#             # Interpolate \n",
    "#             zt = z * tmax + eps * (1-tmax)\n",
    "    \n",
    "#             # Go back to noise\n",
    "#             denoising_model_ode = torch_wrapper(generative_model.denoising_model, \n",
    "#                                                 log_size_factor, \n",
    "#                                                 y)    \n",
    "            \n",
    "#             node = NeuralODE(denoising_model_ode,\n",
    "#                                     solver=\"dopri5\", \n",
    "#                                     sensitivity=\"adjoint\", \n",
    "#                                     atol=1e-5, \n",
    "#                                     rtol=1e-5)        \n",
    "    \n",
    "    \n",
    "#             z1 = node.trajectory(zt, t_span=t)[-1]\n",
    "#             Z_imputed.append(z1.cpu().numpy())\n",
    "    \n",
    "#             # Now decode\n",
    "#             mu_hat = generative_model._decode(z1, torch.exp(log_size_factor).cuda().unsqueeze(1))\n",
    "#             X_imputed.append(mu_hat.cpu().numpy())\n",
    "            \n",
    "#     Z_imputed = np.concatenate(Z_imputed, axis=0)\n",
    "#     X_imputed = np.concatenate(X_imputed, axis=0)\n",
    "#     return Z_imputed, X_imputed"
   ]
  },
  {
   "cell_type": "code",
   "execution_count": 57,
   "id": "d2dcdb6c-99ec-4f21-a7d2-01222ad6de12",
   "metadata": {},
   "outputs": [],
   "source": [
    "# Z_imputed_interpolate, X_imputed_interpolate = interpolate_and_sample(dataloader,\n",
    "#                                                                       encoder_model, \n",
    "#                                                                       generative_model, \n",
    "#                                                                       tmax=0.9)"
   ]
  },
  {
   "cell_type": "code",
   "execution_count": 58,
   "id": "82c008fb-5cf2-46bd-b1bf-3ad3d1883bd4",
   "metadata": {},
   "outputs": [],
   "source": [
    "# np.mean(np.abs(X_imputed_interpolate.ravel()[hlca_core.uns['do_ix']] - hlca_core.layers[\"X_counts\"].A.ravel()[hlca_core.uns['do_ix']]))"
   ]
  },
  {
   "cell_type": "code",
   "execution_count": 59,
   "id": "f54df91a-bdb2-412c-a42a-ca749ccd85cf",
   "metadata": {},
   "outputs": [],
   "source": [
    "# plt.scatter(X_imputed_interpolate.ravel()[:100000], hlca_core.layers[\"X_counts\"].A.ravel()[:100000])\n",
    "# plt.title(\"Imputation CFGen\")\n",
    "# plt.xlabel(\"Predicted\")\n",
    "# plt.ylabel(\"Real\")"
   ]
  },
  {
   "cell_type": "markdown",
   "id": "a579af2b-612b-4e27-80bb-61f49d1a9816",
   "metadata": {},
   "source": [
    "### Plot together"
   ]
  },
  {
   "cell_type": "code",
   "execution_count": 66,
   "id": "3c46b471-e494-407f-bb02-c383ffe56f3e",
   "metadata": {},
   "outputs": [],
   "source": [
    "scvi_pred = imputed_counts.ravel()[non_zero_idx][:100000]\n",
    "cfg_pred = X_imputed.ravel()[non_zero_idx][:100000]\n",
    "real_counts = hlca_core.layers[\"X_counts\"].A.ravel()[non_zero_idx][:100000]"
   ]
  },
  {
   "cell_type": "code",
   "execution_count": 69,
   "id": "f3be02d9-bebf-45b5-a9b5-261fed7b7dc3",
   "metadata": {},
   "outputs": [],
   "source": [
    "# # Prepare the data for seaborn\n",
    "# data = pd.DataFrame({\n",
    "#     \"Ground truth\": np.concatenate([real_counts, real_counts]),\n",
    "#     \"Predictions\": np.concatenate([cfg_pred, scvi_pred]),\n",
    "#     \"Model\": [\"CFGen\"] * len(real_counts) + [\"scVI\"] * len(real_counts)\n",
    "# })\n",
    "\n",
    "# # Initialize the plot\n",
    "# plt.figure(figsize=(4, 4))\n",
    "\n",
    "# # Scatter plot with regression lines\n",
    "# sns.scatterplot(data=data, x=\"Predictions\", y=\"Ground truth\", hue=\"Model\", style=\"Model\", s=70)\n",
    "# sns.regplot(data=data[data[\"Model\"] == \"CFGen\"], x=\"Predictions\", y=\"Ground truth\", scatter=False, color=\"blue\", label=\"CFGen\")\n",
    "# sns.regplot(data=data[data[\"Model\"] == \"scVI\"], x=\"Predictions\", y=\"Ground truth\", scatter=False, color=\"orange\", label=\"scVI\")\n",
    "\n",
    "# # Add the y=x line (bisector)\n",
    "# plt.plot([min(real_counts), max(real_counts)], [min(real_counts), max(real_counts)],  linestyle=\"--\", linewidth=2, label=\"Bisector (y=x)\")\n",
    "\n",
    "# # Adjust plot aesthetics\n",
    "# plt.title(\"HLCA\", fontsize=14)\n",
    "# plt.xlabel(\"Predictions\", fontsize=14)\n",
    "# plt.ylabel(\"Ground truth\", fontsize=14)\n",
    "# plt.legend(bbox_to_anchor=(1.05, 1), loc='upper left')  # Place the legend outside\n",
    "# plt.axis(\"equal\")\n",
    "# # plt.tight_layout()\n",
    "# plt.savefig(\"plots/hlca_core_comparison.png\", bbox_inches='tight', format=\"png\")  # Save the figure\n",
    "# # Show the plot\n",
    "# plt.show()"
   ]
  },
  {
   "cell_type": "code",
   "execution_count": 71,
   "id": "40a3404c-d237-47d2-bd15-0bd35b42beed",
   "metadata": {},
   "outputs": [
    {
     "data": {
      "image/png": "[encoded data removed]",
      "text/plain": [
       "<Figure size 400x400 with 1 Axes>"
      ]
     },
     "metadata": {},
     "output_type": "display_data"
    }
   ],
   "source": [
    "# Prepare the data for seaborn\n",
    "data = pd.DataFrame({\n",
    "    \"Ground truth\": real_counts,\n",
    "    \"Predictions\": cfg_pred,\n",
    "    \"Model\": [\"CFGen\"] * len(real_counts) \n",
    "})\n",
    "\n",
    "# Initialize the plot\n",
    "plt.figure(figsize=(4, 4))\n",
    "\n",
    "# Scatter plot with regression lines\n",
    "sns.scatterplot(data=data, x=\"Predictions\", y=\"Ground truth\", s=70)\n",
    "sns.regplot(data=data[data[\"Model\"] == \"CFGen\"], x=\"Predictions\", y=\"Ground truth\", scatter=False, color=\"blue\", label=\"CFGen\")\n",
    "\n",
    "# Add the y=x line (bisector)\n",
    "plt.plot([min(real_counts), max(real_counts)], [min(real_counts), max(real_counts)],  linestyle=\"--\", linewidth=2, label=\"Bisector (y=x)\")\n",
    "\n",
    "# Adjust plot aesthetics\n",
    "plt.title(\"Dentate gyrus\", fontsize=14)\n",
    "plt.xlabel(\"Predictions\", fontsize=14)\n",
    "plt.ylabel(\"Ground truth\", fontsize=14)\n",
    "plt.axis(\"equal\")\n",
    "\n",
    "plt.savefig(\"plots/dentategyrus_comparison.png\",bbox_inches='tight', format=\"png\")  # Save the figure\n",
    "# Show the plot\n",
    "plt.show()"
   ]
  },
  {
   "cell_type": "markdown",
   "id": "379425f4-59f7-4961-976e-49339d477a96",
   "metadata": {},
   "source": [
    "Now make plots with multiple levels of noise "
   ]
  },
  {
   "cell_type": "code",
   "execution_count": 68,
   "id": "7a54c705-26f4-4bb4-b250-9be9630f1331",
   "metadata": {
    "scrolled": true
   },
   "outputs": [
    {
     "name": "stderr",
     "output_type": "stream",
     "text": [
      "\n",
      "0it [00:00, ?it/s]\u001b[A\n",
      "1it [00:02,  2.49s/it]\u001b[A\n",
      "2it [00:03,  1.80s/it]\u001b[A\n",
      "3it [00:05,  1.58s/it]\u001b[A\n",
      "4it [00:06,  1.47s/it]\u001b[A\n",
      "5it [00:07,  1.41s/it]\u001b[A\n",
      "6it [00:09,  1.38s/it]\u001b[A\n",
      "7it [00:10,  1.36s/it]\u001b[A\n",
      "8it [00:11,  1.34s/it]\u001b[A\n",
      "9it [00:12,  1.34s/it]\u001b[A\n",
      "10it [00:14,  1.33s/it]\u001b[A\n",
      "11it [00:15,  1.33s/it]\u001b[A\n",
      "12it [00:16,  1.33s/it]\u001b[A\n",
      "13it [00:18,  1.32s/it]\u001b[A\n",
      "14it [00:19,  1.32s/it]\u001b[A\n",
      "15it [00:20,  1.32s/it]\u001b[A\n",
      "16it [00:22,  1.32s/it]\u001b[A\n",
      "17it [00:23,  1.32s/it]\u001b[A\n",
      "18it [00:24,  1.32s/it]\u001b[A\n",
      "19it [00:26,  1.32s/it]\u001b[A\n",
      "20it [00:27,  1.32s/it]\u001b[A\n",
      "21it [00:28,  1.32s/it]\u001b[A\n",
      "22it [00:30,  1.32s/it]\u001b[A\n",
      "23it [00:31,  1.32s/it]\u001b[A\n",
      "24it [00:32,  1.33s/it]\u001b[A\n",
      "25it [00:34,  1.32s/it]\u001b[A\n",
      "26it [00:35,  1.32s/it]\u001b[A\n",
      "27it [00:36,  1.32s/it]\u001b[A\n",
      "28it [00:38,  1.32s/it]\u001b[A\n",
      "29it [00:39,  1.32s/it]\u001b[A\n",
      "30it [00:40,  1.32s/it]\u001b[A\n",
      "31it [00:42,  1.32s/it]\u001b[A\n",
      "32it [00:43,  1.32s/it]\u001b[A\n",
      "33it [00:44,  1.31s/it]\u001b[A\n",
      "34it [00:45,  1.31s/it]\u001b[A\n",
      "35it [00:47,  1.31s/it]\u001b[A\n",
      "36it [00:48,  1.33s/it]\u001b[A\n",
      "37it [00:49,  1.32s/it]\u001b[A\n",
      "38it [00:51,  1.32s/it]\u001b[A\n",
      "39it [00:52,  1.31s/it]\u001b[A\n",
      "40it [00:53,  1.31s/it]\u001b[A\n",
      "41it [00:55,  1.31s/it]\u001b[A\n",
      "42it [00:56,  1.31s/it]\u001b[A\n",
      "43it [00:57,  1.31s/it]\u001b[A\n",
      "44it [00:59,  1.31s/it]\u001b[A\n",
      "45it [01:00,  1.32s/it]\u001b[A\n",
      "46it [01:01,  1.33s/it]\u001b[A\n",
      "47it [01:03,  1.33s/it]\u001b[A\n",
      "48it [01:04,  1.34s/it]\u001b[A\n",
      "49it [01:05,  1.34s/it]\u001b[A\n",
      "50it [01:07,  1.33s/it]\u001b[A\n",
      "51it [01:08,  1.32s/it]\u001b[A\n",
      "52it [01:09,  1.32s/it]\u001b[A\n",
      "53it [01:11,  1.32s/it]\u001b[A\n",
      "54it [01:12,  1.31s/it]\u001b[A\n",
      "55it [01:13,  1.31s/it]\u001b[A\n",
      "56it [01:14,  1.31s/it]\u001b[A\n",
      "57it [01:16,  1.31s/it]\u001b[A\n",
      "58it [01:17,  1.31s/it]\u001b[A\n",
      "59it [01:18,  1.31s/it]\u001b[A\n",
      "60it [01:20,  1.32s/it]\u001b[A\n",
      "61it [01:21,  1.32s/it]\u001b[A\n",
      "62it [01:22,  1.32s/it]\u001b[A\n",
      "63it [01:24,  1.32s/it]\u001b[A\n",
      "64it [01:25,  1.32s/it]\u001b[A\n",
      "65it [01:26,  1.33s/it]\u001b[A\n",
      "66it [01:28,  1.32s/it]\u001b[A\n",
      "67it [01:29,  1.33s/it]\u001b[A\n",
      "68it [01:30,  1.33s/it]\u001b[A\n",
      "69it [01:32,  1.32s/it]\u001b[A\n",
      "70it [01:33,  1.32s/it]\u001b[A\n",
      "71it [01:34,  1.33s/it]\u001b[A\n",
      "72it [01:36,  1.33s/it]\u001b[A\n",
      "73it [01:37,  1.32s/it]\u001b[A\n",
      "74it [01:38,  1.32s/it]\u001b[A\n",
      "75it [01:40,  1.32s/it]\u001b[A\n",
      "76it [01:41,  1.32s/it]\u001b[A\n",
      "77it [01:42,  1.32s/it]\u001b[A\n",
      "78it [01:44,  1.32s/it]\u001b[A\n",
      "79it [01:45,  1.32s/it]\u001b[A\n",
      "80it [01:46,  1.32s/it]\u001b[A\n",
      "81it [01:48,  1.32s/it]\u001b[A\n",
      "82it [01:49,  1.32s/it]\u001b[A\n",
      "83it [01:50,  1.32s/it]\u001b[A\n",
      "84it [01:51,  1.32s/it]\u001b[A\n",
      "85it [01:53,  1.31s/it]\u001b[A\n",
      "86it [01:54,  1.32s/it]\u001b[A\n",
      "87it [01:55,  1.31s/it]\u001b[A\n",
      "88it [01:57,  1.31s/it]\u001b[A\n",
      "89it [01:58,  1.30s/it]\u001b[A\n",
      "90it [01:59,  1.30s/it]\u001b[A\n",
      "91it [02:01,  1.30s/it]\u001b[A\n",
      "92it [02:02,  1.30s/it]\u001b[A\n",
      "93it [02:03,  1.30s/it]\u001b[A\n",
      "94it [02:05,  1.30s/it]\u001b[A\n",
      "95it [02:06,  1.30s/it]\u001b[A\n",
      "96it [02:07,  1.30s/it]\u001b[A\n",
      "97it [02:08,  1.30s/it]\u001b[A\n",
      "98it [02:10,  1.30s/it]\u001b[A\n",
      "99it [02:11,  1.31s/it]\u001b[A\n",
      "100it [02:12,  1.30s/it]\u001b[A\n",
      "101it [02:14,  1.30s/it]\u001b[A\n",
      "102it [02:15,  1.30s/it]\u001b[A\n",
      "103it [02:16,  1.30s/it]\u001b[A\n",
      "104it [02:18,  1.30s/it]\u001b[A\n",
      "105it [02:19,  1.30s/it]\u001b[A\n",
      "106it [02:20,  1.31s/it]\u001b[A\n",
      "107it [02:21,  1.31s/it]\u001b[A\n",
      "108it [02:23,  1.31s/it]\u001b[A\n",
      "109it [02:24,  1.30s/it]\u001b[A\n",
      "110it [02:25,  1.31s/it]\u001b[A\n",
      "111it [02:27,  1.31s/it]\u001b[A\n",
      "112it [02:28,  1.31s/it]\u001b[A\n",
      "113it [02:29,  1.30s/it]\u001b[A\n",
      "114it [02:31,  1.30s/it]\u001b[A\n",
      "115it [02:32,  1.30s/it]\u001b[A\n",
      "116it [02:33,  1.30s/it]\u001b[A\n",
      "117it [02:34,  1.30s/it]\u001b[A\n",
      "118it [02:36,  1.30s/it]\u001b[A\n",
      "119it [02:37,  1.30s/it]\u001b[A\n",
      "120it [02:38,  1.30s/it]\u001b[A\n",
      "121it [02:40,  1.30s/it]\u001b[A\n",
      "122it [02:41,  1.30s/it]\u001b[A\n",
      "123it [02:42,  1.30s/it]\u001b[A\n",
      "124it [02:44,  1.30s/it]\u001b[A\n",
      "125it [02:45,  1.30s/it]\u001b[A\n",
      "126it [02:46,  1.30s/it]\u001b[A\n",
      "127it [02:47,  1.31s/it]\u001b[A\n",
      "128it [02:49,  1.31s/it]\u001b[A\n",
      "129it [02:50,  1.31s/it]\u001b[A\n",
      "130it [02:51,  1.30s/it]\u001b[A\n",
      "131it [02:53,  1.30s/it]\u001b[A\n",
      "132it [02:54,  1.30s/it]\u001b[A\n",
      "133it [02:55,  1.29s/it]\u001b[A\n",
      "134it [02:57,  1.29s/it]\u001b[A\n",
      "135it [02:58,  1.31s/it]\u001b[A\n",
      "136it [02:59,  1.32s/it]\u001b[A\n",
      "137it [03:01,  1.32s/it]\u001b[A\n",
      "138it [03:02,  1.32s/it]\u001b[A\n",
      "139it [03:03,  1.31s/it]\u001b[A\n",
      "140it [03:04,  1.30s/it]\u001b[A\n",
      "141it [03:06,  1.29s/it]\u001b[A\n",
      "142it [03:07,  1.29s/it]\u001b[A\n",
      "143it [03:08,  1.28s/it]\u001b[A\n",
      "144it [03:10,  1.28s/it]\u001b[A\n",
      "145it [03:11,  1.28s/it]\u001b[A\n",
      "146it [03:12,  1.29s/it]\u001b[A\n",
      "147it [03:13,  1.29s/it]\u001b[A\n",
      "148it [03:15,  1.30s/it]\u001b[A\n",
      "149it [03:16,  1.30s/it]\u001b[A\n",
      "150it [03:17,  1.30s/it]\u001b[A\n",
      "151it [03:19,  1.30s/it]\u001b[A\n",
      "152it [03:20,  1.30s/it]\u001b[A\n",
      "153it [03:21,  1.29s/it]\u001b[A\n",
      "154it [03:23,  1.29s/it]\u001b[A\n",
      "155it [03:24,  1.30s/it]\u001b[A\n",
      "156it [03:25,  1.30s/it]\u001b[A\n",
      "157it [03:26,  1.30s/it]\u001b[A\n",
      "158it [03:28,  1.30s/it]\u001b[A\n",
      "159it [03:29,  1.30s/it]\u001b[A\n",
      "160it [03:30,  1.29s/it]\u001b[A\n",
      "161it [03:32,  1.29s/it]\u001b[A\n",
      "162it [03:33,  1.29s/it]\u001b[A\n",
      "163it [03:34,  1.31s/it]\u001b[A\n",
      "164it [03:36,  1.30s/it]\u001b[A\n",
      "165it [03:37,  1.30s/it]\u001b[A\n",
      "166it [03:38,  1.31s/it]\u001b[A\n",
      "167it [03:39,  1.32s/it]\u001b[A\n",
      "168it [03:41,  1.32s/it]\u001b[A\n",
      "169it [03:42,  1.31s/it]\u001b[A\n",
      "170it [03:43,  1.31s/it]\u001b[A\n",
      "171it [03:45,  1.30s/it]\u001b[A\n",
      "172it [03:46,  1.30s/it]\u001b[A\n",
      "173it [03:47,  1.30s/it]\u001b[A\n",
      "174it [03:49,  1.29s/it]\u001b[A\n",
      "175it [03:50,  1.29s/it]\u001b[A\n",
      "176it [03:51,  1.29s/it]\u001b[A\n",
      "177it [03:52,  1.28s/it]\u001b[A\n",
      "178it [03:54,  1.29s/it]\u001b[A\n",
      "179it [03:55,  1.29s/it]\u001b[A\n",
      "180it [03:56,  1.29s/it]\u001b[A\n",
      "181it [03:58,  1.29s/it]\u001b[A\n",
      "182it [03:59,  1.30s/it]\u001b[A\n",
      "183it [04:00,  1.30s/it]\u001b[A\n",
      "184it [04:01,  1.30s/it]\u001b[A\n",
      "185it [04:03,  1.29s/it]\u001b[A\n",
      "186it [04:04,  1.30s/it]\u001b[A\n",
      "187it [04:05,  1.30s/it]\u001b[A\n",
      "188it [04:07,  1.30s/it]\u001b[A\n",
      "189it [04:08,  1.30s/it]\u001b[A\n",
      "190it [04:09,  1.30s/it]\u001b[A\n",
      "191it [04:11,  1.30s/it]\u001b[A\n",
      "192it [04:12,  1.31s/it]\u001b[A\n",
      "193it [04:13,  1.31s/it]\u001b[A\n",
      "194it [04:15,  1.31s/it]\u001b[A\n",
      "195it [04:16,  1.31s/it]\u001b[A\n",
      "196it [04:17,  1.32s/it]\u001b[A\n"
     ]
    },
    {
     "data": {
      "image/png": "[encoded data removed]",
      "text/plain": [
       "<Figure size 300x300 with 1 Axes>"
      ]
     },
     "metadata": {},
     "output_type": "display_data"
    },
    {
     "name": "stdout",
     "output_type": "stream",
     "text": [
      "SignificanceResult(statistic=0.8299533954270547, pvalue=0.0)\n",
      "3.3693445\n"
     ]
    },
    {
     "name": "stderr",
     "output_type": "stream",
     "text": [
      "\n",
      "0it [00:00, ?it/s]\u001b[A\n",
      "1it [00:01,  1.40s/it]\u001b[A\n",
      "2it [00:02,  1.33s/it]\u001b[A\n",
      "3it [00:03,  1.31s/it]\u001b[A\n",
      "4it [00:05,  1.31s/it]\u001b[A\n",
      "5it [00:06,  1.30s/it]\u001b[A\n",
      "6it [00:07,  1.30s/it]\u001b[A\n",
      "7it [00:09,  1.29s/it]\u001b[A\n",
      "8it [00:10,  1.34s/it]\u001b[A\n",
      "9it [00:12,  1.37s/it]\u001b[A\n",
      "10it [00:13,  1.38s/it]\u001b[A\n",
      "11it [00:14,  1.36s/it]\u001b[A\n",
      "12it [00:16,  1.34s/it]\u001b[A\n",
      "13it [00:17,  1.33s/it]\u001b[A\n",
      "14it [00:18,  1.32s/it]\u001b[A\n",
      "15it [00:19,  1.31s/it]\u001b[A\n",
      "16it [00:21,  1.31s/it]\u001b[A\n",
      "17it [00:22,  1.30s/it]\u001b[A\n",
      "18it [00:23,  1.30s/it]\u001b[A\n",
      "19it [00:25,  1.30s/it]\u001b[A\n",
      "20it [00:26,  1.29s/it]\u001b[A\n",
      "21it [00:27,  1.29s/it]\u001b[A\n",
      "22it [00:28,  1.29s/it]\u001b[A\n",
      "23it [00:30,  1.29s/it]\u001b[A\n",
      "24it [00:31,  1.29s/it]\u001b[A\n",
      "25it [00:32,  1.29s/it]\u001b[A\n",
      "26it [00:34,  1.30s/it]\u001b[A\n",
      "27it [00:35,  1.30s/it]\u001b[A\n",
      "28it [00:36,  1.30s/it]\u001b[A\n",
      "29it [00:38,  1.30s/it]\u001b[A\n",
      "30it [00:39,  1.30s/it]\u001b[A\n",
      "31it [00:40,  1.34s/it]\u001b[A\n",
      "32it [00:42,  1.34s/it]\u001b[A\n",
      "33it [00:43,  1.35s/it]\u001b[A\n",
      "34it [00:44,  1.35s/it]\u001b[A\n",
      "35it [00:46,  1.35s/it]\u001b[A\n",
      "36it [00:47,  1.36s/it]\u001b[A\n",
      "37it [00:48,  1.36s/it]\u001b[A\n",
      "38it [00:50,  1.36s/it]\u001b[A\n",
      "39it [00:51,  1.35s/it]\u001b[A\n",
      "40it [00:52,  1.35s/it]\u001b[A\n",
      "41it [00:54,  1.34s/it]\u001b[A\n",
      "42it [00:55,  1.32s/it]\u001b[A\n",
      "43it [00:56,  1.31s/it]\u001b[A\n",
      "44it [00:58,  1.30s/it]\u001b[A\n",
      "45it [00:59,  1.29s/it]\u001b[A\n",
      "46it [01:00,  1.28s/it]\u001b[A\n",
      "47it [01:01,  1.28s/it]\u001b[A\n",
      "48it [01:03,  1.30s/it]\u001b[A\n",
      "49it [01:04,  1.30s/it]\u001b[A\n",
      "50it [01:05,  1.30s/it]\u001b[A\n",
      "51it [01:07,  1.30s/it]\u001b[A\n",
      "52it [01:08,  1.29s/it]\u001b[A\n",
      "53it [01:09,  1.29s/it]\u001b[A\n",
      "54it [01:11,  1.29s/it]\u001b[A\n",
      "55it [01:12,  1.29s/it]\u001b[A\n",
      "56it [01:13,  1.29s/it]\u001b[A\n",
      "57it [01:14,  1.29s/it]\u001b[A\n",
      "58it [01:16,  1.29s/it]\u001b[A\n",
      "59it [01:17,  1.29s/it]\u001b[A\n",
      "60it [01:18,  1.29s/it]\u001b[A\n",
      "61it [01:20,  1.30s/it]\u001b[A\n",
      "62it [01:21,  1.30s/it]\u001b[A\n",
      "63it [01:22,  1.30s/it]\u001b[A\n",
      "64it [01:23,  1.30s/it]\u001b[A\n",
      "65it [01:25,  1.30s/it]\u001b[A\n",
      "66it [01:26,  1.30s/it]\u001b[A\n",
      "67it [01:27,  1.30s/it]\u001b[A\n",
      "68it [01:29,  1.30s/it]\u001b[A\n",
      "69it [01:30,  1.30s/it]\u001b[A\n",
      "70it [01:31,  1.30s/it]\u001b[A\n",
      "71it [01:33,  1.30s/it]\u001b[A\n",
      "72it [01:34,  1.30s/it]\u001b[A\n",
      "73it [01:35,  1.30s/it]\u001b[A\n",
      "74it [01:36,  1.30s/it]\u001b[A\n",
      "75it [01:38,  1.29s/it]\u001b[A\n",
      "76it [01:39,  1.30s/it]\u001b[A\n",
      "77it [01:40,  1.30s/it]\u001b[A\n",
      "78it [01:42,  1.29s/it]\u001b[A\n",
      "79it [01:43,  1.29s/it]\u001b[A\n",
      "80it [01:44,  1.29s/it]\u001b[A\n",
      "81it [01:45,  1.29s/it]\u001b[A\n",
      "82it [01:47,  1.30s/it]\u001b[A\n",
      "83it [01:48,  1.30s/it]\u001b[A\n",
      "84it [01:49,  1.30s/it]\u001b[A\n",
      "85it [01:51,  1.30s/it]\u001b[A\n",
      "86it [01:52,  1.30s/it]\u001b[A\n",
      "87it [01:53,  1.30s/it]\u001b[A\n",
      "88it [01:55,  1.30s/it]\u001b[A\n",
      "89it [01:56,  1.30s/it]\u001b[A\n",
      "90it [01:57,  1.30s/it]\u001b[A\n",
      "91it [01:58,  1.29s/it]\u001b[A\n",
      "92it [02:00,  1.29s/it]\u001b[A\n",
      "93it [02:01,  1.30s/it]\u001b[A\n",
      "94it [02:02,  1.30s/it]\u001b[A\n",
      "95it [02:04,  1.30s/it]\u001b[A\n",
      "96it [02:05,  1.29s/it]\u001b[A\n",
      "97it [02:06,  1.30s/it]\u001b[A\n",
      "98it [02:08,  1.30s/it]\u001b[A\n",
      "99it [02:09,  1.30s/it]\u001b[A\n",
      "100it [02:10,  1.30s/it]\u001b[A\n",
      "101it [02:11,  1.31s/it]\u001b[A\n",
      "102it [02:13,  1.31s/it]\u001b[A\n",
      "103it [02:14,  1.31s/it]\u001b[A\n",
      "104it [02:15,  1.31s/it]\u001b[A\n",
      "105it [02:17,  1.31s/it]\u001b[A\n",
      "106it [02:18,  1.31s/it]\u001b[A\n",
      "107it [02:19,  1.31s/it]\u001b[A\n",
      "108it [02:21,  1.32s/it]\u001b[A\n",
      "109it [02:22,  1.32s/it]\u001b[A\n",
      "110it [02:23,  1.32s/it]\u001b[A\n",
      "111it [02:25,  1.32s/it]\u001b[A\n",
      "112it [02:26,  1.32s/it]\u001b[A\n",
      "113it [02:27,  1.32s/it]\u001b[A\n",
      "114it [02:29,  1.31s/it]\u001b[A\n",
      "115it [02:30,  1.32s/it]\u001b[A\n",
      "116it [02:31,  1.31s/it]\u001b[A\n",
      "117it [02:33,  1.31s/it]\u001b[A\n",
      "118it [02:34,  1.31s/it]\u001b[A\n",
      "119it [02:35,  1.31s/it]\u001b[A\n",
      "120it [02:36,  1.31s/it]\u001b[A\n",
      "121it [02:38,  1.31s/it]\u001b[A\n",
      "122it [02:39,  1.31s/it]\u001b[A\n",
      "123it [02:40,  1.31s/it]\u001b[A\n",
      "124it [02:42,  1.31s/it]\u001b[A\n",
      "125it [02:43,  1.31s/it]\u001b[A\n",
      "126it [02:44,  1.31s/it]\u001b[A\n",
      "127it [02:46,  1.31s/it]\u001b[A\n",
      "128it [02:47,  1.31s/it]\u001b[A\n",
      "129it [02:48,  1.31s/it]\u001b[A\n",
      "130it [02:50,  1.31s/it]\u001b[A\n",
      "131it [02:51,  1.31s/it]\u001b[A\n",
      "132it [02:52,  1.31s/it]\u001b[A\n",
      "133it [02:53,  1.30s/it]\u001b[A\n",
      "134it [02:55,  1.30s/it]\u001b[A\n",
      "135it [02:56,  1.32s/it]\u001b[A\n",
      "136it [02:57,  1.32s/it]\u001b[A\n",
      "137it [02:59,  1.32s/it]\u001b[A\n",
      "138it [03:00,  1.32s/it]\u001b[A\n",
      "139it [03:01,  1.31s/it]\u001b[A\n",
      "140it [03:03,  1.31s/it]\u001b[A\n",
      "141it [03:04,  1.31s/it]\u001b[A\n",
      "142it [03:05,  1.31s/it]\u001b[A\n",
      "143it [03:07,  1.31s/it]\u001b[A\n",
      "144it [03:08,  1.31s/it]\u001b[A\n",
      "145it [03:09,  1.31s/it]\u001b[A\n",
      "146it [03:11,  1.31s/it]\u001b[A\n",
      "147it [03:12,  1.31s/it]\u001b[A\n",
      "148it [03:13,  1.31s/it]\u001b[A\n",
      "149it [03:14,  1.31s/it]\u001b[A\n",
      "150it [03:16,  1.31s/it]\u001b[A\n",
      "151it [03:17,  1.31s/it]\u001b[A\n",
      "152it [03:18,  1.31s/it]\u001b[A\n",
      "153it [03:20,  1.31s/it]\u001b[A\n",
      "154it [03:21,  1.31s/it]\u001b[A\n",
      "155it [03:22,  1.31s/it]\u001b[A\n",
      "156it [03:24,  1.31s/it]\u001b[A\n",
      "157it [03:25,  1.31s/it]\u001b[A\n",
      "158it [03:26,  1.30s/it]\u001b[A\n",
      "159it [03:28,  1.30s/it]\u001b[A\n",
      "160it [03:29,  1.31s/it]\u001b[A\n",
      "161it [03:30,  1.31s/it]\u001b[A\n",
      "162it [03:31,  1.31s/it]\u001b[A\n",
      "163it [03:33,  1.32s/it]\u001b[A\n",
      "164it [03:34,  1.32s/it]\u001b[A\n",
      "165it [03:35,  1.31s/it]\u001b[A\n",
      "166it [03:37,  1.31s/it]\u001b[A\n",
      "167it [03:38,  1.33s/it]\u001b[A\n",
      "168it [03:39,  1.32s/it]\u001b[A\n",
      "169it [03:41,  1.32s/it]\u001b[A\n",
      "170it [03:42,  1.32s/it]\u001b[A\n",
      "171it [03:43,  1.31s/it]\u001b[A\n",
      "172it [03:45,  1.31s/it]\u001b[A\n",
      "173it [03:46,  1.31s/it]\u001b[A\n",
      "174it [03:47,  1.31s/it]\u001b[A\n",
      "175it [03:49,  1.31s/it]\u001b[A\n",
      "176it [03:50,  1.31s/it]\u001b[A\n",
      "177it [03:51,  1.31s/it]\u001b[A\n",
      "178it [03:52,  1.31s/it]\u001b[A\n",
      "179it [03:54,  1.31s/it]\u001b[A\n",
      "180it [03:55,  1.31s/it]\u001b[A\n",
      "181it [03:56,  1.31s/it]\u001b[A\n",
      "182it [03:58,  1.31s/it]\u001b[A\n",
      "183it [03:59,  1.31s/it]\u001b[A\n",
      "184it [04:00,  1.31s/it]\u001b[A\n",
      "185it [04:02,  1.31s/it]\u001b[A\n",
      "186it [04:03,  1.32s/it]\u001b[A\n",
      "187it [04:04,  1.32s/it]\u001b[A\n",
      "188it [04:06,  1.32s/it]\u001b[A\n",
      "189it [04:07,  1.31s/it]\u001b[A\n",
      "190it [04:08,  1.31s/it]\u001b[A\n",
      "191it [04:10,  1.32s/it]\u001b[A\n",
      "192it [04:11,  1.32s/it]\u001b[A\n",
      "193it [04:12,  1.32s/it]\u001b[A\n",
      "194it [04:14,  1.31s/it]\u001b[A\n",
      "195it [04:15,  1.31s/it]\u001b[A\n",
      "196it [04:16,  1.31s/it]\u001b[A\n"
     ]
    },
    {
     "data": {
      "image/png": "[encoded data removed]",
      "text/plain": [
       "<Figure size 300x300 with 1 Axes>"
      ]
     },
     "metadata": {},
     "output_type": "display_data"
    },
    {
     "name": "stdout",
     "output_type": "stream",
     "text": [
      "SignificanceResult(statistic=0.8299283082727883, pvalue=0.0)\n",
      "3.3704214\n"
     ]
    },
    {
     "name": "stderr",
     "output_type": "stream",
     "text": [
      "\n",
      "0it [00:00, ?it/s]\u001b[A\n",
      "1it [00:01,  1.53s/it]\u001b[A\n",
      "2it [00:02,  1.39s/it]\u001b[A\n",
      "3it [00:04,  1.35s/it]\u001b[A\n",
      "4it [00:05,  1.34s/it]\u001b[A\n",
      "5it [00:06,  1.32s/it]\u001b[A\n",
      "6it [00:08,  1.31s/it]\u001b[A\n",
      "7it [00:09,  1.31s/it]\u001b[A\n",
      "8it [00:10,  1.31s/it]\u001b[A\n",
      "9it [00:11,  1.31s/it]\u001b[A\n",
      "10it [00:13,  1.31s/it]\u001b[A\n",
      "11it [00:14,  1.31s/it]\u001b[A\n",
      "12it [00:15,  1.31s/it]\u001b[A\n",
      "13it [00:17,  1.31s/it]\u001b[A\n",
      "14it [00:18,  1.31s/it]\u001b[A\n",
      "15it [00:19,  1.31s/it]\u001b[A\n",
      "16it [00:21,  1.31s/it]\u001b[A\n",
      "17it [00:22,  1.31s/it]\u001b[A\n",
      "18it [00:23,  1.31s/it]\u001b[A\n",
      "19it [00:25,  1.31s/it]\u001b[A\n",
      "20it [00:26,  1.31s/it]\u001b[A\n",
      "21it [00:27,  1.32s/it]\u001b[A\n",
      "22it [00:28,  1.31s/it]\u001b[A\n",
      "23it [00:30,  1.31s/it]\u001b[A\n",
      "24it [00:31,  1.31s/it]\u001b[A\n",
      "25it [00:32,  1.30s/it]\u001b[A\n",
      "26it [00:34,  1.31s/it]\u001b[A\n",
      "27it [00:35,  1.31s/it]\u001b[A\n",
      "28it [00:36,  1.31s/it]\u001b[A\n",
      "29it [00:38,  1.31s/it]\u001b[A\n",
      "30it [00:39,  1.31s/it]\u001b[A\n",
      "31it [00:40,  1.31s/it]\u001b[A\n",
      "32it [00:42,  1.31s/it]\u001b[A\n",
      "33it [00:43,  1.31s/it]\u001b[A\n",
      "34it [00:44,  1.31s/it]\u001b[A\n",
      "35it [00:45,  1.31s/it]\u001b[A\n",
      "36it [00:47,  1.32s/it]\u001b[A\n",
      "37it [00:48,  1.32s/it]\u001b[A\n",
      "38it [00:49,  1.32s/it]\u001b[A\n",
      "39it [00:51,  1.31s/it]\u001b[A\n",
      "40it [00:52,  1.31s/it]\u001b[A\n",
      "41it [00:53,  1.31s/it]\u001b[A\n",
      "42it [00:55,  1.31s/it]\u001b[A\n",
      "43it [00:56,  1.31s/it]\u001b[A\n",
      "44it [00:57,  1.31s/it]\u001b[A\n",
      "45it [00:59,  1.31s/it]\u001b[A\n",
      "46it [01:00,  1.30s/it]\u001b[A\n",
      "47it [01:01,  1.30s/it]\u001b[A\n",
      "48it [01:03,  1.31s/it]\u001b[A\n",
      "49it [01:04,  1.31s/it]\u001b[A\n",
      "50it [01:05,  1.31s/it]\u001b[A\n",
      "51it [01:06,  1.32s/it]\u001b[A\n",
      "52it [01:08,  1.32s/it]\u001b[A\n",
      "53it [01:09,  1.32s/it]\u001b[A\n",
      "54it [01:10,  1.31s/it]\u001b[A\n",
      "55it [01:12,  1.31s/it]\u001b[A\n",
      "56it [01:13,  1.31s/it]\u001b[A\n",
      "57it [01:14,  1.31s/it]\u001b[A\n",
      "58it [01:16,  1.31s/it]\u001b[A\n",
      "59it [01:17,  1.31s/it]\u001b[A\n",
      "60it [01:18,  1.31s/it]\u001b[A\n",
      "61it [01:20,  1.31s/it]\u001b[A\n",
      "62it [01:21,  1.31s/it]\u001b[A\n",
      "63it [01:22,  1.31s/it]\u001b[A\n",
      "64it [01:24,  1.31s/it]\u001b[A\n",
      "65it [01:25,  1.31s/it]\u001b[A\n",
      "66it [01:26,  1.31s/it]\u001b[A\n",
      "67it [01:27,  1.32s/it]\u001b[A\n",
      "68it [01:29,  1.32s/it]\u001b[A\n",
      "69it [01:30,  1.31s/it]\u001b[A\n",
      "70it [01:31,  1.31s/it]\u001b[A\n",
      "71it [01:33,  1.31s/it]\u001b[A\n",
      "72it [01:34,  1.31s/it]\u001b[A\n",
      "73it [01:35,  1.31s/it]\u001b[A\n",
      "74it [01:37,  1.31s/it]\u001b[A\n",
      "75it [01:38,  1.31s/it]\u001b[A\n",
      "76it [01:39,  1.31s/it]\u001b[A\n",
      "77it [01:41,  1.31s/it]\u001b[A\n",
      "78it [01:42,  1.31s/it]\u001b[A\n",
      "79it [01:43,  1.31s/it]\u001b[A\n",
      "80it [01:44,  1.31s/it]\u001b[A\n",
      "81it [01:46,  1.31s/it]\u001b[A\n",
      "82it [01:47,  1.31s/it]\u001b[A\n",
      "83it [01:48,  1.32s/it]\u001b[A\n",
      "84it [01:50,  1.32s/it]\u001b[A\n",
      "85it [01:51,  1.32s/it]\u001b[A\n",
      "86it [01:52,  1.32s/it]\u001b[A\n",
      "87it [01:54,  1.32s/it]\u001b[A\n",
      "88it [01:55,  1.32s/it]\u001b[A\n",
      "89it [01:56,  1.31s/it]\u001b[A\n",
      "90it [01:58,  1.31s/it]\u001b[A\n",
      "91it [01:59,  1.31s/it]\u001b[A\n",
      "92it [02:00,  1.31s/it]\u001b[A\n",
      "93it [02:02,  1.31s/it]\u001b[A\n",
      "94it [02:03,  1.31s/it]\u001b[A\n",
      "95it [02:04,  1.31s/it]\u001b[A\n",
      "96it [02:05,  1.31s/it]\u001b[A\n",
      "97it [02:07,  1.31s/it]\u001b[A\n",
      "98it [02:08,  1.32s/it]\u001b[A\n",
      "99it [02:09,  1.32s/it]\u001b[A\n",
      "100it [02:11,  1.31s/it]\u001b[A\n",
      "101it [02:12,  1.31s/it]\u001b[A\n",
      "102it [02:13,  1.30s/it]\u001b[A\n",
      "103it [02:15,  1.30s/it]\u001b[A\n",
      "104it [02:16,  1.30s/it]\u001b[A\n",
      "105it [02:17,  1.30s/it]\u001b[A\n",
      "106it [02:19,  1.30s/it]\u001b[A\n",
      "107it [02:20,  1.30s/it]\u001b[A\n",
      "108it [02:21,  1.30s/it]\u001b[A\n",
      "109it [02:22,  1.30s/it]\u001b[A\n",
      "110it [02:24,  1.30s/it]\u001b[A\n",
      "111it [02:25,  1.30s/it]\u001b[A\n",
      "112it [02:26,  1.30s/it]\u001b[A\n",
      "113it [02:28,  1.30s/it]\u001b[A\n",
      "114it [02:29,  1.30s/it]\u001b[A\n",
      "115it [02:30,  1.30s/it]\u001b[A\n",
      "116it [02:32,  1.30s/it]\u001b[A\n",
      "117it [02:33,  1.30s/it]\u001b[A\n",
      "118it [02:34,  1.30s/it]\u001b[A\n",
      "119it [02:35,  1.30s/it]\u001b[A\n",
      "120it [02:37,  1.30s/it]\u001b[A\n",
      "121it [02:38,  1.30s/it]\u001b[A\n",
      "122it [02:39,  1.30s/it]\u001b[A\n",
      "123it [02:41,  1.30s/it]\u001b[A\n",
      "124it [02:42,  1.30s/it]\u001b[A\n",
      "125it [02:43,  1.30s/it]\u001b[A\n",
      "126it [02:45,  1.30s/it]\u001b[A\n",
      "127it [02:46,  1.30s/it]\u001b[A\n",
      "128it [02:47,  1.30s/it]\u001b[A\n",
      "129it [02:48,  1.30s/it]\u001b[A\n",
      "130it [02:50,  1.30s/it]\u001b[A\n",
      "131it [02:51,  1.30s/it]\u001b[A\n",
      "132it [02:52,  1.30s/it]\u001b[A\n",
      "133it [02:54,  1.30s/it]\u001b[A\n",
      "134it [02:55,  1.30s/it]\u001b[A\n",
      "135it [02:56,  1.31s/it]\u001b[A\n",
      "136it [02:58,  1.32s/it]\u001b[A\n",
      "137it [02:59,  1.31s/it]\u001b[A\n",
      "138it [03:00,  1.31s/it]\u001b[A\n",
      "139it [03:02,  1.31s/it]\u001b[A\n",
      "140it [03:03,  1.30s/it]\u001b[A\n",
      "141it [03:04,  1.30s/it]\u001b[A\n",
      "142it [03:05,  1.30s/it]\u001b[A\n",
      "143it [03:07,  1.30s/it]\u001b[A\n",
      "144it [03:08,  1.30s/it]\u001b[A\n",
      "145it [03:09,  1.31s/it]\u001b[A\n",
      "146it [03:11,  1.31s/it]\u001b[A\n",
      "147it [03:12,  1.30s/it]\u001b[A\n",
      "148it [03:13,  1.30s/it]\u001b[A\n",
      "149it [03:15,  1.30s/it]\u001b[A\n",
      "150it [03:16,  1.30s/it]\u001b[A\n",
      "151it [03:17,  1.30s/it]\u001b[A\n",
      "152it [03:18,  1.30s/it]\u001b[A\n",
      "153it [03:20,  1.30s/it]\u001b[A\n",
      "154it [03:21,  1.30s/it]\u001b[A\n",
      "155it [03:22,  1.31s/it]\u001b[A\n",
      "156it [03:24,  1.30s/it]\u001b[A\n",
      "157it [03:25,  1.30s/it]\u001b[A\n",
      "158it [03:26,  1.30s/it]\u001b[A\n",
      "159it [03:28,  1.30s/it]\u001b[A\n",
      "160it [03:29,  1.30s/it]\u001b[A\n",
      "161it [03:30,  1.30s/it]\u001b[A\n",
      "162it [03:31,  1.30s/it]\u001b[A\n",
      "163it [03:33,  1.31s/it]\u001b[A\n",
      "164it [03:34,  1.31s/it]\u001b[A\n",
      "165it [03:35,  1.31s/it]\u001b[A\n",
      "166it [03:37,  1.30s/it]\u001b[A\n",
      "167it [03:38,  1.32s/it]\u001b[A\n",
      "168it [03:39,  1.31s/it]\u001b[A\n",
      "169it [03:41,  1.31s/it]\u001b[A\n",
      "170it [03:42,  1.31s/it]\u001b[A\n",
      "171it [03:43,  1.30s/it]\u001b[A\n",
      "172it [03:45,  1.30s/it]\u001b[A\n",
      "173it [03:46,  1.30s/it]\u001b[A\n",
      "174it [03:47,  1.30s/it]\u001b[A\n",
      "175it [03:48,  1.31s/it]\u001b[A\n",
      "176it [03:50,  1.31s/it]\u001b[A\n",
      "177it [03:51,  1.31s/it]\u001b[A\n",
      "178it [03:52,  1.32s/it]\u001b[A\n",
      "179it [03:54,  1.31s/it]\u001b[A\n",
      "180it [03:55,  1.31s/it]\u001b[A\n",
      "181it [03:56,  1.31s/it]\u001b[A\n",
      "182it [03:58,  1.30s/it]\u001b[A\n",
      "183it [03:59,  1.30s/it]\u001b[A\n",
      "184it [04:00,  1.30s/it]\u001b[A\n",
      "185it [04:01,  1.30s/it]\u001b[A\n",
      "186it [04:03,  1.31s/it]\u001b[A\n",
      "187it [04:04,  1.31s/it]\u001b[A\n",
      "188it [04:05,  1.30s/it]\u001b[A\n",
      "189it [04:07,  1.30s/it]\u001b[A\n",
      "190it [04:08,  1.30s/it]\u001b[A\n",
      "191it [04:09,  1.30s/it]\u001b[A\n",
      "192it [04:11,  1.30s/it]\u001b[A\n",
      "193it [04:12,  1.31s/it]\u001b[A\n",
      "194it [04:13,  1.31s/it]\u001b[A\n",
      "195it [04:15,  1.30s/it]\u001b[A\n",
      "196it [04:16,  1.31s/it]\u001b[A\n"
     ]
    },
    {
     "data": {
      "image/png": "[encoded data removed]",
      "text/plain": [
       "<Figure size 300x300 with 1 Axes>"
      ]
     },
     "metadata": {},
     "output_type": "display_data"
    },
    {
     "name": "stdout",
     "output_type": "stream",
     "text": [
      "SignificanceResult(statistic=0.8277090862870894, pvalue=0.0)\n",
      "3.4466138\n"
     ]
    },
    {
     "name": "stderr",
     "output_type": "stream",
     "text": [
      "\n",
      "0it [00:00, ?it/s]\u001b[A\n",
      "1it [00:01,  1.40s/it]\u001b[A\n",
      "2it [00:02,  1.33s/it]\u001b[A\n",
      "3it [00:03,  1.31s/it]\u001b[A\n",
      "4it [00:05,  1.30s/it]\u001b[A\n",
      "5it [00:06,  1.29s/it]\u001b[A\n",
      "6it [00:07,  1.29s/it]\u001b[A\n",
      "7it [00:09,  1.29s/it]\u001b[A\n",
      "8it [00:10,  1.28s/it]\u001b[A\n",
      "9it [00:11,  1.28s/it]\u001b[A\n",
      "10it [00:12,  1.29s/it]\u001b[A\n",
      "11it [00:14,  1.29s/it]\u001b[A\n",
      "12it [00:15,  1.29s/it]\u001b[A\n",
      "13it [00:16,  1.29s/it]\u001b[A\n",
      "14it [00:18,  1.33s/it]\u001b[A\n",
      "15it [00:19,  1.32s/it]\u001b[A\n",
      "16it [00:20,  1.31s/it]\u001b[A\n",
      "17it [00:24,  1.94s/it]\u001b[A\n",
      "18it [00:25,  1.81s/it]\u001b[A\n",
      "19it [00:27,  1.65s/it]\u001b[A\n",
      "20it [00:28,  1.54s/it]\u001b[A\n",
      "21it [00:29,  1.46s/it]\u001b[A\n",
      "22it [00:30,  1.40s/it]\u001b[A\n",
      "23it [00:32,  1.37s/it]\u001b[A\n",
      "24it [00:33,  1.34s/it]\u001b[A\n",
      "25it [00:34,  1.34s/it]\u001b[A\n",
      "26it [00:36,  1.33s/it]\u001b[A\n",
      "27it [00:37,  1.31s/it]\u001b[A\n",
      "28it [00:38,  1.30s/it]\u001b[A\n",
      "29it [00:39,  1.29s/it]\u001b[A\n",
      "30it [00:41,  1.28s/it]\u001b[A\n",
      "31it [00:42,  1.28s/it]\u001b[A\n",
      "32it [00:43,  1.28s/it]\u001b[A\n",
      "33it [00:44,  1.28s/it]\u001b[A\n",
      "34it [00:46,  1.28s/it]\u001b[A\n",
      "35it [00:47,  1.28s/it]\u001b[A\n",
      "36it [00:48,  1.29s/it]\u001b[A\n",
      "37it [00:50,  1.29s/it]\u001b[A\n",
      "38it [00:51,  1.28s/it]\u001b[A\n",
      "39it [00:52,  1.28s/it]\u001b[A\n",
      "40it [00:53,  1.28s/it]\u001b[A\n",
      "41it [00:55,  1.28s/it]\u001b[A\n",
      "42it [00:56,  1.28s/it]\u001b[A\n",
      "43it [00:57,  1.28s/it]\u001b[A\n",
      "44it [00:59,  1.28s/it]\u001b[A\n",
      "45it [01:00,  1.28s/it]\u001b[A\n",
      "46it [01:01,  1.27s/it]\u001b[A\n",
      "47it [01:02,  1.27s/it]\u001b[A\n",
      "48it [01:04,  1.29s/it]\u001b[A\n",
      "49it [01:05,  1.28s/it]\u001b[A\n",
      "50it [01:06,  1.28s/it]\u001b[A\n",
      "51it [01:07,  1.28s/it]\u001b[A\n",
      "52it [01:09,  1.28s/it]\u001b[A\n",
      "53it [01:10,  1.28s/it]\u001b[A\n",
      "54it [01:11,  1.29s/it]\u001b[A\n",
      "55it [01:13,  1.30s/it]\u001b[A\n",
      "56it [01:14,  1.30s/it]\u001b[A\n",
      "57it [01:15,  1.30s/it]\u001b[A\n",
      "58it [01:17,  1.30s/it]\u001b[A\n",
      "59it [01:18,  1.30s/it]\u001b[A\n",
      "60it [01:19,  1.30s/it]\u001b[A\n",
      "61it [01:20,  1.30s/it]\u001b[A\n",
      "62it [01:22,  1.30s/it]\u001b[A\n",
      "63it [01:23,  1.30s/it]\u001b[A\n",
      "64it [01:24,  1.30s/it]\u001b[A\n",
      "65it [01:26,  1.30s/it]\u001b[A\n",
      "66it [01:27,  1.29s/it]\u001b[A\n",
      "67it [01:28,  1.29s/it]\u001b[A\n",
      "68it [01:30,  1.30s/it]\u001b[A\n",
      "69it [01:31,  1.30s/it]\u001b[A\n",
      "70it [01:32,  1.30s/it]\u001b[A\n",
      "71it [01:33,  1.30s/it]\u001b[A\n",
      "72it [01:35,  1.30s/it]\u001b[A\n",
      "73it [01:36,  1.30s/it]\u001b[A\n",
      "74it [01:37,  1.30s/it]\u001b[A\n",
      "75it [01:39,  1.30s/it]\u001b[A\n",
      "76it [01:40,  1.30s/it]\u001b[A\n",
      "77it [01:41,  1.30s/it]\u001b[A\n",
      "78it [01:43,  1.31s/it]\u001b[A\n",
      "79it [01:44,  1.31s/it]\u001b[A\n",
      "80it [01:45,  1.31s/it]\u001b[A\n",
      "81it [01:47,  1.30s/it]\u001b[A\n",
      "82it [01:48,  1.31s/it]\u001b[A\n",
      "83it [01:49,  1.31s/it]\u001b[A\n",
      "84it [01:50,  1.31s/it]\u001b[A\n",
      "85it [01:52,  1.30s/it]\u001b[A\n",
      "86it [01:53,  1.30s/it]\u001b[A\n",
      "87it [01:54,  1.30s/it]\u001b[A\n",
      "88it [01:56,  1.29s/it]\u001b[A\n",
      "89it [01:57,  1.29s/it]\u001b[A\n",
      "90it [01:58,  1.28s/it]\u001b[A\n",
      "91it [01:59,  1.28s/it]\u001b[A\n",
      "92it [02:01,  1.28s/it]\u001b[A\n",
      "93it [02:02,  1.28s/it]\u001b[A\n",
      "94it [02:03,  1.28s/it]\u001b[A\n",
      "95it [02:05,  1.28s/it]\u001b[A\n",
      "96it [02:06,  1.28s/it]\u001b[A\n",
      "97it [02:07,  1.28s/it]\u001b[A\n",
      "98it [02:08,  1.28s/it]\u001b[A\n",
      "99it [02:10,  1.28s/it]\u001b[A\n",
      "100it [02:11,  1.28s/it]\u001b[A\n",
      "101it [02:12,  1.28s/it]\u001b[A\n",
      "102it [02:13,  1.28s/it]\u001b[A\n",
      "103it [02:15,  1.28s/it]\u001b[A\n",
      "104it [02:16,  1.29s/it]\u001b[A\n",
      "105it [02:17,  1.29s/it]\u001b[A\n",
      "106it [02:19,  1.29s/it]\u001b[A\n",
      "107it [02:20,  1.30s/it]\u001b[A\n",
      "108it [02:21,  1.30s/it]\u001b[A\n",
      "109it [02:23,  1.30s/it]\u001b[A\n",
      "110it [02:24,  1.30s/it]\u001b[A\n",
      "111it [02:25,  1.30s/it]\u001b[A\n",
      "112it [02:27,  1.31s/it]\u001b[A\n",
      "113it [02:28,  1.30s/it]\u001b[A\n",
      "114it [02:29,  1.30s/it]\u001b[A\n",
      "115it [02:30,  1.30s/it]\u001b[A\n",
      "116it [02:32,  1.30s/it]\u001b[A\n",
      "117it [02:33,  1.30s/it]\u001b[A\n",
      "118it [02:34,  1.30s/it]\u001b[A\n",
      "119it [02:36,  1.30s/it]\u001b[A\n",
      "120it [02:37,  1.30s/it]\u001b[A\n",
      "121it [02:38,  1.30s/it]\u001b[A\n",
      "122it [02:40,  1.30s/it]\u001b[A\n",
      "123it [02:41,  1.30s/it]\u001b[A\n",
      "124it [02:42,  1.30s/it]\u001b[A\n",
      "125it [02:43,  1.30s/it]\u001b[A\n",
      "126it [02:45,  1.30s/it]\u001b[A\n",
      "127it [02:46,  1.30s/it]\u001b[A\n",
      "128it [02:47,  1.30s/it]\u001b[A\n",
      "129it [02:49,  1.30s/it]\u001b[A\n",
      "130it [02:50,  1.29s/it]\u001b[A\n",
      "131it [02:51,  1.29s/it]\u001b[A\n",
      "132it [02:52,  1.30s/it]\u001b[A\n",
      "133it [02:54,  1.29s/it]\u001b[A\n",
      "134it [02:55,  1.29s/it]\u001b[A\n",
      "135it [02:56,  1.31s/it]\u001b[A\n",
      "136it [02:58,  1.31s/it]\u001b[A\n",
      "137it [02:59,  1.31s/it]\u001b[A\n",
      "138it [03:00,  1.30s/it]\u001b[A\n",
      "139it [03:02,  1.30s/it]\u001b[A\n",
      "140it [03:03,  1.30s/it]\u001b[A\n",
      "141it [03:04,  1.30s/it]\u001b[A\n",
      "142it [03:05,  1.29s/it]\u001b[A\n",
      "143it [03:07,  1.29s/it]\u001b[A\n",
      "144it [03:08,  1.28s/it]\u001b[A\n",
      "145it [03:09,  1.28s/it]\u001b[A\n",
      "146it [03:11,  1.28s/it]\u001b[A\n",
      "147it [03:12,  1.28s/it]\u001b[A\n",
      "148it [03:13,  1.28s/it]\u001b[A\n",
      "149it [03:14,  1.28s/it]\u001b[A\n",
      "150it [03:16,  1.28s/it]\u001b[A\n",
      "151it [03:17,  1.28s/it]\u001b[A\n",
      "152it [03:18,  1.28s/it]\u001b[A\n",
      "153it [03:20,  1.28s/it]\u001b[A\n",
      "154it [03:21,  1.28s/it]\u001b[A\n",
      "155it [03:22,  1.29s/it]\u001b[A\n",
      "156it [03:23,  1.28s/it]\u001b[A\n",
      "157it [03:25,  1.28s/it]\u001b[A\n",
      "158it [03:26,  1.28s/it]\u001b[A\n",
      "159it [03:27,  1.28s/it]\u001b[A\n",
      "160it [03:29,  1.28s/it]\u001b[A\n",
      "161it [03:30,  1.28s/it]\u001b[A\n",
      "162it [03:31,  1.28s/it]\u001b[A\n",
      "163it [03:32,  1.29s/it]\u001b[A\n",
      "164it [03:34,  1.29s/it]\u001b[A\n",
      "165it [03:35,  1.29s/it]\u001b[A\n",
      "166it [03:36,  1.28s/it]\u001b[A\n",
      "167it [03:38,  1.30s/it]\u001b[A\n",
      "168it [03:39,  1.29s/it]\u001b[A\n",
      "169it [03:40,  1.29s/it]\u001b[A\n",
      "170it [03:41,  1.28s/it]\u001b[A\n",
      "171it [03:43,  1.29s/it]\u001b[A\n",
      "172it [03:44,  1.29s/it]\u001b[A\n",
      "173it [03:45,  1.29s/it]\u001b[A\n",
      "174it [03:47,  1.29s/it]\u001b[A\n",
      "175it [03:48,  1.29s/it]\u001b[A\n",
      "176it [03:49,  1.29s/it]\u001b[A\n",
      "177it [03:50,  1.29s/it]\u001b[A\n",
      "178it [03:52,  1.29s/it]\u001b[A\n",
      "179it [03:53,  1.29s/it]\u001b[A\n",
      "180it [03:54,  1.29s/it]\u001b[A\n",
      "181it [03:56,  1.29s/it]\u001b[A\n",
      "182it [03:57,  1.29s/it]\u001b[A\n",
      "183it [03:58,  1.29s/it]\u001b[A\n",
      "184it [03:59,  1.29s/it]\u001b[A\n",
      "185it [04:01,  1.29s/it]\u001b[A\n",
      "186it [04:02,  1.30s/it]\u001b[A\n",
      "187it [04:03,  1.30s/it]\u001b[A\n",
      "188it [04:05,  1.30s/it]\u001b[A\n",
      "189it [04:06,  1.30s/it]\u001b[A\n",
      "190it [04:07,  1.29s/it]\u001b[A\n",
      "191it [04:09,  1.29s/it]\u001b[A\n",
      "192it [04:10,  1.30s/it]\u001b[A\n",
      "193it [04:11,  1.29s/it]\u001b[A\n",
      "194it [04:13,  1.32s/it]\u001b[A\n",
      "195it [04:14,  1.32s/it]\u001b[A\n",
      "196it [04:15,  1.31s/it]\u001b[A\n"
     ]
    },
    {
     "data": {
      "image/png": "[encoded data removed]",
      "text/plain": [
       "<Figure size 300x300 with 1 Axes>"
      ]
     },
     "metadata": {},
     "output_type": "display_data"
    },
    {
     "name": "stdout",
     "output_type": "stream",
     "text": [
      "SignificanceResult(statistic=0.6933942638146472, pvalue=0.0)\n",
      "6.6466346\n"
     ]
    },
    {
     "name": "stderr",
     "output_type": "stream",
     "text": [
      "\n",
      "0it [00:00, ?it/s]\u001b[A\n",
      "1it [00:01,  1.45s/it]\u001b[A\n",
      "2it [00:02,  1.36s/it]\u001b[A\n",
      "3it [00:04,  1.34s/it]\u001b[A\n",
      "4it [00:05,  1.32s/it]\u001b[A\n",
      "5it [00:06,  1.31s/it]\u001b[A\n",
      "6it [00:07,  1.30s/it]\u001b[A\n",
      "7it [00:09,  1.30s/it]\u001b[A\n",
      "8it [00:10,  1.29s/it]\u001b[A\n",
      "9it [00:11,  1.29s/it]\u001b[A\n",
      "10it [00:13,  1.29s/it]\u001b[A\n",
      "11it [00:14,  1.29s/it]\u001b[A\n",
      "12it [00:15,  1.29s/it]\u001b[A\n",
      "13it [00:16,  1.29s/it]\u001b[A\n",
      "14it [00:18,  1.28s/it]\u001b[A\n",
      "15it [00:19,  1.28s/it]\u001b[A\n",
      "16it [00:20,  1.28s/it]\u001b[A\n",
      "17it [00:22,  1.47s/it]\u001b[A\n",
      "18it [00:24,  1.45s/it]\u001b[A\n",
      "19it [00:25,  1.40s/it]\u001b[A\n",
      "20it [00:26,  1.37s/it]\u001b[A\n",
      "21it [00:27,  1.34s/it]\u001b[A\n",
      "22it [00:29,  1.32s/it]\u001b[A\n",
      "23it [00:30,  1.32s/it]\u001b[A\n",
      "24it [00:31,  1.31s/it]\u001b[A\n",
      "25it [00:33,  1.31s/it]\u001b[A\n",
      "26it [00:34,  1.31s/it]\u001b[A\n",
      "27it [00:35,  1.30s/it]\u001b[A\n",
      "28it [00:37,  1.30s/it]\u001b[A\n",
      "29it [00:38,  1.29s/it]\u001b[A\n",
      "30it [00:39,  1.29s/it]\u001b[A\n",
      "31it [00:40,  1.29s/it]\u001b[A\n",
      "32it [00:42,  1.29s/it]\u001b[A\n",
      "33it [00:43,  1.29s/it]\u001b[A\n",
      "34it [00:44,  1.30s/it]\u001b[A\n",
      "35it [00:46,  1.30s/it]\u001b[A\n",
      "36it [00:47,  1.31s/it]\u001b[A\n",
      "37it [00:48,  1.30s/it]\u001b[A\n",
      "38it [00:49,  1.29s/it]\u001b[A\n",
      "39it [00:51,  1.29s/it]\u001b[A\n",
      "40it [00:52,  1.29s/it]\u001b[A\n",
      "41it [00:53,  1.30s/it]\u001b[A\n",
      "42it [00:55,  1.29s/it]\u001b[A\n",
      "43it [00:56,  1.29s/it]\u001b[A\n",
      "44it [00:57,  1.28s/it]\u001b[A\n",
      "45it [00:58,  1.28s/it]\u001b[A\n",
      "46it [01:00,  1.28s/it]\u001b[A\n",
      "47it [01:01,  1.28s/it]\u001b[A\n",
      "48it [01:02,  1.29s/it]\u001b[A\n",
      "49it [01:04,  1.29s/it]\u001b[A\n",
      "50it [01:05,  1.28s/it]\u001b[A\n",
      "51it [01:06,  1.28s/it]\u001b[A\n",
      "52it [01:07,  1.29s/it]\u001b[A\n",
      "53it [01:09,  1.29s/it]\u001b[A\n",
      "54it [01:10,  1.29s/it]\u001b[A\n",
      "55it [01:11,  1.29s/it]\u001b[A\n",
      "56it [01:13,  1.29s/it]\u001b[A\n",
      "57it [01:14,  1.29s/it]\u001b[A\n",
      "58it [01:15,  1.29s/it]\u001b[A\n",
      "59it [01:16,  1.29s/it]\u001b[A\n",
      "60it [01:18,  1.30s/it]\u001b[A\n",
      "61it [01:19,  1.30s/it]\u001b[A\n",
      "62it [01:20,  1.30s/it]\u001b[A\n",
      "63it [01:22,  1.30s/it]\u001b[A\n",
      "64it [01:23,  1.30s/it]\u001b[A\n",
      "65it [01:24,  1.30s/it]\u001b[A\n",
      "66it [01:26,  1.30s/it]\u001b[A\n",
      "67it [01:27,  1.32s/it]\u001b[A\n",
      "68it [01:28,  1.33s/it]\u001b[A\n",
      "69it [01:30,  1.34s/it]\u001b[A\n",
      "70it [01:31,  1.34s/it]\u001b[A\n",
      "71it [01:32,  1.34s/it]\u001b[A\n",
      "72it [01:34,  1.34s/it]\u001b[A\n",
      "73it [01:35,  1.34s/it]\u001b[A\n",
      "74it [01:36,  1.33s/it]\u001b[A\n",
      "75it [01:38,  1.32s/it]\u001b[A\n",
      "76it [01:39,  1.31s/it]\u001b[A\n",
      "77it [01:40,  1.31s/it]\u001b[A\n",
      "78it [01:42,  1.31s/it]\u001b[A\n",
      "79it [01:43,  1.31s/it]\u001b[A\n",
      "80it [01:44,  1.32s/it]\u001b[A\n",
      "81it [01:46,  1.31s/it]\u001b[A\n",
      "82it [01:47,  1.31s/it]\u001b[A\n",
      "83it [01:48,  1.31s/it]\u001b[A\n",
      "84it [01:49,  1.30s/it]\u001b[A\n",
      "85it [01:51,  1.29s/it]\u001b[A\n",
      "86it [01:52,  1.30s/it]\u001b[A\n",
      "87it [01:53,  1.30s/it]\u001b[A\n",
      "88it [01:55,  1.29s/it]\u001b[A\n",
      "89it [01:56,  1.29s/it]\u001b[A\n",
      "90it [01:57,  1.28s/it]\u001b[A\n",
      "91it [01:58,  1.28s/it]\u001b[A\n",
      "92it [02:00,  1.28s/it]\u001b[A\n",
      "93it [02:01,  1.28s/it]\u001b[A\n",
      "94it [02:02,  1.29s/it]\u001b[A\n",
      "95it [02:04,  1.29s/it]\u001b[A\n",
      "96it [02:05,  1.31s/it]\u001b[A\n",
      "97it [02:06,  1.33s/it]\u001b[A\n",
      "98it [02:08,  1.34s/it]\u001b[A\n",
      "99it [02:09,  1.35s/it]\u001b[A\n",
      "100it [02:10,  1.35s/it]\u001b[A\n",
      "101it [02:12,  1.36s/it]\u001b[A\n",
      "102it [02:13,  1.36s/it]\u001b[A\n",
      "103it [02:14,  1.34s/it]\u001b[A\n",
      "104it [02:16,  1.32s/it]\u001b[A\n",
      "105it [02:17,  1.32s/it]\u001b[A\n",
      "106it [02:18,  1.31s/it]\u001b[A\n",
      "107it [02:20,  1.31s/it]\u001b[A\n",
      "108it [02:21,  1.31s/it]\u001b[A\n",
      "109it [02:22,  1.30s/it]\u001b[A\n",
      "110it [02:24,  1.31s/it]\u001b[A\n",
      "111it [02:25,  1.31s/it]\u001b[A\n",
      "112it [02:26,  1.30s/it]\u001b[A\n",
      "113it [02:27,  1.30s/it]\u001b[A\n",
      "114it [02:29,  1.30s/it]\u001b[A\n",
      "115it [02:30,  1.30s/it]\u001b[A\n",
      "116it [02:31,  1.29s/it]\u001b[A\n",
      "117it [02:33,  1.29s/it]\u001b[A\n",
      "118it [02:34,  1.29s/it]\u001b[A\n",
      "119it [02:35,  1.29s/it]\u001b[A\n",
      "120it [02:36,  1.29s/it]\u001b[A\n",
      "121it [02:38,  1.29s/it]\u001b[A\n",
      "122it [02:39,  1.29s/it]\u001b[A\n",
      "123it [02:40,  1.29s/it]\u001b[A\n",
      "124it [02:42,  1.29s/it]\u001b[A\n",
      "125it [02:43,  1.29s/it]\u001b[A\n",
      "126it [02:44,  1.30s/it]\u001b[A\n",
      "127it [02:46,  1.30s/it]\u001b[A\n",
      "128it [02:47,  1.29s/it]\u001b[A\n",
      "129it [02:48,  1.29s/it]\u001b[A\n",
      "130it [02:49,  1.29s/it]\u001b[A\n",
      "131it [02:51,  1.29s/it]\u001b[A\n",
      "132it [02:52,  1.29s/it]\u001b[A\n",
      "133it [02:53,  1.29s/it]\u001b[A\n",
      "134it [02:55,  1.29s/it]\u001b[A\n",
      "135it [02:56,  1.30s/it]\u001b[A\n",
      "136it [02:57,  1.31s/it]\u001b[A\n",
      "137it [02:58,  1.30s/it]\u001b[A\n",
      "138it [03:00,  1.30s/it]\u001b[A\n",
      "139it [03:01,  1.30s/it]\u001b[A\n",
      "140it [03:02,  1.29s/it]\u001b[A\n",
      "141it [03:04,  1.29s/it]\u001b[A\n",
      "142it [03:05,  1.29s/it]\u001b[A\n",
      "143it [03:06,  1.29s/it]\u001b[A\n",
      "144it [03:07,  1.29s/it]\u001b[A\n",
      "145it [03:09,  1.29s/it]\u001b[A\n",
      "146it [03:10,  1.29s/it]\u001b[A\n",
      "147it [03:11,  1.29s/it]\u001b[A\n",
      "148it [03:13,  1.29s/it]\u001b[A\n",
      "149it [03:14,  1.29s/it]\u001b[A\n",
      "150it [03:15,  1.29s/it]\u001b[A\n",
      "151it [03:16,  1.29s/it]\u001b[A\n",
      "152it [03:18,  1.30s/it]\u001b[A\n",
      "153it [03:19,  1.29s/it]\u001b[A\n",
      "154it [03:20,  1.29s/it]\u001b[A\n",
      "155it [03:22,  1.30s/it]\u001b[A\n",
      "156it [03:23,  1.30s/it]\u001b[A\n",
      "157it [03:24,  1.29s/it]\u001b[A\n",
      "158it [03:26,  1.29s/it]\u001b[A\n",
      "159it [03:27,  1.29s/it]\u001b[A\n",
      "160it [03:28,  1.29s/it]\u001b[A\n",
      "161it [03:29,  1.29s/it]\u001b[A\n",
      "162it [03:31,  1.29s/it]\u001b[A\n",
      "163it [03:32,  1.30s/it]\u001b[A\n",
      "164it [03:33,  1.30s/it]\u001b[A\n",
      "165it [03:35,  1.30s/it]\u001b[A\n",
      "166it [03:36,  1.29s/it]\u001b[A\n",
      "167it [03:37,  1.31s/it]\u001b[A\n",
      "168it [03:39,  1.30s/it]\u001b[A\n",
      "169it [03:40,  1.30s/it]\u001b[A\n",
      "170it [03:41,  1.30s/it]\u001b[A\n",
      "171it [03:42,  1.29s/it]\u001b[A\n",
      "172it [03:44,  1.29s/it]\u001b[A\n",
      "173it [03:45,  1.29s/it]\u001b[A\n",
      "174it [03:46,  1.30s/it]\u001b[A\n",
      "175it [03:48,  1.30s/it]\u001b[A\n",
      "176it [03:49,  1.29s/it]\u001b[A\n",
      "177it [03:50,  1.29s/it]\u001b[A\n",
      "178it [03:51,  1.29s/it]\u001b[A\n",
      "179it [03:53,  1.29s/it]\u001b[A\n",
      "180it [03:54,  1.29s/it]\u001b[A\n",
      "181it [03:55,  1.29s/it]\u001b[A\n",
      "182it [03:57,  1.29s/it]\u001b[A\n",
      "183it [03:58,  1.29s/it]\u001b[A\n",
      "184it [03:59,  1.29s/it]\u001b[A\n",
      "185it [04:00,  1.29s/it]\u001b[A\n",
      "186it [04:02,  1.29s/it]\u001b[A\n",
      "187it [04:03,  1.29s/it]\u001b[A\n",
      "188it [04:04,  1.29s/it]\u001b[A\n",
      "189it [04:06,  1.29s/it]\u001b[A\n",
      "190it [04:07,  1.29s/it]\u001b[A\n",
      "191it [04:08,  1.29s/it]\u001b[A\n",
      "192it [04:10,  1.29s/it]\u001b[A\n",
      "193it [04:11,  1.29s/it]\u001b[A\n",
      "194it [04:12,  1.29s/it]\u001b[A\n",
      "195it [04:13,  1.29s/it]\u001b[A\n",
      "196it [04:15,  1.30s/it]\u001b[A\n"
     ]
    },
    {
     "data": {
      "image/png": "[encoded data removed]",
      "text/plain": [
       "<Figure size 300x300 with 1 Axes>"
      ]
     },
     "metadata": {},
     "output_type": "display_data"
    },
    {
     "name": "stdout",
     "output_type": "stream",
     "text": [
      "SignificanceResult(statistic=0.5436268965679878, pvalue=0.0)\n",
      "9.374599\n"
     ]
    },
    {
     "name": "stderr",
     "output_type": "stream",
     "text": [
      "\n",
      "0it [00:00, ?it/s]\u001b[A\n",
      "1it [00:01,  1.42s/it]\u001b[A\n",
      "2it [00:02,  1.35s/it]\u001b[A\n",
      "3it [00:04,  1.33s/it]\u001b[A\n",
      "4it [00:05,  1.32s/it]\u001b[A\n",
      "5it [00:06,  1.31s/it]\u001b[A\n",
      "6it [00:07,  1.30s/it]\u001b[A\n",
      "7it [00:09,  1.30s/it]\u001b[A\n",
      "8it [00:10,  1.30s/it]\u001b[A\n",
      "9it [00:11,  1.30s/it]\u001b[A\n",
      "10it [00:13,  1.29s/it]\u001b[A\n",
      "11it [00:14,  1.30s/it]\u001b[A\n",
      "12it [00:15,  1.36s/it]\u001b[A\n",
      "13it [00:17,  1.36s/it]\u001b[A\n",
      "14it [00:18,  1.34s/it]\u001b[A\n",
      "15it [00:19,  1.33s/it]\u001b[A\n",
      "16it [00:21,  1.32s/it]\u001b[A\n",
      "17it [00:22,  1.31s/it]\u001b[A\n",
      "18it [00:23,  1.35s/it]\u001b[A\n",
      "19it [00:25,  1.33s/it]\u001b[A\n",
      "20it [00:26,  1.32s/it]\u001b[A\n",
      "21it [00:27,  1.31s/it]\u001b[A\n",
      "22it [00:29,  1.32s/it]\u001b[A\n",
      "23it [00:30,  1.31s/it]\u001b[A\n",
      "24it [00:31,  1.31s/it]\u001b[A\n",
      "25it [00:33,  1.30s/it]\u001b[A\n",
      "26it [00:34,  1.31s/it]\u001b[A\n",
      "27it [00:35,  1.30s/it]\u001b[A\n",
      "28it [00:36,  1.30s/it]\u001b[A\n",
      "29it [00:38,  1.30s/it]\u001b[A\n",
      "30it [00:39,  1.30s/it]\u001b[A\n",
      "31it [00:40,  1.30s/it]\u001b[A\n",
      "32it [00:42,  1.30s/it]\u001b[A\n",
      "33it [00:43,  1.30s/it]\u001b[A\n",
      "34it [00:44,  1.30s/it]\u001b[A\n",
      "35it [00:46,  1.30s/it]\u001b[A\n",
      "36it [00:47,  1.32s/it]\u001b[A\n",
      "37it [00:48,  1.32s/it]\u001b[A\n",
      "38it [00:49,  1.31s/it]\u001b[A\n",
      "39it [00:51,  1.31s/it]\u001b[A\n",
      "40it [00:52,  1.31s/it]\u001b[A\n",
      "41it [00:53,  1.31s/it]\u001b[A\n",
      "42it [00:55,  1.31s/it]\u001b[A\n",
      "43it [00:56,  1.31s/it]\u001b[A\n",
      "44it [00:57,  1.31s/it]\u001b[A\n",
      "45it [00:59,  1.31s/it]\u001b[A\n",
      "46it [01:00,  1.31s/it]\u001b[A\n",
      "47it [01:01,  1.31s/it]\u001b[A\n",
      "48it [01:03,  1.32s/it]\u001b[A\n",
      "49it [01:04,  1.32s/it]\u001b[A\n",
      "50it [01:05,  1.31s/it]\u001b[A\n",
      "51it [01:07,  1.31s/it]\u001b[A\n",
      "52it [01:08,  1.32s/it]\u001b[A\n",
      "53it [01:09,  1.32s/it]\u001b[A\n",
      "54it [01:11,  1.33s/it]\u001b[A\n",
      "55it [01:12,  1.33s/it]\u001b[A\n",
      "56it [01:13,  1.32s/it]\u001b[A\n",
      "57it [01:14,  1.31s/it]\u001b[A\n",
      "58it [01:16,  1.31s/it]\u001b[A\n",
      "59it [01:17,  1.30s/it]\u001b[A\n",
      "60it [01:18,  1.30s/it]\u001b[A\n",
      "61it [01:20,  1.30s/it]\u001b[A\n",
      "62it [01:21,  1.30s/it]\u001b[A\n",
      "63it [01:22,  1.30s/it]\u001b[A\n",
      "64it [01:24,  1.30s/it]\u001b[A\n",
      "65it [01:25,  1.30s/it]\u001b[A\n",
      "66it [01:26,  1.30s/it]\u001b[A\n",
      "67it [01:27,  1.31s/it]\u001b[A\n",
      "68it [01:29,  1.30s/it]\u001b[A\n",
      "69it [01:30,  1.31s/it]\u001b[A\n",
      "70it [01:31,  1.31s/it]\u001b[A\n",
      "71it [01:33,  1.31s/it]\u001b[A\n",
      "72it [01:34,  1.30s/it]\u001b[A\n",
      "73it [01:35,  1.30s/it]\u001b[A\n",
      "74it [01:37,  1.30s/it]\u001b[A\n",
      "75it [01:38,  1.30s/it]\u001b[A\n",
      "76it [01:39,  1.30s/it]\u001b[A\n",
      "77it [01:40,  1.30s/it]\u001b[A\n",
      "78it [01:42,  1.30s/it]\u001b[A\n",
      "79it [01:43,  1.30s/it]\u001b[A\n",
      "80it [01:44,  1.29s/it]\u001b[A\n",
      "81it [01:46,  1.29s/it]\u001b[A\n",
      "82it [01:47,  1.30s/it]\u001b[A\n",
      "83it [01:48,  1.30s/it]\u001b[A\n",
      "84it [01:50,  1.30s/it]\u001b[A\n",
      "85it [01:51,  1.30s/it]\u001b[A\n",
      "86it [01:52,  1.31s/it]\u001b[A\n",
      "87it [01:53,  1.30s/it]\u001b[A\n",
      "88it [01:55,  1.30s/it]\u001b[A\n",
      "89it [01:56,  1.30s/it]\u001b[A\n",
      "90it [01:57,  1.30s/it]\u001b[A\n",
      "91it [01:59,  1.30s/it]\u001b[A\n",
      "92it [02:00,  1.31s/it]\u001b[A\n",
      "93it [02:01,  1.31s/it]\u001b[A\n",
      "94it [02:03,  1.31s/it]\u001b[A\n",
      "95it [02:04,  1.30s/it]\u001b[A\n",
      "96it [02:05,  1.30s/it]\u001b[A\n",
      "97it [02:07,  1.31s/it]\u001b[A\n",
      "98it [02:08,  1.31s/it]\u001b[A\n",
      "99it [02:09,  1.31s/it]\u001b[A\n",
      "100it [02:10,  1.30s/it]\u001b[A\n",
      "101it [02:12,  1.30s/it]\u001b[A\n",
      "102it [02:13,  1.31s/it]\u001b[A\n",
      "103it [02:14,  1.31s/it]\u001b[A\n",
      "104it [02:16,  1.31s/it]\u001b[A\n",
      "105it [02:17,  1.31s/it]\u001b[A\n",
      "106it [02:18,  1.31s/it]\u001b[A\n",
      "107it [02:20,  1.31s/it]\u001b[A\n",
      "108it [02:21,  1.31s/it]\u001b[A\n",
      "109it [02:22,  1.31s/it]\u001b[A\n",
      "110it [02:24,  1.31s/it]\u001b[A\n",
      "111it [02:25,  1.30s/it]\u001b[A\n",
      "112it [02:26,  1.30s/it]\u001b[A\n",
      "113it [02:27,  1.30s/it]\u001b[A\n",
      "114it [02:29,  1.30s/it]\u001b[A\n",
      "115it [02:30,  1.31s/it]\u001b[A\n",
      "116it [02:31,  1.32s/it]\u001b[A\n",
      "117it [02:33,  1.34s/it]\u001b[A\n",
      "118it [02:34,  1.35s/it]\u001b[A\n",
      "119it [02:35,  1.34s/it]\u001b[A\n",
      "120it [02:37,  1.33s/it]\u001b[A\n",
      "121it [02:38,  1.32s/it]\u001b[A\n",
      "122it [02:39,  1.32s/it]\u001b[A\n",
      "123it [02:41,  1.31s/it]\u001b[A\n",
      "124it [02:42,  1.30s/it]\u001b[A\n",
      "125it [02:43,  1.30s/it]\u001b[A\n",
      "126it [02:45,  1.30s/it]\u001b[A\n",
      "127it [02:46,  1.30s/it]\u001b[A\n",
      "128it [02:47,  1.31s/it]\u001b[A\n",
      "129it [02:48,  1.31s/it]\u001b[A\n",
      "130it [02:50,  1.31s/it]\u001b[A\n",
      "131it [02:51,  1.31s/it]\u001b[A\n",
      "132it [02:52,  1.30s/it]\u001b[A\n",
      "133it [02:54,  1.30s/it]\u001b[A\n",
      "134it [02:55,  1.30s/it]\u001b[A\n",
      "135it [02:56,  1.31s/it]\u001b[A\n",
      "136it [02:58,  1.31s/it]\u001b[A\n",
      "137it [02:59,  1.31s/it]\u001b[A\n",
      "138it [03:00,  1.30s/it]\u001b[A\n",
      "139it [03:02,  1.30s/it]\u001b[A\n",
      "140it [03:03,  1.30s/it]\u001b[A\n",
      "141it [03:04,  1.42s/it]\u001b[A\n",
      "142it [03:06,  1.40s/it]\u001b[A\n",
      "143it [03:07,  1.39s/it]\u001b[A\n",
      "144it [03:09,  1.39s/it]\u001b[A\n",
      "145it [03:10,  1.38s/it]\u001b[A\n",
      "146it [03:11,  1.38s/it]\u001b[A\n",
      "147it [03:13,  1.38s/it]\u001b[A\n",
      "148it [03:14,  1.37s/it]\u001b[A\n",
      "149it [03:15,  1.36s/it]\u001b[A\n",
      "150it [03:17,  1.34s/it]\u001b[A\n",
      "151it [03:18,  1.33s/it]\u001b[A\n",
      "152it [03:19,  1.33s/it]\u001b[A\n",
      "153it [03:21,  1.32s/it]\u001b[A\n",
      "154it [03:22,  1.32s/it]\u001b[A\n",
      "155it [03:23,  1.33s/it]\u001b[A\n",
      "156it [03:25,  1.33s/it]\u001b[A\n",
      "157it [03:26,  1.32s/it]\u001b[A\n",
      "158it [03:27,  1.32s/it]\u001b[A\n",
      "159it [03:29,  1.32s/it]\u001b[A\n",
      "160it [03:30,  1.32s/it]\u001b[A\n",
      "161it [03:31,  1.32s/it]\u001b[A\n",
      "162it [03:33,  1.32s/it]\u001b[A\n",
      "163it [03:34,  1.35s/it]\u001b[A\n",
      "164it [03:35,  1.34s/it]\u001b[A\n",
      "165it [03:37,  1.34s/it]\u001b[A\n",
      "166it [03:38,  1.33s/it]\u001b[A\n",
      "167it [03:39,  1.35s/it]\u001b[A\n",
      "168it [03:41,  1.34s/it]\u001b[A\n",
      "169it [03:42,  1.33s/it]\u001b[A\n",
      "170it [03:43,  1.33s/it]\u001b[A\n",
      "171it [03:45,  1.32s/it]\u001b[A\n",
      "172it [03:46,  1.32s/it]\u001b[A\n",
      "173it [03:47,  1.32s/it]\u001b[A\n",
      "174it [03:49,  1.32s/it]\u001b[A\n",
      "175it [03:50,  1.32s/it]\u001b[A\n",
      "176it [03:51,  1.32s/it]\u001b[A\n",
      "177it [03:52,  1.32s/it]\u001b[A\n",
      "178it [03:54,  1.32s/it]\u001b[A\n",
      "179it [03:55,  1.32s/it]\u001b[A\n",
      "180it [03:56,  1.32s/it]\u001b[A\n",
      "181it [03:58,  1.32s/it]\u001b[A\n",
      "182it [03:59,  1.32s/it]\u001b[A\n",
      "183it [04:00,  1.31s/it]\u001b[A\n",
      "184it [04:02,  1.31s/it]\u001b[A\n",
      "185it [04:03,  1.32s/it]\u001b[A\n",
      "186it [04:04,  1.32s/it]\u001b[A\n",
      "187it [04:06,  1.32s/it]\u001b[A\n",
      "188it [04:07,  1.31s/it]\u001b[A\n",
      "189it [04:08,  1.31s/it]\u001b[A\n",
      "190it [04:10,  1.31s/it]\u001b[A\n",
      "191it [04:11,  1.31s/it]\u001b[A\n",
      "192it [04:12,  1.32s/it]\u001b[A\n",
      "193it [04:14,  1.32s/it]\u001b[A\n",
      "194it [04:15,  1.32s/it]\u001b[A\n",
      "195it [04:16,  1.32s/it]\u001b[A\n",
      "196it [04:18,  1.32s/it]\u001b[A\n"
     ]
    },
    {
     "data": {
      "image/png": "[encoded data removed]",
      "text/plain": [
       "<Figure size 300x300 with 1 Axes>"
      ]
     },
     "metadata": {},
     "output_type": "display_data"
    },
    {
     "name": "stdout",
     "output_type": "stream",
     "text": [
      "SignificanceResult(statistic=0.263997324632876, pvalue=0.0)\n",
      "11.52127\n"
     ]
    }
   ],
   "source": [
    "for std in [0.001, 0.01, 0.1, 1, 2, 10]:\n",
    "    _, X_imputed_var = invert_and_sample(dataloader, encoder_model, generative_model, sample_std=std)\n",
    "    plt.figure(figsize=(3, 3))\n",
    "    plt.scatter(X_imputed_var.ravel()[:100000], hlca_core.layers[\"X_counts\"].A.ravel()[:100000])\n",
    "    plt.title(f\"HLCA imputation std {std}\")\n",
    "    plt.xlabel(\"Predictions\")\n",
    "    plt.ylabel(\"Ground truth\")\n",
    "    plt.savefig(f\"plots/var_plots/hlca_core_comparison_{std}.png\",bbox_inches='tight', format=\"png\")  # Save the figure\n",
    "    plt.show()\n",
    "    print(scipy.stats.spearmanr(X_imputed_var.ravel()[non_zero_idx], hlca_core.layers[\"X_counts\"].A.ravel()[non_zero_idx]))\n",
    "    print(np.mean(np.abs(X_imputed_var.ravel()[non_zero_idx] - hlca_core.layers[\"X_counts\"].A.ravel()[[non_zero_idx]])))"
   ]
  },
  {
   "cell_type": "code",
   "execution_count": null,
   "id": "abfba6ad-814d-4718-b551-0ce52a046c1c",
   "metadata": {},
   "outputs": [],
   "source": []
  },
  {
   "cell_type": "code",
   "execution_count": null,
   "id": "81cc050f-9a72-460a-98f5-275401375ee3",
   "metadata": {},
   "outputs": [],
   "source": []
  },
  {
   "cell_type": "code",
   "execution_count": null,
   "id": "c7ef5f3e-ffdc-454a-ba46-f8bdff655fe5",
   "metadata": {},
   "outputs": [],
   "source": []
  }
 ],
 "metadata": {
  "kernelspec": {
   "display_name": "Python 3 (ipykernel)",
   "language": "python",
   "name": "python3"
  },
  "language_info": {
   "codemirror_mode": {
    "name": "ipython",
    "version": 3
   },
   "file_extension": ".py",
   "mimetype": "text/x-python",
   "name": "python",
   "nbconvert_exporter": "python",
   "pygments_lexer": "ipython3",
   "version": "3.10.13"
  }
 },
 "nbformat": 4,
 "nbformat_minor": 5
}
