{
 "cells": [
  {
   "cell_type": "code",
   "execution_count": 242,
   "id": "018a40ce-938d-4c3c-ac42-2060392ab8e1",
   "metadata": {},
   "outputs": [],
   "source": [
    "import pandas as pd\n",
    "import numpy as np\n",
    "import scanpy as sc\n",
    "import scvi\n",
    "import torch\n",
    "import scipy.special as sp\n",
    "from tqdm import tqdm\n",
    "import matplotlib.pyplot as plt\n",
    "from scipy.sparse import csr_matrix\n",
    "import scipy.stats\n",
    "\n",
    "import seaborn as sns\n",
    "import matplotlib\n",
    "from matplotlib import rc\n",
    "import matplotlib.pyplot as plt \n",
    "matplotlib.rcdefaults()\n",
    "\n",
    "matplotlib_rc = { \n",
    "    # 'text': {'usetex': True}, \n",
    "    'font': {'family': 'serif'} } # Apply changes for k, v in matplotlib_rc.items(): rc(k, **v)\n",
    "for k, v in matplotlib_rc.items():\n",
    "          rc(k, **v)"
   ]
  },
  {
   "cell_type": "code",
   "execution_count": 205,
   "id": "d4be6c4e-3541-484c-adf7-a2232de2a2ce",
   "metadata": {},
   "outputs": [],
   "source": [
    "def corrupt_dataset(adata):\n",
    "    \"\"\"\n",
    "    Corrupts entries in an AnnData object's matrix with a probability of 0.1%.\n",
    "    \n",
    "    Parameters\n",
    "    ----------\n",
    "    adata : AnnData\n",
    "        The AnnData object whose data matrix (adata.X) will be corrupted.\n",
    "        This works for both dense and sparse matrices.\n",
    "\n",
    "    Returns\n",
    "    -------\n",
    "    None\n",
    "        The function modifies the adata object in place.\n",
    "    \"\"\"\n",
    "    # Only keep highly variable genes\n",
    "    adata = adata[:, adata.var.highly_variable]\n",
    "\n",
    "    # Shape of the dropout Bernoulli matrix \n",
    "    dim = adata.X.shape\n",
    "    \n",
    "    # Generate a mask of the same shape as the data matrix, with 0.1% probability of corruption\n",
    "    np.random.seed(42)\n",
    "    corruption_mask = 1-np.random.binomial(n=1, p=0.1, size=dim).astype(bool)\n",
    "    print(\"Dropped out\", (corruption_mask==0).sum())\n",
    "    print(\"Kept\", (corruption_mask==1).sum())\n",
    "\n",
    "    # Corrupt matrix by multiplying it by the mask \n",
    "    corrupted_mat = adata.layers[\"X_counts\"].A * corruption_mask\n",
    "\n",
    "    adata.layers[\"X_masked\"] = corrupted_mat\n",
    "\n",
    "    adata.uns[\"do_ix\"] = np.where(corruption_mask.ravel()==0)[0]\n",
    "    return adata"
   ]
  },
  {
   "cell_type": "markdown",
   "id": "84d06042-3731-4b11-966c-d1daeb299d67",
   "metadata": {},
   "source": [
    "**PBMC3k**"
   ]
  },
  {
   "cell_type": "code",
   "execution_count": 206,
   "id": "24db283a-43fb-4df0-9404-2e7c5cde9df2",
   "metadata": {},
   "outputs": [
    {
     "name": "stdout",
     "output_type": "stream",
     "text": [
      "Dropped out 526970\n",
      "Kept 4749030\n"
     ]
    },
    {
     "name": "stderr",
     "output_type": "stream",
     "text": [
      "/tmp/ipykernel_2139400/42061576.py:31: ImplicitModificationWarning: Setting element `.layers['X_masked']` of view, initializing view as actual.\n",
      "  adata.layers[\"X_masked\"] = corrupted_mat\n"
     ]
    }
   ],
   "source": [
    "pbmc3k = sc.read_h5ad(\"/home/icb/alessandro.palma/environment/cfgen/project_folder/datasets/processed_full_genome/pbmc3k/pbmc3k.h5ad\")\n",
    "pbmc3k = corrupt_dataset(pbmc3k)\n",
    "pbmc3k.layers[\"X_masked\"] = csr_matrix(pbmc3k.layers[\"X_masked\"])\n",
    "pbmc3k.write_h5ad(\"/home/icb/alessandro.palma/environment/cfgen/project_folder/datasets/dropout/pbmc3k.h5ad\")"
   ]
  },
  {
   "cell_type": "markdown",
   "id": "acb48c69-c5e4-4e06-88f1-f3cf0856d5cd",
   "metadata": {},
   "source": [
    "## Train scVI on the masked data "
   ]
  },
  {
   "cell_type": "code",
   "execution_count": 25,
   "id": "2eec1757-a6ac-4d4f-8420-d4a17c5b4db0",
   "metadata": {},
   "outputs": [
    {
     "name": "stderr",
     "output_type": "stream",
     "text": [
      "/home/icb/alessandro.palma/miniconda3/envs/celldreamer/lib/python3.10/site-packages/lightning/fabric/plugins/environments/slurm.py:191: The `srun` command is available on your system but is not used. HINT: If your intention is to run Lightning on SLURM, prepend your python command with `srun` like so: srun python /home/icb/alessandro.palma/miniconda3/envs/celldream ...\n",
      "GPU available: True (cuda), used: True\n",
      "TPU available: False, using: 0 TPU cores\n",
      "IPU available: False, using: 0 IPUs\n",
      "HPU available: False, using: 0 HPUs\n",
      "/home/icb/alessandro.palma/miniconda3/envs/celldreamer/lib/python3.10/site-packages/lightning/fabric/plugins/environments/slurm.py:191: The `srun` command is available on your system but is not used. HINT: If your intention is to run Lightning on SLURM, prepend your python command with `srun` like so: srun python /home/icb/alessandro.palma/miniconda3/envs/celldream ...\n",
      "LOCAL_RANK: 0 - CUDA_VISIBLE_DEVICES: [0]\n",
      "/home/icb/alessandro.palma/miniconda3/envs/celldreamer/lib/python3.10/site-packages/lightning/pytorch/trainer/connectors/data_connector.py:441: The 'train_dataloader' does not have many workers which may be a bottleneck. Consider increasing the value of the `num_workers` argument` to `num_workers=5` in the `DataLoader` to improve performance.\n"
     ]
    },
    {
     "name": "stdout",
     "output_type": "stream",
     "text": [
      "Using device: gpu\n",
      "Epoch 100/100: 100%|██████████| 100/100 [00:23<00:00,  4.70it/s, v_num=1, train_loss_step=714, train_loss_epoch=696]    "
     ]
    },
    {
     "name": "stderr",
     "output_type": "stream",
     "text": [
      "`Trainer.fit` stopped: `max_epochs=100` reached.\n"
     ]
    },
    {
     "name": "stdout",
     "output_type": "stream",
     "text": [
      "Epoch 100/100: 100%|██████████| 100/100 [00:23<00:00,  4.24it/s, v_num=1, train_loss_step=714, train_loss_epoch=696]\n"
     ]
    }
   ],
   "source": [
    "# Set up the anndata\n",
    "scvi.model.SCVI.setup_anndata(pbmc3k, \n",
    "                              layer=\"X_masked\",\n",
    "                              categorical_covariate_keys=[\"cell_type\"])\n",
    "\n",
    "# SCVI model\n",
    "model = scvi.model.SCVI(pbmc3k, n_layers=3, n_latent=100, gene_likelihood=\"nb\")\n",
    "\n",
    "# Check for CUDA availability and specify device\n",
    "use_cuda = torch.cuda.is_available()\n",
    "device = \"gpu\" if use_cuda else \"cpu\"\n",
    "print(f\"Using device: {device}\")\n",
    "\n",
    "# Train model \n",
    "model.train(max_epochs=100, accelerator=device)"
   ]
  },
  {
   "cell_type": "code",
   "execution_count": 214,
   "id": "6a8d742a-3ba3-4ce8-a29f-1e8a9bf6a636",
   "metadata": {},
   "outputs": [],
   "source": [
    "imputed_counts = model.get_normalized_expression(pbmc3k,\n",
    "                            indices=None,\n",
    "                            transform_batch=None,\n",
    "                            gene_list = None,\n",
    "                            library_size = 1,\n",
    "                            n_samples = 1,\n",
    "                            n_samples_overall = None,\n",
    "                            weights = None,\n",
    "                            batch_size = None,\n",
    "                            return_mean = True,\n",
    "                            return_numpy = None,\n",
    "                            )\n",
    "imputed_counts = imputed_counts.values*pbmc3k.layers[\"X_counts\"].A.sum(1)[:,None]"
   ]
  },
  {
   "cell_type": "markdown",
   "id": "62ea6c03-5a3d-46f8-aeb0-bfa26ec71c35",
   "metadata": {},
   "source": [
    "All expression is normalized to sum to 1"
   ]
  },
  {
   "cell_type": "code",
   "execution_count": 215,
   "id": "a6d3b96b-d4c1-4f75-b663-1b4c74f843e3",
   "metadata": {},
   "outputs": [
    {
     "data": {
      "text/plain": [
       "0.28250822"
      ]
     },
     "execution_count": 215,
     "metadata": {},
     "output_type": "execute_result"
    }
   ],
   "source": [
    "np.mean(np.abs(imputed_counts.ravel()[pbmc3k.uns['do_ix']] - pbmc3k.layers[\"X_counts\"].A.ravel()[pbmc3k.uns['do_ix']]))"
   ]
  },
  {
   "cell_type": "markdown",
   "id": "4bf91d8c-ad01-4616-a1c3-96c3ac440dab",
   "metadata": {},
   "source": [
    "## Train CFGen on the masked data "
   ]
  },
  {
   "cell_type": "code",
   "execution_count": 103,
   "id": "8dd305c2-1e0f-4b11-98a3-484adc1f5bd2",
   "metadata": {},
   "outputs": [],
   "source": [
    "import os\n",
    "from pathlib import Path\n",
    "import uuid\n",
    "import torch\n",
    "from torch.utils.data import random_split\n",
    "from pytorch_lightning import Trainer\n",
    "from pytorch_lightning.callbacks import ModelCheckpoint, EarlyStopping\n",
    "from pytorch_lightning.loggers import WandbLogger\n",
    "from celldreamer.paths import TRAINING_FOLDER\n",
    "from celldreamer.data.scrnaseq_loader import RNAseqLoader\n",
    "from celldreamer.models.featurizers.category_featurizer import CategoricalFeaturizer\n",
    "from celldreamer.models.fm.denoising_model import MLPTimeStep\n",
    "from celldreamer.models.fm.fm import FM\n",
    "from celldreamer.models.base.encoder_model import EncoderModel\n",
    "from celldreamer.models.fm.ode import torch_wrapper\n",
    "from torchdyn.core import NeuralODE"
   ]
  },
  {
   "cell_type": "markdown",
   "id": "4bdff572-b54d-4bbe-9878-c8d0f8f2059f",
   "metadata": {},
   "source": [
    "### Encoder training"
   ]
  },
  {
   "cell_type": "markdown",
   "id": "9861ca8a-37f9-4996-99a4-ca0870030b72",
   "metadata": {},
   "source": [
    "Initialize dataloader "
   ]
  },
  {
   "cell_type": "code",
   "execution_count": 104,
   "id": "8dc5630e-eb16-42b8-8f48-3e5dd608845a",
   "metadata": {},
   "outputs": [],
   "source": [
    "data_path = \"/home/icb/alessandro.palma/environment/cfgen/project_folder/datasets/dropout/pbmc3k.h5ad\""
   ]
  },
  {
   "cell_type": "markdown",
   "id": "c418859e-d756-4b34-8e0f-bc22a6451b0a",
   "metadata": {},
   "source": [
    "All masked values are indeed 0"
   ]
  },
  {
   "cell_type": "code",
   "execution_count": 105,
   "id": "588d97d0-4254-4763-be2d-81a5c1b50d43",
   "metadata": {},
   "outputs": [
    {
     "name": "stdout",
     "output_type": "stream",
     "text": [
      "[0. 0. 0. ... 0. 0. 0.]\n",
      "[0. 0. 0. ... 0. 0. 0.]\n"
     ]
    }
   ],
   "source": [
    "print(pbmc3k.layers[\"X_counts\"].A.ravel()[pbmc3k.uns[\"do_ix\"].ravel()])\n",
    "print(pbmc3k.layers[\"X_masked\"].A.ravel()[pbmc3k.uns[\"do_ix\"].ravel()])"
   ]
  },
  {
   "cell_type": "code",
   "execution_count": 110,
   "id": "515a45ca-6d83-4ace-af10-7bea55a6dfac",
   "metadata": {},
   "outputs": [
    {
     "name": "stderr",
     "output_type": "stream",
     "text": [
      "/home/icb/alessandro.palma/miniconda3/envs/celldreamer/lib/python3.10/site-packages/anndata/__init__.py:51: FutureWarning: `anndata.read` is deprecated, use `anndata.read_h5ad` instead. `ad.read` will be removed in mid 2024.\n",
      "  warnings.warn(\n"
     ]
    }
   ],
   "source": [
    "# Initialize dataloaders for the different tasks \n",
    "dataset = RNAseqLoader(data_path=data_path,\n",
    "                        layer_key=\"X_masked\",               # Corresponding to config 'layer_key'\n",
    "                        covariate_keys=[\"cell_type\"],        # Corresponding to config 'covariate_keys'\n",
    "                        subsample_frac=1,                   # Corresponding to config 'subsample_frac'\n",
    "                        encoder_type=\"learnt_autoencoder\",  # Corresponding to config 'encoder_type'\n",
    "                        multimodal=False,                   # Corresponding to config 'multimodal'\n",
    "                        is_binarized=False                  # Corresponding to config 'is_binarized'\n",
    "                    )"
   ]
  },
  {
   "cell_type": "code",
   "execution_count": 111,
   "id": "dfcbad70-6868-4efe-bbcf-c78b05665b28",
   "metadata": {},
   "outputs": [],
   "source": [
    "dataloader = torch.utils.data.DataLoader(dataset,\n",
    "                                        batch_size=256,\n",
    "                                        shuffle=True,\n",
    "                                        num_workers=4, \n",
    "                                        drop_last=True)\n",
    "gene_dim = dataset.X.shape[1] "
   ]
  },
  {
   "cell_type": "markdown",
   "id": "b9ba539e-04be-4830-8383-50735c8f5635",
   "metadata": {},
   "source": [
    "Initialize encoder"
   ]
  },
  {
   "cell_type": "code",
   "execution_count": 112,
   "id": "a857ffe7-cb7b-4c22-92ac-bf9d63ffb5ca",
   "metadata": {},
   "outputs": [],
   "source": [
    "encoder_model = EncoderModel(\n",
    "    in_dim=gene_dim,\n",
    "    n_cat=None,\n",
    "    conditioning_covariate=\"cell_type\",   # From the first config file\n",
    "    encoder_type=\"learnt_autoencoder\",   # From the first config file\n",
    "    x0_from_x_kwargs = {\n",
    "        \"dims\":[512, 256, 100],                # From x0_from_x_kwargs.dims\n",
    "        \"batch_norm\":True,                     # From x0_from_x_kwargs.batch_norm\n",
    "        \"dropout\":False,                       # From x0_from_x_kwargs.dropout\n",
    "        \"dropout_p\":0.0},                       # From x0_from_x_kwargs.dropout_p\n",
    "    learning_rate=0.001,                 # From yaml learning_rate\n",
    "    weight_decay=0.00001,                # From yaml weight_decay\n",
    "    covariate_specific_theta=False,      # From yaml covariate_specific_theta\n",
    "    multimodal=False,                    # From yaml multimodal\n",
    "    is_binarized=False                   # From yaml is_binarized\n",
    ")"
   ]
  },
  {
   "cell_type": "code",
   "execution_count": 113,
   "id": "4a88b36b-8751-419c-a6d1-a444bed8cdd2",
   "metadata": {},
   "outputs": [
    {
     "name": "stderr",
     "output_type": "stream",
     "text": [
      "/home/icb/alessandro.palma/miniconda3/envs/celldreamer/lib/python3.10/site-packages/lightning_fabric/plugins/environments/slurm.py:204: The `srun` command is available on your system but is not used. HINT: If your intention is to run Lightning on SLURM, prepend your python command with `srun` like so: srun python /home/icb/alessandro.palma/miniconda3/envs/celldream ...\n",
      "GPU available: True (cuda), used: True\n",
      "TPU available: False, using: 0 TPU cores\n",
      "HPU available: False, using: 0 HPUs\n"
     ]
    }
   ],
   "source": [
    "trainer_generative = Trainer(max_epochs=100)"
   ]
  },
  {
   "cell_type": "code",
   "execution_count": 114,
   "id": "36bbefcb-2e0c-41ab-80f4-5abe55c7f5f2",
   "metadata": {},
   "outputs": [
    {
     "name": "stderr",
     "output_type": "stream",
     "text": [
      "LOCAL_RANK: 0 - CUDA_VISIBLE_DEVICES: [0]\n",
      "\n",
      "  | Name         | Type | Params | Mode \n",
      "----------------------------------------------\n",
      "0 | x0_from_x    | MLP  | 1.2 M  | train\n",
      "1 | x_from_x0    | MLP  | 1.2 M  | train\n",
      "  | other params | n/a  | 2.0 K  | n/a  \n",
      "----------------------------------------------\n",
      "2.4 M     Trainable params\n",
      "0         Non-trainable params\n",
      "2.4 M     Total params\n",
      "9.480     Total estimated model params size (MB)\n"
     ]
    },
    {
     "data": {
      "application/vnd.jupyter.widget-view+json": {
       "model_id": "",
       "version_major": 2,
       "version_minor": 0
      },
      "text/plain": [
       "Sanity Checking: |          | 0/? [00:00<?, ?it/s]"
      ]
     },
     "metadata": {},
     "output_type": "display_data"
    },
    {
     "name": "stderr",
     "output_type": "stream",
     "text": [
      "/home/icb/alessandro.palma/miniconda3/envs/celldreamer/lib/python3.10/site-packages/pytorch_lightning/trainer/connectors/data_connector.py:475: Your `val_dataloader`'s sampler has shuffling enabled, it is strongly recommended that you turn shuffling off for val/test dataloaders.\n",
      "/home/icb/alessandro.palma/miniconda3/envs/celldreamer/lib/python3.10/site-packages/pytorch_lightning/loops/fit_loop.py:298: The number of training batches (10) is smaller than the logging interval Trainer(log_every_n_steps=50). Set a lower value for log_every_n_steps if you want to see logs for the training epoch.\n"
     ]
    },
    {
     "data": {
      "application/vnd.jupyter.widget-view+json": {
       "model_id": "19f91ed3a46b4efcb56de933a787acc1",
       "version_major": 2,
       "version_minor": 0
      },
      "text/plain": [
       "Training: |          | 0/? [00:00<?, ?it/s]"
      ]
     },
     "metadata": {},
     "output_type": "display_data"
    },
    {
     "data": {
      "application/vnd.jupyter.widget-view+json": {
       "model_id": "",
       "version_major": 2,
       "version_minor": 0
      },
      "text/plain": [
       "Validation: |          | 0/? [00:00<?, ?it/s]"
      ]
     },
     "metadata": {},
     "output_type": "display_data"
    },
    {
     "data": {
      "application/vnd.jupyter.widget-view+json": {
       "model_id": "",
       "version_major": 2,
       "version_minor": 0
      },
      "text/plain": [
       "Validation: |          | 0/? [00:00<?, ?it/s]"
      ]
     },
     "metadata": {},
     "output_type": "display_data"
    },
    {
     "data": {
      "application/vnd.jupyter.widget-view+json": {
       "model_id": "",
       "version_major": 2,
       "version_minor": 0
      },
      "text/plain": [
       "Validation: |          | 0/? [00:00<?, ?it/s]"
      ]
     },
     "metadata": {},
     "output_type": "display_data"
    },
    {
     "data": {
      "application/vnd.jupyter.widget-view+json": {
       "model_id": "",
       "version_major": 2,
       "version_minor": 0
      },
      "text/plain": [
       "Validation: |          | 0/? [00:00<?, ?it/s]"
      ]
     },
     "metadata": {},
     "output_type": "display_data"
    },
    {
     "data": {
      "application/vnd.jupyter.widget-view+json": {
       "model_id": "",
       "version_major": 2,
       "version_minor": 0
      },
      "text/plain": [
       "Validation: |          | 0/? [00:00<?, ?it/s]"
      ]
     },
     "metadata": {},
     "output_type": "display_data"
    },
    {
     "data": {
      "application/vnd.jupyter.widget-view+json": {
       "model_id": "",
       "version_major": 2,
       "version_minor": 0
      },
      "text/plain": [
       "Validation: |          | 0/? [00:00<?, ?it/s]"
      ]
     },
     "metadata": {},
     "output_type": "display_data"
    },
    {
     "data": {
      "application/vnd.jupyter.widget-view+json": {
       "model_id": "",
       "version_major": 2,
       "version_minor": 0
      },
      "text/plain": [
       "Validation: |          | 0/? [00:00<?, ?it/s]"
      ]
     },
     "metadata": {},
     "output_type": "display_data"
    },
    {
     "data": {
      "application/vnd.jupyter.widget-view+json": {
       "model_id": "",
       "version_major": 2,
       "version_minor": 0
      },
      "text/plain": [
       "Validation: |          | 0/? [00:00<?, ?it/s]"
      ]
     },
     "metadata": {},
     "output_type": "display_data"
    },
    {
     "data": {
      "application/vnd.jupyter.widget-view+json": {
       "model_id": "",
       "version_major": 2,
       "version_minor": 0
      },
      "text/plain": [
       "Validation: |          | 0/? [00:00<?, ?it/s]"
      ]
     },
     "metadata": {},
     "output_type": "display_data"
    },
    {
     "data": {
      "application/vnd.jupyter.widget-view+json": {
       "model_id": "",
       "version_major": 2,
       "version_minor": 0
      },
      "text/plain": [
       "Validation: |          | 0/? [00:00<?, ?it/s]"
      ]
     },
     "metadata": {},
     "output_type": "display_data"
    },
    {
     "data": {
      "application/vnd.jupyter.widget-view+json": {
       "model_id": "",
       "version_major": 2,
       "version_minor": 0
      },
      "text/plain": [
       "Validation: |          | 0/? [00:00<?, ?it/s]"
      ]
     },
     "metadata": {},
     "output_type": "display_data"
    },
    {
     "data": {
      "application/vnd.jupyter.widget-view+json": {
       "model_id": "",
       "version_major": 2,
       "version_minor": 0
      },
      "text/plain": [
       "Validation: |          | 0/? [00:00<?, ?it/s]"
      ]
     },
     "metadata": {},
     "output_type": "display_data"
    },
    {
     "data": {
      "application/vnd.jupyter.widget-view+json": {
       "model_id": "",
       "version_major": 2,
       "version_minor": 0
      },
      "text/plain": [
       "Validation: |          | 0/? [00:00<?, ?it/s]"
      ]
     },
     "metadata": {},
     "output_type": "display_data"
    },
    {
     "data": {
      "application/vnd.jupyter.widget-view+json": {
       "model_id": "",
       "version_major": 2,
       "version_minor": 0
      },
      "text/plain": [
       "Validation: |          | 0/? [00:00<?, ?it/s]"
      ]
     },
     "metadata": {},
     "output_type": "display_data"
    },
    {
     "data": {
      "application/vnd.jupyter.widget-view+json": {
       "model_id": "",
       "version_major": 2,
       "version_minor": 0
      },
      "text/plain": [
       "Validation: |          | 0/? [00:00<?, ?it/s]"
      ]
     },
     "metadata": {},
     "output_type": "display_data"
    },
    {
     "data": {
      "application/vnd.jupyter.widget-view+json": {
       "model_id": "",
       "version_major": 2,
       "version_minor": 0
      },
      "text/plain": [
       "Validation: |          | 0/? [00:00<?, ?it/s]"
      ]
     },
     "metadata": {},
     "output_type": "display_data"
    },
    {
     "data": {
      "application/vnd.jupyter.widget-view+json": {
       "model_id": "",
       "version_major": 2,
       "version_minor": 0
      },
      "text/plain": [
       "Validation: |          | 0/? [00:00<?, ?it/s]"
      ]
     },
     "metadata": {},
     "output_type": "display_data"
    },
    {
     "data": {
      "application/vnd.jupyter.widget-view+json": {
       "model_id": "",
       "version_major": 2,
       "version_minor": 0
      },
      "text/plain": [
       "Validation: |          | 0/? [00:00<?, ?it/s]"
      ]
     },
     "metadata": {},
     "output_type": "display_data"
    },
    {
     "data": {
      "application/vnd.jupyter.widget-view+json": {
       "model_id": "",
       "version_major": 2,
       "version_minor": 0
      },
      "text/plain": [
       "Validation: |          | 0/? [00:00<?, ?it/s]"
      ]
     },
     "metadata": {},
     "output_type": "display_data"
    },
    {
     "data": {
      "application/vnd.jupyter.widget-view+json": {
       "model_id": "",
       "version_major": 2,
       "version_minor": 0
      },
      "text/plain": [
       "Validation: |          | 0/? [00:00<?, ?it/s]"
      ]
     },
     "metadata": {},
     "output_type": "display_data"
    },
    {
     "data": {
      "application/vnd.jupyter.widget-view+json": {
       "model_id": "",
       "version_major": 2,
       "version_minor": 0
      },
      "text/plain": [
       "Validation: |          | 0/? [00:00<?, ?it/s]"
      ]
     },
     "metadata": {},
     "output_type": "display_data"
    },
    {
     "data": {
      "application/vnd.jupyter.widget-view+json": {
       "model_id": "",
       "version_major": 2,
       "version_minor": 0
      },
      "text/plain": [
       "Validation: |          | 0/? [00:00<?, ?it/s]"
      ]
     },
     "metadata": {},
     "output_type": "display_data"
    },
    {
     "data": {
      "application/vnd.jupyter.widget-view+json": {
       "model_id": "",
       "version_major": 2,
       "version_minor": 0
      },
      "text/plain": [
       "Validation: |          | 0/? [00:00<?, ?it/s]"
      ]
     },
     "metadata": {},
     "output_type": "display_data"
    },
    {
     "data": {
      "application/vnd.jupyter.widget-view+json": {
       "model_id": "",
       "version_major": 2,
       "version_minor": 0
      },
      "text/plain": [
       "Validation: |          | 0/? [00:00<?, ?it/s]"
      ]
     },
     "metadata": {},
     "output_type": "display_data"
    },
    {
     "data": {
      "application/vnd.jupyter.widget-view+json": {
       "model_id": "",
       "version_major": 2,
       "version_minor": 0
      },
      "text/plain": [
       "Validation: |          | 0/? [00:00<?, ?it/s]"
      ]
     },
     "metadata": {},
     "output_type": "display_data"
    },
    {
     "data": {
      "application/vnd.jupyter.widget-view+json": {
       "model_id": "",
       "version_major": 2,
       "version_minor": 0
      },
      "text/plain": [
       "Validation: |          | 0/? [00:00<?, ?it/s]"
      ]
     },
     "metadata": {},
     "output_type": "display_data"
    },
    {
     "data": {
      "application/vnd.jupyter.widget-view+json": {
       "model_id": "",
       "version_major": 2,
       "version_minor": 0
      },
      "text/plain": [
       "Validation: |          | 0/? [00:00<?, ?it/s]"
      ]
     },
     "metadata": {},
     "output_type": "display_data"
    },
    {
     "data": {
      "application/vnd.jupyter.widget-view+json": {
       "model_id": "",
       "version_major": 2,
       "version_minor": 0
      },
      "text/plain": [
       "Validation: |          | 0/? [00:00<?, ?it/s]"
      ]
     },
     "metadata": {},
     "output_type": "display_data"
    },
    {
     "data": {
      "application/vnd.jupyter.widget-view+json": {
       "model_id": "",
       "version_major": 2,
       "version_minor": 0
      },
      "text/plain": [
       "Validation: |          | 0/? [00:00<?, ?it/s]"
      ]
     },
     "metadata": {},
     "output_type": "display_data"
    },
    {
     "data": {
      "application/vnd.jupyter.widget-view+json": {
       "model_id": "",
       "version_major": 2,
       "version_minor": 0
      },
      "text/plain": [
       "Validation: |          | 0/? [00:00<?, ?it/s]"
      ]
     },
     "metadata": {},
     "output_type": "display_data"
    },
    {
     "data": {
      "application/vnd.jupyter.widget-view+json": {
       "model_id": "",
       "version_major": 2,
       "version_minor": 0
      },
      "text/plain": [
       "Validation: |          | 0/? [00:00<?, ?it/s]"
      ]
     },
     "metadata": {},
     "output_type": "display_data"
    },
    {
     "data": {
      "application/vnd.jupyter.widget-view+json": {
       "model_id": "",
       "version_major": 2,
       "version_minor": 0
      },
      "text/plain": [
       "Validation: |          | 0/? [00:00<?, ?it/s]"
      ]
     },
     "metadata": {},
     "output_type": "display_data"
    },
    {
     "data": {
      "application/vnd.jupyter.widget-view+json": {
       "model_id": "",
       "version_major": 2,
       "version_minor": 0
      },
      "text/plain": [
       "Validation: |          | 0/? [00:00<?, ?it/s]"
      ]
     },
     "metadata": {},
     "output_type": "display_data"
    },
    {
     "data": {
      "application/vnd.jupyter.widget-view+json": {
       "model_id": "",
       "version_major": 2,
       "version_minor": 0
      },
      "text/plain": [
       "Validation: |          | 0/? [00:00<?, ?it/s]"
      ]
     },
     "metadata": {},
     "output_type": "display_data"
    },
    {
     "data": {
      "application/vnd.jupyter.widget-view+json": {
       "model_id": "",
       "version_major": 2,
       "version_minor": 0
      },
      "text/plain": [
       "Validation: |          | 0/? [00:00<?, ?it/s]"
      ]
     },
     "metadata": {},
     "output_type": "display_data"
    },
    {
     "data": {
      "application/vnd.jupyter.widget-view+json": {
       "model_id": "",
       "version_major": 2,
       "version_minor": 0
      },
      "text/plain": [
       "Validation: |          | 0/? [00:00<?, ?it/s]"
      ]
     },
     "metadata": {},
     "output_type": "display_data"
    },
    {
     "data": {
      "application/vnd.jupyter.widget-view+json": {
       "model_id": "",
       "version_major": 2,
       "version_minor": 0
      },
      "text/plain": [
       "Validation: |          | 0/? [00:00<?, ?it/s]"
      ]
     },
     "metadata": {},
     "output_type": "display_data"
    },
    {
     "data": {
      "application/vnd.jupyter.widget-view+json": {
       "model_id": "",
       "version_major": 2,
       "version_minor": 0
      },
      "text/plain": [
       "Validation: |          | 0/? [00:00<?, ?it/s]"
      ]
     },
     "metadata": {},
     "output_type": "display_data"
    },
    {
     "data": {
      "application/vnd.jupyter.widget-view+json": {
       "model_id": "",
       "version_major": 2,
       "version_minor": 0
      },
      "text/plain": [
       "Validation: |          | 0/? [00:00<?, ?it/s]"
      ]
     },
     "metadata": {},
     "output_type": "display_data"
    },
    {
     "data": {
      "application/vnd.jupyter.widget-view+json": {
       "model_id": "",
       "version_major": 2,
       "version_minor": 0
      },
      "text/plain": [
       "Validation: |          | 0/? [00:00<?, ?it/s]"
      ]
     },
     "metadata": {},
     "output_type": "display_data"
    },
    {
     "data": {
      "application/vnd.jupyter.widget-view+json": {
       "model_id": "",
       "version_major": 2,
       "version_minor": 0
      },
      "text/plain": [
       "Validation: |          | 0/? [00:00<?, ?it/s]"
      ]
     },
     "metadata": {},
     "output_type": "display_data"
    },
    {
     "data": {
      "application/vnd.jupyter.widget-view+json": {
       "model_id": "",
       "version_major": 2,
       "version_minor": 0
      },
      "text/plain": [
       "Validation: |          | 0/? [00:00<?, ?it/s]"
      ]
     },
     "metadata": {},
     "output_type": "display_data"
    },
    {
     "data": {
      "application/vnd.jupyter.widget-view+json": {
       "model_id": "",
       "version_major": 2,
       "version_minor": 0
      },
      "text/plain": [
       "Validation: |          | 0/? [00:00<?, ?it/s]"
      ]
     },
     "metadata": {},
     "output_type": "display_data"
    },
    {
     "data": {
      "application/vnd.jupyter.widget-view+json": {
       "model_id": "",
       "version_major": 2,
       "version_minor": 0
      },
      "text/plain": [
       "Validation: |          | 0/? [00:00<?, ?it/s]"
      ]
     },
     "metadata": {},
     "output_type": "display_data"
    },
    {
     "data": {
      "application/vnd.jupyter.widget-view+json": {
       "model_id": "",
       "version_major": 2,
       "version_minor": 0
      },
      "text/plain": [
       "Validation: |          | 0/? [00:00<?, ?it/s]"
      ]
     },
     "metadata": {},
     "output_type": "display_data"
    },
    {
     "data": {
      "application/vnd.jupyter.widget-view+json": {
       "model_id": "",
       "version_major": 2,
       "version_minor": 0
      },
      "text/plain": [
       "Validation: |          | 0/? [00:00<?, ?it/s]"
      ]
     },
     "metadata": {},
     "output_type": "display_data"
    },
    {
     "data": {
      "application/vnd.jupyter.widget-view+json": {
       "model_id": "67456b4bdd4547a39b1b847d069086f7",
       "version_major": 2,
       "version_minor": 0
      },
      "text/plain": [
       "Validation: |          | 0/? [00:00<?, ?it/s]"
      ]
     },
     "metadata": {},
     "output_type": "display_data"
    },
    {
     "data": {
      "application/vnd.jupyter.widget-view+json": {
       "model_id": "df0d44b741064a05b16a7718fe64e060",
       "version_major": 2,
       "version_minor": 0
      },
      "text/plain": [
       "Validation: |          | 0/? [00:00<?, ?it/s]"
      ]
     },
     "metadata": {},
     "output_type": "display_data"
    },
    {
     "data": {
      "application/vnd.jupyter.widget-view+json": {
       "model_id": "f5cc9fc8f4d54749986fe0a4d0167936",
       "version_major": 2,
       "version_minor": 0
      },
      "text/plain": [
       "Validation: |          | 0/? [00:00<?, ?it/s]"
      ]
     },
     "metadata": {},
     "output_type": "display_data"
    },
    {
     "data": {
      "application/vnd.jupyter.widget-view+json": {
       "model_id": "9b6c16347a124080becf2c05aa50f980",
       "version_major": 2,
       "version_minor": 0
      },
      "text/plain": [
       "Validation: |          | 0/? [00:00<?, ?it/s]"
      ]
     },
     "metadata": {},
     "output_type": "display_data"
    },
    {
     "data": {
      "application/vnd.jupyter.widget-view+json": {
       "model_id": "6051f1a4abda42d6af50020e70ffa118",
       "version_major": 2,
       "version_minor": 0
      },
      "text/plain": [
       "Validation: |          | 0/? [00:00<?, ?it/s]"
      ]
     },
     "metadata": {},
     "output_type": "display_data"
    },
    {
     "data": {
      "application/vnd.jupyter.widget-view+json": {
       "model_id": "ac024c3bf22f4b20afde16eba3a26ff5",
       "version_major": 2,
       "version_minor": 0
      },
      "text/plain": [
       "Validation: |          | 0/? [00:00<?, ?it/s]"
      ]
     },
     "metadata": {},
     "output_type": "display_data"
    },
    {
     "data": {
      "application/vnd.jupyter.widget-view+json": {
       "model_id": "1abe720c36f34e5bb01dbba5023e01e8",
       "version_major": 2,
       "version_minor": 0
      },
      "text/plain": [
       "Validation: |          | 0/? [00:00<?, ?it/s]"
      ]
     },
     "metadata": {},
     "output_type": "display_data"
    },
    {
     "data": {
      "application/vnd.jupyter.widget-view+json": {
       "model_id": "45463381385a4f298624f83494e8c238",
       "version_major": 2,
       "version_minor": 0
      },
      "text/plain": [
       "Validation: |          | 0/? [00:00<?, ?it/s]"
      ]
     },
     "metadata": {},
     "output_type": "display_data"
    },
    {
     "data": {
      "application/vnd.jupyter.widget-view+json": {
       "model_id": "69d58f86edfd4f3db8063f4859007bb6",
       "version_major": 2,
       "version_minor": 0
      },
      "text/plain": [
       "Validation: |          | 0/? [00:00<?, ?it/s]"
      ]
     },
     "metadata": {},
     "output_type": "display_data"
    },
    {
     "data": {
      "application/vnd.jupyter.widget-view+json": {
       "model_id": "b9d0164364124f4fa4430eb5af540c66",
       "version_major": 2,
       "version_minor": 0
      },
      "text/plain": [
       "Validation: |          | 0/? [00:00<?, ?it/s]"
      ]
     },
     "metadata": {},
     "output_type": "display_data"
    },
    {
     "data": {
      "application/vnd.jupyter.widget-view+json": {
       "model_id": "0a41f7e6fb8f4008b395ed066a692f76",
       "version_major": 2,
       "version_minor": 0
      },
      "text/plain": [
       "Validation: |          | 0/? [00:00<?, ?it/s]"
      ]
     },
     "metadata": {},
     "output_type": "display_data"
    },
    {
     "data": {
      "application/vnd.jupyter.widget-view+json": {
       "model_id": "a4fbf9a369a549268ebe7bc304f5b1b6",
       "version_major": 2,
       "version_minor": 0
      },
      "text/plain": [
       "Validation: |          | 0/? [00:00<?, ?it/s]"
      ]
     },
     "metadata": {},
     "output_type": "display_data"
    },
    {
     "data": {
      "application/vnd.jupyter.widget-view+json": {
       "model_id": "abe88f7aa34e40059b54f5b4feb61410",
       "version_major": 2,
       "version_minor": 0
      },
      "text/plain": [
       "Validation: |          | 0/? [00:00<?, ?it/s]"
      ]
     },
     "metadata": {},
     "output_type": "display_data"
    },
    {
     "data": {
      "application/vnd.jupyter.widget-view+json": {
       "model_id": "594094de94a8440a9f7c592f8b0776bb",
       "version_major": 2,
       "version_minor": 0
      },
      "text/plain": [
       "Validation: |          | 0/? [00:00<?, ?it/s]"
      ]
     },
     "metadata": {},
     "output_type": "display_data"
    },
    {
     "data": {
      "application/vnd.jupyter.widget-view+json": {
       "model_id": "ad68bbd464734a3bbe754d808a46ca32",
       "version_major": 2,
       "version_minor": 0
      },
      "text/plain": [
       "Validation: |          | 0/? [00:00<?, ?it/s]"
      ]
     },
     "metadata": {},
     "output_type": "display_data"
    },
    {
     "data": {
      "application/vnd.jupyter.widget-view+json": {
       "model_id": "20d1722a35a046d7b9131586affb72ea",
       "version_major": 2,
       "version_minor": 0
      },
      "text/plain": [
       "Validation: |          | 0/? [00:00<?, ?it/s]"
      ]
     },
     "metadata": {},
     "output_type": "display_data"
    },
    {
     "data": {
      "application/vnd.jupyter.widget-view+json": {
       "model_id": "92cf4d8c0126447db82328639c0f88aa",
       "version_major": 2,
       "version_minor": 0
      },
      "text/plain": [
       "Validation: |          | 0/? [00:00<?, ?it/s]"
      ]
     },
     "metadata": {},
     "output_type": "display_data"
    },
    {
     "data": {
      "application/vnd.jupyter.widget-view+json": {
       "model_id": "992350e2ee3c4b51af1c349112114e4f",
       "version_major": 2,
       "version_minor": 0
      },
      "text/plain": [
       "Validation: |          | 0/? [00:00<?, ?it/s]"
      ]
     },
     "metadata": {},
     "output_type": "display_data"
    },
    {
     "data": {
      "application/vnd.jupyter.widget-view+json": {
       "model_id": "4c3509ecc8994dbaa12e04def8f6eff3",
       "version_major": 2,
       "version_minor": 0
      },
      "text/plain": [
       "Validation: |          | 0/? [00:00<?, ?it/s]"
      ]
     },
     "metadata": {},
     "output_type": "display_data"
    },
    {
     "data": {
      "application/vnd.jupyter.widget-view+json": {
       "model_id": "ffa391412ff7487ba41adcff2b7b3233",
       "version_major": 2,
       "version_minor": 0
      },
      "text/plain": [
       "Validation: |          | 0/? [00:00<?, ?it/s]"
      ]
     },
     "metadata": {},
     "output_type": "display_data"
    },
    {
     "data": {
      "application/vnd.jupyter.widget-view+json": {
       "model_id": "5d44c40fab86489295eb7cf458957d88",
       "version_major": 2,
       "version_minor": 0
      },
      "text/plain": [
       "Validation: |          | 0/? [00:00<?, ?it/s]"
      ]
     },
     "metadata": {},
     "output_type": "display_data"
    },
    {
     "data": {
      "application/vnd.jupyter.widget-view+json": {
       "model_id": "352a2144e9234eaf8bc366808867b044",
       "version_major": 2,
       "version_minor": 0
      },
      "text/plain": [
       "Validation: |          | 0/? [00:00<?, ?it/s]"
      ]
     },
     "metadata": {},
     "output_type": "display_data"
    },
    {
     "data": {
      "application/vnd.jupyter.widget-view+json": {
       "model_id": "41b4234352784acdb4b07a87a44a9e2e",
       "version_major": 2,
       "version_minor": 0
      },
      "text/plain": [
       "Validation: |          | 0/? [00:00<?, ?it/s]"
      ]
     },
     "metadata": {},
     "output_type": "display_data"
    },
    {
     "data": {
      "application/vnd.jupyter.widget-view+json": {
       "model_id": "26a9554703c849aea9d64aa3c2a2a631",
       "version_major": 2,
       "version_minor": 0
      },
      "text/plain": [
       "Validation: |          | 0/? [00:00<?, ?it/s]"
      ]
     },
     "metadata": {},
     "output_type": "display_data"
    },
    {
     "data": {
      "application/vnd.jupyter.widget-view+json": {
       "model_id": "7a1890caeedc4e2ba890f65a58a04481",
       "version_major": 2,
       "version_minor": 0
      },
      "text/plain": [
       "Validation: |          | 0/? [00:00<?, ?it/s]"
      ]
     },
     "metadata": {},
     "output_type": "display_data"
    },
    {
     "data": {
      "application/vnd.jupyter.widget-view+json": {
       "model_id": "3d3cf1b98ff14158bb0ee86e90fc0be9",
       "version_major": 2,
       "version_minor": 0
      },
      "text/plain": [
       "Validation: |          | 0/? [00:00<?, ?it/s]"
      ]
     },
     "metadata": {},
     "output_type": "display_data"
    },
    {
     "data": {
      "application/vnd.jupyter.widget-view+json": {
       "model_id": "268f1cfe251e4f93a16445a88bcb4a1d",
       "version_major": 2,
       "version_minor": 0
      },
      "text/plain": [
       "Validation: |          | 0/? [00:00<?, ?it/s]"
      ]
     },
     "metadata": {},
     "output_type": "display_data"
    },
    {
     "data": {
      "application/vnd.jupyter.widget-view+json": {
       "model_id": "369f6ac986db4f29974175ad5dbdcc59",
       "version_major": 2,
       "version_minor": 0
      },
      "text/plain": [
       "Validation: |          | 0/? [00:00<?, ?it/s]"
      ]
     },
     "metadata": {},
     "output_type": "display_data"
    },
    {
     "data": {
      "application/vnd.jupyter.widget-view+json": {
       "model_id": "fdb3dc8b454c417ab64839b9a782a3dc",
       "version_major": 2,
       "version_minor": 0
      },
      "text/plain": [
       "Validation: |          | 0/? [00:00<?, ?it/s]"
      ]
     },
     "metadata": {},
     "output_type": "display_data"
    },
    {
     "data": {
      "application/vnd.jupyter.widget-view+json": {
       "model_id": "7f0673c483d14dc59b6fc9b85aeb5e45",
       "version_major": 2,
       "version_minor": 0
      },
      "text/plain": [
       "Validation: |          | 0/? [00:00<?, ?it/s]"
      ]
     },
     "metadata": {},
     "output_type": "display_data"
    },
    {
     "data": {
      "application/vnd.jupyter.widget-view+json": {
       "model_id": "581cbd3cf4504fc69136797f25fe7392",
       "version_major": 2,
       "version_minor": 0
      },
      "text/plain": [
       "Validation: |          | 0/? [00:00<?, ?it/s]"
      ]
     },
     "metadata": {},
     "output_type": "display_data"
    },
    {
     "data": {
      "application/vnd.jupyter.widget-view+json": {
       "model_id": "5a07c65352224dff8cf23be924c1a429",
       "version_major": 2,
       "version_minor": 0
      },
      "text/plain": [
       "Validation: |          | 0/? [00:00<?, ?it/s]"
      ]
     },
     "metadata": {},
     "output_type": "display_data"
    },
    {
     "data": {
      "application/vnd.jupyter.widget-view+json": {
       "model_id": "21206fa559064c989c2911e3f24d9666",
       "version_major": 2,
       "version_minor": 0
      },
      "text/plain": [
       "Validation: |          | 0/? [00:00<?, ?it/s]"
      ]
     },
     "metadata": {},
     "output_type": "display_data"
    },
    {
     "data": {
      "application/vnd.jupyter.widget-view+json": {
       "model_id": "960c5f1543b64f42bac01b356b0c12a9",
       "version_major": 2,
       "version_minor": 0
      },
      "text/plain": [
       "Validation: |          | 0/? [00:00<?, ?it/s]"
      ]
     },
     "metadata": {},
     "output_type": "display_data"
    },
    {
     "data": {
      "application/vnd.jupyter.widget-view+json": {
       "model_id": "ef4e21701f854e5aad94abe746f7627e",
       "version_major": 2,
       "version_minor": 0
      },
      "text/plain": [
       "Validation: |          | 0/? [00:00<?, ?it/s]"
      ]
     },
     "metadata": {},
     "output_type": "display_data"
    },
    {
     "data": {
      "application/vnd.jupyter.widget-view+json": {
       "model_id": "cdcc34bb094c48bb81c6d5c1f509e949",
       "version_major": 2,
       "version_minor": 0
      },
      "text/plain": [
       "Validation: |          | 0/? [00:00<?, ?it/s]"
      ]
     },
     "metadata": {},
     "output_type": "display_data"
    },
    {
     "data": {
      "application/vnd.jupyter.widget-view+json": {
       "model_id": "59a0819b572347b890c991f8e72fc812",
       "version_major": 2,
       "version_minor": 0
      },
      "text/plain": [
       "Validation: |          | 0/? [00:00<?, ?it/s]"
      ]
     },
     "metadata": {},
     "output_type": "display_data"
    },
    {
     "data": {
      "application/vnd.jupyter.widget-view+json": {
       "model_id": "fafeaf47d82343ccb533f9b24b4e3472",
       "version_major": 2,
       "version_minor": 0
      },
      "text/plain": [
       "Validation: |          | 0/? [00:00<?, ?it/s]"
      ]
     },
     "metadata": {},
     "output_type": "display_data"
    },
    {
     "data": {
      "application/vnd.jupyter.widget-view+json": {
       "model_id": "85b9e8958c0840ddb3f22a5d9cd8ffa7",
       "version_major": 2,
       "version_minor": 0
      },
      "text/plain": [
       "Validation: |          | 0/? [00:00<?, ?it/s]"
      ]
     },
     "metadata": {},
     "output_type": "display_data"
    },
    {
     "data": {
      "application/vnd.jupyter.widget-view+json": {
       "model_id": "e6830366c5894a1a91db7ca64b3522c2",
       "version_major": 2,
       "version_minor": 0
      },
      "text/plain": [
       "Validation: |          | 0/? [00:00<?, ?it/s]"
      ]
     },
     "metadata": {},
     "output_type": "display_data"
    },
    {
     "data": {
      "application/vnd.jupyter.widget-view+json": {
       "model_id": "4763c1a2ed33447d93d334bf0c152939",
       "version_major": 2,
       "version_minor": 0
      },
      "text/plain": [
       "Validation: |          | 0/? [00:00<?, ?it/s]"
      ]
     },
     "metadata": {},
     "output_type": "display_data"
    },
    {
     "data": {
      "application/vnd.jupyter.widget-view+json": {
       "model_id": "4773c3a583444cb08d19dc91dc6c26ad",
       "version_major": 2,
       "version_minor": 0
      },
      "text/plain": [
       "Validation: |          | 0/? [00:00<?, ?it/s]"
      ]
     },
     "metadata": {},
     "output_type": "display_data"
    },
    {
     "data": {
      "application/vnd.jupyter.widget-view+json": {
       "model_id": "cb7b3eedb493451cb728ce7a3185c8a5",
       "version_major": 2,
       "version_minor": 0
      },
      "text/plain": [
       "Validation: |          | 0/? [00:00<?, ?it/s]"
      ]
     },
     "metadata": {},
     "output_type": "display_data"
    },
    {
     "data": {
      "application/vnd.jupyter.widget-view+json": {
       "model_id": "279bb09f9f364b659560150acb9a508d",
       "version_major": 2,
       "version_minor": 0
      },
      "text/plain": [
       "Validation: |          | 0/? [00:00<?, ?it/s]"
      ]
     },
     "metadata": {},
     "output_type": "display_data"
    },
    {
     "data": {
      "application/vnd.jupyter.widget-view+json": {
       "model_id": "1b0d5750f3cc409cb197eb1b44166e2e",
       "version_major": 2,
       "version_minor": 0
      },
      "text/plain": [
       "Validation: |          | 0/? [00:00<?, ?it/s]"
      ]
     },
     "metadata": {},
     "output_type": "display_data"
    },
    {
     "data": {
      "application/vnd.jupyter.widget-view+json": {
       "model_id": "e260c9b24a6643aa962f470478381261",
       "version_major": 2,
       "version_minor": 0
      },
      "text/plain": [
       "Validation: |          | 0/? [00:00<?, ?it/s]"
      ]
     },
     "metadata": {},
     "output_type": "display_data"
    },
    {
     "data": {
      "application/vnd.jupyter.widget-view+json": {
       "model_id": "6cd26eb3243742f9b7a46f877a1b1096",
       "version_major": 2,
       "version_minor": 0
      },
      "text/plain": [
       "Validation: |          | 0/? [00:00<?, ?it/s]"
      ]
     },
     "metadata": {},
     "output_type": "display_data"
    },
    {
     "data": {
      "application/vnd.jupyter.widget-view+json": {
       "model_id": "9f99a7021ff54912866cefd6dbd15179",
       "version_major": 2,
       "version_minor": 0
      },
      "text/plain": [
       "Validation: |          | 0/? [00:00<?, ?it/s]"
      ]
     },
     "metadata": {},
     "output_type": "display_data"
    },
    {
     "data": {
      "application/vnd.jupyter.widget-view+json": {
       "model_id": "46a46a8776da416689aab47db72adcc3",
       "version_major": 2,
       "version_minor": 0
      },
      "text/plain": [
       "Validation: |          | 0/? [00:00<?, ?it/s]"
      ]
     },
     "metadata": {},
     "output_type": "display_data"
    },
    {
     "data": {
      "application/vnd.jupyter.widget-view+json": {
       "model_id": "187f573657334017967ef3d02dc644d2",
       "version_major": 2,
       "version_minor": 0
      },
      "text/plain": [
       "Validation: |          | 0/? [00:00<?, ?it/s]"
      ]
     },
     "metadata": {},
     "output_type": "display_data"
    },
    {
     "data": {
      "application/vnd.jupyter.widget-view+json": {
       "model_id": "29ee83c6cdad4d24ae2b9deede7cf26f",
       "version_major": 2,
       "version_minor": 0
      },
      "text/plain": [
       "Validation: |          | 0/? [00:00<?, ?it/s]"
      ]
     },
     "metadata": {},
     "output_type": "display_data"
    },
    {
     "data": {
      "application/vnd.jupyter.widget-view+json": {
       "model_id": "9b5734a69b1f46298c0ea6f5dea631d3",
       "version_major": 2,
       "version_minor": 0
      },
      "text/plain": [
       "Validation: |          | 0/? [00:00<?, ?it/s]"
      ]
     },
     "metadata": {},
     "output_type": "display_data"
    },
    {
     "data": {
      "application/vnd.jupyter.widget-view+json": {
       "model_id": "a31836f83cd7443c854eb8784248cfff",
       "version_major": 2,
       "version_minor": 0
      },
      "text/plain": [
       "Validation: |          | 0/? [00:00<?, ?it/s]"
      ]
     },
     "metadata": {},
     "output_type": "display_data"
    },
    {
     "data": {
      "application/vnd.jupyter.widget-view+json": {
       "model_id": "504dcdec510e4f67930d253f71ffcd7a",
       "version_major": 2,
       "version_minor": 0
      },
      "text/plain": [
       "Validation: |          | 0/? [00:00<?, ?it/s]"
      ]
     },
     "metadata": {},
     "output_type": "display_data"
    },
    {
     "name": "stderr",
     "output_type": "stream",
     "text": [
      "`Trainer.fit` stopped: `max_epochs=100` reached.\n"
     ]
    }
   ],
   "source": [
    "trainer_generative.fit(\n",
    "            encoder_model,\n",
    "            train_dataloaders=dataloader,\n",
    "            val_dataloaders=dataloader)"
   ]
  },
  {
   "cell_type": "markdown",
   "id": "aa201fff-4eda-4ece-8560-f40bab649ace",
   "metadata": {},
   "source": [
    "### Flow training"
   ]
  },
  {
   "cell_type": "markdown",
   "id": "7fd3c42e-0662-4eae-b7eb-5c60d87b88f5",
   "metadata": {},
   "source": [
    "Initialize the flow"
   ]
  },
  {
   "cell_type": "code",
   "execution_count": 173,
   "id": "c7408b47-c4ea-4a23-ad8c-75d468f116f9",
   "metadata": {},
   "outputs": [],
   "source": [
    "# Latent dimension\n",
    "in_dim = 100  \n",
    "# No modality list \n",
    "modality_list = None "
   ]
  },
  {
   "cell_type": "markdown",
   "id": "45a15854-6699-49bd-a9af-7ff52334a478",
   "metadata": {},
   "source": [
    "Initialize the feature embeddings"
   ]
  },
  {
   "cell_type": "code",
   "execution_count": 174,
   "id": "ec2d6471-36b0-42dc-a1bf-a1a5b127c21d",
   "metadata": {},
   "outputs": [],
   "source": [
    "feature_embeddings = {}  \n",
    "num_classes = {}\n",
    "        \n",
    "for cov, cov_names in dataset.id2cov.items():\n",
    "    feature_embeddings[cov] = CategoricalFeaturizer(len(cov_names), \n",
    "                                                            False, \n",
    "                                                            \"cuda\", \n",
    "                                                            embedding_dimensions=100)\n",
    "\n",
    "    num_classes[cov] = 100"
   ]
  },
  {
   "cell_type": "markdown",
   "id": "0d071f56-d01a-4b29-abf0-4d6cb5739c18",
   "metadata": {},
   "source": [
    "Initialize the denoising model "
   ]
  },
  {
   "cell_type": "code",
   "execution_count": 175,
   "id": "627d4e5c-b0c4-4476-add2-ab65e4230cb1",
   "metadata": {},
   "outputs": [],
   "source": [
    "# Initialize the denoising model\n",
    "denoising_model = MLPTimeStep(in_dim=in_dim,                            # Presumably pre-defined\n",
    "                                hidden_dim=32,                            # From config hidden_dim\n",
    "                                dropout_prob=0,                           # From config dropout_prob\n",
    "                                n_blocks=3,                               # From config n_blocks\n",
    "                                model_type=\"conditional_latent\",          # From config model_type\n",
    "                                size_factor_min=dataset.min_size_factor,  # From dataset properties\n",
    "                                size_factor_max=dataset.max_size_factor,  # From dataset properties\n",
    "                                embedding_dim=100,                         # From config embedding_dim\n",
    "                                normalization=\"none\",                     # From config normalization\n",
    "                                conditional=True,                         # From config conditional\n",
    "                                multimodal=False,                         # From config multimodal\n",
    "                                is_binarized=False,                       # From config is_binarized\n",
    "                                modality_list=None,                       # Assuming no specific modality list\n",
    "                                embed_size_factor=False                   # From config embed_size_factor\n",
    "                                ).to(\"cuda\")"
   ]
  },
  {
   "cell_type": "code",
   "execution_count": 176,
   "id": "333030a6-f874-4617-a154-6883754ffd19",
   "metadata": {},
   "outputs": [],
   "source": [
    "for param in encoder_model.parameters():\n",
    "    param.requires_grad = False"
   ]
  },
  {
   "cell_type": "code",
   "execution_count": 177,
   "id": "9e83ed07-64f8-46e9-b950-1a0140428ab5",
   "metadata": {},
   "outputs": [],
   "source": [
    "size_factor_statistics = {\"mean\": dataset.log_size_factor_mu, \n",
    "                                        \"sd\": dataset.log_size_factor_sd}\n",
    "\n",
    "generative_model = FM(\n",
    "    encoder_model=encoder_model,\n",
    "    denoising_model=denoising_model,\n",
    "    feature_embeddings=feature_embeddings,\n",
    "    plotting_folder=\"/home/icb/alessandro.palma/environment/cfgen/notebooks/experiments/imputation/plots/try1\",\n",
    "    in_dim=in_dim,\n",
    "    size_factor_statistics=size_factor_statistics,\n",
    "    encoder_type=\"learnt_autoencoder\",\n",
    "    conditioning_covariate=\"cell_type\",\n",
    "    model_type=denoising_model.model_type,\n",
    "    multimodal=dataset.multimodal,\n",
    "    is_binarized=False,\n",
    "    modality_list=None,\n",
    "    learning_rate=0.0001,\n",
    "    weight_decay=0.000001,\n",
    "    antithetic_time_sampling=True,\n",
    "    sigma=0.01,\n",
    "    use_ot=False\n",
    ")"
   ]
  },
  {
   "cell_type": "code",
   "execution_count": 178,
   "id": "b94e2b89-62c5-46f5-a138-e2b789232696",
   "metadata": {},
   "outputs": [
    {
     "name": "stderr",
     "output_type": "stream",
     "text": [
      "GPU available: True (cuda), used: True\n",
      "TPU available: False, using: 0 TPU cores\n",
      "HPU available: False, using: 0 HPUs\n"
     ]
    }
   ],
   "source": [
    "trainer_generative = Trainer(max_epochs=100)"
   ]
  },
  {
   "cell_type": "code",
   "execution_count": 179,
   "id": "e433d5b3-900c-4a6d-ae6b-3700df6a91b4",
   "metadata": {
    "scrolled": true
   },
   "outputs": [
    {
     "name": "stderr",
     "output_type": "stream",
     "text": [
      "LOCAL_RANK: 0 - CUDA_VISIBLE_DEVICES: [0]\n",
      "\n",
      "  | Name            | Type         | Params | Mode \n",
      "---------------------------------------------------------\n",
      "0 | encoder_model   | EncoderModel | 2.4 M  | eval \n",
      "1 | denoising_model | MLPTimeStep  | 42.8 K | train\n",
      "2 | criterion       | MSELoss      | 0      | train\n",
      "---------------------------------------------------------\n",
      "42.8 K    Trainable params\n",
      "2.4 M     Non-trainable params\n",
      "2.4 M     Total params\n",
      "9.651     Total estimated model params size (MB)\n"
     ]
    },
    {
     "data": {
      "application/vnd.jupyter.widget-view+json": {
       "model_id": "",
       "version_major": 2,
       "version_minor": 0
      },
      "text/plain": [
       "Sanity Checking: |          | 0/? [00:00<?, ?it/s]"
      ]
     },
     "metadata": {},
     "output_type": "display_data"
    },
    {
     "data": {
      "application/vnd.jupyter.widget-view+json": {
       "model_id": "ca7778414ac643cba43575e5e2c21087",
       "version_major": 2,
       "version_minor": 0
      },
      "text/plain": [
       "Training: |          | 0/? [00:00<?, ?it/s]"
      ]
     },
     "metadata": {},
     "output_type": "display_data"
    },
    {
     "data": {
      "application/vnd.jupyter.widget-view+json": {
       "model_id": "",
       "version_major": 2,
       "version_minor": 0
      },
      "text/plain": [
       "Validation: |          | 0/? [00:00<?, ?it/s]"
      ]
     },
     "metadata": {},
     "output_type": "display_data"
    },
    {
     "data": {
      "application/vnd.jupyter.widget-view+json": {
       "model_id": "",
       "version_major": 2,
       "version_minor": 0
      },
      "text/plain": [
       "Validation: |          | 0/? [00:00<?, ?it/s]"
      ]
     },
     "metadata": {},
     "output_type": "display_data"
    },
    {
     "data": {
      "application/vnd.jupyter.widget-view+json": {
       "model_id": "",
       "version_major": 2,
       "version_minor": 0
      },
      "text/plain": [
       "Validation: |          | 0/? [00:00<?, ?it/s]"
      ]
     },
     "metadata": {},
     "output_type": "display_data"
    },
    {
     "data": {
      "application/vnd.jupyter.widget-view+json": {
       "model_id": "",
       "version_major": 2,
       "version_minor": 0
      },
      "text/plain": [
       "Validation: |          | 0/? [00:00<?, ?it/s]"
      ]
     },
     "metadata": {},
     "output_type": "display_data"
    },
    {
     "data": {
      "application/vnd.jupyter.widget-view+json": {
       "model_id": "",
       "version_major": 2,
       "version_minor": 0
      },
      "text/plain": [
       "Validation: |          | 0/? [00:00<?, ?it/s]"
      ]
     },
     "metadata": {},
     "output_type": "display_data"
    },
    {
     "data": {
      "application/vnd.jupyter.widget-view+json": {
       "model_id": "",
       "version_major": 2,
       "version_minor": 0
      },
      "text/plain": [
       "Validation: |          | 0/? [00:00<?, ?it/s]"
      ]
     },
     "metadata": {},
     "output_type": "display_data"
    },
    {
     "data": {
      "application/vnd.jupyter.widget-view+json": {
       "model_id": "",
       "version_major": 2,
       "version_minor": 0
      },
      "text/plain": [
       "Validation: |          | 0/? [00:00<?, ?it/s]"
      ]
     },
     "metadata": {},
     "output_type": "display_data"
    },
    {
     "data": {
      "application/vnd.jupyter.widget-view+json": {
       "model_id": "",
       "version_major": 2,
       "version_minor": 0
      },
      "text/plain": [
       "Validation: |          | 0/? [00:00<?, ?it/s]"
      ]
     },
     "metadata": {},
     "output_type": "display_data"
    },
    {
     "data": {
      "application/vnd.jupyter.widget-view+json": {
       "model_id": "",
       "version_major": 2,
       "version_minor": 0
      },
      "text/plain": [
       "Validation: |          | 0/? [00:00<?, ?it/s]"
      ]
     },
     "metadata": {},
     "output_type": "display_data"
    },
    {
     "data": {
      "application/vnd.jupyter.widget-view+json": {
       "model_id": "",
       "version_major": 2,
       "version_minor": 0
      },
      "text/plain": [
       "Validation: |          | 0/? [00:00<?, ?it/s]"
      ]
     },
     "metadata": {},
     "output_type": "display_data"
    },
    {
     "data": {
      "application/vnd.jupyter.widget-view+json": {
       "model_id": "",
       "version_major": 2,
       "version_minor": 0
      },
      "text/plain": [
       "Validation: |          | 0/? [00:00<?, ?it/s]"
      ]
     },
     "metadata": {},
     "output_type": "display_data"
    },
    {
     "data": {
      "application/vnd.jupyter.widget-view+json": {
       "model_id": "",
       "version_major": 2,
       "version_minor": 0
      },
      "text/plain": [
       "Validation: |          | 0/? [00:00<?, ?it/s]"
      ]
     },
     "metadata": {},
     "output_type": "display_data"
    },
    {
     "data": {
      "application/vnd.jupyter.widget-view+json": {
       "model_id": "",
       "version_major": 2,
       "version_minor": 0
      },
      "text/plain": [
       "Validation: |          | 0/? [00:00<?, ?it/s]"
      ]
     },
     "metadata": {},
     "output_type": "display_data"
    },
    {
     "data": {
      "application/vnd.jupyter.widget-view+json": {
       "model_id": "",
       "version_major": 2,
       "version_minor": 0
      },
      "text/plain": [
       "Validation: |          | 0/? [00:00<?, ?it/s]"
      ]
     },
     "metadata": {},
     "output_type": "display_data"
    },
    {
     "data": {
      "application/vnd.jupyter.widget-view+json": {
       "model_id": "",
       "version_major": 2,
       "version_minor": 0
      },
      "text/plain": [
       "Validation: |          | 0/? [00:00<?, ?it/s]"
      ]
     },
     "metadata": {},
     "output_type": "display_data"
    },
    {
     "data": {
      "application/vnd.jupyter.widget-view+json": {
       "model_id": "",
       "version_major": 2,
       "version_minor": 0
      },
      "text/plain": [
       "Validation: |          | 0/? [00:00<?, ?it/s]"
      ]
     },
     "metadata": {},
     "output_type": "display_data"
    },
    {
     "data": {
      "application/vnd.jupyter.widget-view+json": {
       "model_id": "",
       "version_major": 2,
       "version_minor": 0
      },
      "text/plain": [
       "Validation: |          | 0/? [00:00<?, ?it/s]"
      ]
     },
     "metadata": {},
     "output_type": "display_data"
    },
    {
     "data": {
      "application/vnd.jupyter.widget-view+json": {
       "model_id": "",
       "version_major": 2,
       "version_minor": 0
      },
      "text/plain": [
       "Validation: |          | 0/? [00:00<?, ?it/s]"
      ]
     },
     "metadata": {},
     "output_type": "display_data"
    },
    {
     "data": {
      "application/vnd.jupyter.widget-view+json": {
       "model_id": "",
       "version_major": 2,
       "version_minor": 0
      },
      "text/plain": [
       "Validation: |          | 0/? [00:00<?, ?it/s]"
      ]
     },
     "metadata": {},
     "output_type": "display_data"
    },
    {
     "data": {
      "application/vnd.jupyter.widget-view+json": {
       "model_id": "",
       "version_major": 2,
       "version_minor": 0
      },
      "text/plain": [
       "Validation: |          | 0/? [00:00<?, ?it/s]"
      ]
     },
     "metadata": {},
     "output_type": "display_data"
    },
    {
     "data": {
      "application/vnd.jupyter.widget-view+json": {
       "model_id": "",
       "version_major": 2,
       "version_minor": 0
      },
      "text/plain": [
       "Validation: |          | 0/? [00:00<?, ?it/s]"
      ]
     },
     "metadata": {},
     "output_type": "display_data"
    },
    {
     "data": {
      "application/vnd.jupyter.widget-view+json": {
       "model_id": "",
       "version_major": 2,
       "version_minor": 0
      },
      "text/plain": [
       "Validation: |          | 0/? [00:00<?, ?it/s]"
      ]
     },
     "metadata": {},
     "output_type": "display_data"
    },
    {
     "data": {
      "application/vnd.jupyter.widget-view+json": {
       "model_id": "",
       "version_major": 2,
       "version_minor": 0
      },
      "text/plain": [
       "Validation: |          | 0/? [00:00<?, ?it/s]"
      ]
     },
     "metadata": {},
     "output_type": "display_data"
    },
    {
     "data": {
      "application/vnd.jupyter.widget-view+json": {
       "model_id": "",
       "version_major": 2,
       "version_minor": 0
      },
      "text/plain": [
       "Validation: |          | 0/? [00:00<?, ?it/s]"
      ]
     },
     "metadata": {},
     "output_type": "display_data"
    },
    {
     "data": {
      "application/vnd.jupyter.widget-view+json": {
       "model_id": "",
       "version_major": 2,
       "version_minor": 0
      },
      "text/plain": [
       "Validation: |          | 0/? [00:00<?, ?it/s]"
      ]
     },
     "metadata": {},
     "output_type": "display_data"
    },
    {
     "data": {
      "application/vnd.jupyter.widget-view+json": {
       "model_id": "",
       "version_major": 2,
       "version_minor": 0
      },
      "text/plain": [
       "Validation: |          | 0/? [00:00<?, ?it/s]"
      ]
     },
     "metadata": {},
     "output_type": "display_data"
    },
    {
     "data": {
      "application/vnd.jupyter.widget-view+json": {
       "model_id": "",
       "version_major": 2,
       "version_minor": 0
      },
      "text/plain": [
       "Validation: |          | 0/? [00:00<?, ?it/s]"
      ]
     },
     "metadata": {},
     "output_type": "display_data"
    },
    {
     "data": {
      "application/vnd.jupyter.widget-view+json": {
       "model_id": "",
       "version_major": 2,
       "version_minor": 0
      },
      "text/plain": [
       "Validation: |          | 0/? [00:00<?, ?it/s]"
      ]
     },
     "metadata": {},
     "output_type": "display_data"
    },
    {
     "data": {
      "application/vnd.jupyter.widget-view+json": {
       "model_id": "",
       "version_major": 2,
       "version_minor": 0
      },
      "text/plain": [
       "Validation: |          | 0/? [00:00<?, ?it/s]"
      ]
     },
     "metadata": {},
     "output_type": "display_data"
    },
    {
     "data": {
      "application/vnd.jupyter.widget-view+json": {
       "model_id": "",
       "version_major": 2,
       "version_minor": 0
      },
      "text/plain": [
       "Validation: |          | 0/? [00:00<?, ?it/s]"
      ]
     },
     "metadata": {},
     "output_type": "display_data"
    },
    {
     "data": {
      "application/vnd.jupyter.widget-view+json": {
       "model_id": "",
       "version_major": 2,
       "version_minor": 0
      },
      "text/plain": [
       "Validation: |          | 0/? [00:00<?, ?it/s]"
      ]
     },
     "metadata": {},
     "output_type": "display_data"
    },
    {
     "data": {
      "application/vnd.jupyter.widget-view+json": {
       "model_id": "",
       "version_major": 2,
       "version_minor": 0
      },
      "text/plain": [
       "Validation: |          | 0/? [00:00<?, ?it/s]"
      ]
     },
     "metadata": {},
     "output_type": "display_data"
    },
    {
     "data": {
      "application/vnd.jupyter.widget-view+json": {
       "model_id": "",
       "version_major": 2,
       "version_minor": 0
      },
      "text/plain": [
       "Validation: |          | 0/? [00:00<?, ?it/s]"
      ]
     },
     "metadata": {},
     "output_type": "display_data"
    },
    {
     "data": {
      "application/vnd.jupyter.widget-view+json": {
       "model_id": "",
       "version_major": 2,
       "version_minor": 0
      },
      "text/plain": [
       "Validation: |          | 0/? [00:00<?, ?it/s]"
      ]
     },
     "metadata": {},
     "output_type": "display_data"
    },
    {
     "data": {
      "application/vnd.jupyter.widget-view+json": {
       "model_id": "",
       "version_major": 2,
       "version_minor": 0
      },
      "text/plain": [
       "Validation: |          | 0/? [00:00<?, ?it/s]"
      ]
     },
     "metadata": {},
     "output_type": "display_data"
    },
    {
     "data": {
      "application/vnd.jupyter.widget-view+json": {
       "model_id": "",
       "version_major": 2,
       "version_minor": 0
      },
      "text/plain": [
       "Validation: |          | 0/? [00:00<?, ?it/s]"
      ]
     },
     "metadata": {},
     "output_type": "display_data"
    },
    {
     "data": {
      "application/vnd.jupyter.widget-view+json": {
       "model_id": "",
       "version_major": 2,
       "version_minor": 0
      },
      "text/plain": [
       "Validation: |          | 0/? [00:00<?, ?it/s]"
      ]
     },
     "metadata": {},
     "output_type": "display_data"
    },
    {
     "data": {
      "application/vnd.jupyter.widget-view+json": {
       "model_id": "",
       "version_major": 2,
       "version_minor": 0
      },
      "text/plain": [
       "Validation: |          | 0/? [00:00<?, ?it/s]"
      ]
     },
     "metadata": {},
     "output_type": "display_data"
    },
    {
     "data": {
      "application/vnd.jupyter.widget-view+json": {
       "model_id": "",
       "version_major": 2,
       "version_minor": 0
      },
      "text/plain": [
       "Validation: |          | 0/? [00:00<?, ?it/s]"
      ]
     },
     "metadata": {},
     "output_type": "display_data"
    },
    {
     "data": {
      "application/vnd.jupyter.widget-view+json": {
       "model_id": "",
       "version_major": 2,
       "version_minor": 0
      },
      "text/plain": [
       "Validation: |          | 0/? [00:00<?, ?it/s]"
      ]
     },
     "metadata": {},
     "output_type": "display_data"
    },
    {
     "data": {
      "application/vnd.jupyter.widget-view+json": {
       "model_id": "",
       "version_major": 2,
       "version_minor": 0
      },
      "text/plain": [
       "Validation: |          | 0/? [00:00<?, ?it/s]"
      ]
     },
     "metadata": {},
     "output_type": "display_data"
    },
    {
     "data": {
      "application/vnd.jupyter.widget-view+json": {
       "model_id": "",
       "version_major": 2,
       "version_minor": 0
      },
      "text/plain": [
       "Validation: |          | 0/? [00:00<?, ?it/s]"
      ]
     },
     "metadata": {},
     "output_type": "display_data"
    },
    {
     "data": {
      "application/vnd.jupyter.widget-view+json": {
       "model_id": "",
       "version_major": 2,
       "version_minor": 0
      },
      "text/plain": [
       "Validation: |          | 0/? [00:00<?, ?it/s]"
      ]
     },
     "metadata": {},
     "output_type": "display_data"
    },
    {
     "data": {
      "application/vnd.jupyter.widget-view+json": {
       "model_id": "",
       "version_major": 2,
       "version_minor": 0
      },
      "text/plain": [
       "Validation: |          | 0/? [00:00<?, ?it/s]"
      ]
     },
     "metadata": {},
     "output_type": "display_data"
    },
    {
     "data": {
      "application/vnd.jupyter.widget-view+json": {
       "model_id": "",
       "version_major": 2,
       "version_minor": 0
      },
      "text/plain": [
       "Validation: |          | 0/? [00:00<?, ?it/s]"
      ]
     },
     "metadata": {},
     "output_type": "display_data"
    },
    {
     "data": {
      "application/vnd.jupyter.widget-view+json": {
       "model_id": "",
       "version_major": 2,
       "version_minor": 0
      },
      "text/plain": [
       "Validation: |          | 0/? [00:00<?, ?it/s]"
      ]
     },
     "metadata": {},
     "output_type": "display_data"
    },
    {
     "data": {
      "application/vnd.jupyter.widget-view+json": {
       "model_id": "",
       "version_major": 2,
       "version_minor": 0
      },
      "text/plain": [
       "Validation: |          | 0/? [00:00<?, ?it/s]"
      ]
     },
     "metadata": {},
     "output_type": "display_data"
    },
    {
     "data": {
      "application/vnd.jupyter.widget-view+json": {
       "model_id": "88b343bdf27e4717bebe6919ff54c948",
       "version_major": 2,
       "version_minor": 0
      },
      "text/plain": [
       "Validation: |          | 0/? [00:00<?, ?it/s]"
      ]
     },
     "metadata": {},
     "output_type": "display_data"
    },
    {
     "data": {
      "application/vnd.jupyter.widget-view+json": {
       "model_id": "38af2992658c4be2a49c648655b6de44",
       "version_major": 2,
       "version_minor": 0
      },
      "text/plain": [
       "Validation: |          | 0/? [00:00<?, ?it/s]"
      ]
     },
     "metadata": {},
     "output_type": "display_data"
    },
    {
     "data": {
      "application/vnd.jupyter.widget-view+json": {
       "model_id": "1c45661acbfd4c9ababacef2ec3a4ff2",
       "version_major": 2,
       "version_minor": 0
      },
      "text/plain": [
       "Validation: |          | 0/? [00:00<?, ?it/s]"
      ]
     },
     "metadata": {},
     "output_type": "display_data"
    },
    {
     "data": {
      "application/vnd.jupyter.widget-view+json": {
       "model_id": "408a778682984c8a92271eac1cbf9bc5",
       "version_major": 2,
       "version_minor": 0
      },
      "text/plain": [
       "Validation: |          | 0/? [00:00<?, ?it/s]"
      ]
     },
     "metadata": {},
     "output_type": "display_data"
    },
    {
     "data": {
      "application/vnd.jupyter.widget-view+json": {
       "model_id": "515e482b59d343e0aad9a362e401410f",
       "version_major": 2,
       "version_minor": 0
      },
      "text/plain": [
       "Validation: |          | 0/? [00:00<?, ?it/s]"
      ]
     },
     "metadata": {},
     "output_type": "display_data"
    },
    {
     "data": {
      "application/vnd.jupyter.widget-view+json": {
       "model_id": "052d8ee3dc93453794ce8b3d4b7f3645",
       "version_major": 2,
       "version_minor": 0
      },
      "text/plain": [
       "Validation: |          | 0/? [00:00<?, ?it/s]"
      ]
     },
     "metadata": {},
     "output_type": "display_data"
    },
    {
     "data": {
      "application/vnd.jupyter.widget-view+json": {
       "model_id": "11607ad1d4034cc089c0bb20104926fd",
       "version_major": 2,
       "version_minor": 0
      },
      "text/plain": [
       "Validation: |          | 0/? [00:00<?, ?it/s]"
      ]
     },
     "metadata": {},
     "output_type": "display_data"
    },
    {
     "data": {
      "application/vnd.jupyter.widget-view+json": {
       "model_id": "c9fc5dd139a448a6986541d45eb3d0bd",
       "version_major": 2,
       "version_minor": 0
      },
      "text/plain": [
       "Validation: |          | 0/? [00:00<?, ?it/s]"
      ]
     },
     "metadata": {},
     "output_type": "display_data"
    },
    {
     "data": {
      "application/vnd.jupyter.widget-view+json": {
       "model_id": "0b7e9d3c3e5544958e96a3f396397767",
       "version_major": 2,
       "version_minor": 0
      },
      "text/plain": [
       "Validation: |          | 0/? [00:00<?, ?it/s]"
      ]
     },
     "metadata": {},
     "output_type": "display_data"
    },
    {
     "data": {
      "application/vnd.jupyter.widget-view+json": {
       "model_id": "8ed5e9b6917443a5a5df5db28f39cb83",
       "version_major": 2,
       "version_minor": 0
      },
      "text/plain": [
       "Validation: |          | 0/? [00:00<?, ?it/s]"
      ]
     },
     "metadata": {},
     "output_type": "display_data"
    },
    {
     "data": {
      "application/vnd.jupyter.widget-view+json": {
       "model_id": "05e161995900481c83314f4ebe63b3fb",
       "version_major": 2,
       "version_minor": 0
      },
      "text/plain": [
       "Validation: |          | 0/? [00:00<?, ?it/s]"
      ]
     },
     "metadata": {},
     "output_type": "display_data"
    },
    {
     "data": {
      "application/vnd.jupyter.widget-view+json": {
       "model_id": "da76c4df1bfa48608353880f1618b507",
       "version_major": 2,
       "version_minor": 0
      },
      "text/plain": [
       "Validation: |          | 0/? [00:00<?, ?it/s]"
      ]
     },
     "metadata": {},
     "output_type": "display_data"
    },
    {
     "data": {
      "application/vnd.jupyter.widget-view+json": {
       "model_id": "2cbbd8ca5208451195ac0146eca26b86",
       "version_major": 2,
       "version_minor": 0
      },
      "text/plain": [
       "Validation: |          | 0/? [00:00<?, ?it/s]"
      ]
     },
     "metadata": {},
     "output_type": "display_data"
    },
    {
     "data": {
      "application/vnd.jupyter.widget-view+json": {
       "model_id": "aec3ebf35e5b4449956f179dec504747",
       "version_major": 2,
       "version_minor": 0
      },
      "text/plain": [
       "Validation: |          | 0/? [00:00<?, ?it/s]"
      ]
     },
     "metadata": {},
     "output_type": "display_data"
    },
    {
     "data": {
      "application/vnd.jupyter.widget-view+json": {
       "model_id": "356421bf38db4a348b5362439202e89c",
       "version_major": 2,
       "version_minor": 0
      },
      "text/plain": [
       "Validation: |          | 0/? [00:00<?, ?it/s]"
      ]
     },
     "metadata": {},
     "output_type": "display_data"
    },
    {
     "data": {
      "application/vnd.jupyter.widget-view+json": {
       "model_id": "de0c3da6bc494f1dbb31de8823224503",
       "version_major": 2,
       "version_minor": 0
      },
      "text/plain": [
       "Validation: |          | 0/? [00:00<?, ?it/s]"
      ]
     },
     "metadata": {},
     "output_type": "display_data"
    },
    {
     "data": {
      "application/vnd.jupyter.widget-view+json": {
       "model_id": "a908128287dc4c708a7de523903b6586",
       "version_major": 2,
       "version_minor": 0
      },
      "text/plain": [
       "Validation: |          | 0/? [00:00<?, ?it/s]"
      ]
     },
     "metadata": {},
     "output_type": "display_data"
    },
    {
     "data": {
      "application/vnd.jupyter.widget-view+json": {
       "model_id": "7f0176f1211d4df58673347820386b11",
       "version_major": 2,
       "version_minor": 0
      },
      "text/plain": [
       "Validation: |          | 0/? [00:00<?, ?it/s]"
      ]
     },
     "metadata": {},
     "output_type": "display_data"
    },
    {
     "data": {
      "application/vnd.jupyter.widget-view+json": {
       "model_id": "6fc50ef7155345bba040143c5c72640d",
       "version_major": 2,
       "version_minor": 0
      },
      "text/plain": [
       "Validation: |          | 0/? [00:00<?, ?it/s]"
      ]
     },
     "metadata": {},
     "output_type": "display_data"
    },
    {
     "data": {
      "application/vnd.jupyter.widget-view+json": {
       "model_id": "a14cc2dfadfc48a1b42b8bea74cd568c",
       "version_major": 2,
       "version_minor": 0
      },
      "text/plain": [
       "Validation: |          | 0/? [00:00<?, ?it/s]"
      ]
     },
     "metadata": {},
     "output_type": "display_data"
    },
    {
     "data": {
      "application/vnd.jupyter.widget-view+json": {
       "model_id": "b01d33d1813e422a838fa7be38abb39a",
       "version_major": 2,
       "version_minor": 0
      },
      "text/plain": [
       "Validation: |          | 0/? [00:00<?, ?it/s]"
      ]
     },
     "metadata": {},
     "output_type": "display_data"
    },
    {
     "data": {
      "application/vnd.jupyter.widget-view+json": {
       "model_id": "5af919372e3843b29e2c52fa0a905641",
       "version_major": 2,
       "version_minor": 0
      },
      "text/plain": [
       "Validation: |          | 0/? [00:00<?, ?it/s]"
      ]
     },
     "metadata": {},
     "output_type": "display_data"
    },
    {
     "data": {
      "application/vnd.jupyter.widget-view+json": {
       "model_id": "3c46de24cf0e41f6bc8be56577e454da",
       "version_major": 2,
       "version_minor": 0
      },
      "text/plain": [
       "Validation: |          | 0/? [00:00<?, ?it/s]"
      ]
     },
     "metadata": {},
     "output_type": "display_data"
    },
    {
     "data": {
      "application/vnd.jupyter.widget-view+json": {
       "model_id": "dc60241d51234c5eb6ee04aa17e6d5ba",
       "version_major": 2,
       "version_minor": 0
      },
      "text/plain": [
       "Validation: |          | 0/? [00:00<?, ?it/s]"
      ]
     },
     "metadata": {},
     "output_type": "display_data"
    },
    {
     "data": {
      "application/vnd.jupyter.widget-view+json": {
       "model_id": "eae15d073a5f4adfbb36afaa374dd86f",
       "version_major": 2,
       "version_minor": 0
      },
      "text/plain": [
       "Validation: |          | 0/? [00:00<?, ?it/s]"
      ]
     },
     "metadata": {},
     "output_type": "display_data"
    },
    {
     "data": {
      "application/vnd.jupyter.widget-view+json": {
       "model_id": "da5a025ba82f45ba9cb372be8ffc3d2d",
       "version_major": 2,
       "version_minor": 0
      },
      "text/plain": [
       "Validation: |          | 0/? [00:00<?, ?it/s]"
      ]
     },
     "metadata": {},
     "output_type": "display_data"
    },
    {
     "data": {
      "application/vnd.jupyter.widget-view+json": {
       "model_id": "0b8f397625044c6789c18c4acb51b095",
       "version_major": 2,
       "version_minor": 0
      },
      "text/plain": [
       "Validation: |          | 0/? [00:00<?, ?it/s]"
      ]
     },
     "metadata": {},
     "output_type": "display_data"
    },
    {
     "data": {
      "application/vnd.jupyter.widget-view+json": {
       "model_id": "0a379835e36f490585e1b9ff7082b674",
       "version_major": 2,
       "version_minor": 0
      },
      "text/plain": [
       "Validation: |          | 0/? [00:00<?, ?it/s]"
      ]
     },
     "metadata": {},
     "output_type": "display_data"
    },
    {
     "data": {
      "application/vnd.jupyter.widget-view+json": {
       "model_id": "147355d9b3f54c56acb8e3f778554c1a",
       "version_major": 2,
       "version_minor": 0
      },
      "text/plain": [
       "Validation: |          | 0/? [00:00<?, ?it/s]"
      ]
     },
     "metadata": {},
     "output_type": "display_data"
    },
    {
     "data": {
      "application/vnd.jupyter.widget-view+json": {
       "model_id": "0aab3b3e517e41f5bfc30eab2b810162",
       "version_major": 2,
       "version_minor": 0
      },
      "text/plain": [
       "Validation: |          | 0/? [00:00<?, ?it/s]"
      ]
     },
     "metadata": {},
     "output_type": "display_data"
    },
    {
     "data": {
      "application/vnd.jupyter.widget-view+json": {
       "model_id": "10df7af2b96e4c689ab081fc917a3fe7",
       "version_major": 2,
       "version_minor": 0
      },
      "text/plain": [
       "Validation: |          | 0/? [00:00<?, ?it/s]"
      ]
     },
     "metadata": {},
     "output_type": "display_data"
    },
    {
     "data": {
      "application/vnd.jupyter.widget-view+json": {
       "model_id": "751fd5d0258d4f59a7d518d14b86305e",
       "version_major": 2,
       "version_minor": 0
      },
      "text/plain": [
       "Validation: |          | 0/? [00:00<?, ?it/s]"
      ]
     },
     "metadata": {},
     "output_type": "display_data"
    },
    {
     "data": {
      "application/vnd.jupyter.widget-view+json": {
       "model_id": "acd452ebcb9f44199f7e609fb97d6d9b",
       "version_major": 2,
       "version_minor": 0
      },
      "text/plain": [
       "Validation: |          | 0/? [00:00<?, ?it/s]"
      ]
     },
     "metadata": {},
     "output_type": "display_data"
    },
    {
     "data": {
      "application/vnd.jupyter.widget-view+json": {
       "model_id": "0562a7e0b8c54489978599b97d619d47",
       "version_major": 2,
       "version_minor": 0
      },
      "text/plain": [
       "Validation: |          | 0/? [00:00<?, ?it/s]"
      ]
     },
     "metadata": {},
     "output_type": "display_data"
    },
    {
     "data": {
      "application/vnd.jupyter.widget-view+json": {
       "model_id": "492683d02e0c44deb2bdc5f06a9e4185",
       "version_major": 2,
       "version_minor": 0
      },
      "text/plain": [
       "Validation: |          | 0/? [00:00<?, ?it/s]"
      ]
     },
     "metadata": {},
     "output_type": "display_data"
    },
    {
     "data": {
      "application/vnd.jupyter.widget-view+json": {
       "model_id": "92c8491683644a45921b091422be64e8",
       "version_major": 2,
       "version_minor": 0
      },
      "text/plain": [
       "Validation: |          | 0/? [00:00<?, ?it/s]"
      ]
     },
     "metadata": {},
     "output_type": "display_data"
    },
    {
     "data": {
      "application/vnd.jupyter.widget-view+json": {
       "model_id": "7c146b6b3de640e7a74a761fb3a0b03a",
       "version_major": 2,
       "version_minor": 0
      },
      "text/plain": [
       "Validation: |          | 0/? [00:00<?, ?it/s]"
      ]
     },
     "metadata": {},
     "output_type": "display_data"
    },
    {
     "data": {
      "application/vnd.jupyter.widget-view+json": {
       "model_id": "10243c7e531a40febe14f8c240fe309d",
       "version_major": 2,
       "version_minor": 0
      },
      "text/plain": [
       "Validation: |          | 0/? [00:00<?, ?it/s]"
      ]
     },
     "metadata": {},
     "output_type": "display_data"
    },
    {
     "data": {
      "application/vnd.jupyter.widget-view+json": {
       "model_id": "5f91328c9d6b4a20a38d93a2ffa10c50",
       "version_major": 2,
       "version_minor": 0
      },
      "text/plain": [
       "Validation: |          | 0/? [00:00<?, ?it/s]"
      ]
     },
     "metadata": {},
     "output_type": "display_data"
    },
    {
     "data": {
      "application/vnd.jupyter.widget-view+json": {
       "model_id": "86a2509a93e94f5ea201e36ef2f4c072",
       "version_major": 2,
       "version_minor": 0
      },
      "text/plain": [
       "Validation: |          | 0/? [00:00<?, ?it/s]"
      ]
     },
     "metadata": {},
     "output_type": "display_data"
    },
    {
     "data": {
      "application/vnd.jupyter.widget-view+json": {
       "model_id": "7315ef66e2a04190bfdecd741088555b",
       "version_major": 2,
       "version_minor": 0
      },
      "text/plain": [
       "Validation: |          | 0/? [00:00<?, ?it/s]"
      ]
     },
     "metadata": {},
     "output_type": "display_data"
    },
    {
     "data": {
      "application/vnd.jupyter.widget-view+json": {
       "model_id": "0d70ea47218a4abdad26fcec6ee49fdc",
       "version_major": 2,
       "version_minor": 0
      },
      "text/plain": [
       "Validation: |          | 0/? [00:00<?, ?it/s]"
      ]
     },
     "metadata": {},
     "output_type": "display_data"
    },
    {
     "data": {
      "application/vnd.jupyter.widget-view+json": {
       "model_id": "3290181478f142a8860d51a6ca0b71e1",
       "version_major": 2,
       "version_minor": 0
      },
      "text/plain": [
       "Validation: |          | 0/? [00:00<?, ?it/s]"
      ]
     },
     "metadata": {},
     "output_type": "display_data"
    },
    {
     "data": {
      "application/vnd.jupyter.widget-view+json": {
       "model_id": "8d3f749b8a514a4ca0e47736fec95f7d",
       "version_major": 2,
       "version_minor": 0
      },
      "text/plain": [
       "Validation: |          | 0/? [00:00<?, ?it/s]"
      ]
     },
     "metadata": {},
     "output_type": "display_data"
    },
    {
     "data": {
      "application/vnd.jupyter.widget-view+json": {
       "model_id": "84a56da6c9a24a1291fd95da9d82df2c",
       "version_major": 2,
       "version_minor": 0
      },
      "text/plain": [
       "Validation: |          | 0/? [00:00<?, ?it/s]"
      ]
     },
     "metadata": {},
     "output_type": "display_data"
    },
    {
     "data": {
      "application/vnd.jupyter.widget-view+json": {
       "model_id": "af4a0e0e93ee4dc8a62daaef9c96c963",
       "version_major": 2,
       "version_minor": 0
      },
      "text/plain": [
       "Validation: |          | 0/? [00:00<?, ?it/s]"
      ]
     },
     "metadata": {},
     "output_type": "display_data"
    },
    {
     "data": {
      "application/vnd.jupyter.widget-view+json": {
       "model_id": "0f08be608bd94ac28c706802486b2cda",
       "version_major": 2,
       "version_minor": 0
      },
      "text/plain": [
       "Validation: |          | 0/? [00:00<?, ?it/s]"
      ]
     },
     "metadata": {},
     "output_type": "display_data"
    },
    {
     "data": {
      "application/vnd.jupyter.widget-view+json": {
       "model_id": "b0029a2d13634af18b6a5b7731e0ce03",
       "version_major": 2,
       "version_minor": 0
      },
      "text/plain": [
       "Validation: |          | 0/? [00:00<?, ?it/s]"
      ]
     },
     "metadata": {},
     "output_type": "display_data"
    },
    {
     "data": {
      "application/vnd.jupyter.widget-view+json": {
       "model_id": "950de803197e4eb78a7b56062ca1bbbf",
       "version_major": 2,
       "version_minor": 0
      },
      "text/plain": [
       "Validation: |          | 0/? [00:00<?, ?it/s]"
      ]
     },
     "metadata": {},
     "output_type": "display_data"
    },
    {
     "data": {
      "application/vnd.jupyter.widget-view+json": {
       "model_id": "192f6997ecc24782a66c3b5da181d1d5",
       "version_major": 2,
       "version_minor": 0
      },
      "text/plain": [
       "Validation: |          | 0/? [00:00<?, ?it/s]"
      ]
     },
     "metadata": {},
     "output_type": "display_data"
    },
    {
     "data": {
      "application/vnd.jupyter.widget-view+json": {
       "model_id": "698bc07bf5454c75842d9f42220fe874",
       "version_major": 2,
       "version_minor": 0
      },
      "text/plain": [
       "Validation: |          | 0/? [00:00<?, ?it/s]"
      ]
     },
     "metadata": {},
     "output_type": "display_data"
    },
    {
     "data": {
      "application/vnd.jupyter.widget-view+json": {
       "model_id": "4acdcba94c1642958b4ab7ede063f151",
       "version_major": 2,
       "version_minor": 0
      },
      "text/plain": [
       "Validation: |          | 0/? [00:00<?, ?it/s]"
      ]
     },
     "metadata": {},
     "output_type": "display_data"
    },
    {
     "data": {
      "application/vnd.jupyter.widget-view+json": {
       "model_id": "8ebbaa8b9dac492d8558fef5093d1920",
       "version_major": 2,
       "version_minor": 0
      },
      "text/plain": [
       "Validation: |          | 0/? [00:00<?, ?it/s]"
      ]
     },
     "metadata": {},
     "output_type": "display_data"
    },
    {
     "name": "stderr",
     "output_type": "stream",
     "text": [
      "`Trainer.fit` stopped: `max_epochs=100` reached.\n"
     ]
    }
   ],
   "source": [
    "trainer_generative.fit(generative_model,\n",
    "                        train_dataloaders=dataloader,\n",
    "                        val_dataloaders=dataloader)"
   ]
  },
  {
   "cell_type": "code",
   "execution_count": 180,
   "id": "3e708c13-a964-4bbf-85dc-4937790524b4",
   "metadata": {},
   "outputs": [],
   "source": [
    "generative_model = generative_model.cuda()"
   ]
  },
  {
   "cell_type": "markdown",
   "id": "ab64b573-f9b7-427b-8301-59629685a23f",
   "metadata": {},
   "source": [
    "# Implementation of augmentation appraches "
   ]
  },
  {
   "cell_type": "code",
   "execution_count": 181,
   "id": "a04f4ce9-01cb-478c-91d9-d6674b58762a",
   "metadata": {},
   "outputs": [
    {
     "name": "stderr",
     "output_type": "stream",
     "text": [
      "/home/icb/alessandro.palma/miniconda3/envs/celldreamer/lib/python3.10/site-packages/anndata/__init__.py:51: FutureWarning: `anndata.read` is deprecated, use `anndata.read_h5ad` instead. `ad.read` will be removed in mid 2024.\n",
      "  warnings.warn(\n"
     ]
    }
   ],
   "source": [
    "dataset = RNAseqLoader(data_path=data_path,\n",
    "                        layer_key=\"X_masked\",               # Corresponding to config 'layer_key'\n",
    "                        covariate_keys=[\"cell_type\"],        # Corresponding to config 'covariate_keys'\n",
    "                        subsample_frac=1,                   # Corresponding to config 'subsample_frac'\n",
    "                        encoder_type=\"learnt_autoencoder\",  # Corresponding to config 'encoder_type'\n",
    "                        multimodal=False,                   # Corresponding to config 'multimodal'\n",
    "                        is_binarized=False                  # Corresponding to config 'is_binarized'\n",
    "                    )"
   ]
  },
  {
   "cell_type": "markdown",
   "id": "8039335c-10e4-4a61-8aae-69fb8d40733e",
   "metadata": {},
   "source": [
    "#### Invert and sample"
   ]
  },
  {
   "cell_type": "code",
   "execution_count": 182,
   "id": "23b5aa40-40eb-4576-8176-289481ef535a",
   "metadata": {},
   "outputs": [],
   "source": [
    "dataloader = torch.utils.data.DataLoader(dataset,\n",
    "                                            batch_size=256,\n",
    "                                            shuffle=False,\n",
    "                                            num_workers=4, \n",
    "                                            drop_last=False)\n",
    "gene_dim = dataset.X.shape[1] "
   ]
  },
  {
   "cell_type": "code",
   "execution_count": 183,
   "id": "166cc55c-5687-457f-9daa-abb4939a5321",
   "metadata": {},
   "outputs": [],
   "source": [
    "def invert_and_sample(dataloader, encoder_model, generative_model, sample_std=0.1):\n",
    "    # Sampled results \n",
    "    Z_imputed = [] \n",
    "    X_imputed = []\n",
    "    \n",
    "    # Times to apply correction\n",
    "    t = torch.linspace(0, 1, 100, device=generative_model.device)\n",
    "    reverse_t = torch.linspace(1, 0, 100, device=generative_model.device)\n",
    "\n",
    "    for i, batch in tqdm(enumerate(dataloader)):\n",
    "        with torch.no_grad():\n",
    "            # Encode latent space \n",
    "            z = encoder_model.encode(batch)\n",
    "    \n",
    "            # Get size factor\n",
    "            size_factor = torch.tensor(pbmc3k.layers[\"X_counts\"][(i*256):((i+1)*256)].sum(1)).squeeze()\n",
    "            log_size_factor = torch.log(torch.tensor(pbmc3k.layers[\"X_counts\"][(i*256):((i+1)*256)].sum(1))).squeeze()\n",
    "            \n",
    "            # Get condition embeddings\n",
    "            y = generative_model.feature_embeddings[\"cell_type\"](batch[\"y\"][\"cell_type\"].cuda())\n",
    "    \n",
    "            # Go back to noise\n",
    "            denoising_model_ode = torch_wrapper(generative_model.denoising_model, \n",
    "                                                log_size_factor, \n",
    "                                                y)    \n",
    "            \n",
    "            node = NeuralODE(denoising_model_ode,\n",
    "                                    solver=\"dopri5\", \n",
    "                                    sensitivity=\"adjoint\", \n",
    "                                    atol=1e-5, \n",
    "                                    rtol=1e-5)        \n",
    "    \n",
    "            z0 = node.trajectory(z, t_span=reverse_t)[-1]\n",
    "\n",
    "            # Now sample around noise\n",
    "            noise = torch.randn_like(z0) * sample_std  # Gaussian noise\n",
    "            z0 = z0 + noise\n",
    "    \n",
    "            z1 = node.trajectory(z0, t_span=t)[-1]\n",
    "            Z_imputed.append(z1.cpu().numpy())\n",
    "    \n",
    "            # Now decode\n",
    "            mu_hat = generative_model._decode(z1, size_factor.cuda().unsqueeze(1))\n",
    "            X_imputed.append(mu_hat.cpu().numpy())\n",
    "\n",
    "    Z_imputed = np.concatenate(Z_imputed, axis=0)\n",
    "    X_imputed = np.concatenate(X_imputed, axis=0)\n",
    "    return Z_imputed, X_imputed"
   ]
  },
  {
   "cell_type": "code",
   "execution_count": 222,
   "id": "0b9e9a06-50a3-4477-b0bb-4cba5c05529d",
   "metadata": {
    "scrolled": true
   },
   "outputs": [
    {
     "name": "stderr",
     "output_type": "stream",
     "text": [
      "\n",
      "\n",
      "0it [00:00, ?it/s]\u001b[A\u001b[A\n",
      "\n",
      "1it [00:11, 11.69s/it]\u001b[A\u001b[A\n",
      "\n",
      "2it [00:13,  5.59s/it]\u001b[A\u001b[A\n",
      "\n",
      "3it [00:14,  3.62s/it]\u001b[A\u001b[A\n",
      "\n",
      "4it [00:15,  2.70s/it]\u001b[A\u001b[A\n",
      "\n",
      "5it [00:16,  2.19s/it]\u001b[A\u001b[A\n",
      "\n",
      "6it [00:18,  1.89s/it]\u001b[A\u001b[A\n",
      "\n",
      "7it [00:19,  1.69s/it]\u001b[A\u001b[A\n",
      "\n",
      "8it [00:20,  1.56s/it]\u001b[A\u001b[A\n",
      "\n",
      "9it [00:22,  1.48s/it]\u001b[A\u001b[A\n",
      "\n",
      "10it [00:23,  1.42s/it]\u001b[A\u001b[A\n",
      "\n",
      "11it [00:24,  2.24s/it]\u001b[A\u001b[A\n"
     ]
    }
   ],
   "source": [
    "Z_imputed, X_imputed = invert_and_sample(dataloader, encoder_model, generative_model, sample_std=0.01)"
   ]
  },
  {
   "cell_type": "code",
   "execution_count": 223,
   "id": "a00f1248-0946-499c-b88f-638e0510d054",
   "metadata": {},
   "outputs": [
    {
     "name": "stdout",
     "output_type": "stream",
     "text": [
      "(2638, 100)\n",
      "(2638, 2000)\n"
     ]
    }
   ],
   "source": [
    "print(Z_imputed.shape)\n",
    "print(X_imputed.shape)"
   ]
  },
  {
   "cell_type": "code",
   "execution_count": 224,
   "id": "cf50e586-a0fe-4595-89d5-f8447dacdc16",
   "metadata": {},
   "outputs": [
    {
     "data": {
      "text/plain": [
       "0.30555514"
      ]
     },
     "execution_count": 224,
     "metadata": {},
     "output_type": "execute_result"
    }
   ],
   "source": [
    "np.mean(np.abs(X_imputed.ravel()[pbmc3k.uns['do_ix']] - pbmc3k.layers[\"X_counts\"].A.ravel()[pbmc3k.uns['do_ix']]))"
   ]
  },
  {
   "cell_type": "code",
   "execution_count": 225,
   "id": "2e5eca46-01b9-48ce-a683-f289669eb5cc",
   "metadata": {},
   "outputs": [
    {
     "data": {
      "text/plain": [
       "SignificanceResult(statistic=0.3283455948437543, pvalue=0.0)"
      ]
     },
     "execution_count": 225,
     "metadata": {},
     "output_type": "execute_result"
    }
   ],
   "source": [
    "scipy.stats.spearmanr(X_imputed.ravel()[pbmc3k.uns['do_ix']], pbmc3k.layers[\"X_counts\"].A.ravel()[pbmc3k.uns['do_ix']])"
   ]
  },
  {
   "cell_type": "code",
   "execution_count": 226,
   "id": "e6206529-2cc8-4b71-942f-62e844e0784b",
   "metadata": {},
   "outputs": [
    {
     "data": {
      "text/plain": [
       "SignificanceResult(statistic=0.3729304725037946, pvalue=0.0)"
      ]
     },
     "execution_count": 226,
     "metadata": {},
     "output_type": "execute_result"
    }
   ],
   "source": [
    "scipy.stats.spearmanr(imputed_counts.ravel()[pbmc3k.uns['do_ix']], pbmc3k.layers[\"X_counts\"].A.ravel()[pbmc3k.uns['do_ix']])"
   ]
  },
  {
   "cell_type": "code",
   "execution_count": 227,
   "id": "04c338df-f89d-4326-bf6c-b134cdebcb9e",
   "metadata": {},
   "outputs": [
    {
     "data": {
      "text/plain": [
       "Text(0, 0.5, 'Real')"
      ]
     },
     "execution_count": 227,
     "metadata": {},
     "output_type": "execute_result"
    },
    {
     "data": {
      "image/png": "[encoded data removed]",
      "text/plain": [
       "<Figure size 640x480 with 1 Axes>"
      ]
     },
     "metadata": {},
     "output_type": "display_data"
    }
   ],
   "source": [
    "plt.scatter(X_imputed.ravel()[:100000], pbmc3k.layers[\"X_counts\"].A.ravel()[:100000])\n",
    "plt.title(\"Imputation CFGen\")\n",
    "plt.xlabel(\"Predicted\")\n",
    "plt.ylabel(\"Real\")"
   ]
  },
  {
   "cell_type": "code",
   "execution_count": 228,
   "id": "99f31cd7-25ab-4fb6-b610-89fc54af4b73",
   "metadata": {},
   "outputs": [
    {
     "data": {
      "text/plain": [
       "Text(0, 0.5, 'Real')"
      ]
     },
     "execution_count": 228,
     "metadata": {},
     "output_type": "execute_result"
    },
    {
     "data": {
      "image/png": "[encoded data removed]",
      "text/plain": [
       "<Figure size 640x480 with 1 Axes>"
      ]
     },
     "metadata": {},
     "output_type": "display_data"
    }
   ],
   "source": [
    "plt.scatter(imputed_counts.ravel()[:100000], pbmc3k.layers[\"X_counts\"].A.ravel()[:100000])\n",
    "plt.title(\"Imputation scVI\")\n",
    "plt.xlabel(\"Predicted\")\n",
    "plt.ylabel(\"Real\")"
   ]
  },
  {
   "cell_type": "markdown",
   "id": "d21aced2-65b7-46a9-b087-050c514d158c",
   "metadata": {},
   "source": [
    "## Correlation non zero genes"
   ]
  },
  {
   "cell_type": "code",
   "execution_count": 234,
   "id": "106a0136-e5f0-4b89-8880-f46ab31e3287",
   "metadata": {},
   "outputs": [],
   "source": [
    "non_zero_idx = np.where(pbmc3k.layers[\"X_masked\"].A.ravel()!=0)"
   ]
  },
  {
   "cell_type": "code",
   "execution_count": 235,
   "id": "93ca57e3-ae88-471c-8799-32e44b869a2a",
   "metadata": {},
   "outputs": [
    {
     "data": {
      "text/plain": [
       "SignificanceResult(statistic=0.6781522278313499, pvalue=0.0)"
      ]
     },
     "execution_count": 235,
     "metadata": {},
     "output_type": "execute_result"
    }
   ],
   "source": [
    "scipy.stats.spearmanr(X_imputed.ravel()[non_zero_idx], pbmc3k.layers[\"X_counts\"].A.ravel()[non_zero_idx])"
   ]
  },
  {
   "cell_type": "code",
   "execution_count": 236,
   "id": "0e4a362b-084f-4512-80ac-51382782264e",
   "metadata": {},
   "outputs": [
    {
     "data": {
      "text/plain": [
       "SignificanceResult(statistic=0.6063247321491946, pvalue=0.0)"
      ]
     },
     "execution_count": 236,
     "metadata": {},
     "output_type": "execute_result"
    }
   ],
   "source": [
    "scipy.stats.spearmanr(imputed_counts.ravel()[non_zero_idx], pbmc3k.layers[\"X_counts\"].A.ravel()[non_zero_idx])"
   ]
  },
  {
   "cell_type": "code",
   "execution_count": 237,
   "id": "856f73a9-0e60-4663-8064-59994775498a",
   "metadata": {},
   "outputs": [
    {
     "data": {
      "text/plain": [
       "1.2126764"
      ]
     },
     "execution_count": 237,
     "metadata": {},
     "output_type": "execute_result"
    }
   ],
   "source": [
    "np.mean(np.abs(X_imputed.ravel()[non_zero_idx] - pbmc3k.layers[\"X_counts\"].A.ravel()[[non_zero_idx]]))"
   ]
  },
  {
   "cell_type": "code",
   "execution_count": 238,
   "id": "a1dfe377-9d01-4b11-9728-d91111005954",
   "metadata": {},
   "outputs": [
    {
     "data": {
      "text/plain": [
       "1.468929"
      ]
     },
     "execution_count": 238,
     "metadata": {},
     "output_type": "execute_result"
    }
   ],
   "source": [
    "np.mean(np.abs(imputed_counts.ravel()[non_zero_idx] - pbmc3k.layers[\"X_counts\"].A.ravel()[[non_zero_idx]]))"
   ]
  },
  {
   "cell_type": "markdown",
   "id": "7c83e323-163f-4ffe-897f-efd1ee395013",
   "metadata": {},
   "source": [
    "## Check if generated are decent"
   ]
  },
  {
   "cell_type": "code",
   "execution_count": 156,
   "id": "8117f586-7301-4898-9683-ed2bec1d8748",
   "metadata": {},
   "outputs": [],
   "source": [
    "adata_joint = sc.AnnData(X=np.concatenate([pbmc3k.layers[\"X_counts\"].A,\n",
    "                             X_imputed]),\n",
    "                         obs={\"dataset_type\":[\"true\" for _ in range(pbmc3k.layers[\"X_counts\"].A.shape[0])]+[\"gen\" for _ in range(len(X_imputed))]})"
   ]
  },
  {
   "cell_type": "code",
   "execution_count": 157,
   "id": "d53672b8-dfc0-40a4-89d8-1c7f572506c1",
   "metadata": {},
   "outputs": [
    {
     "name": "stderr",
     "output_type": "stream",
     "text": [
      "/home/icb/alessandro.palma/miniconda3/envs/celldreamer/lib/python3.10/site-packages/scanpy/plotting/_tools/scatterplots.py:394: UserWarning: No data for colormapping provided via 'c'. Parameters 'cmap' will be ignored\n",
      "  cax = scatter(\n"
     ]
    },
    {
     "data": {
      "image/png": "[encoded data removed]",
      "text/plain": [
       "<Figure size 640x480 with 1 Axes>"
      ]
     },
     "metadata": {},
     "output_type": "display_data"
    }
   ],
   "source": [
    "sc.pp.log1p(adata_joint)\n",
    "sc.tl.pca(adata_joint)\n",
    "sc.pl.pca(adata_joint,color=\"dataset_type\")"
   ]
  },
  {
   "cell_type": "markdown",
   "id": "29dca902-3cac-45ed-9c6e-ed0149fbe3e9",
   "metadata": {},
   "source": [
    "#### Interpolate and sample"
   ]
  },
  {
   "cell_type": "code",
   "execution_count": 210,
   "id": "4e821e07-db55-49e5-961d-c0b5ed2f967a",
   "metadata": {},
   "outputs": [],
   "source": [
    "# def interpolate_and_sample(dataloader, encoder_model, generative_model, tmax):\n",
    "#     # Sampled results \n",
    "#     Z_imputed = [] \n",
    "#     X_imputed = []\n",
    "    \n",
    "#     # Times to apply correction\n",
    "#     t = torch.linspace(tmax, 1.0, 100, device=generative_model.device)\n",
    "\n",
    "#     for i, batch in tqdm(enumerate(dataloader)):\n",
    "#         with torch.no_grad():\n",
    "#             # Encode latent space \n",
    "#             z = encoder_model.encode(batch)\n",
    "#             eps = torch.randn_like(z)\n",
    "    \n",
    "#             # Get size factor\n",
    "#             log_size_factor = torch.log(torch.tensor(pbmc3k.layers[\"X_counts\"][(i*256):((i+1)*256)].sum(1))).squeeze()\n",
    "    \n",
    "#             # Get condition embeddings\n",
    "#             y = generative_model.feature_embeddings[\"clusters\"](batch[\"y\"][\"clusters\"].cuda())\n",
    "\n",
    "#             # Interpolate \n",
    "#             zt = z * tmax + eps * (1-tmax)\n",
    "    \n",
    "#             # Go back to noise\n",
    "#             denoising_model_ode = torch_wrapper(generative_model.denoising_model, \n",
    "#                                                 log_size_factor, \n",
    "#                                                 y)    \n",
    "            \n",
    "#             node = NeuralODE(denoising_model_ode,\n",
    "#                                     solver=\"dopri5\", \n",
    "#                                     sensitivity=\"adjoint\", \n",
    "#                                     atol=1e-5, \n",
    "#                                     rtol=1e-5)        \n",
    "    \n",
    "    \n",
    "#             z1 = node.trajectory(zt, t_span=t)[-1]\n",
    "#             Z_imputed.append(z1.cpu().numpy())\n",
    "    \n",
    "#             # Now decode\n",
    "#             mu_hat = generative_model._decode(z1, torch.exp(log_size_factor).cuda().unsqueeze(1))\n",
    "#             X_imputed.append(mu_hat.cpu().numpy())\n",
    "            \n",
    "#     Z_imputed = np.concatenate(Z_imputed, axis=0)\n",
    "#     X_imputed = np.concatenate(X_imputed, axis=0)\n",
    "#     return Z_imputed, X_imputed"
   ]
  },
  {
   "cell_type": "code",
   "execution_count": 209,
   "id": "d2dcdb6c-99ec-4f21-a7d2-01222ad6de12",
   "metadata": {},
   "outputs": [],
   "source": [
    "# Z_imputed_interpolate, X_imputed_interpolate = interpolate_and_sample(dataloader,\n",
    "#                                                                       encoder_model, \n",
    "#                                                                       generative_model, \n",
    "#                                                                       tmax=0.9)"
   ]
  },
  {
   "cell_type": "code",
   "execution_count": 208,
   "id": "82c008fb-5cf2-46bd-b1bf-3ad3d1883bd4",
   "metadata": {},
   "outputs": [],
   "source": [
    "# np.mean(np.abs(X_imputed_interpolate.ravel()[pbmc3k.uns['do_ix']] - pbmc3k.layers[\"X_counts\"].A.ravel()[pbmc3k.uns['do_ix']]))"
   ]
  },
  {
   "cell_type": "code",
   "execution_count": 207,
   "id": "f54df91a-bdb2-412c-a42a-ca749ccd85cf",
   "metadata": {},
   "outputs": [],
   "source": [
    "# plt.scatter(X_imputed_interpolate.ravel()[:100000], pbmc3k.layers[\"X_counts\"].A.ravel()[:100000])\n",
    "# plt.title(\"Imputation CFGen\")\n",
    "# plt.xlabel(\"Predicted\")\n",
    "# plt.ylabel(\"Real\")"
   ]
  },
  {
   "cell_type": "code",
   "execution_count": 250,
   "id": "586bd4c2-05e7-420d-8a20-9d24a8c4d348",
   "metadata": {},
   "outputs": [],
   "source": [
    "scvi_pred = imputed_counts.ravel()[non_zero_idx][:10000]\n",
    "cfg_pred = X_imputed.ravel()[non_zero_idx][:10000]\n",
    "real_counts = pbmc3k.layers[\"X_counts\"].A.ravel()[non_zero_idx][:10000]"
   ]
  },
  {
   "cell_type": "code",
   "execution_count": 267,
   "id": "321982d6-d290-4618-8e49-e15e5342ef55",
   "metadata": {},
   "outputs": [],
   "source": [
    "# # Prepare the data for seaborn\n",
    "# data = pd.DataFrame({\n",
    "#     \"Ground truth\": np.concatenate([real_counts, real_counts]),\n",
    "#     \"Predictions\": np.concatenate([cfg_pred, scvi_pred]),\n",
    "#     \"Model\": [\"CFGen\"] * len(real_counts) + [\"scVI\"] * len(real_counts)\n",
    "# })\n",
    "\n",
    "# # Initialize the plot\n",
    "# plt.figure(figsize=(4, 4))\n",
    "\n",
    "# # Scatter plot with regression lines\n",
    "# sns.scatterplot(data=data, x=\"Predictions\", y=\"Ground truth\", hue=\"Model\", style=\"Model\", s=70)\n",
    "# sns.regplot(data=data[data[\"Model\"] == \"CFGen\"], x=\"Predictions\", y=\"Ground truth\", scatter=False, color=\"blue\", label=\"CFGen\")\n",
    "# sns.regplot(data=data[data[\"Model\"] == \"scVI\"], x=\"Predictions\", y=\"Ground truth\", scatter=False, color=\"orange\", label=\"scVI\")\n",
    "\n",
    "# # Add the y=x line (bisector)\n",
    "# plt.plot([min(real_counts), max(real_counts)], [min(real_counts), max(real_counts)],  linestyle=\"--\", linewidth=2, label=\"Bisector (y=x)\")\n",
    "\n",
    "# # Adjust plot aesthetics\n",
    "# plt.title(\"PBMC3K\", fontsize=16)\n",
    "# plt.xlabel(\"Predictions\", fontsize=14)\n",
    "# plt.ylabel(\"Ground truth\", fontsize=14)\n",
    "# plt.legend(fontsize=12, bbox_to_anchor=(1.05, 1), loc='upper left')  # Place the legend outside\n",
    "# plt.axis(\"equal\")\n",
    "\n",
    "# plt.savefig(\"plots/pbmc3k_comparison.png\",bbox_inches='tight', format=\"png\")  # Save the figure\n",
    "# # Show the plot\n",
    "# plt.show()"
   ]
  },
  {
   "cell_type": "code",
   "execution_count": 269,
   "id": "132adc86-b0d4-4215-961c-374f0e716bdd",
   "metadata": {},
   "outputs": [
    {
     "data": {
      "image/png": "[encoded data removed]",
      "text/plain": [
       "<Figure size 400x400 with 1 Axes>"
      ]
     },
     "metadata": {},
     "output_type": "display_data"
    }
   ],
   "source": [
    "# Prepare the data for seaborn\n",
    "data = pd.DataFrame({\n",
    "    \"Ground truth\": real_counts,\n",
    "    \"Predictions\": cfg_pred,\n",
    "    \"Model\": [\"CFGen\"] * len(real_counts)\n",
    "})\n",
    "\n",
    "# Initialize the plot\n",
    "plt.figure(figsize=(4, 4))\n",
    "\n",
    "# Scatter plot with regression lines\n",
    "sns.scatterplot(data=data, x=\"Predictions\", y=\"Ground truth\", s=70)\n",
    "sns.regplot(data=data[data[\"Model\"] == \"CFGen\"], x=\"Predictions\", y=\"Ground truth\", scatter=False, color=\"blue\", label=\"CFGen\")\n",
    "\n",
    "# Add the y=x line (bisector)\n",
    "plt.plot([min(real_counts), max(real_counts)], [min(real_counts), max(real_counts)],  linestyle=\"--\", linewidth=2, label=\"Bisector (y=x)\")\n",
    "\n",
    "# Adjust plot aesthetics\n",
    "plt.title(\"PBMC3K\", fontsize=16)\n",
    "plt.xlabel(\"Predictions\", fontsize=14)\n",
    "plt.ylabel(\"Ground truth\", fontsize=14)\n",
    "plt.axis(\"equal\")\n",
    "\n",
    "plt.savefig(\"plots/pbmc3k_comparison.png\",bbox_inches='tight', format=\"png\")  # Save the figure\n",
    "# Show the plot\n",
    "plt.show()"
   ]
  },
  {
   "cell_type": "markdown",
   "id": "e95cb9d4-fa53-4ed4-8cbd-4d27fd543b9d",
   "metadata": {},
   "source": [
    "Now make plots with multiple levels of noise "
   ]
  },
  {
   "cell_type": "code",
   "execution_count": 263,
   "id": "3884485a-47d7-47d9-ba51-0d434a012fab",
   "metadata": {
    "scrolled": true
   },
   "outputs": [
    {
     "name": "stderr",
     "output_type": "stream",
     "text": [
      "\n",
      "\n",
      "0it [00:00, ?it/s]\u001b[A\u001b[A\n",
      "\n",
      "1it [00:01,  1.39s/it]\u001b[A\u001b[A\n",
      "\n",
      "2it [00:02,  1.34s/it]\u001b[A\u001b[A\n",
      "\n",
      "3it [00:03,  1.32s/it]\u001b[A\u001b[A\n",
      "\n",
      "4it [00:05,  1.31s/it]\u001b[A\u001b[A\n",
      "\n",
      "5it [00:06,  1.30s/it]\u001b[A\u001b[A\n",
      "\n",
      "6it [00:07,  1.29s/it]\u001b[A\u001b[A\n",
      "\n",
      "7it [00:09,  1.29s/it]\u001b[A\u001b[A\n",
      "\n",
      "8it [00:10,  1.29s/it]\u001b[A\u001b[A\n",
      "\n",
      "9it [00:11,  1.29s/it]\u001b[A\u001b[A\n",
      "\n",
      "10it [00:12,  1.29s/it]\u001b[A\u001b[A\n",
      "\n",
      "11it [00:14,  1.31s/it]\u001b[A\u001b[A\n"
     ]
    },
    {
     "data": {
      "image/png": "[encoded data removed]",
      "text/plain": [
       "<Figure size 300x300 with 1 Axes>"
      ]
     },
     "metadata": {},
     "output_type": "display_data"
    },
    {
     "name": "stdout",
     "output_type": "stream",
     "text": [
      "SignificanceResult(statistic=0.6782486645348874, pvalue=0.0)\n",
      "1.2121147\n"
     ]
    },
    {
     "name": "stderr",
     "output_type": "stream",
     "text": [
      "\n",
      "\n",
      "0it [00:00, ?it/s]\u001b[A\u001b[A\n",
      "\n",
      "1it [00:01,  1.38s/it]\u001b[A\u001b[A\n",
      "\n",
      "2it [00:02,  1.32s/it]\u001b[A\u001b[A\n",
      "\n",
      "3it [00:03,  1.31s/it]\u001b[A\u001b[A\n",
      "\n",
      "4it [00:05,  1.31s/it]\u001b[A\u001b[A\n",
      "\n",
      "5it [00:06,  1.31s/it]\u001b[A\u001b[A\n",
      "\n",
      "6it [00:07,  1.30s/it]\u001b[A\u001b[A\n",
      "\n",
      "7it [00:09,  1.30s/it]\u001b[A\u001b[A\n",
      "\n",
      "8it [00:10,  1.30s/it]\u001b[A\u001b[A\n",
      "\n",
      "9it [00:11,  1.30s/it]\u001b[A\u001b[A\n",
      "\n",
      "10it [00:13,  1.30s/it]\u001b[A\u001b[A\n",
      "\n",
      "11it [00:14,  1.31s/it]\u001b[A\u001b[A\n"
     ]
    },
    {
     "data": {
      "image/png": "[encoded data removed]",
      "text/plain": [
       "<Figure size 300x300 with 1 Axes>"
      ]
     },
     "metadata": {},
     "output_type": "display_data"
    },
    {
     "name": "stdout",
     "output_type": "stream",
     "text": [
      "SignificanceResult(statistic=0.6781566065414015, pvalue=0.0)\n",
      "1.2127024\n"
     ]
    },
    {
     "name": "stderr",
     "output_type": "stream",
     "text": [
      "\n",
      "\n",
      "0it [00:00, ?it/s]\u001b[A\u001b[A\n",
      "\n",
      "1it [00:01,  1.39s/it]\u001b[A\u001b[A\n",
      "\n",
      "2it [00:02,  1.33s/it]\u001b[A\u001b[A\n",
      "\n",
      "3it [00:03,  1.31s/it]\u001b[A\u001b[A\n",
      "\n",
      "4it [00:05,  1.30s/it]\u001b[A\u001b[A\n",
      "\n",
      "5it [00:06,  1.30s/it]\u001b[A\u001b[A\n",
      "\n",
      "6it [00:07,  1.29s/it]\u001b[A\u001b[A\n",
      "\n",
      "7it [00:09,  1.29s/it]\u001b[A\u001b[A\n",
      "\n",
      "8it [00:10,  1.29s/it]\u001b[A\u001b[A\n",
      "\n",
      "9it [00:11,  1.29s/it]\u001b[A\u001b[A\n",
      "\n",
      "10it [00:12,  1.29s/it]\u001b[A\u001b[A\n",
      "\n",
      "11it [00:14,  1.31s/it]\u001b[A\u001b[A\n"
     ]
    },
    {
     "data": {
      "image/png": "[encoded data removed]",
      "text/plain": [
       "<Figure size 300x300 with 1 Axes>"
      ]
     },
     "metadata": {},
     "output_type": "display_data"
    },
    {
     "name": "stdout",
     "output_type": "stream",
     "text": [
      "SignificanceResult(statistic=0.6694571939969929, pvalue=0.0)\n",
      "1.2586702\n"
     ]
    },
    {
     "name": "stderr",
     "output_type": "stream",
     "text": [
      "\n",
      "\n",
      "0it [00:00, ?it/s]\u001b[A\u001b[A\n",
      "\n",
      "1it [00:01,  1.39s/it]\u001b[A\u001b[A\n",
      "\n",
      "2it [00:02,  1.34s/it]\u001b[A\u001b[A\n",
      "\n",
      "3it [00:03,  1.32s/it]\u001b[A\u001b[A\n",
      "\n",
      "4it [00:05,  1.31s/it]\u001b[A\u001b[A\n",
      "\n",
      "5it [00:06,  1.31s/it]\u001b[A\u001b[A\n",
      "\n",
      "6it [00:07,  1.31s/it]\u001b[A\u001b[A\n",
      "\n",
      "7it [00:09,  1.30s/it]\u001b[A\u001b[A\n",
      "\n",
      "8it [00:10,  1.30s/it]\u001b[A\u001b[A\n",
      "\n",
      "9it [00:11,  1.30s/it]\u001b[A\u001b[A\n",
      "\n",
      "10it [00:13,  1.30s/it]\u001b[A\u001b[A\n",
      "\n",
      "11it [00:14,  1.31s/it]\u001b[A\u001b[A\n"
     ]
    },
    {
     "data": {
      "image/png": "[encoded data removed]",
      "text/plain": [
       "<Figure size 300x300 with 1 Axes>"
      ]
     },
     "metadata": {},
     "output_type": "display_data"
    },
    {
     "name": "stdout",
     "output_type": "stream",
     "text": [
      "SignificanceResult(statistic=0.49859334175762277, pvalue=0.0)\n",
      "2.7365701\n"
     ]
    },
    {
     "name": "stderr",
     "output_type": "stream",
     "text": [
      "\n",
      "\n",
      "0it [00:00, ?it/s]\u001b[A\u001b[A\n",
      "\n",
      "1it [00:01,  1.39s/it]\u001b[A\u001b[A\n",
      "\n",
      "2it [00:02,  1.33s/it]\u001b[A\u001b[A\n",
      "\n",
      "3it [00:03,  1.31s/it]\u001b[A\u001b[A\n",
      "\n",
      "4it [00:05,  1.30s/it]\u001b[A\u001b[A\n",
      "\n",
      "5it [00:06,  1.30s/it]\u001b[A\u001b[A\n",
      "\n",
      "6it [00:07,  1.29s/it]\u001b[A\u001b[A\n",
      "\n",
      "7it [00:09,  1.29s/it]\u001b[A\u001b[A\n",
      "\n",
      "8it [00:10,  1.29s/it]\u001b[A\u001b[A\n",
      "\n",
      "9it [00:11,  1.29s/it]\u001b[A\u001b[A\n",
      "\n",
      "10it [00:12,  1.29s/it]\u001b[A\u001b[A\n",
      "\n",
      "11it [00:14,  1.30s/it]\u001b[A\u001b[A\n"
     ]
    },
    {
     "data": {
      "image/png": "[encoded data removed]",
      "text/plain": [
       "<Figure size 300x300 with 1 Axes>"
      ]
     },
     "metadata": {},
     "output_type": "display_data"
    },
    {
     "name": "stdout",
     "output_type": "stream",
     "text": [
      "SignificanceResult(statistic=0.4471423134138025, pvalue=0.0)\n",
      "3.9889417\n"
     ]
    },
    {
     "name": "stderr",
     "output_type": "stream",
     "text": [
      "\n",
      "\n",
      "0it [00:00, ?it/s]\u001b[A\u001b[A\n",
      "\n",
      "1it [00:01,  1.36s/it]\u001b[A\u001b[A\n",
      "\n",
      "2it [00:02,  1.31s/it]\u001b[A\u001b[A\n",
      "\n",
      "3it [00:03,  1.30s/it]\u001b[A\u001b[A\n",
      "\n",
      "4it [00:05,  1.29s/it]\u001b[A\u001b[A\n",
      "\n",
      "5it [00:06,  1.29s/it]\u001b[A\u001b[A\n",
      "\n",
      "6it [00:07,  1.28s/it]\u001b[A\u001b[A\n",
      "\n",
      "7it [00:09,  1.28s/it]\u001b[A\u001b[A\n",
      "\n",
      "8it [00:10,  1.28s/it]\u001b[A\u001b[A\n",
      "\n",
      "9it [00:11,  1.28s/it]\u001b[A\u001b[A\n",
      "\n",
      "10it [00:12,  1.28s/it]\u001b[A\u001b[A\n",
      "\n",
      "11it [00:14,  1.29s/it]\u001b[A\u001b[A\n"
     ]
    },
    {
     "data": {
      "image/png": "[encoded data removed]",
      "text/plain": [
       "<Figure size 300x300 with 1 Axes>"
      ]
     },
     "metadata": {},
     "output_type": "display_data"
    },
    {
     "name": "stdout",
     "output_type": "stream",
     "text": [
      "SignificanceResult(statistic=0.4275759462402667, pvalue=0.0)\n",
      "5.2147617\n"
     ]
    }
   ],
   "source": [
    "for std in [0.001, 0.01, 0.1, 1, 2, 10]:\n",
    "    _, X_imputed_var = invert_and_sample(dataloader, encoder_model, generative_model, sample_std=std)\n",
    "    plt.figure(figsize=(3, 3))\n",
    "    plt.scatter(X_imputed_var.ravel()[:100000], pbmc3k.layers[\"X_counts\"].A.ravel()[:100000])\n",
    "    plt.title(f\"PBMC3K imputation std {std}\")\n",
    "    plt.xlabel(\"Predictions\")\n",
    "    plt.ylabel(\"Ground truth\")\n",
    "    plt.savefig(f\"plots/var_plots/pbmc3k_comparison_{std}.png\",bbox_inches='tight', format=\"png\")  # Save the figure\n",
    "    plt.show()\n",
    "    print(scipy.stats.spearmanr(X_imputed_var.ravel()[non_zero_idx], pbmc3k.layers[\"X_counts\"].A.ravel()[non_zero_idx]))\n",
    "    print(np.mean(np.abs(X_imputed_var.ravel()[non_zero_idx] - pbmc3k.layers[\"X_counts\"].A.ravel()[[non_zero_idx]])))"
   ]
  },
  {
   "cell_type": "code",
   "execution_count": null,
   "id": "b980b352-efc9-417d-9e01-b372b2f846cd",
   "metadata": {},
   "outputs": [],
   "source": []
  }
 ],
 "metadata": {
  "kernelspec": {
   "display_name": "Python 3 (ipykernel)",
   "language": "python",
   "name": "python3"
  },
  "language_info": {
   "codemirror_mode": {
    "name": "ipython",
    "version": 3
   },
   "file_extension": ".py",
   "mimetype": "text/x-python",
   "name": "python",
   "nbconvert_exporter": "python",
   "pygments_lexer": "ipython3",
   "version": "3.10.13"
  }
 },
 "nbformat": 4,
 "nbformat_minor": 5
}
