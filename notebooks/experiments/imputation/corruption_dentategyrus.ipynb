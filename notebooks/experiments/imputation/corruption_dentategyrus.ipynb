{
 "cells": [
  {
   "cell_type": "code",
   "execution_count": 243,
   "id": "018a40ce-938d-4c3c-ac42-2060392ab8e1",
   "metadata": {},
   "outputs": [],
   "source": [
    "import pandas as pd\n",
    "import numpy as np\n",
    "import scanpy as sc\n",
    "import scvi\n",
    "import torch\n",
    "import scipy.special as sp\n",
    "from tqdm import tqdm\n",
    "import matplotlib.pyplot as plt\n",
    "from scipy.sparse import csr_matrix\n",
    "import scipy.stats\n",
    "import seaborn as sns\n",
    "\n",
    "\n",
    "import matplotlib\n",
    "from matplotlib import rc\n",
    "import matplotlib.pyplot as plt \n",
    "matplotlib.rcdefaults()\n",
    "\n",
    "matplotlib_rc = { \n",
    "    # 'text': {'usetex': True}, \n",
    "    'font': {'family': 'serif'} } # Apply changes for k, v in matplotlib_rc.items(): rc(k, **v)\n",
    "for k, v in matplotlib_rc.items():\n",
    "          rc(k, **v)"
   ]
  },
  {
   "cell_type": "code",
   "execution_count": 138,
   "id": "d4be6c4e-3541-484c-adf7-a2232de2a2ce",
   "metadata": {},
   "outputs": [],
   "source": [
    "def corrupt_dataset(adata):\n",
    "    \"\"\"\n",
    "    Corrupts entries in an AnnData object's matrix with a probability of 0.1%.\n",
    "    \n",
    "    Parameters\n",
    "    ----------\n",
    "    adata : AnnData\n",
    "        The AnnData object whose data matrix (adata.X) will be corrupted.\n",
    "        This works for both dense and sparse matrices.\n",
    "\n",
    "    Returns\n",
    "    -------\n",
    "    None\n",
    "        The function modifies the adata object in place.\n",
    "    \"\"\"\n",
    "    # Only keep highly variable genes\n",
    "    adata = adata[:, adata.var.highly_variable]\n",
    "\n",
    "    # Shape of the dropout Bernoulli matrix \n",
    "    dim = adata.X.shape\n",
    "    \n",
    "    # Generate a mask of the same shape as the data matrix, with 0.1% probability of corruption\n",
    "    np.random.seed(42)\n",
    "    corruption_mask = 1-np.random.binomial(n=1, p=0.1, size=dim).astype(bool)\n",
    "    print(\"Dropped out\", (corruption_mask==0).sum())\n",
    "    print(\"Kept\", (corruption_mask==1).sum())\n",
    "\n",
    "    # Corrupt matrix by multiplying it by the mask \n",
    "    corrupted_mat = adata.layers[\"X_counts\"].A * corruption_mask\n",
    "\n",
    "    adata.layers[\"X_masked\"] = corrupted_mat\n",
    "\n",
    "    adata.uns[\"do_ix\"] = np.where(corruption_mask.ravel()==0)[0]\n",
    "    return adata"
   ]
  },
  {
   "cell_type": "markdown",
   "id": "84d06042-3731-4b11-966c-d1daeb299d67",
   "metadata": {},
   "source": [
    "**Dentategyrus**"
   ]
  },
  {
   "cell_type": "code",
   "execution_count": 139,
   "id": "24db283a-43fb-4df0-9404-2e7c5cde9df2",
   "metadata": {},
   "outputs": [
    {
     "name": "stdout",
     "output_type": "stream",
     "text": [
      "Dropped out 3640271\n",
      "Kept 32785729\n"
     ]
    },
    {
     "name": "stderr",
     "output_type": "stream",
     "text": [
      "/tmp/ipykernel_2014326/42061576.py:31: ImplicitModificationWarning: Setting element `.layers['X_masked']` of view, initializing view as actual.\n",
      "  adata.layers[\"X_masked\"] = corrupted_mat\n"
     ]
    }
   ],
   "source": [
    "dentate = sc.read_h5ad(\"/home/icb/alessandro.palma/environment/cfgen/project_folder/datasets/processed_full_genome/dentategyrus/dentategyrus.h5ad\")\n",
    "dentate = corrupt_dataset(dentate)\n",
    "dentate.layers[\"X_masked\"] = csr_matrix(dentate.layers[\"X_masked\"])\n",
    "dentate.write_h5ad(\"/home/icb/alessandro.palma/environment/cfgen/project_folder/datasets/dropout/dentategyrus.h5ad\")"
   ]
  },
  {
   "cell_type": "markdown",
   "id": "acb48c69-c5e4-4e06-88f1-f3cf0856d5cd",
   "metadata": {},
   "source": [
    "## Train scVI on the masked data "
   ]
  },
  {
   "cell_type": "code",
   "execution_count": 140,
   "id": "2eec1757-a6ac-4d4f-8420-d4a17c5b4db0",
   "metadata": {},
   "outputs": [
    {
     "name": "stderr",
     "output_type": "stream",
     "text": [
      "/home/icb/alessandro.palma/miniconda3/envs/celldreamer/lib/python3.10/site-packages/lightning/fabric/plugins/environments/slurm.py:191: The `srun` command is available on your system but is not used. HINT: If your intention is to run Lightning on SLURM, prepend your python command with `srun` like so: srun python /home/icb/alessandro.palma/miniconda3/envs/celldream ...\n",
      "GPU available: True (cuda), used: True\n",
      "TPU available: False, using: 0 TPU cores\n",
      "IPU available: False, using: 0 IPUs\n",
      "HPU available: False, using: 0 HPUs\n",
      "/home/icb/alessandro.palma/miniconda3/envs/celldreamer/lib/python3.10/site-packages/lightning/fabric/plugins/environments/slurm.py:191: The `srun` command is available on your system but is not used. HINT: If your intention is to run Lightning on SLURM, prepend your python command with `srun` like so: srun python /home/icb/alessandro.palma/miniconda3/envs/celldream ...\n",
      "LOCAL_RANK: 0 - CUDA_VISIBLE_DEVICES: [0]\n",
      "/home/icb/alessandro.palma/miniconda3/envs/celldreamer/lib/python3.10/site-packages/lightning/pytorch/trainer/connectors/data_connector.py:441: The 'train_dataloader' does not have many workers which may be a bottleneck. Consider increasing the value of the `num_workers` argument` to `num_workers=5` in the `DataLoader` to improve performance.\n"
     ]
    },
    {
     "name": "stdout",
     "output_type": "stream",
     "text": [
      "Using device: gpu\n",
      "Epoch 100/100: 100%|██████████| 100/100 [01:44<00:00,  1.01it/s, v_num=1, train_loss_step=996, train_loss_epoch=896]  "
     ]
    },
    {
     "name": "stderr",
     "output_type": "stream",
     "text": [
      "`Trainer.fit` stopped: `max_epochs=100` reached.\n"
     ]
    },
    {
     "name": "stdout",
     "output_type": "stream",
     "text": [
      "Epoch 100/100: 100%|██████████| 100/100 [01:44<00:00,  1.04s/it, v_num=1, train_loss_step=996, train_loss_epoch=896]\n"
     ]
    }
   ],
   "source": [
    "# Set up the anndata\n",
    "scvi.model.SCVI.setup_anndata(dentate, \n",
    "                              layer=\"X_masked\",\n",
    "                              categorical_covariate_keys=[\"clusters\"])\n",
    "\n",
    "# SCVI model\n",
    "model = scvi.model.SCVI(dentate, n_layers=3, n_latent=100, gene_likelihood=\"nb\")\n",
    "\n",
    "# Check for CUDA availability and specify device\n",
    "use_cuda = torch.cuda.is_available()\n",
    "device = \"gpu\" if use_cuda else \"cpu\"\n",
    "print(f\"Using device: {device}\")\n",
    "\n",
    "# Train model \n",
    "model.train(max_epochs=100, accelerator=device)"
   ]
  },
  {
   "cell_type": "code",
   "execution_count": 204,
   "id": "6a8d742a-3ba3-4ce8-a29f-1e8a9bf6a636",
   "metadata": {},
   "outputs": [],
   "source": [
    "imputed_counts = model.get_normalized_expression(dentate,\n",
    "                            indices=None,\n",
    "                            transform_batch=None,\n",
    "                            gene_list = None,\n",
    "                            library_size = 1,\n",
    "                            n_samples = 1,\n",
    "                            n_samples_overall = None,\n",
    "                            weights = None,\n",
    "                            batch_size = None,\n",
    "                            return_mean = True,\n",
    "                            return_numpy = None,\n",
    "                            )\n",
    "imputed_counts = imputed_counts.values*dentate.layers[\"X_counts\"].A.sum(1)[:,None]"
   ]
  },
  {
   "cell_type": "markdown",
   "id": "62ea6c03-5a3d-46f8-aeb0-bfa26ec71c35",
   "metadata": {},
   "source": [
    "All expression is normalized to sum to 1"
   ]
  },
  {
   "cell_type": "code",
   "execution_count": 205,
   "id": "a6d3b96b-d4c1-4f75-b663-1b4c74f843e3",
   "metadata": {},
   "outputs": [
    {
     "data": {
      "text/plain": [
       "0.3505125"
      ]
     },
     "execution_count": 205,
     "metadata": {},
     "output_type": "execute_result"
    }
   ],
   "source": [
    "np.mean(np.abs(imputed_counts.ravel()[dentate.uns['do_ix']] - dentate.layers[\"X_counts\"].A.ravel()[dentate.uns['do_ix']]))"
   ]
  },
  {
   "cell_type": "markdown",
   "id": "4bf91d8c-ad01-4616-a1c3-96c3ac440dab",
   "metadata": {},
   "source": [
    "## Train CFGen on the masked data "
   ]
  },
  {
   "cell_type": "code",
   "execution_count": 143,
   "id": "8dd305c2-1e0f-4b11-98a3-484adc1f5bd2",
   "metadata": {},
   "outputs": [],
   "source": [
    "import os\n",
    "from pathlib import Path\n",
    "import uuid\n",
    "import torch\n",
    "from torch.utils.data import random_split\n",
    "from pytorch_lightning import Trainer\n",
    "from pytorch_lightning.callbacks import ModelCheckpoint, EarlyStopping\n",
    "from pytorch_lightning.loggers import WandbLogger\n",
    "from celldreamer.paths import TRAINING_FOLDER\n",
    "from celldreamer.data.scrnaseq_loader import RNAseqLoader\n",
    "from celldreamer.models.featurizers.category_featurizer import CategoricalFeaturizer\n",
    "from celldreamer.models.fm.denoising_model import MLPTimeStep\n",
    "from celldreamer.models.fm.fm import FM\n",
    "from celldreamer.models.base.encoder_model import EncoderModel\n",
    "from celldreamer.models.fm.ode import torch_wrapper\n",
    "from torchdyn.core import NeuralODE"
   ]
  },
  {
   "cell_type": "markdown",
   "id": "4bdff572-b54d-4bbe-9878-c8d0f8f2059f",
   "metadata": {},
   "source": [
    "### Encoder training"
   ]
  },
  {
   "cell_type": "markdown",
   "id": "9861ca8a-37f9-4996-99a4-ca0870030b72",
   "metadata": {},
   "source": [
    "Initialize dataloader "
   ]
  },
  {
   "cell_type": "code",
   "execution_count": 144,
   "id": "8dc5630e-eb16-42b8-8f48-3e5dd608845a",
   "metadata": {},
   "outputs": [],
   "source": [
    "data_path = \"/home/icb/alessandro.palma/environment/cfgen/project_folder/datasets/dropout/dentategyrus.h5ad\""
   ]
  },
  {
   "cell_type": "markdown",
   "id": "c418859e-d756-4b34-8e0f-bc22a6451b0a",
   "metadata": {},
   "source": [
    "All masked values are indeed 0"
   ]
  },
  {
   "cell_type": "code",
   "execution_count": 145,
   "id": "588d97d0-4254-4763-be2d-81a5c1b50d43",
   "metadata": {},
   "outputs": [
    {
     "name": "stdout",
     "output_type": "stream",
     "text": [
      "[0. 0. 0. ... 0. 1. 0.]\n",
      "[0. 0. 0. ... 0. 0. 0.]\n"
     ]
    }
   ],
   "source": [
    "print(dentate.layers[\"X_counts\"].A.ravel()[dentate.uns[\"do_ix\"].ravel()])\n",
    "print(dentate.layers[\"X_masked\"].A.ravel()[dentate.uns[\"do_ix\"].ravel()])"
   ]
  },
  {
   "cell_type": "code",
   "execution_count": 146,
   "id": "515a45ca-6d83-4ace-af10-7bea55a6dfac",
   "metadata": {},
   "outputs": [
    {
     "name": "stderr",
     "output_type": "stream",
     "text": [
      "/home/icb/alessandro.palma/miniconda3/envs/celldreamer/lib/python3.10/site-packages/anndata/__init__.py:51: FutureWarning: `anndata.read` is deprecated, use `anndata.read_h5ad` instead. `ad.read` will be removed in mid 2024.\n",
      "  warnings.warn(\n"
     ]
    }
   ],
   "source": [
    "# Initialize dataloaders for the different tasks \n",
    "dataset = RNAseqLoader(data_path=data_path,\n",
    "                        layer_key=\"X_masked\",               # Corresponding to config 'layer_key'\n",
    "                        covariate_keys=[\"clusters\"],        # Corresponding to config 'covariate_keys'\n",
    "                        subsample_frac=1,                   # Corresponding to config 'subsample_frac'\n",
    "                        encoder_type=\"learnt_autoencoder\",  # Corresponding to config 'encoder_type'\n",
    "                        multimodal=False,                   # Corresponding to config 'multimodal'\n",
    "                        is_binarized=False                  # Corresponding to config 'is_binarized'\n",
    "                    )"
   ]
  },
  {
   "cell_type": "code",
   "execution_count": 147,
   "id": "dfcbad70-6868-4efe-bbcf-c78b05665b28",
   "metadata": {},
   "outputs": [],
   "source": [
    "dataloader = torch.utils.data.DataLoader(dataset,\n",
    "                                        batch_size=256,\n",
    "                                        shuffle=True,\n",
    "                                        num_workers=4, \n",
    "                                        drop_last=True)\n",
    "gene_dim = dataset.X.shape[1] "
   ]
  },
  {
   "cell_type": "markdown",
   "id": "b9ba539e-04be-4830-8383-50735c8f5635",
   "metadata": {},
   "source": [
    "Initialize encoder"
   ]
  },
  {
   "cell_type": "code",
   "execution_count": 148,
   "id": "a857ffe7-cb7b-4c22-92ac-bf9d63ffb5ca",
   "metadata": {},
   "outputs": [],
   "source": [
    "encoder_model = EncoderModel(\n",
    "    in_dim=gene_dim,\n",
    "    n_cat=None,\n",
    "    conditioning_covariate=\"clusters\",   # From the first config file\n",
    "    encoder_type=\"learnt_autoencoder\",   # From the first config file\n",
    "    x0_from_x_kwargs = {\n",
    "        \"dims\":[512, 256, 100],                # From x0_from_x_kwargs.dims\n",
    "        \"batch_norm\":True,                     # From x0_from_x_kwargs.batch_norm\n",
    "        \"dropout\":False,                       # From x0_from_x_kwargs.dropout\n",
    "        \"dropout_p\":0.0},                       # From x0_from_x_kwargs.dropout_p\n",
    "    learning_rate=0.001,                 # From yaml learning_rate\n",
    "    weight_decay=0.00001,                # From yaml weight_decay\n",
    "    covariate_specific_theta=False,      # From yaml covariate_specific_theta\n",
    "    multimodal=False,                    # From yaml multimodal\n",
    "    is_binarized=False                   # From yaml is_binarized\n",
    ")"
   ]
  },
  {
   "cell_type": "code",
   "execution_count": 149,
   "id": "4a88b36b-8751-419c-a6d1-a444bed8cdd2",
   "metadata": {},
   "outputs": [
    {
     "name": "stderr",
     "output_type": "stream",
     "text": [
      "/home/icb/alessandro.palma/miniconda3/envs/celldreamer/lib/python3.10/site-packages/lightning_fabric/plugins/environments/slurm.py:204: The `srun` command is available on your system but is not used. HINT: If your intention is to run Lightning on SLURM, prepend your python command with `srun` like so: srun python /home/icb/alessandro.palma/miniconda3/envs/celldream ...\n",
      "GPU available: True (cuda), used: True\n",
      "TPU available: False, using: 0 TPU cores\n",
      "HPU available: False, using: 0 HPUs\n"
     ]
    }
   ],
   "source": [
    "trainer_generative = Trainer(max_epochs=100)"
   ]
  },
  {
   "cell_type": "code",
   "execution_count": 150,
   "id": "36bbefcb-2e0c-41ab-80f4-5abe55c7f5f2",
   "metadata": {
    "scrolled": true
   },
   "outputs": [
    {
     "name": "stderr",
     "output_type": "stream",
     "text": [
      "LOCAL_RANK: 0 - CUDA_VISIBLE_DEVICES: [0]\n",
      "\n",
      "  | Name         | Type | Params | Mode \n",
      "----------------------------------------------\n",
      "0 | x0_from_x    | MLP  | 1.2 M  | train\n",
      "1 | x_from_x0    | MLP  | 1.2 M  | train\n",
      "  | other params | n/a  | 2.0 K  | n/a  \n",
      "----------------------------------------------\n",
      "2.4 M     Trainable params\n",
      "0         Non-trainable params\n",
      "2.4 M     Total params\n",
      "9.480     Total estimated model params size (MB)\n"
     ]
    },
    {
     "data": {
      "application/vnd.jupyter.widget-view+json": {
       "model_id": "",
       "version_major": 2,
       "version_minor": 0
      },
      "text/plain": [
       "Sanity Checking: |          | 0/? [00:00<?, ?it/s]"
      ]
     },
     "metadata": {},
     "output_type": "display_data"
    },
    {
     "name": "stderr",
     "output_type": "stream",
     "text": [
      "/home/icb/alessandro.palma/miniconda3/envs/celldreamer/lib/python3.10/site-packages/pytorch_lightning/trainer/connectors/data_connector.py:475: Your `val_dataloader`'s sampler has shuffling enabled, it is strongly recommended that you turn shuffling off for val/test dataloaders.\n"
     ]
    },
    {
     "data": {
      "application/vnd.jupyter.widget-view+json": {
       "model_id": "c6daeba5c50e4071af1f1ee9d8a8a4ed",
       "version_major": 2,
       "version_minor": 0
      },
      "text/plain": [
       "Training: |          | 0/? [00:00<?, ?it/s]"
      ]
     },
     "metadata": {},
     "output_type": "display_data"
    },
    {
     "data": {
      "application/vnd.jupyter.widget-view+json": {
       "model_id": "",
       "version_major": 2,
       "version_minor": 0
      },
      "text/plain": [
       "Validation: |          | 0/? [00:00<?, ?it/s]"
      ]
     },
     "metadata": {},
     "output_type": "display_data"
    },
    {
     "data": {
      "application/vnd.jupyter.widget-view+json": {
       "model_id": "",
       "version_major": 2,
       "version_minor": 0
      },
      "text/plain": [
       "Validation: |          | 0/? [00:00<?, ?it/s]"
      ]
     },
     "metadata": {},
     "output_type": "display_data"
    },
    {
     "data": {
      "application/vnd.jupyter.widget-view+json": {
       "model_id": "",
       "version_major": 2,
       "version_minor": 0
      },
      "text/plain": [
       "Validation: |          | 0/? [00:00<?, ?it/s]"
      ]
     },
     "metadata": {},
     "output_type": "display_data"
    },
    {
     "data": {
      "application/vnd.jupyter.widget-view+json": {
       "model_id": "",
       "version_major": 2,
       "version_minor": 0
      },
      "text/plain": [
       "Validation: |          | 0/? [00:00<?, ?it/s]"
      ]
     },
     "metadata": {},
     "output_type": "display_data"
    },
    {
     "data": {
      "application/vnd.jupyter.widget-view+json": {
       "model_id": "",
       "version_major": 2,
       "version_minor": 0
      },
      "text/plain": [
       "Validation: |          | 0/? [00:00<?, ?it/s]"
      ]
     },
     "metadata": {},
     "output_type": "display_data"
    },
    {
     "data": {
      "application/vnd.jupyter.widget-view+json": {
       "model_id": "",
       "version_major": 2,
       "version_minor": 0
      },
      "text/plain": [
       "Validation: |          | 0/? [00:00<?, ?it/s]"
      ]
     },
     "metadata": {},
     "output_type": "display_data"
    },
    {
     "data": {
      "application/vnd.jupyter.widget-view+json": {
       "model_id": "",
       "version_major": 2,
       "version_minor": 0
      },
      "text/plain": [
       "Validation: |          | 0/? [00:00<?, ?it/s]"
      ]
     },
     "metadata": {},
     "output_type": "display_data"
    },
    {
     "data": {
      "application/vnd.jupyter.widget-view+json": {
       "model_id": "",
       "version_major": 2,
       "version_minor": 0
      },
      "text/plain": [
       "Validation: |          | 0/? [00:00<?, ?it/s]"
      ]
     },
     "metadata": {},
     "output_type": "display_data"
    },
    {
     "data": {
      "application/vnd.jupyter.widget-view+json": {
       "model_id": "",
       "version_major": 2,
       "version_minor": 0
      },
      "text/plain": [
       "Validation: |          | 0/? [00:00<?, ?it/s]"
      ]
     },
     "metadata": {},
     "output_type": "display_data"
    },
    {
     "data": {
      "application/vnd.jupyter.widget-view+json": {
       "model_id": "",
       "version_major": 2,
       "version_minor": 0
      },
      "text/plain": [
       "Validation: |          | 0/? [00:00<?, ?it/s]"
      ]
     },
     "metadata": {},
     "output_type": "display_data"
    },
    {
     "data": {
      "application/vnd.jupyter.widget-view+json": {
       "model_id": "",
       "version_major": 2,
       "version_minor": 0
      },
      "text/plain": [
       "Validation: |          | 0/? [00:00<?, ?it/s]"
      ]
     },
     "metadata": {},
     "output_type": "display_data"
    },
    {
     "data": {
      "application/vnd.jupyter.widget-view+json": {
       "model_id": "",
       "version_major": 2,
       "version_minor": 0
      },
      "text/plain": [
       "Validation: |          | 0/? [00:00<?, ?it/s]"
      ]
     },
     "metadata": {},
     "output_type": "display_data"
    },
    {
     "data": {
      "application/vnd.jupyter.widget-view+json": {
       "model_id": "",
       "version_major": 2,
       "version_minor": 0
      },
      "text/plain": [
       "Validation: |          | 0/? [00:00<?, ?it/s]"
      ]
     },
     "metadata": {},
     "output_type": "display_data"
    },
    {
     "data": {
      "application/vnd.jupyter.widget-view+json": {
       "model_id": "",
       "version_major": 2,
       "version_minor": 0
      },
      "text/plain": [
       "Validation: |          | 0/? [00:00<?, ?it/s]"
      ]
     },
     "metadata": {},
     "output_type": "display_data"
    },
    {
     "data": {
      "application/vnd.jupyter.widget-view+json": {
       "model_id": "",
       "version_major": 2,
       "version_minor": 0
      },
      "text/plain": [
       "Validation: |          | 0/? [00:00<?, ?it/s]"
      ]
     },
     "metadata": {},
     "output_type": "display_data"
    },
    {
     "data": {
      "application/vnd.jupyter.widget-view+json": {
       "model_id": "",
       "version_major": 2,
       "version_minor": 0
      },
      "text/plain": [
       "Validation: |          | 0/? [00:00<?, ?it/s]"
      ]
     },
     "metadata": {},
     "output_type": "display_data"
    },
    {
     "data": {
      "application/vnd.jupyter.widget-view+json": {
       "model_id": "",
       "version_major": 2,
       "version_minor": 0
      },
      "text/plain": [
       "Validation: |          | 0/? [00:00<?, ?it/s]"
      ]
     },
     "metadata": {},
     "output_type": "display_data"
    },
    {
     "data": {
      "application/vnd.jupyter.widget-view+json": {
       "model_id": "",
       "version_major": 2,
       "version_minor": 0
      },
      "text/plain": [
       "Validation: |          | 0/? [00:00<?, ?it/s]"
      ]
     },
     "metadata": {},
     "output_type": "display_data"
    },
    {
     "data": {
      "application/vnd.jupyter.widget-view+json": {
       "model_id": "",
       "version_major": 2,
       "version_minor": 0
      },
      "text/plain": [
       "Validation: |          | 0/? [00:00<?, ?it/s]"
      ]
     },
     "metadata": {},
     "output_type": "display_data"
    },
    {
     "data": {
      "application/vnd.jupyter.widget-view+json": {
       "model_id": "",
       "version_major": 2,
       "version_minor": 0
      },
      "text/plain": [
       "Validation: |          | 0/? [00:00<?, ?it/s]"
      ]
     },
     "metadata": {},
     "output_type": "display_data"
    },
    {
     "data": {
      "application/vnd.jupyter.widget-view+json": {
       "model_id": "",
       "version_major": 2,
       "version_minor": 0
      },
      "text/plain": [
       "Validation: |          | 0/? [00:00<?, ?it/s]"
      ]
     },
     "metadata": {},
     "output_type": "display_data"
    },
    {
     "data": {
      "application/vnd.jupyter.widget-view+json": {
       "model_id": "",
       "version_major": 2,
       "version_minor": 0
      },
      "text/plain": [
       "Validation: |          | 0/? [00:00<?, ?it/s]"
      ]
     },
     "metadata": {},
     "output_type": "display_data"
    },
    {
     "data": {
      "application/vnd.jupyter.widget-view+json": {
       "model_id": "",
       "version_major": 2,
       "version_minor": 0
      },
      "text/plain": [
       "Validation: |          | 0/? [00:00<?, ?it/s]"
      ]
     },
     "metadata": {},
     "output_type": "display_data"
    },
    {
     "data": {
      "application/vnd.jupyter.widget-view+json": {
       "model_id": "",
       "version_major": 2,
       "version_minor": 0
      },
      "text/plain": [
       "Validation: |          | 0/? [00:00<?, ?it/s]"
      ]
     },
     "metadata": {},
     "output_type": "display_data"
    },
    {
     "data": {
      "application/vnd.jupyter.widget-view+json": {
       "model_id": "",
       "version_major": 2,
       "version_minor": 0
      },
      "text/plain": [
       "Validation: |          | 0/? [00:00<?, ?it/s]"
      ]
     },
     "metadata": {},
     "output_type": "display_data"
    },
    {
     "data": {
      "application/vnd.jupyter.widget-view+json": {
       "model_id": "",
       "version_major": 2,
       "version_minor": 0
      },
      "text/plain": [
       "Validation: |          | 0/? [00:00<?, ?it/s]"
      ]
     },
     "metadata": {},
     "output_type": "display_data"
    },
    {
     "data": {
      "application/vnd.jupyter.widget-view+json": {
       "model_id": "",
       "version_major": 2,
       "version_minor": 0
      },
      "text/plain": [
       "Validation: |          | 0/? [00:00<?, ?it/s]"
      ]
     },
     "metadata": {},
     "output_type": "display_data"
    },
    {
     "data": {
      "application/vnd.jupyter.widget-view+json": {
       "model_id": "",
       "version_major": 2,
       "version_minor": 0
      },
      "text/plain": [
       "Validation: |          | 0/? [00:00<?, ?it/s]"
      ]
     },
     "metadata": {},
     "output_type": "display_data"
    },
    {
     "data": {
      "application/vnd.jupyter.widget-view+json": {
       "model_id": "",
       "version_major": 2,
       "version_minor": 0
      },
      "text/plain": [
       "Validation: |          | 0/? [00:00<?, ?it/s]"
      ]
     },
     "metadata": {},
     "output_type": "display_data"
    },
    {
     "data": {
      "application/vnd.jupyter.widget-view+json": {
       "model_id": "",
       "version_major": 2,
       "version_minor": 0
      },
      "text/plain": [
       "Validation: |          | 0/? [00:00<?, ?it/s]"
      ]
     },
     "metadata": {},
     "output_type": "display_data"
    },
    {
     "data": {
      "application/vnd.jupyter.widget-view+json": {
       "model_id": "",
       "version_major": 2,
       "version_minor": 0
      },
      "text/plain": [
       "Validation: |          | 0/? [00:00<?, ?it/s]"
      ]
     },
     "metadata": {},
     "output_type": "display_data"
    },
    {
     "data": {
      "application/vnd.jupyter.widget-view+json": {
       "model_id": "",
       "version_major": 2,
       "version_minor": 0
      },
      "text/plain": [
       "Validation: |          | 0/? [00:00<?, ?it/s]"
      ]
     },
     "metadata": {},
     "output_type": "display_data"
    },
    {
     "data": {
      "application/vnd.jupyter.widget-view+json": {
       "model_id": "",
       "version_major": 2,
       "version_minor": 0
      },
      "text/plain": [
       "Validation: |          | 0/? [00:00<?, ?it/s]"
      ]
     },
     "metadata": {},
     "output_type": "display_data"
    },
    {
     "data": {
      "application/vnd.jupyter.widget-view+json": {
       "model_id": "",
       "version_major": 2,
       "version_minor": 0
      },
      "text/plain": [
       "Validation: |          | 0/? [00:00<?, ?it/s]"
      ]
     },
     "metadata": {},
     "output_type": "display_data"
    },
    {
     "data": {
      "application/vnd.jupyter.widget-view+json": {
       "model_id": "",
       "version_major": 2,
       "version_minor": 0
      },
      "text/plain": [
       "Validation: |          | 0/? [00:00<?, ?it/s]"
      ]
     },
     "metadata": {},
     "output_type": "display_data"
    },
    {
     "data": {
      "application/vnd.jupyter.widget-view+json": {
       "model_id": "",
       "version_major": 2,
       "version_minor": 0
      },
      "text/plain": [
       "Validation: |          | 0/? [00:00<?, ?it/s]"
      ]
     },
     "metadata": {},
     "output_type": "display_data"
    },
    {
     "data": {
      "application/vnd.jupyter.widget-view+json": {
       "model_id": "",
       "version_major": 2,
       "version_minor": 0
      },
      "text/plain": [
       "Validation: |          | 0/? [00:00<?, ?it/s]"
      ]
     },
     "metadata": {},
     "output_type": "display_data"
    },
    {
     "data": {
      "application/vnd.jupyter.widget-view+json": {
       "model_id": "",
       "version_major": 2,
       "version_minor": 0
      },
      "text/plain": [
       "Validation: |          | 0/? [00:00<?, ?it/s]"
      ]
     },
     "metadata": {},
     "output_type": "display_data"
    },
    {
     "data": {
      "application/vnd.jupyter.widget-view+json": {
       "model_id": "",
       "version_major": 2,
       "version_minor": 0
      },
      "text/plain": [
       "Validation: |          | 0/? [00:00<?, ?it/s]"
      ]
     },
     "metadata": {},
     "output_type": "display_data"
    },
    {
     "data": {
      "application/vnd.jupyter.widget-view+json": {
       "model_id": "",
       "version_major": 2,
       "version_minor": 0
      },
      "text/plain": [
       "Validation: |          | 0/? [00:00<?, ?it/s]"
      ]
     },
     "metadata": {},
     "output_type": "display_data"
    },
    {
     "data": {
      "application/vnd.jupyter.widget-view+json": {
       "model_id": "",
       "version_major": 2,
       "version_minor": 0
      },
      "text/plain": [
       "Validation: |          | 0/? [00:00<?, ?it/s]"
      ]
     },
     "metadata": {},
     "output_type": "display_data"
    },
    {
     "data": {
      "application/vnd.jupyter.widget-view+json": {
       "model_id": "",
       "version_major": 2,
       "version_minor": 0
      },
      "text/plain": [
       "Validation: |          | 0/? [00:00<?, ?it/s]"
      ]
     },
     "metadata": {},
     "output_type": "display_data"
    },
    {
     "data": {
      "application/vnd.jupyter.widget-view+json": {
       "model_id": "",
       "version_major": 2,
       "version_minor": 0
      },
      "text/plain": [
       "Validation: |          | 0/? [00:00<?, ?it/s]"
      ]
     },
     "metadata": {},
     "output_type": "display_data"
    },
    {
     "data": {
      "application/vnd.jupyter.widget-view+json": {
       "model_id": "",
       "version_major": 2,
       "version_minor": 0
      },
      "text/plain": [
       "Validation: |          | 0/? [00:00<?, ?it/s]"
      ]
     },
     "metadata": {},
     "output_type": "display_data"
    },
    {
     "data": {
      "application/vnd.jupyter.widget-view+json": {
       "model_id": "",
       "version_major": 2,
       "version_minor": 0
      },
      "text/plain": [
       "Validation: |          | 0/? [00:00<?, ?it/s]"
      ]
     },
     "metadata": {},
     "output_type": "display_data"
    },
    {
     "data": {
      "application/vnd.jupyter.widget-view+json": {
       "model_id": "",
       "version_major": 2,
       "version_minor": 0
      },
      "text/plain": [
       "Validation: |          | 0/? [00:00<?, ?it/s]"
      ]
     },
     "metadata": {},
     "output_type": "display_data"
    },
    {
     "data": {
      "application/vnd.jupyter.widget-view+json": {
       "model_id": "55ec764930be42b0936f307600e90634",
       "version_major": 2,
       "version_minor": 0
      },
      "text/plain": [
       "Validation: |          | 0/? [00:00<?, ?it/s]"
      ]
     },
     "metadata": {},
     "output_type": "display_data"
    },
    {
     "data": {
      "application/vnd.jupyter.widget-view+json": {
       "model_id": "2594a882e806418ea83c9d2bd14fb98b",
       "version_major": 2,
       "version_minor": 0
      },
      "text/plain": [
       "Validation: |          | 0/? [00:00<?, ?it/s]"
      ]
     },
     "metadata": {},
     "output_type": "display_data"
    },
    {
     "data": {
      "application/vnd.jupyter.widget-view+json": {
       "model_id": "9a593deb9af643a485af66b32cd1521c",
       "version_major": 2,
       "version_minor": 0
      },
      "text/plain": [
       "Validation: |          | 0/? [00:00<?, ?it/s]"
      ]
     },
     "metadata": {},
     "output_type": "display_data"
    },
    {
     "data": {
      "application/vnd.jupyter.widget-view+json": {
       "model_id": "1cdd41ddeabd43e3a97c9c66f5c04e49",
       "version_major": 2,
       "version_minor": 0
      },
      "text/plain": [
       "Validation: |          | 0/? [00:00<?, ?it/s]"
      ]
     },
     "metadata": {},
     "output_type": "display_data"
    },
    {
     "data": {
      "application/vnd.jupyter.widget-view+json": {
       "model_id": "cee88bf3678d43a08554da6ce00b62e7",
       "version_major": 2,
       "version_minor": 0
      },
      "text/plain": [
       "Validation: |          | 0/? [00:00<?, ?it/s]"
      ]
     },
     "metadata": {},
     "output_type": "display_data"
    },
    {
     "data": {
      "application/vnd.jupyter.widget-view+json": {
       "model_id": "611cb70dd25d45408ae014002f62c1ec",
       "version_major": 2,
       "version_minor": 0
      },
      "text/plain": [
       "Validation: |          | 0/? [00:00<?, ?it/s]"
      ]
     },
     "metadata": {},
     "output_type": "display_data"
    },
    {
     "data": {
      "application/vnd.jupyter.widget-view+json": {
       "model_id": "6b9905ad923c44dca3171c2877856b22",
       "version_major": 2,
       "version_minor": 0
      },
      "text/plain": [
       "Validation: |          | 0/? [00:00<?, ?it/s]"
      ]
     },
     "metadata": {},
     "output_type": "display_data"
    },
    {
     "data": {
      "application/vnd.jupyter.widget-view+json": {
       "model_id": "cc9b3bbbdb9847ebafb0bc46895f3d0b",
       "version_major": 2,
       "version_minor": 0
      },
      "text/plain": [
       "Validation: |          | 0/? [00:00<?, ?it/s]"
      ]
     },
     "metadata": {},
     "output_type": "display_data"
    },
    {
     "data": {
      "application/vnd.jupyter.widget-view+json": {
       "model_id": "513b2a14b2f9455284ce961a02ffc37a",
       "version_major": 2,
       "version_minor": 0
      },
      "text/plain": [
       "Validation: |          | 0/? [00:00<?, ?it/s]"
      ]
     },
     "metadata": {},
     "output_type": "display_data"
    },
    {
     "data": {
      "application/vnd.jupyter.widget-view+json": {
       "model_id": "d43bd9db6d38422ba721edee79d7fbe7",
       "version_major": 2,
       "version_minor": 0
      },
      "text/plain": [
       "Validation: |          | 0/? [00:00<?, ?it/s]"
      ]
     },
     "metadata": {},
     "output_type": "display_data"
    },
    {
     "data": {
      "application/vnd.jupyter.widget-view+json": {
       "model_id": "e85facf8d2af4f21a3533d81ce6fb855",
       "version_major": 2,
       "version_minor": 0
      },
      "text/plain": [
       "Validation: |          | 0/? [00:00<?, ?it/s]"
      ]
     },
     "metadata": {},
     "output_type": "display_data"
    },
    {
     "data": {
      "application/vnd.jupyter.widget-view+json": {
       "model_id": "81bc7f2aad124d93a66674fdfd0c371e",
       "version_major": 2,
       "version_minor": 0
      },
      "text/plain": [
       "Validation: |          | 0/? [00:00<?, ?it/s]"
      ]
     },
     "metadata": {},
     "output_type": "display_data"
    },
    {
     "data": {
      "application/vnd.jupyter.widget-view+json": {
       "model_id": "5a3cc0df5af44491801938847c250f14",
       "version_major": 2,
       "version_minor": 0
      },
      "text/plain": [
       "Validation: |          | 0/? [00:00<?, ?it/s]"
      ]
     },
     "metadata": {},
     "output_type": "display_data"
    },
    {
     "data": {
      "application/vnd.jupyter.widget-view+json": {
       "model_id": "0fc3fe958b324f11825fd820bd64e3da",
       "version_major": 2,
       "version_minor": 0
      },
      "text/plain": [
       "Validation: |          | 0/? [00:00<?, ?it/s]"
      ]
     },
     "metadata": {},
     "output_type": "display_data"
    },
    {
     "data": {
      "application/vnd.jupyter.widget-view+json": {
       "model_id": "400cc41534a44610a323b550be9ca695",
       "version_major": 2,
       "version_minor": 0
      },
      "text/plain": [
       "Validation: |          | 0/? [00:00<?, ?it/s]"
      ]
     },
     "metadata": {},
     "output_type": "display_data"
    },
    {
     "data": {
      "application/vnd.jupyter.widget-view+json": {
       "model_id": "c0cd411e2dd34a4cacff833bdd0a1c68",
       "version_major": 2,
       "version_minor": 0
      },
      "text/plain": [
       "Validation: |          | 0/? [00:00<?, ?it/s]"
      ]
     },
     "metadata": {},
     "output_type": "display_data"
    },
    {
     "data": {
      "application/vnd.jupyter.widget-view+json": {
       "model_id": "6d965cac899747be973d86ed10dc1b21",
       "version_major": 2,
       "version_minor": 0
      },
      "text/plain": [
       "Validation: |          | 0/? [00:00<?, ?it/s]"
      ]
     },
     "metadata": {},
     "output_type": "display_data"
    },
    {
     "data": {
      "application/vnd.jupyter.widget-view+json": {
       "model_id": "e0603446fdfd4f5aadc1f6d5d31becd3",
       "version_major": 2,
       "version_minor": 0
      },
      "text/plain": [
       "Validation: |          | 0/? [00:00<?, ?it/s]"
      ]
     },
     "metadata": {},
     "output_type": "display_data"
    },
    {
     "data": {
      "application/vnd.jupyter.widget-view+json": {
       "model_id": "e171cb3787c942c7a371aba08c896336",
       "version_major": 2,
       "version_minor": 0
      },
      "text/plain": [
       "Validation: |          | 0/? [00:00<?, ?it/s]"
      ]
     },
     "metadata": {},
     "output_type": "display_data"
    },
    {
     "data": {
      "application/vnd.jupyter.widget-view+json": {
       "model_id": "fd09e0e0f3794117afcc2092bf56940f",
       "version_major": 2,
       "version_minor": 0
      },
      "text/plain": [
       "Validation: |          | 0/? [00:00<?, ?it/s]"
      ]
     },
     "metadata": {},
     "output_type": "display_data"
    },
    {
     "data": {
      "application/vnd.jupyter.widget-view+json": {
       "model_id": "46383fdeb45d45f2bba13fda24c54555",
       "version_major": 2,
       "version_minor": 0
      },
      "text/plain": [
       "Validation: |          | 0/? [00:00<?, ?it/s]"
      ]
     },
     "metadata": {},
     "output_type": "display_data"
    },
    {
     "data": {
      "application/vnd.jupyter.widget-view+json": {
       "model_id": "6baf87bc60d645cfbb5e14e499780a51",
       "version_major": 2,
       "version_minor": 0
      },
      "text/plain": [
       "Validation: |          | 0/? [00:00<?, ?it/s]"
      ]
     },
     "metadata": {},
     "output_type": "display_data"
    },
    {
     "data": {
      "application/vnd.jupyter.widget-view+json": {
       "model_id": "dbfa20e02d5848a8895c1d3be274c1cf",
       "version_major": 2,
       "version_minor": 0
      },
      "text/plain": [
       "Validation: |          | 0/? [00:00<?, ?it/s]"
      ]
     },
     "metadata": {},
     "output_type": "display_data"
    },
    {
     "data": {
      "application/vnd.jupyter.widget-view+json": {
       "model_id": "b678788ea5374702ac95bed879e78df0",
       "version_major": 2,
       "version_minor": 0
      },
      "text/plain": [
       "Validation: |          | 0/? [00:00<?, ?it/s]"
      ]
     },
     "metadata": {},
     "output_type": "display_data"
    },
    {
     "data": {
      "application/vnd.jupyter.widget-view+json": {
       "model_id": "535aea95d637496cbc3ba14bc584e0ed",
       "version_major": 2,
       "version_minor": 0
      },
      "text/plain": [
       "Validation: |          | 0/? [00:00<?, ?it/s]"
      ]
     },
     "metadata": {},
     "output_type": "display_data"
    },
    {
     "data": {
      "application/vnd.jupyter.widget-view+json": {
       "model_id": "7df6e84881cb4b37ae2a669597163877",
       "version_major": 2,
       "version_minor": 0
      },
      "text/plain": [
       "Validation: |          | 0/? [00:00<?, ?it/s]"
      ]
     },
     "metadata": {},
     "output_type": "display_data"
    },
    {
     "data": {
      "application/vnd.jupyter.widget-view+json": {
       "model_id": "1e9ff4dc95b146ee9fab13d50f744ab0",
       "version_major": 2,
       "version_minor": 0
      },
      "text/plain": [
       "Validation: |          | 0/? [00:00<?, ?it/s]"
      ]
     },
     "metadata": {},
     "output_type": "display_data"
    },
    {
     "data": {
      "application/vnd.jupyter.widget-view+json": {
       "model_id": "33235d6f56174633abd931b881019594",
       "version_major": 2,
       "version_minor": 0
      },
      "text/plain": [
       "Validation: |          | 0/? [00:00<?, ?it/s]"
      ]
     },
     "metadata": {},
     "output_type": "display_data"
    },
    {
     "data": {
      "application/vnd.jupyter.widget-view+json": {
       "model_id": "c1e4c37127834c5aa1af68ff723755ec",
       "version_major": 2,
       "version_minor": 0
      },
      "text/plain": [
       "Validation: |          | 0/? [00:00<?, ?it/s]"
      ]
     },
     "metadata": {},
     "output_type": "display_data"
    },
    {
     "data": {
      "application/vnd.jupyter.widget-view+json": {
       "model_id": "662d3ea693b64364b4baf468d8f38354",
       "version_major": 2,
       "version_minor": 0
      },
      "text/plain": [
       "Validation: |          | 0/? [00:00<?, ?it/s]"
      ]
     },
     "metadata": {},
     "output_type": "display_data"
    },
    {
     "data": {
      "application/vnd.jupyter.widget-view+json": {
       "model_id": "2a10812bbafc479ea47fc8c3ea5d6858",
       "version_major": 2,
       "version_minor": 0
      },
      "text/plain": [
       "Validation: |          | 0/? [00:00<?, ?it/s]"
      ]
     },
     "metadata": {},
     "output_type": "display_data"
    },
    {
     "data": {
      "application/vnd.jupyter.widget-view+json": {
       "model_id": "0ec92340835c43b999385c0a0f5c44ed",
       "version_major": 2,
       "version_minor": 0
      },
      "text/plain": [
       "Validation: |          | 0/? [00:00<?, ?it/s]"
      ]
     },
     "metadata": {},
     "output_type": "display_data"
    },
    {
     "data": {
      "application/vnd.jupyter.widget-view+json": {
       "model_id": "23273ddf94de41bc968c2a595ddf92b6",
       "version_major": 2,
       "version_minor": 0
      },
      "text/plain": [
       "Validation: |          | 0/? [00:00<?, ?it/s]"
      ]
     },
     "metadata": {},
     "output_type": "display_data"
    },
    {
     "data": {
      "application/vnd.jupyter.widget-view+json": {
       "model_id": "f3d43a2439b542728c8d93c163f7cd71",
       "version_major": 2,
       "version_minor": 0
      },
      "text/plain": [
       "Validation: |          | 0/? [00:00<?, ?it/s]"
      ]
     },
     "metadata": {},
     "output_type": "display_data"
    },
    {
     "data": {
      "application/vnd.jupyter.widget-view+json": {
       "model_id": "6134daa991e64d03b64faadf5268aa84",
       "version_major": 2,
       "version_minor": 0
      },
      "text/plain": [
       "Validation: |          | 0/? [00:00<?, ?it/s]"
      ]
     },
     "metadata": {},
     "output_type": "display_data"
    },
    {
     "data": {
      "application/vnd.jupyter.widget-view+json": {
       "model_id": "fbf850d4d2d74cb2b6e3b9998976f7b9",
       "version_major": 2,
       "version_minor": 0
      },
      "text/plain": [
       "Validation: |          | 0/? [00:00<?, ?it/s]"
      ]
     },
     "metadata": {},
     "output_type": "display_data"
    },
    {
     "data": {
      "application/vnd.jupyter.widget-view+json": {
       "model_id": "dba23b1dc363474f87447829214fcb8c",
       "version_major": 2,
       "version_minor": 0
      },
      "text/plain": [
       "Validation: |          | 0/? [00:00<?, ?it/s]"
      ]
     },
     "metadata": {},
     "output_type": "display_data"
    },
    {
     "data": {
      "application/vnd.jupyter.widget-view+json": {
       "model_id": "f527cc8233a243098e86128eca2a997e",
       "version_major": 2,
       "version_minor": 0
      },
      "text/plain": [
       "Validation: |          | 0/? [00:00<?, ?it/s]"
      ]
     },
     "metadata": {},
     "output_type": "display_data"
    },
    {
     "data": {
      "application/vnd.jupyter.widget-view+json": {
       "model_id": "85626c01fbfc4883b57c183574c86b28",
       "version_major": 2,
       "version_minor": 0
      },
      "text/plain": [
       "Validation: |          | 0/? [00:00<?, ?it/s]"
      ]
     },
     "metadata": {},
     "output_type": "display_data"
    },
    {
     "data": {
      "application/vnd.jupyter.widget-view+json": {
       "model_id": "362aea9c1ccc4ef1b3de5360b93fab91",
       "version_major": 2,
       "version_minor": 0
      },
      "text/plain": [
       "Validation: |          | 0/? [00:00<?, ?it/s]"
      ]
     },
     "metadata": {},
     "output_type": "display_data"
    },
    {
     "data": {
      "application/vnd.jupyter.widget-view+json": {
       "model_id": "11e837ed841f45b48864abf7ca347bfd",
       "version_major": 2,
       "version_minor": 0
      },
      "text/plain": [
       "Validation: |          | 0/? [00:00<?, ?it/s]"
      ]
     },
     "metadata": {},
     "output_type": "display_data"
    },
    {
     "data": {
      "application/vnd.jupyter.widget-view+json": {
       "model_id": "d16c5400897840de8f00b2dcf84a588a",
       "version_major": 2,
       "version_minor": 0
      },
      "text/plain": [
       "Validation: |          | 0/? [00:00<?, ?it/s]"
      ]
     },
     "metadata": {},
     "output_type": "display_data"
    },
    {
     "data": {
      "application/vnd.jupyter.widget-view+json": {
       "model_id": "53aee4ccac9a440d8442abb7449360b3",
       "version_major": 2,
       "version_minor": 0
      },
      "text/plain": [
       "Validation: |          | 0/? [00:00<?, ?it/s]"
      ]
     },
     "metadata": {},
     "output_type": "display_data"
    },
    {
     "data": {
      "application/vnd.jupyter.widget-view+json": {
       "model_id": "1d32dbaff5bc4cbb956d89e51dba72bb",
       "version_major": 2,
       "version_minor": 0
      },
      "text/plain": [
       "Validation: |          | 0/? [00:00<?, ?it/s]"
      ]
     },
     "metadata": {},
     "output_type": "display_data"
    },
    {
     "data": {
      "application/vnd.jupyter.widget-view+json": {
       "model_id": "6c04853e19ca4eaca41bb67f30d0541c",
       "version_major": 2,
       "version_minor": 0
      },
      "text/plain": [
       "Validation: |          | 0/? [00:00<?, ?it/s]"
      ]
     },
     "metadata": {},
     "output_type": "display_data"
    },
    {
     "data": {
      "application/vnd.jupyter.widget-view+json": {
       "model_id": "c19fc6d6c56140b8bba2703f01d3a18f",
       "version_major": 2,
       "version_minor": 0
      },
      "text/plain": [
       "Validation: |          | 0/? [00:00<?, ?it/s]"
      ]
     },
     "metadata": {},
     "output_type": "display_data"
    },
    {
     "data": {
      "application/vnd.jupyter.widget-view+json": {
       "model_id": "28e1a4bb5aca4d4cab102e016f540abb",
       "version_major": 2,
       "version_minor": 0
      },
      "text/plain": [
       "Validation: |          | 0/? [00:00<?, ?it/s]"
      ]
     },
     "metadata": {},
     "output_type": "display_data"
    },
    {
     "data": {
      "application/vnd.jupyter.widget-view+json": {
       "model_id": "5e51309fa1834490bb729b14d8fe761a",
       "version_major": 2,
       "version_minor": 0
      },
      "text/plain": [
       "Validation: |          | 0/? [00:00<?, ?it/s]"
      ]
     },
     "metadata": {},
     "output_type": "display_data"
    },
    {
     "data": {
      "application/vnd.jupyter.widget-view+json": {
       "model_id": "b97c48cd2e8043c2a55ecaa180d7c76f",
       "version_major": 2,
       "version_minor": 0
      },
      "text/plain": [
       "Validation: |          | 0/? [00:00<?, ?it/s]"
      ]
     },
     "metadata": {},
     "output_type": "display_data"
    },
    {
     "data": {
      "application/vnd.jupyter.widget-view+json": {
       "model_id": "12889a03e616451c84ef61be3d119af4",
       "version_major": 2,
       "version_minor": 0
      },
      "text/plain": [
       "Validation: |          | 0/? [00:00<?, ?it/s]"
      ]
     },
     "metadata": {},
     "output_type": "display_data"
    },
    {
     "data": {
      "application/vnd.jupyter.widget-view+json": {
       "model_id": "925924284a5040ae96c9ba7a6d7177ea",
       "version_major": 2,
       "version_minor": 0
      },
      "text/plain": [
       "Validation: |          | 0/? [00:00<?, ?it/s]"
      ]
     },
     "metadata": {},
     "output_type": "display_data"
    },
    {
     "data": {
      "application/vnd.jupyter.widget-view+json": {
       "model_id": "62d99465799c46d79519a2bde0119175",
       "version_major": 2,
       "version_minor": 0
      },
      "text/plain": [
       "Validation: |          | 0/? [00:00<?, ?it/s]"
      ]
     },
     "metadata": {},
     "output_type": "display_data"
    },
    {
     "data": {
      "application/vnd.jupyter.widget-view+json": {
       "model_id": "902144f1297e47c3a5660245856c2628",
       "version_major": 2,
       "version_minor": 0
      },
      "text/plain": [
       "Validation: |          | 0/? [00:00<?, ?it/s]"
      ]
     },
     "metadata": {},
     "output_type": "display_data"
    },
    {
     "data": {
      "application/vnd.jupyter.widget-view+json": {
       "model_id": "2a800a9e0df248beb5b85cd3c8ad308e",
       "version_major": 2,
       "version_minor": 0
      },
      "text/plain": [
       "Validation: |          | 0/? [00:00<?, ?it/s]"
      ]
     },
     "metadata": {},
     "output_type": "display_data"
    },
    {
     "name": "stderr",
     "output_type": "stream",
     "text": [
      "`Trainer.fit` stopped: `max_epochs=100` reached.\n"
     ]
    }
   ],
   "source": [
    "trainer_generative.fit(\n",
    "            encoder_model,\n",
    "            train_dataloaders=dataloader,\n",
    "            val_dataloaders=dataloader)"
   ]
  },
  {
   "cell_type": "markdown",
   "id": "aa201fff-4eda-4ece-8560-f40bab649ace",
   "metadata": {},
   "source": [
    "### Flow training"
   ]
  },
  {
   "cell_type": "markdown",
   "id": "7fd3c42e-0662-4eae-b7eb-5c60d87b88f5",
   "metadata": {},
   "source": [
    "Initialize the flow"
   ]
  },
  {
   "cell_type": "code",
   "execution_count": 177,
   "id": "c7408b47-c4ea-4a23-ad8c-75d468f116f9",
   "metadata": {},
   "outputs": [],
   "source": [
    "# Latent dimension\n",
    "in_dim = 100  \n",
    "# No modality list \n",
    "modality_list = None "
   ]
  },
  {
   "cell_type": "markdown",
   "id": "45a15854-6699-49bd-a9af-7ff52334a478",
   "metadata": {},
   "source": [
    "Initialize the feature embeddings"
   ]
  },
  {
   "cell_type": "code",
   "execution_count": 178,
   "id": "ec2d6471-36b0-42dc-a1bf-a1a5b127c21d",
   "metadata": {},
   "outputs": [],
   "source": [
    "feature_embeddings = {}  \n",
    "num_classes = {}\n",
    "        \n",
    "for cov, cov_names in dataset.id2cov.items():\n",
    "    feature_embeddings[cov] = CategoricalFeaturizer(len(cov_names), \n",
    "                                                            False, \n",
    "                                                            \"cuda\", \n",
    "                                                            embedding_dimensions=100)\n",
    "\n",
    "    num_classes[cov] = 100"
   ]
  },
  {
   "cell_type": "markdown",
   "id": "0d071f56-d01a-4b29-abf0-4d6cb5739c18",
   "metadata": {},
   "source": [
    "Initialize the denoising model "
   ]
  },
  {
   "cell_type": "code",
   "execution_count": 179,
   "id": "627d4e5c-b0c4-4476-add2-ab65e4230cb1",
   "metadata": {},
   "outputs": [],
   "source": [
    "# Initialize the denoising model\n",
    "denoising_model = MLPTimeStep(in_dim=in_dim,                            # Presumably pre-defined\n",
    "                                hidden_dim=32,                            # From config hidden_dim\n",
    "                                dropout_prob=0,                           # From config dropout_prob\n",
    "                                n_blocks=3,                               # From config n_blocks\n",
    "                                model_type=\"conditional_latent\",          # From config model_type\n",
    "                                size_factor_min=dataset.min_size_factor,  # From dataset properties\n",
    "                                size_factor_max=dataset.max_size_factor,  # From dataset properties\n",
    "                                embedding_dim=100,                         # From config embedding_dim\n",
    "                                normalization=\"none\",                     # From config normalization\n",
    "                                conditional=True,                         # From config conditional\n",
    "                                multimodal=False,                         # From config multimodal\n",
    "                                is_binarized=False,                       # From config is_binarized\n",
    "                                modality_list=None,                       # Assuming no specific modality list\n",
    "                                embed_size_factor=False                   # From config embed_size_factor\n",
    "                                ).to(\"cuda\")"
   ]
  },
  {
   "cell_type": "code",
   "execution_count": 180,
   "id": "333030a6-f874-4617-a154-6883754ffd19",
   "metadata": {},
   "outputs": [],
   "source": [
    "for param in encoder_model.parameters():\n",
    "    param.requires_grad = False"
   ]
  },
  {
   "cell_type": "code",
   "execution_count": 181,
   "id": "9e83ed07-64f8-46e9-b950-1a0140428ab5",
   "metadata": {},
   "outputs": [
    {
     "name": "stderr",
     "output_type": "stream",
     "text": [
      "/home/icb/alessandro.palma/miniconda3/envs/celldreamer/lib/python3.10/site-packages/pytorch_lightning/utilities/parsing.py:208: Attribute 'encoder_model' is an instance of `nn.Module` and is already saved during checkpointing. It is recommended to ignore them using `self.save_hyperparameters(ignore=['encoder_model'])`.\n",
      "/home/icb/alessandro.palma/miniconda3/envs/celldreamer/lib/python3.10/site-packages/pytorch_lightning/utilities/parsing.py:208: Attribute 'denoising_model' is an instance of `nn.Module` and is already saved during checkpointing. It is recommended to ignore them using `self.save_hyperparameters(ignore=['denoising_model'])`.\n"
     ]
    }
   ],
   "source": [
    "size_factor_statistics = {\"mean\": dataset.log_size_factor_mu, \n",
    "                                        \"sd\": dataset.log_size_factor_sd}\n",
    "\n",
    "generative_model = FM(\n",
    "    encoder_model=encoder_model,\n",
    "    denoising_model=denoising_model,\n",
    "    feature_embeddings=feature_embeddings,\n",
    "    plotting_folder=\"/home/icb/alessandro.palma/environment/cfgen/notebooks/experiments/imputation/plots/try1\",\n",
    "    in_dim=in_dim,\n",
    "    size_factor_statistics=size_factor_statistics,\n",
    "    encoder_type=\"learnt_autoencoder\",\n",
    "    conditioning_covariate=\"clusters\",\n",
    "    model_type=denoising_model.model_type,\n",
    "    multimodal=dataset.multimodal,\n",
    "    is_binarized=False,\n",
    "    modality_list=None,\n",
    "    learning_rate=0.0001,\n",
    "    weight_decay=0.000001,\n",
    "    antithetic_time_sampling=True,\n",
    "    sigma=0.01,\n",
    "    use_ot=False\n",
    ")"
   ]
  },
  {
   "cell_type": "code",
   "execution_count": 182,
   "id": "b94e2b89-62c5-46f5-a138-e2b789232696",
   "metadata": {},
   "outputs": [
    {
     "name": "stderr",
     "output_type": "stream",
     "text": [
      "/home/icb/alessandro.palma/miniconda3/envs/celldreamer/lib/python3.10/site-packages/lightning_fabric/plugins/environments/slurm.py:204: The `srun` command is available on your system but is not used. HINT: If your intention is to run Lightning on SLURM, prepend your python command with `srun` like so: srun python /home/icb/alessandro.palma/miniconda3/envs/celldream ...\n",
      "GPU available: True (cuda), used: True\n",
      "TPU available: False, using: 0 TPU cores\n",
      "HPU available: False, using: 0 HPUs\n"
     ]
    }
   ],
   "source": [
    "trainer_generative = Trainer(max_epochs=100)"
   ]
  },
  {
   "cell_type": "code",
   "execution_count": 183,
   "id": "e433d5b3-900c-4a6d-ae6b-3700df6a91b4",
   "metadata": {
    "scrolled": true
   },
   "outputs": [
    {
     "name": "stderr",
     "output_type": "stream",
     "text": [
      "LOCAL_RANK: 0 - CUDA_VISIBLE_DEVICES: [0]\n",
      "\n",
      "  | Name            | Type         | Params | Mode \n",
      "---------------------------------------------------------\n",
      "0 | encoder_model   | EncoderModel | 2.4 M  | train\n",
      "1 | denoising_model | MLPTimeStep  | 42.8 K | train\n",
      "2 | criterion       | MSELoss      | 0      | train\n",
      "---------------------------------------------------------\n",
      "42.8 K    Trainable params\n",
      "2.4 M     Non-trainable params\n",
      "2.4 M     Total params\n",
      "9.651     Total estimated model params size (MB)\n",
      "/home/icb/alessandro.palma/miniconda3/envs/celldreamer/lib/python3.10/site-packages/pytorch_lightning/core/saving.py:363: Skipping 'encoder_model' parameter because it is not possible to safely dump to YAML.\n",
      "/home/icb/alessandro.palma/miniconda3/envs/celldreamer/lib/python3.10/site-packages/pytorch_lightning/core/saving.py:363: Skipping 'denoising_model' parameter because it is not possible to safely dump to YAML.\n"
     ]
    },
    {
     "data": {
      "application/vnd.jupyter.widget-view+json": {
       "model_id": "",
       "version_major": 2,
       "version_minor": 0
      },
      "text/plain": [
       "Sanity Checking: |          | 0/? [00:00<?, ?it/s]"
      ]
     },
     "metadata": {},
     "output_type": "display_data"
    },
    {
     "data": {
      "application/vnd.jupyter.widget-view+json": {
       "model_id": "47f2032b7bb7406da5ab44af1f6d3979",
       "version_major": 2,
       "version_minor": 0
      },
      "text/plain": [
       "Training: |          | 0/? [00:00<?, ?it/s]"
      ]
     },
     "metadata": {},
     "output_type": "display_data"
    },
    {
     "data": {
      "application/vnd.jupyter.widget-view+json": {
       "model_id": "",
       "version_major": 2,
       "version_minor": 0
      },
      "text/plain": [
       "Validation: |          | 0/? [00:00<?, ?it/s]"
      ]
     },
     "metadata": {},
     "output_type": "display_data"
    },
    {
     "data": {
      "application/vnd.jupyter.widget-view+json": {
       "model_id": "",
       "version_major": 2,
       "version_minor": 0
      },
      "text/plain": [
       "Validation: |          | 0/? [00:00<?, ?it/s]"
      ]
     },
     "metadata": {},
     "output_type": "display_data"
    },
    {
     "data": {
      "application/vnd.jupyter.widget-view+json": {
       "model_id": "",
       "version_major": 2,
       "version_minor": 0
      },
      "text/plain": [
       "Validation: |          | 0/? [00:00<?, ?it/s]"
      ]
     },
     "metadata": {},
     "output_type": "display_data"
    },
    {
     "data": {
      "application/vnd.jupyter.widget-view+json": {
       "model_id": "",
       "version_major": 2,
       "version_minor": 0
      },
      "text/plain": [
       "Validation: |          | 0/? [00:00<?, ?it/s]"
      ]
     },
     "metadata": {},
     "output_type": "display_data"
    },
    {
     "data": {
      "application/vnd.jupyter.widget-view+json": {
       "model_id": "",
       "version_major": 2,
       "version_minor": 0
      },
      "text/plain": [
       "Validation: |          | 0/? [00:00<?, ?it/s]"
      ]
     },
     "metadata": {},
     "output_type": "display_data"
    },
    {
     "data": {
      "application/vnd.jupyter.widget-view+json": {
       "model_id": "",
       "version_major": 2,
       "version_minor": 0
      },
      "text/plain": [
       "Validation: |          | 0/? [00:00<?, ?it/s]"
      ]
     },
     "metadata": {},
     "output_type": "display_data"
    },
    {
     "data": {
      "application/vnd.jupyter.widget-view+json": {
       "model_id": "",
       "version_major": 2,
       "version_minor": 0
      },
      "text/plain": [
       "Validation: |          | 0/? [00:00<?, ?it/s]"
      ]
     },
     "metadata": {},
     "output_type": "display_data"
    },
    {
     "data": {
      "application/vnd.jupyter.widget-view+json": {
       "model_id": "",
       "version_major": 2,
       "version_minor": 0
      },
      "text/plain": [
       "Validation: |          | 0/? [00:00<?, ?it/s]"
      ]
     },
     "metadata": {},
     "output_type": "display_data"
    },
    {
     "data": {
      "application/vnd.jupyter.widget-view+json": {
       "model_id": "",
       "version_major": 2,
       "version_minor": 0
      },
      "text/plain": [
       "Validation: |          | 0/? [00:00<?, ?it/s]"
      ]
     },
     "metadata": {},
     "output_type": "display_data"
    },
    {
     "data": {
      "application/vnd.jupyter.widget-view+json": {
       "model_id": "",
       "version_major": 2,
       "version_minor": 0
      },
      "text/plain": [
       "Validation: |          | 0/? [00:00<?, ?it/s]"
      ]
     },
     "metadata": {},
     "output_type": "display_data"
    },
    {
     "data": {
      "application/vnd.jupyter.widget-view+json": {
       "model_id": "",
       "version_major": 2,
       "version_minor": 0
      },
      "text/plain": [
       "Validation: |          | 0/? [00:00<?, ?it/s]"
      ]
     },
     "metadata": {},
     "output_type": "display_data"
    },
    {
     "data": {
      "application/vnd.jupyter.widget-view+json": {
       "model_id": "",
       "version_major": 2,
       "version_minor": 0
      },
      "text/plain": [
       "Validation: |          | 0/? [00:00<?, ?it/s]"
      ]
     },
     "metadata": {},
     "output_type": "display_data"
    },
    {
     "data": {
      "application/vnd.jupyter.widget-view+json": {
       "model_id": "",
       "version_major": 2,
       "version_minor": 0
      },
      "text/plain": [
       "Validation: |          | 0/? [00:00<?, ?it/s]"
      ]
     },
     "metadata": {},
     "output_type": "display_data"
    },
    {
     "data": {
      "application/vnd.jupyter.widget-view+json": {
       "model_id": "",
       "version_major": 2,
       "version_minor": 0
      },
      "text/plain": [
       "Validation: |          | 0/? [00:00<?, ?it/s]"
      ]
     },
     "metadata": {},
     "output_type": "display_data"
    },
    {
     "data": {
      "application/vnd.jupyter.widget-view+json": {
       "model_id": "",
       "version_major": 2,
       "version_minor": 0
      },
      "text/plain": [
       "Validation: |          | 0/? [00:00<?, ?it/s]"
      ]
     },
     "metadata": {},
     "output_type": "display_data"
    },
    {
     "data": {
      "application/vnd.jupyter.widget-view+json": {
       "model_id": "",
       "version_major": 2,
       "version_minor": 0
      },
      "text/plain": [
       "Validation: |          | 0/? [00:00<?, ?it/s]"
      ]
     },
     "metadata": {},
     "output_type": "display_data"
    },
    {
     "data": {
      "application/vnd.jupyter.widget-view+json": {
       "model_id": "",
       "version_major": 2,
       "version_minor": 0
      },
      "text/plain": [
       "Validation: |          | 0/? [00:00<?, ?it/s]"
      ]
     },
     "metadata": {},
     "output_type": "display_data"
    },
    {
     "data": {
      "application/vnd.jupyter.widget-view+json": {
       "model_id": "",
       "version_major": 2,
       "version_minor": 0
      },
      "text/plain": [
       "Validation: |          | 0/? [00:00<?, ?it/s]"
      ]
     },
     "metadata": {},
     "output_type": "display_data"
    },
    {
     "data": {
      "application/vnd.jupyter.widget-view+json": {
       "model_id": "",
       "version_major": 2,
       "version_minor": 0
      },
      "text/plain": [
       "Validation: |          | 0/? [00:00<?, ?it/s]"
      ]
     },
     "metadata": {},
     "output_type": "display_data"
    },
    {
     "data": {
      "application/vnd.jupyter.widget-view+json": {
       "model_id": "",
       "version_major": 2,
       "version_minor": 0
      },
      "text/plain": [
       "Validation: |          | 0/? [00:00<?, ?it/s]"
      ]
     },
     "metadata": {},
     "output_type": "display_data"
    },
    {
     "data": {
      "application/vnd.jupyter.widget-view+json": {
       "model_id": "",
       "version_major": 2,
       "version_minor": 0
      },
      "text/plain": [
       "Validation: |          | 0/? [00:00<?, ?it/s]"
      ]
     },
     "metadata": {},
     "output_type": "display_data"
    },
    {
     "data": {
      "application/vnd.jupyter.widget-view+json": {
       "model_id": "",
       "version_major": 2,
       "version_minor": 0
      },
      "text/plain": [
       "Validation: |          | 0/? [00:00<?, ?it/s]"
      ]
     },
     "metadata": {},
     "output_type": "display_data"
    },
    {
     "data": {
      "application/vnd.jupyter.widget-view+json": {
       "model_id": "",
       "version_major": 2,
       "version_minor": 0
      },
      "text/plain": [
       "Validation: |          | 0/? [00:00<?, ?it/s]"
      ]
     },
     "metadata": {},
     "output_type": "display_data"
    },
    {
     "data": {
      "application/vnd.jupyter.widget-view+json": {
       "model_id": "",
       "version_major": 2,
       "version_minor": 0
      },
      "text/plain": [
       "Validation: |          | 0/? [00:00<?, ?it/s]"
      ]
     },
     "metadata": {},
     "output_type": "display_data"
    },
    {
     "data": {
      "application/vnd.jupyter.widget-view+json": {
       "model_id": "",
       "version_major": 2,
       "version_minor": 0
      },
      "text/plain": [
       "Validation: |          | 0/? [00:00<?, ?it/s]"
      ]
     },
     "metadata": {},
     "output_type": "display_data"
    },
    {
     "data": {
      "application/vnd.jupyter.widget-view+json": {
       "model_id": "",
       "version_major": 2,
       "version_minor": 0
      },
      "text/plain": [
       "Validation: |          | 0/? [00:00<?, ?it/s]"
      ]
     },
     "metadata": {},
     "output_type": "display_data"
    },
    {
     "data": {
      "application/vnd.jupyter.widget-view+json": {
       "model_id": "",
       "version_major": 2,
       "version_minor": 0
      },
      "text/plain": [
       "Validation: |          | 0/? [00:00<?, ?it/s]"
      ]
     },
     "metadata": {},
     "output_type": "display_data"
    },
    {
     "data": {
      "application/vnd.jupyter.widget-view+json": {
       "model_id": "",
       "version_major": 2,
       "version_minor": 0
      },
      "text/plain": [
       "Validation: |          | 0/? [00:00<?, ?it/s]"
      ]
     },
     "metadata": {},
     "output_type": "display_data"
    },
    {
     "data": {
      "application/vnd.jupyter.widget-view+json": {
       "model_id": "",
       "version_major": 2,
       "version_minor": 0
      },
      "text/plain": [
       "Validation: |          | 0/? [00:00<?, ?it/s]"
      ]
     },
     "metadata": {},
     "output_type": "display_data"
    },
    {
     "data": {
      "application/vnd.jupyter.widget-view+json": {
       "model_id": "",
       "version_major": 2,
       "version_minor": 0
      },
      "text/plain": [
       "Validation: |          | 0/? [00:00<?, ?it/s]"
      ]
     },
     "metadata": {},
     "output_type": "display_data"
    },
    {
     "data": {
      "application/vnd.jupyter.widget-view+json": {
       "model_id": "",
       "version_major": 2,
       "version_minor": 0
      },
      "text/plain": [
       "Validation: |          | 0/? [00:00<?, ?it/s]"
      ]
     },
     "metadata": {},
     "output_type": "display_data"
    },
    {
     "data": {
      "application/vnd.jupyter.widget-view+json": {
       "model_id": "",
       "version_major": 2,
       "version_minor": 0
      },
      "text/plain": [
       "Validation: |          | 0/? [00:00<?, ?it/s]"
      ]
     },
     "metadata": {},
     "output_type": "display_data"
    },
    {
     "data": {
      "application/vnd.jupyter.widget-view+json": {
       "model_id": "",
       "version_major": 2,
       "version_minor": 0
      },
      "text/plain": [
       "Validation: |          | 0/? [00:00<?, ?it/s]"
      ]
     },
     "metadata": {},
     "output_type": "display_data"
    },
    {
     "data": {
      "application/vnd.jupyter.widget-view+json": {
       "model_id": "",
       "version_major": 2,
       "version_minor": 0
      },
      "text/plain": [
       "Validation: |          | 0/? [00:00<?, ?it/s]"
      ]
     },
     "metadata": {},
     "output_type": "display_data"
    },
    {
     "data": {
      "application/vnd.jupyter.widget-view+json": {
       "model_id": "",
       "version_major": 2,
       "version_minor": 0
      },
      "text/plain": [
       "Validation: |          | 0/? [00:00<?, ?it/s]"
      ]
     },
     "metadata": {},
     "output_type": "display_data"
    },
    {
     "data": {
      "application/vnd.jupyter.widget-view+json": {
       "model_id": "",
       "version_major": 2,
       "version_minor": 0
      },
      "text/plain": [
       "Validation: |          | 0/? [00:00<?, ?it/s]"
      ]
     },
     "metadata": {},
     "output_type": "display_data"
    },
    {
     "data": {
      "application/vnd.jupyter.widget-view+json": {
       "model_id": "",
       "version_major": 2,
       "version_minor": 0
      },
      "text/plain": [
       "Validation: |          | 0/? [00:00<?, ?it/s]"
      ]
     },
     "metadata": {},
     "output_type": "display_data"
    },
    {
     "data": {
      "application/vnd.jupyter.widget-view+json": {
       "model_id": "",
       "version_major": 2,
       "version_minor": 0
      },
      "text/plain": [
       "Validation: |          | 0/? [00:00<?, ?it/s]"
      ]
     },
     "metadata": {},
     "output_type": "display_data"
    },
    {
     "data": {
      "application/vnd.jupyter.widget-view+json": {
       "model_id": "",
       "version_major": 2,
       "version_minor": 0
      },
      "text/plain": [
       "Validation: |          | 0/? [00:00<?, ?it/s]"
      ]
     },
     "metadata": {},
     "output_type": "display_data"
    },
    {
     "data": {
      "application/vnd.jupyter.widget-view+json": {
       "model_id": "",
       "version_major": 2,
       "version_minor": 0
      },
      "text/plain": [
       "Validation: |          | 0/? [00:00<?, ?it/s]"
      ]
     },
     "metadata": {},
     "output_type": "display_data"
    },
    {
     "data": {
      "application/vnd.jupyter.widget-view+json": {
       "model_id": "",
       "version_major": 2,
       "version_minor": 0
      },
      "text/plain": [
       "Validation: |          | 0/? [00:00<?, ?it/s]"
      ]
     },
     "metadata": {},
     "output_type": "display_data"
    },
    {
     "data": {
      "application/vnd.jupyter.widget-view+json": {
       "model_id": "",
       "version_major": 2,
       "version_minor": 0
      },
      "text/plain": [
       "Validation: |          | 0/? [00:00<?, ?it/s]"
      ]
     },
     "metadata": {},
     "output_type": "display_data"
    },
    {
     "data": {
      "application/vnd.jupyter.widget-view+json": {
       "model_id": "",
       "version_major": 2,
       "version_minor": 0
      },
      "text/plain": [
       "Validation: |          | 0/? [00:00<?, ?it/s]"
      ]
     },
     "metadata": {},
     "output_type": "display_data"
    },
    {
     "data": {
      "application/vnd.jupyter.widget-view+json": {
       "model_id": "",
       "version_major": 2,
       "version_minor": 0
      },
      "text/plain": [
       "Validation: |          | 0/? [00:00<?, ?it/s]"
      ]
     },
     "metadata": {},
     "output_type": "display_data"
    },
    {
     "data": {
      "application/vnd.jupyter.widget-view+json": {
       "model_id": "",
       "version_major": 2,
       "version_minor": 0
      },
      "text/plain": [
       "Validation: |          | 0/? [00:00<?, ?it/s]"
      ]
     },
     "metadata": {},
     "output_type": "display_data"
    },
    {
     "data": {
      "application/vnd.jupyter.widget-view+json": {
       "model_id": "",
       "version_major": 2,
       "version_minor": 0
      },
      "text/plain": [
       "Validation: |          | 0/? [00:00<?, ?it/s]"
      ]
     },
     "metadata": {},
     "output_type": "display_data"
    },
    {
     "data": {
      "application/vnd.jupyter.widget-view+json": {
       "model_id": "",
       "version_major": 2,
       "version_minor": 0
      },
      "text/plain": [
       "Validation: |          | 0/? [00:00<?, ?it/s]"
      ]
     },
     "metadata": {},
     "output_type": "display_data"
    },
    {
     "data": {
      "application/vnd.jupyter.widget-view+json": {
       "model_id": "6bd952ba37974f8790758ed0872fccb7",
       "version_major": 2,
       "version_minor": 0
      },
      "text/plain": [
       "Validation: |          | 0/? [00:00<?, ?it/s]"
      ]
     },
     "metadata": {},
     "output_type": "display_data"
    },
    {
     "data": {
      "application/vnd.jupyter.widget-view+json": {
       "model_id": "cb5ad12d92c649b588e0e99f0f3c4145",
       "version_major": 2,
       "version_minor": 0
      },
      "text/plain": [
       "Validation: |          | 0/? [00:00<?, ?it/s]"
      ]
     },
     "metadata": {},
     "output_type": "display_data"
    },
    {
     "data": {
      "application/vnd.jupyter.widget-view+json": {
       "model_id": "296e56290a714c8087a01ef13743fd84",
       "version_major": 2,
       "version_minor": 0
      },
      "text/plain": [
       "Validation: |          | 0/? [00:00<?, ?it/s]"
      ]
     },
     "metadata": {},
     "output_type": "display_data"
    },
    {
     "data": {
      "application/vnd.jupyter.widget-view+json": {
       "model_id": "4f5325c145ab47bd8731aa13ae45fd2e",
       "version_major": 2,
       "version_minor": 0
      },
      "text/plain": [
       "Validation: |          | 0/? [00:00<?, ?it/s]"
      ]
     },
     "metadata": {},
     "output_type": "display_data"
    },
    {
     "data": {
      "application/vnd.jupyter.widget-view+json": {
       "model_id": "74179fd060af49948c347218100d2474",
       "version_major": 2,
       "version_minor": 0
      },
      "text/plain": [
       "Validation: |          | 0/? [00:00<?, ?it/s]"
      ]
     },
     "metadata": {},
     "output_type": "display_data"
    },
    {
     "data": {
      "application/vnd.jupyter.widget-view+json": {
       "model_id": "6b29434068cd41ba9d67ec6b82c17626",
       "version_major": 2,
       "version_minor": 0
      },
      "text/plain": [
       "Validation: |          | 0/? [00:00<?, ?it/s]"
      ]
     },
     "metadata": {},
     "output_type": "display_data"
    },
    {
     "data": {
      "application/vnd.jupyter.widget-view+json": {
       "model_id": "24a7dcec555740b38a6a10a3aeed71a3",
       "version_major": 2,
       "version_minor": 0
      },
      "text/plain": [
       "Validation: |          | 0/? [00:00<?, ?it/s]"
      ]
     },
     "metadata": {},
     "output_type": "display_data"
    },
    {
     "data": {
      "application/vnd.jupyter.widget-view+json": {
       "model_id": "aef3d217a3dd4f728b2e7a8d3d195df3",
       "version_major": 2,
       "version_minor": 0
      },
      "text/plain": [
       "Validation: |          | 0/? [00:00<?, ?it/s]"
      ]
     },
     "metadata": {},
     "output_type": "display_data"
    },
    {
     "data": {
      "application/vnd.jupyter.widget-view+json": {
       "model_id": "ee541b821deb4abf84ec17a68b4b0b4e",
       "version_major": 2,
       "version_minor": 0
      },
      "text/plain": [
       "Validation: |          | 0/? [00:00<?, ?it/s]"
      ]
     },
     "metadata": {},
     "output_type": "display_data"
    },
    {
     "data": {
      "application/vnd.jupyter.widget-view+json": {
       "model_id": "10de52ed198c4f0a9b5e997538010184",
       "version_major": 2,
       "version_minor": 0
      },
      "text/plain": [
       "Validation: |          | 0/? [00:00<?, ?it/s]"
      ]
     },
     "metadata": {},
     "output_type": "display_data"
    },
    {
     "data": {
      "application/vnd.jupyter.widget-view+json": {
       "model_id": "d1297ca994364e9a80553f8bd4021f0d",
       "version_major": 2,
       "version_minor": 0
      },
      "text/plain": [
       "Validation: |          | 0/? [00:00<?, ?it/s]"
      ]
     },
     "metadata": {},
     "output_type": "display_data"
    },
    {
     "data": {
      "application/vnd.jupyter.widget-view+json": {
       "model_id": "e4b9d28daa3b4440ad5d88aacfc1f61d",
       "version_major": 2,
       "version_minor": 0
      },
      "text/plain": [
       "Validation: |          | 0/? [00:00<?, ?it/s]"
      ]
     },
     "metadata": {},
     "output_type": "display_data"
    },
    {
     "data": {
      "application/vnd.jupyter.widget-view+json": {
       "model_id": "13f4d48d5d0f434c8a5843ce0d06e2a8",
       "version_major": 2,
       "version_minor": 0
      },
      "text/plain": [
       "Validation: |          | 0/? [00:00<?, ?it/s]"
      ]
     },
     "metadata": {},
     "output_type": "display_data"
    },
    {
     "data": {
      "application/vnd.jupyter.widget-view+json": {
       "model_id": "9f52f2c50bcd44c5ba26d2a3f72f0c05",
       "version_major": 2,
       "version_minor": 0
      },
      "text/plain": [
       "Validation: |          | 0/? [00:00<?, ?it/s]"
      ]
     },
     "metadata": {},
     "output_type": "display_data"
    },
    {
     "data": {
      "application/vnd.jupyter.widget-view+json": {
       "model_id": "1a465e89ef07453ea216f08557bbba6e",
       "version_major": 2,
       "version_minor": 0
      },
      "text/plain": [
       "Validation: |          | 0/? [00:00<?, ?it/s]"
      ]
     },
     "metadata": {},
     "output_type": "display_data"
    },
    {
     "data": {
      "application/vnd.jupyter.widget-view+json": {
       "model_id": "b9313af395b249b2b541b0b119446250",
       "version_major": 2,
       "version_minor": 0
      },
      "text/plain": [
       "Validation: |          | 0/? [00:00<?, ?it/s]"
      ]
     },
     "metadata": {},
     "output_type": "display_data"
    },
    {
     "data": {
      "application/vnd.jupyter.widget-view+json": {
       "model_id": "86a398f7052d44078bd0240e2306b6a6",
       "version_major": 2,
       "version_minor": 0
      },
      "text/plain": [
       "Validation: |          | 0/? [00:00<?, ?it/s]"
      ]
     },
     "metadata": {},
     "output_type": "display_data"
    },
    {
     "data": {
      "application/vnd.jupyter.widget-view+json": {
       "model_id": "00d482e4c7d24970a5f7e4733afdad5f",
       "version_major": 2,
       "version_minor": 0
      },
      "text/plain": [
       "Validation: |          | 0/? [00:00<?, ?it/s]"
      ]
     },
     "metadata": {},
     "output_type": "display_data"
    },
    {
     "data": {
      "application/vnd.jupyter.widget-view+json": {
       "model_id": "84f4ed172bf84c8788ddc9aa89cdebbb",
       "version_major": 2,
       "version_minor": 0
      },
      "text/plain": [
       "Validation: |          | 0/? [00:00<?, ?it/s]"
      ]
     },
     "metadata": {},
     "output_type": "display_data"
    },
    {
     "data": {
      "application/vnd.jupyter.widget-view+json": {
       "model_id": "c5a3d3e858094218b3aac0f313d1f9a5",
       "version_major": 2,
       "version_minor": 0
      },
      "text/plain": [
       "Validation: |          | 0/? [00:00<?, ?it/s]"
      ]
     },
     "metadata": {},
     "output_type": "display_data"
    },
    {
     "data": {
      "application/vnd.jupyter.widget-view+json": {
       "model_id": "cb2bf47a9195405a827d1915ac21d811",
       "version_major": 2,
       "version_minor": 0
      },
      "text/plain": [
       "Validation: |          | 0/? [00:00<?, ?it/s]"
      ]
     },
     "metadata": {},
     "output_type": "display_data"
    },
    {
     "data": {
      "application/vnd.jupyter.widget-view+json": {
       "model_id": "9aa7b881782e428e9c8e0531f9e32eff",
       "version_major": 2,
       "version_minor": 0
      },
      "text/plain": [
       "Validation: |          | 0/? [00:00<?, ?it/s]"
      ]
     },
     "metadata": {},
     "output_type": "display_data"
    },
    {
     "data": {
      "application/vnd.jupyter.widget-view+json": {
       "model_id": "187cb983341e4f91ae4d9ec83e062ba2",
       "version_major": 2,
       "version_minor": 0
      },
      "text/plain": [
       "Validation: |          | 0/? [00:00<?, ?it/s]"
      ]
     },
     "metadata": {},
     "output_type": "display_data"
    },
    {
     "data": {
      "application/vnd.jupyter.widget-view+json": {
       "model_id": "7583f95e34444a9587ca3061e16afe1f",
       "version_major": 2,
       "version_minor": 0
      },
      "text/plain": [
       "Validation: |          | 0/? [00:00<?, ?it/s]"
      ]
     },
     "metadata": {},
     "output_type": "display_data"
    },
    {
     "data": {
      "application/vnd.jupyter.widget-view+json": {
       "model_id": "4654b26a761348af90091fc5c84fe6c7",
       "version_major": 2,
       "version_minor": 0
      },
      "text/plain": [
       "Validation: |          | 0/? [00:00<?, ?it/s]"
      ]
     },
     "metadata": {},
     "output_type": "display_data"
    },
    {
     "data": {
      "application/vnd.jupyter.widget-view+json": {
       "model_id": "c02ef47d898548af875935d3239cde80",
       "version_major": 2,
       "version_minor": 0
      },
      "text/plain": [
       "Validation: |          | 0/? [00:00<?, ?it/s]"
      ]
     },
     "metadata": {},
     "output_type": "display_data"
    },
    {
     "data": {
      "application/vnd.jupyter.widget-view+json": {
       "model_id": "9b4d0e96781144cfba696c6c3d72c3b5",
       "version_major": 2,
       "version_minor": 0
      },
      "text/plain": [
       "Validation: |          | 0/? [00:00<?, ?it/s]"
      ]
     },
     "metadata": {},
     "output_type": "display_data"
    },
    {
     "data": {
      "application/vnd.jupyter.widget-view+json": {
       "model_id": "c7b9f9ab4d7344849fd3b4c2a4dd346b",
       "version_major": 2,
       "version_minor": 0
      },
      "text/plain": [
       "Validation: |          | 0/? [00:00<?, ?it/s]"
      ]
     },
     "metadata": {},
     "output_type": "display_data"
    },
    {
     "data": {
      "application/vnd.jupyter.widget-view+json": {
       "model_id": "3e217789adc64500990a2c42c7266ea6",
       "version_major": 2,
       "version_minor": 0
      },
      "text/plain": [
       "Validation: |          | 0/? [00:00<?, ?it/s]"
      ]
     },
     "metadata": {},
     "output_type": "display_data"
    },
    {
     "data": {
      "application/vnd.jupyter.widget-view+json": {
       "model_id": "6d42c558bfa0497f9b08a59cee2e373c",
       "version_major": 2,
       "version_minor": 0
      },
      "text/plain": [
       "Validation: |          | 0/? [00:00<?, ?it/s]"
      ]
     },
     "metadata": {},
     "output_type": "display_data"
    },
    {
     "data": {
      "application/vnd.jupyter.widget-view+json": {
       "model_id": "34e1420c8ffe4647b7beaf11bcfef973",
       "version_major": 2,
       "version_minor": 0
      },
      "text/plain": [
       "Validation: |          | 0/? [00:00<?, ?it/s]"
      ]
     },
     "metadata": {},
     "output_type": "display_data"
    },
    {
     "data": {
      "application/vnd.jupyter.widget-view+json": {
       "model_id": "8557091ae3d4461ab7a3917e53268032",
       "version_major": 2,
       "version_minor": 0
      },
      "text/plain": [
       "Validation: |          | 0/? [00:00<?, ?it/s]"
      ]
     },
     "metadata": {},
     "output_type": "display_data"
    },
    {
     "data": {
      "application/vnd.jupyter.widget-view+json": {
       "model_id": "c0d1b84e107d467c92e07c3a79ee65c6",
       "version_major": 2,
       "version_minor": 0
      },
      "text/plain": [
       "Validation: |          | 0/? [00:00<?, ?it/s]"
      ]
     },
     "metadata": {},
     "output_type": "display_data"
    },
    {
     "data": {
      "application/vnd.jupyter.widget-view+json": {
       "model_id": "f2d40bc115384311b7d930df1bf95b60",
       "version_major": 2,
       "version_minor": 0
      },
      "text/plain": [
       "Validation: |          | 0/? [00:00<?, ?it/s]"
      ]
     },
     "metadata": {},
     "output_type": "display_data"
    },
    {
     "data": {
      "application/vnd.jupyter.widget-view+json": {
       "model_id": "c51122bcbcf54ee6bb2aebdaf3fe955b",
       "version_major": 2,
       "version_minor": 0
      },
      "text/plain": [
       "Validation: |          | 0/? [00:00<?, ?it/s]"
      ]
     },
     "metadata": {},
     "output_type": "display_data"
    },
    {
     "data": {
      "application/vnd.jupyter.widget-view+json": {
       "model_id": "6d8a843d47f2474689a3b808a689d57b",
       "version_major": 2,
       "version_minor": 0
      },
      "text/plain": [
       "Validation: |          | 0/? [00:00<?, ?it/s]"
      ]
     },
     "metadata": {},
     "output_type": "display_data"
    },
    {
     "data": {
      "application/vnd.jupyter.widget-view+json": {
       "model_id": "cefaf2f136c148c7b01a91bb75167728",
       "version_major": 2,
       "version_minor": 0
      },
      "text/plain": [
       "Validation: |          | 0/? [00:00<?, ?it/s]"
      ]
     },
     "metadata": {},
     "output_type": "display_data"
    },
    {
     "data": {
      "application/vnd.jupyter.widget-view+json": {
       "model_id": "4ddd13ef004642d7b0e73890193eb1f0",
       "version_major": 2,
       "version_minor": 0
      },
      "text/plain": [
       "Validation: |          | 0/? [00:00<?, ?it/s]"
      ]
     },
     "metadata": {},
     "output_type": "display_data"
    },
    {
     "data": {
      "application/vnd.jupyter.widget-view+json": {
       "model_id": "20b095084cec4cb29dde0a58666053ec",
       "version_major": 2,
       "version_minor": 0
      },
      "text/plain": [
       "Validation: |          | 0/? [00:00<?, ?it/s]"
      ]
     },
     "metadata": {},
     "output_type": "display_data"
    },
    {
     "data": {
      "application/vnd.jupyter.widget-view+json": {
       "model_id": "4a12c4afaa314e81b453c2bf01057cff",
       "version_major": 2,
       "version_minor": 0
      },
      "text/plain": [
       "Validation: |          | 0/? [00:00<?, ?it/s]"
      ]
     },
     "metadata": {},
     "output_type": "display_data"
    },
    {
     "data": {
      "application/vnd.jupyter.widget-view+json": {
       "model_id": "9ba3ef45e9654af0aafee784960484da",
       "version_major": 2,
       "version_minor": 0
      },
      "text/plain": [
       "Validation: |          | 0/? [00:00<?, ?it/s]"
      ]
     },
     "metadata": {},
     "output_type": "display_data"
    },
    {
     "data": {
      "application/vnd.jupyter.widget-view+json": {
       "model_id": "236f2db819904c0582e6c275b3ce2f23",
       "version_major": 2,
       "version_minor": 0
      },
      "text/plain": [
       "Validation: |          | 0/? [00:00<?, ?it/s]"
      ]
     },
     "metadata": {},
     "output_type": "display_data"
    },
    {
     "data": {
      "application/vnd.jupyter.widget-view+json": {
       "model_id": "f78ab93dab1944f7bdd79ec58cd5ccde",
       "version_major": 2,
       "version_minor": 0
      },
      "text/plain": [
       "Validation: |          | 0/? [00:00<?, ?it/s]"
      ]
     },
     "metadata": {},
     "output_type": "display_data"
    },
    {
     "data": {
      "application/vnd.jupyter.widget-view+json": {
       "model_id": "34866518fc084db89e6bd0d00302e358",
       "version_major": 2,
       "version_minor": 0
      },
      "text/plain": [
       "Validation: |          | 0/? [00:00<?, ?it/s]"
      ]
     },
     "metadata": {},
     "output_type": "display_data"
    },
    {
     "data": {
      "application/vnd.jupyter.widget-view+json": {
       "model_id": "2f99db8f252940e78c851d4e0c05580e",
       "version_major": 2,
       "version_minor": 0
      },
      "text/plain": [
       "Validation: |          | 0/? [00:00<?, ?it/s]"
      ]
     },
     "metadata": {},
     "output_type": "display_data"
    },
    {
     "data": {
      "application/vnd.jupyter.widget-view+json": {
       "model_id": "646b5532dbbf48e286e6b461786e16f3",
       "version_major": 2,
       "version_minor": 0
      },
      "text/plain": [
       "Validation: |          | 0/? [00:00<?, ?it/s]"
      ]
     },
     "metadata": {},
     "output_type": "display_data"
    },
    {
     "data": {
      "application/vnd.jupyter.widget-view+json": {
       "model_id": "daf1d113bbc446379fe80f72535ca559",
       "version_major": 2,
       "version_minor": 0
      },
      "text/plain": [
       "Validation: |          | 0/? [00:00<?, ?it/s]"
      ]
     },
     "metadata": {},
     "output_type": "display_data"
    },
    {
     "data": {
      "application/vnd.jupyter.widget-view+json": {
       "model_id": "8129c693521f4271a80e75a52bd4af0d",
       "version_major": 2,
       "version_minor": 0
      },
      "text/plain": [
       "Validation: |          | 0/? [00:00<?, ?it/s]"
      ]
     },
     "metadata": {},
     "output_type": "display_data"
    },
    {
     "data": {
      "application/vnd.jupyter.widget-view+json": {
       "model_id": "4c3e7464c85d4f7abe05284f16ce91e3",
       "version_major": 2,
       "version_minor": 0
      },
      "text/plain": [
       "Validation: |          | 0/? [00:00<?, ?it/s]"
      ]
     },
     "metadata": {},
     "output_type": "display_data"
    },
    {
     "data": {
      "application/vnd.jupyter.widget-view+json": {
       "model_id": "add2f653a0b246e68009fec9423f9e60",
       "version_major": 2,
       "version_minor": 0
      },
      "text/plain": [
       "Validation: |          | 0/? [00:00<?, ?it/s]"
      ]
     },
     "metadata": {},
     "output_type": "display_data"
    },
    {
     "data": {
      "application/vnd.jupyter.widget-view+json": {
       "model_id": "81f97a9800bd4b3fb79c574749ebeb94",
       "version_major": 2,
       "version_minor": 0
      },
      "text/plain": [
       "Validation: |          | 0/? [00:00<?, ?it/s]"
      ]
     },
     "metadata": {},
     "output_type": "display_data"
    },
    {
     "data": {
      "application/vnd.jupyter.widget-view+json": {
       "model_id": "17a45b8283604fe48e9d915df3f9d68a",
       "version_major": 2,
       "version_minor": 0
      },
      "text/plain": [
       "Validation: |          | 0/? [00:00<?, ?it/s]"
      ]
     },
     "metadata": {},
     "output_type": "display_data"
    },
    {
     "data": {
      "application/vnd.jupyter.widget-view+json": {
       "model_id": "980df01d0d6f46469547b1d18b7f9c55",
       "version_major": 2,
       "version_minor": 0
      },
      "text/plain": [
       "Validation: |          | 0/? [00:00<?, ?it/s]"
      ]
     },
     "metadata": {},
     "output_type": "display_data"
    },
    {
     "name": "stderr",
     "output_type": "stream",
     "text": [
      "`Trainer.fit` stopped: `max_epochs=100` reached.\n"
     ]
    }
   ],
   "source": [
    "trainer_generative.fit(generative_model,\n",
    "                        train_dataloaders=dataloader,\n",
    "                        val_dataloaders=dataloader)"
   ]
  },
  {
   "cell_type": "code",
   "execution_count": 258,
   "id": "3e708c13-a964-4bbf-85dc-4937790524b4",
   "metadata": {},
   "outputs": [],
   "source": [
    "generative_model = generative_model.cuda()"
   ]
  },
  {
   "cell_type": "markdown",
   "id": "ab64b573-f9b7-427b-8301-59629685a23f",
   "metadata": {},
   "source": [
    "# Implementation of augmentation appraches "
   ]
  },
  {
   "cell_type": "code",
   "execution_count": 176,
   "id": "a04f4ce9-01cb-478c-91d9-d6674b58762a",
   "metadata": {},
   "outputs": [
    {
     "name": "stderr",
     "output_type": "stream",
     "text": [
      "/home/icb/alessandro.palma/miniconda3/envs/celldreamer/lib/python3.10/site-packages/anndata/__init__.py:51: FutureWarning: `anndata.read` is deprecated, use `anndata.read_h5ad` instead. `ad.read` will be removed in mid 2024.\n",
      "  warnings.warn(\n"
     ]
    }
   ],
   "source": [
    "dataset = RNAseqLoader(data_path=data_path,\n",
    "                        layer_key=\"X_masked\",               # Corresponding to config 'layer_key'\n",
    "                        covariate_keys=[\"clusters\"],        # Corresponding to config 'covariate_keys'\n",
    "                        subsample_frac=1,                   # Corresponding to config 'subsample_frac'\n",
    "                        encoder_type=\"learnt_autoencoder\",  # Corresponding to config 'encoder_type'\n",
    "                        multimodal=False,                   # Corresponding to config 'multimodal'\n",
    "                        is_binarized=False                  # Corresponding to config 'is_binarized'\n",
    "                    )"
   ]
  },
  {
   "cell_type": "markdown",
   "id": "8039335c-10e4-4a61-8aae-69fb8d40733e",
   "metadata": {},
   "source": [
    "#### Invert and sample"
   ]
  },
  {
   "cell_type": "code",
   "execution_count": 160,
   "id": "23b5aa40-40eb-4576-8176-289481ef535a",
   "metadata": {},
   "outputs": [],
   "source": [
    "dataloader = torch.utils.data.DataLoader(dataset,\n",
    "                                            batch_size=256,\n",
    "                                            shuffle=False,\n",
    "                                            num_workers=4, \n",
    "                                            drop_last=False)\n",
    "gene_dim = dataset.X.shape[1] "
   ]
  },
  {
   "cell_type": "code",
   "execution_count": 254,
   "id": "166cc55c-5687-457f-9daa-abb4939a5321",
   "metadata": {},
   "outputs": [],
   "source": [
    "def invert_and_sample(dataloader, encoder_model, generative_model, sample_std=0.1):\n",
    "    # Sampled results \n",
    "    Z_imputed = [] \n",
    "    X_imputed = []\n",
    "    \n",
    "    # Times to apply correction\n",
    "    t = torch.linspace(0, 1, 2, device=generative_model.device)\n",
    "    reverse_t = torch.linspace(1, 0, 2, device=generative_model.device)\n",
    "\n",
    "    for i, batch in tqdm(enumerate(dataloader)):\n",
    "        with torch.no_grad():\n",
    "            # Encode latent space \n",
    "            z = encoder_model.encode(batch)\n",
    "    \n",
    "            # Get size factor\n",
    "            size_factor = torch.tensor(dentate.layers[\"X_counts\"][(i*256):((i+1)*256)].sum(1)).squeeze()\n",
    "            log_size_factor = torch.log(torch.tensor(dentate.layers[\"X_counts\"][(i*256):((i+1)*256)].sum(1))).squeeze()\n",
    "                \n",
    "            # Get condition embeddings\n",
    "            y = generative_model.feature_embeddings[\"clusters\"](batch[\"y\"][\"clusters\"].cuda())\n",
    "    \n",
    "            # Go back to noise\n",
    "            denoising_model_ode = torch_wrapper(generative_model.denoising_model, \n",
    "                                                log_size_factor, \n",
    "                                                y)    \n",
    "            \n",
    "            node = NeuralODE(denoising_model_ode,\n",
    "                                    solver=\"dopri5\", \n",
    "                                    sensitivity=\"adjoint\", \n",
    "                                    atol=1e-5, \n",
    "                                    rtol=1e-5)        \n",
    "    \n",
    "            z0 = node.trajectory(z, t_span=reverse_t)[-1]\n",
    "\n",
    "            # Now sample around noise\n",
    "            noise = torch.randn_like(z0) * sample_std  # Gaussian noise\n",
    "            z0 = z0 + noise\n",
    "    \n",
    "            z1 = node.trajectory(z0, t_span=t)[-1]\n",
    "            Z_imputed.append(z1.cpu().numpy())\n",
    "    \n",
    "            # Now decode\n",
    "            mu_hat = generative_model._decode(z1, size_factor.cuda().unsqueeze(1))\n",
    "            X_imputed.append(mu_hat.cpu().numpy())\n",
    "\n",
    "    Z_imputed = np.concatenate(Z_imputed, axis=0)\n",
    "    X_imputed = np.concatenate(X_imputed, axis=0)\n",
    "    return Z_imputed, X_imputed"
   ]
  },
  {
   "cell_type": "code",
   "execution_count": 259,
   "id": "0b9e9a06-50a3-4477-b0bb-4cba5c05529d",
   "metadata": {
    "scrolled": true
   },
   "outputs": [
    {
     "name": "stderr",
     "output_type": "stream",
     "text": [
      "3it [00:02,  1.32it/s]\n"
     ]
    },
    {
     "ename": "KeyboardInterrupt",
     "evalue": "",
     "output_type": "error",
     "traceback": [
      "\u001b[0;31m---------------------------------------------------------------------------\u001b[0m",
      "\u001b[0;31mKeyboardInterrupt\u001b[0m                         Traceback (most recent call last)",
      "Cell \u001b[0;32mIn[259], line 1\u001b[0m\n\u001b[0;32m----> 1\u001b[0m Z_imputed, X_imputed \u001b[38;5;241m=\u001b[39m \u001b[43minvert_and_sample\u001b[49m\u001b[43m(\u001b[49m\u001b[43mdataloader\u001b[49m\u001b[43m,\u001b[49m\u001b[43m \u001b[49m\u001b[43mencoder_model\u001b[49m\u001b[43m,\u001b[49m\u001b[43m \u001b[49m\u001b[43mgenerative_model\u001b[49m\u001b[43m,\u001b[49m\u001b[43m \u001b[49m\u001b[43msample_std\u001b[49m\u001b[38;5;241;43m=\u001b[39;49m\u001b[38;5;241;43m0.01\u001b[39;49m\u001b[43m)\u001b[49m\n",
      "Cell \u001b[0;32mIn[254], line 39\u001b[0m, in \u001b[0;36minvert_and_sample\u001b[0;34m(dataloader, encoder_model, generative_model, sample_std)\u001b[0m\n\u001b[1;32m     36\u001b[0m noise \u001b[38;5;241m=\u001b[39m torch\u001b[38;5;241m.\u001b[39mrandn_like(z0) \u001b[38;5;241m*\u001b[39m sample_std  \u001b[38;5;66;03m# Gaussian noise\u001b[39;00m\n\u001b[1;32m     37\u001b[0m z0 \u001b[38;5;241m=\u001b[39m z0 \u001b[38;5;241m+\u001b[39m noise\n\u001b[0;32m---> 39\u001b[0m z1 \u001b[38;5;241m=\u001b[39m \u001b[43mnode\u001b[49m\u001b[38;5;241;43m.\u001b[39;49m\u001b[43mtrajectory\u001b[49m\u001b[43m(\u001b[49m\u001b[43mz0\u001b[49m\u001b[43m,\u001b[49m\u001b[43m \u001b[49m\u001b[43mt_span\u001b[49m\u001b[38;5;241;43m=\u001b[39;49m\u001b[43mt\u001b[49m\u001b[43m)\u001b[49m[\u001b[38;5;241m-\u001b[39m\u001b[38;5;241m1\u001b[39m]\n\u001b[1;32m     40\u001b[0m Z_imputed\u001b[38;5;241m.\u001b[39mappend(z1\u001b[38;5;241m.\u001b[39mcpu()\u001b[38;5;241m.\u001b[39mnumpy())\n\u001b[1;32m     42\u001b[0m \u001b[38;5;66;03m# Now decode\u001b[39;00m\n",
      "File \u001b[0;32m~/miniconda3/envs/celldreamer/lib/python3.10/site-packages/torchdyn/core/neuralde.py:100\u001b[0m, in \u001b[0;36mNeuralODE.trajectory\u001b[0;34m(self, x, t_span)\u001b[0m\n\u001b[1;32m     98\u001b[0m \u001b[38;5;28;01mdef\u001b[39;00m \u001b[38;5;21mtrajectory\u001b[39m(\u001b[38;5;28mself\u001b[39m, x:torch\u001b[38;5;241m.\u001b[39mTensor, t_span:Tensor):\n\u001b[1;32m     99\u001b[0m     x, t_span \u001b[38;5;241m=\u001b[39m \u001b[38;5;28mself\u001b[39m\u001b[38;5;241m.\u001b[39m_prep_integration(x, t_span)\n\u001b[0;32m--> 100\u001b[0m     _, sol \u001b[38;5;241m=\u001b[39m \u001b[43modeint\u001b[49m\u001b[43m(\u001b[49m\u001b[38;5;28;43mself\u001b[39;49m\u001b[38;5;241;43m.\u001b[39;49m\u001b[43mvf\u001b[49m\u001b[43m,\u001b[49m\u001b[43m \u001b[49m\u001b[43mx\u001b[49m\u001b[43m,\u001b[49m\u001b[43m \u001b[49m\u001b[43mt_span\u001b[49m\u001b[43m,\u001b[49m\u001b[43m \u001b[49m\u001b[43msolver\u001b[49m\u001b[38;5;241;43m=\u001b[39;49m\u001b[38;5;28;43mself\u001b[39;49m\u001b[38;5;241;43m.\u001b[39;49m\u001b[43msolver\u001b[49m\u001b[43m,\u001b[49m\u001b[43m \u001b[49m\u001b[43matol\u001b[49m\u001b[38;5;241;43m=\u001b[39;49m\u001b[38;5;28;43mself\u001b[39;49m\u001b[38;5;241;43m.\u001b[39;49m\u001b[43matol\u001b[49m\u001b[43m,\u001b[49m\u001b[43m \u001b[49m\u001b[43mrtol\u001b[49m\u001b[38;5;241;43m=\u001b[39;49m\u001b[38;5;28;43mself\u001b[39;49m\u001b[38;5;241;43m.\u001b[39;49m\u001b[43mrtol\u001b[49m\u001b[43m)\u001b[49m\n\u001b[1;32m    101\u001b[0m     \u001b[38;5;28;01mreturn\u001b[39;00m sol\n",
      "File \u001b[0;32m~/miniconda3/envs/celldreamer/lib/python3.10/site-packages/torchdyn/numerics/odeint.py:91\u001b[0m, in \u001b[0;36modeint\u001b[0;34m(f, x, t_span, solver, atol, rtol, t_stops, verbose, interpolator, return_all_eval, save_at, args, seminorm)\u001b[0m\n\u001b[1;32m     89\u001b[0m dt \u001b[38;5;241m=\u001b[39m init_step(f, k1, x, t, solver\u001b[38;5;241m.\u001b[39morder, atol, rtol)\n\u001b[1;32m     90\u001b[0m \u001b[38;5;28;01mif\u001b[39;00m \u001b[38;5;28mlen\u001b[39m(save_at) \u001b[38;5;241m>\u001b[39m \u001b[38;5;241m0\u001b[39m: warn(\u001b[38;5;124m\"\u001b[39m\u001b[38;5;124mSetting save_at has no effect on adaptive-step methods\u001b[39m\u001b[38;5;124m\"\u001b[39m)\n\u001b[0;32m---> 91\u001b[0m \u001b[38;5;28;01mreturn\u001b[39;00m \u001b[43m_adaptive_odeint\u001b[49m\u001b[43m(\u001b[49m\u001b[43mf_\u001b[49m\u001b[43m,\u001b[49m\u001b[43m \u001b[49m\u001b[43mk1\u001b[49m\u001b[43m,\u001b[49m\u001b[43m \u001b[49m\u001b[43mx\u001b[49m\u001b[43m,\u001b[49m\u001b[43m \u001b[49m\u001b[43mdt\u001b[49m\u001b[43m,\u001b[49m\u001b[43m \u001b[49m\u001b[43mt_span\u001b[49m\u001b[43m,\u001b[49m\u001b[43m \u001b[49m\u001b[43msolver\u001b[49m\u001b[43m,\u001b[49m\u001b[43m \u001b[49m\u001b[43matol\u001b[49m\u001b[43m,\u001b[49m\u001b[43m \u001b[49m\u001b[43mrtol\u001b[49m\u001b[43m,\u001b[49m\u001b[43m \u001b[49m\u001b[43margs\u001b[49m\u001b[43m,\u001b[49m\u001b[43m \u001b[49m\u001b[43minterpolator\u001b[49m\u001b[43m,\u001b[49m\u001b[43m \u001b[49m\u001b[43mreturn_all_eval\u001b[49m\u001b[43m,\u001b[49m\u001b[43m \u001b[49m\u001b[43mseminorm\u001b[49m\u001b[43m)\u001b[49m\n",
      "File \u001b[0;32m~/miniconda3/envs/celldreamer/lib/python3.10/site-packages/torchdyn/numerics/odeint.py:363\u001b[0m, in \u001b[0;36m_adaptive_odeint\u001b[0;34m(f, k1, x, dt, t_span, solver, atol, rtol, args, interpolator, return_all_eval, seminorm)\u001b[0m\n\u001b[1;32m    360\u001b[0m \t\t\tdt_old, ckpt_flag \u001b[38;5;241m=\u001b[39m dt, \u001b[38;5;28;01mTrue\u001b[39;00m\n\u001b[1;32m    361\u001b[0m \t\t\tdt \u001b[38;5;241m=\u001b[39m t_eval[ckpt_counter] \u001b[38;5;241m-\u001b[39m t\n\u001b[0;32m--> 363\u001b[0m f_new, x_new, x_err, stages \u001b[38;5;241m=\u001b[39m \u001b[43msolver\u001b[49m\u001b[38;5;241;43m.\u001b[39;49m\u001b[43mstep\u001b[49m\u001b[43m(\u001b[49m\u001b[43mf\u001b[49m\u001b[43m,\u001b[49m\u001b[43m \u001b[49m\u001b[43mx\u001b[49m\u001b[43m,\u001b[49m\u001b[43m \u001b[49m\u001b[43mt\u001b[49m\u001b[43m,\u001b[49m\u001b[43m \u001b[49m\u001b[43mdt\u001b[49m\u001b[43m,\u001b[49m\u001b[43m \u001b[49m\u001b[43mk1\u001b[49m\u001b[38;5;241;43m=\u001b[39;49m\u001b[43mk1\u001b[49m\u001b[43m,\u001b[49m\u001b[43m \u001b[49m\u001b[43margs\u001b[49m\u001b[38;5;241;43m=\u001b[39;49m\u001b[43margs\u001b[49m\u001b[43m)\u001b[49m\n\u001b[1;32m    364\u001b[0m \u001b[38;5;66;03m################# compute error #############################\u001b[39;00m\n\u001b[1;32m    365\u001b[0m \u001b[38;5;28;01mif\u001b[39;00m seminorm[\u001b[38;5;241m0\u001b[39m] \u001b[38;5;241m==\u001b[39m \u001b[38;5;28;01mTrue\u001b[39;00m:\n",
      "\u001b[0;31mKeyboardInterrupt\u001b[0m: "
     ]
    }
   ],
   "source": [
    "Z_imputed, X_imputed = invert_and_sample(dataloader, encoder_model, generative_model, sample_std=0.01)"
   ]
  },
  {
   "cell_type": "code",
   "execution_count": 163,
   "id": "a00f1248-0946-499c-b88f-638e0510d054",
   "metadata": {},
   "outputs": [
    {
     "name": "stdout",
     "output_type": "stream",
     "text": [
      "(18213, 100)\n",
      "(18213, 2000)\n"
     ]
    }
   ],
   "source": [
    "print(Z_imputed.shape)\n",
    "print(X_imputed.shape)"
   ]
  },
  {
   "cell_type": "code",
   "execution_count": 184,
   "id": "cf50e586-a0fe-4595-89d5-f8447dacdc16",
   "metadata": {},
   "outputs": [
    {
     "data": {
      "text/plain": [
       "0.41121563"
      ]
     },
     "execution_count": 184,
     "metadata": {},
     "output_type": "execute_result"
    }
   ],
   "source": [
    "np.mean(np.abs(X_imputed.ravel()[dentate.uns['do_ix']] - dentate.layers[\"X_counts\"].A.ravel()[dentate.uns['do_ix']]))"
   ]
  },
  {
   "cell_type": "code",
   "execution_count": 185,
   "id": "2e5eca46-01b9-48ce-a683-f289669eb5cc",
   "metadata": {},
   "outputs": [
    {
     "data": {
      "text/plain": [
       "SignificanceResult(statistic=0.5576341008450199, pvalue=0.0)"
      ]
     },
     "execution_count": 185,
     "metadata": {},
     "output_type": "execute_result"
    }
   ],
   "source": [
    "scipy.stats.spearmanr(X_imputed.ravel()[dentate.uns['do_ix']], dentate.layers[\"X_counts\"].A.ravel()[dentate.uns['do_ix']])"
   ]
  },
  {
   "cell_type": "code",
   "execution_count": 186,
   "id": "e6206529-2cc8-4b71-942f-62e844e0784b",
   "metadata": {},
   "outputs": [
    {
     "data": {
      "text/plain": [
       "SignificanceResult(statistic=0.5821690043227883, pvalue=0.0)"
      ]
     },
     "execution_count": 186,
     "metadata": {},
     "output_type": "execute_result"
    }
   ],
   "source": [
    "scipy.stats.spearmanr(imputed_counts.ravel()[dentate.uns['do_ix']], dentate.layers[\"X_counts\"].A.ravel()[dentate.uns['do_ix']])"
   ]
  },
  {
   "cell_type": "code",
   "execution_count": 256,
   "id": "04c338df-f89d-4326-bf6c-b134cdebcb9e",
   "metadata": {},
   "outputs": [
    {
     "data": {
      "text/plain": [
       "Text(0, 0.5, 'Real')"
      ]
     },
     "execution_count": 256,
     "metadata": {},
     "output_type": "execute_result"
    },
    {
     "data": {
      "image/png": "[encoded data removed]",
      "text/plain": [
       "<Figure size 640x480 with 1 Axes>"
      ]
     },
     "metadata": {},
     "output_type": "display_data"
    }
   ],
   "source": [
    "plt.scatter(X_imputed.ravel()[:100000], dentate.layers[\"X_counts\"].A.ravel()[:100000])\n",
    "plt.title(\"Imputation CFGen\")\n",
    "plt.xlabel(\"Predicted\")\n",
    "plt.ylabel(\"Real\")"
   ]
  },
  {
   "cell_type": "code",
   "execution_count": 206,
   "id": "99f31cd7-25ab-4fb6-b610-89fc54af4b73",
   "metadata": {},
   "outputs": [
    {
     "data": {
      "text/plain": [
       "Text(0, 0.5, 'Real')"
      ]
     },
     "execution_count": 206,
     "metadata": {},
     "output_type": "execute_result"
    },
    {
     "data": {
      "image/png": "[encoded data removed]",
      "text/plain": [
       "<Figure size 640x480 with 1 Axes>"
      ]
     },
     "metadata": {},
     "output_type": "display_data"
    }
   ],
   "source": [
    "plt.scatter(imputed_counts.ravel()[:100000], dentate.layers[\"X_counts\"].A.ravel()[:100000])\n",
    "plt.title(\"Imputation scVI\")\n",
    "plt.xlabel(\"Predicted\")\n",
    "plt.ylabel(\"Real\")"
   ]
  },
  {
   "cell_type": "markdown",
   "id": "7c83e323-163f-4ffe-897f-efd1ee395013",
   "metadata": {},
   "source": [
    "Check if generated are decent"
   ]
  },
  {
   "cell_type": "code",
   "execution_count": 189,
   "id": "8117f586-7301-4898-9683-ed2bec1d8748",
   "metadata": {},
   "outputs": [],
   "source": [
    "adata_joint = sc.AnnData(X=np.concatenate([dentate.layers[\"X_counts\"].A,\n",
    "                             X_imputed]),\n",
    "                         obs={\"dataset_type\":[\"true\" for _ in range(dentate.layers[\"X_counts\"].A.shape[0])]+[\"gen\" for _ in range(len(X_imputed))]})"
   ]
  },
  {
   "cell_type": "code",
   "execution_count": 190,
   "id": "d53672b8-dfc0-40a4-89d8-1c7f572506c1",
   "metadata": {},
   "outputs": [
    {
     "name": "stderr",
     "output_type": "stream",
     "text": [
      "/home/icb/alessandro.palma/miniconda3/envs/celldreamer/lib/python3.10/site-packages/scanpy/plotting/_tools/scatterplots.py:394: UserWarning: No data for colormapping provided via 'c'. Parameters 'cmap' will be ignored\n",
      "  cax = scatter(\n"
     ]
    },
    {
     "data": {
      "image/png": "[encoded data removed]",
      "text/plain": [
       "<Figure size 640x480 with 1 Axes>"
      ]
     },
     "metadata": {},
     "output_type": "display_data"
    }
   ],
   "source": [
    "sc.pp.log1p(adata_joint)\n",
    "sc.tl.pca(adata_joint)\n",
    "sc.pl.pca(adata_joint,color=\"dataset_type\")"
   ]
  },
  {
   "cell_type": "markdown",
   "id": "bd4c4055-300d-4823-b6b2-b6326fdefb61",
   "metadata": {},
   "source": [
    "## Correlation non zero genes"
   ]
  },
  {
   "cell_type": "code",
   "execution_count": 207,
   "id": "5e4bbf73-6063-4d95-8681-0ee122dc8162",
   "metadata": {},
   "outputs": [],
   "source": [
    "non_zero_idx = np.where(dentate.layers[\"X_masked\"].A.ravel()!=0)"
   ]
  },
  {
   "cell_type": "code",
   "execution_count": 208,
   "id": "82e83182-9838-4e2d-9fcc-da87fafdc7ba",
   "metadata": {},
   "outputs": [
    {
     "data": {
      "text/plain": [
       "SignificanceResult(statistic=0.7624440199269512, pvalue=0.0)"
      ]
     },
     "execution_count": 208,
     "metadata": {},
     "output_type": "execute_result"
    }
   ],
   "source": [
    "scipy.stats.spearmanr(X_imputed.ravel()[non_zero_idx], dentate.layers[\"X_counts\"].A.ravel()[non_zero_idx])"
   ]
  },
  {
   "cell_type": "code",
   "execution_count": 209,
   "id": "59f24351-72e3-4b19-bf44-9c4739a0e9de",
   "metadata": {},
   "outputs": [
    {
     "data": {
      "text/plain": [
       "SignificanceResult(statistic=0.7306204551621398, pvalue=0.0)"
      ]
     },
     "execution_count": 209,
     "metadata": {},
     "output_type": "execute_result"
    }
   ],
   "source": [
    "scipy.stats.spearmanr(imputed_counts.ravel()[non_zero_idx], dentate.layers[\"X_counts\"].A.ravel()[non_zero_idx])"
   ]
  },
  {
   "cell_type": "code",
   "execution_count": 210,
   "id": "71e38a50-7290-499c-8362-34422a826d3b",
   "metadata": {},
   "outputs": [
    {
     "data": {
      "text/plain": [
       "1.3553919"
      ]
     },
     "execution_count": 210,
     "metadata": {},
     "output_type": "execute_result"
    }
   ],
   "source": [
    "np.mean(np.abs(X_imputed.ravel()[non_zero_idx] - dentate.layers[\"X_counts\"].A.ravel()[[non_zero_idx]]))"
   ]
  },
  {
   "cell_type": "code",
   "execution_count": 211,
   "id": "ff4bc839-4602-41d6-9be4-79b387240628",
   "metadata": {},
   "outputs": [
    {
     "data": {
      "text/plain": [
       "1.368289"
      ]
     },
     "execution_count": 211,
     "metadata": {},
     "output_type": "execute_result"
    }
   ],
   "source": [
    "np.mean(np.abs(imputed_counts.ravel()[non_zero_idx] - dentate.layers[\"X_counts\"].A.ravel()[[non_zero_idx]]))"
   ]
  },
  {
   "cell_type": "markdown",
   "id": "29dca902-3cac-45ed-9c6e-ed0149fbe3e9",
   "metadata": {},
   "source": [
    "#### Interpolate and sample"
   ]
  },
  {
   "cell_type": "code",
   "execution_count": 200,
   "id": "4e821e07-db55-49e5-961d-c0b5ed2f967a",
   "metadata": {},
   "outputs": [],
   "source": [
    "# def interpolate_and_sample(dataloader, encoder_model, generative_model, tmax):\n",
    "#     # Sampled results \n",
    "#     Z_imputed = [] \n",
    "#     X_imputed = []\n",
    "    \n",
    "#     # Times to apply correction\n",
    "#     t = torch.linspace(tmax, 1.0, 100, device=generative_model.device)\n",
    "\n",
    "#     for i, batch in tqdm(enumerate(dataloader)):\n",
    "#         with torch.no_grad():\n",
    "#             # Encode latent space \n",
    "#             z = encoder_model.encode(batch)\n",
    "#             eps = torch.randn_like(z)\n",
    "    \n",
    "#             # Get size factor\n",
    "#             log_size_factor = torch.log(torch.tensor(dentate.layers[\"X_counts\"][(i*256):((i+1)*256)].sum(1))).squeeze()\n",
    "    \n",
    "#             # Get condition embeddings\n",
    "#             y = generative_model.feature_embeddings[\"clusters\"](batch[\"y\"][\"clusters\"].cuda())\n",
    "\n",
    "#             # Interpolate \n",
    "#             zt = z * tmax + eps * (1-tmax)\n",
    "    \n",
    "#             # Go back to noise\n",
    "#             denoising_model_ode = torch_wrapper(generative_model.denoising_model, \n",
    "#                                                 log_size_factor, \n",
    "#                                                 y)    \n",
    "            \n",
    "#             node = NeuralODE(denoising_model_ode,\n",
    "#                                     solver=\"dopri5\", \n",
    "#                                     sensitivity=\"adjoint\", \n",
    "#                                     atol=1e-5, \n",
    "#                                     rtol=1e-5)        \n",
    "    \n",
    "    \n",
    "#             z1 = node.trajectory(zt, t_span=t)[-1]\n",
    "#             Z_imputed.append(z1.cpu().numpy())\n",
    "    \n",
    "#             # Now decode\n",
    "#             mu_hat = generative_model._decode(z1, torch.exp(log_size_factor).cuda().unsqueeze(1))\n",
    "#             X_imputed.append(mu_hat.cpu().numpy())\n",
    "            \n",
    "#     Z_imputed = np.concatenate(Z_imputed, axis=0)\n",
    "#     X_imputed = np.concatenate(X_imputed, axis=0)\n",
    "#     return Z_imputed, X_imputed"
   ]
  },
  {
   "cell_type": "code",
   "execution_count": 199,
   "id": "d2dcdb6c-99ec-4f21-a7d2-01222ad6de12",
   "metadata": {},
   "outputs": [],
   "source": [
    "# Z_imputed_interpolate, X_imputed_interpolate = interpolate_and_sample(dataloader,\n",
    "#                                                                       encoder_model, \n",
    "#                                                                       generative_model, \n",
    "#                                                                       tmax=0.9)"
   ]
  },
  {
   "cell_type": "code",
   "execution_count": 198,
   "id": "82c008fb-5cf2-46bd-b1bf-3ad3d1883bd4",
   "metadata": {},
   "outputs": [],
   "source": [
    "# np.mean(np.abs(X_imputed_interpolate.ravel()[dentate.uns['do_ix']] - dentate.layers[\"X_counts\"].A.ravel()[dentate.uns['do_ix']]))"
   ]
  },
  {
   "cell_type": "code",
   "execution_count": 197,
   "id": "f54df91a-bdb2-412c-a42a-ca749ccd85cf",
   "metadata": {},
   "outputs": [],
   "source": [
    "# plt.scatter(X_imputed_interpolate.ravel()[:100000], dentate.layers[\"X_counts\"].A.ravel()[:100000])\n",
    "# plt.title(\"Imputation CFGen\")\n",
    "# plt.xlabel(\"Predicted\")\n",
    "# plt.ylabel(\"Real\")"
   ]
  },
  {
   "cell_type": "markdown",
   "id": "761afc7e-e9d1-4d70-8411-7a5338107b6d",
   "metadata": {},
   "source": [
    "### Plot together"
   ]
  },
  {
   "cell_type": "code",
   "execution_count": 234,
   "id": "586bd4c2-05e7-420d-8a20-9d24a8c4d348",
   "metadata": {},
   "outputs": [],
   "source": [
    "scvi_pred = imputed_counts.ravel()[non_zero_idx][:100000]\n",
    "cfg_pred = X_imputed.ravel()[non_zero_idx][:100000]\n",
    "real_counts = dentate.layers[\"X_counts\"].A.ravel()[non_zero_idx][:100000]"
   ]
  },
  {
   "cell_type": "code",
   "execution_count": 262,
   "id": "3b3f93a0-6ce8-4a30-8a05-3dbf3c93eede",
   "metadata": {},
   "outputs": [],
   "source": [
    "# # Prepare the data for seaborn\n",
    "# data = pd.DataFrame({\n",
    "#     \"Ground truth\": np.concatenate([real_counts, real_counts]),\n",
    "#     \"Predictions\": np.concatenate([cfg_pred, scvi_pred]),\n",
    "#     \"Model\": [\"CFGen\"] * len(real_counts) + [\"scVI\"] * len(real_counts)\n",
    "# })\n",
    "\n",
    "# # Initialize the plot\n",
    "# plt.figure(figsize=(4, 4))\n",
    "\n",
    "# # Scatter plot with regression lines\n",
    "# sns.scatterplot(data=data, x=\"Predictions\", y=\"Ground truth\", hue=\"Model\", style=\"Model\", s=70)\n",
    "# sns.regplot(data=data[data[\"Model\"] == \"CFGen\"], x=\"Predictions\", y=\"Ground truth\", scatter=False, color=\"blue\", label=\"CFGen\")\n",
    "# sns.regplot(data=data[data[\"Model\"] == \"scVI\"], x=\"Predictions\", y=\"Ground truth\", scatter=False, color=\"orange\", label=\"scVI\")\n",
    "\n",
    "# # Add the y=x line (bisector)\n",
    "# plt.plot([min(real_counts), max(real_counts)], [min(real_counts), max(real_counts)],  linestyle=\"--\", linewidth=2, label=\"Bisector (y=x)\")\n",
    "\n",
    "# # Adjust plot aesthetics\n",
    "# plt.title(\"Dentate gyrus\", fontsize=14)\n",
    "# plt.xlabel(\"Predictions\", fontsize=14)\n",
    "# plt.ylabel(\"Ground truth\", fontsize=14)\n",
    "# plt.legend(bbox_to_anchor=(1.05, 1), loc='upper left')  # Place the legend outside\n",
    "# plt.axis(\"equal\")\n",
    "\n",
    "# plt.savefig(\"plots/dentategyrus_comparison.png\",bbox_inches='tight', format=\"png\")  # Save the figure\n",
    "# # Show the plot\n",
    "# plt.show()"
   ]
  },
  {
   "cell_type": "code",
   "execution_count": 266,
   "id": "43777012-e5ac-4eae-9f13-453f0644b55c",
   "metadata": {},
   "outputs": [
    {
     "data": {
      "image/png": "[encoded data removed]",
      "text/plain": [
       "<Figure size 400x400 with 1 Axes>"
      ]
     },
     "metadata": {},
     "output_type": "display_data"
    }
   ],
   "source": [
    "# Prepare the data for seaborn\n",
    "data = pd.DataFrame({\n",
    "    \"Ground truth\": real_counts,\n",
    "    \"Predictions\": cfg_pred,\n",
    "    \"Model\": [\"CFGen\"] * len(real_counts) \n",
    "})\n",
    "\n",
    "# Initialize the plot\n",
    "plt.figure(figsize=(4, 4))\n",
    "\n",
    "# Scatter plot with regression lines\n",
    "sns.scatterplot(data=data, x=\"Predictions\", y=\"Ground truth\", s=70)\n",
    "sns.regplot(data=data[data[\"Model\"] == \"CFGen\"], x=\"Predictions\", y=\"Ground truth\", scatter=False, color=\"blue\", label=\"CFGen\")\n",
    "\n",
    "# Add the y=x line (bisector)\n",
    "plt.plot([min(real_counts), max(real_counts)], [min(real_counts), max(real_counts)],  linestyle=\"--\", linewidth=2, label=\"Bisector (y=x)\")\n",
    "\n",
    "# Adjust plot aesthetics\n",
    "plt.title(\"Dentate gyrus\", fontsize=14)\n",
    "plt.xlabel(\"Predictions\", fontsize=14)\n",
    "plt.ylabel(\"Ground truth\", fontsize=14)\n",
    "plt.axis(\"equal\")\n",
    "\n",
    "plt.savefig(\"plots/dentategyrus_comparison.png\",bbox_inches='tight', format=\"png\")  # Save the figure\n",
    "# Show the plot\n",
    "plt.show()"
   ]
  },
  {
   "cell_type": "markdown",
   "id": "4d59defb-9586-4ecb-b215-13b78ecc3e50",
   "metadata": {},
   "source": [
    "Now make plots with multiple levels of noise "
   ]
  },
  {
   "cell_type": "code",
   "execution_count": 260,
   "id": "0fdc6a09-0870-4884-8cab-0a9fe1c0d235",
   "metadata": {
    "scrolled": true
   },
   "outputs": [
    {
     "name": "stderr",
     "output_type": "stream",
     "text": [
      "72it [00:43,  1.65it/s]\n"
     ]
    },
    {
     "data": {
      "image/png": "[encoded data removed]",
      "text/plain": [
       "<Figure size 300x300 with 1 Axes>"
      ]
     },
     "metadata": {},
     "output_type": "display_data"
    },
    {
     "name": "stdout",
     "output_type": "stream",
     "text": [
      "SignificanceResult(statistic=0.7624701421021775, pvalue=0.0)\n",
      "1.3552102\n"
     ]
    },
    {
     "name": "stderr",
     "output_type": "stream",
     "text": [
      "72it [00:44,  1.64it/s]\n"
     ]
    },
    {
     "data": {
      "image/png": "[encoded data removed]",
      "text/plain": [
       "<Figure size 300x300 with 1 Axes>"
      ]
     },
     "metadata": {},
     "output_type": "display_data"
    },
    {
     "name": "stdout",
     "output_type": "stream",
     "text": [
      "SignificanceResult(statistic=0.7624471344322369, pvalue=0.0)\n",
      "1.3553439\n"
     ]
    },
    {
     "name": "stderr",
     "output_type": "stream",
     "text": [
      "72it [00:43,  1.64it/s]\n"
     ]
    },
    {
     "data": {
      "image/png": "[encoded data removed]",
      "text/plain": [
       "<Figure size 300x300 with 1 Axes>"
      ]
     },
     "metadata": {},
     "output_type": "display_data"
    },
    {
     "name": "stdout",
     "output_type": "stream",
     "text": [
      "SignificanceResult(statistic=0.7598846443398364, pvalue=0.0)\n",
      "1.3733567\n"
     ]
    },
    {
     "name": "stderr",
     "output_type": "stream",
     "text": [
      "72it [00:43,  1.67it/s]\n"
     ]
    },
    {
     "data": {
      "image/png": "[encoded data removed]",
      "text/plain": [
       "<Figure size 300x300 with 1 Axes>"
      ]
     },
     "metadata": {},
     "output_type": "display_data"
    },
    {
     "name": "stdout",
     "output_type": "stream",
     "text": [
      "SignificanceResult(statistic=0.6536191153901251, pvalue=0.0)\n",
      "1.9847872\n"
     ]
    },
    {
     "name": "stderr",
     "output_type": "stream",
     "text": [
      "72it [00:44,  1.61it/s]\n"
     ]
    },
    {
     "data": {
      "image/png": "[encoded data removed]",
      "text/plain": [
       "<Figure size 300x300 with 1 Axes>"
      ]
     },
     "metadata": {},
     "output_type": "display_data"
    },
    {
     "name": "stdout",
     "output_type": "stream",
     "text": [
      "SignificanceResult(statistic=0.5790413904930299, pvalue=0.0)\n",
      "2.3502088\n"
     ]
    },
    {
     "name": "stderr",
     "output_type": "stream",
     "text": [
      "72it [00:48,  1.47it/s]\n"
     ]
    },
    {
     "data": {
      "image/png": "[encoded data removed]",
      "text/plain": [
       "<Figure size 300x300 with 1 Axes>"
      ]
     },
     "metadata": {},
     "output_type": "display_data"
    },
    {
     "name": "stdout",
     "output_type": "stream",
     "text": [
      "SignificanceResult(statistic=0.49671959407118865, pvalue=0.0)\n",
      "2.6963801\n"
     ]
    }
   ],
   "source": [
    "for std in [0.001, 0.01, 0.1, 1, 2, 10]:\n",
    "    _, X_imputed_var = invert_and_sample(dataloader, encoder_model, generative_model, sample_std=std)\n",
    "    plt.figure(figsize=(3, 3))\n",
    "    plt.scatter(X_imputed_var.ravel()[:100000], dentate.layers[\"X_counts\"].A.ravel()[:100000])\n",
    "    plt.title(f\"Dentate gyrus imputation std {std}\")\n",
    "    plt.xlabel(\"Predictions\")\n",
    "    plt.ylabel(\"Ground truth\")\n",
    "    plt.savefig(f\"plots/var_plots/dentate_comparison_{std}.png\",bbox_inches='tight', format=\"png\")  # Save the figure\n",
    "    plt.show()\n",
    "    print(scipy.stats.spearmanr(X_imputed_var.ravel()[non_zero_idx], dentate.layers[\"X_counts\"].A.ravel()[non_zero_idx]))\n",
    "    print(np.mean(np.abs(X_imputed_var.ravel()[non_zero_idx] - dentate.layers[\"X_counts\"].A.ravel()[[non_zero_idx]])))"
   ]
  },
  {
   "cell_type": "code",
   "execution_count": null,
   "id": "13f2a32d-71ba-4fe4-8470-bf223a5a340b",
   "metadata": {},
   "outputs": [],
   "source": []
  }
 ],
 "metadata": {
  "kernelspec": {
   "display_name": "Python 3 (ipykernel)",
   "language": "python",
   "name": "python3"
  },
  "language_info": {
   "codemirror_mode": {
    "name": "ipython",
    "version": 3
   },
   "file_extension": ".py",
   "mimetype": "text/x-python",
   "name": "python",
   "nbconvert_exporter": "python",
   "pygments_lexer": "ipython3",
   "version": "3.10.13"
  }
 },
 "nbformat": 4,
 "nbformat_minor": 5
}
