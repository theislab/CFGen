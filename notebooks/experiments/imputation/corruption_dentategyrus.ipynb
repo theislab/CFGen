{
 "cells": [
  {
   "cell_type": "code",
   "execution_count": 1,
   "id": "018a40ce-938d-4c3c-ac42-2060392ab8e1",
   "metadata": {},
   "outputs": [],
   "source": [
    "import pandas as pd\n",
    "import numpy as np\n",
    "import scanpy as sc\n",
    "import scvi\n",
    "import torch\n",
    "import scipy.special as sp\n",
    "from tqdm import tqdm\n",
    "import matplotlib.pyplot as plt\n",
    "from scipy.sparse import csr_matrix\n",
    "import scipy.stats\n",
    "import seaborn as sns\n",
    "\n",
    "\n",
    "import matplotlib\n",
    "from matplotlib import rc\n",
    "import matplotlib.pyplot as plt \n",
    "matplotlib.rcdefaults()\n",
    "\n",
    "matplotlib_rc = { \n",
    "    # 'text': {'usetex': True}, \n",
    "    'font': {'family': 'serif'} } # Apply changes for k, v in matplotlib_rc.items(): rc(k, **v)\n",
    "for k, v in matplotlib_rc.items():\n",
    "          rc(k, **v)"
   ]
  },
  {
   "cell_type": "code",
   "execution_count": 2,
   "id": "d4be6c4e-3541-484c-adf7-a2232de2a2ce",
   "metadata": {},
   "outputs": [],
   "source": [
    "def corrupt_dataset(adata):\n",
    "    \"\"\"\n",
    "    Corrupts entries in an AnnData object's matrix with a probability of 0.1%.\n",
    "    \n",
    "    Parameters\n",
    "    ----------\n",
    "    adata : AnnData\n",
    "        The AnnData object whose data matrix (adata.X) will be corrupted.\n",
    "        This works for both dense and sparse matrices.\n",
    "\n",
    "    Returns\n",
    "    -------\n",
    "    None\n",
    "        The function modifies the adata object in place.\n",
    "    \"\"\"\n",
    "    # Only keep highly variable genes\n",
    "    adata = adata[:, adata.var.highly_variable]\n",
    "\n",
    "    # Shape of the dropout Bernoulli matrix \n",
    "    dim = adata.X.shape\n",
    "    \n",
    "    # Generate a mask of the same shape as the data matrix, with 0.1% probability of corruption\n",
    "    np.random.seed(42)\n",
    "    corruption_mask = 1-np.random.binomial(n=1, p=0.1, size=dim).astype(bool)\n",
    "    print(\"Dropped out\", (corruption_mask==0).sum())\n",
    "    print(\"Kept\", (corruption_mask==1).sum())\n",
    "\n",
    "    # Corrupt matrix by multiplying it by the mask \n",
    "    corrupted_mat = adata.layers[\"X_counts\"].A * corruption_mask\n",
    "\n",
    "    adata.layers[\"X_masked\"] = corrupted_mat\n",
    "\n",
    "    adata.uns[\"do_ix\"] = np.where(corruption_mask.ravel()==0)[0]\n",
    "    return adata"
   ]
  },
  {
   "cell_type": "markdown",
   "id": "84d06042-3731-4b11-966c-d1daeb299d67",
   "metadata": {},
   "source": [
    "**Dentategyrus**"
   ]
  },
  {
   "cell_type": "code",
   "execution_count": 3,
   "id": "24db283a-43fb-4df0-9404-2e7c5cde9df2",
   "metadata": {},
   "outputs": [
    {
     "name": "stdout",
     "output_type": "stream",
     "text": [
      "Dropped out 3640271\n",
      "Kept 32785729\n"
     ]
    },
    {
     "name": "stderr",
     "output_type": "stream",
     "text": [
      "/tmp/ipykernel_4154926/42061576.py:31: ImplicitModificationWarning: Setting element `.layers['X_masked']` of view, initializing view as actual.\n",
      "  adata.layers[\"X_masked\"] = corrupted_mat\n"
     ]
    }
   ],
   "source": [
    "dentate = sc.read_h5ad(\"/home/icb/alessandro.palma/environment/cfgen/project_folder/datasets/processed_full_genome/dentategyrus/dentategyrus.h5ad\")\n",
    "dentate = corrupt_dataset(dentate)\n",
    "dentate.layers[\"X_masked\"] = csr_matrix(dentate.layers[\"X_masked\"])\n",
    "dentate.write_h5ad(\"/home/icb/alessandro.palma/environment/cfgen/project_folder/datasets/dropout/dentategyrus.h5ad\")"
   ]
  },
  {
   "cell_type": "markdown",
   "id": "acb48c69-c5e4-4e06-88f1-f3cf0856d5cd",
   "metadata": {},
   "source": [
    "## Train scVI on the masked data "
   ]
  },
  {
   "cell_type": "code",
   "execution_count": 4,
   "id": "2eec1757-a6ac-4d4f-8420-d4a17c5b4db0",
   "metadata": {},
   "outputs": [
    {
     "name": "stderr",
     "output_type": "stream",
     "text": [
      "An NVIDIA GPU may be present on this machine, but a CUDA-enabled jaxlib is not installed. Falling back to cpu.\n",
      "/home/icb/alessandro.palma/miniconda3/envs/celldreamer/lib/python3.10/site-packages/lightning/fabric/plugins/environments/slurm.py:191: The `srun` command is available on your system but is not used. HINT: If your intention is to run Lightning on SLURM, prepend your python command with `srun` like so: srun python /home/icb/alessandro.palma/miniconda3/envs/celldream ...\n",
      "GPU available: True (cuda), used: True\n",
      "TPU available: False, using: 0 TPU cores\n",
      "IPU available: False, using: 0 IPUs\n",
      "HPU available: False, using: 0 HPUs\n",
      "/home/icb/alessandro.palma/miniconda3/envs/celldreamer/lib/python3.10/site-packages/lightning/fabric/plugins/environments/slurm.py:191: The `srun` command is available on your system but is not used. HINT: If your intention is to run Lightning on SLURM, prepend your python command with `srun` like so: srun python /home/icb/alessandro.palma/miniconda3/envs/celldream ...\n",
      "You are using a CUDA device ('NVIDIA A100-PCIE-40GB MIG 3g.20gb') that has Tensor Cores. To properly utilize them, you should set `torch.set_float32_matmul_precision('medium' | 'high')` which will trade-off precision for performance. For more details, read https://pytorch.org/docs/stable/generated/torch.set_float32_matmul_precision.html#torch.set_float32_matmul_precision\n"
     ]
    },
    {
     "name": "stdout",
     "output_type": "stream",
     "text": [
      "Using device: gpu\n"
     ]
    },
    {
     "name": "stderr",
     "output_type": "stream",
     "text": [
      "LOCAL_RANK: 0 - CUDA_VISIBLE_DEVICES: [MIG-7b24ce68-c733-5784-85f3-6336516aaf40]\n",
      "/home/icb/alessandro.palma/miniconda3/envs/celldreamer/lib/python3.10/site-packages/lightning/pytorch/trainer/connectors/data_connector.py:441: The 'train_dataloader' does not have many workers which may be a bottleneck. Consider increasing the value of the `num_workers` argument` to `num_workers=5` in the `DataLoader` to improve performance.\n"
     ]
    },
    {
     "name": "stdout",
     "output_type": "stream",
     "text": [
      "Epoch 100/100: 100%|██████████| 100/100 [02:08<00:00,  1.18s/it, v_num=1, train_loss_step=789, train_loss_epoch=897]  "
     ]
    },
    {
     "name": "stderr",
     "output_type": "stream",
     "text": [
      "`Trainer.fit` stopped: `max_epochs=100` reached.\n"
     ]
    },
    {
     "name": "stdout",
     "output_type": "stream",
     "text": [
      "Epoch 100/100: 100%|██████████| 100/100 [02:08<00:00,  1.29s/it, v_num=1, train_loss_step=789, train_loss_epoch=897]\n"
     ]
    }
   ],
   "source": [
    "# Set up the anndata\n",
    "scvi.model.SCVI.setup_anndata(dentate, \n",
    "                              layer=\"X_masked\",\n",
    "                              categorical_covariate_keys=[\"clusters\"])\n",
    "\n",
    "# SCVI model\n",
    "model = scvi.model.SCVI(dentate, n_layers=3, n_latent=100, gene_likelihood=\"nb\")\n",
    "\n",
    "# Check for CUDA availability and specify device\n",
    "use_cuda = torch.cuda.is_available()\n",
    "device = \"gpu\" if use_cuda else \"cpu\"\n",
    "print(f\"Using device: {device}\")\n",
    "\n",
    "# Train model \n",
    "model.train(max_epochs=100, accelerator=device)"
   ]
  },
  {
   "cell_type": "code",
   "execution_count": 5,
   "id": "6a8d742a-3ba3-4ce8-a29f-1e8a9bf6a636",
   "metadata": {},
   "outputs": [],
   "source": [
    "imputed_counts = model.get_normalized_expression(dentate,\n",
    "                            indices=None,\n",
    "                            transform_batch=None,\n",
    "                            gene_list = None,\n",
    "                            library_size = 1,\n",
    "                            n_samples = 1,\n",
    "                            n_samples_overall = None,\n",
    "                            weights = None,\n",
    "                            batch_size = None,\n",
    "                            return_mean = True,\n",
    "                            return_numpy = None,\n",
    "                            )\n",
    "imputed_counts = imputed_counts.values*dentate.layers[\"X_counts\"].A.sum(1)[:,None]"
   ]
  },
  {
   "cell_type": "markdown",
   "id": "62ea6c03-5a3d-46f8-aeb0-bfa26ec71c35",
   "metadata": {},
   "source": [
    "All expression is normalized to sum to 1"
   ]
  },
  {
   "cell_type": "code",
   "execution_count": 6,
   "id": "a6d3b96b-d4c1-4f75-b663-1b4c74f843e3",
   "metadata": {},
   "outputs": [
    {
     "data": {
      "text/plain": [
       "0.3474057"
      ]
     },
     "execution_count": 6,
     "metadata": {},
     "output_type": "execute_result"
    }
   ],
   "source": [
    "np.mean(np.abs(imputed_counts.ravel()[dentate.uns['do_ix']] - dentate.layers[\"X_counts\"].A.ravel()[dentate.uns['do_ix']]))"
   ]
  },
  {
   "cell_type": "markdown",
   "id": "4bf91d8c-ad01-4616-a1c3-96c3ac440dab",
   "metadata": {},
   "source": [
    "## Train CFGen on the masked data "
   ]
  },
  {
   "cell_type": "code",
   "execution_count": 7,
   "id": "8dd305c2-1e0f-4b11-98a3-484adc1f5bd2",
   "metadata": {},
   "outputs": [],
   "source": [
    "import os\n",
    "from pathlib import Path\n",
    "import uuid\n",
    "import torch\n",
    "from torch.utils.data import random_split\n",
    "from pytorch_lightning import Trainer\n",
    "from pytorch_lightning.callbacks import ModelCheckpoint, EarlyStopping\n",
    "from pytorch_lightning.loggers import WandbLogger\n",
    "from celldreamer.paths import TRAINING_FOLDER\n",
    "from celldreamer.data.scrnaseq_loader import RNAseqLoader\n",
    "from celldreamer.models.featurizers.category_featurizer import CategoricalFeaturizer\n",
    "from celldreamer.models.fm.denoising_model import MLPTimeStep\n",
    "from celldreamer.models.fm.fm import FM\n",
    "from celldreamer.models.base.encoder_model import EncoderModel\n",
    "from celldreamer.models.fm.ode import torch_wrapper\n",
    "from torchdyn.core import NeuralODE"
   ]
  },
  {
   "cell_type": "markdown",
   "id": "4bdff572-b54d-4bbe-9878-c8d0f8f2059f",
   "metadata": {},
   "source": [
    "### Encoder training"
   ]
  },
  {
   "cell_type": "markdown",
   "id": "9861ca8a-37f9-4996-99a4-ca0870030b72",
   "metadata": {},
   "source": [
    "Initialize dataloader "
   ]
  },
  {
   "cell_type": "code",
   "execution_count": 8,
   "id": "8dc5630e-eb16-42b8-8f48-3e5dd608845a",
   "metadata": {},
   "outputs": [],
   "source": [
    "data_path = \"/home/icb/alessandro.palma/environment/cfgen/project_folder/datasets/dropout/dentategyrus.h5ad\""
   ]
  },
  {
   "cell_type": "markdown",
   "id": "c418859e-d756-4b34-8e0f-bc22a6451b0a",
   "metadata": {},
   "source": [
    "All masked values are indeed 0"
   ]
  },
  {
   "cell_type": "code",
   "execution_count": 9,
   "id": "588d97d0-4254-4763-be2d-81a5c1b50d43",
   "metadata": {},
   "outputs": [
    {
     "name": "stdout",
     "output_type": "stream",
     "text": [
      "[0. 0. 0. ... 0. 1. 0.]\n",
      "[0. 0. 0. ... 0. 0. 0.]\n"
     ]
    }
   ],
   "source": [
    "print(dentate.layers[\"X_counts\"].A.ravel()[dentate.uns[\"do_ix\"].ravel()])\n",
    "print(dentate.layers[\"X_masked\"].A.ravel()[dentate.uns[\"do_ix\"].ravel()])"
   ]
  },
  {
   "cell_type": "code",
   "execution_count": 10,
   "id": "515a45ca-6d83-4ace-af10-7bea55a6dfac",
   "metadata": {},
   "outputs": [
    {
     "name": "stderr",
     "output_type": "stream",
     "text": [
      "/home/icb/alessandro.palma/miniconda3/envs/celldreamer/lib/python3.10/site-packages/anndata/__init__.py:51: FutureWarning: `anndata.read` is deprecated, use `anndata.read_h5ad` instead. `ad.read` will be removed in mid 2024.\n",
      "  warnings.warn(\n"
     ]
    }
   ],
   "source": [
    "# Initialize dataloaders for the different tasks \n",
    "dataset = RNAseqLoader(data_path=data_path,\n",
    "                        layer_key=\"X_masked\",               # Corresponding to config 'layer_key'\n",
    "                        covariate_keys=[\"clusters\"],        # Corresponding to config 'covariate_keys'\n",
    "                        subsample_frac=1,                   # Corresponding to config 'subsample_frac'\n",
    "                        encoder_type=\"learnt_autoencoder\",  # Corresponding to config 'encoder_type'\n",
    "                        multimodal=False,                   # Corresponding to config 'multimodal'\n",
    "                        is_binarized=False                  # Corresponding to config 'is_binarized'\n",
    "                    )"
   ]
  },
  {
   "cell_type": "code",
   "execution_count": 11,
   "id": "dfcbad70-6868-4efe-bbcf-c78b05665b28",
   "metadata": {},
   "outputs": [],
   "source": [
    "dataloader = torch.utils.data.DataLoader(dataset,\n",
    "                                        batch_size=256,\n",
    "                                        shuffle=True,\n",
    "                                        num_workers=4, \n",
    "                                        drop_last=True)\n",
    "gene_dim = dataset.X.shape[1] "
   ]
  },
  {
   "cell_type": "markdown",
   "id": "b9ba539e-04be-4830-8383-50735c8f5635",
   "metadata": {},
   "source": [
    "Initialize encoder"
   ]
  },
  {
   "cell_type": "code",
   "execution_count": 12,
   "id": "a857ffe7-cb7b-4c22-92ac-bf9d63ffb5ca",
   "metadata": {},
   "outputs": [],
   "source": [
    "encoder_model = EncoderModel(\n",
    "    in_dim=gene_dim,\n",
    "    n_cat=None,\n",
    "    conditioning_covariate=\"clusters\",   # From the first config file\n",
    "    encoder_type=\"learnt_autoencoder\",   # From the first config file\n",
    "    x0_from_x_kwargs = {\n",
    "        \"dims\":[512, 256, 100],                # From x0_from_x_kwargs.dims\n",
    "        \"batch_norm\":True,                     # From x0_from_x_kwargs.batch_norm\n",
    "        \"dropout\":False,                       # From x0_from_x_kwargs.dropout\n",
    "        \"dropout_p\":0.0},                       # From x0_from_x_kwargs.dropout_p\n",
    "    learning_rate=0.001,                 # From yaml learning_rate\n",
    "    weight_decay=0.00001,                # From yaml weight_decay\n",
    "    covariate_specific_theta=False,      # From yaml covariate_specific_theta\n",
    "    multimodal=False,                    # From yaml multimodal\n",
    "    is_binarized=False                   # From yaml is_binarized\n",
    ")"
   ]
  },
  {
   "cell_type": "code",
   "execution_count": 13,
   "id": "4a88b36b-8751-419c-a6d1-a444bed8cdd2",
   "metadata": {},
   "outputs": [
    {
     "name": "stderr",
     "output_type": "stream",
     "text": [
      "/home/icb/alessandro.palma/miniconda3/envs/celldreamer/lib/python3.10/site-packages/lightning_fabric/plugins/environments/slurm.py:204: The `srun` command is available on your system but is not used. HINT: If your intention is to run Lightning on SLURM, prepend your python command with `srun` like so: srun python /home/icb/alessandro.palma/miniconda3/envs/celldream ...\n",
      "GPU available: True (cuda), used: True\n",
      "TPU available: False, using: 0 TPU cores\n",
      "HPU available: False, using: 0 HPUs\n",
      "/home/icb/alessandro.palma/miniconda3/envs/celldreamer/lib/python3.10/site-packages/pytorch_lightning/trainer/connectors/logger_connector/logger_connector.py:75: Starting from v1.9.0, `tensorboardX` has been removed as a dependency of the `pytorch_lightning` package, due to potential conflicts with other packages in the ML ecosystem. For this reason, `logger=True` will use `CSVLogger` as the default logger, unless the `tensorboard` or `tensorboardX` packages are found. Please `pip install lightning[extra]` or one of them to enable TensorBoard support by default\n"
     ]
    }
   ],
   "source": [
    "trainer_generative = Trainer(max_epochs=100)"
   ]
  },
  {
   "cell_type": "code",
   "execution_count": 14,
   "id": "36bbefcb-2e0c-41ab-80f4-5abe55c7f5f2",
   "metadata": {
    "scrolled": true
   },
   "outputs": [
    {
     "name": "stderr",
     "output_type": "stream",
     "text": [
      "You are using a CUDA device ('NVIDIA A100-PCIE-40GB MIG 3g.20gb') that has Tensor Cores. To properly utilize them, you should set `torch.set_float32_matmul_precision('medium' | 'high')` which will trade-off precision for performance. For more details, read https://pytorch.org/docs/stable/generated/torch.set_float32_matmul_precision.html#torch.set_float32_matmul_precision\n",
      "LOCAL_RANK: 0 - CUDA_VISIBLE_DEVICES: [MIG-7b24ce68-c733-5784-85f3-6336516aaf40]\n",
      "\n",
      "  | Name         | Type | Params | Mode \n",
      "----------------------------------------------\n",
      "0 | x0_from_x    | MLP  | 1.2 M  | train\n",
      "1 | x_from_x0    | MLP  | 1.2 M  | train\n",
      "  | other params | n/a  | 2.0 K  | n/a  \n",
      "----------------------------------------------\n",
      "2.4 M     Trainable params\n",
      "0         Non-trainable params\n",
      "2.4 M     Total params\n",
      "9.480     Total estimated model params size (MB)\n"
     ]
    },
    {
     "data": {
      "application/vnd.jupyter.widget-view+json": {
       "model_id": "",
       "version_major": 2,
       "version_minor": 0
      },
      "text/plain": [
       "Sanity Checking: |          | 0/? [00:00<?, ?it/s]"
      ]
     },
     "metadata": {},
     "output_type": "display_data"
    },
    {
     "name": "stderr",
     "output_type": "stream",
     "text": [
      "/home/icb/alessandro.palma/miniconda3/envs/celldreamer/lib/python3.10/site-packages/pytorch_lightning/trainer/connectors/data_connector.py:475: Your `val_dataloader`'s sampler has shuffling enabled, it is strongly recommended that you turn shuffling off for val/test dataloaders.\n"
     ]
    },
    {
     "data": {
      "application/vnd.jupyter.widget-view+json": {
       "model_id": "6a3750ab3a0d45b3b5dd6053b05e927b",
       "version_major": 2,
       "version_minor": 0
      },
      "text/plain": [
       "Training: |          | 0/? [00:00<?, ?it/s]"
      ]
     },
     "metadata": {},
     "output_type": "display_data"
    },
    {
     "data": {
      "application/vnd.jupyter.widget-view+json": {
       "model_id": "",
       "version_major": 2,
       "version_minor": 0
      },
      "text/plain": [
       "Validation: |          | 0/? [00:00<?, ?it/s]"
      ]
     },
     "metadata": {},
     "output_type": "display_data"
    },
    {
     "data": {
      "application/vnd.jupyter.widget-view+json": {
       "model_id": "",
       "version_major": 2,
       "version_minor": 0
      },
      "text/plain": [
       "Validation: |          | 0/? [00:00<?, ?it/s]"
      ]
     },
     "metadata": {},
     "output_type": "display_data"
    },
    {
     "data": {
      "application/vnd.jupyter.widget-view+json": {
       "model_id": "",
       "version_major": 2,
       "version_minor": 0
      },
      "text/plain": [
       "Validation: |          | 0/? [00:00<?, ?it/s]"
      ]
     },
     "metadata": {},
     "output_type": "display_data"
    },
    {
     "data": {
      "application/vnd.jupyter.widget-view+json": {
       "model_id": "",
       "version_major": 2,
       "version_minor": 0
      },
      "text/plain": [
       "Validation: |          | 0/? [00:00<?, ?it/s]"
      ]
     },
     "metadata": {},
     "output_type": "display_data"
    },
    {
     "data": {
      "application/vnd.jupyter.widget-view+json": {
       "model_id": "",
       "version_major": 2,
       "version_minor": 0
      },
      "text/plain": [
       "Validation: |          | 0/? [00:00<?, ?it/s]"
      ]
     },
     "metadata": {},
     "output_type": "display_data"
    },
    {
     "data": {
      "application/vnd.jupyter.widget-view+json": {
       "model_id": "",
       "version_major": 2,
       "version_minor": 0
      },
      "text/plain": [
       "Validation: |          | 0/? [00:00<?, ?it/s]"
      ]
     },
     "metadata": {},
     "output_type": "display_data"
    },
    {
     "data": {
      "application/vnd.jupyter.widget-view+json": {
       "model_id": "",
       "version_major": 2,
       "version_minor": 0
      },
      "text/plain": [
       "Validation: |          | 0/? [00:00<?, ?it/s]"
      ]
     },
     "metadata": {},
     "output_type": "display_data"
    },
    {
     "data": {
      "application/vnd.jupyter.widget-view+json": {
       "model_id": "",
       "version_major": 2,
       "version_minor": 0
      },
      "text/plain": [
       "Validation: |          | 0/? [00:00<?, ?it/s]"
      ]
     },
     "metadata": {},
     "output_type": "display_data"
    },
    {
     "data": {
      "application/vnd.jupyter.widget-view+json": {
       "model_id": "",
       "version_major": 2,
       "version_minor": 0
      },
      "text/plain": [
       "Validation: |          | 0/? [00:00<?, ?it/s]"
      ]
     },
     "metadata": {},
     "output_type": "display_data"
    },
    {
     "data": {
      "application/vnd.jupyter.widget-view+json": {
       "model_id": "",
       "version_major": 2,
       "version_minor": 0
      },
      "text/plain": [
       "Validation: |          | 0/? [00:00<?, ?it/s]"
      ]
     },
     "metadata": {},
     "output_type": "display_data"
    },
    {
     "data": {
      "application/vnd.jupyter.widget-view+json": {
       "model_id": "",
       "version_major": 2,
       "version_minor": 0
      },
      "text/plain": [
       "Validation: |          | 0/? [00:00<?, ?it/s]"
      ]
     },
     "metadata": {},
     "output_type": "display_data"
    },
    {
     "data": {
      "application/vnd.jupyter.widget-view+json": {
       "model_id": "",
       "version_major": 2,
       "version_minor": 0
      },
      "text/plain": [
       "Validation: |          | 0/? [00:00<?, ?it/s]"
      ]
     },
     "metadata": {},
     "output_type": "display_data"
    },
    {
     "data": {
      "application/vnd.jupyter.widget-view+json": {
       "model_id": "",
       "version_major": 2,
       "version_minor": 0
      },
      "text/plain": [
       "Validation: |          | 0/? [00:00<?, ?it/s]"
      ]
     },
     "metadata": {},
     "output_type": "display_data"
    },
    {
     "data": {
      "application/vnd.jupyter.widget-view+json": {
       "model_id": "",
       "version_major": 2,
       "version_minor": 0
      },
      "text/plain": [
       "Validation: |          | 0/? [00:00<?, ?it/s]"
      ]
     },
     "metadata": {},
     "output_type": "display_data"
    },
    {
     "data": {
      "application/vnd.jupyter.widget-view+json": {
       "model_id": "",
       "version_major": 2,
       "version_minor": 0
      },
      "text/plain": [
       "Validation: |          | 0/? [00:00<?, ?it/s]"
      ]
     },
     "metadata": {},
     "output_type": "display_data"
    },
    {
     "data": {
      "application/vnd.jupyter.widget-view+json": {
       "model_id": "",
       "version_major": 2,
       "version_minor": 0
      },
      "text/plain": [
       "Validation: |          | 0/? [00:00<?, ?it/s]"
      ]
     },
     "metadata": {},
     "output_type": "display_data"
    },
    {
     "data": {
      "application/vnd.jupyter.widget-view+json": {
       "model_id": "",
       "version_major": 2,
       "version_minor": 0
      },
      "text/plain": [
       "Validation: |          | 0/? [00:00<?, ?it/s]"
      ]
     },
     "metadata": {},
     "output_type": "display_data"
    },
    {
     "data": {
      "application/vnd.jupyter.widget-view+json": {
       "model_id": "",
       "version_major": 2,
       "version_minor": 0
      },
      "text/plain": [
       "Validation: |          | 0/? [00:00<?, ?it/s]"
      ]
     },
     "metadata": {},
     "output_type": "display_data"
    },
    {
     "data": {
      "application/vnd.jupyter.widget-view+json": {
       "model_id": "",
       "version_major": 2,
       "version_minor": 0
      },
      "text/plain": [
       "Validation: |          | 0/? [00:00<?, ?it/s]"
      ]
     },
     "metadata": {},
     "output_type": "display_data"
    },
    {
     "data": {
      "application/vnd.jupyter.widget-view+json": {
       "model_id": "",
       "version_major": 2,
       "version_minor": 0
      },
      "text/plain": [
       "Validation: |          | 0/? [00:00<?, ?it/s]"
      ]
     },
     "metadata": {},
     "output_type": "display_data"
    },
    {
     "data": {
      "application/vnd.jupyter.widget-view+json": {
       "model_id": "",
       "version_major": 2,
       "version_minor": 0
      },
      "text/plain": [
       "Validation: |          | 0/? [00:00<?, ?it/s]"
      ]
     },
     "metadata": {},
     "output_type": "display_data"
    },
    {
     "data": {
      "application/vnd.jupyter.widget-view+json": {
       "model_id": "",
       "version_major": 2,
       "version_minor": 0
      },
      "text/plain": [
       "Validation: |          | 0/? [00:00<?, ?it/s]"
      ]
     },
     "metadata": {},
     "output_type": "display_data"
    },
    {
     "data": {
      "application/vnd.jupyter.widget-view+json": {
       "model_id": "",
       "version_major": 2,
       "version_minor": 0
      },
      "text/plain": [
       "Validation: |          | 0/? [00:00<?, ?it/s]"
      ]
     },
     "metadata": {},
     "output_type": "display_data"
    },
    {
     "data": {
      "application/vnd.jupyter.widget-view+json": {
       "model_id": "",
       "version_major": 2,
       "version_minor": 0
      },
      "text/plain": [
       "Validation: |          | 0/? [00:00<?, ?it/s]"
      ]
     },
     "metadata": {},
     "output_type": "display_data"
    },
    {
     "data": {
      "application/vnd.jupyter.widget-view+json": {
       "model_id": "",
       "version_major": 2,
       "version_minor": 0
      },
      "text/plain": [
       "Validation: |          | 0/? [00:00<?, ?it/s]"
      ]
     },
     "metadata": {},
     "output_type": "display_data"
    },
    {
     "data": {
      "application/vnd.jupyter.widget-view+json": {
       "model_id": "",
       "version_major": 2,
       "version_minor": 0
      },
      "text/plain": [
       "Validation: |          | 0/? [00:00<?, ?it/s]"
      ]
     },
     "metadata": {},
     "output_type": "display_data"
    },
    {
     "data": {
      "application/vnd.jupyter.widget-view+json": {
       "model_id": "",
       "version_major": 2,
       "version_minor": 0
      },
      "text/plain": [
       "Validation: |          | 0/? [00:00<?, ?it/s]"
      ]
     },
     "metadata": {},
     "output_type": "display_data"
    },
    {
     "data": {
      "application/vnd.jupyter.widget-view+json": {
       "model_id": "",
       "version_major": 2,
       "version_minor": 0
      },
      "text/plain": [
       "Validation: |          | 0/? [00:00<?, ?it/s]"
      ]
     },
     "metadata": {},
     "output_type": "display_data"
    },
    {
     "data": {
      "application/vnd.jupyter.widget-view+json": {
       "model_id": "",
       "version_major": 2,
       "version_minor": 0
      },
      "text/plain": [
       "Validation: |          | 0/? [00:00<?, ?it/s]"
      ]
     },
     "metadata": {},
     "output_type": "display_data"
    },
    {
     "data": {
      "application/vnd.jupyter.widget-view+json": {
       "model_id": "",
       "version_major": 2,
       "version_minor": 0
      },
      "text/plain": [
       "Validation: |          | 0/? [00:00<?, ?it/s]"
      ]
     },
     "metadata": {},
     "output_type": "display_data"
    },
    {
     "data": {
      "application/vnd.jupyter.widget-view+json": {
       "model_id": "",
       "version_major": 2,
       "version_minor": 0
      },
      "text/plain": [
       "Validation: |          | 0/? [00:00<?, ?it/s]"
      ]
     },
     "metadata": {},
     "output_type": "display_data"
    },
    {
     "data": {
      "application/vnd.jupyter.widget-view+json": {
       "model_id": "",
       "version_major": 2,
       "version_minor": 0
      },
      "text/plain": [
       "Validation: |          | 0/? [00:00<?, ?it/s]"
      ]
     },
     "metadata": {},
     "output_type": "display_data"
    },
    {
     "data": {
      "application/vnd.jupyter.widget-view+json": {
       "model_id": "",
       "version_major": 2,
       "version_minor": 0
      },
      "text/plain": [
       "Validation: |          | 0/? [00:00<?, ?it/s]"
      ]
     },
     "metadata": {},
     "output_type": "display_data"
    },
    {
     "data": {
      "application/vnd.jupyter.widget-view+json": {
       "model_id": "",
       "version_major": 2,
       "version_minor": 0
      },
      "text/plain": [
       "Validation: |          | 0/? [00:00<?, ?it/s]"
      ]
     },
     "metadata": {},
     "output_type": "display_data"
    },
    {
     "data": {
      "application/vnd.jupyter.widget-view+json": {
       "model_id": "",
       "version_major": 2,
       "version_minor": 0
      },
      "text/plain": [
       "Validation: |          | 0/? [00:00<?, ?it/s]"
      ]
     },
     "metadata": {},
     "output_type": "display_data"
    },
    {
     "data": {
      "application/vnd.jupyter.widget-view+json": {
       "model_id": "",
       "version_major": 2,
       "version_minor": 0
      },
      "text/plain": [
       "Validation: |          | 0/? [00:00<?, ?it/s]"
      ]
     },
     "metadata": {},
     "output_type": "display_data"
    },
    {
     "data": {
      "application/vnd.jupyter.widget-view+json": {
       "model_id": "",
       "version_major": 2,
       "version_minor": 0
      },
      "text/plain": [
       "Validation: |          | 0/? [00:00<?, ?it/s]"
      ]
     },
     "metadata": {},
     "output_type": "display_data"
    },
    {
     "data": {
      "application/vnd.jupyter.widget-view+json": {
       "model_id": "",
       "version_major": 2,
       "version_minor": 0
      },
      "text/plain": [
       "Validation: |          | 0/? [00:00<?, ?it/s]"
      ]
     },
     "metadata": {},
     "output_type": "display_data"
    },
    {
     "data": {
      "application/vnd.jupyter.widget-view+json": {
       "model_id": "",
       "version_major": 2,
       "version_minor": 0
      },
      "text/plain": [
       "Validation: |          | 0/? [00:00<?, ?it/s]"
      ]
     },
     "metadata": {},
     "output_type": "display_data"
    },
    {
     "data": {
      "application/vnd.jupyter.widget-view+json": {
       "model_id": "",
       "version_major": 2,
       "version_minor": 0
      },
      "text/plain": [
       "Validation: |          | 0/? [00:00<?, ?it/s]"
      ]
     },
     "metadata": {},
     "output_type": "display_data"
    },
    {
     "data": {
      "application/vnd.jupyter.widget-view+json": {
       "model_id": "",
       "version_major": 2,
       "version_minor": 0
      },
      "text/plain": [
       "Validation: |          | 0/? [00:00<?, ?it/s]"
      ]
     },
     "metadata": {},
     "output_type": "display_data"
    },
    {
     "data": {
      "application/vnd.jupyter.widget-view+json": {
       "model_id": "",
       "version_major": 2,
       "version_minor": 0
      },
      "text/plain": [
       "Validation: |          | 0/? [00:00<?, ?it/s]"
      ]
     },
     "metadata": {},
     "output_type": "display_data"
    },
    {
     "data": {
      "application/vnd.jupyter.widget-view+json": {
       "model_id": "",
       "version_major": 2,
       "version_minor": 0
      },
      "text/plain": [
       "Validation: |          | 0/? [00:00<?, ?it/s]"
      ]
     },
     "metadata": {},
     "output_type": "display_data"
    },
    {
     "data": {
      "application/vnd.jupyter.widget-view+json": {
       "model_id": "",
       "version_major": 2,
       "version_minor": 0
      },
      "text/plain": [
       "Validation: |          | 0/? [00:00<?, ?it/s]"
      ]
     },
     "metadata": {},
     "output_type": "display_data"
    },
    {
     "data": {
      "application/vnd.jupyter.widget-view+json": {
       "model_id": "",
       "version_major": 2,
       "version_minor": 0
      },
      "text/plain": [
       "Validation: |          | 0/? [00:00<?, ?it/s]"
      ]
     },
     "metadata": {},
     "output_type": "display_data"
    },
    {
     "data": {
      "application/vnd.jupyter.widget-view+json": {
       "model_id": "",
       "version_major": 2,
       "version_minor": 0
      },
      "text/plain": [
       "Validation: |          | 0/? [00:00<?, ?it/s]"
      ]
     },
     "metadata": {},
     "output_type": "display_data"
    },
    {
     "data": {
      "application/vnd.jupyter.widget-view+json": {
       "model_id": "118fdfdb107b406a8007b6ebb1a8792a",
       "version_major": 2,
       "version_minor": 0
      },
      "text/plain": [
       "Validation: |          | 0/? [00:00<?, ?it/s]"
      ]
     },
     "metadata": {},
     "output_type": "display_data"
    },
    {
     "data": {
      "application/vnd.jupyter.widget-view+json": {
       "model_id": "fa437b896933427f85a038bfe71a61ea",
       "version_major": 2,
       "version_minor": 0
      },
      "text/plain": [
       "Validation: |          | 0/? [00:00<?, ?it/s]"
      ]
     },
     "metadata": {},
     "output_type": "display_data"
    },
    {
     "data": {
      "application/vnd.jupyter.widget-view+json": {
       "model_id": "12c15940974641358d580de5108ae5ad",
       "version_major": 2,
       "version_minor": 0
      },
      "text/plain": [
       "Validation: |          | 0/? [00:00<?, ?it/s]"
      ]
     },
     "metadata": {},
     "output_type": "display_data"
    },
    {
     "data": {
      "application/vnd.jupyter.widget-view+json": {
       "model_id": "6ab49a0bbda94914bc3ff342c7a0c821",
       "version_major": 2,
       "version_minor": 0
      },
      "text/plain": [
       "Validation: |          | 0/? [00:00<?, ?it/s]"
      ]
     },
     "metadata": {},
     "output_type": "display_data"
    },
    {
     "data": {
      "application/vnd.jupyter.widget-view+json": {
       "model_id": "5286a0ef4d79465e9bc48e45aa427123",
       "version_major": 2,
       "version_minor": 0
      },
      "text/plain": [
       "Validation: |          | 0/? [00:00<?, ?it/s]"
      ]
     },
     "metadata": {},
     "output_type": "display_data"
    },
    {
     "data": {
      "application/vnd.jupyter.widget-view+json": {
       "model_id": "c7a6799b87c74862b5f4d8c886681b77",
       "version_major": 2,
       "version_minor": 0
      },
      "text/plain": [
       "Validation: |          | 0/? [00:00<?, ?it/s]"
      ]
     },
     "metadata": {},
     "output_type": "display_data"
    },
    {
     "data": {
      "application/vnd.jupyter.widget-view+json": {
       "model_id": "3f05c5cb2d624f4abbad5fba5bf142be",
       "version_major": 2,
       "version_minor": 0
      },
      "text/plain": [
       "Validation: |          | 0/? [00:00<?, ?it/s]"
      ]
     },
     "metadata": {},
     "output_type": "display_data"
    },
    {
     "data": {
      "application/vnd.jupyter.widget-view+json": {
       "model_id": "50370362081c4eab8a509cd856aa14d8",
       "version_major": 2,
       "version_minor": 0
      },
      "text/plain": [
       "Validation: |          | 0/? [00:00<?, ?it/s]"
      ]
     },
     "metadata": {},
     "output_type": "display_data"
    },
    {
     "data": {
      "application/vnd.jupyter.widget-view+json": {
       "model_id": "4f81e768fd004e9da0b2b3993a5c5e41",
       "version_major": 2,
       "version_minor": 0
      },
      "text/plain": [
       "Validation: |          | 0/? [00:00<?, ?it/s]"
      ]
     },
     "metadata": {},
     "output_type": "display_data"
    },
    {
     "data": {
      "application/vnd.jupyter.widget-view+json": {
       "model_id": "a9dd0f1b2e004cab8c91d1bfbd9171a7",
       "version_major": 2,
       "version_minor": 0
      },
      "text/plain": [
       "Validation: |          | 0/? [00:00<?, ?it/s]"
      ]
     },
     "metadata": {},
     "output_type": "display_data"
    },
    {
     "data": {
      "application/vnd.jupyter.widget-view+json": {
       "model_id": "27e5683c96e040889e94105e08e688a1",
       "version_major": 2,
       "version_minor": 0
      },
      "text/plain": [
       "Validation: |          | 0/? [00:00<?, ?it/s]"
      ]
     },
     "metadata": {},
     "output_type": "display_data"
    },
    {
     "data": {
      "application/vnd.jupyter.widget-view+json": {
       "model_id": "63cd42c897b94d17a9ee55a646c1dda8",
       "version_major": 2,
       "version_minor": 0
      },
      "text/plain": [
       "Validation: |          | 0/? [00:00<?, ?it/s]"
      ]
     },
     "metadata": {},
     "output_type": "display_data"
    },
    {
     "data": {
      "application/vnd.jupyter.widget-view+json": {
       "model_id": "bb1791de20b742928e4502d4ecbfb2ef",
       "version_major": 2,
       "version_minor": 0
      },
      "text/plain": [
       "Validation: |          | 0/? [00:00<?, ?it/s]"
      ]
     },
     "metadata": {},
     "output_type": "display_data"
    },
    {
     "data": {
      "application/vnd.jupyter.widget-view+json": {
       "model_id": "5804d96e9b4a48bf8f374dcbcaf01060",
       "version_major": 2,
       "version_minor": 0
      },
      "text/plain": [
       "Validation: |          | 0/? [00:00<?, ?it/s]"
      ]
     },
     "metadata": {},
     "output_type": "display_data"
    },
    {
     "data": {
      "application/vnd.jupyter.widget-view+json": {
       "model_id": "c0b422d52fe14570bf14976e81cb9e29",
       "version_major": 2,
       "version_minor": 0
      },
      "text/plain": [
       "Validation: |          | 0/? [00:00<?, ?it/s]"
      ]
     },
     "metadata": {},
     "output_type": "display_data"
    },
    {
     "data": {
      "application/vnd.jupyter.widget-view+json": {
       "model_id": "245d147be42245d19cdc6619a64fbcc8",
       "version_major": 2,
       "version_minor": 0
      },
      "text/plain": [
       "Validation: |          | 0/? [00:00<?, ?it/s]"
      ]
     },
     "metadata": {},
     "output_type": "display_data"
    },
    {
     "data": {
      "application/vnd.jupyter.widget-view+json": {
       "model_id": "aa75f4fe830d4e45a7f53768bf4f09c0",
       "version_major": 2,
       "version_minor": 0
      },
      "text/plain": [
       "Validation: |          | 0/? [00:00<?, ?it/s]"
      ]
     },
     "metadata": {},
     "output_type": "display_data"
    },
    {
     "data": {
      "application/vnd.jupyter.widget-view+json": {
       "model_id": "f8f70362932e4f3297ee4ded2421f3b7",
       "version_major": 2,
       "version_minor": 0
      },
      "text/plain": [
       "Validation: |          | 0/? [00:00<?, ?it/s]"
      ]
     },
     "metadata": {},
     "output_type": "display_data"
    },
    {
     "data": {
      "application/vnd.jupyter.widget-view+json": {
       "model_id": "7778bd6428024150adc2b45402461b4d",
       "version_major": 2,
       "version_minor": 0
      },
      "text/plain": [
       "Validation: |          | 0/? [00:00<?, ?it/s]"
      ]
     },
     "metadata": {},
     "output_type": "display_data"
    },
    {
     "data": {
      "application/vnd.jupyter.widget-view+json": {
       "model_id": "3f01261db8034eab8533c531d5903090",
       "version_major": 2,
       "version_minor": 0
      },
      "text/plain": [
       "Validation: |          | 0/? [00:00<?, ?it/s]"
      ]
     },
     "metadata": {},
     "output_type": "display_data"
    },
    {
     "data": {
      "application/vnd.jupyter.widget-view+json": {
       "model_id": "81a31fe24b75447c8480f032d72d0959",
       "version_major": 2,
       "version_minor": 0
      },
      "text/plain": [
       "Validation: |          | 0/? [00:00<?, ?it/s]"
      ]
     },
     "metadata": {},
     "output_type": "display_data"
    },
    {
     "data": {
      "application/vnd.jupyter.widget-view+json": {
       "model_id": "d80efdf289c849af99cccc03fc917eea",
       "version_major": 2,
       "version_minor": 0
      },
      "text/plain": [
       "Validation: |          | 0/? [00:00<?, ?it/s]"
      ]
     },
     "metadata": {},
     "output_type": "display_data"
    },
    {
     "data": {
      "application/vnd.jupyter.widget-view+json": {
       "model_id": "a2bec5979e0b4772ae18bb5651b06484",
       "version_major": 2,
       "version_minor": 0
      },
      "text/plain": [
       "Validation: |          | 0/? [00:00<?, ?it/s]"
      ]
     },
     "metadata": {},
     "output_type": "display_data"
    },
    {
     "data": {
      "application/vnd.jupyter.widget-view+json": {
       "model_id": "e8a03feb81a841eb8d404acc87a26b2c",
       "version_major": 2,
       "version_minor": 0
      },
      "text/plain": [
       "Validation: |          | 0/? [00:00<?, ?it/s]"
      ]
     },
     "metadata": {},
     "output_type": "display_data"
    },
    {
     "data": {
      "application/vnd.jupyter.widget-view+json": {
       "model_id": "0750fdbb22174bbaa303cd91c984d275",
       "version_major": 2,
       "version_minor": 0
      },
      "text/plain": [
       "Validation: |          | 0/? [00:00<?, ?it/s]"
      ]
     },
     "metadata": {},
     "output_type": "display_data"
    },
    {
     "data": {
      "application/vnd.jupyter.widget-view+json": {
       "model_id": "a608826e2b824a4182e805badecbe043",
       "version_major": 2,
       "version_minor": 0
      },
      "text/plain": [
       "Validation: |          | 0/? [00:00<?, ?it/s]"
      ]
     },
     "metadata": {},
     "output_type": "display_data"
    },
    {
     "data": {
      "application/vnd.jupyter.widget-view+json": {
       "model_id": "ee7d405d24aa49e98ab01dee7390a75d",
       "version_major": 2,
       "version_minor": 0
      },
      "text/plain": [
       "Validation: |          | 0/? [00:00<?, ?it/s]"
      ]
     },
     "metadata": {},
     "output_type": "display_data"
    },
    {
     "data": {
      "application/vnd.jupyter.widget-view+json": {
       "model_id": "83b1d706b4f547e3b316909e8c856656",
       "version_major": 2,
       "version_minor": 0
      },
      "text/plain": [
       "Validation: |          | 0/? [00:00<?, ?it/s]"
      ]
     },
     "metadata": {},
     "output_type": "display_data"
    },
    {
     "data": {
      "application/vnd.jupyter.widget-view+json": {
       "model_id": "f5e9c509275b402fb9fcb9b2fdea1aa9",
       "version_major": 2,
       "version_minor": 0
      },
      "text/plain": [
       "Validation: |          | 0/? [00:00<?, ?it/s]"
      ]
     },
     "metadata": {},
     "output_type": "display_data"
    },
    {
     "data": {
      "application/vnd.jupyter.widget-view+json": {
       "model_id": "747509c6366b4826a609568d34a3f551",
       "version_major": 2,
       "version_minor": 0
      },
      "text/plain": [
       "Validation: |          | 0/? [00:00<?, ?it/s]"
      ]
     },
     "metadata": {},
     "output_type": "display_data"
    },
    {
     "data": {
      "application/vnd.jupyter.widget-view+json": {
       "model_id": "4217dbed179f4575b2f2411d856c399f",
       "version_major": 2,
       "version_minor": 0
      },
      "text/plain": [
       "Validation: |          | 0/? [00:00<?, ?it/s]"
      ]
     },
     "metadata": {},
     "output_type": "display_data"
    },
    {
     "data": {
      "application/vnd.jupyter.widget-view+json": {
       "model_id": "13eff7a3cfbc4a88986f175e6e921d59",
       "version_major": 2,
       "version_minor": 0
      },
      "text/plain": [
       "Validation: |          | 0/? [00:00<?, ?it/s]"
      ]
     },
     "metadata": {},
     "output_type": "display_data"
    },
    {
     "data": {
      "application/vnd.jupyter.widget-view+json": {
       "model_id": "6ae00823adea42a8a957cc5a98e67046",
       "version_major": 2,
       "version_minor": 0
      },
      "text/plain": [
       "Validation: |          | 0/? [00:00<?, ?it/s]"
      ]
     },
     "metadata": {},
     "output_type": "display_data"
    },
    {
     "data": {
      "application/vnd.jupyter.widget-view+json": {
       "model_id": "7461d58f1d0d42458d0364aa1a244e36",
       "version_major": 2,
       "version_minor": 0
      },
      "text/plain": [
       "Validation: |          | 0/? [00:00<?, ?it/s]"
      ]
     },
     "metadata": {},
     "output_type": "display_data"
    },
    {
     "data": {
      "application/vnd.jupyter.widget-view+json": {
       "model_id": "4e84c4621c554b3cbb01be4b302526ea",
       "version_major": 2,
       "version_minor": 0
      },
      "text/plain": [
       "Validation: |          | 0/? [00:00<?, ?it/s]"
      ]
     },
     "metadata": {},
     "output_type": "display_data"
    },
    {
     "data": {
      "application/vnd.jupyter.widget-view+json": {
       "model_id": "7853dcde0fcb4ff6ad7996b207d561e2",
       "version_major": 2,
       "version_minor": 0
      },
      "text/plain": [
       "Validation: |          | 0/? [00:00<?, ?it/s]"
      ]
     },
     "metadata": {},
     "output_type": "display_data"
    },
    {
     "data": {
      "application/vnd.jupyter.widget-view+json": {
       "model_id": "04d2a22ace0541c088536a0d9bc74841",
       "version_major": 2,
       "version_minor": 0
      },
      "text/plain": [
       "Validation: |          | 0/? [00:00<?, ?it/s]"
      ]
     },
     "metadata": {},
     "output_type": "display_data"
    },
    {
     "data": {
      "application/vnd.jupyter.widget-view+json": {
       "model_id": "c6a6c211071b435d90171ad2c50bba59",
       "version_major": 2,
       "version_minor": 0
      },
      "text/plain": [
       "Validation: |          | 0/? [00:00<?, ?it/s]"
      ]
     },
     "metadata": {},
     "output_type": "display_data"
    },
    {
     "data": {
      "application/vnd.jupyter.widget-view+json": {
       "model_id": "795f5540e5de42b596e2ef176c861212",
       "version_major": 2,
       "version_minor": 0
      },
      "text/plain": [
       "Validation: |          | 0/? [00:00<?, ?it/s]"
      ]
     },
     "metadata": {},
     "output_type": "display_data"
    },
    {
     "data": {
      "application/vnd.jupyter.widget-view+json": {
       "model_id": "edb48006759a4d00b78c11a206bcab0a",
       "version_major": 2,
       "version_minor": 0
      },
      "text/plain": [
       "Validation: |          | 0/? [00:00<?, ?it/s]"
      ]
     },
     "metadata": {},
     "output_type": "display_data"
    },
    {
     "data": {
      "application/vnd.jupyter.widget-view+json": {
       "model_id": "10498e96eb8741589b68906a011643a7",
       "version_major": 2,
       "version_minor": 0
      },
      "text/plain": [
       "Validation: |          | 0/? [00:00<?, ?it/s]"
      ]
     },
     "metadata": {},
     "output_type": "display_data"
    },
    {
     "data": {
      "application/vnd.jupyter.widget-view+json": {
       "model_id": "c5ce60d5f78f46f79a1ec9ddee4fbe58",
       "version_major": 2,
       "version_minor": 0
      },
      "text/plain": [
       "Validation: |          | 0/? [00:00<?, ?it/s]"
      ]
     },
     "metadata": {},
     "output_type": "display_data"
    },
    {
     "data": {
      "application/vnd.jupyter.widget-view+json": {
       "model_id": "dc48b3c9b52b4ba2a88d263833b716cb",
       "version_major": 2,
       "version_minor": 0
      },
      "text/plain": [
       "Validation: |          | 0/? [00:00<?, ?it/s]"
      ]
     },
     "metadata": {},
     "output_type": "display_data"
    },
    {
     "data": {
      "application/vnd.jupyter.widget-view+json": {
       "model_id": "5ba638e2ce2c43f3a16dd403af7d8c95",
       "version_major": 2,
       "version_minor": 0
      },
      "text/plain": [
       "Validation: |          | 0/? [00:00<?, ?it/s]"
      ]
     },
     "metadata": {},
     "output_type": "display_data"
    },
    {
     "data": {
      "application/vnd.jupyter.widget-view+json": {
       "model_id": "a1814d5f9a8d4e2aa7e0277826cb0e63",
       "version_major": 2,
       "version_minor": 0
      },
      "text/plain": [
       "Validation: |          | 0/? [00:00<?, ?it/s]"
      ]
     },
     "metadata": {},
     "output_type": "display_data"
    },
    {
     "data": {
      "application/vnd.jupyter.widget-view+json": {
       "model_id": "167dae24354a4f3899b4c55286c819de",
       "version_major": 2,
       "version_minor": 0
      },
      "text/plain": [
       "Validation: |          | 0/? [00:00<?, ?it/s]"
      ]
     },
     "metadata": {},
     "output_type": "display_data"
    },
    {
     "data": {
      "application/vnd.jupyter.widget-view+json": {
       "model_id": "0265e3a090c84ac887a8b2c472de1c06",
       "version_major": 2,
       "version_minor": 0
      },
      "text/plain": [
       "Validation: |          | 0/? [00:00<?, ?it/s]"
      ]
     },
     "metadata": {},
     "output_type": "display_data"
    },
    {
     "data": {
      "application/vnd.jupyter.widget-view+json": {
       "model_id": "8a8aa13ce0c549e78e0c0030c8f467dd",
       "version_major": 2,
       "version_minor": 0
      },
      "text/plain": [
       "Validation: |          | 0/? [00:00<?, ?it/s]"
      ]
     },
     "metadata": {},
     "output_type": "display_data"
    },
    {
     "data": {
      "application/vnd.jupyter.widget-view+json": {
       "model_id": "e4a0c9e9190e4c2eb547cc3c5361abc5",
       "version_major": 2,
       "version_minor": 0
      },
      "text/plain": [
       "Validation: |          | 0/? [00:00<?, ?it/s]"
      ]
     },
     "metadata": {},
     "output_type": "display_data"
    },
    {
     "data": {
      "application/vnd.jupyter.widget-view+json": {
       "model_id": "10d58fcaf2dc4af083dd9fb1ab6dad26",
       "version_major": 2,
       "version_minor": 0
      },
      "text/plain": [
       "Validation: |          | 0/? [00:00<?, ?it/s]"
      ]
     },
     "metadata": {},
     "output_type": "display_data"
    },
    {
     "data": {
      "application/vnd.jupyter.widget-view+json": {
       "model_id": "bb7a07f4febe423eac1dba82b720100b",
       "version_major": 2,
       "version_minor": 0
      },
      "text/plain": [
       "Validation: |          | 0/? [00:00<?, ?it/s]"
      ]
     },
     "metadata": {},
     "output_type": "display_data"
    },
    {
     "data": {
      "application/vnd.jupyter.widget-view+json": {
       "model_id": "a41cc9d65ba14ef39b58fbfdf1f8ceaa",
       "version_major": 2,
       "version_minor": 0
      },
      "text/plain": [
       "Validation: |          | 0/? [00:00<?, ?it/s]"
      ]
     },
     "metadata": {},
     "output_type": "display_data"
    },
    {
     "data": {
      "application/vnd.jupyter.widget-view+json": {
       "model_id": "94918268d54f40978b9ec758793a3249",
       "version_major": 2,
       "version_minor": 0
      },
      "text/plain": [
       "Validation: |          | 0/? [00:00<?, ?it/s]"
      ]
     },
     "metadata": {},
     "output_type": "display_data"
    },
    {
     "data": {
      "application/vnd.jupyter.widget-view+json": {
       "model_id": "30de08e61c7b450e8ea682557b27c9fb",
       "version_major": 2,
       "version_minor": 0
      },
      "text/plain": [
       "Validation: |          | 0/? [00:00<?, ?it/s]"
      ]
     },
     "metadata": {},
     "output_type": "display_data"
    },
    {
     "name": "stderr",
     "output_type": "stream",
     "text": [
      "`Trainer.fit` stopped: `max_epochs=100` reached.\n"
     ]
    }
   ],
   "source": [
    "trainer_generative.fit(\n",
    "            encoder_model,\n",
    "            train_dataloaders=dataloader,\n",
    "            val_dataloaders=dataloader)"
   ]
  },
  {
   "cell_type": "markdown",
   "id": "aa201fff-4eda-4ece-8560-f40bab649ace",
   "metadata": {},
   "source": [
    "### Flow training"
   ]
  },
  {
   "cell_type": "markdown",
   "id": "7fd3c42e-0662-4eae-b7eb-5c60d87b88f5",
   "metadata": {},
   "source": [
    "Initialize the flow"
   ]
  },
  {
   "cell_type": "code",
   "execution_count": 15,
   "id": "c7408b47-c4ea-4a23-ad8c-75d468f116f9",
   "metadata": {},
   "outputs": [],
   "source": [
    "# Latent dimension\n",
    "in_dim = 100  \n",
    "# No modality list \n",
    "modality_list = None "
   ]
  },
  {
   "cell_type": "markdown",
   "id": "45a15854-6699-49bd-a9af-7ff52334a478",
   "metadata": {},
   "source": [
    "Initialize the feature embeddings"
   ]
  },
  {
   "cell_type": "code",
   "execution_count": 16,
   "id": "ec2d6471-36b0-42dc-a1bf-a1a5b127c21d",
   "metadata": {},
   "outputs": [],
   "source": [
    "feature_embeddings = {}  \n",
    "num_classes = {}\n",
    "        \n",
    "for cov, cov_names in dataset.id2cov.items():\n",
    "    feature_embeddings[cov] = CategoricalFeaturizer(len(cov_names), \n",
    "                                                            False, \n",
    "                                                            \"cuda\", \n",
    "                                                            embedding_dimensions=100)\n",
    "\n",
    "    num_classes[cov] = 100"
   ]
  },
  {
   "cell_type": "markdown",
   "id": "0d071f56-d01a-4b29-abf0-4d6cb5739c18",
   "metadata": {},
   "source": [
    "Initialize the denoising model "
   ]
  },
  {
   "cell_type": "code",
   "execution_count": 17,
   "id": "627d4e5c-b0c4-4476-add2-ab65e4230cb1",
   "metadata": {},
   "outputs": [],
   "source": [
    "# Initialize the denoising model\n",
    "denoising_model = MLPTimeStep(in_dim=in_dim,                            # Presumably pre-defined\n",
    "                                hidden_dim=32,                            # From config hidden_dim\n",
    "                                dropout_prob=0,                           # From config dropout_prob\n",
    "                                n_blocks=3,                               # From config n_blocks\n",
    "                                model_type=\"conditional_latent\",          # From config model_type\n",
    "                                size_factor_min=dataset.min_size_factor,  # From dataset properties\n",
    "                                size_factor_max=dataset.max_size_factor,  # From dataset properties\n",
    "                                embedding_dim=100,                         # From config embedding_dim\n",
    "                                normalization=\"none\",                     # From config normalization\n",
    "                                conditional=True,                         # From config conditional\n",
    "                                multimodal=False,                         # From config multimodal\n",
    "                                is_binarized=False,                       # From config is_binarized\n",
    "                                modality_list=None,                       # Assuming no specific modality list\n",
    "                                embed_size_factor=False                   # From config embed_size_factor\n",
    "                                ).to(\"cuda\")"
   ]
  },
  {
   "cell_type": "code",
   "execution_count": 18,
   "id": "333030a6-f874-4617-a154-6883754ffd19",
   "metadata": {},
   "outputs": [],
   "source": [
    "for param in encoder_model.parameters():\n",
    "    param.requires_grad = False"
   ]
  },
  {
   "cell_type": "code",
   "execution_count": 19,
   "id": "9e83ed07-64f8-46e9-b950-1a0140428ab5",
   "metadata": {},
   "outputs": [
    {
     "name": "stderr",
     "output_type": "stream",
     "text": [
      "/home/icb/alessandro.palma/miniconda3/envs/celldreamer/lib/python3.10/site-packages/pytorch_lightning/utilities/parsing.py:208: Attribute 'encoder_model' is an instance of `nn.Module` and is already saved during checkpointing. It is recommended to ignore them using `self.save_hyperparameters(ignore=['encoder_model'])`.\n",
      "/home/icb/alessandro.palma/miniconda3/envs/celldreamer/lib/python3.10/site-packages/pytorch_lightning/utilities/parsing.py:208: Attribute 'denoising_model' is an instance of `nn.Module` and is already saved during checkpointing. It is recommended to ignore them using `self.save_hyperparameters(ignore=['denoising_model'])`.\n"
     ]
    }
   ],
   "source": [
    "size_factor_statistics = {\"mean\": dataset.log_size_factor_mu, \n",
    "                                        \"sd\": dataset.log_size_factor_sd}\n",
    "\n",
    "generative_model = FM(\n",
    "    encoder_model=encoder_model,\n",
    "    denoising_model=denoising_model,\n",
    "    feature_embeddings=feature_embeddings,\n",
    "    plotting_folder=\"/home/icb/alessandro.palma/environment/cfgen/notebooks/experiments/imputation/plots/try1\",\n",
    "    in_dim=in_dim,\n",
    "    size_factor_statistics=size_factor_statistics,\n",
    "    encoder_type=\"learnt_autoencoder\",\n",
    "    conditioning_covariate=\"clusters\",\n",
    "    model_type=denoising_model.model_type,\n",
    "    multimodal=dataset.multimodal,\n",
    "    is_binarized=False,\n",
    "    modality_list=None,\n",
    "    learning_rate=0.0001,\n",
    "    weight_decay=0.000001,\n",
    "    antithetic_time_sampling=True,\n",
    "    sigma=0.01,\n",
    "    use_ot=False\n",
    ")"
   ]
  },
  {
   "cell_type": "code",
   "execution_count": 20,
   "id": "b94e2b89-62c5-46f5-a138-e2b789232696",
   "metadata": {},
   "outputs": [
    {
     "name": "stderr",
     "output_type": "stream",
     "text": [
      "GPU available: True (cuda), used: True\n",
      "TPU available: False, using: 0 TPU cores\n",
      "HPU available: False, using: 0 HPUs\n"
     ]
    }
   ],
   "source": [
    "trainer_generative = Trainer(max_epochs=100)"
   ]
  },
  {
   "cell_type": "code",
   "execution_count": 21,
   "id": "e433d5b3-900c-4a6d-ae6b-3700df6a91b4",
   "metadata": {
    "scrolled": true
   },
   "outputs": [
    {
     "name": "stderr",
     "output_type": "stream",
     "text": [
      "LOCAL_RANK: 0 - CUDA_VISIBLE_DEVICES: [MIG-7b24ce68-c733-5784-85f3-6336516aaf40]\n",
      "\n",
      "  | Name            | Type         | Params | Mode \n",
      "---------------------------------------------------------\n",
      "0 | encoder_model   | EncoderModel | 2.4 M  | train\n",
      "1 | denoising_model | MLPTimeStep  | 42.8 K | train\n",
      "2 | criterion       | MSELoss      | 0      | train\n",
      "---------------------------------------------------------\n",
      "42.8 K    Trainable params\n",
      "2.4 M     Non-trainable params\n",
      "2.4 M     Total params\n",
      "9.651     Total estimated model params size (MB)\n",
      "/home/icb/alessandro.palma/miniconda3/envs/celldreamer/lib/python3.10/site-packages/pytorch_lightning/core/saving.py:363: Skipping 'encoder_model' parameter because it is not possible to safely dump to YAML.\n",
      "/home/icb/alessandro.palma/miniconda3/envs/celldreamer/lib/python3.10/site-packages/pytorch_lightning/core/saving.py:363: Skipping 'denoising_model' parameter because it is not possible to safely dump to YAML.\n"
     ]
    },
    {
     "data": {
      "application/vnd.jupyter.widget-view+json": {
       "model_id": "",
       "version_major": 2,
       "version_minor": 0
      },
      "text/plain": [
       "Sanity Checking: |          | 0/? [00:00<?, ?it/s]"
      ]
     },
     "metadata": {},
     "output_type": "display_data"
    },
    {
     "data": {
      "application/vnd.jupyter.widget-view+json": {
       "model_id": "11babcc9433d4df4ab9f44ff98be91e5",
       "version_major": 2,
       "version_minor": 0
      },
      "text/plain": [
       "Training: |          | 0/? [00:00<?, ?it/s]"
      ]
     },
     "metadata": {},
     "output_type": "display_data"
    },
    {
     "data": {
      "application/vnd.jupyter.widget-view+json": {
       "model_id": "",
       "version_major": 2,
       "version_minor": 0
      },
      "text/plain": [
       "Validation: |          | 0/? [00:00<?, ?it/s]"
      ]
     },
     "metadata": {},
     "output_type": "display_data"
    },
    {
     "data": {
      "application/vnd.jupyter.widget-view+json": {
       "model_id": "",
       "version_major": 2,
       "version_minor": 0
      },
      "text/plain": [
       "Validation: |          | 0/? [00:00<?, ?it/s]"
      ]
     },
     "metadata": {},
     "output_type": "display_data"
    },
    {
     "data": {
      "application/vnd.jupyter.widget-view+json": {
       "model_id": "",
       "version_major": 2,
       "version_minor": 0
      },
      "text/plain": [
       "Validation: |          | 0/? [00:00<?, ?it/s]"
      ]
     },
     "metadata": {},
     "output_type": "display_data"
    },
    {
     "data": {
      "application/vnd.jupyter.widget-view+json": {
       "model_id": "",
       "version_major": 2,
       "version_minor": 0
      },
      "text/plain": [
       "Validation: |          | 0/? [00:00<?, ?it/s]"
      ]
     },
     "metadata": {},
     "output_type": "display_data"
    },
    {
     "data": {
      "application/vnd.jupyter.widget-view+json": {
       "model_id": "",
       "version_major": 2,
       "version_minor": 0
      },
      "text/plain": [
       "Validation: |          | 0/? [00:00<?, ?it/s]"
      ]
     },
     "metadata": {},
     "output_type": "display_data"
    },
    {
     "data": {
      "application/vnd.jupyter.widget-view+json": {
       "model_id": "",
       "version_major": 2,
       "version_minor": 0
      },
      "text/plain": [
       "Validation: |          | 0/? [00:00<?, ?it/s]"
      ]
     },
     "metadata": {},
     "output_type": "display_data"
    },
    {
     "data": {
      "application/vnd.jupyter.widget-view+json": {
       "model_id": "",
       "version_major": 2,
       "version_minor": 0
      },
      "text/plain": [
       "Validation: |          | 0/? [00:00<?, ?it/s]"
      ]
     },
     "metadata": {},
     "output_type": "display_data"
    },
    {
     "data": {
      "application/vnd.jupyter.widget-view+json": {
       "model_id": "",
       "version_major": 2,
       "version_minor": 0
      },
      "text/plain": [
       "Validation: |          | 0/? [00:00<?, ?it/s]"
      ]
     },
     "metadata": {},
     "output_type": "display_data"
    },
    {
     "data": {
      "application/vnd.jupyter.widget-view+json": {
       "model_id": "",
       "version_major": 2,
       "version_minor": 0
      },
      "text/plain": [
       "Validation: |          | 0/? [00:00<?, ?it/s]"
      ]
     },
     "metadata": {},
     "output_type": "display_data"
    },
    {
     "data": {
      "application/vnd.jupyter.widget-view+json": {
       "model_id": "",
       "version_major": 2,
       "version_minor": 0
      },
      "text/plain": [
       "Validation: |          | 0/? [00:00<?, ?it/s]"
      ]
     },
     "metadata": {},
     "output_type": "display_data"
    },
    {
     "data": {
      "application/vnd.jupyter.widget-view+json": {
       "model_id": "",
       "version_major": 2,
       "version_minor": 0
      },
      "text/plain": [
       "Validation: |          | 0/? [00:00<?, ?it/s]"
      ]
     },
     "metadata": {},
     "output_type": "display_data"
    },
    {
     "data": {
      "application/vnd.jupyter.widget-view+json": {
       "model_id": "",
       "version_major": 2,
       "version_minor": 0
      },
      "text/plain": [
       "Validation: |          | 0/? [00:00<?, ?it/s]"
      ]
     },
     "metadata": {},
     "output_type": "display_data"
    },
    {
     "data": {
      "application/vnd.jupyter.widget-view+json": {
       "model_id": "",
       "version_major": 2,
       "version_minor": 0
      },
      "text/plain": [
       "Validation: |          | 0/? [00:00<?, ?it/s]"
      ]
     },
     "metadata": {},
     "output_type": "display_data"
    },
    {
     "data": {
      "application/vnd.jupyter.widget-view+json": {
       "model_id": "",
       "version_major": 2,
       "version_minor": 0
      },
      "text/plain": [
       "Validation: |          | 0/? [00:00<?, ?it/s]"
      ]
     },
     "metadata": {},
     "output_type": "display_data"
    },
    {
     "data": {
      "application/vnd.jupyter.widget-view+json": {
       "model_id": "",
       "version_major": 2,
       "version_minor": 0
      },
      "text/plain": [
       "Validation: |          | 0/? [00:00<?, ?it/s]"
      ]
     },
     "metadata": {},
     "output_type": "display_data"
    },
    {
     "data": {
      "application/vnd.jupyter.widget-view+json": {
       "model_id": "",
       "version_major": 2,
       "version_minor": 0
      },
      "text/plain": [
       "Validation: |          | 0/? [00:00<?, ?it/s]"
      ]
     },
     "metadata": {},
     "output_type": "display_data"
    },
    {
     "data": {
      "application/vnd.jupyter.widget-view+json": {
       "model_id": "",
       "version_major": 2,
       "version_minor": 0
      },
      "text/plain": [
       "Validation: |          | 0/? [00:00<?, ?it/s]"
      ]
     },
     "metadata": {},
     "output_type": "display_data"
    },
    {
     "data": {
      "application/vnd.jupyter.widget-view+json": {
       "model_id": "",
       "version_major": 2,
       "version_minor": 0
      },
      "text/plain": [
       "Validation: |          | 0/? [00:00<?, ?it/s]"
      ]
     },
     "metadata": {},
     "output_type": "display_data"
    },
    {
     "data": {
      "application/vnd.jupyter.widget-view+json": {
       "model_id": "",
       "version_major": 2,
       "version_minor": 0
      },
      "text/plain": [
       "Validation: |          | 0/? [00:00<?, ?it/s]"
      ]
     },
     "metadata": {},
     "output_type": "display_data"
    },
    {
     "data": {
      "application/vnd.jupyter.widget-view+json": {
       "model_id": "",
       "version_major": 2,
       "version_minor": 0
      },
      "text/plain": [
       "Validation: |          | 0/? [00:00<?, ?it/s]"
      ]
     },
     "metadata": {},
     "output_type": "display_data"
    },
    {
     "data": {
      "application/vnd.jupyter.widget-view+json": {
       "model_id": "",
       "version_major": 2,
       "version_minor": 0
      },
      "text/plain": [
       "Validation: |          | 0/? [00:00<?, ?it/s]"
      ]
     },
     "metadata": {},
     "output_type": "display_data"
    },
    {
     "data": {
      "application/vnd.jupyter.widget-view+json": {
       "model_id": "",
       "version_major": 2,
       "version_minor": 0
      },
      "text/plain": [
       "Validation: |          | 0/? [00:00<?, ?it/s]"
      ]
     },
     "metadata": {},
     "output_type": "display_data"
    },
    {
     "data": {
      "application/vnd.jupyter.widget-view+json": {
       "model_id": "",
       "version_major": 2,
       "version_minor": 0
      },
      "text/plain": [
       "Validation: |          | 0/? [00:00<?, ?it/s]"
      ]
     },
     "metadata": {},
     "output_type": "display_data"
    },
    {
     "data": {
      "application/vnd.jupyter.widget-view+json": {
       "model_id": "",
       "version_major": 2,
       "version_minor": 0
      },
      "text/plain": [
       "Validation: |          | 0/? [00:00<?, ?it/s]"
      ]
     },
     "metadata": {},
     "output_type": "display_data"
    },
    {
     "data": {
      "application/vnd.jupyter.widget-view+json": {
       "model_id": "",
       "version_major": 2,
       "version_minor": 0
      },
      "text/plain": [
       "Validation: |          | 0/? [00:00<?, ?it/s]"
      ]
     },
     "metadata": {},
     "output_type": "display_data"
    },
    {
     "data": {
      "application/vnd.jupyter.widget-view+json": {
       "model_id": "",
       "version_major": 2,
       "version_minor": 0
      },
      "text/plain": [
       "Validation: |          | 0/? [00:00<?, ?it/s]"
      ]
     },
     "metadata": {},
     "output_type": "display_data"
    },
    {
     "data": {
      "application/vnd.jupyter.widget-view+json": {
       "model_id": "",
       "version_major": 2,
       "version_minor": 0
      },
      "text/plain": [
       "Validation: |          | 0/? [00:00<?, ?it/s]"
      ]
     },
     "metadata": {},
     "output_type": "display_data"
    },
    {
     "data": {
      "application/vnd.jupyter.widget-view+json": {
       "model_id": "",
       "version_major": 2,
       "version_minor": 0
      },
      "text/plain": [
       "Validation: |          | 0/? [00:00<?, ?it/s]"
      ]
     },
     "metadata": {},
     "output_type": "display_data"
    },
    {
     "data": {
      "application/vnd.jupyter.widget-view+json": {
       "model_id": "",
       "version_major": 2,
       "version_minor": 0
      },
      "text/plain": [
       "Validation: |          | 0/? [00:00<?, ?it/s]"
      ]
     },
     "metadata": {},
     "output_type": "display_data"
    },
    {
     "data": {
      "application/vnd.jupyter.widget-view+json": {
       "model_id": "",
       "version_major": 2,
       "version_minor": 0
      },
      "text/plain": [
       "Validation: |          | 0/? [00:00<?, ?it/s]"
      ]
     },
     "metadata": {},
     "output_type": "display_data"
    },
    {
     "data": {
      "application/vnd.jupyter.widget-view+json": {
       "model_id": "",
       "version_major": 2,
       "version_minor": 0
      },
      "text/plain": [
       "Validation: |          | 0/? [00:00<?, ?it/s]"
      ]
     },
     "metadata": {},
     "output_type": "display_data"
    },
    {
     "data": {
      "application/vnd.jupyter.widget-view+json": {
       "model_id": "",
       "version_major": 2,
       "version_minor": 0
      },
      "text/plain": [
       "Validation: |          | 0/? [00:00<?, ?it/s]"
      ]
     },
     "metadata": {},
     "output_type": "display_data"
    },
    {
     "data": {
      "application/vnd.jupyter.widget-view+json": {
       "model_id": "",
       "version_major": 2,
       "version_minor": 0
      },
      "text/plain": [
       "Validation: |          | 0/? [00:00<?, ?it/s]"
      ]
     },
     "metadata": {},
     "output_type": "display_data"
    },
    {
     "data": {
      "application/vnd.jupyter.widget-view+json": {
       "model_id": "",
       "version_major": 2,
       "version_minor": 0
      },
      "text/plain": [
       "Validation: |          | 0/? [00:00<?, ?it/s]"
      ]
     },
     "metadata": {},
     "output_type": "display_data"
    },
    {
     "data": {
      "application/vnd.jupyter.widget-view+json": {
       "model_id": "",
       "version_major": 2,
       "version_minor": 0
      },
      "text/plain": [
       "Validation: |          | 0/? [00:00<?, ?it/s]"
      ]
     },
     "metadata": {},
     "output_type": "display_data"
    },
    {
     "data": {
      "application/vnd.jupyter.widget-view+json": {
       "model_id": "",
       "version_major": 2,
       "version_minor": 0
      },
      "text/plain": [
       "Validation: |          | 0/? [00:00<?, ?it/s]"
      ]
     },
     "metadata": {},
     "output_type": "display_data"
    },
    {
     "data": {
      "application/vnd.jupyter.widget-view+json": {
       "model_id": "",
       "version_major": 2,
       "version_minor": 0
      },
      "text/plain": [
       "Validation: |          | 0/? [00:00<?, ?it/s]"
      ]
     },
     "metadata": {},
     "output_type": "display_data"
    },
    {
     "data": {
      "application/vnd.jupyter.widget-view+json": {
       "model_id": "",
       "version_major": 2,
       "version_minor": 0
      },
      "text/plain": [
       "Validation: |          | 0/? [00:00<?, ?it/s]"
      ]
     },
     "metadata": {},
     "output_type": "display_data"
    },
    {
     "data": {
      "application/vnd.jupyter.widget-view+json": {
       "model_id": "",
       "version_major": 2,
       "version_minor": 0
      },
      "text/plain": [
       "Validation: |          | 0/? [00:00<?, ?it/s]"
      ]
     },
     "metadata": {},
     "output_type": "display_data"
    },
    {
     "data": {
      "application/vnd.jupyter.widget-view+json": {
       "model_id": "",
       "version_major": 2,
       "version_minor": 0
      },
      "text/plain": [
       "Validation: |          | 0/? [00:00<?, ?it/s]"
      ]
     },
     "metadata": {},
     "output_type": "display_data"
    },
    {
     "data": {
      "application/vnd.jupyter.widget-view+json": {
       "model_id": "",
       "version_major": 2,
       "version_minor": 0
      },
      "text/plain": [
       "Validation: |          | 0/? [00:00<?, ?it/s]"
      ]
     },
     "metadata": {},
     "output_type": "display_data"
    },
    {
     "data": {
      "application/vnd.jupyter.widget-view+json": {
       "model_id": "",
       "version_major": 2,
       "version_minor": 0
      },
      "text/plain": [
       "Validation: |          | 0/? [00:00<?, ?it/s]"
      ]
     },
     "metadata": {},
     "output_type": "display_data"
    },
    {
     "data": {
      "application/vnd.jupyter.widget-view+json": {
       "model_id": "",
       "version_major": 2,
       "version_minor": 0
      },
      "text/plain": [
       "Validation: |          | 0/? [00:00<?, ?it/s]"
      ]
     },
     "metadata": {},
     "output_type": "display_data"
    },
    {
     "data": {
      "application/vnd.jupyter.widget-view+json": {
       "model_id": "",
       "version_major": 2,
       "version_minor": 0
      },
      "text/plain": [
       "Validation: |          | 0/? [00:00<?, ?it/s]"
      ]
     },
     "metadata": {},
     "output_type": "display_data"
    },
    {
     "data": {
      "application/vnd.jupyter.widget-view+json": {
       "model_id": "",
       "version_major": 2,
       "version_minor": 0
      },
      "text/plain": [
       "Validation: |          | 0/? [00:00<?, ?it/s]"
      ]
     },
     "metadata": {},
     "output_type": "display_data"
    },
    {
     "data": {
      "application/vnd.jupyter.widget-view+json": {
       "model_id": "",
       "version_major": 2,
       "version_minor": 0
      },
      "text/plain": [
       "Validation: |          | 0/? [00:00<?, ?it/s]"
      ]
     },
     "metadata": {},
     "output_type": "display_data"
    },
    {
     "data": {
      "application/vnd.jupyter.widget-view+json": {
       "model_id": "",
       "version_major": 2,
       "version_minor": 0
      },
      "text/plain": [
       "Validation: |          | 0/? [00:00<?, ?it/s]"
      ]
     },
     "metadata": {},
     "output_type": "display_data"
    },
    {
     "data": {
      "application/vnd.jupyter.widget-view+json": {
       "model_id": "e2b3a873c4004844baa72dfd7bc0d12b",
       "version_major": 2,
       "version_minor": 0
      },
      "text/plain": [
       "Validation: |          | 0/? [00:00<?, ?it/s]"
      ]
     },
     "metadata": {},
     "output_type": "display_data"
    },
    {
     "data": {
      "application/vnd.jupyter.widget-view+json": {
       "model_id": "af65678856f5470a830dcaed8d594a7e",
       "version_major": 2,
       "version_minor": 0
      },
      "text/plain": [
       "Validation: |          | 0/? [00:00<?, ?it/s]"
      ]
     },
     "metadata": {},
     "output_type": "display_data"
    },
    {
     "data": {
      "application/vnd.jupyter.widget-view+json": {
       "model_id": "44cb6ae8c04f4553bb7f882accbd1837",
       "version_major": 2,
       "version_minor": 0
      },
      "text/plain": [
       "Validation: |          | 0/? [00:00<?, ?it/s]"
      ]
     },
     "metadata": {},
     "output_type": "display_data"
    },
    {
     "data": {
      "application/vnd.jupyter.widget-view+json": {
       "model_id": "0767863e713346a8a540bb27db76529c",
       "version_major": 2,
       "version_minor": 0
      },
      "text/plain": [
       "Validation: |          | 0/? [00:00<?, ?it/s]"
      ]
     },
     "metadata": {},
     "output_type": "display_data"
    },
    {
     "data": {
      "application/vnd.jupyter.widget-view+json": {
       "model_id": "27ce9c9f4c8546e1aad0f4a6a3c40da2",
       "version_major": 2,
       "version_minor": 0
      },
      "text/plain": [
       "Validation: |          | 0/? [00:00<?, ?it/s]"
      ]
     },
     "metadata": {},
     "output_type": "display_data"
    },
    {
     "data": {
      "application/vnd.jupyter.widget-view+json": {
       "model_id": "d4fc6aad09f34cfc885f3645d0e6f941",
       "version_major": 2,
       "version_minor": 0
      },
      "text/plain": [
       "Validation: |          | 0/? [00:00<?, ?it/s]"
      ]
     },
     "metadata": {},
     "output_type": "display_data"
    },
    {
     "data": {
      "application/vnd.jupyter.widget-view+json": {
       "model_id": "022a9f4af414432f9865e20812ca0e61",
       "version_major": 2,
       "version_minor": 0
      },
      "text/plain": [
       "Validation: |          | 0/? [00:00<?, ?it/s]"
      ]
     },
     "metadata": {},
     "output_type": "display_data"
    },
    {
     "data": {
      "application/vnd.jupyter.widget-view+json": {
       "model_id": "65d70df8a07a463bae3d367f8e2c2065",
       "version_major": 2,
       "version_minor": 0
      },
      "text/plain": [
       "Validation: |          | 0/? [00:00<?, ?it/s]"
      ]
     },
     "metadata": {},
     "output_type": "display_data"
    },
    {
     "data": {
      "application/vnd.jupyter.widget-view+json": {
       "model_id": "4e4f2ec8980e43da8ea39ca45fafcd31",
       "version_major": 2,
       "version_minor": 0
      },
      "text/plain": [
       "Validation: |          | 0/? [00:00<?, ?it/s]"
      ]
     },
     "metadata": {},
     "output_type": "display_data"
    },
    {
     "data": {
      "application/vnd.jupyter.widget-view+json": {
       "model_id": "45d321b9893140de8c56a5b58822cf3d",
       "version_major": 2,
       "version_minor": 0
      },
      "text/plain": [
       "Validation: |          | 0/? [00:00<?, ?it/s]"
      ]
     },
     "metadata": {},
     "output_type": "display_data"
    },
    {
     "data": {
      "application/vnd.jupyter.widget-view+json": {
       "model_id": "4b8c4a418c484fa1af5f928f82b1d139",
       "version_major": 2,
       "version_minor": 0
      },
      "text/plain": [
       "Validation: |          | 0/? [00:00<?, ?it/s]"
      ]
     },
     "metadata": {},
     "output_type": "display_data"
    },
    {
     "data": {
      "application/vnd.jupyter.widget-view+json": {
       "model_id": "81a28f77295c4bc883b797e7f4770ac6",
       "version_major": 2,
       "version_minor": 0
      },
      "text/plain": [
       "Validation: |          | 0/? [00:00<?, ?it/s]"
      ]
     },
     "metadata": {},
     "output_type": "display_data"
    },
    {
     "data": {
      "application/vnd.jupyter.widget-view+json": {
       "model_id": "3d445645bd16432db6c8cc7d33250efc",
       "version_major": 2,
       "version_minor": 0
      },
      "text/plain": [
       "Validation: |          | 0/? [00:00<?, ?it/s]"
      ]
     },
     "metadata": {},
     "output_type": "display_data"
    },
    {
     "data": {
      "application/vnd.jupyter.widget-view+json": {
       "model_id": "ba5cef6645134c5299106bb0372ca9fd",
       "version_major": 2,
       "version_minor": 0
      },
      "text/plain": [
       "Validation: |          | 0/? [00:00<?, ?it/s]"
      ]
     },
     "metadata": {},
     "output_type": "display_data"
    },
    {
     "data": {
      "application/vnd.jupyter.widget-view+json": {
       "model_id": "d5ae080a1f7c4f87aaa55d1759c02d56",
       "version_major": 2,
       "version_minor": 0
      },
      "text/plain": [
       "Validation: |          | 0/? [00:00<?, ?it/s]"
      ]
     },
     "metadata": {},
     "output_type": "display_data"
    },
    {
     "data": {
      "application/vnd.jupyter.widget-view+json": {
       "model_id": "d5e809e5e16d49068a5f11c98ff8d7ef",
       "version_major": 2,
       "version_minor": 0
      },
      "text/plain": [
       "Validation: |          | 0/? [00:00<?, ?it/s]"
      ]
     },
     "metadata": {},
     "output_type": "display_data"
    },
    {
     "data": {
      "application/vnd.jupyter.widget-view+json": {
       "model_id": "936989ef3d2b4c8aa6c8b17ffd634c01",
       "version_major": 2,
       "version_minor": 0
      },
      "text/plain": [
       "Validation: |          | 0/? [00:00<?, ?it/s]"
      ]
     },
     "metadata": {},
     "output_type": "display_data"
    },
    {
     "data": {
      "application/vnd.jupyter.widget-view+json": {
       "model_id": "3c3fc78783094295a5ddaae3bffe1b06",
       "version_major": 2,
       "version_minor": 0
      },
      "text/plain": [
       "Validation: |          | 0/? [00:00<?, ?it/s]"
      ]
     },
     "metadata": {},
     "output_type": "display_data"
    },
    {
     "data": {
      "application/vnd.jupyter.widget-view+json": {
       "model_id": "932392eef62e416e81e7f253d170ec17",
       "version_major": 2,
       "version_minor": 0
      },
      "text/plain": [
       "Validation: |          | 0/? [00:00<?, ?it/s]"
      ]
     },
     "metadata": {},
     "output_type": "display_data"
    },
    {
     "data": {
      "application/vnd.jupyter.widget-view+json": {
       "model_id": "13f6512c0ccd44c1bd3f4b07c0010ac9",
       "version_major": 2,
       "version_minor": 0
      },
      "text/plain": [
       "Validation: |          | 0/? [00:00<?, ?it/s]"
      ]
     },
     "metadata": {},
     "output_type": "display_data"
    },
    {
     "data": {
      "application/vnd.jupyter.widget-view+json": {
       "model_id": "dd903d1f32cc4bddb13cf001710fd85a",
       "version_major": 2,
       "version_minor": 0
      },
      "text/plain": [
       "Validation: |          | 0/? [00:00<?, ?it/s]"
      ]
     },
     "metadata": {},
     "output_type": "display_data"
    },
    {
     "data": {
      "application/vnd.jupyter.widget-view+json": {
       "model_id": "1082b11b9a6342dbbc086fc4e142b67f",
       "version_major": 2,
       "version_minor": 0
      },
      "text/plain": [
       "Validation: |          | 0/? [00:00<?, ?it/s]"
      ]
     },
     "metadata": {},
     "output_type": "display_data"
    },
    {
     "data": {
      "application/vnd.jupyter.widget-view+json": {
       "model_id": "df47412410504d4998108822643d4129",
       "version_major": 2,
       "version_minor": 0
      },
      "text/plain": [
       "Validation: |          | 0/? [00:00<?, ?it/s]"
      ]
     },
     "metadata": {},
     "output_type": "display_data"
    },
    {
     "data": {
      "application/vnd.jupyter.widget-view+json": {
       "model_id": "24b3f0a1f705472788c7ebba79931eee",
       "version_major": 2,
       "version_minor": 0
      },
      "text/plain": [
       "Validation: |          | 0/? [00:00<?, ?it/s]"
      ]
     },
     "metadata": {},
     "output_type": "display_data"
    },
    {
     "data": {
      "application/vnd.jupyter.widget-view+json": {
       "model_id": "8a58ecbb86ce41f3aea1c6099c839414",
       "version_major": 2,
       "version_minor": 0
      },
      "text/plain": [
       "Validation: |          | 0/? [00:00<?, ?it/s]"
      ]
     },
     "metadata": {},
     "output_type": "display_data"
    },
    {
     "data": {
      "application/vnd.jupyter.widget-view+json": {
       "model_id": "97e126ebdabc455d9aec98d000535df1",
       "version_major": 2,
       "version_minor": 0
      },
      "text/plain": [
       "Validation: |          | 0/? [00:00<?, ?it/s]"
      ]
     },
     "metadata": {},
     "output_type": "display_data"
    },
    {
     "data": {
      "application/vnd.jupyter.widget-view+json": {
       "model_id": "88c6aadbcf6e4ee5823da8d3cbdde21b",
       "version_major": 2,
       "version_minor": 0
      },
      "text/plain": [
       "Validation: |          | 0/? [00:00<?, ?it/s]"
      ]
     },
     "metadata": {},
     "output_type": "display_data"
    },
    {
     "data": {
      "application/vnd.jupyter.widget-view+json": {
       "model_id": "3ce26b72f9064a6fb4be5206e911756f",
       "version_major": 2,
       "version_minor": 0
      },
      "text/plain": [
       "Validation: |          | 0/? [00:00<?, ?it/s]"
      ]
     },
     "metadata": {},
     "output_type": "display_data"
    },
    {
     "data": {
      "application/vnd.jupyter.widget-view+json": {
       "model_id": "e6de459b5f66427294d283d990c41234",
       "version_major": 2,
       "version_minor": 0
      },
      "text/plain": [
       "Validation: |          | 0/? [00:00<?, ?it/s]"
      ]
     },
     "metadata": {},
     "output_type": "display_data"
    },
    {
     "data": {
      "application/vnd.jupyter.widget-view+json": {
       "model_id": "790b5e66863540cabf99d8b47461be13",
       "version_major": 2,
       "version_minor": 0
      },
      "text/plain": [
       "Validation: |          | 0/? [00:00<?, ?it/s]"
      ]
     },
     "metadata": {},
     "output_type": "display_data"
    },
    {
     "data": {
      "application/vnd.jupyter.widget-view+json": {
       "model_id": "cba1046c90794bb390485990cea2e3f7",
       "version_major": 2,
       "version_minor": 0
      },
      "text/plain": [
       "Validation: |          | 0/? [00:00<?, ?it/s]"
      ]
     },
     "metadata": {},
     "output_type": "display_data"
    },
    {
     "data": {
      "application/vnd.jupyter.widget-view+json": {
       "model_id": "860e03007da24b73baadb7cf01176c27",
       "version_major": 2,
       "version_minor": 0
      },
      "text/plain": [
       "Validation: |          | 0/? [00:00<?, ?it/s]"
      ]
     },
     "metadata": {},
     "output_type": "display_data"
    },
    {
     "data": {
      "application/vnd.jupyter.widget-view+json": {
       "model_id": "b429317e1adf4430937416a6d352e993",
       "version_major": 2,
       "version_minor": 0
      },
      "text/plain": [
       "Validation: |          | 0/? [00:00<?, ?it/s]"
      ]
     },
     "metadata": {},
     "output_type": "display_data"
    },
    {
     "data": {
      "application/vnd.jupyter.widget-view+json": {
       "model_id": "5c1f409a6a63478793f7bbae72d9ed8b",
       "version_major": 2,
       "version_minor": 0
      },
      "text/plain": [
       "Validation: |          | 0/? [00:00<?, ?it/s]"
      ]
     },
     "metadata": {},
     "output_type": "display_data"
    },
    {
     "data": {
      "application/vnd.jupyter.widget-view+json": {
       "model_id": "5d6ebdd79f134e72b180555c495012c1",
       "version_major": 2,
       "version_minor": 0
      },
      "text/plain": [
       "Validation: |          | 0/? [00:00<?, ?it/s]"
      ]
     },
     "metadata": {},
     "output_type": "display_data"
    },
    {
     "data": {
      "application/vnd.jupyter.widget-view+json": {
       "model_id": "d9e5428d71634fd891ed7baea08a5fcb",
       "version_major": 2,
       "version_minor": 0
      },
      "text/plain": [
       "Validation: |          | 0/? [00:00<?, ?it/s]"
      ]
     },
     "metadata": {},
     "output_type": "display_data"
    },
    {
     "data": {
      "application/vnd.jupyter.widget-view+json": {
       "model_id": "787d4587c803469983e0aab8fe2018d8",
       "version_major": 2,
       "version_minor": 0
      },
      "text/plain": [
       "Validation: |          | 0/? [00:00<?, ?it/s]"
      ]
     },
     "metadata": {},
     "output_type": "display_data"
    },
    {
     "data": {
      "application/vnd.jupyter.widget-view+json": {
       "model_id": "ac8e0dcb81844501995f7e75ef94dc74",
       "version_major": 2,
       "version_minor": 0
      },
      "text/plain": [
       "Validation: |          | 0/? [00:00<?, ?it/s]"
      ]
     },
     "metadata": {},
     "output_type": "display_data"
    },
    {
     "data": {
      "application/vnd.jupyter.widget-view+json": {
       "model_id": "bc1217421e344467a5a616a49c74e0d2",
       "version_major": 2,
       "version_minor": 0
      },
      "text/plain": [
       "Validation: |          | 0/? [00:00<?, ?it/s]"
      ]
     },
     "metadata": {},
     "output_type": "display_data"
    },
    {
     "data": {
      "application/vnd.jupyter.widget-view+json": {
       "model_id": "394da1764a784f5783b66f48b2ed042e",
       "version_major": 2,
       "version_minor": 0
      },
      "text/plain": [
       "Validation: |          | 0/? [00:00<?, ?it/s]"
      ]
     },
     "metadata": {},
     "output_type": "display_data"
    },
    {
     "data": {
      "application/vnd.jupyter.widget-view+json": {
       "model_id": "121e3b166a2744c6b006bc461def5abf",
       "version_major": 2,
       "version_minor": 0
      },
      "text/plain": [
       "Validation: |          | 0/? [00:00<?, ?it/s]"
      ]
     },
     "metadata": {},
     "output_type": "display_data"
    },
    {
     "data": {
      "application/vnd.jupyter.widget-view+json": {
       "model_id": "9254712f9a4f4f19bcd211a204205242",
       "version_major": 2,
       "version_minor": 0
      },
      "text/plain": [
       "Validation: |          | 0/? [00:00<?, ?it/s]"
      ]
     },
     "metadata": {},
     "output_type": "display_data"
    },
    {
     "data": {
      "application/vnd.jupyter.widget-view+json": {
       "model_id": "fd55f97f80e147d68e83e1b54fb6e49d",
       "version_major": 2,
       "version_minor": 0
      },
      "text/plain": [
       "Validation: |          | 0/? [00:00<?, ?it/s]"
      ]
     },
     "metadata": {},
     "output_type": "display_data"
    },
    {
     "data": {
      "application/vnd.jupyter.widget-view+json": {
       "model_id": "e674cfe933804e4aaf7ef91967b121e2",
       "version_major": 2,
       "version_minor": 0
      },
      "text/plain": [
       "Validation: |          | 0/? [00:00<?, ?it/s]"
      ]
     },
     "metadata": {},
     "output_type": "display_data"
    },
    {
     "data": {
      "application/vnd.jupyter.widget-view+json": {
       "model_id": "f70d3ed4d1284a3d98ce827aca788455",
       "version_major": 2,
       "version_minor": 0
      },
      "text/plain": [
       "Validation: |          | 0/? [00:00<?, ?it/s]"
      ]
     },
     "metadata": {},
     "output_type": "display_data"
    },
    {
     "data": {
      "application/vnd.jupyter.widget-view+json": {
       "model_id": "88008b256c38420a90300383a0ecb248",
       "version_major": 2,
       "version_minor": 0
      },
      "text/plain": [
       "Validation: |          | 0/? [00:00<?, ?it/s]"
      ]
     },
     "metadata": {},
     "output_type": "display_data"
    },
    {
     "data": {
      "application/vnd.jupyter.widget-view+json": {
       "model_id": "8ece43c56fdc4dfebb78af5272d83282",
       "version_major": 2,
       "version_minor": 0
      },
      "text/plain": [
       "Validation: |          | 0/? [00:00<?, ?it/s]"
      ]
     },
     "metadata": {},
     "output_type": "display_data"
    },
    {
     "data": {
      "application/vnd.jupyter.widget-view+json": {
       "model_id": "7a423f29cbba49aa819b8cd7c97dee52",
       "version_major": 2,
       "version_minor": 0
      },
      "text/plain": [
       "Validation: |          | 0/? [00:00<?, ?it/s]"
      ]
     },
     "metadata": {},
     "output_type": "display_data"
    },
    {
     "data": {
      "application/vnd.jupyter.widget-view+json": {
       "model_id": "e402afa11df249ae86ab775e0670fe7b",
       "version_major": 2,
       "version_minor": 0
      },
      "text/plain": [
       "Validation: |          | 0/? [00:00<?, ?it/s]"
      ]
     },
     "metadata": {},
     "output_type": "display_data"
    },
    {
     "data": {
      "application/vnd.jupyter.widget-view+json": {
       "model_id": "226e17db24904ae4b358587b546b006c",
       "version_major": 2,
       "version_minor": 0
      },
      "text/plain": [
       "Validation: |          | 0/? [00:00<?, ?it/s]"
      ]
     },
     "metadata": {},
     "output_type": "display_data"
    },
    {
     "data": {
      "application/vnd.jupyter.widget-view+json": {
       "model_id": "9752dd148c9d4b46bae93ab9db2d3a47",
       "version_major": 2,
       "version_minor": 0
      },
      "text/plain": [
       "Validation: |          | 0/? [00:00<?, ?it/s]"
      ]
     },
     "metadata": {},
     "output_type": "display_data"
    },
    {
     "data": {
      "application/vnd.jupyter.widget-view+json": {
       "model_id": "cfd16daf310345eab599dacf3416589b",
       "version_major": 2,
       "version_minor": 0
      },
      "text/plain": [
       "Validation: |          | 0/? [00:00<?, ?it/s]"
      ]
     },
     "metadata": {},
     "output_type": "display_data"
    },
    {
     "data": {
      "application/vnd.jupyter.widget-view+json": {
       "model_id": "fd45fdc03ae74964b7626b9c5d885e3e",
       "version_major": 2,
       "version_minor": 0
      },
      "text/plain": [
       "Validation: |          | 0/? [00:00<?, ?it/s]"
      ]
     },
     "metadata": {},
     "output_type": "display_data"
    },
    {
     "name": "stderr",
     "output_type": "stream",
     "text": [
      "`Trainer.fit` stopped: `max_epochs=100` reached.\n"
     ]
    }
   ],
   "source": [
    "trainer_generative.fit(generative_model,\n",
    "                        train_dataloaders=dataloader,\n",
    "                        val_dataloaders=dataloader)"
   ]
  },
  {
   "cell_type": "code",
   "execution_count": 22,
   "id": "3e708c13-a964-4bbf-85dc-4937790524b4",
   "metadata": {},
   "outputs": [],
   "source": [
    "generative_model = generative_model.cuda()"
   ]
  },
  {
   "cell_type": "markdown",
   "id": "ab64b573-f9b7-427b-8301-59629685a23f",
   "metadata": {},
   "source": [
    "# Implementation of augmentation appraches "
   ]
  },
  {
   "cell_type": "code",
   "execution_count": 23,
   "id": "a04f4ce9-01cb-478c-91d9-d6674b58762a",
   "metadata": {},
   "outputs": [
    {
     "name": "stderr",
     "output_type": "stream",
     "text": [
      "/home/icb/alessandro.palma/miniconda3/envs/celldreamer/lib/python3.10/site-packages/anndata/__init__.py:51: FutureWarning: `anndata.read` is deprecated, use `anndata.read_h5ad` instead. `ad.read` will be removed in mid 2024.\n",
      "  warnings.warn(\n"
     ]
    }
   ],
   "source": [
    "dataset = RNAseqLoader(data_path=data_path,\n",
    "                        layer_key=\"X_masked\",               # Corresponding to config 'layer_key'\n",
    "                        covariate_keys=[\"clusters\"],        # Corresponding to config 'covariate_keys'\n",
    "                        subsample_frac=1,                   # Corresponding to config 'subsample_frac'\n",
    "                        encoder_type=\"learnt_autoencoder\",  # Corresponding to config 'encoder_type'\n",
    "                        multimodal=False,                   # Corresponding to config 'multimodal'\n",
    "                        is_binarized=False                  # Corresponding to config 'is_binarized'\n",
    "                    )"
   ]
  },
  {
   "cell_type": "markdown",
   "id": "8039335c-10e4-4a61-8aae-69fb8d40733e",
   "metadata": {},
   "source": [
    "#### Invert and sample"
   ]
  },
  {
   "cell_type": "code",
   "execution_count": 24,
   "id": "23b5aa40-40eb-4576-8176-289481ef535a",
   "metadata": {},
   "outputs": [],
   "source": [
    "dataloader = torch.utils.data.DataLoader(dataset,\n",
    "                                            batch_size=256,\n",
    "                                            shuffle=False,\n",
    "                                            num_workers=4, \n",
    "                                            drop_last=False)\n",
    "gene_dim = dataset.X.shape[1] "
   ]
  },
  {
   "cell_type": "code",
   "execution_count": 25,
   "id": "166cc55c-5687-457f-9daa-abb4939a5321",
   "metadata": {},
   "outputs": [],
   "source": [
    "def invert_and_sample(dataloader, encoder_model, generative_model, sample_std=0.1):\n",
    "    # Sampled results \n",
    "    Z_imputed = [] \n",
    "    X_imputed = []\n",
    "    \n",
    "    # Times to apply correction\n",
    "    t = torch.linspace(0, 1, 2, device=generative_model.device)\n",
    "    reverse_t = torch.linspace(1, 0, 2, device=generative_model.device)\n",
    "\n",
    "    for i, batch in tqdm(enumerate(dataloader)):\n",
    "        with torch.no_grad():\n",
    "            # Encode latent space \n",
    "            z = encoder_model.encode(batch)\n",
    "    \n",
    "            # Get size factor\n",
    "            size_factor = torch.tensor(dentate.layers[\"X_counts\"][(i*256):((i+1)*256)].sum(1)).squeeze()\n",
    "            log_size_factor = torch.log(torch.tensor(dentate.layers[\"X_counts\"][(i*256):((i+1)*256)].sum(1))).squeeze()\n",
    "                \n",
    "            # Get condition embeddings\n",
    "            y = generative_model.feature_embeddings[\"clusters\"](batch[\"y\"][\"clusters\"].cuda())\n",
    "    \n",
    "            # Go back to noise\n",
    "            denoising_model_ode = torch_wrapper(generative_model.denoising_model, \n",
    "                                                log_size_factor, \n",
    "                                                y)    \n",
    "            \n",
    "            node = NeuralODE(denoising_model_ode,\n",
    "                                    solver=\"dopri5\", \n",
    "                                    sensitivity=\"adjoint\", \n",
    "                                    atol=1e-5, \n",
    "                                    rtol=1e-5)        \n",
    "    \n",
    "            z0 = node.trajectory(z, t_span=reverse_t)[-1]\n",
    "\n",
    "            # Now sample around noise\n",
    "            noise = torch.randn_like(z0) * sample_std  # Gaussian noise\n",
    "            z0 = z0 + noise\n",
    "    \n",
    "            z1 = node.trajectory(z0, t_span=t)[-1]\n",
    "            Z_imputed.append(z1.cpu().numpy())\n",
    "    \n",
    "            # Now decode\n",
    "            mu_hat = generative_model._decode(z1, size_factor.cuda().unsqueeze(1))\n",
    "            X_imputed.append(mu_hat.cpu().numpy())\n",
    "\n",
    "    Z_imputed = np.concatenate(Z_imputed, axis=0)\n",
    "    X_imputed = np.concatenate(X_imputed, axis=0)\n",
    "    return Z_imputed, X_imputed"
   ]
  },
  {
   "cell_type": "code",
   "execution_count": 26,
   "id": "0b9e9a06-50a3-4477-b0bb-4cba5c05529d",
   "metadata": {
    "scrolled": true
   },
   "outputs": [
    {
     "name": "stderr",
     "output_type": "stream",
     "text": [
      "72it [00:53,  1.34it/s]\n"
     ]
    }
   ],
   "source": [
    "Z_imputed, X_imputed = invert_and_sample(dataloader, encoder_model, generative_model, sample_std=0.01)"
   ]
  },
  {
   "cell_type": "code",
   "execution_count": 54,
   "id": "a00f1248-0946-499c-b88f-638e0510d054",
   "metadata": {},
   "outputs": [
    {
     "data": {
      "text/plain": [
       "0.3474057"
      ]
     },
     "execution_count": 54,
     "metadata": {},
     "output_type": "execute_result"
    }
   ],
   "source": [
    "np.mean(np.abs(imputed_counts.ravel()[dentate.uns['do_ix']] - dentate.layers[\"X_counts\"].A.ravel()[dentate.uns['do_ix']]))"
   ]
  },
  {
   "cell_type": "code",
   "execution_count": 28,
   "id": "cf50e586-a0fe-4595-89d5-f8447dacdc16",
   "metadata": {},
   "outputs": [
    {
     "data": {
      "text/plain": [
       "0.41663224"
      ]
     },
     "execution_count": 28,
     "metadata": {},
     "output_type": "execute_result"
    }
   ],
   "source": [
    "np.mean(np.abs(X_imputed.ravel()[dentate.uns['do_ix']] - dentate.layers[\"X_counts\"].A.ravel()[dentate.uns['do_ix']]))"
   ]
  },
  {
   "cell_type": "code",
   "execution_count": 53,
   "id": "2e5eca46-01b9-48ce-a683-f289669eb5cc",
   "metadata": {},
   "outputs": [
    {
     "data": {
      "text/plain": [
       "SignificanceResult(statistic=0.5579374264126276, pvalue=0.0)"
      ]
     },
     "execution_count": 53,
     "metadata": {},
     "output_type": "execute_result"
    }
   ],
   "source": [
    "scipy.stats.spearmanr(X_imputed.ravel()[dentate.uns['do_ix']], dentate.layers[\"X_counts\"].A.ravel()[dentate.uns['do_ix']])"
   ]
  },
  {
   "cell_type": "code",
   "execution_count": 52,
   "id": "e6206529-2cc8-4b71-942f-62e844e0784b",
   "metadata": {},
   "outputs": [
    {
     "data": {
      "text/plain": [
       "SignificanceResult(statistic=0.5823626257190097, pvalue=0.0)"
      ]
     },
     "execution_count": 52,
     "metadata": {},
     "output_type": "execute_result"
    }
   ],
   "source": [
    "scipy.stats.spearmanr(imputed_counts.ravel()[dentate.uns['do_ix']], dentate.layers[\"X_counts\"].A.ravel()[dentate.uns['do_ix']])"
   ]
  },
  {
   "cell_type": "code",
   "execution_count": 31,
   "id": "04c338df-f89d-4326-bf6c-b134cdebcb9e",
   "metadata": {},
   "outputs": [
    {
     "data": {
      "text/plain": [
       "Text(0, 0.5, 'Real')"
      ]
     },
     "execution_count": 31,
     "metadata": {},
     "output_type": "execute_result"
    },
    {
     "data": {
      "image/png": "[encoded data removed]",
      "text/plain": [
       "<Figure size 640x480 with 1 Axes>"
      ]
     },
     "metadata": {},
     "output_type": "display_data"
    }
   ],
   "source": [
    "plt.scatter(X_imputed.ravel()[:100000], dentate.layers[\"X_counts\"].A.ravel()[:100000])\n",
    "plt.title(\"Imputation CFGen\")\n",
    "plt.xlabel(\"Predicted\")\n",
    "plt.ylabel(\"Real\")"
   ]
  },
  {
   "cell_type": "code",
   "execution_count": 32,
   "id": "99f31cd7-25ab-4fb6-b610-89fc54af4b73",
   "metadata": {},
   "outputs": [
    {
     "data": {
      "text/plain": [
       "Text(0, 0.5, 'Real')"
      ]
     },
     "execution_count": 32,
     "metadata": {},
     "output_type": "execute_result"
    },
    {
     "data": {
      "image/png": "[encoded data removed]",
      "text/plain": [
       "<Figure size 640x480 with 1 Axes>"
      ]
     },
     "metadata": {},
     "output_type": "display_data"
    }
   ],
   "source": [
    "plt.scatter(imputed_counts.ravel()[:100000], dentate.layers[\"X_counts\"].A.ravel()[:100000])\n",
    "plt.title(\"Imputation scVI\")\n",
    "plt.xlabel(\"Predicted\")\n",
    "plt.ylabel(\"Real\")"
   ]
  },
  {
   "cell_type": "markdown",
   "id": "7c83e323-163f-4ffe-897f-efd1ee395013",
   "metadata": {},
   "source": [
    "Check if generated are decent"
   ]
  },
  {
   "cell_type": "code",
   "execution_count": 33,
   "id": "8117f586-7301-4898-9683-ed2bec1d8748",
   "metadata": {},
   "outputs": [],
   "source": [
    "adata_joint = sc.AnnData(X=np.concatenate([dentate.layers[\"X_counts\"].A,\n",
    "                             X_imputed]),\n",
    "                         obs={\"dataset_type\":[\"true\" for _ in range(dentate.layers[\"X_counts\"].A.shape[0])]+[\"gen\" for _ in range(len(X_imputed))]})"
   ]
  },
  {
   "cell_type": "code",
   "execution_count": 34,
   "id": "d53672b8-dfc0-40a4-89d8-1c7f572506c1",
   "metadata": {},
   "outputs": [
    {
     "name": "stderr",
     "output_type": "stream",
     "text": [
      "/home/icb/alessandro.palma/miniconda3/envs/celldreamer/lib/python3.10/site-packages/scanpy/plotting/_tools/scatterplots.py:394: UserWarning: No data for colormapping provided via 'c'. Parameters 'cmap' will be ignored\n",
      "  cax = scatter(\n"
     ]
    },
    {
     "data": {
      "image/png": "[encoded data removed]",
      "text/plain": [
       "<Figure size 640x480 with 1 Axes>"
      ]
     },
     "metadata": {},
     "output_type": "display_data"
    }
   ],
   "source": [
    "sc.pp.log1p(adata_joint)\n",
    "sc.tl.pca(adata_joint)\n",
    "sc.pl.pca(adata_joint,color=\"dataset_type\")"
   ]
  },
  {
   "cell_type": "markdown",
   "id": "bd4c4055-300d-4823-b6b2-b6326fdefb61",
   "metadata": {},
   "source": [
    "## Correlation non zero genes"
   ]
  },
  {
   "cell_type": "code",
   "execution_count": 35,
   "id": "5e4bbf73-6063-4d95-8681-0ee122dc8162",
   "metadata": {},
   "outputs": [],
   "source": [
    "non_zero_idx = np.where(dentate.layers[\"X_masked\"].A.ravel()!=0)"
   ]
  },
  {
   "cell_type": "code",
   "execution_count": 36,
   "id": "82e83182-9838-4e2d-9fcc-da87fafdc7ba",
   "metadata": {},
   "outputs": [
    {
     "data": {
      "text/plain": [
       "SignificanceResult(statistic=0.7615154449507552, pvalue=0.0)"
      ]
     },
     "execution_count": 36,
     "metadata": {},
     "output_type": "execute_result"
    }
   ],
   "source": [
    "scipy.stats.spearmanr(X_imputed.ravel()[non_zero_idx], dentate.layers[\"X_counts\"].A.ravel()[non_zero_idx])"
   ]
  },
  {
   "cell_type": "code",
   "execution_count": 37,
   "id": "59f24351-72e3-4b19-bf44-9c4739a0e9de",
   "metadata": {},
   "outputs": [
    {
     "data": {
      "text/plain": [
       "SignificanceResult(statistic=0.7309249394550698, pvalue=0.0)"
      ]
     },
     "execution_count": 37,
     "metadata": {},
     "output_type": "execute_result"
    }
   ],
   "source": [
    "scipy.stats.spearmanr(imputed_counts.ravel()[non_zero_idx], dentate.layers[\"X_counts\"].A.ravel()[non_zero_idx])"
   ]
  },
  {
   "cell_type": "code",
   "execution_count": 38,
   "id": "71e38a50-7290-499c-8362-34422a826d3b",
   "metadata": {},
   "outputs": [
    {
     "data": {
      "text/plain": [
       "1.3597754"
      ]
     },
     "execution_count": 38,
     "metadata": {},
     "output_type": "execute_result"
    }
   ],
   "source": [
    "np.mean(np.abs(X_imputed.ravel()[non_zero_idx] - dentate.layers[\"X_counts\"].A.ravel()[[non_zero_idx]]))"
   ]
  },
  {
   "cell_type": "code",
   "execution_count": 39,
   "id": "ff4bc839-4602-41d6-9be4-79b387240628",
   "metadata": {},
   "outputs": [
    {
     "data": {
      "text/plain": [
       "1.362797"
      ]
     },
     "execution_count": 39,
     "metadata": {},
     "output_type": "execute_result"
    }
   ],
   "source": [
    "np.mean(np.abs(imputed_counts.ravel()[non_zero_idx] - dentate.layers[\"X_counts\"].A.ravel()[[non_zero_idx]]))"
   ]
  },
  {
   "cell_type": "markdown",
   "id": "29dca902-3cac-45ed-9c6e-ed0149fbe3e9",
   "metadata": {},
   "source": [
    "#### Interpolate and sample"
   ]
  },
  {
   "cell_type": "code",
   "execution_count": 40,
   "id": "4e821e07-db55-49e5-961d-c0b5ed2f967a",
   "metadata": {},
   "outputs": [],
   "source": [
    "# def interpolate_and_sample(dataloader, encoder_model, generative_model, tmax):\n",
    "#     # Sampled results \n",
    "#     Z_imputed = [] \n",
    "#     X_imputed = []\n",
    "    \n",
    "#     # Times to apply correction\n",
    "#     t = torch.linspace(tmax, 1.0, 100, device=generative_model.device)\n",
    "\n",
    "#     for i, batch in tqdm(enumerate(dataloader)):\n",
    "#         with torch.no_grad():\n",
    "#             # Encode latent space \n",
    "#             z = encoder_model.encode(batch)\n",
    "#             eps = torch.randn_like(z)\n",
    "    \n",
    "#             # Get size factor\n",
    "#             log_size_factor = torch.log(torch.tensor(dentate.layers[\"X_counts\"][(i*256):((i+1)*256)].sum(1))).squeeze()\n",
    "    \n",
    "#             # Get condition embeddings\n",
    "#             y = generative_model.feature_embeddings[\"clusters\"](batch[\"y\"][\"clusters\"].cuda())\n",
    "\n",
    "#             # Interpolate \n",
    "#             zt = z * tmax + eps * (1-tmax)\n",
    "    \n",
    "#             # Go back to noise\n",
    "#             denoising_model_ode = torch_wrapper(generative_model.denoising_model, \n",
    "#                                                 log_size_factor, \n",
    "#                                                 y)    \n",
    "            \n",
    "#             node = NeuralODE(denoising_model_ode,\n",
    "#                                     solver=\"dopri5\", \n",
    "#                                     sensitivity=\"adjoint\", \n",
    "#                                     atol=1e-5, \n",
    "#                                     rtol=1e-5)        \n",
    "    \n",
    "    \n",
    "#             z1 = node.trajectory(zt, t_span=t)[-1]\n",
    "#             Z_imputed.append(z1.cpu().numpy())\n",
    "    \n",
    "#             # Now decode\n",
    "#             mu_hat = generative_model._decode(z1, torch.exp(log_size_factor).cuda().unsqueeze(1))\n",
    "#             X_imputed.append(mu_hat.cpu().numpy())\n",
    "            \n",
    "#     Z_imputed = np.concatenate(Z_imputed, axis=0)\n",
    "#     X_imputed = np.concatenate(X_imputed, axis=0)\n",
    "#     return Z_imputed, X_imputed"
   ]
  },
  {
   "cell_type": "code",
   "execution_count": 41,
   "id": "d2dcdb6c-99ec-4f21-a7d2-01222ad6de12",
   "metadata": {},
   "outputs": [],
   "source": [
    "# Z_imputed_interpolate, X_imputed_interpolate = interpolate_and_sample(dataloader,\n",
    "#                                                                       encoder_model, \n",
    "#                                                                       generative_model, \n",
    "#                                                                       tmax=0.9)"
   ]
  },
  {
   "cell_type": "code",
   "execution_count": 42,
   "id": "82c008fb-5cf2-46bd-b1bf-3ad3d1883bd4",
   "metadata": {},
   "outputs": [],
   "source": [
    "# np.mean(np.abs(X_imputed_interpolate.ravel()[dentate.uns['do_ix']] - dentate.layers[\"X_counts\"].A.ravel()[dentate.uns['do_ix']]))"
   ]
  },
  {
   "cell_type": "code",
   "execution_count": 43,
   "id": "f54df91a-bdb2-412c-a42a-ca749ccd85cf",
   "metadata": {},
   "outputs": [],
   "source": [
    "# plt.scatter(X_imputed_interpolate.ravel()[:100000], dentate.layers[\"X_counts\"].A.ravel()[:100000])\n",
    "# plt.title(\"Imputation CFGen\")\n",
    "# plt.xlabel(\"Predicted\")\n",
    "# plt.ylabel(\"Real\")"
   ]
  },
  {
   "cell_type": "markdown",
   "id": "761afc7e-e9d1-4d70-8411-7a5338107b6d",
   "metadata": {},
   "source": [
    "### Plot together"
   ]
  },
  {
   "cell_type": "code",
   "execution_count": 44,
   "id": "586bd4c2-05e7-420d-8a20-9d24a8c4d348",
   "metadata": {},
   "outputs": [],
   "source": [
    "scvi_pred = imputed_counts.ravel()[non_zero_idx][:100000]\n",
    "cfg_pred = X_imputed.ravel()[non_zero_idx][:100000]\n",
    "real_counts = dentate.layers[\"X_counts\"].A.ravel()[non_zero_idx][:100000]"
   ]
  },
  {
   "cell_type": "code",
   "execution_count": 45,
   "id": "3b3f93a0-6ce8-4a30-8a05-3dbf3c93eede",
   "metadata": {},
   "outputs": [],
   "source": [
    "# # Prepare the data for seaborn\n",
    "# data = pd.DataFrame({\n",
    "#     \"Ground truth\": np.concatenate([real_counts, real_counts]),\n",
    "#     \"Predictions\": np.concatenate([cfg_pred, scvi_pred]),\n",
    "#     \"Model\": [\"CFGen\"] * len(real_counts) + [\"scVI\"] * len(real_counts)\n",
    "# })\n",
    "\n",
    "# # Initialize the plot\n",
    "# plt.figure(figsize=(4, 4))\n",
    "\n",
    "# # Scatter plot with regression lines\n",
    "# sns.scatterplot(data=data, x=\"Predictions\", y=\"Ground truth\", hue=\"Model\", style=\"Model\", s=70)\n",
    "# sns.regplot(data=data[data[\"Model\"] == \"CFGen\"], x=\"Predictions\", y=\"Ground truth\", scatter=False, color=\"blue\", label=\"CFGen\")\n",
    "# sns.regplot(data=data[data[\"Model\"] == \"scVI\"], x=\"Predictions\", y=\"Ground truth\", scatter=False, color=\"orange\", label=\"scVI\")\n",
    "\n",
    "# # Add the y=x line (bisector)\n",
    "# plt.plot([min(real_counts), max(real_counts)], [min(real_counts), max(real_counts)],  linestyle=\"--\", linewidth=2, label=\"Bisector (y=x)\")\n",
    "\n",
    "# # Adjust plot aesthetics\n",
    "# plt.title(\"Dentate gyrus\", fontsize=14)\n",
    "# plt.xlabel(\"Predictions\", fontsize=14)\n",
    "# plt.ylabel(\"Ground truth\", fontsize=14)\n",
    "# plt.legend(bbox_to_anchor=(1.05, 1), loc='upper left')  # Place the legend outside\n",
    "# plt.axis(\"equal\")\n",
    "\n",
    "# plt.savefig(\"plots/dentategyrus_comparison.png\",bbox_inches='tight', format=\"png\")  # Save the figure\n",
    "# # Show the plot\n",
    "# plt.show()"
   ]
  },
  {
   "cell_type": "code",
   "execution_count": 46,
   "id": "43777012-e5ac-4eae-9f13-453f0644b55c",
   "metadata": {},
   "outputs": [
    {
     "data": {
      "image/png": "[encoded data removed]",
      "text/plain": [
       "<Figure size 400x400 with 1 Axes>"
      ]
     },
     "metadata": {},
     "output_type": "display_data"
    }
   ],
   "source": [
    "# Prepare the data for seaborn\n",
    "data = pd.DataFrame({\n",
    "    \"Ground truth\": real_counts,\n",
    "    \"Predictions\": cfg_pred,\n",
    "    \"Model\": [\"CFGen\"] * len(real_counts) \n",
    "})\n",
    "\n",
    "# Initialize the plot\n",
    "plt.figure(figsize=(4, 4))\n",
    "\n",
    "# Scatter plot with regression lines\n",
    "sns.scatterplot(data=data, x=\"Predictions\", y=\"Ground truth\", s=70)\n",
    "sns.regplot(data=data[data[\"Model\"] == \"CFGen\"], x=\"Predictions\", y=\"Ground truth\", scatter=False, color=\"blue\", label=\"CFGen\")\n",
    "\n",
    "# Add the y=x line (bisector)\n",
    "plt.plot([min(real_counts), max(real_counts)], [min(real_counts), max(real_counts)],  linestyle=\"--\", linewidth=2, label=\"Bisector (y=x)\")\n",
    "\n",
    "# Adjust plot aesthetics\n",
    "plt.title(\"Dentate gyrus\", fontsize=14)\n",
    "plt.xlabel(\"Predictions\", fontsize=14)\n",
    "plt.ylabel(\"Ground truth\", fontsize=14)\n",
    "plt.axis(\"equal\")\n",
    "\n",
    "plt.savefig(\"plots/dentategyrus_comparison.png\",bbox_inches='tight', format=\"png\")  # Save the figure\n",
    "# Show the plot\n",
    "plt.show()"
   ]
  },
  {
   "cell_type": "markdown",
   "id": "4d59defb-9586-4ecb-b215-13b78ecc3e50",
   "metadata": {},
   "source": [
    "Now make plots with multiple levels of noise "
   ]
  },
  {
   "cell_type": "code",
   "execution_count": 47,
   "id": "0fdc6a09-0870-4884-8cab-0a9fe1c0d235",
   "metadata": {
    "scrolled": true
   },
   "outputs": [
    {
     "name": "stderr",
     "output_type": "stream",
     "text": [
      "72it [00:40,  1.76it/s]\n"
     ]
    },
    {
     "data": {
      "image/png": "[encoded data removed]",
      "text/plain": [
       "<Figure size 300x300 with 1 Axes>"
      ]
     },
     "metadata": {},
     "output_type": "display_data"
    },
    {
     "name": "stdout",
     "output_type": "stream",
     "text": [
      "SignificanceResult(statistic=0.7615409192054233, pvalue=0.0)\n",
      "1.3595699\n"
     ]
    },
    {
     "name": "stderr",
     "output_type": "stream",
     "text": [
      "72it [00:43,  1.67it/s]\n"
     ]
    },
    {
     "data": {
      "image/png": "[encoded data removed]",
      "text/plain": [
       "<Figure size 300x300 with 1 Axes>"
      ]
     },
     "metadata": {},
     "output_type": "display_data"
    },
    {
     "name": "stdout",
     "output_type": "stream",
     "text": [
      "SignificanceResult(statistic=0.7615206457585229, pvalue=0.0)\n",
      "1.3597511\n"
     ]
    },
    {
     "name": "stderr",
     "output_type": "stream",
     "text": [
      "72it [00:45,  1.58it/s]\n"
     ]
    },
    {
     "data": {
      "image/png": "[encoded data removed]",
      "text/plain": [
       "<Figure size 300x300 with 1 Axes>"
      ]
     },
     "metadata": {},
     "output_type": "display_data"
    },
    {
     "name": "stdout",
     "output_type": "stream",
     "text": [
      "SignificanceResult(statistic=0.7592699668706281, pvalue=0.0)\n",
      "1.3753322\n"
     ]
    },
    {
     "name": "stderr",
     "output_type": "stream",
     "text": [
      "72it [00:45,  1.59it/s]\n"
     ]
    },
    {
     "data": {
      "image/png": "[encoded data removed]",
      "text/plain": [
       "<Figure size 300x300 with 1 Axes>"
      ]
     },
     "metadata": {},
     "output_type": "display_data"
    },
    {
     "name": "stdout",
     "output_type": "stream",
     "text": [
      "SignificanceResult(statistic=0.6619871717278967, pvalue=0.0)\n",
      "1.9423182\n"
     ]
    },
    {
     "name": "stderr",
     "output_type": "stream",
     "text": [
      "72it [00:38,  1.88it/s]\n"
     ]
    },
    {
     "data": {
      "image/png": "[encoded data removed]",
      "text/plain": [
       "<Figure size 300x300 with 1 Axes>"
      ]
     },
     "metadata": {},
     "output_type": "display_data"
    },
    {
     "name": "stdout",
     "output_type": "stream",
     "text": [
      "SignificanceResult(statistic=0.592255903909016, pvalue=0.0)\n",
      "2.2963614\n"
     ]
    },
    {
     "name": "stderr",
     "output_type": "stream",
     "text": [
      "72it [00:43,  1.67it/s]\n"
     ]
    },
    {
     "data": {
      "image/png": "[encoded data removed]",
      "text/plain": [
       "<Figure size 300x300 with 1 Axes>"
      ]
     },
     "metadata": {},
     "output_type": "display_data"
    },
    {
     "name": "stdout",
     "output_type": "stream",
     "text": [
      "SignificanceResult(statistic=0.5007941009801764, pvalue=0.0)\n",
      "2.693264\n"
     ]
    }
   ],
   "source": [
    "for std in [0.001, 0.01, 0.1, 1, 2, 10]:\n",
    "    _, X_imputed_var = invert_and_sample(dataloader, encoder_model, generative_model, sample_std=std)\n",
    "    plt.figure(figsize=(3, 3))\n",
    "    plt.scatter(X_imputed_var.ravel()[:100000], dentate.layers[\"X_counts\"].A.ravel()[:100000])\n",
    "    plt.title(f\"Dentate gyrus imputation std {std}\")\n",
    "    plt.xlabel(\"Predictions\")\n",
    "    plt.ylabel(\"Ground truth\")\n",
    "    plt.savefig(f\"plots/var_plots/dentate_comparison_{std}.png\",bbox_inches='tight', format=\"png\")  # Save the figure\n",
    "    plt.show()\n",
    "    print(scipy.stats.spearmanr(X_imputed_var.ravel()[non_zero_idx], dentate.layers[\"X_counts\"].A.ravel()[non_zero_idx]))\n",
    "    print(np.mean(np.abs(X_imputed_var.ravel()[non_zero_idx] - dentate.layers[\"X_counts\"].A.ravel()[[non_zero_idx]])))"
   ]
  },
  {
   "cell_type": "code",
   "execution_count": null,
   "id": "13f2a32d-71ba-4fe4-8470-bf223a5a340b",
   "metadata": {},
   "outputs": [],
   "source": []
  },
  {
   "cell_type": "code",
   "execution_count": null,
   "id": "49c007a8-562b-464c-aba3-08701155e234",
   "metadata": {},
   "outputs": [],
   "source": []
  }
 ],
 "metadata": {
  "kernelspec": {
   "display_name": "Python 3 (ipykernel)",
   "language": "python",
   "name": "python3"
  },
  "language_info": {
   "codemirror_mode": {
    "name": "ipython",
    "version": 3
   },
   "file_extension": ".py",
   "mimetype": "text/x-python",
   "name": "python",
   "nbconvert_exporter": "python",
   "pygments_lexer": "ipython3",
   "version": "3.10.13"
  }
 },
 "nbformat": 4,
 "nbformat_minor": 5
}
