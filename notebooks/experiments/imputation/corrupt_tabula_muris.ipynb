{
 "cells": [
  {
   "cell_type": "code",
   "execution_count": 77,
   "id": "018a40ce-938d-4c3c-ac42-2060392ab8e1",
   "metadata": {},
   "outputs": [],
   "source": [
    "import pandas as pd\n",
    "import numpy as np\n",
    "import scanpy as sc\n",
    "import scvi\n",
    "import torch\n",
    "import scipy.special as sp\n",
    "from tqdm import tqdm\n",
    "import matplotlib.pyplot as plt\n",
    "from scipy.sparse import csr_matrix\n",
    "import scipy.stats\n",
    "import seaborn as sns\n",
    "\n",
    "import matplotlib\n",
    "from matplotlib import rc\n",
    "import matplotlib.pyplot as plt \n",
    "matplotlib.rcdefaults()\n",
    "\n",
    "matplotlib_rc = { \n",
    "    # 'text': {'usetex': True}, \n",
    "    'font': {'family': 'serif'} } # Apply changes for k, v in matplotlib_rc.items(): rc(k, **v)\n",
    "for k, v in matplotlib_rc.items():\n",
    "          rc(k, **v)"
   ]
  },
  {
   "cell_type": "code",
   "execution_count": 18,
   "id": "d4be6c4e-3541-484c-adf7-a2232de2a2ce",
   "metadata": {},
   "outputs": [],
   "source": [
    "def corrupt_dataset(adata):\n",
    "    \"\"\"\n",
    "    Corrupts entries in an AnnData object's matrix with a probability of 0.1%.\n",
    "    \n",
    "    Parameters\n",
    "    ----------\n",
    "    adata : AnnData\n",
    "        The AnnData object whose data matrix (adata.X) will be corrupted.\n",
    "        This works for both dense and sparse matrices.\n",
    "\n",
    "    Returns\n",
    "    -------\n",
    "    None\n",
    "        The function modifies the adata object in place.\n",
    "    \"\"\"\n",
    "    # Only keep highly variable genes\n",
    "    adata = adata[:, adata.var.highly_variable]\n",
    "\n",
    "    # Shape of the dropout Bernoulli matrix \n",
    "    dim = adata.X.shape\n",
    "    \n",
    "    # Generate a mask of the same shape as the data matrix, with 0.1% probability of corruption\n",
    "    np.random.seed(42)\n",
    "    corruption_mask = 1-np.random.binomial(n=1, p=0.1, size=dim).astype(bool)\n",
    "    print(\"Dropped out\", (corruption_mask==0).sum())\n",
    "    print(\"Kept\", (corruption_mask==1).sum())\n",
    "\n",
    "    # Corrupt matrix by multiplying it by the mask \n",
    "    corrupted_mat = adata.layers[\"X_counts\"].A * corruption_mask\n",
    "\n",
    "    adata.layers[\"X_masked\"] = corrupted_mat\n",
    "\n",
    "    adata.uns[\"do_ix\"] = np.where(corruption_mask.ravel()==0)[0]\n",
    "    return adata"
   ]
  },
  {
   "cell_type": "markdown",
   "id": "84d06042-3731-4b11-966c-d1daeb299d67",
   "metadata": {},
   "source": [
    "**Tabula Muris**"
   ]
  },
  {
   "cell_type": "code",
   "execution_count": 19,
   "id": "24db283a-43fb-4df0-9404-2e7c5cde9df2",
   "metadata": {},
   "outputs": [
    {
     "name": "stdout",
     "output_type": "stream",
     "text": [
      "Dropped out 9997476\n",
      "Kept 90002524\n"
     ]
    },
    {
     "name": "stderr",
     "output_type": "stream",
     "text": [
      "/tmp/ipykernel_2454845/42061576.py:31: ImplicitModificationWarning: Setting element `.layers['X_masked']` of view, initializing view as actual.\n",
      "  adata.layers[\"X_masked\"] = corrupted_mat\n"
     ]
    }
   ],
   "source": [
    "tabula_muris = sc.read_h5ad(\"/home/icb/alessandro.palma/environment/cfgen/project_folder/datasets/processed_full_genome/tabula_muris/tabula_muris.h5ad\")\n",
    "sc.pp.subsample(tabula_muris, n_obs=50000)\n",
    "tabula_muris = corrupt_dataset(tabula_muris)\n",
    "tabula_muris.layers[\"X_masked\"] = csr_matrix(tabula_muris.layers[\"X_masked\"])\n",
    "tabula_muris.write_h5ad(\"/home/icb/alessandro.palma/environment/cfgen/project_folder/datasets/dropout/tabula_muris.h5ad\")"
   ]
  },
  {
   "cell_type": "markdown",
   "id": "acb48c69-c5e4-4e06-88f1-f3cf0856d5cd",
   "metadata": {},
   "source": [
    "## Train scVI on the masked data "
   ]
  },
  {
   "cell_type": "code",
   "execution_count": 10,
   "id": "2eec1757-a6ac-4d4f-8420-d4a17c5b4db0",
   "metadata": {},
   "outputs": [
    {
     "name": "stderr",
     "output_type": "stream",
     "text": [
      "/home/icb/alessandro.palma/miniconda3/envs/celldreamer/lib/python3.10/site-packages/lightning/fabric/plugins/environments/slurm.py:191: The `srun` command is available on your system but is not used. HINT: If your intention is to run Lightning on SLURM, prepend your python command with `srun` like so: srun python /home/icb/alessandro.palma/miniconda3/envs/celldream ...\n",
      "GPU available: True (cuda), used: True\n",
      "TPU available: False, using: 0 TPU cores\n",
      "IPU available: False, using: 0 IPUs\n",
      "HPU available: False, using: 0 HPUs\n"
     ]
    },
    {
     "name": "stdout",
     "output_type": "stream",
     "text": [
      "Using device: gpu\n"
     ]
    },
    {
     "name": "stderr",
     "output_type": "stream",
     "text": [
      "/home/icb/alessandro.palma/miniconda3/envs/celldreamer/lib/python3.10/site-packages/lightning/fabric/plugins/environments/slurm.py:191: The `srun` command is available on your system but is not used. HINT: If your intention is to run Lightning on SLURM, prepend your python command with `srun` like so: srun python /home/icb/alessandro.palma/miniconda3/envs/celldream ...\n",
      "LOCAL_RANK: 0 - CUDA_VISIBLE_DEVICES: [0]\n",
      "/home/icb/alessandro.palma/miniconda3/envs/celldreamer/lib/python3.10/site-packages/lightning/pytorch/trainer/connectors/data_connector.py:441: The 'train_dataloader' does not have many workers which may be a bottleneck. Consider increasing the value of the `num_workers` argument` to `num_workers=5` in the `DataLoader` to improve performance.\n"
     ]
    },
    {
     "name": "stdout",
     "output_type": "stream",
     "text": [
      "Epoch 100/100: 100%|██████████| 100/100 [04:33<00:00,  2.57s/it, v_num=1, train_loss_step=352, train_loss_epoch=339]"
     ]
    },
    {
     "name": "stderr",
     "output_type": "stream",
     "text": [
      "`Trainer.fit` stopped: `max_epochs=100` reached.\n"
     ]
    },
    {
     "name": "stdout",
     "output_type": "stream",
     "text": [
      "Epoch 100/100: 100%|██████████| 100/100 [04:33<00:00,  2.73s/it, v_num=1, train_loss_step=352, train_loss_epoch=339]\n"
     ]
    }
   ],
   "source": [
    "# Set up the anndata\n",
    "scvi.model.SCVI.setup_anndata(tabula_muris, \n",
    "                              layer=\"X_masked\",\n",
    "                              categorical_covariate_keys=[\"tissue\"])\n",
    "\n",
    "# SCVI model\n",
    "model = scvi.model.SCVI(tabula_muris, n_layers=3, n_latent=100, gene_likelihood=\"nb\")\n",
    "\n",
    "# Check for CUDA availability and specify device\n",
    "use_cuda = torch.cuda.is_available()\n",
    "device = \"gpu\" if use_cuda else \"cpu\"\n",
    "print(f\"Using device: {device}\")\n",
    "\n",
    "# Train model \n",
    "model.train(max_epochs=100, accelerator=device)"
   ]
  },
  {
   "cell_type": "code",
   "execution_count": 64,
   "id": "6a8d742a-3ba3-4ce8-a29f-1e8a9bf6a636",
   "metadata": {},
   "outputs": [
    {
     "name": "stdout",
     "output_type": "stream",
     "text": [
      "\u001b[34mINFO    \u001b[0m Input AnnData not setup with scvi-tools. attempting to transfer AnnData setup                             \n"
     ]
    }
   ],
   "source": [
    "imputed_counts = model.get_normalized_expression(tabula_muris,\n",
    "                            indices=None,\n",
    "                            transform_batch=None,\n",
    "                            gene_list = None,\n",
    "                            library_size = 1,\n",
    "                            n_samples = 1,\n",
    "                            n_samples_overall = None,\n",
    "                            weights = None,\n",
    "                            batch_size = None,\n",
    "                            return_mean = True,\n",
    "                            return_numpy = None,\n",
    "                            )\n",
    "imputed_counts = imputed_counts.values*tabula_muris.layers[\"X_counts\"].A.sum(1)[:,None]"
   ]
  },
  {
   "cell_type": "markdown",
   "id": "62ea6c03-5a3d-46f8-aeb0-bfa26ec71c35",
   "metadata": {},
   "source": [
    "All expression is normalized to sum to 1"
   ]
  },
  {
   "cell_type": "code",
   "execution_count": 65,
   "id": "a6d3b96b-d4c1-4f75-b663-1b4c74f843e3",
   "metadata": {},
   "outputs": [
    {
     "data": {
      "text/plain": [
       "0.46945524"
      ]
     },
     "execution_count": 65,
     "metadata": {},
     "output_type": "execute_result"
    }
   ],
   "source": [
    "np.mean(np.abs(imputed_counts.ravel()[tabula_muris.uns['do_ix']] - tabula_muris.layers[\"X_counts\"].A.ravel()[tabula_muris.uns['do_ix']]))"
   ]
  },
  {
   "cell_type": "markdown",
   "id": "4bf91d8c-ad01-4616-a1c3-96c3ac440dab",
   "metadata": {},
   "source": [
    "## Train CFGen on the masked data "
   ]
  },
  {
   "cell_type": "code",
   "execution_count": 13,
   "id": "8dd305c2-1e0f-4b11-98a3-484adc1f5bd2",
   "metadata": {},
   "outputs": [],
   "source": [
    "import os\n",
    "from pathlib import Path\n",
    "import uuid\n",
    "import torch\n",
    "from torch.utils.data import random_split\n",
    "from pytorch_lightning import Trainer\n",
    "from pytorch_lightning.callbacks import ModelCheckpoint, EarlyStopping\n",
    "from pytorch_lightning.loggers import WandbLogger\n",
    "from celldreamer.paths import TRAINING_FOLDER\n",
    "from celldreamer.data.scrnaseq_loader import RNAseqLoader\n",
    "from celldreamer.models.featurizers.category_featurizer import CategoricalFeaturizer\n",
    "from celldreamer.models.fm.denoising_model import MLPTimeStep\n",
    "from celldreamer.models.fm.fm import FM\n",
    "from celldreamer.models.base.encoder_model import EncoderModel\n",
    "from celldreamer.models.fm.ode import torch_wrapper\n",
    "from torchdyn.core import NeuralODE"
   ]
  },
  {
   "cell_type": "markdown",
   "id": "4bdff572-b54d-4bbe-9878-c8d0f8f2059f",
   "metadata": {},
   "source": [
    "### Encoder training"
   ]
  },
  {
   "cell_type": "markdown",
   "id": "9861ca8a-37f9-4996-99a4-ca0870030b72",
   "metadata": {},
   "source": [
    "Initialize dataloader "
   ]
  },
  {
   "cell_type": "code",
   "execution_count": 20,
   "id": "8dc5630e-eb16-42b8-8f48-3e5dd608845a",
   "metadata": {},
   "outputs": [],
   "source": [
    "data_path = \"/home/icb/alessandro.palma/environment/cfgen/project_folder/datasets/dropout/tabula_muris.h5ad\""
   ]
  },
  {
   "cell_type": "markdown",
   "id": "c418859e-d756-4b34-8e0f-bc22a6451b0a",
   "metadata": {},
   "source": [
    "All masked values are indeed 0"
   ]
  },
  {
   "cell_type": "code",
   "execution_count": 21,
   "id": "588d97d0-4254-4763-be2d-81a5c1b50d43",
   "metadata": {},
   "outputs": [
    {
     "name": "stdout",
     "output_type": "stream",
     "text": [
      "[0. 4. 0. ... 0. 0. 0.]\n",
      "[0. 0. 0. ... 0. 0. 0.]\n"
     ]
    }
   ],
   "source": [
    "print(tabula_muris.layers[\"X_counts\"].A.ravel()[tabula_muris.uns[\"do_ix\"].ravel()])\n",
    "print(tabula_muris.layers[\"X_masked\"].A.ravel()[tabula_muris.uns[\"do_ix\"].ravel()])"
   ]
  },
  {
   "cell_type": "code",
   "execution_count": 23,
   "id": "515a45ca-6d83-4ace-af10-7bea55a6dfac",
   "metadata": {},
   "outputs": [
    {
     "name": "stderr",
     "output_type": "stream",
     "text": [
      "/home/icb/alessandro.palma/miniconda3/envs/celldreamer/lib/python3.10/site-packages/anndata/__init__.py:51: FutureWarning: `anndata.read` is deprecated, use `anndata.read_h5ad` instead. `ad.read` will be removed in mid 2024.\n",
      "  warnings.warn(\n"
     ]
    }
   ],
   "source": [
    "# Initialize dataloaders for the different tasks \n",
    "dataset = RNAseqLoader(data_path=data_path,\n",
    "                        layer_key=\"X_masked\",               # Corresponding to config 'layer_key'\n",
    "                        covariate_keys=[\"tissue\"],        # Corresponding to config 'covariate_keys'\n",
    "                        subsample_frac=1,                   # Corresponding to config 'subsample_frac'\n",
    "                        encoder_type=\"learnt_autoencoder\",  # Corresponding to config 'encoder_type'\n",
    "                        multimodal=False,                   # Corresponding to config 'multimodal'\n",
    "                        is_binarized=False                  # Corresponding to config 'is_binarized'\n",
    "                    )"
   ]
  },
  {
   "cell_type": "code",
   "execution_count": 24,
   "id": "dfcbad70-6868-4efe-bbcf-c78b05665b28",
   "metadata": {},
   "outputs": [],
   "source": [
    "dataloader = torch.utils.data.DataLoader(dataset,\n",
    "                                        batch_size=256,\n",
    "                                        shuffle=True,\n",
    "                                        num_workers=4, \n",
    "                                        drop_last=True)\n",
    "gene_dim = dataset.X.shape[1] "
   ]
  },
  {
   "cell_type": "markdown",
   "id": "b9ba539e-04be-4830-8383-50735c8f5635",
   "metadata": {},
   "source": [
    "Initialize encoder"
   ]
  },
  {
   "cell_type": "code",
   "execution_count": 26,
   "id": "a857ffe7-cb7b-4c22-92ac-bf9d63ffb5ca",
   "metadata": {},
   "outputs": [],
   "source": [
    "encoder_model = EncoderModel(\n",
    "    in_dim=gene_dim,\n",
    "    n_cat=None,\n",
    "    conditioning_covariate=\"tissue\",   # From the first config file\n",
    "    encoder_type=\"learnt_autoencoder\",   # From the first config file\n",
    "    x0_from_x_kwargs = {\n",
    "        \"dims\":[512, 256, 100],                # From x0_from_x_kwargs.dims\n",
    "        \"batch_norm\":True,                     # From x0_from_x_kwargs.batch_norm\n",
    "        \"dropout\":False,                       # From x0_from_x_kwargs.dropout\n",
    "        \"dropout_p\":0.0},                       # From x0_from_x_kwargs.dropout_p\n",
    "    learning_rate=0.001,                 # From yaml learning_rate\n",
    "    weight_decay=0.00001,                # From yaml weight_decay\n",
    "    covariate_specific_theta=False,      # From yaml covariate_specific_theta\n",
    "    multimodal=False,                    # From yaml multimodal\n",
    "    is_binarized=False                   # From yaml is_binarized\n",
    ")"
   ]
  },
  {
   "cell_type": "code",
   "execution_count": 27,
   "id": "4a88b36b-8751-419c-a6d1-a444bed8cdd2",
   "metadata": {},
   "outputs": [
    {
     "name": "stderr",
     "output_type": "stream",
     "text": [
      "/home/icb/alessandro.palma/miniconda3/envs/celldreamer/lib/python3.10/site-packages/lightning_fabric/plugins/environments/slurm.py:204: The `srun` command is available on your system but is not used. HINT: If your intention is to run Lightning on SLURM, prepend your python command with `srun` like so: srun python /home/icb/alessandro.palma/miniconda3/envs/celldream ...\n",
      "GPU available: True (cuda), used: True\n",
      "TPU available: False, using: 0 TPU cores\n",
      "HPU available: False, using: 0 HPUs\n",
      "/home/icb/alessandro.palma/miniconda3/envs/celldreamer/lib/python3.10/site-packages/pytorch_lightning/trainer/connectors/logger_connector/logger_connector.py:75: Starting from v1.9.0, `tensorboardX` has been removed as a dependency of the `pytorch_lightning` package, due to potential conflicts with other packages in the ML ecosystem. For this reason, `logger=True` will use `CSVLogger` as the default logger, unless the `tensorboard` or `tensorboardX` packages are found. Please `pip install lightning[extra]` or one of them to enable TensorBoard support by default\n"
     ]
    }
   ],
   "source": [
    "trainer_generative = Trainer(max_epochs=100)"
   ]
  },
  {
   "cell_type": "code",
   "execution_count": 28,
   "id": "36bbefcb-2e0c-41ab-80f4-5abe55c7f5f2",
   "metadata": {},
   "outputs": [
    {
     "name": "stderr",
     "output_type": "stream",
     "text": [
      "LOCAL_RANK: 0 - CUDA_VISIBLE_DEVICES: [0]\n",
      "\n",
      "  | Name         | Type | Params | Mode \n",
      "----------------------------------------------\n",
      "0 | x0_from_x    | MLP  | 1.2 M  | train\n",
      "1 | x_from_x0    | MLP  | 1.2 M  | train\n",
      "  | other params | n/a  | 2.0 K  | n/a  \n",
      "----------------------------------------------\n",
      "2.4 M     Trainable params\n",
      "0         Non-trainable params\n",
      "2.4 M     Total params\n",
      "9.480     Total estimated model params size (MB)\n"
     ]
    },
    {
     "data": {
      "application/vnd.jupyter.widget-view+json": {
       "model_id": "",
       "version_major": 2,
       "version_minor": 0
      },
      "text/plain": [
       "Sanity Checking: |          | 0/? [00:00<?, ?it/s]"
      ]
     },
     "metadata": {},
     "output_type": "display_data"
    },
    {
     "name": "stderr",
     "output_type": "stream",
     "text": [
      "/home/icb/alessandro.palma/miniconda3/envs/celldreamer/lib/python3.10/site-packages/pytorch_lightning/trainer/connectors/data_connector.py:475: Your `val_dataloader`'s sampler has shuffling enabled, it is strongly recommended that you turn shuffling off for val/test dataloaders.\n"
     ]
    },
    {
     "data": {
      "application/vnd.jupyter.widget-view+json": {
       "model_id": "a580d51908a443d680c7577208066d99",
       "version_major": 2,
       "version_minor": 0
      },
      "text/plain": [
       "Training: |          | 0/? [00:00<?, ?it/s]"
      ]
     },
     "metadata": {},
     "output_type": "display_data"
    },
    {
     "data": {
      "application/vnd.jupyter.widget-view+json": {
       "model_id": "",
       "version_major": 2,
       "version_minor": 0
      },
      "text/plain": [
       "Validation: |          | 0/? [00:00<?, ?it/s]"
      ]
     },
     "metadata": {},
     "output_type": "display_data"
    },
    {
     "data": {
      "application/vnd.jupyter.widget-view+json": {
       "model_id": "",
       "version_major": 2,
       "version_minor": 0
      },
      "text/plain": [
       "Validation: |          | 0/? [00:00<?, ?it/s]"
      ]
     },
     "metadata": {},
     "output_type": "display_data"
    },
    {
     "data": {
      "application/vnd.jupyter.widget-view+json": {
       "model_id": "",
       "version_major": 2,
       "version_minor": 0
      },
      "text/plain": [
       "Validation: |          | 0/? [00:00<?, ?it/s]"
      ]
     },
     "metadata": {},
     "output_type": "display_data"
    },
    {
     "data": {
      "application/vnd.jupyter.widget-view+json": {
       "model_id": "",
       "version_major": 2,
       "version_minor": 0
      },
      "text/plain": [
       "Validation: |          | 0/? [00:00<?, ?it/s]"
      ]
     },
     "metadata": {},
     "output_type": "display_data"
    },
    {
     "data": {
      "application/vnd.jupyter.widget-view+json": {
       "model_id": "",
       "version_major": 2,
       "version_minor": 0
      },
      "text/plain": [
       "Validation: |          | 0/? [00:00<?, ?it/s]"
      ]
     },
     "metadata": {},
     "output_type": "display_data"
    },
    {
     "data": {
      "application/vnd.jupyter.widget-view+json": {
       "model_id": "",
       "version_major": 2,
       "version_minor": 0
      },
      "text/plain": [
       "Validation: |          | 0/? [00:00<?, ?it/s]"
      ]
     },
     "metadata": {},
     "output_type": "display_data"
    },
    {
     "data": {
      "application/vnd.jupyter.widget-view+json": {
       "model_id": "",
       "version_major": 2,
       "version_minor": 0
      },
      "text/plain": [
       "Validation: |          | 0/? [00:00<?, ?it/s]"
      ]
     },
     "metadata": {},
     "output_type": "display_data"
    },
    {
     "data": {
      "application/vnd.jupyter.widget-view+json": {
       "model_id": "",
       "version_major": 2,
       "version_minor": 0
      },
      "text/plain": [
       "Validation: |          | 0/? [00:00<?, ?it/s]"
      ]
     },
     "metadata": {},
     "output_type": "display_data"
    },
    {
     "data": {
      "application/vnd.jupyter.widget-view+json": {
       "model_id": "",
       "version_major": 2,
       "version_minor": 0
      },
      "text/plain": [
       "Validation: |          | 0/? [00:00<?, ?it/s]"
      ]
     },
     "metadata": {},
     "output_type": "display_data"
    },
    {
     "data": {
      "application/vnd.jupyter.widget-view+json": {
       "model_id": "",
       "version_major": 2,
       "version_minor": 0
      },
      "text/plain": [
       "Validation: |          | 0/? [00:00<?, ?it/s]"
      ]
     },
     "metadata": {},
     "output_type": "display_data"
    },
    {
     "data": {
      "application/vnd.jupyter.widget-view+json": {
       "model_id": "",
       "version_major": 2,
       "version_minor": 0
      },
      "text/plain": [
       "Validation: |          | 0/? [00:00<?, ?it/s]"
      ]
     },
     "metadata": {},
     "output_type": "display_data"
    },
    {
     "data": {
      "application/vnd.jupyter.widget-view+json": {
       "model_id": "",
       "version_major": 2,
       "version_minor": 0
      },
      "text/plain": [
       "Validation: |          | 0/? [00:00<?, ?it/s]"
      ]
     },
     "metadata": {},
     "output_type": "display_data"
    },
    {
     "data": {
      "application/vnd.jupyter.widget-view+json": {
       "model_id": "",
       "version_major": 2,
       "version_minor": 0
      },
      "text/plain": [
       "Validation: |          | 0/? [00:00<?, ?it/s]"
      ]
     },
     "metadata": {},
     "output_type": "display_data"
    },
    {
     "data": {
      "application/vnd.jupyter.widget-view+json": {
       "model_id": "",
       "version_major": 2,
       "version_minor": 0
      },
      "text/plain": [
       "Validation: |          | 0/? [00:00<?, ?it/s]"
      ]
     },
     "metadata": {},
     "output_type": "display_data"
    },
    {
     "data": {
      "application/vnd.jupyter.widget-view+json": {
       "model_id": "",
       "version_major": 2,
       "version_minor": 0
      },
      "text/plain": [
       "Validation: |          | 0/? [00:00<?, ?it/s]"
      ]
     },
     "metadata": {},
     "output_type": "display_data"
    },
    {
     "data": {
      "application/vnd.jupyter.widget-view+json": {
       "model_id": "",
       "version_major": 2,
       "version_minor": 0
      },
      "text/plain": [
       "Validation: |          | 0/? [00:00<?, ?it/s]"
      ]
     },
     "metadata": {},
     "output_type": "display_data"
    },
    {
     "data": {
      "application/vnd.jupyter.widget-view+json": {
       "model_id": "",
       "version_major": 2,
       "version_minor": 0
      },
      "text/plain": [
       "Validation: |          | 0/? [00:00<?, ?it/s]"
      ]
     },
     "metadata": {},
     "output_type": "display_data"
    },
    {
     "data": {
      "application/vnd.jupyter.widget-view+json": {
       "model_id": "",
       "version_major": 2,
       "version_minor": 0
      },
      "text/plain": [
       "Validation: |          | 0/? [00:00<?, ?it/s]"
      ]
     },
     "metadata": {},
     "output_type": "display_data"
    },
    {
     "data": {
      "application/vnd.jupyter.widget-view+json": {
       "model_id": "",
       "version_major": 2,
       "version_minor": 0
      },
      "text/plain": [
       "Validation: |          | 0/? [00:00<?, ?it/s]"
      ]
     },
     "metadata": {},
     "output_type": "display_data"
    },
    {
     "data": {
      "application/vnd.jupyter.widget-view+json": {
       "model_id": "",
       "version_major": 2,
       "version_minor": 0
      },
      "text/plain": [
       "Validation: |          | 0/? [00:00<?, ?it/s]"
      ]
     },
     "metadata": {},
     "output_type": "display_data"
    },
    {
     "data": {
      "application/vnd.jupyter.widget-view+json": {
       "model_id": "",
       "version_major": 2,
       "version_minor": 0
      },
      "text/plain": [
       "Validation: |          | 0/? [00:00<?, ?it/s]"
      ]
     },
     "metadata": {},
     "output_type": "display_data"
    },
    {
     "data": {
      "application/vnd.jupyter.widget-view+json": {
       "model_id": "",
       "version_major": 2,
       "version_minor": 0
      },
      "text/plain": [
       "Validation: |          | 0/? [00:00<?, ?it/s]"
      ]
     },
     "metadata": {},
     "output_type": "display_data"
    },
    {
     "data": {
      "application/vnd.jupyter.widget-view+json": {
       "model_id": "",
       "version_major": 2,
       "version_minor": 0
      },
      "text/plain": [
       "Validation: |          | 0/? [00:00<?, ?it/s]"
      ]
     },
     "metadata": {},
     "output_type": "display_data"
    },
    {
     "data": {
      "application/vnd.jupyter.widget-view+json": {
       "model_id": "",
       "version_major": 2,
       "version_minor": 0
      },
      "text/plain": [
       "Validation: |          | 0/? [00:00<?, ?it/s]"
      ]
     },
     "metadata": {},
     "output_type": "display_data"
    },
    {
     "data": {
      "application/vnd.jupyter.widget-view+json": {
       "model_id": "",
       "version_major": 2,
       "version_minor": 0
      },
      "text/plain": [
       "Validation: |          | 0/? [00:00<?, ?it/s]"
      ]
     },
     "metadata": {},
     "output_type": "display_data"
    },
    {
     "data": {
      "application/vnd.jupyter.widget-view+json": {
       "model_id": "",
       "version_major": 2,
       "version_minor": 0
      },
      "text/plain": [
       "Validation: |          | 0/? [00:00<?, ?it/s]"
      ]
     },
     "metadata": {},
     "output_type": "display_data"
    },
    {
     "data": {
      "application/vnd.jupyter.widget-view+json": {
       "model_id": "",
       "version_major": 2,
       "version_minor": 0
      },
      "text/plain": [
       "Validation: |          | 0/? [00:00<?, ?it/s]"
      ]
     },
     "metadata": {},
     "output_type": "display_data"
    },
    {
     "data": {
      "application/vnd.jupyter.widget-view+json": {
       "model_id": "",
       "version_major": 2,
       "version_minor": 0
      },
      "text/plain": [
       "Validation: |          | 0/? [00:00<?, ?it/s]"
      ]
     },
     "metadata": {},
     "output_type": "display_data"
    },
    {
     "data": {
      "application/vnd.jupyter.widget-view+json": {
       "model_id": "",
       "version_major": 2,
       "version_minor": 0
      },
      "text/plain": [
       "Validation: |          | 0/? [00:00<?, ?it/s]"
      ]
     },
     "metadata": {},
     "output_type": "display_data"
    },
    {
     "data": {
      "application/vnd.jupyter.widget-view+json": {
       "model_id": "",
       "version_major": 2,
       "version_minor": 0
      },
      "text/plain": [
       "Validation: |          | 0/? [00:00<?, ?it/s]"
      ]
     },
     "metadata": {},
     "output_type": "display_data"
    },
    {
     "data": {
      "application/vnd.jupyter.widget-view+json": {
       "model_id": "",
       "version_major": 2,
       "version_minor": 0
      },
      "text/plain": [
       "Validation: |          | 0/? [00:00<?, ?it/s]"
      ]
     },
     "metadata": {},
     "output_type": "display_data"
    },
    {
     "data": {
      "application/vnd.jupyter.widget-view+json": {
       "model_id": "",
       "version_major": 2,
       "version_minor": 0
      },
      "text/plain": [
       "Validation: |          | 0/? [00:00<?, ?it/s]"
      ]
     },
     "metadata": {},
     "output_type": "display_data"
    },
    {
     "data": {
      "application/vnd.jupyter.widget-view+json": {
       "model_id": "",
       "version_major": 2,
       "version_minor": 0
      },
      "text/plain": [
       "Validation: |          | 0/? [00:00<?, ?it/s]"
      ]
     },
     "metadata": {},
     "output_type": "display_data"
    },
    {
     "data": {
      "application/vnd.jupyter.widget-view+json": {
       "model_id": "",
       "version_major": 2,
       "version_minor": 0
      },
      "text/plain": [
       "Validation: |          | 0/? [00:00<?, ?it/s]"
      ]
     },
     "metadata": {},
     "output_type": "display_data"
    },
    {
     "data": {
      "application/vnd.jupyter.widget-view+json": {
       "model_id": "",
       "version_major": 2,
       "version_minor": 0
      },
      "text/plain": [
       "Validation: |          | 0/? [00:00<?, ?it/s]"
      ]
     },
     "metadata": {},
     "output_type": "display_data"
    },
    {
     "data": {
      "application/vnd.jupyter.widget-view+json": {
       "model_id": "",
       "version_major": 2,
       "version_minor": 0
      },
      "text/plain": [
       "Validation: |          | 0/? [00:00<?, ?it/s]"
      ]
     },
     "metadata": {},
     "output_type": "display_data"
    },
    {
     "data": {
      "application/vnd.jupyter.widget-view+json": {
       "model_id": "",
       "version_major": 2,
       "version_minor": 0
      },
      "text/plain": [
       "Validation: |          | 0/? [00:00<?, ?it/s]"
      ]
     },
     "metadata": {},
     "output_type": "display_data"
    },
    {
     "data": {
      "application/vnd.jupyter.widget-view+json": {
       "model_id": "",
       "version_major": 2,
       "version_minor": 0
      },
      "text/plain": [
       "Validation: |          | 0/? [00:00<?, ?it/s]"
      ]
     },
     "metadata": {},
     "output_type": "display_data"
    },
    {
     "data": {
      "application/vnd.jupyter.widget-view+json": {
       "model_id": "",
       "version_major": 2,
       "version_minor": 0
      },
      "text/plain": [
       "Validation: |          | 0/? [00:00<?, ?it/s]"
      ]
     },
     "metadata": {},
     "output_type": "display_data"
    },
    {
     "data": {
      "application/vnd.jupyter.widget-view+json": {
       "model_id": "",
       "version_major": 2,
       "version_minor": 0
      },
      "text/plain": [
       "Validation: |          | 0/? [00:00<?, ?it/s]"
      ]
     },
     "metadata": {},
     "output_type": "display_data"
    },
    {
     "data": {
      "application/vnd.jupyter.widget-view+json": {
       "model_id": "",
       "version_major": 2,
       "version_minor": 0
      },
      "text/plain": [
       "Validation: |          | 0/? [00:00<?, ?it/s]"
      ]
     },
     "metadata": {},
     "output_type": "display_data"
    },
    {
     "data": {
      "application/vnd.jupyter.widget-view+json": {
       "model_id": "",
       "version_major": 2,
       "version_minor": 0
      },
      "text/plain": [
       "Validation: |          | 0/? [00:00<?, ?it/s]"
      ]
     },
     "metadata": {},
     "output_type": "display_data"
    },
    {
     "data": {
      "application/vnd.jupyter.widget-view+json": {
       "model_id": "",
       "version_major": 2,
       "version_minor": 0
      },
      "text/plain": [
       "Validation: |          | 0/? [00:00<?, ?it/s]"
      ]
     },
     "metadata": {},
     "output_type": "display_data"
    },
    {
     "data": {
      "application/vnd.jupyter.widget-view+json": {
       "model_id": "",
       "version_major": 2,
       "version_minor": 0
      },
      "text/plain": [
       "Validation: |          | 0/? [00:00<?, ?it/s]"
      ]
     },
     "metadata": {},
     "output_type": "display_data"
    },
    {
     "data": {
      "application/vnd.jupyter.widget-view+json": {
       "model_id": "",
       "version_major": 2,
       "version_minor": 0
      },
      "text/plain": [
       "Validation: |          | 0/? [00:00<?, ?it/s]"
      ]
     },
     "metadata": {},
     "output_type": "display_data"
    },
    {
     "data": {
      "application/vnd.jupyter.widget-view+json": {
       "model_id": "",
       "version_major": 2,
       "version_minor": 0
      },
      "text/plain": [
       "Validation: |          | 0/? [00:00<?, ?it/s]"
      ]
     },
     "metadata": {},
     "output_type": "display_data"
    },
    {
     "data": {
      "application/vnd.jupyter.widget-view+json": {
       "model_id": "50a9479b303342e1b4786197913c89a1",
       "version_major": 2,
       "version_minor": 0
      },
      "text/plain": [
       "Validation: |          | 0/? [00:00<?, ?it/s]"
      ]
     },
     "metadata": {},
     "output_type": "display_data"
    },
    {
     "data": {
      "application/vnd.jupyter.widget-view+json": {
       "model_id": "5556568fae71495c972621603bc7bed5",
       "version_major": 2,
       "version_minor": 0
      },
      "text/plain": [
       "Validation: |          | 0/? [00:00<?, ?it/s]"
      ]
     },
     "metadata": {},
     "output_type": "display_data"
    },
    {
     "data": {
      "application/vnd.jupyter.widget-view+json": {
       "model_id": "931e134b96ff420ab9f8c0268361f931",
       "version_major": 2,
       "version_minor": 0
      },
      "text/plain": [
       "Validation: |          | 0/? [00:00<?, ?it/s]"
      ]
     },
     "metadata": {},
     "output_type": "display_data"
    },
    {
     "data": {
      "application/vnd.jupyter.widget-view+json": {
       "model_id": "130646eebdf34fa7ad5360a51049f783",
       "version_major": 2,
       "version_minor": 0
      },
      "text/plain": [
       "Validation: |          | 0/? [00:00<?, ?it/s]"
      ]
     },
     "metadata": {},
     "output_type": "display_data"
    },
    {
     "data": {
      "application/vnd.jupyter.widget-view+json": {
       "model_id": "ee4012315a0d419a8077942eb2e7c6b4",
       "version_major": 2,
       "version_minor": 0
      },
      "text/plain": [
       "Validation: |          | 0/? [00:00<?, ?it/s]"
      ]
     },
     "metadata": {},
     "output_type": "display_data"
    },
    {
     "data": {
      "application/vnd.jupyter.widget-view+json": {
       "model_id": "d3fb3c48127b46c78b837185ba26e879",
       "version_major": 2,
       "version_minor": 0
      },
      "text/plain": [
       "Validation: |          | 0/? [00:00<?, ?it/s]"
      ]
     },
     "metadata": {},
     "output_type": "display_data"
    },
    {
     "data": {
      "application/vnd.jupyter.widget-view+json": {
       "model_id": "04ba6ceb730640eb9a323a2cd659fc7e",
       "version_major": 2,
       "version_minor": 0
      },
      "text/plain": [
       "Validation: |          | 0/? [00:00<?, ?it/s]"
      ]
     },
     "metadata": {},
     "output_type": "display_data"
    },
    {
     "data": {
      "application/vnd.jupyter.widget-view+json": {
       "model_id": "aa0e979f945f4716995b200ef690fc96",
       "version_major": 2,
       "version_minor": 0
      },
      "text/plain": [
       "Validation: |          | 0/? [00:00<?, ?it/s]"
      ]
     },
     "metadata": {},
     "output_type": "display_data"
    },
    {
     "data": {
      "application/vnd.jupyter.widget-view+json": {
       "model_id": "8165e08059314dbc920b1b25c6374896",
       "version_major": 2,
       "version_minor": 0
      },
      "text/plain": [
       "Validation: |          | 0/? [00:00<?, ?it/s]"
      ]
     },
     "metadata": {},
     "output_type": "display_data"
    },
    {
     "data": {
      "application/vnd.jupyter.widget-view+json": {
       "model_id": "fe5094c3ef114d1395c7c6c331001c09",
       "version_major": 2,
       "version_minor": 0
      },
      "text/plain": [
       "Validation: |          | 0/? [00:00<?, ?it/s]"
      ]
     },
     "metadata": {},
     "output_type": "display_data"
    },
    {
     "data": {
      "application/vnd.jupyter.widget-view+json": {
       "model_id": "e16c6755d2fa47c5805f4fe02e98c843",
       "version_major": 2,
       "version_minor": 0
      },
      "text/plain": [
       "Validation: |          | 0/? [00:00<?, ?it/s]"
      ]
     },
     "metadata": {},
     "output_type": "display_data"
    },
    {
     "data": {
      "application/vnd.jupyter.widget-view+json": {
       "model_id": "2450a6e642cf4f8b971ed83e0b0ad23b",
       "version_major": 2,
       "version_minor": 0
      },
      "text/plain": [
       "Validation: |          | 0/? [00:00<?, ?it/s]"
      ]
     },
     "metadata": {},
     "output_type": "display_data"
    },
    {
     "data": {
      "application/vnd.jupyter.widget-view+json": {
       "model_id": "7fb611e7e65449fcb07a5112563c9d53",
       "version_major": 2,
       "version_minor": 0
      },
      "text/plain": [
       "Validation: |          | 0/? [00:00<?, ?it/s]"
      ]
     },
     "metadata": {},
     "output_type": "display_data"
    },
    {
     "data": {
      "application/vnd.jupyter.widget-view+json": {
       "model_id": "75db42b9986848138e3a7383e684b672",
       "version_major": 2,
       "version_minor": 0
      },
      "text/plain": [
       "Validation: |          | 0/? [00:00<?, ?it/s]"
      ]
     },
     "metadata": {},
     "output_type": "display_data"
    },
    {
     "data": {
      "application/vnd.jupyter.widget-view+json": {
       "model_id": "4084094402ed44148f4b09d4a609b3a8",
       "version_major": 2,
       "version_minor": 0
      },
      "text/plain": [
       "Validation: |          | 0/? [00:00<?, ?it/s]"
      ]
     },
     "metadata": {},
     "output_type": "display_data"
    },
    {
     "data": {
      "application/vnd.jupyter.widget-view+json": {
       "model_id": "8c3446307b154c6895a4145e99d64467",
       "version_major": 2,
       "version_minor": 0
      },
      "text/plain": [
       "Validation: |          | 0/? [00:00<?, ?it/s]"
      ]
     },
     "metadata": {},
     "output_type": "display_data"
    },
    {
     "data": {
      "application/vnd.jupyter.widget-view+json": {
       "model_id": "e50ce07f4a504644b637729eb7c4ca1d",
       "version_major": 2,
       "version_minor": 0
      },
      "text/plain": [
       "Validation: |          | 0/? [00:00<?, ?it/s]"
      ]
     },
     "metadata": {},
     "output_type": "display_data"
    },
    {
     "data": {
      "application/vnd.jupyter.widget-view+json": {
       "model_id": "245e6929542f4c57b1ab8e53fa23b319",
       "version_major": 2,
       "version_minor": 0
      },
      "text/plain": [
       "Validation: |          | 0/? [00:00<?, ?it/s]"
      ]
     },
     "metadata": {},
     "output_type": "display_data"
    },
    {
     "data": {
      "application/vnd.jupyter.widget-view+json": {
       "model_id": "519761ffff44435e9bc48467f3217283",
       "version_major": 2,
       "version_minor": 0
      },
      "text/plain": [
       "Validation: |          | 0/? [00:00<?, ?it/s]"
      ]
     },
     "metadata": {},
     "output_type": "display_data"
    },
    {
     "data": {
      "application/vnd.jupyter.widget-view+json": {
       "model_id": "baca7abbbe0e497e9f2dcdfe15f23b9c",
       "version_major": 2,
       "version_minor": 0
      },
      "text/plain": [
       "Validation: |          | 0/? [00:00<?, ?it/s]"
      ]
     },
     "metadata": {},
     "output_type": "display_data"
    },
    {
     "data": {
      "application/vnd.jupyter.widget-view+json": {
       "model_id": "3d91740f25db4bbca02c0810b866d5b9",
       "version_major": 2,
       "version_minor": 0
      },
      "text/plain": [
       "Validation: |          | 0/? [00:00<?, ?it/s]"
      ]
     },
     "metadata": {},
     "output_type": "display_data"
    },
    {
     "data": {
      "application/vnd.jupyter.widget-view+json": {
       "model_id": "ded6def807754124b811d3347acd7bc5",
       "version_major": 2,
       "version_minor": 0
      },
      "text/plain": [
       "Validation: |          | 0/? [00:00<?, ?it/s]"
      ]
     },
     "metadata": {},
     "output_type": "display_data"
    },
    {
     "data": {
      "application/vnd.jupyter.widget-view+json": {
       "model_id": "a287c6744a38466583b8f3e4362c2b47",
       "version_major": 2,
       "version_minor": 0
      },
      "text/plain": [
       "Validation: |          | 0/? [00:00<?, ?it/s]"
      ]
     },
     "metadata": {},
     "output_type": "display_data"
    },
    {
     "data": {
      "application/vnd.jupyter.widget-view+json": {
       "model_id": "e3b9c6cdc63c47a582c2c340493949bc",
       "version_major": 2,
       "version_minor": 0
      },
      "text/plain": [
       "Validation: |          | 0/? [00:00<?, ?it/s]"
      ]
     },
     "metadata": {},
     "output_type": "display_data"
    },
    {
     "data": {
      "application/vnd.jupyter.widget-view+json": {
       "model_id": "06648702d66a4d3c854e0d214c325477",
       "version_major": 2,
       "version_minor": 0
      },
      "text/plain": [
       "Validation: |          | 0/? [00:00<?, ?it/s]"
      ]
     },
     "metadata": {},
     "output_type": "display_data"
    },
    {
     "data": {
      "application/vnd.jupyter.widget-view+json": {
       "model_id": "02e531b2b701468bba1e74802a45be38",
       "version_major": 2,
       "version_minor": 0
      },
      "text/plain": [
       "Validation: |          | 0/? [00:00<?, ?it/s]"
      ]
     },
     "metadata": {},
     "output_type": "display_data"
    },
    {
     "data": {
      "application/vnd.jupyter.widget-view+json": {
       "model_id": "9ad16ad50dd94b6ab64500e37ad01353",
       "version_major": 2,
       "version_minor": 0
      },
      "text/plain": [
       "Validation: |          | 0/? [00:00<?, ?it/s]"
      ]
     },
     "metadata": {},
     "output_type": "display_data"
    },
    {
     "data": {
      "application/vnd.jupyter.widget-view+json": {
       "model_id": "a9efb239bc2d4592a11d28db59b5b6e2",
       "version_major": 2,
       "version_minor": 0
      },
      "text/plain": [
       "Validation: |          | 0/? [00:00<?, ?it/s]"
      ]
     },
     "metadata": {},
     "output_type": "display_data"
    },
    {
     "data": {
      "application/vnd.jupyter.widget-view+json": {
       "model_id": "d10205525c8b484784bafe49086b41fb",
       "version_major": 2,
       "version_minor": 0
      },
      "text/plain": [
       "Validation: |          | 0/? [00:00<?, ?it/s]"
      ]
     },
     "metadata": {},
     "output_type": "display_data"
    },
    {
     "data": {
      "application/vnd.jupyter.widget-view+json": {
       "model_id": "07223cf417c4414a9f057619651da564",
       "version_major": 2,
       "version_minor": 0
      },
      "text/plain": [
       "Validation: |          | 0/? [00:00<?, ?it/s]"
      ]
     },
     "metadata": {},
     "output_type": "display_data"
    },
    {
     "data": {
      "application/vnd.jupyter.widget-view+json": {
       "model_id": "1e816e5f4adc47d89a1757277658c9cb",
       "version_major": 2,
       "version_minor": 0
      },
      "text/plain": [
       "Validation: |          | 0/? [00:00<?, ?it/s]"
      ]
     },
     "metadata": {},
     "output_type": "display_data"
    },
    {
     "data": {
      "application/vnd.jupyter.widget-view+json": {
       "model_id": "3d9c845f4e784be7a34220eed4f79905",
       "version_major": 2,
       "version_minor": 0
      },
      "text/plain": [
       "Validation: |          | 0/? [00:00<?, ?it/s]"
      ]
     },
     "metadata": {},
     "output_type": "display_data"
    },
    {
     "data": {
      "application/vnd.jupyter.widget-view+json": {
       "model_id": "06298319dd8f452d9965b1c2be996590",
       "version_major": 2,
       "version_minor": 0
      },
      "text/plain": [
       "Validation: |          | 0/? [00:00<?, ?it/s]"
      ]
     },
     "metadata": {},
     "output_type": "display_data"
    },
    {
     "data": {
      "application/vnd.jupyter.widget-view+json": {
       "model_id": "1442ecf72ab542a78e2acaa35b020bc1",
       "version_major": 2,
       "version_minor": 0
      },
      "text/plain": [
       "Validation: |          | 0/? [00:00<?, ?it/s]"
      ]
     },
     "metadata": {},
     "output_type": "display_data"
    },
    {
     "data": {
      "application/vnd.jupyter.widget-view+json": {
       "model_id": "8f461d6f96cd43068c53fa326a869148",
       "version_major": 2,
       "version_minor": 0
      },
      "text/plain": [
       "Validation: |          | 0/? [00:00<?, ?it/s]"
      ]
     },
     "metadata": {},
     "output_type": "display_data"
    },
    {
     "data": {
      "application/vnd.jupyter.widget-view+json": {
       "model_id": "34ebe8c919f346b5a60042d5c14e29c2",
       "version_major": 2,
       "version_minor": 0
      },
      "text/plain": [
       "Validation: |          | 0/? [00:00<?, ?it/s]"
      ]
     },
     "metadata": {},
     "output_type": "display_data"
    },
    {
     "data": {
      "application/vnd.jupyter.widget-view+json": {
       "model_id": "2cdc5655d23d4b8bb0123edfb626e48a",
       "version_major": 2,
       "version_minor": 0
      },
      "text/plain": [
       "Validation: |          | 0/? [00:00<?, ?it/s]"
      ]
     },
     "metadata": {},
     "output_type": "display_data"
    },
    {
     "data": {
      "application/vnd.jupyter.widget-view+json": {
       "model_id": "4bd9f9c79a4a488bbf95f7672c6ac4a6",
       "version_major": 2,
       "version_minor": 0
      },
      "text/plain": [
       "Validation: |          | 0/? [00:00<?, ?it/s]"
      ]
     },
     "metadata": {},
     "output_type": "display_data"
    },
    {
     "data": {
      "application/vnd.jupyter.widget-view+json": {
       "model_id": "8f412182721e43ec875f053e8a63c164",
       "version_major": 2,
       "version_minor": 0
      },
      "text/plain": [
       "Validation: |          | 0/? [00:00<?, ?it/s]"
      ]
     },
     "metadata": {},
     "output_type": "display_data"
    },
    {
     "data": {
      "application/vnd.jupyter.widget-view+json": {
       "model_id": "da38c736a06d4e6197499cc91562fb7f",
       "version_major": 2,
       "version_minor": 0
      },
      "text/plain": [
       "Validation: |          | 0/? [00:00<?, ?it/s]"
      ]
     },
     "metadata": {},
     "output_type": "display_data"
    },
    {
     "data": {
      "application/vnd.jupyter.widget-view+json": {
       "model_id": "b530289f5838422cb840c28672456474",
       "version_major": 2,
       "version_minor": 0
      },
      "text/plain": [
       "Validation: |          | 0/? [00:00<?, ?it/s]"
      ]
     },
     "metadata": {},
     "output_type": "display_data"
    },
    {
     "data": {
      "application/vnd.jupyter.widget-view+json": {
       "model_id": "c9292521a1ab4ebf8ea2681d089c7d97",
       "version_major": 2,
       "version_minor": 0
      },
      "text/plain": [
       "Validation: |          | 0/? [00:00<?, ?it/s]"
      ]
     },
     "metadata": {},
     "output_type": "display_data"
    },
    {
     "data": {
      "application/vnd.jupyter.widget-view+json": {
       "model_id": "9f211d1d0d4343aaa7d51091b81cf359",
       "version_major": 2,
       "version_minor": 0
      },
      "text/plain": [
       "Validation: |          | 0/? [00:00<?, ?it/s]"
      ]
     },
     "metadata": {},
     "output_type": "display_data"
    },
    {
     "data": {
      "application/vnd.jupyter.widget-view+json": {
       "model_id": "77ae9686405f453aa734a59b2f7818db",
       "version_major": 2,
       "version_minor": 0
      },
      "text/plain": [
       "Validation: |          | 0/? [00:00<?, ?it/s]"
      ]
     },
     "metadata": {},
     "output_type": "display_data"
    },
    {
     "data": {
      "application/vnd.jupyter.widget-view+json": {
       "model_id": "9947eb3bdcbd4551a3b90a22942a4cfa",
       "version_major": 2,
       "version_minor": 0
      },
      "text/plain": [
       "Validation: |          | 0/? [00:00<?, ?it/s]"
      ]
     },
     "metadata": {},
     "output_type": "display_data"
    },
    {
     "data": {
      "application/vnd.jupyter.widget-view+json": {
       "model_id": "72c706cd03b149c7bf3137fc868388dd",
       "version_major": 2,
       "version_minor": 0
      },
      "text/plain": [
       "Validation: |          | 0/? [00:00<?, ?it/s]"
      ]
     },
     "metadata": {},
     "output_type": "display_data"
    },
    {
     "data": {
      "application/vnd.jupyter.widget-view+json": {
       "model_id": "f08f9e80aaaf4453a1509a7a7f34e223",
       "version_major": 2,
       "version_minor": 0
      },
      "text/plain": [
       "Validation: |          | 0/? [00:00<?, ?it/s]"
      ]
     },
     "metadata": {},
     "output_type": "display_data"
    },
    {
     "data": {
      "application/vnd.jupyter.widget-view+json": {
       "model_id": "9cc9a92ada194fb7bf479a9f21907307",
       "version_major": 2,
       "version_minor": 0
      },
      "text/plain": [
       "Validation: |          | 0/? [00:00<?, ?it/s]"
      ]
     },
     "metadata": {},
     "output_type": "display_data"
    },
    {
     "data": {
      "application/vnd.jupyter.widget-view+json": {
       "model_id": "10fb82b2995f4b688c7ee4f7c8002998",
       "version_major": 2,
       "version_minor": 0
      },
      "text/plain": [
       "Validation: |          | 0/? [00:00<?, ?it/s]"
      ]
     },
     "metadata": {},
     "output_type": "display_data"
    },
    {
     "data": {
      "application/vnd.jupyter.widget-view+json": {
       "model_id": "bd1e8d4073e3462e830cebf8e7918ed1",
       "version_major": 2,
       "version_minor": 0
      },
      "text/plain": [
       "Validation: |          | 0/? [00:00<?, ?it/s]"
      ]
     },
     "metadata": {},
     "output_type": "display_data"
    },
    {
     "data": {
      "application/vnd.jupyter.widget-view+json": {
       "model_id": "cec85422ed17444c89431e7d22718de7",
       "version_major": 2,
       "version_minor": 0
      },
      "text/plain": [
       "Validation: |          | 0/? [00:00<?, ?it/s]"
      ]
     },
     "metadata": {},
     "output_type": "display_data"
    },
    {
     "data": {
      "application/vnd.jupyter.widget-view+json": {
       "model_id": "6a024c5d136440159dddc1d8c14f07db",
       "version_major": 2,
       "version_minor": 0
      },
      "text/plain": [
       "Validation: |          | 0/? [00:00<?, ?it/s]"
      ]
     },
     "metadata": {},
     "output_type": "display_data"
    },
    {
     "data": {
      "application/vnd.jupyter.widget-view+json": {
       "model_id": "66c5f4d1216d4aa9830c9cd3fccb5276",
       "version_major": 2,
       "version_minor": 0
      },
      "text/plain": [
       "Validation: |          | 0/? [00:00<?, ?it/s]"
      ]
     },
     "metadata": {},
     "output_type": "display_data"
    },
    {
     "data": {
      "application/vnd.jupyter.widget-view+json": {
       "model_id": "9234f01b02584ee6a15e057195950bdc",
       "version_major": 2,
       "version_minor": 0
      },
      "text/plain": [
       "Validation: |          | 0/? [00:00<?, ?it/s]"
      ]
     },
     "metadata": {},
     "output_type": "display_data"
    },
    {
     "name": "stderr",
     "output_type": "stream",
     "text": [
      "`Trainer.fit` stopped: `max_epochs=100` reached.\n"
     ]
    }
   ],
   "source": [
    "trainer_generative.fit(\n",
    "            encoder_model,\n",
    "            train_dataloaders=dataloader,\n",
    "            val_dataloaders=dataloader)"
   ]
  },
  {
   "cell_type": "markdown",
   "id": "aa201fff-4eda-4ece-8560-f40bab649ace",
   "metadata": {},
   "source": [
    "### Flow training"
   ]
  },
  {
   "cell_type": "markdown",
   "id": "7fd3c42e-0662-4eae-b7eb-5c60d87b88f5",
   "metadata": {},
   "source": [
    "Initialize the flow"
   ]
  },
  {
   "cell_type": "code",
   "execution_count": 29,
   "id": "c7408b47-c4ea-4a23-ad8c-75d468f116f9",
   "metadata": {},
   "outputs": [],
   "source": [
    "# Latent dimension\n",
    "in_dim = 100  \n",
    "# No modality list \n",
    "modality_list = None "
   ]
  },
  {
   "cell_type": "markdown",
   "id": "45a15854-6699-49bd-a9af-7ff52334a478",
   "metadata": {},
   "source": [
    "Initialize the feature embeddings"
   ]
  },
  {
   "cell_type": "code",
   "execution_count": 30,
   "id": "ec2d6471-36b0-42dc-a1bf-a1a5b127c21d",
   "metadata": {},
   "outputs": [],
   "source": [
    "feature_embeddings = {}  \n",
    "num_classes = {}\n",
    "        \n",
    "for cov, cov_names in dataset.id2cov.items():\n",
    "    feature_embeddings[cov] = CategoricalFeaturizer(len(cov_names), \n",
    "                                                            False, \n",
    "                                                            \"cuda\", \n",
    "                                                            embedding_dimensions=100)\n",
    "\n",
    "    num_classes[cov] = 100"
   ]
  },
  {
   "cell_type": "markdown",
   "id": "0d071f56-d01a-4b29-abf0-4d6cb5739c18",
   "metadata": {},
   "source": [
    "Initialize the denoising model "
   ]
  },
  {
   "cell_type": "code",
   "execution_count": 31,
   "id": "627d4e5c-b0c4-4476-add2-ab65e4230cb1",
   "metadata": {},
   "outputs": [],
   "source": [
    "# Initialize the denoising model\n",
    "denoising_model = MLPTimeStep(in_dim=in_dim,                            # Presumably pre-defined\n",
    "                                hidden_dim=32,                            # From config hidden_dim\n",
    "                                dropout_prob=0,                           # From config dropout_prob\n",
    "                                n_blocks=3,                               # From config n_blocks\n",
    "                                model_type=\"conditional_latent\",          # From config model_type\n",
    "                                size_factor_min=dataset.min_size_factor,  # From dataset properties\n",
    "                                size_factor_max=dataset.max_size_factor,  # From dataset properties\n",
    "                                embedding_dim=100,                         # From config embedding_dim\n",
    "                                normalization=\"none\",                     # From config normalization\n",
    "                                conditional=True,                         # From config conditional\n",
    "                                multimodal=False,                         # From config multimodal\n",
    "                                is_binarized=False,                       # From config is_binarized\n",
    "                                modality_list=None,                       # Assuming no specific modality list\n",
    "                                embed_size_factor=False                   # From config embed_size_factor\n",
    "                                ).to(\"cuda\")"
   ]
  },
  {
   "cell_type": "code",
   "execution_count": 32,
   "id": "333030a6-f874-4617-a154-6883754ffd19",
   "metadata": {},
   "outputs": [],
   "source": [
    "for param in encoder_model.parameters():\n",
    "    param.requires_grad = False"
   ]
  },
  {
   "cell_type": "code",
   "execution_count": 33,
   "id": "9e83ed07-64f8-46e9-b950-1a0140428ab5",
   "metadata": {},
   "outputs": [
    {
     "name": "stderr",
     "output_type": "stream",
     "text": [
      "/home/icb/alessandro.palma/miniconda3/envs/celldreamer/lib/python3.10/site-packages/pytorch_lightning/utilities/parsing.py:208: Attribute 'encoder_model' is an instance of `nn.Module` and is already saved during checkpointing. It is recommended to ignore them using `self.save_hyperparameters(ignore=['encoder_model'])`.\n",
      "/home/icb/alessandro.palma/miniconda3/envs/celldreamer/lib/python3.10/site-packages/pytorch_lightning/utilities/parsing.py:208: Attribute 'denoising_model' is an instance of `nn.Module` and is already saved during checkpointing. It is recommended to ignore them using `self.save_hyperparameters(ignore=['denoising_model'])`.\n"
     ]
    }
   ],
   "source": [
    "size_factor_statistics = {\"mean\": dataset.log_size_factor_mu, \n",
    "                                        \"sd\": dataset.log_size_factor_sd}\n",
    "\n",
    "generative_model = FM(\n",
    "    encoder_model=encoder_model,\n",
    "    denoising_model=denoising_model,\n",
    "    feature_embeddings=feature_embeddings,\n",
    "    plotting_folder=\"/home/icb/alessandro.palma/environment/cfgen/notebooks/experiments/imputation/plots/try1\",\n",
    "    in_dim=in_dim,\n",
    "    size_factor_statistics=size_factor_statistics,\n",
    "    encoder_type=\"learnt_autoencoder\",\n",
    "    conditioning_covariate=\"tissue\",\n",
    "    model_type=denoising_model.model_type,\n",
    "    multimodal=dataset.multimodal,\n",
    "    is_binarized=False,\n",
    "    modality_list=None,\n",
    "    learning_rate=0.0001,\n",
    "    weight_decay=0.000001,\n",
    "    antithetic_time_sampling=True,\n",
    "    sigma=0.01,\n",
    "    use_ot=False\n",
    ")"
   ]
  },
  {
   "cell_type": "code",
   "execution_count": 34,
   "id": "b94e2b89-62c5-46f5-a138-e2b789232696",
   "metadata": {},
   "outputs": [
    {
     "name": "stderr",
     "output_type": "stream",
     "text": [
      "GPU available: True (cuda), used: True\n",
      "TPU available: False, using: 0 TPU cores\n",
      "HPU available: False, using: 0 HPUs\n"
     ]
    }
   ],
   "source": [
    "trainer_generative = Trainer(max_epochs=100)"
   ]
  },
  {
   "cell_type": "code",
   "execution_count": 35,
   "id": "e433d5b3-900c-4a6d-ae6b-3700df6a91b4",
   "metadata": {
    "scrolled": true
   },
   "outputs": [
    {
     "name": "stderr",
     "output_type": "stream",
     "text": [
      "LOCAL_RANK: 0 - CUDA_VISIBLE_DEVICES: [0]\n",
      "\n",
      "  | Name            | Type         | Params | Mode \n",
      "---------------------------------------------------------\n",
      "0 | encoder_model   | EncoderModel | 2.4 M  | train\n",
      "1 | denoising_model | MLPTimeStep  | 42.8 K | train\n",
      "2 | criterion       | MSELoss      | 0      | train\n",
      "---------------------------------------------------------\n",
      "42.8 K    Trainable params\n",
      "2.4 M     Non-trainable params\n",
      "2.4 M     Total params\n",
      "9.651     Total estimated model params size (MB)\n",
      "/home/icb/alessandro.palma/miniconda3/envs/celldreamer/lib/python3.10/site-packages/pytorch_lightning/core/saving.py:363: Skipping 'encoder_model' parameter because it is not possible to safely dump to YAML.\n",
      "/home/icb/alessandro.palma/miniconda3/envs/celldreamer/lib/python3.10/site-packages/pytorch_lightning/core/saving.py:363: Skipping 'denoising_model' parameter because it is not possible to safely dump to YAML.\n"
     ]
    },
    {
     "data": {
      "application/vnd.jupyter.widget-view+json": {
       "model_id": "",
       "version_major": 2,
       "version_minor": 0
      },
      "text/plain": [
       "Sanity Checking: |          | 0/? [00:00<?, ?it/s]"
      ]
     },
     "metadata": {},
     "output_type": "display_data"
    },
    {
     "data": {
      "application/vnd.jupyter.widget-view+json": {
       "model_id": "3c620c775cb94afcab9b5598fdd65ae7",
       "version_major": 2,
       "version_minor": 0
      },
      "text/plain": [
       "Training: |          | 0/? [00:00<?, ?it/s]"
      ]
     },
     "metadata": {},
     "output_type": "display_data"
    },
    {
     "data": {
      "application/vnd.jupyter.widget-view+json": {
       "model_id": "",
       "version_major": 2,
       "version_minor": 0
      },
      "text/plain": [
       "Validation: |          | 0/? [00:00<?, ?it/s]"
      ]
     },
     "metadata": {},
     "output_type": "display_data"
    },
    {
     "data": {
      "application/vnd.jupyter.widget-view+json": {
       "model_id": "",
       "version_major": 2,
       "version_minor": 0
      },
      "text/plain": [
       "Validation: |          | 0/? [00:00<?, ?it/s]"
      ]
     },
     "metadata": {},
     "output_type": "display_data"
    },
    {
     "data": {
      "application/vnd.jupyter.widget-view+json": {
       "model_id": "",
       "version_major": 2,
       "version_minor": 0
      },
      "text/plain": [
       "Validation: |          | 0/? [00:00<?, ?it/s]"
      ]
     },
     "metadata": {},
     "output_type": "display_data"
    },
    {
     "data": {
      "application/vnd.jupyter.widget-view+json": {
       "model_id": "",
       "version_major": 2,
       "version_minor": 0
      },
      "text/plain": [
       "Validation: |          | 0/? [00:00<?, ?it/s]"
      ]
     },
     "metadata": {},
     "output_type": "display_data"
    },
    {
     "data": {
      "application/vnd.jupyter.widget-view+json": {
       "model_id": "",
       "version_major": 2,
       "version_minor": 0
      },
      "text/plain": [
       "Validation: |          | 0/? [00:00<?, ?it/s]"
      ]
     },
     "metadata": {},
     "output_type": "display_data"
    },
    {
     "data": {
      "application/vnd.jupyter.widget-view+json": {
       "model_id": "",
       "version_major": 2,
       "version_minor": 0
      },
      "text/plain": [
       "Validation: |          | 0/? [00:00<?, ?it/s]"
      ]
     },
     "metadata": {},
     "output_type": "display_data"
    },
    {
     "data": {
      "application/vnd.jupyter.widget-view+json": {
       "model_id": "",
       "version_major": 2,
       "version_minor": 0
      },
      "text/plain": [
       "Validation: |          | 0/? [00:00<?, ?it/s]"
      ]
     },
     "metadata": {},
     "output_type": "display_data"
    },
    {
     "data": {
      "application/vnd.jupyter.widget-view+json": {
       "model_id": "",
       "version_major": 2,
       "version_minor": 0
      },
      "text/plain": [
       "Validation: |          | 0/? [00:00<?, ?it/s]"
      ]
     },
     "metadata": {},
     "output_type": "display_data"
    },
    {
     "data": {
      "application/vnd.jupyter.widget-view+json": {
       "model_id": "",
       "version_major": 2,
       "version_minor": 0
      },
      "text/plain": [
       "Validation: |          | 0/? [00:00<?, ?it/s]"
      ]
     },
     "metadata": {},
     "output_type": "display_data"
    },
    {
     "data": {
      "application/vnd.jupyter.widget-view+json": {
       "model_id": "",
       "version_major": 2,
       "version_minor": 0
      },
      "text/plain": [
       "Validation: |          | 0/? [00:00<?, ?it/s]"
      ]
     },
     "metadata": {},
     "output_type": "display_data"
    },
    {
     "data": {
      "application/vnd.jupyter.widget-view+json": {
       "model_id": "",
       "version_major": 2,
       "version_minor": 0
      },
      "text/plain": [
       "Validation: |          | 0/? [00:00<?, ?it/s]"
      ]
     },
     "metadata": {},
     "output_type": "display_data"
    },
    {
     "data": {
      "application/vnd.jupyter.widget-view+json": {
       "model_id": "",
       "version_major": 2,
       "version_minor": 0
      },
      "text/plain": [
       "Validation: |          | 0/? [00:00<?, ?it/s]"
      ]
     },
     "metadata": {},
     "output_type": "display_data"
    },
    {
     "data": {
      "application/vnd.jupyter.widget-view+json": {
       "model_id": "",
       "version_major": 2,
       "version_minor": 0
      },
      "text/plain": [
       "Validation: |          | 0/? [00:00<?, ?it/s]"
      ]
     },
     "metadata": {},
     "output_type": "display_data"
    },
    {
     "data": {
      "application/vnd.jupyter.widget-view+json": {
       "model_id": "",
       "version_major": 2,
       "version_minor": 0
      },
      "text/plain": [
       "Validation: |          | 0/? [00:00<?, ?it/s]"
      ]
     },
     "metadata": {},
     "output_type": "display_data"
    },
    {
     "data": {
      "application/vnd.jupyter.widget-view+json": {
       "model_id": "",
       "version_major": 2,
       "version_minor": 0
      },
      "text/plain": [
       "Validation: |          | 0/? [00:00<?, ?it/s]"
      ]
     },
     "metadata": {},
     "output_type": "display_data"
    },
    {
     "data": {
      "application/vnd.jupyter.widget-view+json": {
       "model_id": "",
       "version_major": 2,
       "version_minor": 0
      },
      "text/plain": [
       "Validation: |          | 0/? [00:00<?, ?it/s]"
      ]
     },
     "metadata": {},
     "output_type": "display_data"
    },
    {
     "data": {
      "application/vnd.jupyter.widget-view+json": {
       "model_id": "",
       "version_major": 2,
       "version_minor": 0
      },
      "text/plain": [
       "Validation: |          | 0/? [00:00<?, ?it/s]"
      ]
     },
     "metadata": {},
     "output_type": "display_data"
    },
    {
     "data": {
      "application/vnd.jupyter.widget-view+json": {
       "model_id": "",
       "version_major": 2,
       "version_minor": 0
      },
      "text/plain": [
       "Validation: |          | 0/? [00:00<?, ?it/s]"
      ]
     },
     "metadata": {},
     "output_type": "display_data"
    },
    {
     "data": {
      "application/vnd.jupyter.widget-view+json": {
       "model_id": "",
       "version_major": 2,
       "version_minor": 0
      },
      "text/plain": [
       "Validation: |          | 0/? [00:00<?, ?it/s]"
      ]
     },
     "metadata": {},
     "output_type": "display_data"
    },
    {
     "data": {
      "application/vnd.jupyter.widget-view+json": {
       "model_id": "",
       "version_major": 2,
       "version_minor": 0
      },
      "text/plain": [
       "Validation: |          | 0/? [00:00<?, ?it/s]"
      ]
     },
     "metadata": {},
     "output_type": "display_data"
    },
    {
     "data": {
      "application/vnd.jupyter.widget-view+json": {
       "model_id": "",
       "version_major": 2,
       "version_minor": 0
      },
      "text/plain": [
       "Validation: |          | 0/? [00:00<?, ?it/s]"
      ]
     },
     "metadata": {},
     "output_type": "display_data"
    },
    {
     "data": {
      "application/vnd.jupyter.widget-view+json": {
       "model_id": "",
       "version_major": 2,
       "version_minor": 0
      },
      "text/plain": [
       "Validation: |          | 0/? [00:00<?, ?it/s]"
      ]
     },
     "metadata": {},
     "output_type": "display_data"
    },
    {
     "data": {
      "application/vnd.jupyter.widget-view+json": {
       "model_id": "",
       "version_major": 2,
       "version_minor": 0
      },
      "text/plain": [
       "Validation: |          | 0/? [00:00<?, ?it/s]"
      ]
     },
     "metadata": {},
     "output_type": "display_data"
    },
    {
     "data": {
      "application/vnd.jupyter.widget-view+json": {
       "model_id": "",
       "version_major": 2,
       "version_minor": 0
      },
      "text/plain": [
       "Validation: |          | 0/? [00:00<?, ?it/s]"
      ]
     },
     "metadata": {},
     "output_type": "display_data"
    },
    {
     "data": {
      "application/vnd.jupyter.widget-view+json": {
       "model_id": "",
       "version_major": 2,
       "version_minor": 0
      },
      "text/plain": [
       "Validation: |          | 0/? [00:00<?, ?it/s]"
      ]
     },
     "metadata": {},
     "output_type": "display_data"
    },
    {
     "data": {
      "application/vnd.jupyter.widget-view+json": {
       "model_id": "",
       "version_major": 2,
       "version_minor": 0
      },
      "text/plain": [
       "Validation: |          | 0/? [00:00<?, ?it/s]"
      ]
     },
     "metadata": {},
     "output_type": "display_data"
    },
    {
     "data": {
      "application/vnd.jupyter.widget-view+json": {
       "model_id": "",
       "version_major": 2,
       "version_minor": 0
      },
      "text/plain": [
       "Validation: |          | 0/? [00:00<?, ?it/s]"
      ]
     },
     "metadata": {},
     "output_type": "display_data"
    },
    {
     "data": {
      "application/vnd.jupyter.widget-view+json": {
       "model_id": "",
       "version_major": 2,
       "version_minor": 0
      },
      "text/plain": [
       "Validation: |          | 0/? [00:00<?, ?it/s]"
      ]
     },
     "metadata": {},
     "output_type": "display_data"
    },
    {
     "data": {
      "application/vnd.jupyter.widget-view+json": {
       "model_id": "",
       "version_major": 2,
       "version_minor": 0
      },
      "text/plain": [
       "Validation: |          | 0/? [00:00<?, ?it/s]"
      ]
     },
     "metadata": {},
     "output_type": "display_data"
    },
    {
     "data": {
      "application/vnd.jupyter.widget-view+json": {
       "model_id": "",
       "version_major": 2,
       "version_minor": 0
      },
      "text/plain": [
       "Validation: |          | 0/? [00:00<?, ?it/s]"
      ]
     },
     "metadata": {},
     "output_type": "display_data"
    },
    {
     "data": {
      "application/vnd.jupyter.widget-view+json": {
       "model_id": "",
       "version_major": 2,
       "version_minor": 0
      },
      "text/plain": [
       "Validation: |          | 0/? [00:00<?, ?it/s]"
      ]
     },
     "metadata": {},
     "output_type": "display_data"
    },
    {
     "data": {
      "application/vnd.jupyter.widget-view+json": {
       "model_id": "",
       "version_major": 2,
       "version_minor": 0
      },
      "text/plain": [
       "Validation: |          | 0/? [00:00<?, ?it/s]"
      ]
     },
     "metadata": {},
     "output_type": "display_data"
    },
    {
     "data": {
      "application/vnd.jupyter.widget-view+json": {
       "model_id": "",
       "version_major": 2,
       "version_minor": 0
      },
      "text/plain": [
       "Validation: |          | 0/? [00:00<?, ?it/s]"
      ]
     },
     "metadata": {},
     "output_type": "display_data"
    },
    {
     "data": {
      "application/vnd.jupyter.widget-view+json": {
       "model_id": "",
       "version_major": 2,
       "version_minor": 0
      },
      "text/plain": [
       "Validation: |          | 0/? [00:00<?, ?it/s]"
      ]
     },
     "metadata": {},
     "output_type": "display_data"
    },
    {
     "data": {
      "application/vnd.jupyter.widget-view+json": {
       "model_id": "",
       "version_major": 2,
       "version_minor": 0
      },
      "text/plain": [
       "Validation: |          | 0/? [00:00<?, ?it/s]"
      ]
     },
     "metadata": {},
     "output_type": "display_data"
    },
    {
     "data": {
      "application/vnd.jupyter.widget-view+json": {
       "model_id": "",
       "version_major": 2,
       "version_minor": 0
      },
      "text/plain": [
       "Validation: |          | 0/? [00:00<?, ?it/s]"
      ]
     },
     "metadata": {},
     "output_type": "display_data"
    },
    {
     "data": {
      "application/vnd.jupyter.widget-view+json": {
       "model_id": "",
       "version_major": 2,
       "version_minor": 0
      },
      "text/plain": [
       "Validation: |          | 0/? [00:00<?, ?it/s]"
      ]
     },
     "metadata": {},
     "output_type": "display_data"
    },
    {
     "data": {
      "application/vnd.jupyter.widget-view+json": {
       "model_id": "",
       "version_major": 2,
       "version_minor": 0
      },
      "text/plain": [
       "Validation: |          | 0/? [00:00<?, ?it/s]"
      ]
     },
     "metadata": {},
     "output_type": "display_data"
    },
    {
     "data": {
      "application/vnd.jupyter.widget-view+json": {
       "model_id": "",
       "version_major": 2,
       "version_minor": 0
      },
      "text/plain": [
       "Validation: |          | 0/? [00:00<?, ?it/s]"
      ]
     },
     "metadata": {},
     "output_type": "display_data"
    },
    {
     "data": {
      "application/vnd.jupyter.widget-view+json": {
       "model_id": "",
       "version_major": 2,
       "version_minor": 0
      },
      "text/plain": [
       "Validation: |          | 0/? [00:00<?, ?it/s]"
      ]
     },
     "metadata": {},
     "output_type": "display_data"
    },
    {
     "data": {
      "application/vnd.jupyter.widget-view+json": {
       "model_id": "",
       "version_major": 2,
       "version_minor": 0
      },
      "text/plain": [
       "Validation: |          | 0/? [00:00<?, ?it/s]"
      ]
     },
     "metadata": {},
     "output_type": "display_data"
    },
    {
     "data": {
      "application/vnd.jupyter.widget-view+json": {
       "model_id": "",
       "version_major": 2,
       "version_minor": 0
      },
      "text/plain": [
       "Validation: |          | 0/? [00:00<?, ?it/s]"
      ]
     },
     "metadata": {},
     "output_type": "display_data"
    },
    {
     "data": {
      "application/vnd.jupyter.widget-view+json": {
       "model_id": "",
       "version_major": 2,
       "version_minor": 0
      },
      "text/plain": [
       "Validation: |          | 0/? [00:00<?, ?it/s]"
      ]
     },
     "metadata": {},
     "output_type": "display_data"
    },
    {
     "data": {
      "application/vnd.jupyter.widget-view+json": {
       "model_id": "",
       "version_major": 2,
       "version_minor": 0
      },
      "text/plain": [
       "Validation: |          | 0/? [00:00<?, ?it/s]"
      ]
     },
     "metadata": {},
     "output_type": "display_data"
    },
    {
     "data": {
      "application/vnd.jupyter.widget-view+json": {
       "model_id": "",
       "version_major": 2,
       "version_minor": 0
      },
      "text/plain": [
       "Validation: |          | 0/? [00:00<?, ?it/s]"
      ]
     },
     "metadata": {},
     "output_type": "display_data"
    },
    {
     "data": {
      "application/vnd.jupyter.widget-view+json": {
       "model_id": "",
       "version_major": 2,
       "version_minor": 0
      },
      "text/plain": [
       "Validation: |          | 0/? [00:00<?, ?it/s]"
      ]
     },
     "metadata": {},
     "output_type": "display_data"
    },
    {
     "data": {
      "application/vnd.jupyter.widget-view+json": {
       "model_id": "",
       "version_major": 2,
       "version_minor": 0
      },
      "text/plain": [
       "Validation: |          | 0/? [00:00<?, ?it/s]"
      ]
     },
     "metadata": {},
     "output_type": "display_data"
    },
    {
     "data": {
      "application/vnd.jupyter.widget-view+json": {
       "model_id": "7687ae99c2d241b89c8dbf242be9f608",
       "version_major": 2,
       "version_minor": 0
      },
      "text/plain": [
       "Validation: |          | 0/? [00:00<?, ?it/s]"
      ]
     },
     "metadata": {},
     "output_type": "display_data"
    },
    {
     "data": {
      "application/vnd.jupyter.widget-view+json": {
       "model_id": "1495fb37939f4b259b52db8b8bcdf580",
       "version_major": 2,
       "version_minor": 0
      },
      "text/plain": [
       "Validation: |          | 0/? [00:00<?, ?it/s]"
      ]
     },
     "metadata": {},
     "output_type": "display_data"
    },
    {
     "data": {
      "application/vnd.jupyter.widget-view+json": {
       "model_id": "af4080bd900b4ca4a7ef1c32842996fa",
       "version_major": 2,
       "version_minor": 0
      },
      "text/plain": [
       "Validation: |          | 0/? [00:00<?, ?it/s]"
      ]
     },
     "metadata": {},
     "output_type": "display_data"
    },
    {
     "data": {
      "application/vnd.jupyter.widget-view+json": {
       "model_id": "ba6e2f16f20d4eaaa713b1b7ac78e8bb",
       "version_major": 2,
       "version_minor": 0
      },
      "text/plain": [
       "Validation: |          | 0/? [00:00<?, ?it/s]"
      ]
     },
     "metadata": {},
     "output_type": "display_data"
    },
    {
     "data": {
      "application/vnd.jupyter.widget-view+json": {
       "model_id": "2f949e26b86b4a268413348bfbd6c328",
       "version_major": 2,
       "version_minor": 0
      },
      "text/plain": [
       "Validation: |          | 0/? [00:00<?, ?it/s]"
      ]
     },
     "metadata": {},
     "output_type": "display_data"
    },
    {
     "data": {
      "application/vnd.jupyter.widget-view+json": {
       "model_id": "e8b0d07b91bf4a6f8cb0d12b1611c52f",
       "version_major": 2,
       "version_minor": 0
      },
      "text/plain": [
       "Validation: |          | 0/? [00:00<?, ?it/s]"
      ]
     },
     "metadata": {},
     "output_type": "display_data"
    },
    {
     "data": {
      "application/vnd.jupyter.widget-view+json": {
       "model_id": "f022a4b902e9479daa80268a0e5e1e95",
       "version_major": 2,
       "version_minor": 0
      },
      "text/plain": [
       "Validation: |          | 0/? [00:00<?, ?it/s]"
      ]
     },
     "metadata": {},
     "output_type": "display_data"
    },
    {
     "data": {
      "application/vnd.jupyter.widget-view+json": {
       "model_id": "f5f12030ab93411d985b4e04bb4f8de9",
       "version_major": 2,
       "version_minor": 0
      },
      "text/plain": [
       "Validation: |          | 0/? [00:00<?, ?it/s]"
      ]
     },
     "metadata": {},
     "output_type": "display_data"
    },
    {
     "data": {
      "application/vnd.jupyter.widget-view+json": {
       "model_id": "dee3cc55a7cd4f43a5538c42aa85dabb",
       "version_major": 2,
       "version_minor": 0
      },
      "text/plain": [
       "Validation: |          | 0/? [00:00<?, ?it/s]"
      ]
     },
     "metadata": {},
     "output_type": "display_data"
    },
    {
     "data": {
      "application/vnd.jupyter.widget-view+json": {
       "model_id": "079030c058a64a7aafee9c4251a1c4dc",
       "version_major": 2,
       "version_minor": 0
      },
      "text/plain": [
       "Validation: |          | 0/? [00:00<?, ?it/s]"
      ]
     },
     "metadata": {},
     "output_type": "display_data"
    },
    {
     "data": {
      "application/vnd.jupyter.widget-view+json": {
       "model_id": "93f173e1502e4c3c99abc77fede1223d",
       "version_major": 2,
       "version_minor": 0
      },
      "text/plain": [
       "Validation: |          | 0/? [00:00<?, ?it/s]"
      ]
     },
     "metadata": {},
     "output_type": "display_data"
    },
    {
     "data": {
      "application/vnd.jupyter.widget-view+json": {
       "model_id": "d643057d6b52416286c92f1b50ef16e0",
       "version_major": 2,
       "version_minor": 0
      },
      "text/plain": [
       "Validation: |          | 0/? [00:00<?, ?it/s]"
      ]
     },
     "metadata": {},
     "output_type": "display_data"
    },
    {
     "data": {
      "application/vnd.jupyter.widget-view+json": {
       "model_id": "c54ed585b346407883c9d7be3fa15ab9",
       "version_major": 2,
       "version_minor": 0
      },
      "text/plain": [
       "Validation: |          | 0/? [00:00<?, ?it/s]"
      ]
     },
     "metadata": {},
     "output_type": "display_data"
    },
    {
     "data": {
      "application/vnd.jupyter.widget-view+json": {
       "model_id": "4b0f3b6f34df4a97a835c184a7017e9f",
       "version_major": 2,
       "version_minor": 0
      },
      "text/plain": [
       "Validation: |          | 0/? [00:00<?, ?it/s]"
      ]
     },
     "metadata": {},
     "output_type": "display_data"
    },
    {
     "data": {
      "application/vnd.jupyter.widget-view+json": {
       "model_id": "3be94f24c2704f1da7cfe4ac811f302f",
       "version_major": 2,
       "version_minor": 0
      },
      "text/plain": [
       "Validation: |          | 0/? [00:00<?, ?it/s]"
      ]
     },
     "metadata": {},
     "output_type": "display_data"
    },
    {
     "data": {
      "application/vnd.jupyter.widget-view+json": {
       "model_id": "3c23989c61464f2197f468df0c535abe",
       "version_major": 2,
       "version_minor": 0
      },
      "text/plain": [
       "Validation: |          | 0/? [00:00<?, ?it/s]"
      ]
     },
     "metadata": {},
     "output_type": "display_data"
    },
    {
     "data": {
      "application/vnd.jupyter.widget-view+json": {
       "model_id": "9ae9f578cdaf464e8c691b24df935d97",
       "version_major": 2,
       "version_minor": 0
      },
      "text/plain": [
       "Validation: |          | 0/? [00:00<?, ?it/s]"
      ]
     },
     "metadata": {},
     "output_type": "display_data"
    },
    {
     "data": {
      "application/vnd.jupyter.widget-view+json": {
       "model_id": "c00a1d0e64de4e3fb45bf72af691db9f",
       "version_major": 2,
       "version_minor": 0
      },
      "text/plain": [
       "Validation: |          | 0/? [00:00<?, ?it/s]"
      ]
     },
     "metadata": {},
     "output_type": "display_data"
    },
    {
     "data": {
      "application/vnd.jupyter.widget-view+json": {
       "model_id": "452fecd820ed4433a8d538a59af9a4da",
       "version_major": 2,
       "version_minor": 0
      },
      "text/plain": [
       "Validation: |          | 0/? [00:00<?, ?it/s]"
      ]
     },
     "metadata": {},
     "output_type": "display_data"
    },
    {
     "data": {
      "application/vnd.jupyter.widget-view+json": {
       "model_id": "e24ff38c47bd4f56888b37e0b97373f7",
       "version_major": 2,
       "version_minor": 0
      },
      "text/plain": [
       "Validation: |          | 0/? [00:00<?, ?it/s]"
      ]
     },
     "metadata": {},
     "output_type": "display_data"
    },
    {
     "data": {
      "application/vnd.jupyter.widget-view+json": {
       "model_id": "9309a9a6eced4d8cb5286db9923748fe",
       "version_major": 2,
       "version_minor": 0
      },
      "text/plain": [
       "Validation: |          | 0/? [00:00<?, ?it/s]"
      ]
     },
     "metadata": {},
     "output_type": "display_data"
    },
    {
     "data": {
      "application/vnd.jupyter.widget-view+json": {
       "model_id": "52acfb94ea3d4c159528f237f0aecb4a",
       "version_major": 2,
       "version_minor": 0
      },
      "text/plain": [
       "Validation: |          | 0/? [00:00<?, ?it/s]"
      ]
     },
     "metadata": {},
     "output_type": "display_data"
    },
    {
     "data": {
      "application/vnd.jupyter.widget-view+json": {
       "model_id": "e5fa4c94f3af464097162787768bc6ac",
       "version_major": 2,
       "version_minor": 0
      },
      "text/plain": [
       "Validation: |          | 0/? [00:00<?, ?it/s]"
      ]
     },
     "metadata": {},
     "output_type": "display_data"
    },
    {
     "data": {
      "application/vnd.jupyter.widget-view+json": {
       "model_id": "83b1278d4c204b96b45c0aabcd4bdbac",
       "version_major": 2,
       "version_minor": 0
      },
      "text/plain": [
       "Validation: |          | 0/? [00:00<?, ?it/s]"
      ]
     },
     "metadata": {},
     "output_type": "display_data"
    },
    {
     "data": {
      "application/vnd.jupyter.widget-view+json": {
       "model_id": "cc2ede68d03b42a29ca999b521a4ca47",
       "version_major": 2,
       "version_minor": 0
      },
      "text/plain": [
       "Validation: |          | 0/? [00:00<?, ?it/s]"
      ]
     },
     "metadata": {},
     "output_type": "display_data"
    },
    {
     "data": {
      "application/vnd.jupyter.widget-view+json": {
       "model_id": "c657355232d247b29149c667191a4a04",
       "version_major": 2,
       "version_minor": 0
      },
      "text/plain": [
       "Validation: |          | 0/? [00:00<?, ?it/s]"
      ]
     },
     "metadata": {},
     "output_type": "display_data"
    },
    {
     "data": {
      "application/vnd.jupyter.widget-view+json": {
       "model_id": "0160538105d64555bcf81163829e5267",
       "version_major": 2,
       "version_minor": 0
      },
      "text/plain": [
       "Validation: |          | 0/? [00:00<?, ?it/s]"
      ]
     },
     "metadata": {},
     "output_type": "display_data"
    },
    {
     "data": {
      "application/vnd.jupyter.widget-view+json": {
       "model_id": "1aa5d84f3168404d8e3973602898d5df",
       "version_major": 2,
       "version_minor": 0
      },
      "text/plain": [
       "Validation: |          | 0/? [00:00<?, ?it/s]"
      ]
     },
     "metadata": {},
     "output_type": "display_data"
    },
    {
     "data": {
      "application/vnd.jupyter.widget-view+json": {
       "model_id": "6ca521a7c0d246b4a50458c609c73c5c",
       "version_major": 2,
       "version_minor": 0
      },
      "text/plain": [
       "Validation: |          | 0/? [00:00<?, ?it/s]"
      ]
     },
     "metadata": {},
     "output_type": "display_data"
    },
    {
     "data": {
      "application/vnd.jupyter.widget-view+json": {
       "model_id": "19a0d7ad4d4e4051970f30507a0078c7",
       "version_major": 2,
       "version_minor": 0
      },
      "text/plain": [
       "Validation: |          | 0/? [00:00<?, ?it/s]"
      ]
     },
     "metadata": {},
     "output_type": "display_data"
    },
    {
     "data": {
      "application/vnd.jupyter.widget-view+json": {
       "model_id": "69b5ff9372e84275ae06bd39c039993e",
       "version_major": 2,
       "version_minor": 0
      },
      "text/plain": [
       "Validation: |          | 0/? [00:00<?, ?it/s]"
      ]
     },
     "metadata": {},
     "output_type": "display_data"
    },
    {
     "data": {
      "application/vnd.jupyter.widget-view+json": {
       "model_id": "e51c7546a39f49719a13d5c8c120ce42",
       "version_major": 2,
       "version_minor": 0
      },
      "text/plain": [
       "Validation: |          | 0/? [00:00<?, ?it/s]"
      ]
     },
     "metadata": {},
     "output_type": "display_data"
    },
    {
     "data": {
      "application/vnd.jupyter.widget-view+json": {
       "model_id": "2248f15345304b39a1a937de0837c23f",
       "version_major": 2,
       "version_minor": 0
      },
      "text/plain": [
       "Validation: |          | 0/? [00:00<?, ?it/s]"
      ]
     },
     "metadata": {},
     "output_type": "display_data"
    },
    {
     "data": {
      "application/vnd.jupyter.widget-view+json": {
       "model_id": "d0df2f36573c442c8a596134dd990174",
       "version_major": 2,
       "version_minor": 0
      },
      "text/plain": [
       "Validation: |          | 0/? [00:00<?, ?it/s]"
      ]
     },
     "metadata": {},
     "output_type": "display_data"
    },
    {
     "data": {
      "application/vnd.jupyter.widget-view+json": {
       "model_id": "e0d4548820134099bb57fd0e07036878",
       "version_major": 2,
       "version_minor": 0
      },
      "text/plain": [
       "Validation: |          | 0/? [00:00<?, ?it/s]"
      ]
     },
     "metadata": {},
     "output_type": "display_data"
    },
    {
     "data": {
      "application/vnd.jupyter.widget-view+json": {
       "model_id": "d95c410277ce400da1775fe6247637ac",
       "version_major": 2,
       "version_minor": 0
      },
      "text/plain": [
       "Validation: |          | 0/? [00:00<?, ?it/s]"
      ]
     },
     "metadata": {},
     "output_type": "display_data"
    },
    {
     "data": {
      "application/vnd.jupyter.widget-view+json": {
       "model_id": "537afd221e5a45529bfc975d3b36b850",
       "version_major": 2,
       "version_minor": 0
      },
      "text/plain": [
       "Validation: |          | 0/? [00:00<?, ?it/s]"
      ]
     },
     "metadata": {},
     "output_type": "display_data"
    },
    {
     "data": {
      "application/vnd.jupyter.widget-view+json": {
       "model_id": "b018f0aedc9c4a64a0c364b3ea46e882",
       "version_major": 2,
       "version_minor": 0
      },
      "text/plain": [
       "Validation: |          | 0/? [00:00<?, ?it/s]"
      ]
     },
     "metadata": {},
     "output_type": "display_data"
    },
    {
     "data": {
      "application/vnd.jupyter.widget-view+json": {
       "model_id": "959d922a52be4b2f8f3fc2dceda37b34",
       "version_major": 2,
       "version_minor": 0
      },
      "text/plain": [
       "Validation: |          | 0/? [00:00<?, ?it/s]"
      ]
     },
     "metadata": {},
     "output_type": "display_data"
    },
    {
     "data": {
      "application/vnd.jupyter.widget-view+json": {
       "model_id": "4692004243444269ab02046a4d694224",
       "version_major": 2,
       "version_minor": 0
      },
      "text/plain": [
       "Validation: |          | 0/? [00:00<?, ?it/s]"
      ]
     },
     "metadata": {},
     "output_type": "display_data"
    },
    {
     "data": {
      "application/vnd.jupyter.widget-view+json": {
       "model_id": "b7fa56dbaa95496fbb41dfffc83911f5",
       "version_major": 2,
       "version_minor": 0
      },
      "text/plain": [
       "Validation: |          | 0/? [00:00<?, ?it/s]"
      ]
     },
     "metadata": {},
     "output_type": "display_data"
    },
    {
     "data": {
      "application/vnd.jupyter.widget-view+json": {
       "model_id": "3e68e4b021aa4e08a557215bddd5338d",
       "version_major": 2,
       "version_minor": 0
      },
      "text/plain": [
       "Validation: |          | 0/? [00:00<?, ?it/s]"
      ]
     },
     "metadata": {},
     "output_type": "display_data"
    },
    {
     "data": {
      "application/vnd.jupyter.widget-view+json": {
       "model_id": "2dfdb5ce70c245be8042a0958a0d2f90",
       "version_major": 2,
       "version_minor": 0
      },
      "text/plain": [
       "Validation: |          | 0/? [00:00<?, ?it/s]"
      ]
     },
     "metadata": {},
     "output_type": "display_data"
    },
    {
     "data": {
      "application/vnd.jupyter.widget-view+json": {
       "model_id": "3935aa1c54f648bd91626c086aa508fd",
       "version_major": 2,
       "version_minor": 0
      },
      "text/plain": [
       "Validation: |          | 0/? [00:00<?, ?it/s]"
      ]
     },
     "metadata": {},
     "output_type": "display_data"
    },
    {
     "data": {
      "application/vnd.jupyter.widget-view+json": {
       "model_id": "a900be32a36f49acba39bc3df7bbced2",
       "version_major": 2,
       "version_minor": 0
      },
      "text/plain": [
       "Validation: |          | 0/? [00:00<?, ?it/s]"
      ]
     },
     "metadata": {},
     "output_type": "display_data"
    },
    {
     "data": {
      "application/vnd.jupyter.widget-view+json": {
       "model_id": "8a0acd06e47740af81e002566efe7e0a",
       "version_major": 2,
       "version_minor": 0
      },
      "text/plain": [
       "Validation: |          | 0/? [00:00<?, ?it/s]"
      ]
     },
     "metadata": {},
     "output_type": "display_data"
    },
    {
     "data": {
      "application/vnd.jupyter.widget-view+json": {
       "model_id": "ecb48915564349d1b1b845864e3db712",
       "version_major": 2,
       "version_minor": 0
      },
      "text/plain": [
       "Validation: |          | 0/? [00:00<?, ?it/s]"
      ]
     },
     "metadata": {},
     "output_type": "display_data"
    },
    {
     "data": {
      "application/vnd.jupyter.widget-view+json": {
       "model_id": "c36b804ba83340398eca2b4b0b5a6c4b",
       "version_major": 2,
       "version_minor": 0
      },
      "text/plain": [
       "Validation: |          | 0/? [00:00<?, ?it/s]"
      ]
     },
     "metadata": {},
     "output_type": "display_data"
    },
    {
     "data": {
      "application/vnd.jupyter.widget-view+json": {
       "model_id": "0c09254436664c1486d3014680327181",
       "version_major": 2,
       "version_minor": 0
      },
      "text/plain": [
       "Validation: |          | 0/? [00:00<?, ?it/s]"
      ]
     },
     "metadata": {},
     "output_type": "display_data"
    },
    {
     "data": {
      "application/vnd.jupyter.widget-view+json": {
       "model_id": "e762ad402cce4421abed7c872b783277",
       "version_major": 2,
       "version_minor": 0
      },
      "text/plain": [
       "Validation: |          | 0/? [00:00<?, ?it/s]"
      ]
     },
     "metadata": {},
     "output_type": "display_data"
    },
    {
     "data": {
      "application/vnd.jupyter.widget-view+json": {
       "model_id": "f522c5c8d0d84aa0a2378ef4d3821dcc",
       "version_major": 2,
       "version_minor": 0
      },
      "text/plain": [
       "Validation: |          | 0/? [00:00<?, ?it/s]"
      ]
     },
     "metadata": {},
     "output_type": "display_data"
    },
    {
     "data": {
      "application/vnd.jupyter.widget-view+json": {
       "model_id": "1fd7d8eaca084070891fef7c8f4d7efe",
       "version_major": 2,
       "version_minor": 0
      },
      "text/plain": [
       "Validation: |          | 0/? [00:00<?, ?it/s]"
      ]
     },
     "metadata": {},
     "output_type": "display_data"
    },
    {
     "data": {
      "application/vnd.jupyter.widget-view+json": {
       "model_id": "e04820e886144e01b961d497f76b9b6e",
       "version_major": 2,
       "version_minor": 0
      },
      "text/plain": [
       "Validation: |          | 0/? [00:00<?, ?it/s]"
      ]
     },
     "metadata": {},
     "output_type": "display_data"
    },
    {
     "name": "stderr",
     "output_type": "stream",
     "text": [
      "`Trainer.fit` stopped: `max_epochs=100` reached.\n"
     ]
    }
   ],
   "source": [
    "trainer_generative.fit(generative_model,\n",
    "                        train_dataloaders=dataloader,\n",
    "                        val_dataloaders=dataloader)"
   ]
  },
  {
   "cell_type": "code",
   "execution_count": 36,
   "id": "3e708c13-a964-4bbf-85dc-4937790524b4",
   "metadata": {},
   "outputs": [],
   "source": [
    "generative_model = generative_model.cuda()"
   ]
  },
  {
   "cell_type": "markdown",
   "id": "ab64b573-f9b7-427b-8301-59629685a23f",
   "metadata": {},
   "source": [
    "# Implementation of augmentation appraches "
   ]
  },
  {
   "cell_type": "code",
   "execution_count": 37,
   "id": "a04f4ce9-01cb-478c-91d9-d6674b58762a",
   "metadata": {},
   "outputs": [
    {
     "name": "stderr",
     "output_type": "stream",
     "text": [
      "/home/icb/alessandro.palma/miniconda3/envs/celldreamer/lib/python3.10/site-packages/anndata/__init__.py:51: FutureWarning: `anndata.read` is deprecated, use `anndata.read_h5ad` instead. `ad.read` will be removed in mid 2024.\n",
      "  warnings.warn(\n"
     ]
    }
   ],
   "source": [
    "dataset = RNAseqLoader(data_path=data_path,\n",
    "                        layer_key=\"X_masked\",               # Corresponding to config 'layer_key'\n",
    "                        covariate_keys=[\"tissue\"],        # Corresponding to config 'covariate_keys'\n",
    "                        subsample_frac=1,                   # Corresponding to config 'subsample_frac'\n",
    "                        encoder_type=\"learnt_autoencoder\",  # Corresponding to config 'encoder_type'\n",
    "                        multimodal=False,                   # Corresponding to config 'multimodal'\n",
    "                        is_binarized=False                  # Corresponding to config 'is_binarized'\n",
    "                    )"
   ]
  },
  {
   "cell_type": "markdown",
   "id": "8039335c-10e4-4a61-8aae-69fb8d40733e",
   "metadata": {},
   "source": [
    "#### Invert and sample"
   ]
  },
  {
   "cell_type": "code",
   "execution_count": 38,
   "id": "23b5aa40-40eb-4576-8176-289481ef535a",
   "metadata": {},
   "outputs": [],
   "source": [
    "dataloader = torch.utils.data.DataLoader(dataset,\n",
    "                                            batch_size=256,\n",
    "                                            shuffle=False,\n",
    "                                            num_workers=4, \n",
    "                                            drop_last=False)\n",
    "gene_dim = dataset.X.shape[1] "
   ]
  },
  {
   "cell_type": "code",
   "execution_count": 41,
   "id": "166cc55c-5687-457f-9daa-abb4939a5321",
   "metadata": {},
   "outputs": [],
   "source": [
    "def invert_and_sample(dataloader, encoder_model, generative_model, sample_std=0.1):\n",
    "    # Sampled results \n",
    "    Z_imputed = [] \n",
    "    X_imputed = []\n",
    "    \n",
    "    # Times to apply correction\n",
    "    t = torch.linspace(0, 1, 100, device=generative_model.device)\n",
    "    reverse_t = torch.linspace(1, 0, 100, device=generative_model.device)\n",
    "\n",
    "    for i, batch in tqdm(enumerate(dataloader)):\n",
    "        with torch.no_grad():\n",
    "            # Encode latent space \n",
    "            z = encoder_model.encode(batch)\n",
    "    \n",
    "            # Get size factor\n",
    "            size_factor = torch.tensor(tabula_muris.layers[\"X_counts\"][(i*256):((i+1)*256)].sum(1)).squeeze()\n",
    "            log_size_factor = torch.log(torch.tensor(tabula_muris.layers[\"X_counts\"][(i*256):((i+1)*256)].sum(1))).squeeze()\n",
    "            \n",
    "    \n",
    "            # Get condition embeddings\n",
    "            y = generative_model.feature_embeddings[\"tissue\"](batch[\"y\"][\"tissue\"].cuda())\n",
    "    \n",
    "            # Go back to noise\n",
    "            denoising_model_ode = torch_wrapper(generative_model.denoising_model, \n",
    "                                                log_size_factor, \n",
    "                                                y)    \n",
    "            \n",
    "            node = NeuralODE(denoising_model_ode,\n",
    "                                    solver=\"dopri5\", \n",
    "                                    sensitivity=\"adjoint\", \n",
    "                                    atol=1e-5, \n",
    "                                    rtol=1e-5)        \n",
    "    \n",
    "            z0 = node.trajectory(z, t_span=reverse_t)[-1]\n",
    "\n",
    "            # Now sample around noise\n",
    "            noise = torch.randn_like(z0) * sample_std  # Gaussian noise\n",
    "            z0 = z0 + noise\n",
    "    \n",
    "            z1 = node.trajectory(z0, t_span=t)[-1]\n",
    "            Z_imputed.append(z1.cpu().numpy())\n",
    "    \n",
    "            # Now decode\n",
    "            mu_hat = generative_model._decode(z1, size_factor.cuda().unsqueeze(1))\n",
    "            X_imputed.append(mu_hat.cpu().numpy())\n",
    "\n",
    "    Z_imputed = np.concatenate(Z_imputed, axis=0)\n",
    "    X_imputed = np.concatenate(X_imputed, axis=0)\n",
    "    return Z_imputed, X_imputed"
   ]
  },
  {
   "cell_type": "code",
   "execution_count": 42,
   "id": "0b9e9a06-50a3-4477-b0bb-4cba5c05529d",
   "metadata": {
    "scrolled": true
   },
   "outputs": [
    {
     "name": "stderr",
     "output_type": "stream",
     "text": [
      "196it [04:17,  1.31s/it]\n"
     ]
    }
   ],
   "source": [
    "Z_imputed, X_imputed = invert_and_sample(dataloader, encoder_model, generative_model, sample_std=0.0001)"
   ]
  },
  {
   "cell_type": "code",
   "execution_count": 43,
   "id": "a00f1248-0946-499c-b88f-638e0510d054",
   "metadata": {},
   "outputs": [
    {
     "name": "stdout",
     "output_type": "stream",
     "text": [
      "(50000, 100)\n",
      "(50000, 2000)\n"
     ]
    }
   ],
   "source": [
    "print(Z_imputed.shape)\n",
    "print(X_imputed.shape)"
   ]
  },
  {
   "cell_type": "code",
   "execution_count": 44,
   "id": "cf50e586-a0fe-4595-89d5-f8447dacdc16",
   "metadata": {},
   "outputs": [
    {
     "data": {
      "text/plain": [
       "0.72458684"
      ]
     },
     "execution_count": 44,
     "metadata": {},
     "output_type": "execute_result"
    }
   ],
   "source": [
    "np.mean(np.abs(X_imputed.ravel()[tabula_muris.uns['do_ix']] - tabula_muris.layers[\"X_counts\"].A.ravel()[tabula_muris.uns['do_ix']]))"
   ]
  },
  {
   "cell_type": "code",
   "execution_count": 45,
   "id": "2e5eca46-01b9-48ce-a683-f289669eb5cc",
   "metadata": {},
   "outputs": [
    {
     "data": {
      "text/plain": [
       "SignificanceResult(statistic=0.35948315809572545, pvalue=0.0)"
      ]
     },
     "execution_count": 45,
     "metadata": {},
     "output_type": "execute_result"
    }
   ],
   "source": [
    "scipy.stats.spearmanr(X_imputed.ravel()[tabula_muris.uns['do_ix']], tabula_muris.layers[\"X_counts\"].A.ravel()[tabula_muris.uns['do_ix']])"
   ]
  },
  {
   "cell_type": "code",
   "execution_count": 46,
   "id": "e6206529-2cc8-4b71-942f-62e844e0784b",
   "metadata": {},
   "outputs": [
    {
     "data": {
      "text/plain": [
       "SignificanceResult(statistic=0.3655833497266887, pvalue=0.0)"
      ]
     },
     "execution_count": 46,
     "metadata": {},
     "output_type": "execute_result"
    }
   ],
   "source": [
    "scipy.stats.spearmanr(imputed_counts.ravel()[tabula_muris.uns['do_ix']], tabula_muris.layers[\"X_counts\"].A.ravel()[tabula_muris.uns['do_ix']])"
   ]
  },
  {
   "cell_type": "code",
   "execution_count": 56,
   "id": "04c338df-f89d-4326-bf6c-b134cdebcb9e",
   "metadata": {},
   "outputs": [
    {
     "data": {
      "text/plain": [
       "Text(0, 0.5, 'Real')"
      ]
     },
     "execution_count": 56,
     "metadata": {},
     "output_type": "execute_result"
    },
    {
     "data": {
      "image/png": "[encoded data removed]",
      "text/plain": [
       "<Figure size 640x480 with 1 Axes>"
      ]
     },
     "metadata": {},
     "output_type": "display_data"
    }
   ],
   "source": [
    "plt.scatter(X_imputed.ravel()[:20000], tabula_muris.layers[\"X_counts\"].A.ravel()[:20000])\n",
    "plt.title(\"Imputation CFGen\")\n",
    "plt.xlabel(\"Predicted\")\n",
    "plt.ylabel(\"Real\")"
   ]
  },
  {
   "cell_type": "code",
   "execution_count": 66,
   "id": "99f31cd7-25ab-4fb6-b610-89fc54af4b73",
   "metadata": {},
   "outputs": [
    {
     "data": {
      "text/plain": [
       "Text(0, 0.5, 'Real')"
      ]
     },
     "execution_count": 66,
     "metadata": {},
     "output_type": "execute_result"
    },
    {
     "data": {
      "image/png": "[encoded data removed]",
      "text/plain": [
       "<Figure size 640x480 with 1 Axes>"
      ]
     },
     "metadata": {},
     "output_type": "display_data"
    }
   ],
   "source": [
    "plt.scatter(imputed_counts.ravel()[:200000], tabula_muris.layers[\"X_counts\"].A.ravel()[:200000])\n",
    "plt.title(\"Imputation scVI\")\n",
    "plt.xlabel(\"Predicted\")\n",
    "plt.ylabel(\"Real\")"
   ]
  },
  {
   "cell_type": "markdown",
   "id": "e90b64b5-a012-46a4-afe2-e00a06544b2d",
   "metadata": {},
   "source": [
    "## Correlation non zero genes"
   ]
  },
  {
   "cell_type": "code",
   "execution_count": 67,
   "id": "4198f9d0-d175-42a1-b29c-32eade435404",
   "metadata": {},
   "outputs": [],
   "source": [
    "non_zero_idx = np.where(tabula_muris.layers[\"X_masked\"].A.ravel()!=0)"
   ]
  },
  {
   "cell_type": "code",
   "execution_count": 68,
   "id": "f542c9aa-2399-4238-b220-4f1c4f6188d0",
   "metadata": {},
   "outputs": [
    {
     "data": {
      "text/plain": [
       "SignificanceResult(statistic=0.8661507454685711, pvalue=0.0)"
      ]
     },
     "execution_count": 68,
     "metadata": {},
     "output_type": "execute_result"
    }
   ],
   "source": [
    "scipy.stats.spearmanr(X_imputed.ravel()[non_zero_idx], tabula_muris.layers[\"X_counts\"].A.ravel()[non_zero_idx])"
   ]
  },
  {
   "cell_type": "code",
   "execution_count": 69,
   "id": "2f6c274d-1d80-4dd7-9d76-0217c6de83bb",
   "metadata": {},
   "outputs": [
    {
     "data": {
      "text/plain": [
       "SignificanceResult(statistic=0.7904394551233713, pvalue=0.0)"
      ]
     },
     "execution_count": 69,
     "metadata": {},
     "output_type": "execute_result"
    }
   ],
   "source": [
    "scipy.stats.spearmanr(imputed_counts.ravel()[non_zero_idx], tabula_muris.layers[\"X_counts\"].A.ravel()[non_zero_idx])"
   ]
  },
  {
   "cell_type": "code",
   "execution_count": 70,
   "id": "2f25ea9b-c800-4e46-9699-ee5f68c350d0",
   "metadata": {},
   "outputs": [
    {
     "data": {
      "text/plain": [
       "4.81281"
      ]
     },
     "execution_count": 70,
     "metadata": {},
     "output_type": "execute_result"
    }
   ],
   "source": [
    "np.mean(np.abs(X_imputed.ravel()[non_zero_idx] - tabula_muris.layers[\"X_counts\"].A.ravel()[[non_zero_idx]]))"
   ]
  },
  {
   "cell_type": "code",
   "execution_count": 71,
   "id": "9df9b0ee-caef-4457-b80c-4e3b048adae0",
   "metadata": {},
   "outputs": [
    {
     "data": {
      "text/plain": [
       "6.0794535"
      ]
     },
     "execution_count": 71,
     "metadata": {},
     "output_type": "execute_result"
    }
   ],
   "source": [
    "np.mean(np.abs(imputed_counts.ravel()[non_zero_idx] - tabula_muris.layers[\"X_counts\"].A.ravel()[[non_zero_idx]]))"
   ]
  },
  {
   "cell_type": "markdown",
   "id": "7c83e323-163f-4ffe-897f-efd1ee395013",
   "metadata": {},
   "source": [
    "Check if generated are decent"
   ]
  },
  {
   "cell_type": "code",
   "execution_count": 62,
   "id": "8117f586-7301-4898-9683-ed2bec1d8748",
   "metadata": {},
   "outputs": [],
   "source": [
    "adata_joint = sc.AnnData(X=np.concatenate([tabula_muris.layers[\"X_counts\"].A,\n",
    "                             X_imputed]),\n",
    "                         obs={\"dataset_type\":[\"true\" for _ in range(tabula_muris.layers[\"X_counts\"].A.shape[0])]+[\"gen\" for _ in range(len(X_imputed))]})"
   ]
  },
  {
   "cell_type": "code",
   "execution_count": 63,
   "id": "d53672b8-dfc0-40a4-89d8-1c7f572506c1",
   "metadata": {},
   "outputs": [
    {
     "name": "stderr",
     "output_type": "stream",
     "text": [
      "/home/icb/alessandro.palma/miniconda3/envs/celldreamer/lib/python3.10/site-packages/scanpy/plotting/_tools/scatterplots.py:394: UserWarning: No data for colormapping provided via 'c'. Parameters 'cmap' will be ignored\n",
      "  cax = scatter(\n"
     ]
    },
    {
     "data": {
      "image/png": "[encoded data removed]",
      "text/plain": [
       "<Figure size 640x480 with 1 Axes>"
      ]
     },
     "metadata": {},
     "output_type": "display_data"
    }
   ],
   "source": [
    "sc.pp.log1p(adata_joint)\n",
    "sc.tl.pca(adata_joint)\n",
    "sc.pl.pca(adata_joint,color=\"dataset_type\")"
   ]
  },
  {
   "cell_type": "markdown",
   "id": "29dca902-3cac-45ed-9c6e-ed0149fbe3e9",
   "metadata": {},
   "source": [
    "#### Interpolate and sample"
   ]
  },
  {
   "cell_type": "code",
   "execution_count": 61,
   "id": "4e821e07-db55-49e5-961d-c0b5ed2f967a",
   "metadata": {},
   "outputs": [],
   "source": [
    "# def interpolate_and_sample(dataloader, encoder_model, generative_model, tmax):\n",
    "#     # Sampled results \n",
    "#     Z_imputed = [] \n",
    "#     X_imputed = []\n",
    "    \n",
    "#     # Times to apply correction\n",
    "#     t = torch.linspace(tmax, 1.0, 100, device=generative_model.device)\n",
    "\n",
    "#     for i, batch in tqdm(enumerate(dataloader)):\n",
    "#         with torch.no_grad():\n",
    "#             # Encode latent space \n",
    "#             z = encoder_model.encode(batch)\n",
    "#             eps = torch.randn_like(z)\n",
    "    \n",
    "#             # Get size factor\n",
    "#             log_size_factor = torch.log(torch.tensor(tabula_muris.layers[\"X_counts\"][(i*256):((i+1)*256)].sum(1))).squeeze()\n",
    "    \n",
    "#             # Get condition embeddings\n",
    "#             y = generative_model.feature_embeddings[\"clusters\"](batch[\"y\"][\"clusters\"].cuda())\n",
    "\n",
    "#             # Interpolate \n",
    "#             zt = z * tmax + eps * (1-tmax)\n",
    "    \n",
    "#             # Go back to noise\n",
    "#             denoising_model_ode = torch_wrapper(generative_model.denoising_model, \n",
    "#                                                 log_size_factor, \n",
    "#                                                 y)    \n",
    "            \n",
    "#             node = NeuralODE(denoising_model_ode,\n",
    "#                                     solver=\"dopri5\", \n",
    "#                                     sensitivity=\"adjoint\", \n",
    "#                                     atol=1e-5, \n",
    "#                                     rtol=1e-5)        \n",
    "    \n",
    "    \n",
    "#             z1 = node.trajectory(zt, t_span=t)[-1]\n",
    "#             Z_imputed.append(z1.cpu().numpy())\n",
    "    \n",
    "#             # Now decode\n",
    "#             mu_hat = generative_model._decode(z1, torch.exp(log_size_factor).cuda().unsqueeze(1))\n",
    "#             X_imputed.append(mu_hat.cpu().numpy())\n",
    "            \n",
    "#     Z_imputed = np.concatenate(Z_imputed, axis=0)\n",
    "#     X_imputed = np.concatenate(X_imputed, axis=0)\n",
    "#     return Z_imputed, X_imputed"
   ]
  },
  {
   "cell_type": "code",
   "execution_count": 60,
   "id": "d2dcdb6c-99ec-4f21-a7d2-01222ad6de12",
   "metadata": {},
   "outputs": [],
   "source": [
    "# Z_imputed_interpolate, X_imputed_interpolate = interpolate_and_sample(dataloader,\n",
    "#                                                                       encoder_model, \n",
    "#                                                                       generative_model, \n",
    "#                                                                       tmax=0.9)"
   ]
  },
  {
   "cell_type": "code",
   "execution_count": 59,
   "id": "82c008fb-5cf2-46bd-b1bf-3ad3d1883bd4",
   "metadata": {},
   "outputs": [],
   "source": [
    "# np.mean(np.abs(X_imputed_interpolate.ravel()[tabula_muris.uns['do_ix']] - tabula_muris.layers[\"X_counts\"].A.ravel()[tabula_muris.uns['do_ix']]))"
   ]
  },
  {
   "cell_type": "code",
   "execution_count": 58,
   "id": "f54df91a-bdb2-412c-a42a-ca749ccd85cf",
   "metadata": {},
   "outputs": [],
   "source": [
    "# plt.scatter(X_imputed_interpolate.ravel()[:100000], tabula_muris.layers[\"X_counts\"].A.ravel()[:100000])\n",
    "# plt.title(\"Imputation CFGen\")\n",
    "# plt.xlabel(\"Predicted\")\n",
    "# plt.ylabel(\"Real\")"
   ]
  },
  {
   "cell_type": "markdown",
   "id": "a579af2b-612b-4e27-80bb-61f49d1a9816",
   "metadata": {},
   "source": [
    "### Plot together"
   ]
  },
  {
   "cell_type": "code",
   "execution_count": 124,
   "id": "3c46b471-e494-407f-bb02-c383ffe56f3e",
   "metadata": {},
   "outputs": [],
   "source": [
    "scvi_pred = imputed_counts.ravel()[non_zero_idx][:100000]\n",
    "cfg_pred = X_imputed.ravel()[non_zero_idx][:100000]\n",
    "real_counts = tabula_muris.layers[\"X_counts\"].A.ravel()[non_zero_idx][:100000]"
   ]
  },
  {
   "cell_type": "code",
   "execution_count": 126,
   "id": "f3be02d9-bebf-45b5-a9b5-261fed7b7dc3",
   "metadata": {},
   "outputs": [
    {
     "data": {
      "image/png": "[encoded data removed]",
      "text/plain": [
       "<Figure size 400x400 with 1 Axes>"
      ]
     },
     "metadata": {},
     "output_type": "display_data"
    }
   ],
   "source": [
    "# # Prepare the data for seaborn\n",
    "# data = pd.DataFrame({\n",
    "#     \"Ground truth\": np.concatenate([real_counts, real_counts]),\n",
    "#     \"Predictions\": np.concatenate([cfg_pred, scvi_pred]),\n",
    "#     \"Model\": [\"CFGen\"] * len(real_counts) + [\"scVI\"] * len(real_counts)\n",
    "# })\n",
    "\n",
    "# # Initialize the plot\n",
    "# plt.figure(figsize=(4, 4))\n",
    "\n",
    "# # Scatter plot with regression lines\n",
    "# sns.scatterplot(data=data, x=\"Predictions\", y=\"Ground truth\", hue=\"Model\", s=70)\n",
    "# sns.regplot(data=data[data[\"Model\"] == \"CFGen\"], x=\"Predictions\", y=\"Ground truth\", scatter=False, color=\"blue\", label=\"CFGen\")\n",
    "# sns.regplot(data=data[data[\"Model\"] == \"scVI\"], x=\"Predictions\", y=\"Ground truth\", scatter=False, color=\"orange\", label=\"scVI\")\n",
    "\n",
    "# # Add the y=x line (bisector)\n",
    "# plt.plot([min(real_counts), max(real_counts)], [min(real_counts), max(real_counts)],  linestyle=\"--\", linewidth=2, label=\"Bisector (y=x)\")\n",
    "\n",
    "# # Adjust plot aesthetics\n",
    "# plt.title(\"Tabula Muris\", fontsize=14)\n",
    "# plt.ylabel(\"Ground truth\", fontsize=14)\n",
    "# plt.xlabel(\"Predictions\", fontsize=14)\n",
    "# plt.legend(bbox_to_anchor=(1.05, 1), loc='upper left')  # Place the legend outside\n",
    "# plt.axis(\"equal\")\n",
    "# # plt.tight_layout()\n",
    "# plt.savefig(\"plots/tabula_muris_comparison.png\", bbox_inches='tight', format=\"png\")  # Save the figure\n",
    "# # Show the plot\n",
    "# plt.show()"
   ]
  },
  {
   "cell_type": "code",
   "execution_count": 127,
   "id": "b582de3a-77a9-4adc-a453-0963a354182f",
   "metadata": {},
   "outputs": [
    {
     "data": {
      "image/png": "[encoded data removed]",
      "text/plain": [
       "<Figure size 400x400 with 1 Axes>"
      ]
     },
     "metadata": {},
     "output_type": "display_data"
    }
   ],
   "source": [
    "# Prepare the data for seaborn\n",
    "data = pd.DataFrame({\n",
    "    \"Ground truth\": real_counts,\n",
    "    \"Predictions\": cfg_pred,\n",
    "    \"Model\": [\"CFGen\"] * len(real_counts) \n",
    "})\n",
    "\n",
    "# Initialize the plot\n",
    "plt.figure(figsize=(4, 4))\n",
    "\n",
    "# Scatter plot with regression lines\n",
    "sns.scatterplot(data=data, x=\"Predictions\", y=\"Ground truth\", s=70)\n",
    "sns.regplot(data=data[data[\"Model\"] == \"CFGen\"], x=\"Predictions\", y=\"Ground truth\", scatter=False, color=\"blue\", label=\"CFGen\")\n",
    "\n",
    "# Add the y=x line (bisector)\n",
    "plt.plot([min(real_counts), max(real_counts)], [min(real_counts), max(real_counts)],  linestyle=\"--\", linewidth=2, label=\"Bisector (y=x)\")\n",
    "\n",
    "# Adjust plot aesthetics\n",
    "plt.title(\"Tabula Muris\", fontsize=14)\n",
    "plt.ylabel(\"Ground truth\", fontsize=14)\n",
    "plt.xlabel(\"Predictions\", fontsize=14)\n",
    "# plt.legend(bbox_to_anchor=(1.05, 1), loc='upper left')  # Place the legend outside\n",
    "plt.axis(\"equal\")\n",
    "# plt.tight_layout()\n",
    "plt.savefig(\"plots/tabula_muris_comparison.png\", bbox_inches='tight', format=\"png\")  # Save the figure\n",
    "# Show the plot\n",
    "plt.show()"
   ]
  },
  {
   "cell_type": "markdown",
   "id": "379425f4-59f7-4961-976e-49339d477a96",
   "metadata": {},
   "source": [
    "Now make plots with multiple levels of noise "
   ]
  },
  {
   "cell_type": "code",
   "execution_count": 88,
   "id": "7a54c705-26f4-4bb4-b250-9be9630f1331",
   "metadata": {},
   "outputs": [
    {
     "name": "stderr",
     "output_type": "stream",
     "text": [
      "196it [04:29,  1.37s/it]\n"
     ]
    },
    {
     "data": {
      "image/png": "[encoded data removed]",
      "text/plain": [
       "<Figure size 300x300 with 1 Axes>"
      ]
     },
     "metadata": {},
     "output_type": "display_data"
    },
    {
     "name": "stdout",
     "output_type": "stream",
     "text": [
      "SignificanceResult(statistic=0.8661500308009904, pvalue=0.0)\n",
      "4.8128815\n"
     ]
    },
    {
     "name": "stderr",
     "output_type": "stream",
     "text": [
      "196it [04:16,  1.31s/it]\n"
     ]
    },
    {
     "data": {
      "image/png": "[encoded data removed]",
      "text/plain": [
       "<Figure size 300x300 with 1 Axes>"
      ]
     },
     "metadata": {},
     "output_type": "display_data"
    },
    {
     "name": "stdout",
     "output_type": "stream",
     "text": [
      "SignificanceResult(statistic=0.8661168294670942, pvalue=0.0)\n",
      "4.8149467\n"
     ]
    },
    {
     "name": "stderr",
     "output_type": "stream",
     "text": [
      "196it [04:25,  1.35s/it]\n"
     ]
    },
    {
     "data": {
      "image/png": "[encoded data removed]",
      "text/plain": [
       "<Figure size 300x300 with 1 Axes>"
      ]
     },
     "metadata": {},
     "output_type": "display_data"
    },
    {
     "name": "stdout",
     "output_type": "stream",
     "text": [
      "SignificanceResult(statistic=0.8627939422456946, pvalue=0.0)\n",
      "4.9756727\n"
     ]
    },
    {
     "name": "stderr",
     "output_type": "stream",
     "text": [
      "196it [04:54,  1.50s/it]\n"
     ]
    },
    {
     "data": {
      "image/png": "[encoded data removed]",
      "text/plain": [
       "<Figure size 300x300 with 1 Axes>"
      ]
     },
     "metadata": {},
     "output_type": "display_data"
    },
    {
     "name": "stdout",
     "output_type": "stream",
     "text": [
      "SignificanceResult(statistic=0.6538637901861658, pvalue=0.0)\n",
      "11.706042\n"
     ]
    },
    {
     "name": "stderr",
     "output_type": "stream",
     "text": [
      "196it [05:00,  1.53s/it]\n"
     ]
    },
    {
     "data": {
      "image/png": "[encoded data removed]",
      "text/plain": [
       "<Figure size 300x300 with 1 Axes>"
      ]
     },
     "metadata": {},
     "output_type": "display_data"
    },
    {
     "name": "stdout",
     "output_type": "stream",
     "text": [
      "SignificanceResult(statistic=0.4435749624275439, pvalue=0.0)\n",
      "16.243189\n"
     ]
    },
    {
     "name": "stderr",
     "output_type": "stream",
     "text": [
      "196it [06:49,  2.09s/it]\n"
     ]
    },
    {
     "data": {
      "image/png": "[encoded data removed]",
      "text/plain": [
       "<Figure size 300x300 with 1 Axes>"
      ]
     },
     "metadata": {},
     "output_type": "display_data"
    },
    {
     "name": "stdout",
     "output_type": "stream",
     "text": [
      "SignificanceResult(statistic=0.1558959142798207, pvalue=0.0)\n",
      "18.20558\n"
     ]
    }
   ],
   "source": [
    "for std in [0.001, 0.01, 0.1, 1, 2, 10]:\n",
    "    _, X_imputed_var = invert_and_sample(dataloader, encoder_model, generative_model, sample_std=std)\n",
    "    plt.figure(figsize=(3, 3))\n",
    "    plt.scatter(X_imputed_var.ravel()[:100000], tabula_muris.layers[\"X_counts\"].A.ravel()[:100000])\n",
    "    plt.title(f\"Tabula Muris imputation std {std}\")\n",
    "    plt.xlabel(\"Predictions\")\n",
    "    plt.ylabel(\"Ground truth\")\n",
    "    plt.savefig(f\"plots/var_plots/tabula_muris_comparison_{std}.png\",bbox_inches='tight', format=\"png\")  # Save the figure\n",
    "    plt.show()\n",
    "    print(scipy.stats.spearmanr(X_imputed_var.ravel()[non_zero_idx], tabula_muris.layers[\"X_counts\"].A.ravel()[non_zero_idx]))\n",
    "    print(np.mean(np.abs(X_imputed_var.ravel()[non_zero_idx] - tabula_muris.layers[\"X_counts\"].A.ravel()[[non_zero_idx]])))"
   ]
  },
  {
   "cell_type": "code",
   "execution_count": null,
   "id": "abfba6ad-814d-4718-b551-0ce52a046c1c",
   "metadata": {},
   "outputs": [],
   "source": []
  }
 ],
 "metadata": {
  "kernelspec": {
   "display_name": "Python 3 (ipykernel)",
   "language": "python",
   "name": "python3"
  },
  "language_info": {
   "codemirror_mode": {
    "name": "ipython",
    "version": 3
   },
   "file_extension": ".py",
   "mimetype": "text/x-python",
   "name": "python",
   "nbconvert_exporter": "python",
   "pygments_lexer": "ipython3",
   "version": "3.10.13"
  }
 },
 "nbformat": 4,
 "nbformat_minor": 5
}
