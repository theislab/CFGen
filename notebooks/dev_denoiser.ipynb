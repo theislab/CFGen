{
 "cells": [
  {
   "cell_type": "code",
   "execution_count": 59,
   "id": "7a5ccc8f-e9d7-4b1b-b08a-03553cc3063c",
   "metadata": {},
   "outputs": [],
   "source": [
    "import scanpy as sc\n",
    "import torch\n",
    "from torch import nn\n",
    "import numpy as np\n",
    "from sklearn.model_selection import train_test_split\n",
    "import lightning.pytorch as pl\n",
    "from torch.optim import Adam\n",
    "from torch.nn import Linear\n",
    "from typing import List, Optional, Callable\n",
    "from torch.utils.data import DataLoader, TensorDataset, Dataset\n",
    "from torch.distributions import ContinuousBernoulli\n",
    "from lightning.pytorch.loggers import TensorBoardLogger"
   ]
  },
  {
   "cell_type": "code",
   "execution_count": 2,
   "id": "9979e070-0f78-45f3-821d-98bf93329833",
   "metadata": {},
   "outputs": [],
   "source": [
    "adata = sc.read_h5ad(\"../datasets/processed/pbmc68k.h5ad\")"
   ]
  },
  {
   "cell_type": "code",
   "execution_count": 4,
   "id": "90ed5272-ecf5-43e3-a2f9-94eedf2421a9",
   "metadata": {},
   "outputs": [],
   "source": [
    "class MLP(torch.nn.Sequential):\n",
    "    def __init__(\n",
    "        self,\n",
    "        in_channels: int,\n",
    "        hidden_channels: List[int],\n",
    "        activation_layer: Optional[Callable[..., torch.nn.Module]] = torch.nn.ReLU,\n",
    "        dropout: float = 0.0,\n",
    "        final_activation: Optional[Callable[..., torch.nn.Module]] = None,\n",
    "    ):\n",
    "        layers = []\n",
    "        in_dim = in_channels\n",
    "        for hidden_dim in hidden_channels[:-1]:\n",
    "            layers.append(torch.nn.Linear(in_dim, hidden_dim))\n",
    "            layers.append(activation_layer())\n",
    "            layers.append(torch.nn.Dropout(dropout))\n",
    "            in_dim = hidden_dim\n",
    "\n",
    "        layers.append(torch.nn.Linear(in_dim, hidden_channels[-1]))\n",
    "\n",
    "        if final_activation is not None:\n",
    "            layers.append(final_activation())\n",
    "\n",
    "        super().__init__(*layers)\n"
   ]
  },
  {
   "cell_type": "code",
   "execution_count": 32,
   "id": "8c052d41-fc5c-459e-9c9f-6ed4cde2c538",
   "metadata": {},
   "outputs": [],
   "source": [
    "class MLPAutoEncoder(pl.LightningModule):\n",
    "    def __init__(\n",
    "        self,\n",
    "        input_dim: int,\n",
    "        units_encoder: List[int],\n",
    "        units_decoder: List[int],\n",
    "        learning_rate: float = 0.001,\n",
    "    ):\n",
    "        super(MLPAutoEncoder, self).__init__()\n",
    "        self.encoder = MLP(\n",
    "            in_channels=input_dim,\n",
    "            hidden_channels=units_encoder,\n",
    "            final_activation=torch.nn.Sigmoid,\n",
    "        )\n",
    "        self.decoder = MLP(\n",
    "            in_channels=units_encoder[-1],\n",
    "            hidden_channels=units_decoder + [input_dim],\n",
    "            final_activation=torch.nn.Sigmoid,\n",
    "        )\n",
    "        self.learning_rate = learning_rate\n",
    "\n",
    "    def forward(self, x):\n",
    "        encoded = self.encoder(x)\n",
    "        decoded = self.decoder(encoded)\n",
    "        return decoded\n",
    "\n",
    "    def training_step(self, batch, batch_idx):\n",
    "        noisy_data, clean_data = batch\n",
    "        output = self(noisy_data)\n",
    "        loss = torch.nn.functional.mse_loss(output, clean_data)\n",
    "        self.log('train_loss', loss)\n",
    "        return loss\n",
    "\n",
    "    def validation_step(self, batch, batch_idx):\n",
    "        noisy_data, clean_data = batch\n",
    "        output = self(noisy_data)\n",
    "        loss = torch.nn.functional.mse_loss(output, clean_data)\n",
    "        self.log('val_loss', loss)\n",
    "        return loss\n",
    "\n",
    "    def configure_optimizers(self):\n",
    "        optimizer = Adam(self.parameters(), lr=self.learning_rate)\n",
    "        return optimizer\n"
   ]
  },
  {
   "cell_type": "code",
   "execution_count": 45,
   "id": "2068e90b-ed9b-4a4e-bfe0-140455618829",
   "metadata": {},
   "outputs": [],
   "source": [
    "class CellDreamerMLP(pl.LightningModule):\n",
    "    def __init__(self, in_dim, out_dim=None, w=64, learning_rate: float = 0.001,):\n",
    "        \"\"\"\n",
    "        Simplified Multi-Layer Perceptron (MLP) based on SimpleMLPTimeStep architecture.\n",
    "\n",
    "        Args:\n",
    "            in_dim (int): Input dimension.\n",
    "            out_dim (int, optional): Output dimension. If None, defaults to in_dim.\n",
    "            w (int, optional): Dimension of hidden layers. Defaults to 64.\n",
    "        \"\"\"\n",
    "        super().__init__()\n",
    "        if out_dim is None:\n",
    "            out_dim = in_dim\n",
    "\n",
    "        self.net = nn.Sequential(\n",
    "            Linear(in_dim, w),\n",
    "            nn.SELU(),\n",
    "            Linear(w, w),\n",
    "            nn.SELU(),\n",
    "            Linear(w, w),\n",
    "            nn.SELU(),\n",
    "            Linear(w, out_dim),\n",
    "        )\n",
    "        self.save_hyperparameters()\n",
    "        self.learning_rate = learning_rate\n",
    "\n",
    "    def forward(self, x):\n",
    "        \"\"\"\n",
    "        Forward pass of the CellDreamerMLP.\n",
    "\n",
    "        Args:\n",
    "            x (torch.Tensor): Input tensor.\n",
    "\n",
    "        Returns:\n",
    "            torch.Tensor: Output tensor.\n",
    "        \"\"\"\n",
    "        return self.net(x)\n",
    "    \n",
    "    def training_step(self, batch, batch_idx):\n",
    "        noisy_data, clean_data = batch\n",
    "        output = self(noisy_data)\n",
    "        loss = torch.nn.functional.mse_loss(output, clean_data)\n",
    "        self.log('train_loss', loss)\n",
    "        return loss\n",
    "\n",
    "    def validation_step(self, batch, batch_idx):\n",
    "        noisy_data, clean_data = batch\n",
    "        output = self(noisy_data)\n",
    "        loss = torch.nn.functional.mse_loss(output, clean_data)\n",
    "        self.log('val_loss', loss)\n",
    "        return loss\n",
    "\n",
    "    def configure_optimizers(self):\n",
    "        optimizer = Adam(self.parameters(), lr=self.learning_rate)\n",
    "        return optimizer"
   ]
  },
  {
   "cell_type": "code",
   "execution_count": 98,
   "id": "ec0faa3c-a338-4ff5-9ad9-906191f0de23",
   "metadata": {},
   "outputs": [],
   "source": [
    "class ResnetBlock(nn.Module):\n",
    "    def __init__(self, in_dim, out_dim=None, dropout_prob=0.0):\n",
    "        super().__init__()\n",
    "        out_dim = in_dim if out_dim is None else out_dim\n",
    "        self.out_dim = out_dim\n",
    "\n",
    "        self.net1 = nn.Sequential(\n",
    "            nn.LayerNorm(in_dim),\n",
    "            nn.SiLU(),\n",
    "            nn.Linear(in_dim, out_dim)\n",
    "        )\n",
    "\n",
    "        self.net2 = nn.Sequential(\n",
    "            nn.LayerNorm(out_dim),\n",
    "            nn.SiLU(),\n",
    "            nn.Dropout(dropout_prob),\n",
    "            nn.Linear(out_dim, out_dim)\n",
    "        )\n",
    "\n",
    "        if in_dim != out_dim:\n",
    "            self.skip_proj = nn.Linear(in_dim, out_dim)\n",
    "        else:\n",
    "            self.skip_proj = None\n",
    "\n",
    "    def forward(self, x):\n",
    "        h = self.net1(x)\n",
    "        h = self.net2(h)\n",
    "\n",
    "        if self.skip_proj is not None:\n",
    "            x = self.skip_proj(x)\n",
    "\n",
    "        return x + h\n",
    "\n",
    "class ResNet(pl.LightningModule):\n",
    "    def __init__(self, in_dim, hidden_dim, n_blocks, dropout_prob=0.0):\n",
    "        super().__init__()\n",
    "        self.net_in = nn.Linear(in_dim, hidden_dim)\n",
    "\n",
    "        self.blocks = nn.ModuleList([\n",
    "            ResnetBlock(hidden_dim, dropout_prob=dropout_prob) for _ in range(n_blocks)\n",
    "        ])\n",
    "\n",
    "        self.net_out = nn.Sequential(\n",
    "            nn.LayerNorm(hidden_dim),\n",
    "            nn.SiLU(),\n",
    "            nn.Linear(hidden_dim, in_dim),\n",
    "        )\n",
    "        self.sig = nn.Sigmoid()\n",
    "\n",
    "    def forward(self, x):\n",
    "        h = self.net_in(x)\n",
    "        for block in self.blocks:\n",
    "            h = block(h)\n",
    "        h = self.net_out(h)\n",
    "        h = self.sig(h)\n",
    "        return h\n",
    "\n",
    "    def training_step(self, batch, batch_idx):\n",
    "        x, y = batch\n",
    "        y_hat = self(x)\n",
    "        loss = -ContinuousBernoulli(probs=y_hat).log_prob(self.sig(y)).mean()\n",
    "        mse = nn.functional.mse_loss(y_hat, y)\n",
    "        self.log('train_loss', mse)\n",
    "        return mse\n",
    "\n",
    "    def validation_step(self, batch, batch_idx):\n",
    "        x, y = batch\n",
    "        y_hat = self(x)\n",
    "        # print('Min of y hat: ', torch.min(y_hat))\n",
    "        # print('Max of y hat: ', torch.max(y_hat))\n",
    "        # print('Min of y: ', torch.min(y))\n",
    "        # print('Max of y: ', torch.max(y))\n",
    "        loss = -ContinuousBernoulli(probs=y_hat).log_prob(self.sig(y)).mean()\n",
    "        mse = nn.functional.mse_loss(y_hat, y)\n",
    "        self.log('val_loss', mse)\n",
    "\n",
    "    def test_step(self, batch, batch_idx):\n",
    "        x, y = batch\n",
    "        y_hat = self(x)\n",
    "        loss = -ContinuousBernoulli(probs=y_hat).log_prob(self.sig(y)).mean()\n",
    "        mse = nn.functional.mse_loss(y_hat, y)\n",
    "        self.log('test_loss', mse)\n",
    "\n",
    "    def configure_optimizers(self):\n",
    "        optimizer = torch.optim.Adam(self.parameters(), lr=0.001)\n",
    "        return optimizer"
   ]
  },
  {
   "cell_type": "code",
   "execution_count": 90,
   "id": "54943454-11b3-4bd7-bf5e-a25de9825b52",
   "metadata": {},
   "outputs": [],
   "source": [
    "def add_gaussian_noise(data, noise_factor=0.5):\n",
    "    \"\"\"\n",
    "    Adds Gaussian noise to the data.\n",
    "\n",
    "    Args:\n",
    "    data (torch.Tensor): Original data.\n",
    "    noise_factor (float): Factor to determine the amount of noise to add.\n",
    "\n",
    "    Returns:\n",
    "    torch.Tensor: Noisy data.\n",
    "    \"\"\"\n",
    "    noise = torch.randn_like(data) * noise_factor\n",
    "    return data + noise"
   ]
  },
  {
   "cell_type": "code",
   "execution_count": 91,
   "id": "0160dd9d-3e13-4baf-9a04-0eb84a96785f",
   "metadata": {},
   "outputs": [],
   "source": [
    "class NoisyDataset(Dataset):\n",
    "    def __init__(self, data, noise_factor=0.5):\n",
    "        self.data = data\n",
    "        self.noise_factor = noise_factor\n",
    "\n",
    "    def __len__(self):\n",
    "        return len(self.data)\n",
    "\n",
    "    def __getitem__(self, idx):\n",
    "        noisy_data = add_gaussian_noise(self.data[idx], self.noise_factor)\n",
    "        return noisy_data, self.data[idx]\n",
    "\n",
    "# Convert adata.X to a PyTorch tensor (assuming adata.X is a numpy array)\n",
    "X = torch.tensor(torch.tensor(adata.X.todense()), dtype=torch.float32)\n",
    "\n",
    "# Split the dataset into train and validation sets\n",
    "X_train, X_val = train_test_split(X, test_size=0.2, random_state=42)  # 20% for validation\n",
    "    \n",
    "# Creating datasets\n",
    "noise_factor = 0.5  # Adjust as needed\n",
    "train_noisy_dataset = NoisyDataset(X_train, noise_factor=noise_factor)\n",
    "val_noisy_dataset = NoisyDataset(X_val, noise_factor=noise_factor)\n",
    "\n",
    "# Creating DataLoaders\n",
    "train_loader = DataLoader(train_noisy_dataset, batch_size=32, shuffle=True)\n",
    "val_loader = DataLoader(val_noisy_dataset, batch_size=32)"
   ]
  },
  {
   "cell_type": "code",
   "execution_count": 99,
   "id": "7629d374-8715-47f7-8d30-fc819d0fab7c",
   "metadata": {
    "scrolled": true,
    "tags": []
   },
   "outputs": [
    {
     "name": "stderr",
     "output_type": "stream",
     "text": [
      "GPU available: True (cuda), used: True\n",
      "TPU available: False, using: 0 TPU cores\n",
      "IPU available: False, using: 0 IPUs\n",
      "HPU available: False, using: 0 HPUs\n",
      "Missing logger folder: /lustre/groups/ml01/workspace/till.richter/scvdm_trained_models/ResNet_Sigmoid\n",
      "LOCAL_RANK: 0 - CUDA_VISIBLE_DEVICES: [0]\n",
      "\n",
      "  | Name    | Type       | Params\n",
      "---------------------------------------\n",
      "0 | net_in  | Linear     | 128 K \n",
      "1 | blocks  | ModuleList | 17.2 K\n",
      "2 | net_out | Sequential | 130 K \n",
      "3 | sig     | Sigmoid    | 0     \n",
      "---------------------------------------\n",
      "275 K     Trainable params\n",
      "0         Non-trainable params\n",
      "275 K     Total params\n",
      "1.101     Total estimated model params size (MB)\n"
     ]
    },
    {
     "data": {
      "application/vnd.jupyter.widget-view+json": {
       "model_id": "6971af8de5c349cc9c056763a2b4c198",
       "version_major": 2,
       "version_minor": 0
      },
      "text/plain": [
       "Sanity Checking: 0it [00:00, ?it/s]"
      ]
     },
     "metadata": {},
     "output_type": "display_data"
    },
    {
     "data": {
      "application/vnd.jupyter.widget-view+json": {
       "model_id": "e4f12170a48d48c28faae353e63bb3dd",
       "version_major": 2,
       "version_minor": 0
      },
      "text/plain": [
       "Training: 0it [00:00, ?it/s]"
      ]
     },
     "metadata": {},
     "output_type": "display_data"
    },
    {
     "data": {
      "application/vnd.jupyter.widget-view+json": {
       "model_id": "3e55f3c8d76040e89fd2b70f7458b736",
       "version_major": 2,
       "version_minor": 0
      },
      "text/plain": [
       "Validation: 0it [00:00, ?it/s]"
      ]
     },
     "metadata": {},
     "output_type": "display_data"
    },
    {
     "data": {
      "application/vnd.jupyter.widget-view+json": {
       "model_id": "458116845fe44657963f4ac0192a909d",
       "version_major": 2,
       "version_minor": 0
      },
      "text/plain": [
       "Validation: 0it [00:00, ?it/s]"
      ]
     },
     "metadata": {},
     "output_type": "display_data"
    },
    {
     "data": {
      "application/vnd.jupyter.widget-view+json": {
       "model_id": "9fa640a7735e417cae2becbe24d877ff",
       "version_major": 2,
       "version_minor": 0
      },
      "text/plain": [
       "Validation: 0it [00:00, ?it/s]"
      ]
     },
     "metadata": {},
     "output_type": "display_data"
    },
    {
     "data": {
      "application/vnd.jupyter.widget-view+json": {
       "model_id": "64a74563f45046c99d8055f560ee357d",
       "version_major": 2,
       "version_minor": 0
      },
      "text/plain": [
       "Validation: 0it [00:00, ?it/s]"
      ]
     },
     "metadata": {},
     "output_type": "display_data"
    },
    {
     "data": {
      "application/vnd.jupyter.widget-view+json": {
       "model_id": "88ad3fe2c7404abcb0d23e848855578a",
       "version_major": 2,
       "version_minor": 0
      },
      "text/plain": [
       "Validation: 0it [00:00, ?it/s]"
      ]
     },
     "metadata": {},
     "output_type": "display_data"
    },
    {
     "data": {
      "application/vnd.jupyter.widget-view+json": {
       "model_id": "7ab25cf15beb4f708dc87c2a2530e529",
       "version_major": 2,
       "version_minor": 0
      },
      "text/plain": [
       "Validation: 0it [00:00, ?it/s]"
      ]
     },
     "metadata": {},
     "output_type": "display_data"
    },
    {
     "data": {
      "application/vnd.jupyter.widget-view+json": {
       "model_id": "93e8e7cd4ad74e67b9faad187c115870",
       "version_major": 2,
       "version_minor": 0
      },
      "text/plain": [
       "Validation: 0it [00:00, ?it/s]"
      ]
     },
     "metadata": {},
     "output_type": "display_data"
    },
    {
     "data": {
      "application/vnd.jupyter.widget-view+json": {
       "model_id": "19e40940474242c6915bfa8195c4f7a7",
       "version_major": 2,
       "version_minor": 0
      },
      "text/plain": [
       "Validation: 0it [00:00, ?it/s]"
      ]
     },
     "metadata": {},
     "output_type": "display_data"
    },
    {
     "data": {
      "application/vnd.jupyter.widget-view+json": {
       "model_id": "09a747ad92494ad186f88245210b4a85",
       "version_major": 2,
       "version_minor": 0
      },
      "text/plain": [
       "Validation: 0it [00:00, ?it/s]"
      ]
     },
     "metadata": {},
     "output_type": "display_data"
    },
    {
     "data": {
      "application/vnd.jupyter.widget-view+json": {
       "model_id": "db85d7c120eb448d85e67195eea7d6ac",
       "version_major": 2,
       "version_minor": 0
      },
      "text/plain": [
       "Validation: 0it [00:00, ?it/s]"
      ]
     },
     "metadata": {},
     "output_type": "display_data"
    },
    {
     "data": {
      "application/vnd.jupyter.widget-view+json": {
       "model_id": "542d52c92105452ab48f4645c52d560d",
       "version_major": 2,
       "version_minor": 0
      },
      "text/plain": [
       "Validation: 0it [00:00, ?it/s]"
      ]
     },
     "metadata": {},
     "output_type": "display_data"
    },
    {
     "data": {
      "application/vnd.jupyter.widget-view+json": {
       "model_id": "6313f32e405c4bf8bd0308f73240aa10",
       "version_major": 2,
       "version_minor": 0
      },
      "text/plain": [
       "Validation: 0it [00:00, ?it/s]"
      ]
     },
     "metadata": {},
     "output_type": "display_data"
    },
    {
     "data": {
      "application/vnd.jupyter.widget-view+json": {
       "model_id": "d7c0e14193c44772a12f0c8565419409",
       "version_major": 2,
       "version_minor": 0
      },
      "text/plain": [
       "Validation: 0it [00:00, ?it/s]"
      ]
     },
     "metadata": {},
     "output_type": "display_data"
    },
    {
     "data": {
      "application/vnd.jupyter.widget-view+json": {
       "model_id": "74a153d58ea54557b6ad188bb759e0a9",
       "version_major": 2,
       "version_minor": 0
      },
      "text/plain": [
       "Validation: 0it [00:00, ?it/s]"
      ]
     },
     "metadata": {},
     "output_type": "display_data"
    },
    {
     "data": {
      "application/vnd.jupyter.widget-view+json": {
       "model_id": "d6bdbb00584d454e99a6cce63c072133",
       "version_major": 2,
       "version_minor": 0
      },
      "text/plain": [
       "Validation: 0it [00:00, ?it/s]"
      ]
     },
     "metadata": {},
     "output_type": "display_data"
    },
    {
     "data": {
      "application/vnd.jupyter.widget-view+json": {
       "model_id": "a5869069825543819b25894eec8d6b70",
       "version_major": 2,
       "version_minor": 0
      },
      "text/plain": [
       "Validation: 0it [00:00, ?it/s]"
      ]
     },
     "metadata": {},
     "output_type": "display_data"
    },
    {
     "data": {
      "application/vnd.jupyter.widget-view+json": {
       "model_id": "300a9d7548e440cb90a2c6f73181dc6f",
       "version_major": 2,
       "version_minor": 0
      },
      "text/plain": [
       "Validation: 0it [00:00, ?it/s]"
      ]
     },
     "metadata": {},
     "output_type": "display_data"
    },
    {
     "data": {
      "application/vnd.jupyter.widget-view+json": {
       "model_id": "bfdce034a3354a56bb9f47e8f7709897",
       "version_major": 2,
       "version_minor": 0
      },
      "text/plain": [
       "Validation: 0it [00:00, ?it/s]"
      ]
     },
     "metadata": {},
     "output_type": "display_data"
    },
    {
     "data": {
      "application/vnd.jupyter.widget-view+json": {
       "model_id": "1293ab1191b4482cb4043db44ff66be1",
       "version_major": 2,
       "version_minor": 0
      },
      "text/plain": [
       "Validation: 0it [00:00, ?it/s]"
      ]
     },
     "metadata": {},
     "output_type": "display_data"
    },
    {
     "data": {
      "application/vnd.jupyter.widget-view+json": {
       "model_id": "ffc1a3a6a9524a5daf2ffbf0871ac1da",
       "version_major": 2,
       "version_minor": 0
      },
      "text/plain": [
       "Validation: 0it [00:00, ?it/s]"
      ]
     },
     "metadata": {},
     "output_type": "display_data"
    },
    {
     "data": {
      "application/vnd.jupyter.widget-view+json": {
       "model_id": "801e224466d64b019d34e18162bc76b0",
       "version_major": 2,
       "version_minor": 0
      },
      "text/plain": [
       "Validation: 0it [00:00, ?it/s]"
      ]
     },
     "metadata": {},
     "output_type": "display_data"
    },
    {
     "data": {
      "application/vnd.jupyter.widget-view+json": {
       "model_id": "c414a35b6aef4103b01149a6fbafd531",
       "version_major": 2,
       "version_minor": 0
      },
      "text/plain": [
       "Validation: 0it [00:00, ?it/s]"
      ]
     },
     "metadata": {},
     "output_type": "display_data"
    },
    {
     "data": {
      "application/vnd.jupyter.widget-view+json": {
       "model_id": "57258c877fb248b998f2b66fe4804795",
       "version_major": 2,
       "version_minor": 0
      },
      "text/plain": [
       "Validation: 0it [00:00, ?it/s]"
      ]
     },
     "metadata": {},
     "output_type": "display_data"
    },
    {
     "data": {
      "application/vnd.jupyter.widget-view+json": {
       "model_id": "e5da2b8194af49a98c83d32eadde4312",
       "version_major": 2,
       "version_minor": 0
      },
      "text/plain": [
       "Validation: 0it [00:00, ?it/s]"
      ]
     },
     "metadata": {},
     "output_type": "display_data"
    },
    {
     "data": {
      "application/vnd.jupyter.widget-view+json": {
       "model_id": "20ebd150c3dd4f8b8b3e8ecd9faf29b1",
       "version_major": 2,
       "version_minor": 0
      },
      "text/plain": [
       "Validation: 0it [00:00, ?it/s]"
      ]
     },
     "metadata": {},
     "output_type": "display_data"
    },
    {
     "data": {
      "application/vnd.jupyter.widget-view+json": {
       "model_id": "8fb857af4e1942cd88629c80b60b2dd6",
       "version_major": 2,
       "version_minor": 0
      },
      "text/plain": [
       "Validation: 0it [00:00, ?it/s]"
      ]
     },
     "metadata": {},
     "output_type": "display_data"
    },
    {
     "data": {
      "application/vnd.jupyter.widget-view+json": {
       "model_id": "cbd9eeefe712454a91d340145a6a4dee",
       "version_major": 2,
       "version_minor": 0
      },
      "text/plain": [
       "Validation: 0it [00:00, ?it/s]"
      ]
     },
     "metadata": {},
     "output_type": "display_data"
    },
    {
     "data": {
      "application/vnd.jupyter.widget-view+json": {
       "model_id": "a324241b61874afa97c0297625dacc80",
       "version_major": 2,
       "version_minor": 0
      },
      "text/plain": [
       "Validation: 0it [00:00, ?it/s]"
      ]
     },
     "metadata": {},
     "output_type": "display_data"
    },
    {
     "data": {
      "application/vnd.jupyter.widget-view+json": {
       "model_id": "65fcad142f164cf4a11175035b14705e",
       "version_major": 2,
       "version_minor": 0
      },
      "text/plain": [
       "Validation: 0it [00:00, ?it/s]"
      ]
     },
     "metadata": {},
     "output_type": "display_data"
    },
    {
     "data": {
      "application/vnd.jupyter.widget-view+json": {
       "model_id": "6630848cf3014ed79b940edfa459eb40",
       "version_major": 2,
       "version_minor": 0
      },
      "text/plain": [
       "Validation: 0it [00:00, ?it/s]"
      ]
     },
     "metadata": {},
     "output_type": "display_data"
    },
    {
     "data": {
      "application/vnd.jupyter.widget-view+json": {
       "model_id": "4cbc3d1816da40019b47642bf8110192",
       "version_major": 2,
       "version_minor": 0
      },
      "text/plain": [
       "Validation: 0it [00:00, ?it/s]"
      ]
     },
     "metadata": {},
     "output_type": "display_data"
    },
    {
     "data": {
      "application/vnd.jupyter.widget-view+json": {
       "model_id": "8abccd4a04c44fe59c77081e7f1cfe8e",
       "version_major": 2,
       "version_minor": 0
      },
      "text/plain": [
       "Validation: 0it [00:00, ?it/s]"
      ]
     },
     "metadata": {},
     "output_type": "display_data"
    },
    {
     "data": {
      "application/vnd.jupyter.widget-view+json": {
       "model_id": "b1e327ebb7004dc894ab092061cae6d2",
       "version_major": 2,
       "version_minor": 0
      },
      "text/plain": [
       "Validation: 0it [00:00, ?it/s]"
      ]
     },
     "metadata": {},
     "output_type": "display_data"
    },
    {
     "data": {
      "application/vnd.jupyter.widget-view+json": {
       "model_id": "38c1acac367145018933f2f396c16ddb",
       "version_major": 2,
       "version_minor": 0
      },
      "text/plain": [
       "Validation: 0it [00:00, ?it/s]"
      ]
     },
     "metadata": {},
     "output_type": "display_data"
    },
    {
     "data": {
      "application/vnd.jupyter.widget-view+json": {
       "model_id": "4e9b1164364645468d498d1773c2527a",
       "version_major": 2,
       "version_minor": 0
      },
      "text/plain": [
       "Validation: 0it [00:00, ?it/s]"
      ]
     },
     "metadata": {},
     "output_type": "display_data"
    },
    {
     "data": {
      "application/vnd.jupyter.widget-view+json": {
       "model_id": "d638c2c473da4bc094f892f03db36de4",
       "version_major": 2,
       "version_minor": 0
      },
      "text/plain": [
       "Validation: 0it [00:00, ?it/s]"
      ]
     },
     "metadata": {},
     "output_type": "display_data"
    },
    {
     "data": {
      "application/vnd.jupyter.widget-view+json": {
       "model_id": "ac185546590f413cb0b522726a08c851",
       "version_major": 2,
       "version_minor": 0
      },
      "text/plain": [
       "Validation: 0it [00:00, ?it/s]"
      ]
     },
     "metadata": {},
     "output_type": "display_data"
    },
    {
     "data": {
      "application/vnd.jupyter.widget-view+json": {
       "model_id": "79107b00ea9f4140bc100f8024f895de",
       "version_major": 2,
       "version_minor": 0
      },
      "text/plain": [
       "Validation: 0it [00:00, ?it/s]"
      ]
     },
     "metadata": {},
     "output_type": "display_data"
    },
    {
     "data": {
      "application/vnd.jupyter.widget-view+json": {
       "model_id": "9bc4d46577214ba89bfe134fb4e3accf",
       "version_major": 2,
       "version_minor": 0
      },
      "text/plain": [
       "Validation: 0it [00:00, ?it/s]"
      ]
     },
     "metadata": {},
     "output_type": "display_data"
    },
    {
     "data": {
      "application/vnd.jupyter.widget-view+json": {
       "model_id": "15c1988120304936b51c959a31d23682",
       "version_major": 2,
       "version_minor": 0
      },
      "text/plain": [
       "Validation: 0it [00:00, ?it/s]"
      ]
     },
     "metadata": {},
     "output_type": "display_data"
    },
    {
     "data": {
      "application/vnd.jupyter.widget-view+json": {
       "model_id": "770a769931ce40e883c88ed1f547a699",
       "version_major": 2,
       "version_minor": 0
      },
      "text/plain": [
       "Validation: 0it [00:00, ?it/s]"
      ]
     },
     "metadata": {},
     "output_type": "display_data"
    },
    {
     "data": {
      "application/vnd.jupyter.widget-view+json": {
       "model_id": "a6c712e4772f4ce2ac86d868e00b842f",
       "version_major": 2,
       "version_minor": 0
      },
      "text/plain": [
       "Validation: 0it [00:00, ?it/s]"
      ]
     },
     "metadata": {},
     "output_type": "display_data"
    },
    {
     "data": {
      "application/vnd.jupyter.widget-view+json": {
       "model_id": "59d31733f0164632ac61f21bd144fe9b",
       "version_major": 2,
       "version_minor": 0
      },
      "text/plain": [
       "Validation: 0it [00:00, ?it/s]"
      ]
     },
     "metadata": {},
     "output_type": "display_data"
    },
    {
     "data": {
      "application/vnd.jupyter.widget-view+json": {
       "model_id": "902dbe60339041e7b359035e8b13d121",
       "version_major": 2,
       "version_minor": 0
      },
      "text/plain": [
       "Validation: 0it [00:00, ?it/s]"
      ]
     },
     "metadata": {},
     "output_type": "display_data"
    },
    {
     "data": {
      "application/vnd.jupyter.widget-view+json": {
       "model_id": "2a3429520fd840e8bde835c49a189fb1",
       "version_major": 2,
       "version_minor": 0
      },
      "text/plain": [
       "Validation: 0it [00:00, ?it/s]"
      ]
     },
     "metadata": {},
     "output_type": "display_data"
    },
    {
     "data": {
      "application/vnd.jupyter.widget-view+json": {
       "model_id": "18d411294e3d43deb421ef8b261913cc",
       "version_major": 2,
       "version_minor": 0
      },
      "text/plain": [
       "Validation: 0it [00:00, ?it/s]"
      ]
     },
     "metadata": {},
     "output_type": "display_data"
    },
    {
     "data": {
      "application/vnd.jupyter.widget-view+json": {
       "model_id": "55f3f01372e04a0088bf1a5a72c50495",
       "version_major": 2,
       "version_minor": 0
      },
      "text/plain": [
       "Validation: 0it [00:00, ?it/s]"
      ]
     },
     "metadata": {},
     "output_type": "display_data"
    },
    {
     "data": {
      "application/vnd.jupyter.widget-view+json": {
       "model_id": "cc8a0a10804f4c17a5ce1cfc2829ecdf",
       "version_major": 2,
       "version_minor": 0
      },
      "text/plain": [
       "Validation: 0it [00:00, ?it/s]"
      ]
     },
     "metadata": {},
     "output_type": "display_data"
    },
    {
     "data": {
      "application/vnd.jupyter.widget-view+json": {
       "model_id": "985736b39cd54fff84ec64bf4b53d9dc",
       "version_major": 2,
       "version_minor": 0
      },
      "text/plain": [
       "Validation: 0it [00:00, ?it/s]"
      ]
     },
     "metadata": {},
     "output_type": "display_data"
    },
    {
     "data": {
      "application/vnd.jupyter.widget-view+json": {
       "model_id": "dd50a42c753744ffb7952e59df81718b",
       "version_major": 2,
       "version_minor": 0
      },
      "text/plain": [
       "Validation: 0it [00:00, ?it/s]"
      ]
     },
     "metadata": {},
     "output_type": "display_data"
    },
    {
     "name": "stderr",
     "output_type": "stream",
     "text": [
      "`Trainer.fit` stopped: `max_epochs=50` reached.\n"
     ]
    }
   ],
   "source": [
    "# Model initialization\n",
    "input_dim = X_train.shape[1]  # Number of features in your data\n",
    "units_encoder = [128, 64]\n",
    "units_decoder = [64, 128]\n",
    "# model = MLPAutoEncoder(input_dim, units_encoder, units_decoder)\n",
    "# model = CellDreamerMLP(input_dim)\n",
    "model = ResNet(input_dim, hidden_dim=64, n_blocks=2)\n",
    "# Logger\n",
    "\n",
    "# Specify your desired path for TensorBoard logs\n",
    "log_path = \"/lustre/groups/ml01/workspace/till.richter/scvdm_trained_models/\"  # Replace \"my_path\" with your actual path\n",
    "\n",
    "# Logger\n",
    "logger = TensorBoardLogger(log_path, name=\"ResNet_Sigmoid\")\n",
    "\n",
    "# Training with PyTorch Lightning Trainer\n",
    "trainer = pl.Trainer(max_epochs=50, logger=logger)  # Adjust epochs as needed\n",
    "trainer.fit(model, train_loader, val_loader)"
   ]
  },
  {
   "cell_type": "code",
   "execution_count": 72,
   "id": "846fe56c-af8a-45d9-a9ad-ed51ae9391fd",
   "metadata": {},
   "outputs": [
    {
     "data": {
      "text/plain": [
       "tensor(2.5268)"
      ]
     },
     "execution_count": 72,
     "metadata": {},
     "output_type": "execute_result"
    }
   ],
   "source": [
    "a = torch.randn((5,5))\n",
    "torch.max(a)"
   ]
  },
  {
   "cell_type": "code",
   "execution_count": null,
   "id": "4b09f638-771d-4702-ba34-40c456107f87",
   "metadata": {},
   "outputs": [],
   "source": []
  }
 ],
 "metadata": {
  "kernelspec": {
   "display_name": "Python [conda env:celldreamer]",
   "language": "python",
   "name": "celldreamer"
  },
  "language_info": {
   "codemirror_mode": {
    "name": "ipython",
    "version": 3
   },
   "file_extension": ".py",
   "mimetype": "text/x-python",
   "name": "python",
   "nbconvert_exporter": "python",
   "pygments_lexer": "ipython3",
   "version": "3.10.12"
  }
 },
 "nbformat": 4,
 "nbformat_minor": 5
}
