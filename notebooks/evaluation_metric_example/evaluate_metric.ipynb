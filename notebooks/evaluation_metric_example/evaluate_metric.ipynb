{
 "cells": [
  {
   "cell_type": "code",
   "execution_count": 1,
   "id": "04d24a16-5cf4-441f-a852-19c070239e4a",
   "metadata": {},
   "outputs": [],
   "source": [
    "import scanpy as sc\n",
    "import pandas as pd\n",
    "import numpy as np\n",
    "import mudata as mu\n",
    "from muon import atac as ac\n",
    "\n",
    "from cfgen.paths import DATA_DIR\n",
    "\n",
    "from cfgen.eval.compute_evaluation_metrics import compute_evaluation_metrics"
   ]
  },
  {
   "cell_type": "markdown",
   "id": "4d6f4b0f-8e77-4c19-97df-777735f7e90b",
   "metadata": {},
   "source": [
    "Here we show how to compute evaluation metrics as presented in the paper for the multimodal example. For this, you need the real single-cell anndata and a generated one."
   ]
  },
  {
   "cell_type": "markdown",
   "id": "9cf8cd1f-b06b-4845-bf01-ca6465b8895f",
   "metadata": {},
   "source": [
    "**Utils functions**"
   ]
  },
  {
   "cell_type": "code",
   "execution_count": 2,
   "id": "d383849a-f163-41f7-ad90-e74c70651dfe",
   "metadata": {},
   "outputs": [],
   "source": [
    "def add_to_dict(d, metrics):\n",
    "    for metric in metrics:\n",
    "        if metric not in d:\n",
    "            d[metric] = [metrics[metric]]\n",
    "        else:\n",
    "            d[metric]+=[metrics[metric]]\n",
    "    return d"
   ]
  },
  {
   "cell_type": "markdown",
   "id": "3dfb7f6a-5833-42cf-900f-331c416024b6",
   "metadata": {},
   "source": [
    "Start dictionary to collect metrics "
   ]
  },
  {
   "cell_type": "code",
   "execution_count": 3,
   "id": "778c8c81-5774-461b-a9d6-01327cfb8961",
   "metadata": {},
   "outputs": [],
   "source": [
    "results_atac = {}\n",
    "results_rna = {}"
   ]
  },
  {
   "cell_type": "markdown",
   "id": "b3b61d85-02f0-47e8-8ac1-a9203088b1ed",
   "metadata": {},
   "source": [
    "Read the real data "
   ]
  },
  {
   "cell_type": "code",
   "execution_count": 4,
   "id": "981fde1b-5b7f-42ff-ac23-709e240ca2a3",
   "metadata": {},
   "outputs": [
    {
     "name": "stderr",
     "output_type": "stream",
     "text": [
      "/home/icb/alessandro.palma/miniconda3/envs/cfgen/lib/python3.10/site-packages/mudata/_core/mudata.py:1531: FutureWarning: From 0.4 .update() will not pull obs/var columns from individual modalities by default anymore. Set mudata.set_options(pull_on_update=False) to adopt the new behaviour, which will become the default. Use new pull_obs/pull_var and push_obs/push_var methods for more flexibility.\n",
      "  self._update_attr(\"var\", axis=0, join_common=join_common)\n",
      "/home/icb/alessandro.palma/miniconda3/envs/cfgen/lib/python3.10/site-packages/mudata/_core/mudata.py:1429: FutureWarning: From 0.4 .update() will not pull obs/var columns from individual modalities by default anymore. Set mudata.set_options(pull_on_update=False) to adopt the new behaviour, which will become the default. Use new pull_obs/pull_var and push_obs/push_var methods for more flexibility.\n",
      "  self._update_attr(\"obs\", axis=1, join_common=join_common)\n"
     ]
    }
   ],
   "source": [
    "adata_real = mu.read(DATA_DIR / \"processed/atac/pbmc/pbmc10k_multiome_test.h5mu\")"
   ]
  },
  {
   "cell_type": "markdown",
   "id": "fbaf7739-bd23-433d-986e-56b5df1b823c",
   "metadata": {},
   "source": [
    "## Preprocess the real data "
   ]
  },
  {
   "cell_type": "markdown",
   "id": "0c746905-8f18-4321-b637-2527139f8d4e",
   "metadata": {},
   "source": [
    "RNA "
   ]
  },
  {
   "cell_type": "code",
   "execution_count": 5,
   "id": "1d3f06d0-14b0-4a25-a6da-6b55ccdb798d",
   "metadata": {},
   "outputs": [],
   "source": [
    "adata_real_rna = adata_real[\"rna\"]\n",
    "\n",
    "# Bring back counts \n",
    "adata_real_rna.X = adata_real_rna.layers[\"X_counts\"].copy()\n",
    "# Compute HVG (don't subset)\n",
    "sc.pp.highly_variable_genes(adata_real_rna,\n",
    "                            flavor=\"seurat_v3\",\n",
    "                            n_top_genes=2000,\n",
    "                            layer=\"X_counts\",\n",
    "                            subset=False)\n",
    "vars_rna = adata_real_rna.var.copy()\n",
    "\n",
    "# Pick 30 pcs\n",
    "sc.pp.normalize_total(adata_real_rna, target_sum=1e4)\n",
    "sc.pp.log1p(adata_real_rna)\n",
    "sc.tl.pca(adata_real_rna, n_comps=30)"
   ]
  },
  {
   "cell_type": "markdown",
   "id": "185064f7-e39b-4dbd-a3d5-1338c02348a3",
   "metadata": {},
   "source": [
    "ATAC "
   ]
  },
  {
   "cell_type": "code",
   "execution_count": 6,
   "id": "53274c9c-da74-428b-8807-ca5cd7ad1446",
   "metadata": {},
   "outputs": [],
   "source": [
    "adata_real_atac = adata_real[\"atac\"]\n",
    "# Bring back counts \n",
    "adata_real_atac.obs[\"cell_type\"] = adata_real_rna.obs[\"cell_type\"]  # Harmonize annotation\n",
    "adata_real_atac.X = adata_real_atac.layers[\"X_counts\"].copy()\n",
    "ac.pp.tfidf(adata_real_atac, scale_factor=1e4)\n",
    "# Compute highly variable peaks \n",
    "sc.pp.highly_variable_genes(adata_real_atac, n_top_genes=10000, subset=False)\n",
    "vars_atac = adata_real_atac.var.copy()\n",
    "sc.tl.pca(adata_real_rna, n_comps=30)"
   ]
  },
  {
   "cell_type": "markdown",
   "id": "2fa087be-13de-42b0-a2e4-bcb1ff9c2818",
   "metadata": {},
   "source": [
    "Initialize unique cell types "
   ]
  },
  {
   "cell_type": "code",
   "execution_count": 7,
   "id": "96839f69-d7c9-458d-b6d7-bd34469b3577",
   "metadata": {},
   "outputs": [],
   "source": [
    "celltype_unique = np.unique(adata_real_rna.obs[\"cell_type\"])  # unique cell type \n",
    "adata_real_rna = adata_real_rna[:, adata_real_rna.var.highly_variable]\n",
    "adata_real_atac = adata_real_atac[:, adata_real_atac.var.highly_variable]"
   ]
  },
  {
   "cell_type": "markdown",
   "id": "0f1c0b3b-a39a-4e81-b885-f413a0dcfe21",
   "metadata": {},
   "source": [
    "# Collect generated data "
   ]
  },
  {
   "cell_type": "markdown",
   "id": "9fb9e769-4589-421a-9182-05ceb8c330bd",
   "metadata": {},
   "source": [
    "RNA generated "
   ]
  },
  {
   "cell_type": "code",
   "execution_count": 8,
   "id": "3bbde9e8-4f0a-46d4-927c-5dba8f594413",
   "metadata": {},
   "outputs": [
    {
     "name": "stderr",
     "output_type": "stream",
     "text": [
      "/tmp/ipykernel_1124921/691736577.py:5: ImplicitModificationWarning: Setting element `.obsm['X_pca']` of view, initializing view as actual.\n",
      "  adata_generated_rna.obsm[\"X_pca\"] = adata_generated_rna.X.toarray().dot(adata_real_rna.varm[\"PCs\"])\n"
     ]
    }
   ],
   "source": [
    "adata_generated_path_rna = DATA_DIR / \"generated/pbmc10k_multimodal/generated_cells_0_rna.h5ad\"\n",
    "adata_generated_rna = sc.read_h5ad(adata_generated_path_rna)\n",
    "adata_generated_rna.var = vars_rna\n",
    "adata_generated_rna = adata_generated_rna[:, adata_generated_rna.var.highly_variable]\n",
    "adata_generated_rna.obsm[\"X_pca\"] = adata_generated_rna.X.toarray().dot(adata_real_rna.varm[\"PCs\"])"
   ]
  },
  {
   "cell_type": "markdown",
   "id": "cfedd0e9-3e60-42aa-a1bd-c9412956a15c",
   "metadata": {},
   "source": [
    "ATAC generated "
   ]
  },
  {
   "cell_type": "code",
   "execution_count": 9,
   "id": "331e1060-d2f0-41f4-9d07-7507160a20ee",
   "metadata": {},
   "outputs": [
    {
     "name": "stderr",
     "output_type": "stream",
     "text": [
      "/tmp/ipykernel_1124921/3201554693.py:6: ImplicitModificationWarning: Setting element `.obsm['X_pca']` of view, initializing view as actual.\n",
      "  adata_generated_atac.obsm[\"X_pca\"] = adata_generated_atac.X.toarray().dot(adata_real_atac.varm[\"PCs\"])\n"
     ]
    }
   ],
   "source": [
    "adata_generated_path_atac = DATA_DIR / \"generated/pbmc10k_multimodal/generated_cells_0_atac.h5ad\"\n",
    "adata_generated_atac = sc.read_h5ad(adata_generated_path_atac)\n",
    "adata_generated_atac.var = vars_atac\n",
    "ac.pp.tfidf(adata_generated_atac, scale_factor=1e4)\n",
    "adata_generated_atac = adata_generated_atac[:, adata_generated_atac.var.highly_variable]\n",
    "adata_generated_atac.obsm[\"X_pca\"] = adata_generated_atac.X.toarray().dot(adata_real_atac.varm[\"PCs\"])"
   ]
  },
  {
   "cell_type": "markdown",
   "id": "01f28b35-321e-4b27-a5ef-73be3ff4cffc",
   "metadata": {},
   "source": [
    "## Compute metrics"
   ]
  },
  {
   "cell_type": "code",
   "execution_count": 10,
   "id": "e648d282-92cf-4b91-a597-d9249b9acbcc",
   "metadata": {
    "scrolled": true
   },
   "outputs": [
    {
     "name": "stdout",
     "output_type": "stream",
     "text": [
      "Evaluating for celldreamer_rna\n",
      "Real (79, 2000)\n",
      "Generated (83, 2000)\n",
      "Evaluating for celldreamer_atac\n",
      "Real (79, 10000)\n",
      "Generated (83, 10000)\n",
      "Evaluating for celldreamer_rna\n",
      "Real (97, 2000)\n",
      "Generated (83, 2000)\n",
      "Evaluating for celldreamer_atac\n",
      "Real (97, 10000)\n",
      "Generated (83, 10000)\n",
      "Evaluating for celldreamer_rna\n",
      "Real (21, 2000)\n",
      "Generated (22, 2000)\n",
      "Evaluating for celldreamer_atac\n",
      "Real (21, 10000)\n",
      "Generated (22, 10000)\n",
      "Evaluating for celldreamer_rna\n",
      "Real (366, 2000)\n",
      "Generated (358, 2000)\n",
      "Evaluating for celldreamer_atac\n",
      "Real (366, 10000)\n",
      "Generated (358, 10000)\n",
      "Evaluating for celldreamer_rna\n",
      "Real (84, 2000)\n",
      "Generated (93, 2000)\n",
      "Evaluating for celldreamer_atac\n",
      "Real (84, 10000)\n",
      "Generated (93, 10000)\n",
      "Evaluating for celldreamer_rna\n",
      "Real (151, 2000)\n",
      "Generated (158, 2000)\n",
      "Evaluating for celldreamer_atac\n",
      "Real (151, 10000)\n",
      "Generated (158, 10000)\n",
      "Evaluating for celldreamer_rna\n",
      "Real (105, 2000)\n",
      "Generated (106, 2000)\n",
      "Evaluating for celldreamer_atac\n",
      "Real (105, 10000)\n",
      "Generated (106, 10000)\n",
      "Evaluating for celldreamer_rna\n",
      "Real (332, 2000)\n",
      "Generated (336, 2000)\n",
      "Evaluating for celldreamer_atac\n",
      "Real (332, 10000)\n",
      "Generated (336, 10000)\n",
      "Evaluating for celldreamer_rna\n",
      "Real (49, 2000)\n",
      "Generated (40, 2000)\n",
      "Evaluating for celldreamer_atac\n",
      "Real (49, 10000)\n",
      "Generated (40, 10000)\n",
      "Evaluating for celldreamer_rna\n",
      "Real (55, 2000)\n",
      "Generated (59, 2000)\n",
      "Evaluating for celldreamer_atac\n",
      "Real (55, 10000)\n",
      "Generated (59, 10000)\n",
      "Evaluating for celldreamer_rna\n",
      "Real (280, 2000)\n",
      "Generated (271, 2000)\n",
      "Evaluating for celldreamer_atac\n",
      "Real (280, 10000)\n",
      "Generated (271, 10000)\n",
      "Evaluating for celldreamer_rna\n",
      "Real (304, 2000)\n",
      "Generated (308, 2000)\n",
      "Evaluating for celldreamer_atac\n",
      "Real (304, 10000)\n",
      "Generated (308, 10000)\n",
      "Evaluating for celldreamer_rna\n",
      "Real (64, 2000)\n",
      "Generated (65, 2000)\n",
      "Evaluating for celldreamer_atac\n",
      "Real (64, 10000)\n",
      "Generated (65, 10000)\n",
      "Evaluating for celldreamer_rna\n",
      "Real (13, 2000)\n",
      "Generated (18, 2000)\n",
      "Evaluating for celldreamer_atac\n",
      "Real (13, 10000)\n",
      "Generated (18, 10000)\n"
     ]
    }
   ],
   "source": [
    "for ct in celltype_unique:\n",
    "    adata_real_ct_atac = adata_real_atac[adata_real_atac.obs[\"cell_type\"]==ct]\n",
    "    adata_real_ct_rna = adata_real_rna[adata_real_rna.obs[\"cell_type\"]==ct]\n",
    "    adata_generated_rna_ct = adata_generated_rna[adata_generated_rna.obs[\"cell_type\"]==ct]\n",
    "    adata_generated_atac_ct = adata_generated_atac[adata_generated_atac.obs[\"cell_type\"]==ct]\n",
    "    results_rna_ct = compute_evaluation_metrics(adata_real_ct_rna, \n",
    "                                                            adata_generated_rna_ct, \n",
    "                                                            \"cell_type\",\n",
    "                                                            \"celldreamer_rna\",\n",
    "                                                            nn=10, \n",
    "                                                            original_space=True, \n",
    "                                                            knn_pca=None, \n",
    "                                                            knn_data=None)\n",
    "\n",
    "    results_atac_ct = compute_evaluation_metrics(adata_real_ct_atac, \n",
    "                                                                adata_generated_atac_ct,\n",
    "                                                                \"cell_type\", \n",
    "                                                                \"celldreamer_atac\",\n",
    "                                                                nn=10, \n",
    "                                                                original_space=True,\n",
    "                                                                knn_pca=None, \n",
    "                                                                knn_data=None)\n",
    "\n",
    "    results_rna_ct[\"ct\"] = ct\n",
    "    results_atac_ct[\"ct\"] = ct\n",
    "    results_rna = add_to_dict(results_rna, results_rna_ct)\n",
    "    results_atac = add_to_dict(results_atac, results_atac_ct)"
   ]
  },
  {
   "cell_type": "markdown",
   "id": "db171e14-0789-404a-9eb9-651d74fdbfc8",
   "metadata": {},
   "source": [
    "## Print metrics "
   ]
  },
  {
   "cell_type": "code",
   "execution_count": 11,
   "id": "8cb4222a-e3de-46aa-b584-8cc37665dac6",
   "metadata": {},
   "outputs": [],
   "source": [
    "results_rna_df = pd.DataFrame(results_rna)\n",
    "results_atac_df = pd.DataFrame(results_atac)"
   ]
  },
  {
   "cell_type": "markdown",
   "id": "5a3f022d-03e3-48ec-800d-971f0442e285",
   "metadata": {},
   "source": [
    "Cell type metrics"
   ]
  },
  {
   "cell_type": "code",
   "execution_count": 12,
   "id": "d47c89fa-37e2-43d0-940e-0469b63f75da",
   "metadata": {
    "scrolled": true
   },
   "outputs": [
    {
     "data": {
      "text/html": [
       "<div>\n",
       "<style scoped>\n",
       "    .dataframe tbody tr th:only-of-type {\n",
       "        vertical-align: middle;\n",
       "    }\n",
       "\n",
       "    .dataframe tbody tr th {\n",
       "        vertical-align: top;\n",
       "    }\n",
       "\n",
       "    .dataframe thead th {\n",
       "        text-align: right;\n",
       "    }\n",
       "</style>\n",
       "<table border=\"1\" class=\"dataframe\">\n",
       "  <thead>\n",
       "    <tr style=\"text-align: right;\">\n",
       "      <th></th>\n",
       "      <th>1-Wasserstein_PCA</th>\n",
       "      <th>2-Wasserstein_PCA</th>\n",
       "      <th>Linear_MMD_PCA</th>\n",
       "      <th>RBF_MMD_PCA</th>\n",
       "    </tr>\n",
       "    <tr>\n",
       "      <th>ct</th>\n",
       "      <th></th>\n",
       "      <th></th>\n",
       "      <th></th>\n",
       "      <th></th>\n",
       "    </tr>\n",
       "  </thead>\n",
       "  <tbody>\n",
       "    <tr>\n",
       "      <th>CD56 (bright) NK cells</th>\n",
       "      <td>13.901363</td>\n",
       "      <td>13.964614</td>\n",
       "      <td>164.205963</td>\n",
       "      <td>0.949198</td>\n",
       "    </tr>\n",
       "    <tr>\n",
       "      <th>CD56 (dim) NK cells</th>\n",
       "      <td>14.048255</td>\n",
       "      <td>14.101911</td>\n",
       "      <td>170.092728</td>\n",
       "      <td>0.944428</td>\n",
       "    </tr>\n",
       "    <tr>\n",
       "      <th>MAIT T cells</th>\n",
       "      <td>14.268748</td>\n",
       "      <td>14.293383</td>\n",
       "      <td>160.173111</td>\n",
       "      <td>1.135228</td>\n",
       "    </tr>\n",
       "    <tr>\n",
       "      <th>classical monocytes</th>\n",
       "      <td>13.617093</td>\n",
       "      <td>13.694747</td>\n",
       "      <td>153.147125</td>\n",
       "      <td>0.717228</td>\n",
       "    </tr>\n",
       "    <tr>\n",
       "      <th>effector CD8 T cells</th>\n",
       "      <td>14.366707</td>\n",
       "      <td>14.430833</td>\n",
       "      <td>166.116928</td>\n",
       "      <td>0.862776</td>\n",
       "    </tr>\n",
       "    <tr>\n",
       "      <th>intermediate monocytes</th>\n",
       "      <td>13.538783</td>\n",
       "      <td>13.618487</td>\n",
       "      <td>152.128418</td>\n",
       "      <td>0.761678</td>\n",
       "    </tr>\n",
       "    <tr>\n",
       "      <th>memory B cells</th>\n",
       "      <td>13.775281</td>\n",
       "      <td>13.825853</td>\n",
       "      <td>162.347321</td>\n",
       "      <td>0.887582</td>\n",
       "    </tr>\n",
       "    <tr>\n",
       "      <th>memory CD4 T cells</th>\n",
       "      <td>14.195701</td>\n",
       "      <td>14.251613</td>\n",
       "      <td>172.447113</td>\n",
       "      <td>0.847939</td>\n",
       "    </tr>\n",
       "    <tr>\n",
       "      <th>myeloid DC</th>\n",
       "      <td>13.217821</td>\n",
       "      <td>13.347065</td>\n",
       "      <td>129.638779</td>\n",
       "      <td>0.776392</td>\n",
       "    </tr>\n",
       "    <tr>\n",
       "      <th>naive B cells</th>\n",
       "      <td>13.994611</td>\n",
       "      <td>14.031411</td>\n",
       "      <td>165.519226</td>\n",
       "      <td>0.992349</td>\n",
       "    </tr>\n",
       "    <tr>\n",
       "      <th>naive CD4 T cells</th>\n",
       "      <td>14.261063</td>\n",
       "      <td>14.312310</td>\n",
       "      <td>178.955582</td>\n",
       "      <td>0.913176</td>\n",
       "    </tr>\n",
       "    <tr>\n",
       "      <th>naive CD8 T cells</th>\n",
       "      <td>13.808250</td>\n",
       "      <td>13.851429</td>\n",
       "      <td>169.535248</td>\n",
       "      <td>0.922365</td>\n",
       "    </tr>\n",
       "    <tr>\n",
       "      <th>non-classical monocytes</th>\n",
       "      <td>12.786214</td>\n",
       "      <td>12.839073</td>\n",
       "      <td>139.566620</td>\n",
       "      <td>0.880073</td>\n",
       "    </tr>\n",
       "    <tr>\n",
       "      <th>plasmacytoid DC</th>\n",
       "      <td>15.027110</td>\n",
       "      <td>15.063650</td>\n",
       "      <td>191.985214</td>\n",
       "      <td>1.490217</td>\n",
       "    </tr>\n",
       "  </tbody>\n",
       "</table>\n",
       "</div>"
      ],
      "text/plain": [
       "                         1-Wasserstein_PCA  2-Wasserstein_PCA  Linear_MMD_PCA  \\\n",
       "ct                                                                              \n",
       "CD56 (bright) NK cells           13.901363          13.964614      164.205963   \n",
       "CD56 (dim) NK cells              14.048255          14.101911      170.092728   \n",
       "MAIT T cells                     14.268748          14.293383      160.173111   \n",
       "classical monocytes              13.617093          13.694747      153.147125   \n",
       "effector CD8 T cells             14.366707          14.430833      166.116928   \n",
       "intermediate monocytes           13.538783          13.618487      152.128418   \n",
       "memory B cells                   13.775281          13.825853      162.347321   \n",
       "memory CD4 T cells               14.195701          14.251613      172.447113   \n",
       "myeloid DC                       13.217821          13.347065      129.638779   \n",
       "naive B cells                    13.994611          14.031411      165.519226   \n",
       "naive CD4 T cells                14.261063          14.312310      178.955582   \n",
       "naive CD8 T cells                13.808250          13.851429      169.535248   \n",
       "non-classical monocytes          12.786214          12.839073      139.566620   \n",
       "plasmacytoid DC                  15.027110          15.063650      191.985214   \n",
       "\n",
       "                         RBF_MMD_PCA  \n",
       "ct                                    \n",
       "CD56 (bright) NK cells      0.949198  \n",
       "CD56 (dim) NK cells         0.944428  \n",
       "MAIT T cells                1.135228  \n",
       "classical monocytes         0.717228  \n",
       "effector CD8 T cells        0.862776  \n",
       "intermediate monocytes      0.761678  \n",
       "memory B cells              0.887582  \n",
       "memory CD4 T cells          0.847939  \n",
       "myeloid DC                  0.776392  \n",
       "naive B cells               0.992349  \n",
       "naive CD4 T cells           0.913176  \n",
       "naive CD8 T cells           0.922365  \n",
       "non-classical monocytes     0.880073  \n",
       "plasmacytoid DC             1.490217  "
      ]
     },
     "execution_count": 12,
     "metadata": {},
     "output_type": "execute_result"
    }
   ],
   "source": [
    "results_rna_df.groupby(\"ct\").mean()"
   ]
  },
  {
   "cell_type": "code",
   "execution_count": 13,
   "id": "3b4da4c9-fb8f-45c0-b494-e247feb93eb5",
   "metadata": {},
   "outputs": [
    {
     "data": {
      "text/html": [
       "<div>\n",
       "<style scoped>\n",
       "    .dataframe tbody tr th:only-of-type {\n",
       "        vertical-align: middle;\n",
       "    }\n",
       "\n",
       "    .dataframe tbody tr th {\n",
       "        vertical-align: top;\n",
       "    }\n",
       "\n",
       "    .dataframe thead th {\n",
       "        text-align: right;\n",
       "    }\n",
       "</style>\n",
       "<table border=\"1\" class=\"dataframe\">\n",
       "  <thead>\n",
       "    <tr style=\"text-align: right;\">\n",
       "      <th></th>\n",
       "      <th>1-Wasserstein_PCA</th>\n",
       "      <th>2-Wasserstein_PCA</th>\n",
       "      <th>Linear_MMD_PCA</th>\n",
       "      <th>RBF_MMD_PCA</th>\n",
       "    </tr>\n",
       "    <tr>\n",
       "      <th>ct</th>\n",
       "      <th></th>\n",
       "      <th></th>\n",
       "      <th></th>\n",
       "      <th></th>\n",
       "    </tr>\n",
       "  </thead>\n",
       "  <tbody>\n",
       "    <tr>\n",
       "      <th>CD56 (bright) NK cells</th>\n",
       "      <td>17.549646</td>\n",
       "      <td>18.153809</td>\n",
       "      <td>141.890717</td>\n",
       "      <td>1.115963</td>\n",
       "    </tr>\n",
       "    <tr>\n",
       "      <th>CD56 (dim) NK cells</th>\n",
       "      <td>17.073234</td>\n",
       "      <td>17.711090</td>\n",
       "      <td>166.354004</td>\n",
       "      <td>1.132415</td>\n",
       "    </tr>\n",
       "    <tr>\n",
       "      <th>MAIT T cells</th>\n",
       "      <td>17.802936</td>\n",
       "      <td>18.763143</td>\n",
       "      <td>95.825935</td>\n",
       "      <td>1.255773</td>\n",
       "    </tr>\n",
       "    <tr>\n",
       "      <th>classical monocytes</th>\n",
       "      <td>18.084646</td>\n",
       "      <td>19.047541</td>\n",
       "      <td>136.628464</td>\n",
       "      <td>0.757537</td>\n",
       "    </tr>\n",
       "    <tr>\n",
       "      <th>effector CD8 T cells</th>\n",
       "      <td>23.598734</td>\n",
       "      <td>25.774977</td>\n",
       "      <td>227.464279</td>\n",
       "      <td>0.998872</td>\n",
       "    </tr>\n",
       "    <tr>\n",
       "      <th>intermediate monocytes</th>\n",
       "      <td>19.016929</td>\n",
       "      <td>20.085134</td>\n",
       "      <td>143.168152</td>\n",
       "      <td>0.789143</td>\n",
       "    </tr>\n",
       "    <tr>\n",
       "      <th>memory B cells</th>\n",
       "      <td>16.921557</td>\n",
       "      <td>17.679772</td>\n",
       "      <td>123.306808</td>\n",
       "      <td>0.840780</td>\n",
       "    </tr>\n",
       "    <tr>\n",
       "      <th>memory CD4 T cells</th>\n",
       "      <td>17.051328</td>\n",
       "      <td>18.060486</td>\n",
       "      <td>98.650558</td>\n",
       "      <td>0.826709</td>\n",
       "    </tr>\n",
       "    <tr>\n",
       "      <th>myeloid DC</th>\n",
       "      <td>18.982511</td>\n",
       "      <td>20.158217</td>\n",
       "      <td>18.451290</td>\n",
       "      <td>0.793022</td>\n",
       "    </tr>\n",
       "    <tr>\n",
       "      <th>naive B cells</th>\n",
       "      <td>15.084010</td>\n",
       "      <td>15.625309</td>\n",
       "      <td>89.797333</td>\n",
       "      <td>0.860073</td>\n",
       "    </tr>\n",
       "    <tr>\n",
       "      <th>naive CD4 T cells</th>\n",
       "      <td>16.627986</td>\n",
       "      <td>17.865453</td>\n",
       "      <td>111.671761</td>\n",
       "      <td>0.858815</td>\n",
       "    </tr>\n",
       "    <tr>\n",
       "      <th>naive CD8 T cells</th>\n",
       "      <td>17.126974</td>\n",
       "      <td>18.176849</td>\n",
       "      <td>118.550301</td>\n",
       "      <td>0.889781</td>\n",
       "    </tr>\n",
       "    <tr>\n",
       "      <th>non-classical monocytes</th>\n",
       "      <td>17.159433</td>\n",
       "      <td>18.147732</td>\n",
       "      <td>190.758942</td>\n",
       "      <td>0.831276</td>\n",
       "    </tr>\n",
       "    <tr>\n",
       "      <th>plasmacytoid DC</th>\n",
       "      <td>22.225595</td>\n",
       "      <td>23.767458</td>\n",
       "      <td>-87.365532</td>\n",
       "      <td>1.390642</td>\n",
       "    </tr>\n",
       "  </tbody>\n",
       "</table>\n",
       "</div>"
      ],
      "text/plain": [
       "                         1-Wasserstein_PCA  2-Wasserstein_PCA  Linear_MMD_PCA  \\\n",
       "ct                                                                              \n",
       "CD56 (bright) NK cells           17.549646          18.153809      141.890717   \n",
       "CD56 (dim) NK cells              17.073234          17.711090      166.354004   \n",
       "MAIT T cells                     17.802936          18.763143       95.825935   \n",
       "classical monocytes              18.084646          19.047541      136.628464   \n",
       "effector CD8 T cells             23.598734          25.774977      227.464279   \n",
       "intermediate monocytes           19.016929          20.085134      143.168152   \n",
       "memory B cells                   16.921557          17.679772      123.306808   \n",
       "memory CD4 T cells               17.051328          18.060486       98.650558   \n",
       "myeloid DC                       18.982511          20.158217       18.451290   \n",
       "naive B cells                    15.084010          15.625309       89.797333   \n",
       "naive CD4 T cells                16.627986          17.865453      111.671761   \n",
       "naive CD8 T cells                17.126974          18.176849      118.550301   \n",
       "non-classical monocytes          17.159433          18.147732      190.758942   \n",
       "plasmacytoid DC                  22.225595          23.767458      -87.365532   \n",
       "\n",
       "                         RBF_MMD_PCA  \n",
       "ct                                    \n",
       "CD56 (bright) NK cells      1.115963  \n",
       "CD56 (dim) NK cells         1.132415  \n",
       "MAIT T cells                1.255773  \n",
       "classical monocytes         0.757537  \n",
       "effector CD8 T cells        0.998872  \n",
       "intermediate monocytes      0.789143  \n",
       "memory B cells              0.840780  \n",
       "memory CD4 T cells          0.826709  \n",
       "myeloid DC                  0.793022  \n",
       "naive B cells               0.860073  \n",
       "naive CD4 T cells           0.858815  \n",
       "naive CD8 T cells           0.889781  \n",
       "non-classical monocytes     0.831276  \n",
       "plasmacytoid DC             1.390642  "
      ]
     },
     "execution_count": 13,
     "metadata": {},
     "output_type": "execute_result"
    }
   ],
   "source": [
    "results_atac_df.groupby(\"ct\").mean()"
   ]
  },
  {
   "cell_type": "code",
   "execution_count": null,
   "id": "033a5875-a191-479e-a6d3-9c463a639d71",
   "metadata": {},
   "outputs": [],
   "source": []
  }
 ],
 "metadata": {
  "kernelspec": {
   "display_name": "Python 3 (ipykernel)",
   "language": "python",
   "name": "python3"
  },
  "language_info": {
   "codemirror_mode": {
    "name": "ipython",
    "version": 3
   },
   "file_extension": ".py",
   "mimetype": "text/x-python",
   "name": "python",
   "nbconvert_exporter": "python",
   "pygments_lexer": "ipython3",
   "version": "3.10.16"
  }
 },
 "nbformat": 4,
 "nbformat_minor": 5
}
