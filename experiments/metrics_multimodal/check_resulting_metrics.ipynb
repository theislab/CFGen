{
 "cells": [
  {
   "cell_type": "code",
   "execution_count": 46,
   "id": "d317ecff-105c-44ba-8c1e-6d55ccc38b7f",
   "metadata": {},
   "outputs": [],
   "source": [
    "import pandas as pd\n",
    "import numpy as np"
   ]
  },
  {
   "cell_type": "code",
   "execution_count": 47,
   "id": "c2f74d63-ac75-4abc-950b-6f7f1d913294",
   "metadata": {},
   "outputs": [],
   "source": [
    "def compute_mean_std(results):\n",
    "    means = results.mean(0)\n",
    "    stds = results.std(0) / np.sqrt(results.shape[0])\n",
    "    for (name, mean, std) in zip(list(means.index), list(means), list(stds)):\n",
    "        print(f\"{name} {np.round(mean, 2)} ± {np.round(std,2)}\")"
   ]
  },
  {
   "cell_type": "code",
   "execution_count": 65,
   "id": "a725bb20-b216-4be5-bb2f-83d05b1d1d60",
   "metadata": {},
   "outputs": [
    {
     "data": {
      "text/plain": [
       "AnnData object with n_obs × n_vars = 2000 × 25604\n",
       "    obs: 'cell_type'\n",
       "    uns: 'log1p', 'neighbors', 'pca', 'umap'\n",
       "    obsm: 'X_pca', 'X_umap'\n",
       "    varm: 'PCs'\n",
       "    layers: 'X_counts'\n",
       "    obsp: 'connectivities', 'distances'"
      ]
     },
     "execution_count": 65,
     "metadata": {},
     "output_type": "execute_result"
    }
   ],
   "source": [
    "import scanpy as sc\n",
    "sc.read_h5ad(\"/home/icb/alessandro.palma/environment/cfgen/project_folder/baseline_experiments/multivi/pbmc/generated/expression/pbmc10k_multimodal_1.h5ad\")"
   ]
  },
  {
   "cell_type": "markdown",
   "id": "1f243940-8268-4d38-8a01-06466cd26b0e",
   "metadata": {},
   "source": [
    "# PBMC"
   ]
  },
  {
   "cell_type": "code",
   "execution_count": 66,
   "id": "a4e01ab1-ae8d-465b-bbfb-7bf190cfca94",
   "metadata": {},
   "outputs": [],
   "source": [
    "celldreamer_rna = pd.read_csv(\"/home/icb/alessandro.palma/environment/cfgen/experiments/metrics_multimodal/results_pbmc/results_celldreamer_rna\")\n",
    "celldreamer_atac = pd.read_csv(\"/home/icb/alessandro.palma/environment/cfgen/experiments/metrics_multimodal/results_pbmc/results_celldreamer_atac\")\n",
    "multivi_rna = pd.read_csv(\"/home/icb/alessandro.palma/environment/cfgen/experiments/metrics_multimodal/results_pbmc/results_multivi_rna\")\n",
    "multivi_atac = pd.read_csv(\"/home/icb/alessandro.palma/environment/cfgen/experiments/metrics_multimodal/results_pbmc/results_multivi_atac\")\n",
    "peakvi_atac = pd.read_csv(\"/home/icb/alessandro.palma/environment/cfgen/experiments/metrics_multimodal/results_pbmc/results_peakvi_atac\")\n",
    "scvi_rna = pd.read_csv(\"/home/icb/alessandro.palma/environment/cfgen/experiments/metrics_multimodal/results_pbmc/results_scvi_rna\")\n",
    "sc_scdiffusion = pd.read_csv(\"/home/icb/alessandro.palma/environment/cfgen/experiments/metrics_multimodal/results_pbmc/results_scdiffusion_rna\")\n",
    "celldreamer_rna_only = pd.read_csv(\"/home/icb/alessandro.palma/environment/cfgen/experiments/metrics_multimodal/results_pbmc/results_celldreamer_rna_only\")"
   ]
  },
  {
   "cell_type": "code",
   "execution_count": 68,
   "id": "b153fdf4-8956-404f-b248-be4121fcdcca",
   "metadata": {},
   "outputs": [
    {
     "name": "stdout",
     "output_type": "stream",
     "text": [
      "Unnamed: 0 19.0 ± 1.83\n",
      "1-Wasserstein_PCA 14.77 ± 0.11\n",
      "2-Wasserstein_PCA 14.82 ± 0.11\n",
      "Linear_MMD_PCA 191.82 ± 3.49\n",
      "Poly_MMD_PCA 96946.02 ± 10891.02\n",
      "RBF_MMD_PCA 1.02 ± 0.02\n",
      "KNN identity 0.39 ± 0.01\n",
      "KNN identity PCA 1.0 ± 0.0\n",
      "precision 1.0 ± 0.0\n",
      "recall 0.0 ± 0.0\n",
      "density 8.77 ± 1.17\n",
      "coverage 1.0 ± 0.0\n",
      "precision_PCA 0.0 ± 0.0\n",
      "recall_PCA 0.0 ± 0.0\n",
      "density_PCA 0.0 ± 0.0\n",
      "coverage_PCA 0.0 ± 0.0\n",
      "KNN category 0.18 ± 0.02\n",
      "KNN category PCA 0.22 ± 0.02\n",
      "global_f1 0.61 ± 0.0\n"
     ]
    }
   ],
   "source": [
    "compute_mean_std(sc_scdiffusion.drop(columns=[\"ct\"]))"
   ]
  },
  {
   "cell_type": "code",
   "execution_count": 69,
   "id": "9dc101fd-74fc-446e-85e8-ac2efc990d30",
   "metadata": {},
   "outputs": [
    {
     "name": "stdout",
     "output_type": "stream",
     "text": [
      "Unnamed: 0 19.0 ± 1.83\n",
      "1-Wasserstein_PCA 13.83 ± 0.07\n",
      "2-Wasserstein_PCA 13.9 ± 0.07\n",
      "Linear_MMD_PCA 160.51 ± 2.22\n",
      "Poly_MMD_PCA 79987.71 ± 9938.88\n",
      "RBF_MMD_PCA 0.89 ± 0.02\n",
      "KNN identity 0.6 ± 0.03\n",
      "KNN identity PCA 1.0 ± 0.0\n",
      "precision 0.32 ± 0.03\n",
      "recall 0.85 ± 0.02\n",
      "density 0.23 ± 0.03\n",
      "coverage 0.66 ± 0.05\n",
      "precision_PCA 0.0 ± 0.0\n",
      "recall_PCA 0.0 ± 0.0\n",
      "density_PCA 0.0 ± 0.0\n",
      "coverage_PCA 0.0 ± 0.0\n",
      "KNN category 0.35 ± 0.05\n",
      "KNN category PCA 0.32 ± 0.03\n",
      "global_f1 0.65 ± 0.0\n"
     ]
    }
   ],
   "source": [
    "compute_mean_std(celldreamer_rna.drop(columns=[\"ct\"]))"
   ]
  },
  {
   "cell_type": "code",
   "execution_count": 70,
   "id": "340ea817-7a36-4f0c-b8d8-56981f3202c3",
   "metadata": {
    "scrolled": true
   },
   "outputs": [
    {
     "name": "stdout",
     "output_type": "stream",
     "text": [
      "Unnamed: 0 19.0 ± 1.83\n",
      "1-Wasserstein_PCA 17.85 ± 0.31\n",
      "2-Wasserstein_PCA 18.86 ± 0.37\n",
      "Linear_MMD_PCA 128.22 ± 7.71\n",
      "Poly_MMD_PCA 87860.8 ± 11110.44\n",
      "RBF_MMD_PCA 0.92 ± 0.02\n",
      "KNN identity 0.45 ± 0.03\n",
      "KNN identity PCA 1.0 ± 0.0\n",
      "precision 0.17 ± 0.03\n",
      "recall 0.25 ± 0.03\n",
      "density 0.54 ± 0.07\n",
      "coverage 0.89 ± 0.05\n",
      "precision_PCA 0.85 ± 0.05\n",
      "recall_PCA 0.0 ± 0.0\n",
      "density_PCA 0.39 ± 0.06\n",
      "coverage_PCA 0.16 ± 0.03\n",
      "KNN category 0.08 ± 0.04\n",
      "KNN category PCA 0.23 ± 0.03\n",
      "global_f1 0.02 ± 0.0\n"
     ]
    }
   ],
   "source": [
    "compute_mean_std(celldreamer_atac.drop(columns=[\"ct\"]))"
   ]
  },
  {
   "cell_type": "code",
   "execution_count": 55,
   "id": "8b9f3887-2b79-4c62-b528-6bd0604a4339",
   "metadata": {},
   "outputs": [
    {
     "name": "stdout",
     "output_type": "stream",
     "text": [
      "Unnamed: 0 19.0 ± 1.83\n",
      "1-Wasserstein_PCA 14.32 ± 0.11\n",
      "2-Wasserstein_PCA 14.38 ± 0.11\n",
      "Linear_MMD_PCA 177.12 ± 3.33\n",
      "Poly_MMD_PCA 90326.56 ± 10773.11\n",
      "RBF_MMD_PCA 0.95 ± 0.02\n",
      "KNN identity 0.53 ± 0.03\n",
      "KNN identity PCA 1.0 ± 0.0\n",
      "precision 0.53 ± 0.03\n",
      "recall 0.82 ± 0.02\n",
      "density 0.39 ± 0.03\n",
      "coverage 0.89 ± 0.02\n",
      "precision_PCA 0.0 ± 0.0\n",
      "recall_PCA 0.0 ± 0.0\n",
      "density_PCA 0.0 ± 0.0\n",
      "coverage_PCA 0.0 ± 0.0\n",
      "KNN category 0.34 ± 0.04\n",
      "KNN category PCA 0.36 ± 0.04\n",
      "global_f1 0.67 ± 0.0\n"
     ]
    }
   ],
   "source": [
    "compute_mean_std(scvi_rna.drop(columns=[\"ct\"]))"
   ]
  },
  {
   "cell_type": "code",
   "execution_count": 57,
   "id": "50b133a5-2e80-48cf-8dea-44282cc0169e",
   "metadata": {},
   "outputs": [
    {
     "name": "stdout",
     "output_type": "stream",
     "text": [
      "Unnamed: 0 19.0 ± 1.83\n",
      "1-Wasserstein_PCA 15.54 ± 0.23\n",
      "2-Wasserstein_PCA 15.92 ± 0.25\n",
      "Linear_MMD_PCA 194.3 ± 8.93\n",
      "Poly_MMD_PCA 42583.37 ± 3316.76\n",
      "RBF_MMD_PCA 0.86 ± 0.03\n",
      "KNN identity 0.84 ± 0.01\n",
      "KNN identity PCA 1.0 ± 0.0\n",
      "precision 0.28 ± 0.03\n",
      "recall 0.81 ± 0.02\n",
      "density 0.19 ± 0.03\n",
      "coverage 0.56 ± 0.05\n",
      "precision_PCA 0.0 ± 0.0\n",
      "recall_PCA 0.0 ± 0.0\n",
      "density_PCA 0.0 ± 0.0\n",
      "coverage_PCA 0.0 ± 0.0\n",
      "KNN category 0.08 ± 0.01\n",
      "KNN category PCA 0.09 ± 0.01\n",
      "global_f1 0.39 ± 0.0\n"
     ]
    }
   ],
   "source": [
    "compute_mean_std(multivi_rna.drop(columns=[\"ct\"]))"
   ]
  },
  {
   "cell_type": "code",
   "execution_count": 58,
   "id": "fd76693e-39ff-4f33-81f4-a8b0d07f7e6f",
   "metadata": {},
   "outputs": [
    {
     "name": "stdout",
     "output_type": "stream",
     "text": [
      "Unnamed: 0 19.0 ± 1.83\n",
      "1-Wasserstein_PCA 20.02 ± 0.3\n",
      "2-Wasserstein_PCA 21.09 ± 0.34\n",
      "Linear_MMD_PCA 204.75 ± 9.39\n",
      "Poly_MMD_PCA 96297.72 ± 10868.42\n",
      "RBF_MMD_PCA 0.96 ± 0.03\n",
      "KNN identity 0.33 ± 0.0\n",
      "KNN identity PCA 1.0 ± 0.0\n",
      "precision 0.02 ± 0.01\n",
      "recall 0.0 ± 0.0\n",
      "density 0.02 ± 0.01\n",
      "coverage 0.07 ± 0.04\n",
      "precision_PCA 0.43 ± 0.06\n",
      "recall_PCA 0.0 ± 0.0\n",
      "density_PCA 0.1 ± 0.02\n",
      "coverage_PCA 0.08 ± 0.02\n",
      "KNN category 0.08 ± 0.04\n",
      "KNN category PCA 0.1 ± 0.01\n",
      "global_f1 0.02 ± 0.0\n"
     ]
    }
   ],
   "source": [
    "compute_mean_std(multivi_atac.drop(columns=[\"ct\"]))"
   ]
  },
  {
   "cell_type": "code",
   "execution_count": 59,
   "id": "fc5edead-db75-43d7-9415-3eff216f7e78",
   "metadata": {},
   "outputs": [
    {
     "name": "stdout",
     "output_type": "stream",
     "text": [
      "Unnamed: 0 19.0 ± 1.83\n",
      "1-Wasserstein_PCA 19.97 ± 0.42\n",
      "2-Wasserstein_PCA 20.84 ± 0.45\n",
      "Linear_MMD_PCA 196.75 ± 11.48\n",
      "Poly_MMD_PCA 112554.62 ± 13665.56\n",
      "RBF_MMD_PCA 1.49 ± 0.02\n",
      "KNN identity 0.33 ± 0.0\n",
      "KNN identity PCA 0.99 ± 0.0\n",
      "precision 0.99 ± 0.0\n",
      "recall 0.0 ± 0.0\n",
      "density 15.1 ± 1.87\n",
      "coverage 1.0 ± 0.0\n",
      "precision_PCA 0.68 ± 0.06\n",
      "recall_PCA 0.0 ± 0.0\n",
      "density_PCA 0.44 ± 0.08\n",
      "coverage_PCA 0.17 ± 0.03\n",
      "KNN category 0.08 ± 0.04\n",
      "KNN category PCA 0.04 ± 0.01\n",
      "global_f1 0.02 ± 0.0\n"
     ]
    }
   ],
   "source": [
    "compute_mean_std(peakvi_atac.drop(columns=[\"ct\"]))"
   ]
  },
  {
   "cell_type": "markdown",
   "id": "3cd1c0d5-0c7e-465a-ab81-497b1e2f75df",
   "metadata": {},
   "source": [
    "# NEURIPS"
   ]
  },
  {
   "cell_type": "code",
   "execution_count": 60,
   "id": "b6b844a7-cede-4106-9b58-3cc4bce45566",
   "metadata": {},
   "outputs": [],
   "source": [
    "celldreamer_rna = pd.read_csv(\"/home/icb/alessandro.palma/environment/cfgen/experiments/metrics_multimodal/results_neurips/results_celldreamer_rna\")\n",
    "celldreamer_atac = pd.read_csv(\"/home/icb/alessandro.palma/environment/cfgen/experiments/metrics_multimodal/results_neurips/results_celldreamer_atac\")\n",
    "poissonvi_atac = pd.read_csv(\"/home/icb/alessandro.palma/environment/cfgen/experiments/metrics_multimodal/results_neurips/results_poissonvi_atac\")\n",
    "scvi_rna = pd.read_csv(\"/home/icb/alessandro.palma/environment/cfgen/experiments/metrics_multimodal/results_neurips/results_scvi_rna\")"
   ]
  },
  {
   "cell_type": "code",
   "execution_count": 16,
   "id": "abbbeecc-224d-4d4b-be13-0e857520760b",
   "metadata": {},
   "outputs": [
    {
     "data": {
      "text/plain": [
       "Unnamed: 0              31.000000\n",
       "1-Wasserstein_PCA       11.910189\n",
       "2-Wasserstein_PCA       12.065300\n",
       "Linear_MMD_PCA         139.262078\n",
       "Poly_MMD_PCA         68590.001372\n",
       "KNN identity             0.703864\n",
       "KNN identity PCA         0.982738\n",
       "precision                0.388348\n",
       "recall                   0.497068\n",
       "density                  0.805158\n",
       "coverage                 0.923669\n",
       "precision_PCA            0.544757\n",
       "recall_PCA               0.166501\n",
       "density_PCA              0.161657\n",
       "coverage_PCA             0.130223\n",
       "KNN category             0.133312\n",
       "KNN category PCA         0.135529\n",
       "global_f1                0.450766\n",
       "dtype: float64"
      ]
     },
     "execution_count": 16,
     "metadata": {},
     "output_type": "execute_result"
    }
   ],
   "source": [
    "celldreamer_rna.groupby(\"ct\").mean(0).mean(0)"
   ]
  },
  {
   "cell_type": "code",
   "execution_count": 17,
   "id": "bf0aedec-2c99-458a-b7c7-1c6ea4d878e1",
   "metadata": {},
   "outputs": [
    {
     "data": {
      "text/plain": [
       "Unnamed: 0               31.000000\n",
       "1-Wasserstein_PCA        27.017151\n",
       "2-Wasserstein_PCA        27.126560\n",
       "Linear_MMD_PCA          704.469777\n",
       "Poly_MMD_PCA         601545.196925\n",
       "KNN identity              0.455485\n",
       "KNN identity PCA          0.983773\n",
       "precision                 0.082471\n",
       "recall                    0.128769\n",
       "density                   0.150169\n",
       "coverage                  0.570192\n",
       "precision_PCA             0.201032\n",
       "recall_PCA                0.058982\n",
       "density_PCA               0.118573\n",
       "coverage_PCA              0.124737\n",
       "KNN category              0.039756\n",
       "KNN category PCA          0.052006\n",
       "global_f1                 0.091917\n",
       "dtype: float64"
      ]
     },
     "execution_count": 17,
     "metadata": {},
     "output_type": "execute_result"
    }
   ],
   "source": [
    "celldreamer_atac.groupby(\"ct\").mean(0).mean(0)"
   ]
  },
  {
   "cell_type": "code",
   "execution_count": 18,
   "id": "3f36b72b-13ac-46d9-865a-8a7976dd0452",
   "metadata": {},
   "outputs": [
    {
     "data": {
      "text/plain": [
       "Unnamed: 0               31.000000\n",
       "1-Wasserstein_PCA        22.503050\n",
       "2-Wasserstein_PCA        22.629804\n",
       "Linear_MMD_PCA          473.719218\n",
       "Poly_MMD_PCA         245705.063988\n",
       "KNN identity              0.566836\n",
       "KNN identity PCA          0.983101\n",
       "precision                 0.052286\n",
       "recall                    0.049340\n",
       "density                   0.976142\n",
       "coverage                  1.000000\n",
       "precision_PCA             0.426913\n",
       "recall_PCA                0.022670\n",
       "density_PCA               0.186957\n",
       "coverage_PCA              0.144951\n",
       "KNN category              0.024620\n",
       "KNN category PCA          0.019196\n",
       "global_f1                 0.065081\n",
       "dtype: float64"
      ]
     },
     "execution_count": 18,
     "metadata": {},
     "output_type": "execute_result"
    }
   ],
   "source": [
    "poissonvi_atac.groupby(\"ct\").mean(0).mean(0)"
   ]
  },
  {
   "cell_type": "code",
   "execution_count": 19,
   "id": "f7e38fae-6dd7-4097-972c-16d786d07ba1",
   "metadata": {},
   "outputs": [
    {
     "data": {
      "text/plain": [
       "Unnamed: 0              31.000000\n",
       "1-Wasserstein_PCA       10.210411\n",
       "2-Wasserstein_PCA       10.346405\n",
       "Linear_MMD_PCA         103.980658\n",
       "Poly_MMD_PCA         36590.699490\n",
       "KNN identity             0.666576\n",
       "KNN identity PCA         0.972877\n",
       "precision                0.439584\n",
       "recall                   0.519394\n",
       "density                  0.963363\n",
       "coverage                 0.962823\n",
       "precision_PCA            0.676445\n",
       "recall_PCA               0.099629\n",
       "density_PCA              0.264581\n",
       "coverage_PCA             0.158097\n",
       "KNN category             0.108399\n",
       "KNN category PCA         0.098960\n",
       "global_f1                0.410355\n",
       "dtype: float64"
      ]
     },
     "execution_count": 19,
     "metadata": {},
     "output_type": "execute_result"
    }
   ],
   "source": [
    "scvi_rna.groupby(\"ct\").mean(0).mean(0)"
   ]
  },
  {
   "cell_type": "code",
   "execution_count": null,
   "id": "d6e6e4fb-52c0-4a5e-b5f7-9a959e1ff8a6",
   "metadata": {},
   "outputs": [],
   "source": []
  }
 ],
 "metadata": {
  "kernelspec": {
   "display_name": "celldreamer",
   "language": "python",
   "name": "python3"
  },
  "language_info": {
   "codemirror_mode": {
    "name": "ipython",
    "version": 3
   },
   "file_extension": ".py",
   "mimetype": "text/x-python",
   "name": "python",
   "nbconvert_exporter": "python",
   "pygments_lexer": "ipython3",
   "version": "3.10.13 | packaged by conda-forge | (main, Oct 26 2023, 18:07:37) [GCC 12.3.0]"
  },
  "vscode": {
   "interpreter": {
    "hash": "82f90282f34198075f5290bab83b14d8af95ad5d91e9a53cbb3028b26a0d589e"
   }
  }
 },
 "nbformat": 4,
 "nbformat_minor": 5
}
